{
 "cells": [
  {
   "cell_type": "code",
   "execution_count": null,
   "metadata": {
    "id": "EvLdAAKjAjvb"
   },
   "outputs": [],
   "source": [
    "import pandas as pd"
   ]
  },
  {
   "cell_type": "code",
   "execution_count": null,
   "metadata": {
    "colab": {
     "base_uri": "https://localhost:8080/"
    },
    "executionInfo": {
     "elapsed": 1060,
     "status": "ok",
     "timestamp": 1752334350311,
     "user": {
      "displayName": "Rafael Cuer",
      "userId": "13186034730599541676"
     },
     "user_tz": 180
    },
    "id": "U7ZFEzQ6-RGl",
    "outputId": "3a648394-594c-4ebd-8e95-4ad7f161f178"
   },
   "outputs": [
    {
     "name": "stdout",
     "output_type": "stream",
     "text": [
      "Drive already mounted at /content/drive; to attempt to forcibly remount, call drive.mount(\"/content/drive\", force_remount=True).\n"
     ]
    }
   ],
   "source": [
    "from google.colab import drive\n",
    "drive.mount('/content/drive')\n",
    "path = '/content/drive/MyDrive/Tech Challenge 4/Obesity.csv'\n",
    "\n",
    "# path = '/content/drive/MyDrive/Pós Tech/Tech Challenges/Tech Challenge 4/Obesity.csv'\n",
    "df = pd.read_csv(path)"
   ]
  },
  {
   "cell_type": "code",
   "execution_count": null,
   "metadata": {
    "colab": {
     "base_uri": "https://localhost:8080/"
    },
    "executionInfo": {
     "elapsed": 989,
     "status": "ok",
     "timestamp": 1752334351301,
     "user": {
      "displayName": "Rafael Cuer",
      "userId": "13186034730599541676"
     },
     "user_tz": 180
    },
    "id": "Yqp87lVcQtTr",
    "outputId": "02e1ce63-c9d2-4703-8008-360cff06cb6a"
   },
   "outputs": [
    {
     "name": "stdout",
     "output_type": "stream",
     "text": [
      "Drive already mounted at /content/drive; to attempt to forcibly remount, call drive.mount(\"/content/drive\", force_remount=True).\n"
     ]
    }
   ],
   "source": [
    "from google.colab import drive\n",
    "drive.mount('/content/drive')"
   ]
  },
  {
   "cell_type": "markdown",
   "metadata": {
    "id": "24rBA6HY4AQb"
   },
   "source": [
    "## Verificando a base inicial"
   ]
  },
  {
   "cell_type": "code",
   "execution_count": null,
   "metadata": {
    "colab": {
     "base_uri": "https://localhost:8080/",
     "height": 206
    },
    "executionInfo": {
     "elapsed": 77,
     "status": "ok",
     "timestamp": 1752334351380,
     "user": {
      "displayName": "Rafael Cuer",
      "userId": "13186034730599541676"
     },
     "user_tz": 180
    },
    "id": "ZdedbhcXBHnY",
    "outputId": "ce1f3211-0412-41f8-eab5-ef20f2739f70"
   },
   "outputs": [
    {
     "data": {
      "application/vnd.google.colaboratory.intrinsic+json": {
       "summary": "{\n  \"name\": \"df\",\n  \"rows\": 2111,\n  \"fields\": [\n    {\n      \"column\": \"Gender\",\n      \"properties\": {\n        \"dtype\": \"category\",\n        \"num_unique_values\": 2,\n        \"samples\": [\n          \"Male\",\n          \"Female\"\n        ],\n        \"semantic_type\": \"\",\n        \"description\": \"\"\n      }\n    },\n    {\n      \"column\": \"Age\",\n      \"properties\": {\n        \"dtype\": \"number\",\n        \"std\": 6.3459682737322405,\n        \"min\": 14.0,\n        \"max\": 61.0,\n        \"num_unique_values\": 1402,\n        \"samples\": [\n          25.526746,\n          26.740655\n        ],\n        \"semantic_type\": \"\",\n        \"description\": \"\"\n      }\n    },\n    {\n      \"column\": \"Height\",\n      \"properties\": {\n        \"dtype\": \"number\",\n        \"std\": 0.09330481986792,\n        \"min\": 1.45,\n        \"max\": 1.98,\n        \"num_unique_values\": 1574,\n        \"samples\": [\n          1.760175,\n          1.688436\n        ],\n        \"semantic_type\": \"\",\n        \"description\": \"\"\n      }\n    },\n    {\n      \"column\": \"Weight\",\n      \"properties\": {\n        \"dtype\": \"number\",\n        \"std\": 26.191171745204688,\n        \"min\": 39.0,\n        \"max\": 173.0,\n        \"num_unique_values\": 1525,\n        \"samples\": [\n          120.702935,\n          64.4\n        ],\n        \"semantic_type\": \"\",\n        \"description\": \"\"\n      }\n    },\n    {\n      \"column\": \"family_history\",\n      \"properties\": {\n        \"dtype\": \"category\",\n        \"num_unique_values\": 2,\n        \"samples\": [\n          \"no\",\n          \"yes\"\n        ],\n        \"semantic_type\": \"\",\n        \"description\": \"\"\n      }\n    },\n    {\n      \"column\": \"FAVC\",\n      \"properties\": {\n        \"dtype\": \"category\",\n        \"num_unique_values\": 2,\n        \"samples\": [\n          \"yes\",\n          \"no\"\n        ],\n        \"semantic_type\": \"\",\n        \"description\": \"\"\n      }\n    },\n    {\n      \"column\": \"FCVC\",\n      \"properties\": {\n        \"dtype\": \"number\",\n        \"std\": 0.5339265785033023,\n        \"min\": 1.0,\n        \"max\": 3.0,\n        \"num_unique_values\": 810,\n        \"samples\": [\n          2.987148,\n          2.939727\n        ],\n        \"semantic_type\": \"\",\n        \"description\": \"\"\n      }\n    },\n    {\n      \"column\": \"NCP\",\n      \"properties\": {\n        \"dtype\": \"number\",\n        \"std\": 0.7780386488418594,\n        \"min\": 1.0,\n        \"max\": 4.0,\n        \"num_unique_values\": 635,\n        \"samples\": [\n          1.468948,\n          2.9948\n        ],\n        \"semantic_type\": \"\",\n        \"description\": \"\"\n      }\n    },\n    {\n      \"column\": \"CAEC\",\n      \"properties\": {\n        \"dtype\": \"category\",\n        \"num_unique_values\": 4,\n        \"samples\": [\n          \"Frequently\",\n          \"no\"\n        ],\n        \"semantic_type\": \"\",\n        \"description\": \"\"\n      }\n    },\n    {\n      \"column\": \"SMOKE\",\n      \"properties\": {\n        \"dtype\": \"category\",\n        \"num_unique_values\": 2,\n        \"samples\": [\n          \"yes\",\n          \"no\"\n        ],\n        \"semantic_type\": \"\",\n        \"description\": \"\"\n      }\n    },\n    {\n      \"column\": \"CH2O\",\n      \"properties\": {\n        \"dtype\": \"number\",\n        \"std\": 0.6129534517968702,\n        \"min\": 1.0,\n        \"max\": 3.0,\n        \"num_unique_values\": 1268,\n        \"samples\": [\n          2.395387,\n          1.983973\n        ],\n        \"semantic_type\": \"\",\n        \"description\": \"\"\n      }\n    },\n    {\n      \"column\": \"SCC\",\n      \"properties\": {\n        \"dtype\": \"category\",\n        \"num_unique_values\": 2,\n        \"samples\": [\n          \"yes\",\n          \"no\"\n        ],\n        \"semantic_type\": \"\",\n        \"description\": \"\"\n      }\n    },\n    {\n      \"column\": \"FAF\",\n      \"properties\": {\n        \"dtype\": \"number\",\n        \"std\": 0.8505924308367011,\n        \"min\": 0.0,\n        \"max\": 3.0,\n        \"num_unique_values\": 1190,\n        \"samples\": [\n          1.655488,\n          2.433918\n        ],\n        \"semantic_type\": \"\",\n        \"description\": \"\"\n      }\n    },\n    {\n      \"column\": \"TUE\",\n      \"properties\": {\n        \"dtype\": \"number\",\n        \"std\": 0.6089272596763761,\n        \"min\": 0.0,\n        \"max\": 2.0,\n        \"num_unique_values\": 1129,\n        \"samples\": [\n          1.416353,\n          0.878258\n        ],\n        \"semantic_type\": \"\",\n        \"description\": \"\"\n      }\n    },\n    {\n      \"column\": \"CALC\",\n      \"properties\": {\n        \"dtype\": \"category\",\n        \"num_unique_values\": 4,\n        \"samples\": [\n          \"Sometimes\",\n          \"Always\"\n        ],\n        \"semantic_type\": \"\",\n        \"description\": \"\"\n      }\n    },\n    {\n      \"column\": \"MTRANS\",\n      \"properties\": {\n        \"dtype\": \"category\",\n        \"num_unique_values\": 5,\n        \"samples\": [\n          \"Walking\",\n          \"Bike\"\n        ],\n        \"semantic_type\": \"\",\n        \"description\": \"\"\n      }\n    },\n    {\n      \"column\": \"Obesity\",\n      \"properties\": {\n        \"dtype\": \"category\",\n        \"num_unique_values\": 7,\n        \"samples\": [\n          \"Normal_Weight\",\n          \"Overweight_Level_I\"\n        ],\n        \"semantic_type\": \"\",\n        \"description\": \"\"\n      }\n    }\n  ]\n}",
       "type": "dataframe",
       "variable_name": "df"
      },
      "text/html": [
       "\n",
       "  <div id=\"df-8c9b7f16-0827-4893-ae53-6d3bb96ea453\" class=\"colab-df-container\">\n",
       "    <div>\n",
       "<style scoped>\n",
       "    .dataframe tbody tr th:only-of-type {\n",
       "        vertical-align: middle;\n",
       "    }\n",
       "\n",
       "    .dataframe tbody tr th {\n",
       "        vertical-align: top;\n",
       "    }\n",
       "\n",
       "    .dataframe thead th {\n",
       "        text-align: right;\n",
       "    }\n",
       "</style>\n",
       "<table border=\"1\" class=\"dataframe\">\n",
       "  <thead>\n",
       "    <tr style=\"text-align: right;\">\n",
       "      <th></th>\n",
       "      <th>Gender</th>\n",
       "      <th>Age</th>\n",
       "      <th>Height</th>\n",
       "      <th>Weight</th>\n",
       "      <th>family_history</th>\n",
       "      <th>FAVC</th>\n",
       "      <th>FCVC</th>\n",
       "      <th>NCP</th>\n",
       "      <th>CAEC</th>\n",
       "      <th>SMOKE</th>\n",
       "      <th>CH2O</th>\n",
       "      <th>SCC</th>\n",
       "      <th>FAF</th>\n",
       "      <th>TUE</th>\n",
       "      <th>CALC</th>\n",
       "      <th>MTRANS</th>\n",
       "      <th>Obesity</th>\n",
       "    </tr>\n",
       "  </thead>\n",
       "  <tbody>\n",
       "    <tr>\n",
       "      <th>0</th>\n",
       "      <td>Female</td>\n",
       "      <td>21.0</td>\n",
       "      <td>1.62</td>\n",
       "      <td>64.0</td>\n",
       "      <td>yes</td>\n",
       "      <td>no</td>\n",
       "      <td>2.0</td>\n",
       "      <td>3.0</td>\n",
       "      <td>Sometimes</td>\n",
       "      <td>no</td>\n",
       "      <td>2.0</td>\n",
       "      <td>no</td>\n",
       "      <td>0.0</td>\n",
       "      <td>1.0</td>\n",
       "      <td>no</td>\n",
       "      <td>Public_Transportation</td>\n",
       "      <td>Normal_Weight</td>\n",
       "    </tr>\n",
       "    <tr>\n",
       "      <th>1</th>\n",
       "      <td>Female</td>\n",
       "      <td>21.0</td>\n",
       "      <td>1.52</td>\n",
       "      <td>56.0</td>\n",
       "      <td>yes</td>\n",
       "      <td>no</td>\n",
       "      <td>3.0</td>\n",
       "      <td>3.0</td>\n",
       "      <td>Sometimes</td>\n",
       "      <td>yes</td>\n",
       "      <td>3.0</td>\n",
       "      <td>yes</td>\n",
       "      <td>3.0</td>\n",
       "      <td>0.0</td>\n",
       "      <td>Sometimes</td>\n",
       "      <td>Public_Transportation</td>\n",
       "      <td>Normal_Weight</td>\n",
       "    </tr>\n",
       "    <tr>\n",
       "      <th>2</th>\n",
       "      <td>Male</td>\n",
       "      <td>23.0</td>\n",
       "      <td>1.80</td>\n",
       "      <td>77.0</td>\n",
       "      <td>yes</td>\n",
       "      <td>no</td>\n",
       "      <td>2.0</td>\n",
       "      <td>3.0</td>\n",
       "      <td>Sometimes</td>\n",
       "      <td>no</td>\n",
       "      <td>2.0</td>\n",
       "      <td>no</td>\n",
       "      <td>2.0</td>\n",
       "      <td>1.0</td>\n",
       "      <td>Frequently</td>\n",
       "      <td>Public_Transportation</td>\n",
       "      <td>Normal_Weight</td>\n",
       "    </tr>\n",
       "    <tr>\n",
       "      <th>3</th>\n",
       "      <td>Male</td>\n",
       "      <td>27.0</td>\n",
       "      <td>1.80</td>\n",
       "      <td>87.0</td>\n",
       "      <td>no</td>\n",
       "      <td>no</td>\n",
       "      <td>3.0</td>\n",
       "      <td>3.0</td>\n",
       "      <td>Sometimes</td>\n",
       "      <td>no</td>\n",
       "      <td>2.0</td>\n",
       "      <td>no</td>\n",
       "      <td>2.0</td>\n",
       "      <td>0.0</td>\n",
       "      <td>Frequently</td>\n",
       "      <td>Walking</td>\n",
       "      <td>Overweight_Level_I</td>\n",
       "    </tr>\n",
       "    <tr>\n",
       "      <th>4</th>\n",
       "      <td>Male</td>\n",
       "      <td>22.0</td>\n",
       "      <td>1.78</td>\n",
       "      <td>89.8</td>\n",
       "      <td>no</td>\n",
       "      <td>no</td>\n",
       "      <td>2.0</td>\n",
       "      <td>1.0</td>\n",
       "      <td>Sometimes</td>\n",
       "      <td>no</td>\n",
       "      <td>2.0</td>\n",
       "      <td>no</td>\n",
       "      <td>0.0</td>\n",
       "      <td>0.0</td>\n",
       "      <td>Sometimes</td>\n",
       "      <td>Public_Transportation</td>\n",
       "      <td>Overweight_Level_II</td>\n",
       "    </tr>\n",
       "  </tbody>\n",
       "</table>\n",
       "</div>\n",
       "    <div class=\"colab-df-buttons\">\n",
       "\n",
       "  <div class=\"colab-df-container\">\n",
       "    <button class=\"colab-df-convert\" onclick=\"convertToInteractive('df-8c9b7f16-0827-4893-ae53-6d3bb96ea453')\"\n",
       "            title=\"Convert this dataframe to an interactive table.\"\n",
       "            style=\"display:none;\">\n",
       "\n",
       "  <svg xmlns=\"http://www.w3.org/2000/svg\" height=\"24px\" viewBox=\"0 -960 960 960\">\n",
       "    <path d=\"M120-120v-720h720v720H120Zm60-500h600v-160H180v160Zm220 220h160v-160H400v160Zm0 220h160v-160H400v160ZM180-400h160v-160H180v160Zm440 0h160v-160H620v160ZM180-180h160v-160H180v160Zm440 0h160v-160H620v160Z\"/>\n",
       "  </svg>\n",
       "    </button>\n",
       "\n",
       "  <style>\n",
       "    .colab-df-container {\n",
       "      display:flex;\n",
       "      gap: 12px;\n",
       "    }\n",
       "\n",
       "    .colab-df-convert {\n",
       "      background-color: #E8F0FE;\n",
       "      border: none;\n",
       "      border-radius: 50%;\n",
       "      cursor: pointer;\n",
       "      display: none;\n",
       "      fill: #1967D2;\n",
       "      height: 32px;\n",
       "      padding: 0 0 0 0;\n",
       "      width: 32px;\n",
       "    }\n",
       "\n",
       "    .colab-df-convert:hover {\n",
       "      background-color: #E2EBFA;\n",
       "      box-shadow: 0px 1px 2px rgba(60, 64, 67, 0.3), 0px 1px 3px 1px rgba(60, 64, 67, 0.15);\n",
       "      fill: #174EA6;\n",
       "    }\n",
       "\n",
       "    .colab-df-buttons div {\n",
       "      margin-bottom: 4px;\n",
       "    }\n",
       "\n",
       "    [theme=dark] .colab-df-convert {\n",
       "      background-color: #3B4455;\n",
       "      fill: #D2E3FC;\n",
       "    }\n",
       "\n",
       "    [theme=dark] .colab-df-convert:hover {\n",
       "      background-color: #434B5C;\n",
       "      box-shadow: 0px 1px 3px 1px rgba(0, 0, 0, 0.15);\n",
       "      filter: drop-shadow(0px 1px 2px rgba(0, 0, 0, 0.3));\n",
       "      fill: #FFFFFF;\n",
       "    }\n",
       "  </style>\n",
       "\n",
       "    <script>\n",
       "      const buttonEl =\n",
       "        document.querySelector('#df-8c9b7f16-0827-4893-ae53-6d3bb96ea453 button.colab-df-convert');\n",
       "      buttonEl.style.display =\n",
       "        google.colab.kernel.accessAllowed ? 'block' : 'none';\n",
       "\n",
       "      async function convertToInteractive(key) {\n",
       "        const element = document.querySelector('#df-8c9b7f16-0827-4893-ae53-6d3bb96ea453');\n",
       "        const dataTable =\n",
       "          await google.colab.kernel.invokeFunction('convertToInteractive',\n",
       "                                                    [key], {});\n",
       "        if (!dataTable) return;\n",
       "\n",
       "        const docLinkHtml = 'Like what you see? Visit the ' +\n",
       "          '<a target=\"_blank\" href=https://colab.research.google.com/notebooks/data_table.ipynb>data table notebook</a>'\n",
       "          + ' to learn more about interactive tables.';\n",
       "        element.innerHTML = '';\n",
       "        dataTable['output_type'] = 'display_data';\n",
       "        await google.colab.output.renderOutput(dataTable, element);\n",
       "        const docLink = document.createElement('div');\n",
       "        docLink.innerHTML = docLinkHtml;\n",
       "        element.appendChild(docLink);\n",
       "      }\n",
       "    </script>\n",
       "  </div>\n",
       "\n",
       "\n",
       "    <div id=\"df-775cf2e8-27b5-4410-b743-a561de6a6513\">\n",
       "      <button class=\"colab-df-quickchart\" onclick=\"quickchart('df-775cf2e8-27b5-4410-b743-a561de6a6513')\"\n",
       "                title=\"Suggest charts\"\n",
       "                style=\"display:none;\">\n",
       "\n",
       "<svg xmlns=\"http://www.w3.org/2000/svg\" height=\"24px\"viewBox=\"0 0 24 24\"\n",
       "     width=\"24px\">\n",
       "    <g>\n",
       "        <path d=\"M19 3H5c-1.1 0-2 .9-2 2v14c0 1.1.9 2 2 2h14c1.1 0 2-.9 2-2V5c0-1.1-.9-2-2-2zM9 17H7v-7h2v7zm4 0h-2V7h2v10zm4 0h-2v-4h2v4z\"/>\n",
       "    </g>\n",
       "</svg>\n",
       "      </button>\n",
       "\n",
       "<style>\n",
       "  .colab-df-quickchart {\n",
       "      --bg-color: #E8F0FE;\n",
       "      --fill-color: #1967D2;\n",
       "      --hover-bg-color: #E2EBFA;\n",
       "      --hover-fill-color: #174EA6;\n",
       "      --disabled-fill-color: #AAA;\n",
       "      --disabled-bg-color: #DDD;\n",
       "  }\n",
       "\n",
       "  [theme=dark] .colab-df-quickchart {\n",
       "      --bg-color: #3B4455;\n",
       "      --fill-color: #D2E3FC;\n",
       "      --hover-bg-color: #434B5C;\n",
       "      --hover-fill-color: #FFFFFF;\n",
       "      --disabled-bg-color: #3B4455;\n",
       "      --disabled-fill-color: #666;\n",
       "  }\n",
       "\n",
       "  .colab-df-quickchart {\n",
       "    background-color: var(--bg-color);\n",
       "    border: none;\n",
       "    border-radius: 50%;\n",
       "    cursor: pointer;\n",
       "    display: none;\n",
       "    fill: var(--fill-color);\n",
       "    height: 32px;\n",
       "    padding: 0;\n",
       "    width: 32px;\n",
       "  }\n",
       "\n",
       "  .colab-df-quickchart:hover {\n",
       "    background-color: var(--hover-bg-color);\n",
       "    box-shadow: 0 1px 2px rgba(60, 64, 67, 0.3), 0 1px 3px 1px rgba(60, 64, 67, 0.15);\n",
       "    fill: var(--button-hover-fill-color);\n",
       "  }\n",
       "\n",
       "  .colab-df-quickchart-complete:disabled,\n",
       "  .colab-df-quickchart-complete:disabled:hover {\n",
       "    background-color: var(--disabled-bg-color);\n",
       "    fill: var(--disabled-fill-color);\n",
       "    box-shadow: none;\n",
       "  }\n",
       "\n",
       "  .colab-df-spinner {\n",
       "    border: 2px solid var(--fill-color);\n",
       "    border-color: transparent;\n",
       "    border-bottom-color: var(--fill-color);\n",
       "    animation:\n",
       "      spin 1s steps(1) infinite;\n",
       "  }\n",
       "\n",
       "  @keyframes spin {\n",
       "    0% {\n",
       "      border-color: transparent;\n",
       "      border-bottom-color: var(--fill-color);\n",
       "      border-left-color: var(--fill-color);\n",
       "    }\n",
       "    20% {\n",
       "      border-color: transparent;\n",
       "      border-left-color: var(--fill-color);\n",
       "      border-top-color: var(--fill-color);\n",
       "    }\n",
       "    30% {\n",
       "      border-color: transparent;\n",
       "      border-left-color: var(--fill-color);\n",
       "      border-top-color: var(--fill-color);\n",
       "      border-right-color: var(--fill-color);\n",
       "    }\n",
       "    40% {\n",
       "      border-color: transparent;\n",
       "      border-right-color: var(--fill-color);\n",
       "      border-top-color: var(--fill-color);\n",
       "    }\n",
       "    60% {\n",
       "      border-color: transparent;\n",
       "      border-right-color: var(--fill-color);\n",
       "    }\n",
       "    80% {\n",
       "      border-color: transparent;\n",
       "      border-right-color: var(--fill-color);\n",
       "      border-bottom-color: var(--fill-color);\n",
       "    }\n",
       "    90% {\n",
       "      border-color: transparent;\n",
       "      border-bottom-color: var(--fill-color);\n",
       "    }\n",
       "  }\n",
       "</style>\n",
       "\n",
       "      <script>\n",
       "        async function quickchart(key) {\n",
       "          const quickchartButtonEl =\n",
       "            document.querySelector('#' + key + ' button');\n",
       "          quickchartButtonEl.disabled = true;  // To prevent multiple clicks.\n",
       "          quickchartButtonEl.classList.add('colab-df-spinner');\n",
       "          try {\n",
       "            const charts = await google.colab.kernel.invokeFunction(\n",
       "                'suggestCharts', [key], {});\n",
       "          } catch (error) {\n",
       "            console.error('Error during call to suggestCharts:', error);\n",
       "          }\n",
       "          quickchartButtonEl.classList.remove('colab-df-spinner');\n",
       "          quickchartButtonEl.classList.add('colab-df-quickchart-complete');\n",
       "        }\n",
       "        (() => {\n",
       "          let quickchartButtonEl =\n",
       "            document.querySelector('#df-775cf2e8-27b5-4410-b743-a561de6a6513 button');\n",
       "          quickchartButtonEl.style.display =\n",
       "            google.colab.kernel.accessAllowed ? 'block' : 'none';\n",
       "        })();\n",
       "      </script>\n",
       "    </div>\n",
       "\n",
       "    </div>\n",
       "  </div>\n"
      ],
      "text/plain": [
       "   Gender   Age  Height  Weight family_history FAVC  FCVC  NCP       CAEC  \\\n",
       "0  Female  21.0    1.62    64.0            yes   no   2.0  3.0  Sometimes   \n",
       "1  Female  21.0    1.52    56.0            yes   no   3.0  3.0  Sometimes   \n",
       "2    Male  23.0    1.80    77.0            yes   no   2.0  3.0  Sometimes   \n",
       "3    Male  27.0    1.80    87.0             no   no   3.0  3.0  Sometimes   \n",
       "4    Male  22.0    1.78    89.8             no   no   2.0  1.0  Sometimes   \n",
       "\n",
       "  SMOKE  CH2O  SCC  FAF  TUE        CALC                 MTRANS  \\\n",
       "0    no   2.0   no  0.0  1.0          no  Public_Transportation   \n",
       "1   yes   3.0  yes  3.0  0.0   Sometimes  Public_Transportation   \n",
       "2    no   2.0   no  2.0  1.0  Frequently  Public_Transportation   \n",
       "3    no   2.0   no  2.0  0.0  Frequently                Walking   \n",
       "4    no   2.0   no  0.0  0.0   Sometimes  Public_Transportation   \n",
       "\n",
       "               Obesity  \n",
       "0        Normal_Weight  \n",
       "1        Normal_Weight  \n",
       "2        Normal_Weight  \n",
       "3   Overweight_Level_I  \n",
       "4  Overweight_Level_II  "
      ]
     },
     "execution_count": 9,
     "metadata": {},
     "output_type": "execute_result"
    }
   ],
   "source": [
    "df.head()"
   ]
  },
  {
   "cell_type": "markdown",
   "metadata": {
    "id": "hz_QFc9W-VAE"
   },
   "source": [
    "## Tratando os dados"
   ]
  },
  {
   "cell_type": "code",
   "execution_count": null,
   "metadata": {
    "colab": {
     "base_uri": "https://localhost:8080/",
     "height": 617
    },
    "executionInfo": {
     "elapsed": 3,
     "status": "ok",
     "timestamp": 1752334351384,
     "user": {
      "displayName": "Rafael Cuer",
      "userId": "13186034730599541676"
     },
     "user_tz": 180
    },
    "id": "2YMSO8iJ-cUs",
    "outputId": "790ee5de-ec5c-449a-e5ee-19e035b3d70d"
   },
   "outputs": [
    {
     "data": {
      "text/html": [
       "<div>\n",
       "<style scoped>\n",
       "    .dataframe tbody tr th:only-of-type {\n",
       "        vertical-align: middle;\n",
       "    }\n",
       "\n",
       "    .dataframe tbody tr th {\n",
       "        vertical-align: top;\n",
       "    }\n",
       "\n",
       "    .dataframe thead th {\n",
       "        text-align: right;\n",
       "    }\n",
       "</style>\n",
       "<table border=\"1\" class=\"dataframe\">\n",
       "  <thead>\n",
       "    <tr style=\"text-align: right;\">\n",
       "      <th></th>\n",
       "      <th>0</th>\n",
       "    </tr>\n",
       "  </thead>\n",
       "  <tbody>\n",
       "    <tr>\n",
       "      <th>Gender</th>\n",
       "      <td>0</td>\n",
       "    </tr>\n",
       "    <tr>\n",
       "      <th>Age</th>\n",
       "      <td>0</td>\n",
       "    </tr>\n",
       "    <tr>\n",
       "      <th>Height</th>\n",
       "      <td>0</td>\n",
       "    </tr>\n",
       "    <tr>\n",
       "      <th>Weight</th>\n",
       "      <td>0</td>\n",
       "    </tr>\n",
       "    <tr>\n",
       "      <th>family_history</th>\n",
       "      <td>0</td>\n",
       "    </tr>\n",
       "    <tr>\n",
       "      <th>FAVC</th>\n",
       "      <td>0</td>\n",
       "    </tr>\n",
       "    <tr>\n",
       "      <th>FCVC</th>\n",
       "      <td>0</td>\n",
       "    </tr>\n",
       "    <tr>\n",
       "      <th>NCP</th>\n",
       "      <td>0</td>\n",
       "    </tr>\n",
       "    <tr>\n",
       "      <th>CAEC</th>\n",
       "      <td>0</td>\n",
       "    </tr>\n",
       "    <tr>\n",
       "      <th>SMOKE</th>\n",
       "      <td>0</td>\n",
       "    </tr>\n",
       "    <tr>\n",
       "      <th>CH2O</th>\n",
       "      <td>0</td>\n",
       "    </tr>\n",
       "    <tr>\n",
       "      <th>SCC</th>\n",
       "      <td>0</td>\n",
       "    </tr>\n",
       "    <tr>\n",
       "      <th>FAF</th>\n",
       "      <td>0</td>\n",
       "    </tr>\n",
       "    <tr>\n",
       "      <th>TUE</th>\n",
       "      <td>0</td>\n",
       "    </tr>\n",
       "    <tr>\n",
       "      <th>CALC</th>\n",
       "      <td>0</td>\n",
       "    </tr>\n",
       "    <tr>\n",
       "      <th>MTRANS</th>\n",
       "      <td>0</td>\n",
       "    </tr>\n",
       "    <tr>\n",
       "      <th>Obesity</th>\n",
       "      <td>0</td>\n",
       "    </tr>\n",
       "  </tbody>\n",
       "</table>\n",
       "</div><br><label><b>dtype:</b> int64</label>"
      ],
      "text/plain": [
       "Gender            0\n",
       "Age               0\n",
       "Height            0\n",
       "Weight            0\n",
       "family_history    0\n",
       "FAVC              0\n",
       "FCVC              0\n",
       "NCP               0\n",
       "CAEC              0\n",
       "SMOKE             0\n",
       "CH2O              0\n",
       "SCC               0\n",
       "FAF               0\n",
       "TUE               0\n",
       "CALC              0\n",
       "MTRANS            0\n",
       "Obesity           0\n",
       "dtype: int64"
      ]
     },
     "execution_count": 10,
     "metadata": {},
     "output_type": "execute_result"
    }
   ],
   "source": [
    "# Verificar se há dados nulos\n",
    "df.isnull().sum()"
   ]
  },
  {
   "cell_type": "code",
   "execution_count": null,
   "metadata": {
    "colab": {
     "base_uri": "https://localhost:8080/",
     "height": 617
    },
    "executionInfo": {
     "elapsed": 21,
     "status": "ok",
     "timestamp": 1752334351406,
     "user": {
      "displayName": "Rafael Cuer",
      "userId": "13186034730599541676"
     },
     "user_tz": 180
    },
    "id": "To2SMJrJ-umM",
    "outputId": "689af2ee-b912-4d47-cceb-a10950df8f1b"
   },
   "outputs": [
    {
     "data": {
      "text/html": [
       "<div>\n",
       "<style scoped>\n",
       "    .dataframe tbody tr th:only-of-type {\n",
       "        vertical-align: middle;\n",
       "    }\n",
       "\n",
       "    .dataframe tbody tr th {\n",
       "        vertical-align: top;\n",
       "    }\n",
       "\n",
       "    .dataframe thead th {\n",
       "        text-align: right;\n",
       "    }\n",
       "</style>\n",
       "<table border=\"1\" class=\"dataframe\">\n",
       "  <thead>\n",
       "    <tr style=\"text-align: right;\">\n",
       "      <th></th>\n",
       "      <th>0</th>\n",
       "    </tr>\n",
       "  </thead>\n",
       "  <tbody>\n",
       "    <tr>\n",
       "      <th>Gender</th>\n",
       "      <td>object</td>\n",
       "    </tr>\n",
       "    <tr>\n",
       "      <th>Age</th>\n",
       "      <td>float64</td>\n",
       "    </tr>\n",
       "    <tr>\n",
       "      <th>Height</th>\n",
       "      <td>float64</td>\n",
       "    </tr>\n",
       "    <tr>\n",
       "      <th>Weight</th>\n",
       "      <td>float64</td>\n",
       "    </tr>\n",
       "    <tr>\n",
       "      <th>family_history</th>\n",
       "      <td>object</td>\n",
       "    </tr>\n",
       "    <tr>\n",
       "      <th>FAVC</th>\n",
       "      <td>object</td>\n",
       "    </tr>\n",
       "    <tr>\n",
       "      <th>FCVC</th>\n",
       "      <td>float64</td>\n",
       "    </tr>\n",
       "    <tr>\n",
       "      <th>NCP</th>\n",
       "      <td>float64</td>\n",
       "    </tr>\n",
       "    <tr>\n",
       "      <th>CAEC</th>\n",
       "      <td>object</td>\n",
       "    </tr>\n",
       "    <tr>\n",
       "      <th>SMOKE</th>\n",
       "      <td>object</td>\n",
       "    </tr>\n",
       "    <tr>\n",
       "      <th>CH2O</th>\n",
       "      <td>float64</td>\n",
       "    </tr>\n",
       "    <tr>\n",
       "      <th>SCC</th>\n",
       "      <td>object</td>\n",
       "    </tr>\n",
       "    <tr>\n",
       "      <th>FAF</th>\n",
       "      <td>float64</td>\n",
       "    </tr>\n",
       "    <tr>\n",
       "      <th>TUE</th>\n",
       "      <td>float64</td>\n",
       "    </tr>\n",
       "    <tr>\n",
       "      <th>CALC</th>\n",
       "      <td>object</td>\n",
       "    </tr>\n",
       "    <tr>\n",
       "      <th>MTRANS</th>\n",
       "      <td>object</td>\n",
       "    </tr>\n",
       "    <tr>\n",
       "      <th>Obesity</th>\n",
       "      <td>object</td>\n",
       "    </tr>\n",
       "  </tbody>\n",
       "</table>\n",
       "</div><br><label><b>dtype:</b> object</label>"
      ],
      "text/plain": [
       "Gender             object\n",
       "Age               float64\n",
       "Height            float64\n",
       "Weight            float64\n",
       "family_history     object\n",
       "FAVC               object\n",
       "FCVC              float64\n",
       "NCP               float64\n",
       "CAEC               object\n",
       "SMOKE              object\n",
       "CH2O              float64\n",
       "SCC                object\n",
       "FAF               float64\n",
       "TUE               float64\n",
       "CALC               object\n",
       "MTRANS             object\n",
       "Obesity            object\n",
       "dtype: object"
      ]
     },
     "execution_count": 11,
     "metadata": {},
     "output_type": "execute_result"
    }
   ],
   "source": [
    "# Verifica o tipo de dados de cada campo\n",
    "df.dtypes"
   ]
  },
  {
   "cell_type": "code",
   "execution_count": null,
   "metadata": {
    "colab": {
     "base_uri": "https://localhost:8080/",
     "height": 617
    },
    "executionInfo": {
     "elapsed": 30,
     "status": "ok",
     "timestamp": 1752334351470,
     "user": {
      "displayName": "Rafael Cuer",
      "userId": "13186034730599541676"
     },
     "user_tz": 180
    },
    "id": "EV34p8o5-56c",
    "outputId": "fdb14976-44f5-498a-df07-82d51197fa88"
   },
   "outputs": [
    {
     "data": {
      "text/html": [
       "<div>\n",
       "<style scoped>\n",
       "    .dataframe tbody tr th:only-of-type {\n",
       "        vertical-align: middle;\n",
       "    }\n",
       "\n",
       "    .dataframe tbody tr th {\n",
       "        vertical-align: top;\n",
       "    }\n",
       "\n",
       "    .dataframe thead th {\n",
       "        text-align: right;\n",
       "    }\n",
       "</style>\n",
       "<table border=\"1\" class=\"dataframe\">\n",
       "  <thead>\n",
       "    <tr style=\"text-align: right;\">\n",
       "      <th></th>\n",
       "      <th>0</th>\n",
       "    </tr>\n",
       "  </thead>\n",
       "  <tbody>\n",
       "    <tr>\n",
       "      <th>Gender</th>\n",
       "      <td>2</td>\n",
       "    </tr>\n",
       "    <tr>\n",
       "      <th>Age</th>\n",
       "      <td>1402</td>\n",
       "    </tr>\n",
       "    <tr>\n",
       "      <th>Height</th>\n",
       "      <td>1574</td>\n",
       "    </tr>\n",
       "    <tr>\n",
       "      <th>Weight</th>\n",
       "      <td>1525</td>\n",
       "    </tr>\n",
       "    <tr>\n",
       "      <th>family_history</th>\n",
       "      <td>2</td>\n",
       "    </tr>\n",
       "    <tr>\n",
       "      <th>FAVC</th>\n",
       "      <td>2</td>\n",
       "    </tr>\n",
       "    <tr>\n",
       "      <th>FCVC</th>\n",
       "      <td>810</td>\n",
       "    </tr>\n",
       "    <tr>\n",
       "      <th>NCP</th>\n",
       "      <td>635</td>\n",
       "    </tr>\n",
       "    <tr>\n",
       "      <th>CAEC</th>\n",
       "      <td>4</td>\n",
       "    </tr>\n",
       "    <tr>\n",
       "      <th>SMOKE</th>\n",
       "      <td>2</td>\n",
       "    </tr>\n",
       "    <tr>\n",
       "      <th>CH2O</th>\n",
       "      <td>1268</td>\n",
       "    </tr>\n",
       "    <tr>\n",
       "      <th>SCC</th>\n",
       "      <td>2</td>\n",
       "    </tr>\n",
       "    <tr>\n",
       "      <th>FAF</th>\n",
       "      <td>1190</td>\n",
       "    </tr>\n",
       "    <tr>\n",
       "      <th>TUE</th>\n",
       "      <td>1129</td>\n",
       "    </tr>\n",
       "    <tr>\n",
       "      <th>CALC</th>\n",
       "      <td>4</td>\n",
       "    </tr>\n",
       "    <tr>\n",
       "      <th>MTRANS</th>\n",
       "      <td>5</td>\n",
       "    </tr>\n",
       "    <tr>\n",
       "      <th>Obesity</th>\n",
       "      <td>7</td>\n",
       "    </tr>\n",
       "  </tbody>\n",
       "</table>\n",
       "</div><br><label><b>dtype:</b> int64</label>"
      ],
      "text/plain": [
       "Gender               2\n",
       "Age               1402\n",
       "Height            1574\n",
       "Weight            1525\n",
       "family_history       2\n",
       "FAVC                 2\n",
       "FCVC               810\n",
       "NCP                635\n",
       "CAEC                 4\n",
       "SMOKE                2\n",
       "CH2O              1268\n",
       "SCC                  2\n",
       "FAF               1190\n",
       "TUE               1129\n",
       "CALC                 4\n",
       "MTRANS               5\n",
       "Obesity              7\n",
       "dtype: int64"
      ]
     },
     "execution_count": 12,
     "metadata": {},
     "output_type": "execute_result"
    }
   ],
   "source": [
    "# Verifica os valores únicos para as colunas\n",
    "df.nunique()\n"
   ]
  },
  {
   "cell_type": "code",
   "execution_count": null,
   "metadata": {
    "colab": {
     "base_uri": "https://localhost:8080/"
    },
    "executionInfo": {
     "elapsed": 7,
     "status": "ok",
     "timestamp": 1752334351478,
     "user": {
      "displayName": "Rafael Cuer",
      "userId": "13186034730599541676"
     },
     "user_tz": 180
    },
    "id": "w0U0SsIv65mz",
    "outputId": "a02583c7-8474-4757-a4a1-afbf4e7afb19"
   },
   "outputs": [
    {
     "data": {
      "text/plain": [
       "array(['Female', 'Male'], dtype=object)"
      ]
     },
     "execution_count": 13,
     "metadata": {},
     "output_type": "execute_result"
    }
   ],
   "source": [
    "df['Gender'].unique()"
   ]
  },
  {
   "cell_type": "code",
   "execution_count": null,
   "metadata": {
    "colab": {
     "base_uri": "https://localhost:8080/"
    },
    "executionInfo": {
     "elapsed": 40,
     "status": "ok",
     "timestamp": 1752334351519,
     "user": {
      "displayName": "Rafael Cuer",
      "userId": "13186034730599541676"
     },
     "user_tz": 180
    },
    "id": "Ht0ey6-cAmUD",
    "outputId": "2827fd6c-8d01-4909-f0d5-e3169f4713dc"
   },
   "outputs": [
    {
     "data": {
      "text/plain": [
       "array([21.      , 23.      , 27.      , ..., 22.524036, 24.361936,\n",
       "       23.664709])"
      ]
     },
     "execution_count": 14,
     "metadata": {},
     "output_type": "execute_result"
    }
   ],
   "source": [
    "df['Age'].unique()"
   ]
  },
  {
   "cell_type": "code",
   "execution_count": null,
   "metadata": {
    "colab": {
     "base_uri": "https://localhost:8080/"
    },
    "executionInfo": {
     "elapsed": 14,
     "status": "ok",
     "timestamp": 1752334351521,
     "user": {
      "displayName": "Rafael Cuer",
      "userId": "13186034730599541676"
     },
     "user_tz": 180
    },
    "id": "wWhp2iD8DENh",
    "outputId": "562b6b4f-a576-4e64-c1ff-d1209d54befd"
   },
   "outputs": [
    {
     "data": {
      "text/plain": [
       "array(['yes', 'no'], dtype=object)"
      ]
     },
     "execution_count": 15,
     "metadata": {},
     "output_type": "execute_result"
    }
   ],
   "source": [
    "df['family_history'].unique()"
   ]
  },
  {
   "cell_type": "code",
   "execution_count": null,
   "metadata": {
    "colab": {
     "base_uri": "https://localhost:8080/"
    },
    "executionInfo": {
     "elapsed": 7,
     "status": "ok",
     "timestamp": 1752334351521,
     "user": {
      "displayName": "Rafael Cuer",
      "userId": "13186034730599541676"
     },
     "user_tz": 180
    },
    "id": "gl202Xe1DH0w",
    "outputId": "5a0491a7-a3d0-4373-aca9-cef21cad0ba1"
   },
   "outputs": [
    {
     "data": {
      "text/plain": [
       "array(['no', 'yes'], dtype=object)"
      ]
     },
     "execution_count": 16,
     "metadata": {},
     "output_type": "execute_result"
    }
   ],
   "source": [
    "df['FAVC'].unique()"
   ]
  },
  {
   "cell_type": "code",
   "execution_count": null,
   "metadata": {
    "colab": {
     "base_uri": "https://localhost:8080/"
    },
    "executionInfo": {
     "elapsed": 51,
     "status": "ok",
     "timestamp": 1752334351572,
     "user": {
      "displayName": "Rafael Cuer",
      "userId": "13186034730599541676"
     },
     "user_tz": 180
    },
    "id": "RiSl1KKrBXWq",
    "outputId": "cefbc8a1-5c38-4f5e-fa7e-bcb5c3311fae"
   },
   "outputs": [
    {
     "data": {
      "text/plain": [
       "array([3.      , 1.      , 4.      , 3.28926 , 3.995147, 1.72626 ,\n",
       "       2.581015, 1.600812, 1.73762 , 1.10548 , 2.0846  , 1.894384,\n",
       "       2.857787, 3.765526, 3.285167, 3.691226, 3.156153, 1.07976 ,\n",
       "       3.559841, 3.891994, 3.240578, 3.904858, 3.11158 , 3.590039,\n",
       "       2.057935, 3.558637, 2.000986, 3.821168, 3.897078, 3.092116,\n",
       "       3.286431, 3.592415, 3.754599, 3.566082, 3.725797, 3.520555,\n",
       "       3.731212, 1.259803, 1.273128, 3.304123, 3.647154, 3.300666,\n",
       "       3.535016, 1.717608, 2.884479, 3.626815, 1.473088, 3.16645 ,\n",
       "       3.494849, 2.99321 , 2.127797, 3.90779 , 3.699594, 3.179995,\n",
       "       1.075553, 3.238258, 3.804944, 1.630846, 3.762778, 3.371832,\n",
       "       2.705445, 3.34175 , 2.217651, 2.893778, 3.502604, 3.998766,\n",
       "       3.193671, 1.69608 , 2.812377, 1.612747, 1.082304, 1.882158,\n",
       "       2.326233, 1.989398, 1.735493, 2.974568, 3.715118, 3.489918,\n",
       "       3.378859, 3.263201, 3.994588, 3.24934 , 3.087544, 1.163666,\n",
       "       3.409363, 3.281391, 3.98525 , 3.207071, 3.471536, 3.488342,\n",
       "       3.443456, 3.03779 , 3.642802, 2.645858, 3.420618, 2.64155 ,\n",
       "       3.887906, 3.435905, 3.747163, 2.625475, 3.098399, 3.12544 ,\n",
       "       3.96981 , 3.712183, 3.832911, 3.576103, 3.56544 , 3.266644,\n",
       "       3.433908, 3.531038, 3.998618, 1.226342, 1.060796, 3.595761,\n",
       "       3.737914, 3.697831, 3.21043 , 3.45259 , 3.205587, 1.513835,\n",
       "       2.779379, 3.732126, 3.937099, 3.047959, 2.975362, 1.394539,\n",
       "       3.131032, 1.578521, 3.985442, 3.623364, 3.36313 , 1.146052,\n",
       "       3.981997, 1.9154  , 2.105616, 3.714833, 3.292386, 1.104642,\n",
       "       3.654061, 1.296156, 2.656588, 2.809716, 2.77684 , 1.999014,\n",
       "       2.644692, 2.449723, 2.794156, 1.146794, 1.131695, 2.488189,\n",
       "       3.999591, 3.612941, 3.950553, 2.951837, 2.799979, 2.228113,\n",
       "       3.042774, 1.198643, 1.555557, 3.987707, 3.995957, 1.047197,\n",
       "       1.193589, 3.390143, 3.546352, 3.266501, 3.554974, 2.372311,\n",
       "       2.10601 , 3.715306, 3.376717, 1.211606, 3.98955 , 3.171082,\n",
       "       3.105007, 1.590982, 1.704828, 2.725012, 2.372339, 1.097312,\n",
       "       1.068196, 1.411685, 2.752318, 2.737571, 2.973504, 2.608055,\n",
       "       2.625942, 1.411808, 1.095223, 3.30846 , 3.821461, 2.658639,\n",
       "       2.339614, 1.713762, 2.743277, 3.051804, 3.245148, 3.563744,\n",
       "       3.829101, 3.058539, 3.196043, 1.391778, 1.13715 , 3.322522,\n",
       "       3.269088, 2.938135, 1.259628, 2.965494, 2.845307, 3.095663,\n",
       "       3.483449, 3.156309, 3.728377, 3.60885 , 3.370362, 2.39007 ,\n",
       "       1.101404, 2.756405, 3.054899, 3.118013, 3.335876, 3.205009,\n",
       "       3.648194, 1.865238, 2.118153, 2.961113, 2.400943, 2.870005,\n",
       "       1.030416, 2.696051, 2.762883, 2.401341, 2.298612, 3.618722,\n",
       "       2.562895, 2.849848, 2.805436, 3.715148, 3.788602, 1.893811,\n",
       "       1.010319, 2.669766, 1.322087, 2.041558, 2.468421, 2.110937,\n",
       "       3.071028, 3.292956, 2.283673, 1.124977, 2.9948  , 2.983297,\n",
       "       1.890213, 1.888067, 2.256119, 2.6648  , 2.547086, 2.812283,\n",
       "       2.278652, 1.240046, 1.660768, 2.597608, 2.044035, 2.038373,\n",
       "       1.474836, 3.986652, 2.720642, 1.976744, 2.679724, 1.619796,\n",
       "       2.59257 , 1.546665, 3.339914, 3.884861, 2.358298, 1.802305,\n",
       "       2.7976  , 2.627173, 1.032887, 3.014808, 2.271734, 2.122545,\n",
       "       2.902766, 2.687502, 1.178708, 2.279546, 2.677693, 3.53009 ,\n",
       "       1.835543, 2.853676, 2.337035, 1.631184, 1.005391, 3.250467,\n",
       "       2.948721, 1.80993 , 1.94671 , 2.9796  , 2.994198, 2.579291,\n",
       "       2.449067, 1.532833, 2.961706, 1.152521, 1.729553, 1.346987,\n",
       "       1.977221, 2.443812, 2.491315, 2.843319, 2.157164, 2.601675,\n",
       "       1.171027, 3.362758, 1.672706, 2.714115, 2.521546, 1.338033,\n",
       "       1.081805, 3.087119, 2.909117, 1.466393, 1.471053, 2.983201,\n",
       "       2.783336, 1.863012, 3.053598, 3.165837, 2.741413, 1.058123,\n",
       "       2.997414, 1.672958, 1.680838, 3.070386, 2.608416, 1.599464,\n",
       "       2.815255, 2.395785, 2.844138, 2.716106, 1.402771, 2.865657,\n",
       "       1.836226, 2.884848, 2.375026, 2.9774  , 2.693646, 2.832018,\n",
       "       2.270163, 2.646717, 1.193729, 1.477581, 3.209508, 2.756622,\n",
       "       2.658478, 1.971472, 1.818026, 1.820779, 1.724887, 3.129155,\n",
       "       3.856434, 2.753418, 2.116195, 2.049908, 1.044628, 2.98212 ,\n",
       "       1.009426, 2.667711, 3.000974, 2.698883, 2.598079, 2.837388,\n",
       "       2.946063, 1.873484, 2.473911, 1.79558 , 2.623079, 2.174968,\n",
       "       2.676148, 3.394788, 2.137068, 2.937607, 1.313403, 2.113575,\n",
       "       2.092179, 2.974204, 1.001633, 1.2919  , 1.139317, 2.029858,\n",
       "       2.977543, 1.476204, 2.57038 , 2.879541, 1.458507, 1.105617,\n",
       "       1.854536, 1.08687 , 1.25535 , 2.870661, 1.482103, 1.81698 ,\n",
       "       2.582591, 2.164839, 2.141839, 2.877583, 2.95833 , 2.119826,\n",
       "       2.992606, 2.050121, 1.923607, 2.27374 , 1.418985, 1.320768,\n",
       "       2.964024, 2.933409, 2.962004, 1.271624, 1.00061 , 1.068443,\n",
       "       2.952821, 1.851088, 2.119682, 2.970675, 2.966803, 1.508685,\n",
       "       2.209314, 1.114564, 2.036794, 2.988539, 1.630506, 2.977999,\n",
       "       2.733077, 2.427137, 1.867836, 1.548407, 2.937989, 1.237454,\n",
       "       1.169173, 2.391753, 2.475444, 2.478794, 2.070033, 2.282392,\n",
       "       1.049534, 1.66338 , 1.672751, 1.734762, 1.92822 , 2.475228,\n",
       "       2.093831, 1.231915, 1.374791, 1.326982, 2.900915, 1.317884,\n",
       "       2.977909, 1.355752, 1.015488, 2.986172, 2.993623, 1.001383,\n",
       "       1.001542, 2.590283, 1.773916, 2.989112, 1.496776, 2.994046,\n",
       "       1.000283, 1.000414, 1.135278, 2.463113, 1.782109, 2.376374,\n",
       "       2.976098, 2.968098, 1.792695, 1.116401, 2.984523, 2.978103,\n",
       "       1.578751, 1.874532, 2.735706, 1.014916, 2.622055, 2.806566,\n",
       "       1.355354, 1.478334, 1.130751, 1.099151, 2.358455, 1.706551,\n",
       "       1.24884 , 1.250548, 1.202179, 1.194815, 2.880817, 2.918124,\n",
       "       1.073421, 1.416309, 2.18162 , 2.152733, 1.046144, 1.974233,\n",
       "       2.880794, 2.765213, 2.967089, 2.37985 , 2.655265, 1.941307,\n",
       "       1.709546, 2.883984, 2.935381, 2.961192, 2.973476, 2.392811,\n",
       "       1.293342, 2.930044, 2.129909, 2.831771, 2.595126, 2.52751 ,\n",
       "       2.120936, 1.468948, 3.990925, 2.834253, 3.734323, 2.049565,\n",
       "       2.272214, 2.218285, 1.418833, 1.109956, 3.914454, 3.169089,\n",
       "       2.419656, 2.175432, 2.806298, 2.987652, 2.842848, 1.134321,\n",
       "       1.924168, 2.701689, 2.992903, 2.658837, 2.80742 , 1.834472,\n",
       "       2.123138, 1.265463, 1.340361, 3.989492, 2.650088, 2.89292 ,\n",
       "       2.938902, 2.986637, 2.701521, 2.014671, 1.971659, 1.311797,\n",
       "       1.262831, 3.770379, 2.87747 , 2.175153, 2.13229 , 2.993634,\n",
       "       2.999346, 2.976211, 2.842035, 1.09749 , 1.91863 , 2.510135,\n",
       "       2.65772 , 2.604998, 2.567567, 2.434347, 1.845858, 1.627555,\n",
       "       1.569176, 2.371658, 2.378211, 2.301129, 2.454432, 2.915921,\n",
       "       2.992083, 2.849347, 2.954446, 3.755976, 2.902639, 2.372705,\n",
       "       2.100918, 2.272801, 2.692889, 2.280545, 2.675411, 1.487674,\n",
       "       1.02075 , 1.240424, 1.154318, 3.219347, 3.656401, 3.220181,\n",
       "       2.850948, 2.187145, 2.415522, 2.138375, 1.077331, 2.888193,\n",
       "       2.574108, 2.740492, 2.956422, 2.749334, 2.993856, 2.993084,\n",
       "       2.989791, 2.920373, 2.911568, 1.134042, 1.120102, 2.040582,\n",
       "       2.015675, 2.711238, 2.695396, 2.996834, 2.996444, 2.894142,\n",
       "       2.683061, 2.806341, 2.791366, 1.703299, 1.685134, 2.269799,\n",
       "       2.142328, 1.437959, 1.343117, 1.213431, 1.089048])"
      ]
     },
     "execution_count": 17,
     "metadata": {},
     "output_type": "execute_result"
    }
   ],
   "source": [
    "df['NCP'].unique()"
   ]
  },
  {
   "cell_type": "code",
   "execution_count": null,
   "metadata": {
    "colab": {
     "base_uri": "https://localhost:8080/"
    },
    "executionInfo": {
     "elapsed": 22,
     "status": "ok",
     "timestamp": 1752334351573,
     "user": {
      "displayName": "Rafael Cuer",
      "userId": "13186034730599541676"
     },
     "user_tz": 180
    },
    "id": "zRy6NVseBlBC",
    "outputId": "cf5b54fc-7acc-4e24-dc26-7c833be5af81"
   },
   "outputs": [
    {
     "data": {
      "text/plain": [
       "array(['Sometimes', 'Frequently', 'Always', 'no'], dtype=object)"
      ]
     },
     "execution_count": 18,
     "metadata": {},
     "output_type": "execute_result"
    }
   ],
   "source": [
    "df['CAEC'].unique()"
   ]
  },
  {
   "cell_type": "code",
   "execution_count": null,
   "metadata": {
    "colab": {
     "base_uri": "https://localhost:8080/"
    },
    "executionInfo": {
     "elapsed": 16,
     "status": "ok",
     "timestamp": 1752334351573,
     "user": {
      "displayName": "Rafael Cuer",
      "userId": "13186034730599541676"
     },
     "user_tz": 180
    },
    "id": "38PVZyRvDyzQ",
    "outputId": "6f7a0947-2408-4217-ce1c-a204edfa98e3"
   },
   "outputs": [
    {
     "data": {
      "text/plain": [
       "array(['no', 'yes'], dtype=object)"
      ]
     },
     "execution_count": 19,
     "metadata": {},
     "output_type": "execute_result"
    }
   ],
   "source": [
    "df['SMOKE'].unique()"
   ]
  },
  {
   "cell_type": "code",
   "execution_count": null,
   "metadata": {
    "colab": {
     "base_uri": "https://localhost:8080/"
    },
    "executionInfo": {
     "elapsed": 10,
     "status": "ok",
     "timestamp": 1752334351573,
     "user": {
      "displayName": "Rafael Cuer",
      "userId": "13186034730599541676"
     },
     "user_tz": 180
    },
    "id": "Gsl4M3vXBuZy",
    "outputId": "d4f6ef00-0a48-4692-c926-c4d0f41dd001"
   },
   "outputs": [
    {
     "data": {
      "text/plain": [
       "array([2.      , 3.      , 1.      , ..., 2.054193, 2.852339, 2.863513])"
      ]
     },
     "execution_count": 20,
     "metadata": {},
     "output_type": "execute_result"
    }
   ],
   "source": [
    "df['CH2O'].unique()"
   ]
  },
  {
   "cell_type": "code",
   "execution_count": null,
   "metadata": {
    "colab": {
     "base_uri": "https://localhost:8080/"
    },
    "executionInfo": {
     "elapsed": 7,
     "status": "ok",
     "timestamp": 1752334351574,
     "user": {
      "displayName": "Rafael Cuer",
      "userId": "13186034730599541676"
     },
     "user_tz": 180
    },
    "id": "sEZ-wGKKD9W_",
    "outputId": "2be7a320-91a7-4fa9-e3bd-55cc999c33ce"
   },
   "outputs": [
    {
     "data": {
      "text/plain": [
       "array(['no', 'yes'], dtype=object)"
      ]
     },
     "execution_count": 21,
     "metadata": {},
     "output_type": "execute_result"
    }
   ],
   "source": [
    "df['SCC'].unique()"
   ]
  },
  {
   "cell_type": "code",
   "execution_count": null,
   "metadata": {
    "colab": {
     "base_uri": "https://localhost:8080/"
    },
    "executionInfo": {
     "elapsed": 7,
     "status": "ok",
     "timestamp": 1752334351581,
     "user": {
      "displayName": "Rafael Cuer",
      "userId": "13186034730599541676"
     },
     "user_tz": 180
    },
    "id": "hx879MyJCBQR",
    "outputId": "88409d4b-485b-4765-be39-71a605eba9c6"
   },
   "outputs": [
    {
     "data": {
      "text/plain": [
       "array([0.      , 3.      , 2.      , ..., 1.414209, 1.139107, 1.026452])"
      ]
     },
     "execution_count": 22,
     "metadata": {},
     "output_type": "execute_result"
    }
   ],
   "source": [
    "df['FAF'].unique()"
   ]
  },
  {
   "cell_type": "code",
   "execution_count": null,
   "metadata": {
    "colab": {
     "base_uri": "https://localhost:8080/"
    },
    "executionInfo": {
     "elapsed": 49,
     "status": "ok",
     "timestamp": 1752334351631,
     "user": {
      "displayName": "Rafael Cuer",
      "userId": "13186034730599541676"
     },
     "user_tz": 180
    },
    "id": "c1XnzdMTCITB",
    "outputId": "140132bd-fe53-411b-e448-ba5eb2304a4f"
   },
   "outputs": [
    {
     "data": {
      "text/plain": [
       "array([1.      , 0.      , 2.      , ..., 0.646288, 0.586035, 0.714137])"
      ]
     },
     "execution_count": 23,
     "metadata": {},
     "output_type": "execute_result"
    }
   ],
   "source": [
    "df['TUE'].unique()"
   ]
  },
  {
   "cell_type": "code",
   "execution_count": null,
   "metadata": {
    "colab": {
     "base_uri": "https://localhost:8080/"
    },
    "executionInfo": {
     "elapsed": 17,
     "status": "ok",
     "timestamp": 1752334351631,
     "user": {
      "displayName": "Rafael Cuer",
      "userId": "13186034730599541676"
     },
     "user_tz": 180
    },
    "id": "onPN4WQnCevp",
    "outputId": "b1eceab6-bc2a-49e8-ac91-a1b346900d87"
   },
   "outputs": [
    {
     "data": {
      "text/plain": [
       "array(['no', 'Sometimes', 'Frequently', 'Always'], dtype=object)"
      ]
     },
     "execution_count": 24,
     "metadata": {},
     "output_type": "execute_result"
    }
   ],
   "source": [
    "df['CALC'].unique()"
   ]
  },
  {
   "cell_type": "code",
   "execution_count": null,
   "metadata": {
    "colab": {
     "base_uri": "https://localhost:8080/"
    },
    "executionInfo": {
     "elapsed": 10,
     "status": "ok",
     "timestamp": 1752334351632,
     "user": {
      "displayName": "Rafael Cuer",
      "userId": "13186034730599541676"
     },
     "user_tz": 180
    },
    "id": "Evrv0oQ5CjzZ",
    "outputId": "278ef4ce-2690-4aa8-d4b6-c907dad6bbce"
   },
   "outputs": [
    {
     "data": {
      "text/plain": [
       "array(['Public_Transportation', 'Walking', 'Automobile', 'Motorbike',\n",
       "       'Bike'], dtype=object)"
      ]
     },
     "execution_count": 25,
     "metadata": {},
     "output_type": "execute_result"
    }
   ],
   "source": [
    "df['MTRANS'].unique()"
   ]
  },
  {
   "cell_type": "code",
   "execution_count": null,
   "metadata": {
    "colab": {
     "base_uri": "https://localhost:8080/"
    },
    "executionInfo": {
     "elapsed": 12,
     "status": "ok",
     "timestamp": 1752334351641,
     "user": {
      "displayName": "Rafael Cuer",
      "userId": "13186034730599541676"
     },
     "user_tz": 180
    },
    "id": "vT9XVzSl6xiM",
    "outputId": "6d0c09d9-36f9-4b56-f92b-cdddcbcb3984"
   },
   "outputs": [
    {
     "name": "stderr",
     "output_type": "stream",
     "text": [
      "/tmp/ipython-input-26-762188042.py:2: FutureWarning: Downcasting behavior in `replace` is deprecated and will be removed in a future version. To retain the old behavior, explicitly call `result.infer_objects(copy=False)`. To opt-in to the future behavior, set `pd.set_option('future.no_silent_downcasting', True)`\n",
      "  df['Gender'] = df['Gender'].replace(['Female','Male'],[0,1])\n"
     ]
    }
   ],
   "source": [
    "# Substituindo gênero\n",
    "df['Gender'] = df['Gender'].replace(['Female','Male'],[0,1])"
   ]
  },
  {
   "cell_type": "code",
   "execution_count": null,
   "metadata": {
    "colab": {
     "base_uri": "https://localhost:8080/"
    },
    "executionInfo": {
     "elapsed": 34,
     "status": "ok",
     "timestamp": 1752334351670,
     "user": {
      "displayName": "Rafael Cuer",
      "userId": "13186034730599541676"
     },
     "user_tz": 180
    },
    "id": "ssEnqRuirb-y",
    "outputId": "9cbae5b4-3380-4656-ffb7-ce2be0837eb9"
   },
   "outputs": [
    {
     "name": "stderr",
     "output_type": "stream",
     "text": [
      "/tmp/ipython-input-27-2530812059.py:4: FutureWarning: Downcasting behavior in `replace` is deprecated and will be removed in a future version. To retain the old behavior, explicitly call `result.infer_objects(copy=False)`. To opt-in to the future behavior, set `pd.set_option('future.no_silent_downcasting', True)`\n",
      "  df[coluna] = df[coluna].replace(['yes','no'],[1,0])\n"
     ]
    }
   ],
   "source": [
    "# Substitui string por integer\n",
    "lista_substituicao = ['family_history', 'FAVC', 'SMOKE', 'SCC']\n",
    "for coluna in lista_substituicao:\n",
    "    df[coluna] = df[coluna].replace(['yes','no'],[1,0])"
   ]
  },
  {
   "cell_type": "code",
   "execution_count": null,
   "metadata": {
    "colab": {
     "base_uri": "https://localhost:8080/",
     "height": 744
    },
    "executionInfo": {
     "elapsed": 2622,
     "status": "ok",
     "timestamp": 1752334354291,
     "user": {
      "displayName": "Rafael Cuer",
      "userId": "13186034730599541676"
     },
     "user_tz": 180
    },
    "id": "6Vr2IFAksluC",
    "outputId": "6b2dbbf1-7412-4500-9ee8-3029fb5ebf51"
   },
   "outputs": [
    {
     "data": {
      "text/plain": [
       "<Axes: >"
      ]
     },
     "execution_count": 28,
     "metadata": {},
     "output_type": "execute_result"
    },
    {
     "data": {
      "image/png": "[encoded data removed]",
      "text/plain": [
       "<Figure size 2000x1000 with 2 Axes>"
      ]
     },
     "metadata": {},
     "output_type": "display_data"
    }
   ],
   "source": [
    "# Criando a matriz de correlação\n",
    "import matplotlib.pyplot as plt\n",
    "import seaborn as sns\n",
    "\n",
    "corr = df.select_dtypes(include='number').corr()\n",
    "plt.figure(figsize = (20,10))\n",
    "sns.heatmap(corr, cmap=\"Blues\", annot=True)"
   ]
  },
  {
   "cell_type": "code",
   "execution_count": null,
   "metadata": {
    "colab": {
     "base_uri": "https://localhost:8080/",
     "height": 335
    },
    "executionInfo": {
     "elapsed": 4,
     "status": "ok",
     "timestamp": 1752334354309,
     "user": {
      "displayName": "Rafael Cuer",
      "userId": "13186034730599541676"
     },
     "user_tz": 180
    },
    "id": "3IWjZQqOBIk-",
    "outputId": "96d1af96-b57d-4d99-ce9a-b7012304ff67"
   },
   "outputs": [
    {
     "data": {
      "text/html": [
       "<div>\n",
       "<style scoped>\n",
       "    .dataframe tbody tr th:only-of-type {\n",
       "        vertical-align: middle;\n",
       "    }\n",
       "\n",
       "    .dataframe tbody tr th {\n",
       "        vertical-align: top;\n",
       "    }\n",
       "\n",
       "    .dataframe thead th {\n",
       "        text-align: right;\n",
       "    }\n",
       "</style>\n",
       "<table border=\"1\" class=\"dataframe\">\n",
       "  <thead>\n",
       "    <tr style=\"text-align: right;\">\n",
       "      <th></th>\n",
       "      <th>Obesity</th>\n",
       "    </tr>\n",
       "    <tr>\n",
       "      <th>Obesity</th>\n",
       "      <th></th>\n",
       "    </tr>\n",
       "  </thead>\n",
       "  <tbody>\n",
       "    <tr>\n",
       "      <th>Insufficient_Weight</th>\n",
       "      <td>272</td>\n",
       "    </tr>\n",
       "    <tr>\n",
       "      <th>Normal_Weight</th>\n",
       "      <td>287</td>\n",
       "    </tr>\n",
       "    <tr>\n",
       "      <th>Obesity_Type_I</th>\n",
       "      <td>351</td>\n",
       "    </tr>\n",
       "    <tr>\n",
       "      <th>Obesity_Type_II</th>\n",
       "      <td>297</td>\n",
       "    </tr>\n",
       "    <tr>\n",
       "      <th>Obesity_Type_III</th>\n",
       "      <td>324</td>\n",
       "    </tr>\n",
       "    <tr>\n",
       "      <th>Overweight_Level_I</th>\n",
       "      <td>290</td>\n",
       "    </tr>\n",
       "    <tr>\n",
       "      <th>Overweight_Level_II</th>\n",
       "      <td>290</td>\n",
       "    </tr>\n",
       "  </tbody>\n",
       "</table>\n",
       "</div><br><label><b>dtype:</b> int64</label>"
      ],
      "text/plain": [
       "Obesity\n",
       "Insufficient_Weight    272\n",
       "Normal_Weight          287\n",
       "Obesity_Type_I         351\n",
       "Obesity_Type_II        297\n",
       "Obesity_Type_III       324\n",
       "Overweight_Level_I     290\n",
       "Overweight_Level_II    290\n",
       "Name: Obesity, dtype: int64"
      ]
     },
     "execution_count": 29,
     "metadata": {},
     "output_type": "execute_result"
    }
   ],
   "source": [
    "# Contar e agrupar pela categoria da coluna obesidade\n",
    "df['Obesity'].groupby(df['Obesity']).count()"
   ]
  },
  {
   "cell_type": "code",
   "execution_count": null,
   "metadata": {
    "colab": {
     "base_uri": "https://localhost:8080/",
     "height": 300
    },
    "executionInfo": {
     "elapsed": 3,
     "status": "ok",
     "timestamp": 1752334354314,
     "user": {
      "displayName": "Rafael Cuer",
      "userId": "13186034730599541676"
     },
     "user_tz": 180
    },
    "id": "oRNRh5t63I1s",
    "outputId": "88a3c981-1098-4f2b-adc7-cbeaf68dd2b5"
   },
   "outputs": [
    {
     "data": {
      "application/vnd.google.colaboratory.intrinsic+json": {
       "summary": "{\n  \"name\": \"df[colunas_quantitativas]\",\n  \"rows\": 8,\n  \"fields\": [\n    {\n      \"column\": \"Age\",\n      \"properties\": {\n        \"dtype\": \"number\",\n        \"std\": 737.7175023586611,\n        \"min\": 6.3459682737322405,\n        \"max\": 2111.0,\n        \"num_unique_values\": 8,\n        \"samples\": [\n          24.312599908574136,\n          22.77789,\n          2111.0\n        ],\n        \"semantic_type\": \"\",\n        \"description\": \"\"\n      }\n    },\n    {\n      \"column\": \"Height\",\n      \"properties\": {\n        \"dtype\": \"number\",\n        \"std\": 745.8299972253056,\n        \"min\": 0.09330481986792,\n        \"max\": 2111.0,\n        \"num_unique_values\": 8,\n        \"samples\": [\n          1.7016773533870204,\n          1.700499,\n          2111.0\n        ],\n        \"semantic_type\": \"\",\n        \"description\": \"\"\n      }\n    },\n    {\n      \"column\": \"Weight\",\n      \"properties\": {\n        \"dtype\": \"number\",\n        \"std\": 718.4335873262646,\n        \"min\": 26.191171745204688,\n        \"max\": 2111.0,\n        \"num_unique_values\": 8,\n        \"samples\": [\n          86.58605812648035,\n          83.0,\n          2111.0\n        ],\n        \"semantic_type\": \"\",\n        \"description\": \"\"\n      }\n    },\n    {\n      \"column\": \"FCVC\",\n      \"properties\": {\n        \"dtype\": \"number\",\n        \"std\": 745.6275281444425,\n        \"min\": 0.5339265785033023,\n        \"max\": 2111.0,\n        \"num_unique_values\": 7,\n        \"samples\": [\n          2111.0,\n          2.4190430615821885,\n          2.385502\n        ],\n        \"semantic_type\": \"\",\n        \"description\": \"\"\n      }\n    },\n    {\n      \"column\": \"NCP\",\n      \"properties\": {\n        \"dtype\": \"number\",\n        \"std\": 745.4871624512587,\n        \"min\": 0.7780386488418594,\n        \"max\": 2111.0,\n        \"num_unique_values\": 7,\n        \"samples\": [\n          2111.0,\n          2.6856280497394596,\n          3.0\n        ],\n        \"semantic_type\": \"\",\n        \"description\": \"\"\n      }\n    },\n    {\n      \"column\": \"CH2O\",\n      \"properties\": {\n        \"dtype\": \"number\",\n        \"std\": 745.7109998154965,\n        \"min\": 0.6129534517968702,\n        \"max\": 2111.0,\n        \"num_unique_values\": 8,\n        \"samples\": [\n          2.0080114040738986,\n          2.0,\n          2111.0\n        ],\n        \"semantic_type\": \"\",\n        \"description\": \"\"\n      }\n    },\n    {\n      \"column\": \"FAF\",\n      \"properties\": {\n        \"dtype\": \"number\",\n        \"std\": 745.9653105606202,\n        \"min\": 0.0,\n        \"max\": 2111.0,\n        \"num_unique_values\": 8,\n        \"samples\": [\n          1.0102976958787304,\n          1.0,\n          2111.0\n        ],\n        \"semantic_type\": \"\",\n        \"description\": \"\"\n      }\n    },\n    {\n      \"column\": \"TUE\",\n      \"properties\": {\n        \"dtype\": \"number\",\n        \"std\": 746.1043827244515,\n        \"min\": 0.0,\n        \"max\": 2111.0,\n        \"num_unique_values\": 7,\n        \"samples\": [\n          2111.0,\n          0.657865923732828,\n          1.0\n        ],\n        \"semantic_type\": \"\",\n        \"description\": \"\"\n      }\n    }\n  ]\n}",
       "type": "dataframe"
      },
      "text/html": [
       "\n",
       "  <div id=\"df-c1b268db-c685-48bb-85dc-8dcc7ad10822\" class=\"colab-df-container\">\n",
       "    <div>\n",
       "<style scoped>\n",
       "    .dataframe tbody tr th:only-of-type {\n",
       "        vertical-align: middle;\n",
       "    }\n",
       "\n",
       "    .dataframe tbody tr th {\n",
       "        vertical-align: top;\n",
       "    }\n",
       "\n",
       "    .dataframe thead th {\n",
       "        text-align: right;\n",
       "    }\n",
       "</style>\n",
       "<table border=\"1\" class=\"dataframe\">\n",
       "  <thead>\n",
       "    <tr style=\"text-align: right;\">\n",
       "      <th></th>\n",
       "      <th>Age</th>\n",
       "      <th>Height</th>\n",
       "      <th>Weight</th>\n",
       "      <th>FCVC</th>\n",
       "      <th>NCP</th>\n",
       "      <th>CH2O</th>\n",
       "      <th>FAF</th>\n",
       "      <th>TUE</th>\n",
       "    </tr>\n",
       "  </thead>\n",
       "  <tbody>\n",
       "    <tr>\n",
       "      <th>count</th>\n",
       "      <td>2111.000000</td>\n",
       "      <td>2111.000000</td>\n",
       "      <td>2111.000000</td>\n",
       "      <td>2111.000000</td>\n",
       "      <td>2111.000000</td>\n",
       "      <td>2111.000000</td>\n",
       "      <td>2111.000000</td>\n",
       "      <td>2111.000000</td>\n",
       "    </tr>\n",
       "    <tr>\n",
       "      <th>mean</th>\n",
       "      <td>24.312600</td>\n",
       "      <td>1.701677</td>\n",
       "      <td>86.586058</td>\n",
       "      <td>2.419043</td>\n",
       "      <td>2.685628</td>\n",
       "      <td>2.008011</td>\n",
       "      <td>1.010298</td>\n",
       "      <td>0.657866</td>\n",
       "    </tr>\n",
       "    <tr>\n",
       "      <th>std</th>\n",
       "      <td>6.345968</td>\n",
       "      <td>0.093305</td>\n",
       "      <td>26.191172</td>\n",
       "      <td>0.533927</td>\n",
       "      <td>0.778039</td>\n",
       "      <td>0.612953</td>\n",
       "      <td>0.850592</td>\n",
       "      <td>0.608927</td>\n",
       "    </tr>\n",
       "    <tr>\n",
       "      <th>min</th>\n",
       "      <td>14.000000</td>\n",
       "      <td>1.450000</td>\n",
       "      <td>39.000000</td>\n",
       "      <td>1.000000</td>\n",
       "      <td>1.000000</td>\n",
       "      <td>1.000000</td>\n",
       "      <td>0.000000</td>\n",
       "      <td>0.000000</td>\n",
       "    </tr>\n",
       "    <tr>\n",
       "      <th>25%</th>\n",
       "      <td>19.947192</td>\n",
       "      <td>1.630000</td>\n",
       "      <td>65.473343</td>\n",
       "      <td>2.000000</td>\n",
       "      <td>2.658738</td>\n",
       "      <td>1.584812</td>\n",
       "      <td>0.124505</td>\n",
       "      <td>0.000000</td>\n",
       "    </tr>\n",
       "    <tr>\n",
       "      <th>50%</th>\n",
       "      <td>22.777890</td>\n",
       "      <td>1.700499</td>\n",
       "      <td>83.000000</td>\n",
       "      <td>2.385502</td>\n",
       "      <td>3.000000</td>\n",
       "      <td>2.000000</td>\n",
       "      <td>1.000000</td>\n",
       "      <td>0.625350</td>\n",
       "    </tr>\n",
       "    <tr>\n",
       "      <th>75%</th>\n",
       "      <td>26.000000</td>\n",
       "      <td>1.768464</td>\n",
       "      <td>107.430682</td>\n",
       "      <td>3.000000</td>\n",
       "      <td>3.000000</td>\n",
       "      <td>2.477420</td>\n",
       "      <td>1.666678</td>\n",
       "      <td>1.000000</td>\n",
       "    </tr>\n",
       "    <tr>\n",
       "      <th>max</th>\n",
       "      <td>61.000000</td>\n",
       "      <td>1.980000</td>\n",
       "      <td>173.000000</td>\n",
       "      <td>3.000000</td>\n",
       "      <td>4.000000</td>\n",
       "      <td>3.000000</td>\n",
       "      <td>3.000000</td>\n",
       "      <td>2.000000</td>\n",
       "    </tr>\n",
       "  </tbody>\n",
       "</table>\n",
       "</div>\n",
       "    <div class=\"colab-df-buttons\">\n",
       "\n",
       "  <div class=\"colab-df-container\">\n",
       "    <button class=\"colab-df-convert\" onclick=\"convertToInteractive('df-c1b268db-c685-48bb-85dc-8dcc7ad10822')\"\n",
       "            title=\"Convert this dataframe to an interactive table.\"\n",
       "            style=\"display:none;\">\n",
       "\n",
       "  <svg xmlns=\"http://www.w3.org/2000/svg\" height=\"24px\" viewBox=\"0 -960 960 960\">\n",
       "    <path d=\"M120-120v-720h720v720H120Zm60-500h600v-160H180v160Zm220 220h160v-160H400v160Zm0 220h160v-160H400v160ZM180-400h160v-160H180v160Zm440 0h160v-160H620v160ZM180-180h160v-160H180v160Zm440 0h160v-160H620v160Z\"/>\n",
       "  </svg>\n",
       "    </button>\n",
       "\n",
       "  <style>\n",
       "    .colab-df-container {\n",
       "      display:flex;\n",
       "      gap: 12px;\n",
       "    }\n",
       "\n",
       "    .colab-df-convert {\n",
       "      background-color: #E8F0FE;\n",
       "      border: none;\n",
       "      border-radius: 50%;\n",
       "      cursor: pointer;\n",
       "      display: none;\n",
       "      fill: #1967D2;\n",
       "      height: 32px;\n",
       "      padding: 0 0 0 0;\n",
       "      width: 32px;\n",
       "    }\n",
       "\n",
       "    .colab-df-convert:hover {\n",
       "      background-color: #E2EBFA;\n",
       "      box-shadow: 0px 1px 2px rgba(60, 64, 67, 0.3), 0px 1px 3px 1px rgba(60, 64, 67, 0.15);\n",
       "      fill: #174EA6;\n",
       "    }\n",
       "\n",
       "    .colab-df-buttons div {\n",
       "      margin-bottom: 4px;\n",
       "    }\n",
       "\n",
       "    [theme=dark] .colab-df-convert {\n",
       "      background-color: #3B4455;\n",
       "      fill: #D2E3FC;\n",
       "    }\n",
       "\n",
       "    [theme=dark] .colab-df-convert:hover {\n",
       "      background-color: #434B5C;\n",
       "      box-shadow: 0px 1px 3px 1px rgba(0, 0, 0, 0.15);\n",
       "      filter: drop-shadow(0px 1px 2px rgba(0, 0, 0, 0.3));\n",
       "      fill: #FFFFFF;\n",
       "    }\n",
       "  </style>\n",
       "\n",
       "    <script>\n",
       "      const buttonEl =\n",
       "        document.querySelector('#df-c1b268db-c685-48bb-85dc-8dcc7ad10822 button.colab-df-convert');\n",
       "      buttonEl.style.display =\n",
       "        google.colab.kernel.accessAllowed ? 'block' : 'none';\n",
       "\n",
       "      async function convertToInteractive(key) {\n",
       "        const element = document.querySelector('#df-c1b268db-c685-48bb-85dc-8dcc7ad10822');\n",
       "        const dataTable =\n",
       "          await google.colab.kernel.invokeFunction('convertToInteractive',\n",
       "                                                    [key], {});\n",
       "        if (!dataTable) return;\n",
       "\n",
       "        const docLinkHtml = 'Like what you see? Visit the ' +\n",
       "          '<a target=\"_blank\" href=https://colab.research.google.com/notebooks/data_table.ipynb>data table notebook</a>'\n",
       "          + ' to learn more about interactive tables.';\n",
       "        element.innerHTML = '';\n",
       "        dataTable['output_type'] = 'display_data';\n",
       "        await google.colab.output.renderOutput(dataTable, element);\n",
       "        const docLink = document.createElement('div');\n",
       "        docLink.innerHTML = docLinkHtml;\n",
       "        element.appendChild(docLink);\n",
       "      }\n",
       "    </script>\n",
       "  </div>\n",
       "\n",
       "\n",
       "    <div id=\"df-ba654511-c53c-471b-9f52-08e2e9235ac1\">\n",
       "      <button class=\"colab-df-quickchart\" onclick=\"quickchart('df-ba654511-c53c-471b-9f52-08e2e9235ac1')\"\n",
       "                title=\"Suggest charts\"\n",
       "                style=\"display:none;\">\n",
       "\n",
       "<svg xmlns=\"http://www.w3.org/2000/svg\" height=\"24px\"viewBox=\"0 0 24 24\"\n",
       "     width=\"24px\">\n",
       "    <g>\n",
       "        <path d=\"M19 3H5c-1.1 0-2 .9-2 2v14c0 1.1.9 2 2 2h14c1.1 0 2-.9 2-2V5c0-1.1-.9-2-2-2zM9 17H7v-7h2v7zm4 0h-2V7h2v10zm4 0h-2v-4h2v4z\"/>\n",
       "    </g>\n",
       "</svg>\n",
       "      </button>\n",
       "\n",
       "<style>\n",
       "  .colab-df-quickchart {\n",
       "      --bg-color: #E8F0FE;\n",
       "      --fill-color: #1967D2;\n",
       "      --hover-bg-color: #E2EBFA;\n",
       "      --hover-fill-color: #174EA6;\n",
       "      --disabled-fill-color: #AAA;\n",
       "      --disabled-bg-color: #DDD;\n",
       "  }\n",
       "\n",
       "  [theme=dark] .colab-df-quickchart {\n",
       "      --bg-color: #3B4455;\n",
       "      --fill-color: #D2E3FC;\n",
       "      --hover-bg-color: #434B5C;\n",
       "      --hover-fill-color: #FFFFFF;\n",
       "      --disabled-bg-color: #3B4455;\n",
       "      --disabled-fill-color: #666;\n",
       "  }\n",
       "\n",
       "  .colab-df-quickchart {\n",
       "    background-color: var(--bg-color);\n",
       "    border: none;\n",
       "    border-radius: 50%;\n",
       "    cursor: pointer;\n",
       "    display: none;\n",
       "    fill: var(--fill-color);\n",
       "    height: 32px;\n",
       "    padding: 0;\n",
       "    width: 32px;\n",
       "  }\n",
       "\n",
       "  .colab-df-quickchart:hover {\n",
       "    background-color: var(--hover-bg-color);\n",
       "    box-shadow: 0 1px 2px rgba(60, 64, 67, 0.3), 0 1px 3px 1px rgba(60, 64, 67, 0.15);\n",
       "    fill: var(--button-hover-fill-color);\n",
       "  }\n",
       "\n",
       "  .colab-df-quickchart-complete:disabled,\n",
       "  .colab-df-quickchart-complete:disabled:hover {\n",
       "    background-color: var(--disabled-bg-color);\n",
       "    fill: var(--disabled-fill-color);\n",
       "    box-shadow: none;\n",
       "  }\n",
       "\n",
       "  .colab-df-spinner {\n",
       "    border: 2px solid var(--fill-color);\n",
       "    border-color: transparent;\n",
       "    border-bottom-color: var(--fill-color);\n",
       "    animation:\n",
       "      spin 1s steps(1) infinite;\n",
       "  }\n",
       "\n",
       "  @keyframes spin {\n",
       "    0% {\n",
       "      border-color: transparent;\n",
       "      border-bottom-color: var(--fill-color);\n",
       "      border-left-color: var(--fill-color);\n",
       "    }\n",
       "    20% {\n",
       "      border-color: transparent;\n",
       "      border-left-color: var(--fill-color);\n",
       "      border-top-color: var(--fill-color);\n",
       "    }\n",
       "    30% {\n",
       "      border-color: transparent;\n",
       "      border-left-color: var(--fill-color);\n",
       "      border-top-color: var(--fill-color);\n",
       "      border-right-color: var(--fill-color);\n",
       "    }\n",
       "    40% {\n",
       "      border-color: transparent;\n",
       "      border-right-color: var(--fill-color);\n",
       "      border-top-color: var(--fill-color);\n",
       "    }\n",
       "    60% {\n",
       "      border-color: transparent;\n",
       "      border-right-color: var(--fill-color);\n",
       "    }\n",
       "    80% {\n",
       "      border-color: transparent;\n",
       "      border-right-color: var(--fill-color);\n",
       "      border-bottom-color: var(--fill-color);\n",
       "    }\n",
       "    90% {\n",
       "      border-color: transparent;\n",
       "      border-bottom-color: var(--fill-color);\n",
       "    }\n",
       "  }\n",
       "</style>\n",
       "\n",
       "      <script>\n",
       "        async function quickchart(key) {\n",
       "          const quickchartButtonEl =\n",
       "            document.querySelector('#' + key + ' button');\n",
       "          quickchartButtonEl.disabled = true;  // To prevent multiple clicks.\n",
       "          quickchartButtonEl.classList.add('colab-df-spinner');\n",
       "          try {\n",
       "            const charts = await google.colab.kernel.invokeFunction(\n",
       "                'suggestCharts', [key], {});\n",
       "          } catch (error) {\n",
       "            console.error('Error during call to suggestCharts:', error);\n",
       "          }\n",
       "          quickchartButtonEl.classList.remove('colab-df-spinner');\n",
       "          quickchartButtonEl.classList.add('colab-df-quickchart-complete');\n",
       "        }\n",
       "        (() => {\n",
       "          let quickchartButtonEl =\n",
       "            document.querySelector('#df-ba654511-c53c-471b-9f52-08e2e9235ac1 button');\n",
       "          quickchartButtonEl.style.display =\n",
       "            google.colab.kernel.accessAllowed ? 'block' : 'none';\n",
       "        })();\n",
       "      </script>\n",
       "    </div>\n",
       "\n",
       "    </div>\n",
       "  </div>\n"
      ],
      "text/plain": [
       "               Age       Height       Weight         FCVC          NCP  \\\n",
       "count  2111.000000  2111.000000  2111.000000  2111.000000  2111.000000   \n",
       "mean     24.312600     1.701677    86.586058     2.419043     2.685628   \n",
       "std       6.345968     0.093305    26.191172     0.533927     0.778039   \n",
       "min      14.000000     1.450000    39.000000     1.000000     1.000000   \n",
       "25%      19.947192     1.630000    65.473343     2.000000     2.658738   \n",
       "50%      22.777890     1.700499    83.000000     2.385502     3.000000   \n",
       "75%      26.000000     1.768464   107.430682     3.000000     3.000000   \n",
       "max      61.000000     1.980000   173.000000     3.000000     4.000000   \n",
       "\n",
       "              CH2O          FAF          TUE  \n",
       "count  2111.000000  2111.000000  2111.000000  \n",
       "mean      2.008011     1.010298     0.657866  \n",
       "std       0.612953     0.850592     0.608927  \n",
       "min       1.000000     0.000000     0.000000  \n",
       "25%       1.584812     0.124505     0.000000  \n",
       "50%       2.000000     1.000000     0.625350  \n",
       "75%       2.477420     1.666678     1.000000  \n",
       "max       3.000000     3.000000     2.000000  "
      ]
     },
     "execution_count": 30,
     "metadata": {},
     "output_type": "execute_result"
    }
   ],
   "source": [
    "# Análise das colunas quantitativas\n",
    "colunas_quantitativas = ['Age', 'Height', 'Weight', 'FCVC', 'NCP', 'CH2O', 'FAF', 'TUE']\n",
    "df[colunas_quantitativas].describe()"
   ]
  },
  {
   "cell_type": "code",
   "execution_count": null,
   "metadata": {
    "colab": {
     "base_uri": "https://localhost:8080/",
     "height": 241
    },
    "executionInfo": {
     "elapsed": 3,
     "status": "ok",
     "timestamp": 1752334354318,
     "user": {
      "displayName": "Rafael Cuer",
      "userId": "13186034730599541676"
     },
     "user_tz": 180
    },
    "id": "GXFvugRk3jEM",
    "outputId": "7fdb5344-6a5d-4d2a-b12c-98d9c70b0af6"
   },
   "outputs": [
    {
     "data": {
      "text/html": [
       "<div>\n",
       "<style scoped>\n",
       "    .dataframe tbody tr th:only-of-type {\n",
       "        vertical-align: middle;\n",
       "    }\n",
       "\n",
       "    .dataframe tbody tr th {\n",
       "        vertical-align: top;\n",
       "    }\n",
       "\n",
       "    .dataframe thead th {\n",
       "        text-align: right;\n",
       "    }\n",
       "</style>\n",
       "<table border=\"1\" class=\"dataframe\">\n",
       "  <thead>\n",
       "    <tr style=\"text-align: right;\">\n",
       "      <th></th>\n",
       "      <th>proportion</th>\n",
       "    </tr>\n",
       "    <tr>\n",
       "      <th>CAEC</th>\n",
       "      <th></th>\n",
       "    </tr>\n",
       "  </thead>\n",
       "  <tbody>\n",
       "    <tr>\n",
       "      <th>Sometimes</th>\n",
       "      <td>83.609664</td>\n",
       "    </tr>\n",
       "    <tr>\n",
       "      <th>Frequently</th>\n",
       "      <td>11.463761</td>\n",
       "    </tr>\n",
       "    <tr>\n",
       "      <th>Always</th>\n",
       "      <td>2.510658</td>\n",
       "    </tr>\n",
       "    <tr>\n",
       "      <th>no</th>\n",
       "      <td>2.415917</td>\n",
       "    </tr>\n",
       "  </tbody>\n",
       "</table>\n",
       "</div><br><label><b>dtype:</b> float64</label>"
      ],
      "text/plain": [
       "CAEC\n",
       "Sometimes     83.609664\n",
       "Frequently    11.463761\n",
       "Always         2.510658\n",
       "no             2.415917\n",
       "Name: proportion, dtype: float64"
      ]
     },
     "execution_count": 31,
     "metadata": {},
     "output_type": "execute_result"
    }
   ],
   "source": [
    "# Análises das colunas categoricas\n",
    "df['CAEC'].value_counts(normalize = True) * 100"
   ]
  },
  {
   "cell_type": "code",
   "execution_count": null,
   "metadata": {
    "colab": {
     "base_uri": "https://localhost:8080/",
     "height": 241
    },
    "executionInfo": {
     "elapsed": 19,
     "status": "ok",
     "timestamp": 1752334354338,
     "user": {
      "displayName": "Rafael Cuer",
      "userId": "13186034730599541676"
     },
     "user_tz": 180
    },
    "id": "NTjx8Pf64OE8",
    "outputId": "c8b46efe-582c-4492-e2c3-35b4e983bbc4"
   },
   "outputs": [
    {
     "data": {
      "text/html": [
       "<div>\n",
       "<style scoped>\n",
       "    .dataframe tbody tr th:only-of-type {\n",
       "        vertical-align: middle;\n",
       "    }\n",
       "\n",
       "    .dataframe tbody tr th {\n",
       "        vertical-align: top;\n",
       "    }\n",
       "\n",
       "    .dataframe thead th {\n",
       "        text-align: right;\n",
       "    }\n",
       "</style>\n",
       "<table border=\"1\" class=\"dataframe\">\n",
       "  <thead>\n",
       "    <tr style=\"text-align: right;\">\n",
       "      <th></th>\n",
       "      <th>proportion</th>\n",
       "    </tr>\n",
       "    <tr>\n",
       "      <th>CALC</th>\n",
       "      <th></th>\n",
       "    </tr>\n",
       "  </thead>\n",
       "  <tbody>\n",
       "    <tr>\n",
       "      <th>Sometimes</th>\n",
       "      <td>66.366651</td>\n",
       "    </tr>\n",
       "    <tr>\n",
       "      <th>no</th>\n",
       "      <td>30.270014</td>\n",
       "    </tr>\n",
       "    <tr>\n",
       "      <th>Frequently</th>\n",
       "      <td>3.315964</td>\n",
       "    </tr>\n",
       "    <tr>\n",
       "      <th>Always</th>\n",
       "      <td>0.047371</td>\n",
       "    </tr>\n",
       "  </tbody>\n",
       "</table>\n",
       "</div><br><label><b>dtype:</b> float64</label>"
      ],
      "text/plain": [
       "CALC\n",
       "Sometimes     66.366651\n",
       "no            30.270014\n",
       "Frequently     3.315964\n",
       "Always         0.047371\n",
       "Name: proportion, dtype: float64"
      ]
     },
     "execution_count": 32,
     "metadata": {},
     "output_type": "execute_result"
    }
   ],
   "source": [
    "df['CALC'].value_counts(normalize = True) * 100"
   ]
  },
  {
   "cell_type": "code",
   "execution_count": null,
   "metadata": {
    "colab": {
     "base_uri": "https://localhost:8080/",
     "height": 272
    },
    "executionInfo": {
     "elapsed": 15,
     "status": "ok",
     "timestamp": 1752334354364,
     "user": {
      "displayName": "Rafael Cuer",
      "userId": "13186034730599541676"
     },
     "user_tz": 180
    },
    "id": "LwgJ_pDY4hLV",
    "outputId": "501d63e7-6208-4834-a4ec-79a20d3fd955"
   },
   "outputs": [
    {
     "data": {
      "text/html": [
       "<div>\n",
       "<style scoped>\n",
       "    .dataframe tbody tr th:only-of-type {\n",
       "        vertical-align: middle;\n",
       "    }\n",
       "\n",
       "    .dataframe tbody tr th {\n",
       "        vertical-align: top;\n",
       "    }\n",
       "\n",
       "    .dataframe thead th {\n",
       "        text-align: right;\n",
       "    }\n",
       "</style>\n",
       "<table border=\"1\" class=\"dataframe\">\n",
       "  <thead>\n",
       "    <tr style=\"text-align: right;\">\n",
       "      <th></th>\n",
       "      <th>proportion</th>\n",
       "    </tr>\n",
       "    <tr>\n",
       "      <th>MTRANS</th>\n",
       "      <th></th>\n",
       "    </tr>\n",
       "  </thead>\n",
       "  <tbody>\n",
       "    <tr>\n",
       "      <th>Public_Transportation</th>\n",
       "      <td>74.846045</td>\n",
       "    </tr>\n",
       "    <tr>\n",
       "      <th>Automobile</th>\n",
       "      <td>21.648508</td>\n",
       "    </tr>\n",
       "    <tr>\n",
       "      <th>Walking</th>\n",
       "      <td>2.652771</td>\n",
       "    </tr>\n",
       "    <tr>\n",
       "      <th>Motorbike</th>\n",
       "      <td>0.521080</td>\n",
       "    </tr>\n",
       "    <tr>\n",
       "      <th>Bike</th>\n",
       "      <td>0.331596</td>\n",
       "    </tr>\n",
       "  </tbody>\n",
       "</table>\n",
       "</div><br><label><b>dtype:</b> float64</label>"
      ],
      "text/plain": [
       "MTRANS\n",
       "Public_Transportation    74.846045\n",
       "Automobile               21.648508\n",
       "Walking                   2.652771\n",
       "Motorbike                 0.521080\n",
       "Bike                      0.331596\n",
       "Name: proportion, dtype: float64"
      ]
     },
     "execution_count": 33,
     "metadata": {},
     "output_type": "execute_result"
    }
   ],
   "source": [
    "df['MTRANS'].value_counts(normalize = True) * 100"
   ]
  },
  {
   "cell_type": "markdown",
   "metadata": {
    "id": "pyxg3y8z4Haa"
   },
   "source": [
    "## Tratando a variável target"
   ]
  },
  {
   "cell_type": "code",
   "execution_count": null,
   "metadata": {
    "id": "ncuoZUID2UYV"
   },
   "outputs": [],
   "source": [
    "# Transforma a variável target \"Obesity\" em apenas duas categorias\n",
    "\n",
    "def ajusta_variavel_target(cat):\n",
    "    if cat in ['Insufficient_Weight', 'Normal_Weight', 'Overweight_Level_I', 'Overweight_Level_II']:\n",
    "        return 0\n",
    "    else:\n",
    "        return 1\n",
    "\n",
    "df['Obesity'] = df['Obesity'].apply(ajusta_variavel_target)"
   ]
  },
  {
   "cell_type": "markdown",
   "metadata": {
    "id": "2yVVe9AH68C4"
   },
   "source": [
    "## Construindo a Pipeline"
   ]
  },
  {
   "cell_type": "code",
   "execution_count": null,
   "metadata": {
    "id": "f2oeRt4k4VEu"
   },
   "outputs": [],
   "source": [
    "from sklearn.model_selection import train_test_split"
   ]
  },
  {
   "cell_type": "code",
   "execution_count": null,
   "metadata": {
    "id": "LmAie3HD7B9t"
   },
   "outputs": [],
   "source": [
    "SEED = 4658751\n",
    "#SEED = 4534562\n",
    "train_df, test_df = train_test_split(df, test_size=0.1, random_state=SEED)"
   ]
  },
  {
   "cell_type": "code",
   "execution_count": null,
   "metadata": {
    "id": "GGBh_BJu7QzD"
   },
   "outputs": [],
   "source": [
    "from sklearn.base import BaseEstimator, TransformerMixin\n",
    "from sklearn.preprocessing import MinMaxScaler, OneHotEncoder, OrdinalEncoder\n",
    "from imblearn.over_sampling import SMOTE"
   ]
  },
  {
   "cell_type": "code",
   "execution_count": null,
   "metadata": {
    "id": "INbJBd-vAbrN"
   },
   "outputs": [],
   "source": [
    "class DropFeatures(BaseEstimator,TransformerMixin):\n",
    "    def __init__(self,feature_to_drop = ['Weight']):\n",
    "        self.feature_to_drop = feature_to_drop\n",
    "    def fit(self,df):\n",
    "        return self\n",
    "    def transform(self,df):\n",
    "        if (set(self.feature_to_drop).issubset(df.columns)):\n",
    "            df.drop(self.feature_to_drop,axis=1,inplace=True)\n",
    "            return df\n",
    "        else:\n",
    "            print('Uma ou mais features não estão no DataFrame')\n",
    "            return df"
   ]
  },
  {
   "cell_type": "code",
   "execution_count": null,
   "metadata": {
    "id": "BybbqIdw7ry1"
   },
   "outputs": [],
   "source": [
    "class MinMax(BaseEstimator,TransformerMixin):\n",
    "    def __init__(self,min_max_scaler  = ['Age', 'Weight', 'Height', 'FCVC', 'NCP', 'CH2O', 'FAF', 'TUE']):\n",
    "        self.min_max_scaler = min_max_scaler\n",
    "    def fit(self,df):\n",
    "        return self\n",
    "    def transform(self,df):\n",
    "        if (set(self.min_max_scaler).issubset(df.columns)):\n",
    "            min_max_enc = MinMaxScaler()\n",
    "            df[self.min_max_scaler] = min_max_enc.fit_transform(df[self.min_max_scaler ])\n",
    "            return df\n",
    "        else:\n",
    "            print('Uma ou mais features não estão no DataFrame')\n",
    "            return df"
   ]
  },
  {
   "cell_type": "code",
   "execution_count": null,
   "metadata": {
    "id": "g2X1zV6D8AFR"
   },
   "outputs": [],
   "source": [
    "class OneHotEncodingNames(BaseEstimator,TransformerMixin):\n",
    "    def __init__(self,OneHotEncoding = ['MTRANS']):\n",
    "\n",
    "        self.OneHotEncoding = OneHotEncoding\n",
    "\n",
    "    def fit(self,df):\n",
    "        return self\n",
    "\n",
    "    def transform(self,df):\n",
    "        if (set(self.OneHotEncoding).issubset(df.columns)):\n",
    "            # função para one-hot-encoding das features\n",
    "            def one_hot_enc(df,OneHotEncoding):\n",
    "                one_hot_enc = OneHotEncoder()\n",
    "                one_hot_enc.fit(df[OneHotEncoding])\n",
    "                # obtendo o resultado dos nomes das colunas\n",
    "                feature_names = one_hot_enc.get_feature_names_out(OneHotEncoding)\n",
    "                # mudando o array do one hot encoding para um dataframe com os nomes das colunas\n",
    "                df = pd.DataFrame(one_hot_enc.transform(df[self.OneHotEncoding]).toarray(),\n",
    "                                  columns= feature_names,index=df.index)\n",
    "                return df\n",
    "\n",
    "            # função para concatenar as features com aquelas que não passaram pelo one-hot-encoding\n",
    "            def concat_with_rest(df,one_hot_enc_df,OneHotEncoding):\n",
    "                # get the rest of the features\n",
    "                outras_features = [feature for feature in df.columns if feature not in OneHotEncoding]\n",
    "                # concaternar o restante das features com as features que passaram pelo one-hot-encoding\n",
    "                df_concat = pd.concat([one_hot_enc_df, df[outras_features]],axis=1)\n",
    "                return df_concat\n",
    "\n",
    "            # one hot encoded dataframe\n",
    "            df_OneHotEncoding = one_hot_enc(df,self.OneHotEncoding)\n",
    "\n",
    "            # retorna o dataframe concatenado\n",
    "            df_full = concat_with_rest(df, df_OneHotEncoding,self.OneHotEncoding)\n",
    "            return df_full\n",
    "\n",
    "        else:\n",
    "            print('Uma ou mais features não estão no DataFrame')\n",
    "            missing = set(self.OneHotEncoding) - set(df.columns)\n",
    "            print(f\"Colunas ausentes no DataFrame: {missing}\")\n",
    "            return df"
   ]
  },
  {
   "cell_type": "code",
   "execution_count": null,
   "metadata": {
    "id": "k_GX_6IXuMvS"
   },
   "outputs": [],
   "source": [
    "class OrdinalFeature(BaseEstimator,TransformerMixin):\n",
    "    def __init__(self,ordinal_feature = ['CAEC', 'CALC']):\n",
    "        self.ordinal_feature = ordinal_feature\n",
    "    def fit(self,df):\n",
    "        return self\n",
    "    def transform(self,df):\n",
    "        for ordinal in self.ordinal_feature:\n",
    "          if ordinal in df.columns:\n",
    "              ordinal_encoder = OrdinalEncoder()\n",
    "              df[self.ordinal_feature] = ordinal_encoder.fit_transform(df[self.ordinal_feature])\n",
    "              return df\n",
    "          else:\n",
    "              print(f\"{ordinal} não está no DataFrame\")\n",
    "              return df"
   ]
  },
  {
   "cell_type": "code",
   "execution_count": null,
   "metadata": {
    "id": "vcFtaPcYuOfB"
   },
   "outputs": [],
   "source": [
    "class Oversample(BaseEstimator,TransformerMixin):\n",
    "    def __init__(self):\n",
    "        pass\n",
    "    def fit(self,df):\n",
    "        return self\n",
    "    def transform(self,df):\n",
    "        if 'Obesity' in df.columns:\n",
    "            # função smote para superamostrar a classe minoritária para corrigir os dados desbalanceados\n",
    "            oversample = SMOTE(sampling_strategy='minority')\n",
    "            X_bal, y_bal = oversample.fit_resample(df.loc[:, df.columns != 'Obesity'], df['Obesity'])\n",
    "            df_bal = pd.concat([pd.DataFrame(X_bal),pd.DataFrame(y_bal)],axis=1)\n",
    "            return df_bal\n",
    "        else:\n",
    "            print(\"O target não está no DataFrame\")\n",
    "            return df"
   ]
  },
  {
   "cell_type": "code",
   "execution_count": null,
   "metadata": {
    "id": "7kBF5xn6xVAT"
   },
   "outputs": [],
   "source": [
    "from sklearn.pipeline import Pipeline"
   ]
  },
  {
   "cell_type": "code",
   "execution_count": null,
   "metadata": {
    "colab": {
     "base_uri": "https://localhost:8080/",
     "height": 72
    },
    "executionInfo": {
     "elapsed": 16,
     "status": "ok",
     "timestamp": 1752334356290,
     "user": {
      "displayName": "Rafael Cuer",
      "userId": "13186034730599541676"
     },
     "user_tz": 180
    },
    "id": "bbBk64-JxWcq",
    "outputId": "e623b133-799a-414d-d236-34a46ecefdf6"
   },
   "outputs": [
    {
     "data": {
      "application/vnd.google.colaboratory.intrinsic+json": {
       "type": "string"
      },
      "text/plain": [
       "\"\\ndef pipeline(df):\\n\\n    pipeline = Pipeline([\\n        ('feature_dropper', DropFeatures()),\\n        ('OneHotEncoding', OneHotEncodingNames()),\\n        ('ordinal_feature', OrdinalFeature()),\\n        ('min_max_scaler', MinMax()),\\n        ('oversample', Oversample())\\n    ])\\n    df_pipeline = pipeline.fit_transform(df)\\n    return df_pipeline\\n\""
      ]
     },
     "execution_count": 44,
     "metadata": {},
     "output_type": "execute_result"
    }
   ],
   "source": [
    "'''\n",
    "def pipeline(df):\n",
    "\n",
    "    pipeline = Pipeline([\n",
    "        ('feature_dropper', DropFeatures()),\n",
    "        ('OneHotEncoding', OneHotEncodingNames()),\n",
    "        ('ordinal_feature', OrdinalFeature()),\n",
    "        ('min_max_scaler', MinMax()),\n",
    "        ('oversample', Oversample())\n",
    "    ])\n",
    "    df_pipeline = pipeline.fit_transform(df)\n",
    "    return df_pipeline\n",
    "'''"
   ]
  },
  {
   "cell_type": "code",
   "execution_count": null,
   "metadata": {
    "id": "iIvZNItdPJ-V"
   },
   "outputs": [],
   "source": [
    "def pipeline_train(df):\n",
    "\n",
    "    pipeline = Pipeline([\n",
    "        ('OneHotEncoding', OneHotEncodingNames()),\n",
    "        ('ordinal_feature', OrdinalFeature()),\n",
    "        ('min_max_scaler', MinMax())\n",
    "    ])\n",
    "    df_pipeline = pipeline.fit_transform(df)\n",
    "    return df_pipeline\n",
    "\n",
    "def pipeline_test(df):\n",
    "\n",
    "    pipeline = Pipeline([\n",
    "        ('OneHotEncoding', OneHotEncodingNames()),\n",
    "        ('ordinal_feature', OrdinalFeature()),\n",
    "        ('min_max_scaler', MinMax()),\n",
    "        ('oversample', Oversample())\n",
    "    ])\n",
    "    df_pipeline = pipeline.fit_transform(df)\n",
    "    return df_pipeline"
   ]
  },
  {
   "cell_type": "markdown",
   "metadata": {
    "id": "T7Tm80n9xjIS"
   },
   "source": [
    "## Escolhendo o melhor modelo"
   ]
  },
  {
   "cell_type": "code",
   "execution_count": null,
   "metadata": {
    "id": "rd0Dl2lxxl4E"
   },
   "outputs": [],
   "source": [
    "#train = pipeline(train_df)\n",
    "train = pipeline_train(train_df)"
   ]
  },
  {
   "cell_type": "code",
   "execution_count": null,
   "metadata": {
    "colab": {
     "base_uri": "https://localhost:8080/",
     "height": 255
    },
    "executionInfo": {
     "elapsed": 21,
     "status": "ok",
     "timestamp": 1752334356334,
     "user": {
      "displayName": "Rafael Cuer",
      "userId": "13186034730599541676"
     },
     "user_tz": 180
    },
    "id": "m2cVYZWp1Xhz",
    "outputId": "fd0148ef-8291-4010-b46a-23645e4f4434"
   },
   "outputs": [
    {
     "data": {
      "application/vnd.google.colaboratory.intrinsic+json": {
       "type": "dataframe",
       "variable_name": "train"
      },
      "text/html": [
       "\n",
       "  <div id=\"df-0e70e964-f1df-4006-b764-d3ddf6b0f33d\" class=\"colab-df-container\">\n",
       "    <div>\n",
       "<style scoped>\n",
       "    .dataframe tbody tr th:only-of-type {\n",
       "        vertical-align: middle;\n",
       "    }\n",
       "\n",
       "    .dataframe tbody tr th {\n",
       "        vertical-align: top;\n",
       "    }\n",
       "\n",
       "    .dataframe thead th {\n",
       "        text-align: right;\n",
       "    }\n",
       "</style>\n",
       "<table border=\"1\" class=\"dataframe\">\n",
       "  <thead>\n",
       "    <tr style=\"text-align: right;\">\n",
       "      <th></th>\n",
       "      <th>MTRANS_Automobile</th>\n",
       "      <th>MTRANS_Bike</th>\n",
       "      <th>MTRANS_Motorbike</th>\n",
       "      <th>MTRANS_Public_Transportation</th>\n",
       "      <th>MTRANS_Walking</th>\n",
       "      <th>Gender</th>\n",
       "      <th>Age</th>\n",
       "      <th>Height</th>\n",
       "      <th>Weight</th>\n",
       "      <th>family_history</th>\n",
       "      <th>...</th>\n",
       "      <th>FCVC</th>\n",
       "      <th>NCP</th>\n",
       "      <th>CAEC</th>\n",
       "      <th>SMOKE</th>\n",
       "      <th>CH2O</th>\n",
       "      <th>SCC</th>\n",
       "      <th>FAF</th>\n",
       "      <th>TUE</th>\n",
       "      <th>CALC</th>\n",
       "      <th>Obesity</th>\n",
       "    </tr>\n",
       "  </thead>\n",
       "  <tbody>\n",
       "    <tr>\n",
       "      <th>207</th>\n",
       "      <td>0.0</td>\n",
       "      <td>0.0</td>\n",
       "      <td>0.0</td>\n",
       "      <td>0.0</td>\n",
       "      <td>1.0</td>\n",
       "      <td>1</td>\n",
       "      <td>0.380952</td>\n",
       "      <td>0.566038</td>\n",
       "      <td>0.253731</td>\n",
       "      <td>1</td>\n",
       "      <td>...</td>\n",
       "      <td>0.500000</td>\n",
       "      <td>0.666667</td>\n",
       "      <td>3.0</td>\n",
       "      <td>0</td>\n",
       "      <td>0.500000</td>\n",
       "      <td>1</td>\n",
       "      <td>0.333333</td>\n",
       "      <td>0.000000</td>\n",
       "      <td>2.0</td>\n",
       "      <td>0</td>\n",
       "    </tr>\n",
       "    <tr>\n",
       "      <th>187</th>\n",
       "      <td>0.0</td>\n",
       "      <td>0.0</td>\n",
       "      <td>0.0</td>\n",
       "      <td>1.0</td>\n",
       "      <td>0.0</td>\n",
       "      <td>1</td>\n",
       "      <td>0.261905</td>\n",
       "      <td>0.622642</td>\n",
       "      <td>0.440299</td>\n",
       "      <td>1</td>\n",
       "      <td>...</td>\n",
       "      <td>0.500000</td>\n",
       "      <td>0.666667</td>\n",
       "      <td>2.0</td>\n",
       "      <td>0</td>\n",
       "      <td>1.000000</td>\n",
       "      <td>0</td>\n",
       "      <td>1.000000</td>\n",
       "      <td>1.000000</td>\n",
       "      <td>3.0</td>\n",
       "      <td>1</td>\n",
       "    </tr>\n",
       "    <tr>\n",
       "      <th>1757</th>\n",
       "      <td>0.0</td>\n",
       "      <td>0.0</td>\n",
       "      <td>0.0</td>\n",
       "      <td>1.0</td>\n",
       "      <td>0.0</td>\n",
       "      <td>1</td>\n",
       "      <td>0.233969</td>\n",
       "      <td>0.629451</td>\n",
       "      <td>0.611355</td>\n",
       "      <td>1</td>\n",
       "      <td>...</td>\n",
       "      <td>0.795646</td>\n",
       "      <td>0.652141</td>\n",
       "      <td>2.0</td>\n",
       "      <td>0</td>\n",
       "      <td>0.655415</td>\n",
       "      <td>0</td>\n",
       "      <td>0.495080</td>\n",
       "      <td>0.140907</td>\n",
       "      <td>2.0</td>\n",
       "      <td>1</td>\n",
       "    </tr>\n",
       "    <tr>\n",
       "      <th>1981</th>\n",
       "      <td>0.0</td>\n",
       "      <td>0.0</td>\n",
       "      <td>0.0</td>\n",
       "      <td>1.0</td>\n",
       "      <td>0.0</td>\n",
       "      <td>0</td>\n",
       "      <td>0.273657</td>\n",
       "      <td>0.422009</td>\n",
       "      <td>0.490334</td>\n",
       "      <td>1</td>\n",
       "      <td>...</td>\n",
       "      <td>1.000000</td>\n",
       "      <td>0.666667</td>\n",
       "      <td>2.0</td>\n",
       "      <td>0</td>\n",
       "      <td>0.085257</td>\n",
       "      <td>0</td>\n",
       "      <td>0.088277</td>\n",
       "      <td>0.448421</td>\n",
       "      <td>2.0</td>\n",
       "      <td>1</td>\n",
       "    </tr>\n",
       "    <tr>\n",
       "      <th>1209</th>\n",
       "      <td>0.0</td>\n",
       "      <td>0.0</td>\n",
       "      <td>0.0</td>\n",
       "      <td>1.0</td>\n",
       "      <td>0.0</td>\n",
       "      <td>1</td>\n",
       "      <td>0.284042</td>\n",
       "      <td>0.608394</td>\n",
       "      <td>0.492537</td>\n",
       "      <td>1</td>\n",
       "      <td>...</td>\n",
       "      <td>1.000000</td>\n",
       "      <td>0.666667</td>\n",
       "      <td>2.0</td>\n",
       "      <td>0</td>\n",
       "      <td>0.522534</td>\n",
       "      <td>0</td>\n",
       "      <td>0.575310</td>\n",
       "      <td>0.809798</td>\n",
       "      <td>2.0</td>\n",
       "      <td>1</td>\n",
       "    </tr>\n",
       "  </tbody>\n",
       "</table>\n",
       "<p>5 rows × 21 columns</p>\n",
       "</div>\n",
       "    <div class=\"colab-df-buttons\">\n",
       "\n",
       "  <div class=\"colab-df-container\">\n",
       "    <button class=\"colab-df-convert\" onclick=\"convertToInteractive('df-0e70e964-f1df-4006-b764-d3ddf6b0f33d')\"\n",
       "            title=\"Convert this dataframe to an interactive table.\"\n",
       "            style=\"display:none;\">\n",
       "\n",
       "  <svg xmlns=\"http://www.w3.org/2000/svg\" height=\"24px\" viewBox=\"0 -960 960 960\">\n",
       "    <path d=\"M120-120v-720h720v720H120Zm60-500h600v-160H180v160Zm220 220h160v-160H400v160Zm0 220h160v-160H400v160ZM180-400h160v-160H180v160Zm440 0h160v-160H620v160ZM180-180h160v-160H180v160Zm440 0h160v-160H620v160Z\"/>\n",
       "  </svg>\n",
       "    </button>\n",
       "\n",
       "  <style>\n",
       "    .colab-df-container {\n",
       "      display:flex;\n",
       "      gap: 12px;\n",
       "    }\n",
       "\n",
       "    .colab-df-convert {\n",
       "      background-color: #E8F0FE;\n",
       "      border: none;\n",
       "      border-radius: 50%;\n",
       "      cursor: pointer;\n",
       "      display: none;\n",
       "      fill: #1967D2;\n",
       "      height: 32px;\n",
       "      padding: 0 0 0 0;\n",
       "      width: 32px;\n",
       "    }\n",
       "\n",
       "    .colab-df-convert:hover {\n",
       "      background-color: #E2EBFA;\n",
       "      box-shadow: 0px 1px 2px rgba(60, 64, 67, 0.3), 0px 1px 3px 1px rgba(60, 64, 67, 0.15);\n",
       "      fill: #174EA6;\n",
       "    }\n",
       "\n",
       "    .colab-df-buttons div {\n",
       "      margin-bottom: 4px;\n",
       "    }\n",
       "\n",
       "    [theme=dark] .colab-df-convert {\n",
       "      background-color: #3B4455;\n",
       "      fill: #D2E3FC;\n",
       "    }\n",
       "\n",
       "    [theme=dark] .colab-df-convert:hover {\n",
       "      background-color: #434B5C;\n",
       "      box-shadow: 0px 1px 3px 1px rgba(0, 0, 0, 0.15);\n",
       "      filter: drop-shadow(0px 1px 2px rgba(0, 0, 0, 0.3));\n",
       "      fill: #FFFFFF;\n",
       "    }\n",
       "  </style>\n",
       "\n",
       "    <script>\n",
       "      const buttonEl =\n",
       "        document.querySelector('#df-0e70e964-f1df-4006-b764-d3ddf6b0f33d button.colab-df-convert');\n",
       "      buttonEl.style.display =\n",
       "        google.colab.kernel.accessAllowed ? 'block' : 'none';\n",
       "\n",
       "      async function convertToInteractive(key) {\n",
       "        const element = document.querySelector('#df-0e70e964-f1df-4006-b764-d3ddf6b0f33d');\n",
       "        const dataTable =\n",
       "          await google.colab.kernel.invokeFunction('convertToInteractive',\n",
       "                                                    [key], {});\n",
       "        if (!dataTable) return;\n",
       "\n",
       "        const docLinkHtml = 'Like what you see? Visit the ' +\n",
       "          '<a target=\"_blank\" href=https://colab.research.google.com/notebooks/data_table.ipynb>data table notebook</a>'\n",
       "          + ' to learn more about interactive tables.';\n",
       "        element.innerHTML = '';\n",
       "        dataTable['output_type'] = 'display_data';\n",
       "        await google.colab.output.renderOutput(dataTable, element);\n",
       "        const docLink = document.createElement('div');\n",
       "        docLink.innerHTML = docLinkHtml;\n",
       "        element.appendChild(docLink);\n",
       "      }\n",
       "    </script>\n",
       "  </div>\n",
       "\n",
       "\n",
       "    <div id=\"df-ddb3d8bc-4ba1-4542-a1ee-37fae162f2f9\">\n",
       "      <button class=\"colab-df-quickchart\" onclick=\"quickchart('df-ddb3d8bc-4ba1-4542-a1ee-37fae162f2f9')\"\n",
       "                title=\"Suggest charts\"\n",
       "                style=\"display:none;\">\n",
       "\n",
       "<svg xmlns=\"http://www.w3.org/2000/svg\" height=\"24px\"viewBox=\"0 0 24 24\"\n",
       "     width=\"24px\">\n",
       "    <g>\n",
       "        <path d=\"M19 3H5c-1.1 0-2 .9-2 2v14c0 1.1.9 2 2 2h14c1.1 0 2-.9 2-2V5c0-1.1-.9-2-2-2zM9 17H7v-7h2v7zm4 0h-2V7h2v10zm4 0h-2v-4h2v4z\"/>\n",
       "    </g>\n",
       "</svg>\n",
       "      </button>\n",
       "\n",
       "<style>\n",
       "  .colab-df-quickchart {\n",
       "      --bg-color: #E8F0FE;\n",
       "      --fill-color: #1967D2;\n",
       "      --hover-bg-color: #E2EBFA;\n",
       "      --hover-fill-color: #174EA6;\n",
       "      --disabled-fill-color: #AAA;\n",
       "      --disabled-bg-color: #DDD;\n",
       "  }\n",
       "\n",
       "  [theme=dark] .colab-df-quickchart {\n",
       "      --bg-color: #3B4455;\n",
       "      --fill-color: #D2E3FC;\n",
       "      --hover-bg-color: #434B5C;\n",
       "      --hover-fill-color: #FFFFFF;\n",
       "      --disabled-bg-color: #3B4455;\n",
       "      --disabled-fill-color: #666;\n",
       "  }\n",
       "\n",
       "  .colab-df-quickchart {\n",
       "    background-color: var(--bg-color);\n",
       "    border: none;\n",
       "    border-radius: 50%;\n",
       "    cursor: pointer;\n",
       "    display: none;\n",
       "    fill: var(--fill-color);\n",
       "    height: 32px;\n",
       "    padding: 0;\n",
       "    width: 32px;\n",
       "  }\n",
       "\n",
       "  .colab-df-quickchart:hover {\n",
       "    background-color: var(--hover-bg-color);\n",
       "    box-shadow: 0 1px 2px rgba(60, 64, 67, 0.3), 0 1px 3px 1px rgba(60, 64, 67, 0.15);\n",
       "    fill: var(--button-hover-fill-color);\n",
       "  }\n",
       "\n",
       "  .colab-df-quickchart-complete:disabled,\n",
       "  .colab-df-quickchart-complete:disabled:hover {\n",
       "    background-color: var(--disabled-bg-color);\n",
       "    fill: var(--disabled-fill-color);\n",
       "    box-shadow: none;\n",
       "  }\n",
       "\n",
       "  .colab-df-spinner {\n",
       "    border: 2px solid var(--fill-color);\n",
       "    border-color: transparent;\n",
       "    border-bottom-color: var(--fill-color);\n",
       "    animation:\n",
       "      spin 1s steps(1) infinite;\n",
       "  }\n",
       "\n",
       "  @keyframes spin {\n",
       "    0% {\n",
       "      border-color: transparent;\n",
       "      border-bottom-color: var(--fill-color);\n",
       "      border-left-color: var(--fill-color);\n",
       "    }\n",
       "    20% {\n",
       "      border-color: transparent;\n",
       "      border-left-color: var(--fill-color);\n",
       "      border-top-color: var(--fill-color);\n",
       "    }\n",
       "    30% {\n",
       "      border-color: transparent;\n",
       "      border-left-color: var(--fill-color);\n",
       "      border-top-color: var(--fill-color);\n",
       "      border-right-color: var(--fill-color);\n",
       "    }\n",
       "    40% {\n",
       "      border-color: transparent;\n",
       "      border-right-color: var(--fill-color);\n",
       "      border-top-color: var(--fill-color);\n",
       "    }\n",
       "    60% {\n",
       "      border-color: transparent;\n",
       "      border-right-color: var(--fill-color);\n",
       "    }\n",
       "    80% {\n",
       "      border-color: transparent;\n",
       "      border-right-color: var(--fill-color);\n",
       "      border-bottom-color: var(--fill-color);\n",
       "    }\n",
       "    90% {\n",
       "      border-color: transparent;\n",
       "      border-bottom-color: var(--fill-color);\n",
       "    }\n",
       "  }\n",
       "</style>\n",
       "\n",
       "      <script>\n",
       "        async function quickchart(key) {\n",
       "          const quickchartButtonEl =\n",
       "            document.querySelector('#' + key + ' button');\n",
       "          quickchartButtonEl.disabled = true;  // To prevent multiple clicks.\n",
       "          quickchartButtonEl.classList.add('colab-df-spinner');\n",
       "          try {\n",
       "            const charts = await google.colab.kernel.invokeFunction(\n",
       "                'suggestCharts', [key], {});\n",
       "          } catch (error) {\n",
       "            console.error('Error during call to suggestCharts:', error);\n",
       "          }\n",
       "          quickchartButtonEl.classList.remove('colab-df-spinner');\n",
       "          quickchartButtonEl.classList.add('colab-df-quickchart-complete');\n",
       "        }\n",
       "        (() => {\n",
       "          let quickchartButtonEl =\n",
       "            document.querySelector('#df-ddb3d8bc-4ba1-4542-a1ee-37fae162f2f9 button');\n",
       "          quickchartButtonEl.style.display =\n",
       "            google.colab.kernel.accessAllowed ? 'block' : 'none';\n",
       "        })();\n",
       "      </script>\n",
       "    </div>\n",
       "\n",
       "    </div>\n",
       "  </div>\n"
      ],
      "text/plain": [
       "      MTRANS_Automobile  MTRANS_Bike  MTRANS_Motorbike  \\\n",
       "207                 0.0          0.0               0.0   \n",
       "187                 0.0          0.0               0.0   \n",
       "1757                0.0          0.0               0.0   \n",
       "1981                0.0          0.0               0.0   \n",
       "1209                0.0          0.0               0.0   \n",
       "\n",
       "      MTRANS_Public_Transportation  MTRANS_Walking  Gender       Age  \\\n",
       "207                            0.0             1.0       1  0.380952   \n",
       "187                            1.0             0.0       1  0.261905   \n",
       "1757                           1.0             0.0       1  0.233969   \n",
       "1981                           1.0             0.0       0  0.273657   \n",
       "1209                           1.0             0.0       1  0.284042   \n",
       "\n",
       "        Height    Weight  family_history  ...      FCVC       NCP  CAEC  \\\n",
       "207   0.566038  0.253731               1  ...  0.500000  0.666667   3.0   \n",
       "187   0.622642  0.440299               1  ...  0.500000  0.666667   2.0   \n",
       "1757  0.629451  0.611355               1  ...  0.795646  0.652141   2.0   \n",
       "1981  0.422009  0.490334               1  ...  1.000000  0.666667   2.0   \n",
       "1209  0.608394  0.492537               1  ...  1.000000  0.666667   2.0   \n",
       "\n",
       "      SMOKE      CH2O  SCC       FAF       TUE  CALC  Obesity  \n",
       "207       0  0.500000    1  0.333333  0.000000   2.0        0  \n",
       "187       0  1.000000    0  1.000000  1.000000   3.0        1  \n",
       "1757      0  0.655415    0  0.495080  0.140907   2.0        1  \n",
       "1981      0  0.085257    0  0.088277  0.448421   2.0        1  \n",
       "1209      0  0.522534    0  0.575310  0.809798   2.0        1  \n",
       "\n",
       "[5 rows x 21 columns]"
      ]
     },
     "execution_count": 47,
     "metadata": {},
     "output_type": "execute_result"
    }
   ],
   "source": [
    "train.head()"
   ]
  },
  {
   "cell_type": "code",
   "execution_count": null,
   "metadata": {
    "id": "8ushaj3G1m36"
   },
   "outputs": [],
   "source": [
    "X_train, y_train = train.loc[:, train.columns != 'Obesity'], train['Obesity']"
   ]
  },
  {
   "cell_type": "code",
   "execution_count": null,
   "metadata": {
    "id": "rIVgMZiT1406"
   },
   "outputs": [],
   "source": [
    "#test = pipeline(test_df)\n",
    "test = pipeline_test(test_df)"
   ]
  },
  {
   "cell_type": "code",
   "execution_count": null,
   "metadata": {
    "colab": {
     "base_uri": "https://localhost:8080/",
     "height": 255
    },
    "executionInfo": {
     "elapsed": 41,
     "status": "ok",
     "timestamp": 1752334356423,
     "user": {
      "displayName": "Rafael Cuer",
      "userId": "13186034730599541676"
     },
     "user_tz": 180
    },
    "id": "uOMtSzyQ17P8",
    "outputId": "dc555d2a-e838-403d-adfc-8cf13f610a37"
   },
   "outputs": [
    {
     "data": {
      "application/vnd.google.colaboratory.intrinsic+json": {
       "type": "dataframe",
       "variable_name": "test"
      },
      "text/html": [
       "\n",
       "  <div id=\"df-6698b2e7-3b5f-46e3-b85d-99f22ba8a1d8\" class=\"colab-df-container\">\n",
       "    <div>\n",
       "<style scoped>\n",
       "    .dataframe tbody tr th:only-of-type {\n",
       "        vertical-align: middle;\n",
       "    }\n",
       "\n",
       "    .dataframe tbody tr th {\n",
       "        vertical-align: top;\n",
       "    }\n",
       "\n",
       "    .dataframe thead th {\n",
       "        text-align: right;\n",
       "    }\n",
       "</style>\n",
       "<table border=\"1\" class=\"dataframe\">\n",
       "  <thead>\n",
       "    <tr style=\"text-align: right;\">\n",
       "      <th></th>\n",
       "      <th>MTRANS_Automobile</th>\n",
       "      <th>MTRANS_Bike</th>\n",
       "      <th>MTRANS_Motorbike</th>\n",
       "      <th>MTRANS_Public_Transportation</th>\n",
       "      <th>MTRANS_Walking</th>\n",
       "      <th>Gender</th>\n",
       "      <th>Age</th>\n",
       "      <th>Height</th>\n",
       "      <th>Weight</th>\n",
       "      <th>family_history</th>\n",
       "      <th>...</th>\n",
       "      <th>FCVC</th>\n",
       "      <th>NCP</th>\n",
       "      <th>CAEC</th>\n",
       "      <th>SMOKE</th>\n",
       "      <th>CH2O</th>\n",
       "      <th>SCC</th>\n",
       "      <th>FAF</th>\n",
       "      <th>TUE</th>\n",
       "      <th>CALC</th>\n",
       "      <th>Obesity</th>\n",
       "    </tr>\n",
       "  </thead>\n",
       "  <tbody>\n",
       "    <tr>\n",
       "      <th>0</th>\n",
       "      <td>0.0</td>\n",
       "      <td>0.0</td>\n",
       "      <td>0.0</td>\n",
       "      <td>1.0</td>\n",
       "      <td>0.0</td>\n",
       "      <td>0</td>\n",
       "      <td>0.314742</td>\n",
       "      <td>0.112107</td>\n",
       "      <td>0.330873</td>\n",
       "      <td>1</td>\n",
       "      <td>...</td>\n",
       "      <td>0.514112</td>\n",
       "      <td>0.307869</td>\n",
       "      <td>2.0</td>\n",
       "      <td>0</td>\n",
       "      <td>0.399459</td>\n",
       "      <td>0</td>\n",
       "      <td>0.000000</td>\n",
       "      <td>0.000000</td>\n",
       "      <td>2.0</td>\n",
       "      <td>1</td>\n",
       "    </tr>\n",
       "    <tr>\n",
       "      <th>1</th>\n",
       "      <td>1.0</td>\n",
       "      <td>0.0</td>\n",
       "      <td>0.0</td>\n",
       "      <td>0.0</td>\n",
       "      <td>0.0</td>\n",
       "      <td>1</td>\n",
       "      <td>0.133333</td>\n",
       "      <td>0.574674</td>\n",
       "      <td>0.304611</td>\n",
       "      <td>1</td>\n",
       "      <td>...</td>\n",
       "      <td>1.000000</td>\n",
       "      <td>0.666667</td>\n",
       "      <td>1.0</td>\n",
       "      <td>0</td>\n",
       "      <td>0.000000</td>\n",
       "      <td>0</td>\n",
       "      <td>0.333333</td>\n",
       "      <td>0.000000</td>\n",
       "      <td>2.0</td>\n",
       "      <td>0</td>\n",
       "    </tr>\n",
       "    <tr>\n",
       "      <th>2</th>\n",
       "      <td>0.0</td>\n",
       "      <td>0.0</td>\n",
       "      <td>0.0</td>\n",
       "      <td>0.0</td>\n",
       "      <td>1.0</td>\n",
       "      <td>0</td>\n",
       "      <td>0.044444</td>\n",
       "      <td>0.485131</td>\n",
       "      <td>0.087959</td>\n",
       "      <td>0</td>\n",
       "      <td>...</td>\n",
       "      <td>0.500000</td>\n",
       "      <td>0.666667</td>\n",
       "      <td>2.0</td>\n",
       "      <td>0</td>\n",
       "      <td>0.500000</td>\n",
       "      <td>0</td>\n",
       "      <td>0.000000</td>\n",
       "      <td>0.500000</td>\n",
       "      <td>1.0</td>\n",
       "      <td>0</td>\n",
       "    </tr>\n",
       "    <tr>\n",
       "      <th>3</th>\n",
       "      <td>1.0</td>\n",
       "      <td>0.0</td>\n",
       "      <td>0.0</td>\n",
       "      <td>0.0</td>\n",
       "      <td>0.0</td>\n",
       "      <td>1</td>\n",
       "      <td>0.346031</td>\n",
       "      <td>0.636201</td>\n",
       "      <td>0.695954</td>\n",
       "      <td>1</td>\n",
       "      <td>...</td>\n",
       "      <td>0.788455</td>\n",
       "      <td>0.666667</td>\n",
       "      <td>2.0</td>\n",
       "      <td>0</td>\n",
       "      <td>0.540094</td>\n",
       "      <td>0</td>\n",
       "      <td>0.347560</td>\n",
       "      <td>0.188341</td>\n",
       "      <td>1.0</td>\n",
       "      <td>1</td>\n",
       "    </tr>\n",
       "    <tr>\n",
       "      <th>4</th>\n",
       "      <td>0.0</td>\n",
       "      <td>0.0</td>\n",
       "      <td>0.0</td>\n",
       "      <td>1.0</td>\n",
       "      <td>0.0</td>\n",
       "      <td>0</td>\n",
       "      <td>0.113891</td>\n",
       "      <td>0.636187</td>\n",
       "      <td>0.142261</td>\n",
       "      <td>1</td>\n",
       "      <td>...</td>\n",
       "      <td>0.685669</td>\n",
       "      <td>0.999589</td>\n",
       "      <td>1.0</td>\n",
       "      <td>0</td>\n",
       "      <td>0.631733</td>\n",
       "      <td>0</td>\n",
       "      <td>0.666667</td>\n",
       "      <td>0.422002</td>\n",
       "      <td>2.0</td>\n",
       "      <td>0</td>\n",
       "    </tr>\n",
       "  </tbody>\n",
       "</table>\n",
       "<p>5 rows × 21 columns</p>\n",
       "</div>\n",
       "    <div class=\"colab-df-buttons\">\n",
       "\n",
       "  <div class=\"colab-df-container\">\n",
       "    <button class=\"colab-df-convert\" onclick=\"convertToInteractive('df-6698b2e7-3b5f-46e3-b85d-99f22ba8a1d8')\"\n",
       "            title=\"Convert this dataframe to an interactive table.\"\n",
       "            style=\"display:none;\">\n",
       "\n",
       "  <svg xmlns=\"http://www.w3.org/2000/svg\" height=\"24px\" viewBox=\"0 -960 960 960\">\n",
       "    <path d=\"M120-120v-720h720v720H120Zm60-500h600v-160H180v160Zm220 220h160v-160H400v160Zm0 220h160v-160H400v160ZM180-400h160v-160H180v160Zm440 0h160v-160H620v160ZM180-180h160v-160H180v160Zm440 0h160v-160H620v160Z\"/>\n",
       "  </svg>\n",
       "    </button>\n",
       "\n",
       "  <style>\n",
       "    .colab-df-container {\n",
       "      display:flex;\n",
       "      gap: 12px;\n",
       "    }\n",
       "\n",
       "    .colab-df-convert {\n",
       "      background-color: #E8F0FE;\n",
       "      border: none;\n",
       "      border-radius: 50%;\n",
       "      cursor: pointer;\n",
       "      display: none;\n",
       "      fill: #1967D2;\n",
       "      height: 32px;\n",
       "      padding: 0 0 0 0;\n",
       "      width: 32px;\n",
       "    }\n",
       "\n",
       "    .colab-df-convert:hover {\n",
       "      background-color: #E2EBFA;\n",
       "      box-shadow: 0px 1px 2px rgba(60, 64, 67, 0.3), 0px 1px 3px 1px rgba(60, 64, 67, 0.15);\n",
       "      fill: #174EA6;\n",
       "    }\n",
       "\n",
       "    .colab-df-buttons div {\n",
       "      margin-bottom: 4px;\n",
       "    }\n",
       "\n",
       "    [theme=dark] .colab-df-convert {\n",
       "      background-color: #3B4455;\n",
       "      fill: #D2E3FC;\n",
       "    }\n",
       "\n",
       "    [theme=dark] .colab-df-convert:hover {\n",
       "      background-color: #434B5C;\n",
       "      box-shadow: 0px 1px 3px 1px rgba(0, 0, 0, 0.15);\n",
       "      filter: drop-shadow(0px 1px 2px rgba(0, 0, 0, 0.3));\n",
       "      fill: #FFFFFF;\n",
       "    }\n",
       "  </style>\n",
       "\n",
       "    <script>\n",
       "      const buttonEl =\n",
       "        document.querySelector('#df-6698b2e7-3b5f-46e3-b85d-99f22ba8a1d8 button.colab-df-convert');\n",
       "      buttonEl.style.display =\n",
       "        google.colab.kernel.accessAllowed ? 'block' : 'none';\n",
       "\n",
       "      async function convertToInteractive(key) {\n",
       "        const element = document.querySelector('#df-6698b2e7-3b5f-46e3-b85d-99f22ba8a1d8');\n",
       "        const dataTable =\n",
       "          await google.colab.kernel.invokeFunction('convertToInteractive',\n",
       "                                                    [key], {});\n",
       "        if (!dataTable) return;\n",
       "\n",
       "        const docLinkHtml = 'Like what you see? Visit the ' +\n",
       "          '<a target=\"_blank\" href=https://colab.research.google.com/notebooks/data_table.ipynb>data table notebook</a>'\n",
       "          + ' to learn more about interactive tables.';\n",
       "        element.innerHTML = '';\n",
       "        dataTable['output_type'] = 'display_data';\n",
       "        await google.colab.output.renderOutput(dataTable, element);\n",
       "        const docLink = document.createElement('div');\n",
       "        docLink.innerHTML = docLinkHtml;\n",
       "        element.appendChild(docLink);\n",
       "      }\n",
       "    </script>\n",
       "  </div>\n",
       "\n",
       "\n",
       "    <div id=\"df-20212305-2d63-46fe-a550-882bd812d7c3\">\n",
       "      <button class=\"colab-df-quickchart\" onclick=\"quickchart('df-20212305-2d63-46fe-a550-882bd812d7c3')\"\n",
       "                title=\"Suggest charts\"\n",
       "                style=\"display:none;\">\n",
       "\n",
       "<svg xmlns=\"http://www.w3.org/2000/svg\" height=\"24px\"viewBox=\"0 0 24 24\"\n",
       "     width=\"24px\">\n",
       "    <g>\n",
       "        <path d=\"M19 3H5c-1.1 0-2 .9-2 2v14c0 1.1.9 2 2 2h14c1.1 0 2-.9 2-2V5c0-1.1-.9-2-2-2zM9 17H7v-7h2v7zm4 0h-2V7h2v10zm4 0h-2v-4h2v4z\"/>\n",
       "    </g>\n",
       "</svg>\n",
       "      </button>\n",
       "\n",
       "<style>\n",
       "  .colab-df-quickchart {\n",
       "      --bg-color: #E8F0FE;\n",
       "      --fill-color: #1967D2;\n",
       "      --hover-bg-color: #E2EBFA;\n",
       "      --hover-fill-color: #174EA6;\n",
       "      --disabled-fill-color: #AAA;\n",
       "      --disabled-bg-color: #DDD;\n",
       "  }\n",
       "\n",
       "  [theme=dark] .colab-df-quickchart {\n",
       "      --bg-color: #3B4455;\n",
       "      --fill-color: #D2E3FC;\n",
       "      --hover-bg-color: #434B5C;\n",
       "      --hover-fill-color: #FFFFFF;\n",
       "      --disabled-bg-color: #3B4455;\n",
       "      --disabled-fill-color: #666;\n",
       "  }\n",
       "\n",
       "  .colab-df-quickchart {\n",
       "    background-color: var(--bg-color);\n",
       "    border: none;\n",
       "    border-radius: 50%;\n",
       "    cursor: pointer;\n",
       "    display: none;\n",
       "    fill: var(--fill-color);\n",
       "    height: 32px;\n",
       "    padding: 0;\n",
       "    width: 32px;\n",
       "  }\n",
       "\n",
       "  .colab-df-quickchart:hover {\n",
       "    background-color: var(--hover-bg-color);\n",
       "    box-shadow: 0 1px 2px rgba(60, 64, 67, 0.3), 0 1px 3px 1px rgba(60, 64, 67, 0.15);\n",
       "    fill: var(--button-hover-fill-color);\n",
       "  }\n",
       "\n",
       "  .colab-df-quickchart-complete:disabled,\n",
       "  .colab-df-quickchart-complete:disabled:hover {\n",
       "    background-color: var(--disabled-bg-color);\n",
       "    fill: var(--disabled-fill-color);\n",
       "    box-shadow: none;\n",
       "  }\n",
       "\n",
       "  .colab-df-spinner {\n",
       "    border: 2px solid var(--fill-color);\n",
       "    border-color: transparent;\n",
       "    border-bottom-color: var(--fill-color);\n",
       "    animation:\n",
       "      spin 1s steps(1) infinite;\n",
       "  }\n",
       "\n",
       "  @keyframes spin {\n",
       "    0% {\n",
       "      border-color: transparent;\n",
       "      border-bottom-color: var(--fill-color);\n",
       "      border-left-color: var(--fill-color);\n",
       "    }\n",
       "    20% {\n",
       "      border-color: transparent;\n",
       "      border-left-color: var(--fill-color);\n",
       "      border-top-color: var(--fill-color);\n",
       "    }\n",
       "    30% {\n",
       "      border-color: transparent;\n",
       "      border-left-color: var(--fill-color);\n",
       "      border-top-color: var(--fill-color);\n",
       "      border-right-color: var(--fill-color);\n",
       "    }\n",
       "    40% {\n",
       "      border-color: transparent;\n",
       "      border-right-color: var(--fill-color);\n",
       "      border-top-color: var(--fill-color);\n",
       "    }\n",
       "    60% {\n",
       "      border-color: transparent;\n",
       "      border-right-color: var(--fill-color);\n",
       "    }\n",
       "    80% {\n",
       "      border-color: transparent;\n",
       "      border-right-color: var(--fill-color);\n",
       "      border-bottom-color: var(--fill-color);\n",
       "    }\n",
       "    90% {\n",
       "      border-color: transparent;\n",
       "      border-bottom-color: var(--fill-color);\n",
       "    }\n",
       "  }\n",
       "</style>\n",
       "\n",
       "      <script>\n",
       "        async function quickchart(key) {\n",
       "          const quickchartButtonEl =\n",
       "            document.querySelector('#' + key + ' button');\n",
       "          quickchartButtonEl.disabled = true;  // To prevent multiple clicks.\n",
       "          quickchartButtonEl.classList.add('colab-df-spinner');\n",
       "          try {\n",
       "            const charts = await google.colab.kernel.invokeFunction(\n",
       "                'suggestCharts', [key], {});\n",
       "          } catch (error) {\n",
       "            console.error('Error during call to suggestCharts:', error);\n",
       "          }\n",
       "          quickchartButtonEl.classList.remove('colab-df-spinner');\n",
       "          quickchartButtonEl.classList.add('colab-df-quickchart-complete');\n",
       "        }\n",
       "        (() => {\n",
       "          let quickchartButtonEl =\n",
       "            document.querySelector('#df-20212305-2d63-46fe-a550-882bd812d7c3 button');\n",
       "          quickchartButtonEl.style.display =\n",
       "            google.colab.kernel.accessAllowed ? 'block' : 'none';\n",
       "        })();\n",
       "      </script>\n",
       "    </div>\n",
       "\n",
       "    </div>\n",
       "  </div>\n"
      ],
      "text/plain": [
       "   MTRANS_Automobile  MTRANS_Bike  MTRANS_Motorbike  \\\n",
       "0                0.0          0.0               0.0   \n",
       "1                1.0          0.0               0.0   \n",
       "2                0.0          0.0               0.0   \n",
       "3                1.0          0.0               0.0   \n",
       "4                0.0          0.0               0.0   \n",
       "\n",
       "   MTRANS_Public_Transportation  MTRANS_Walking  Gender       Age    Height  \\\n",
       "0                           1.0             0.0       0  0.314742  0.112107   \n",
       "1                           0.0             0.0       1  0.133333  0.574674   \n",
       "2                           0.0             1.0       0  0.044444  0.485131   \n",
       "3                           0.0             0.0       1  0.346031  0.636201   \n",
       "4                           1.0             0.0       0  0.113891  0.636187   \n",
       "\n",
       "     Weight  family_history  ...      FCVC       NCP  CAEC  SMOKE      CH2O  \\\n",
       "0  0.330873               1  ...  0.514112  0.307869   2.0      0  0.399459   \n",
       "1  0.304611               1  ...  1.000000  0.666667   1.0      0  0.000000   \n",
       "2  0.087959               0  ...  0.500000  0.666667   2.0      0  0.500000   \n",
       "3  0.695954               1  ...  0.788455  0.666667   2.0      0  0.540094   \n",
       "4  0.142261               1  ...  0.685669  0.999589   1.0      0  0.631733   \n",
       "\n",
       "   SCC       FAF       TUE  CALC  Obesity  \n",
       "0    0  0.000000  0.000000   2.0        1  \n",
       "1    0  0.333333  0.000000   2.0        0  \n",
       "2    0  0.000000  0.500000   1.0        0  \n",
       "3    0  0.347560  0.188341   1.0        1  \n",
       "4    0  0.666667  0.422002   2.0        0  \n",
       "\n",
       "[5 rows x 21 columns]"
      ]
     },
     "execution_count": 50,
     "metadata": {},
     "output_type": "execute_result"
    }
   ],
   "source": [
    "test.head()"
   ]
  },
  {
   "cell_type": "code",
   "execution_count": null,
   "metadata": {
    "id": "raplkcz318yW"
   },
   "outputs": [],
   "source": [
    "X_test, y_test= test.loc[:, test.columns != 'Obesity'], test['Obesity']"
   ]
  },
  {
   "cell_type": "code",
   "execution_count": null,
   "metadata": {
    "id": "ApOCpUAa2Azu"
   },
   "outputs": [],
   "source": [
    "from sklearn import metrics\n",
    "from sklearn.metrics import classification_report, ConfusionMatrixDisplay, roc_auc_score, RocCurveDisplay\n",
    "from scipy import stats\n",
    "import warnings\n",
    "warnings.filterwarnings(\"ignore\")\n",
    "import numpy as np"
   ]
  },
  {
   "cell_type": "code",
   "execution_count": null,
   "metadata": {
    "id": "gfkl-8EY2CgF"
   },
   "outputs": [],
   "source": [
    "SEED = 4658751\n",
    "#SEED = 4534562\n",
    "\n",
    "def roda_modelo():\n",
    "\n",
    "\n",
    "    # Treinando modelo com os dados de treino\n",
    "\n",
    "    modelo.fit(X_train, y_train)\n",
    "\n",
    "    # Calculando a probabilidade e calculando o AUC\n",
    "    prob_predic = modelo.predict_proba(X_test)\n",
    "\n",
    "    print(f\"\\n------------------------------Resultados {modelo}------------------------------\\n\")\n",
    "\n",
    "    auc = roc_auc_score(y_test, prob_predic[:,1])\n",
    "    print(f\"AUC {auc}\")\n",
    "\n",
    "    # Separando a probabilidade de ser bom e mau, e calculando o KS\n",
    "    #métrica KS: probabilidade de um cliente ser classificado como bom ou mau.\n",
    "    data_nao_obeso = np.sort(modelo.predict_proba(X_test)[:, 0])\n",
    "    data_obeso = np.sort(modelo.predict_proba(X_test)[:, 1])\n",
    "    kstest = stats.ks_2samp(data_nao_obeso, data_obeso)\n",
    "\n",
    "    print(f\"Métrica KS: {kstest}\")\n",
    "\n",
    "    print(\"\\nConfusion Matrix\\n\")\n",
    "    # Criando matriz de confusão\n",
    "    fig, ax = plt.subplots(figsize=(7,7))\n",
    "    matriz_confusao = ConfusionMatrixDisplay.from_estimator(modelo, X_test, y_test, normalize='true',\n",
    "                                            display_labels=['Não Obeso', 'Obeso'],\n",
    "                                            ax=ax, cmap=plt.cm.Blues)\n",
    "    ax.set_title(\"Matriz de Confusão\\n Normalizada\", fontsize=16, fontweight=\"bold\")\n",
    "    ax.set_xlabel(\"Label predita\", fontsize=18)\n",
    "    ax.set_ylabel(\"Label verdadeira\", fontsize=18)\n",
    "    plt.grid(False)\n",
    "    plt.show(matriz_confusao)\n",
    "\n",
    "    # Fazendo a predicao dos dados de teste e calculando o classification report\n",
    "    predicao = modelo.predict(X_test)\n",
    "    print(\"\\nClassification Report\")\n",
    "    print(classification_report(y_test, predicao, zero_division=0))\n",
    "\n",
    "\n",
    "    print(\"\\nRoc Curve\\n\")\n",
    "    metrics.RocCurveDisplay.from_estimator(modelo, X_test, y_test)"
   ]
  },
  {
   "cell_type": "code",
   "execution_count": null,
   "metadata": {
    "id": "JwCxITCAULv1"
   },
   "outputs": [],
   "source": [
    "def predict_obesity(modelo, values):\n",
    "  predicao = modelo.predict(values)\n",
    "  return predicao"
   ]
  },
  {
   "cell_type": "code",
   "execution_count": null,
   "metadata": {
    "id": "fhjGLigC3DPo"
   },
   "outputs": [],
   "source": [
    "from sklearn.linear_model import LogisticRegression\n",
    "modelo_logistico = LogisticRegression()"
   ]
  },
  {
   "cell_type": "code",
   "execution_count": null,
   "metadata": {
    "colab": {
     "base_uri": "https://localhost:8080/",
     "height": 1000
    },
    "executionInfo": {
     "elapsed": 519,
     "status": "ok",
     "timestamp": 1752334356981,
     "user": {
      "displayName": "Rafael Cuer",
      "userId": "13186034730599541676"
     },
     "user_tz": 180
    },
    "id": "cAgA67tq3Gkv",
    "outputId": "bbc1e50b-7c92-42e7-90ca-0955ee0caca5"
   },
   "outputs": [
    {
     "name": "stdout",
     "output_type": "stream",
     "text": [
      "\n",
      "------------------------------Resultados LogisticRegression()------------------------------\n",
      "\n",
      "AUC 0.9988888888888888\n",
      "Métrica KS: KstestResult(statistic=np.float64(0.1), pvalue=np.float64(0.18148826881636262), statistic_location=np.float64(0.9381340208242508), statistic_sign=np.int8(1))\n",
      "\n",
      "Confusion Matrix\n",
      "\n"
     ]
    },
    {
     "data": {
      "image/png": "[encoded data removed]",
      "text/plain": [
       "<Figure size 700x700 with 2 Axes>"
      ]
     },
     "metadata": {},
     "output_type": "display_data"
    },
    {
     "name": "stdout",
     "output_type": "stream",
     "text": [
      "\n",
      "Classification Report\n",
      "              precision    recall  f1-score   support\n",
      "\n",
      "           0       1.00      0.93      0.97       120\n",
      "           1       0.94      1.00      0.97       120\n",
      "\n",
      "    accuracy                           0.97       240\n",
      "   macro avg       0.97      0.97      0.97       240\n",
      "weighted avg       0.97      0.97      0.97       240\n",
      "\n",
      "\n",
      "Roc Curve\n",
      "\n"
     ]
    },
    {
     "data": {
      "image/png": "[encoded data removed]",
      "text/plain": [
       "<Figure size 640x480 with 1 Axes>"
      ]
     },
     "metadata": {},
     "output_type": "display_data"
    }
   ],
   "source": [
    "roda_modelo(modelo_logistico)"
   ]
  },
  {
   "cell_type": "code",
   "execution_count": null,
   "metadata": {
    "id": "yxCU87CJ4RI6"
   },
   "outputs": [],
   "source": [
    "from sklearn.tree import DecisionTreeClassifier\n",
    "modelo_tree = DecisionTreeClassifier()"
   ]
  },
  {
   "cell_type": "code",
   "execution_count": null,
   "metadata": {
    "colab": {
     "base_uri": "https://localhost:8080/",
     "height": 1000
    },
    "executionInfo": {
     "elapsed": 373,
     "status": "ok",
     "timestamp": 1752334357360,
     "user": {
      "displayName": "Rafael Cuer",
      "userId": "13186034730599541676"
     },
     "user_tz": 180
    },
    "id": "r_pyaL7e4SJM",
    "outputId": "9f1644a8-b338-4ad7-fa34-497be811ef2b"
   },
   "outputs": [
    {
     "name": "stdout",
     "output_type": "stream",
     "text": [
      "\n",
      "------------------------------Resultados DecisionTreeClassifier()------------------------------\n",
      "\n",
      "AUC 0.9166666666666666\n",
      "Métrica KS: KstestResult(statistic=np.float64(0.016666666666666666), pvalue=np.float64(0.9999999999999996), statistic_location=np.float64(0.0), statistic_sign=np.int8(1))\n",
      "\n",
      "Confusion Matrix\n",
      "\n"
     ]
    },
    {
     "data": {
      "image/png": "[encoded data removed]",
      "text/plain": [
       "<Figure size 700x700 with 2 Axes>"
      ]
     },
     "metadata": {},
     "output_type": "display_data"
    },
    {
     "name": "stdout",
     "output_type": "stream",
     "text": [
      "\n",
      "Classification Report\n",
      "              precision    recall  f1-score   support\n",
      "\n",
      "           0       0.92      0.91      0.92       120\n",
      "           1       0.91      0.93      0.92       120\n",
      "\n",
      "    accuracy                           0.92       240\n",
      "   macro avg       0.92      0.92      0.92       240\n",
      "weighted avg       0.92      0.92      0.92       240\n",
      "\n",
      "\n",
      "Roc Curve\n",
      "\n"
     ]
    },
    {
     "data": {
      "image/png": "[encoded data removed]",
      "text/plain": [
       "<Figure size 640x480 with 1 Axes>"
      ]
     },
     "metadata": {},
     "output_type": "display_data"
    }
   ],
   "source": [
    "roda_modelo(modelo_tree)"
   ]
  },
  {
   "cell_type": "code",
   "execution_count": null,
   "metadata": {
    "id": "s51YUXEV43xK"
   },
   "outputs": [],
   "source": []
  }
 ],
 "metadata": {
  "colab": {
   "provenance": []
  },
  "kernelspec": {
   "display_name": "Python 3",
   "name": "python3"
  },
  "language_info": {
   "name": "python"
  }
 },
 "nbformat": 4,
 "nbformat_minor": 0
}
