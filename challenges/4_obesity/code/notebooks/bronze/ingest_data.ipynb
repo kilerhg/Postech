{
 "cells": [
  {
   "cell_type": "markdown",
   "metadata": {},
   "source": [
    "# Ingest dos dados"
   ]
  },
  {
   "cell_type": "markdown",
   "metadata": {},
   "source": [
    "## Setup"
   ]
  },
  {
   "cell_type": "markdown",
   "metadata": {},
   "source": [
    "### Imports"
   ]
  },
  {
   "cell_type": "code",
   "execution_count": 1,
   "metadata": {},
   "outputs": [],
   "source": [
    "import os\n",
    "import shutil\n",
    "from glob import glob\n",
    "\n",
    "import pandas as pd\n",
    "import numpy as np"
   ]
  },
  {
   "cell_type": "markdown",
   "metadata": {},
   "source": [
    "### Mount Drive"
   ]
  },
  {
   "cell_type": "code",
   "execution_count": 2,
   "metadata": {},
   "outputs": [],
   "source": [
    "# from google.colab import drive\n",
    "# drive.mount('/content/drive')"
   ]
  },
  {
   "cell_type": "markdown",
   "metadata": {},
   "source": [
    "### Contants"
   ]
  },
  {
   "cell_type": "code",
   "execution_count": 3,
   "metadata": {},
   "outputs": [],
   "source": [
    "BASE_PATH = '/home/lucas-nunes/workspace/Postech/challenges/4_obesity/data/'\n",
    "INGEST_PATH = os.path.join(BASE_PATH, 'ingest')\n",
    "BRONZE_PATH = os.path.join(BASE_PATH, 'bronze')\n",
    "PATTERN = '**/*.csv'"
   ]
  },
  {
   "cell_type": "markdown",
   "metadata": {},
   "source": [
    "## Handle File"
   ]
  },
  {
   "cell_type": "code",
   "execution_count": 4,
   "metadata": {},
   "outputs": [],
   "source": [
    "def find_files(path : str = INGEST_PATH, pattern: str = PATTERN):\n",
    "    path_pattern = os.path.join(path, pattern)\n",
    "    list_files = glob(path_pattern, recursive=True)\n",
    "    return list_files\n",
    "\n",
    "\n",
    "def copy_file(input_path, output_path):\n",
    "    shutil.copy(input_path, output_path)\n",
    "\n",
    "\n",
    "def ingest_obesity_file(ingest_path, bronze_path):\n",
    "    \n",
    "    list_files = find_files(ingest_path, PATTERN)\n",
    "\n",
    "    if not list_files or len(list_files) > 1:\n",
    "        print('nenhum arquivo encontrado, ou quantidade invalida')\n",
    "    else:\n",
    "        ingest_file = list_files[0]\n",
    "\n",
    "    copy_file(ingest_file, bronze_path)\n",
    "\n"
   ]
  },
  {
   "cell_type": "markdown",
   "metadata": {},
   "source": [
    "## Execute"
   ]
  },
  {
   "cell_type": "code",
   "execution_count": 5,
   "metadata": {},
   "outputs": [],
   "source": [
    "ingest_path = INGEST_PATH\n",
    "bronze_path = BRONZE_PATH\n",
    "\n",
    "\n",
    "ingest_obesity_file(ingest_path, bronze_path)\n"
   ]
  },
  {
   "cell_type": "code",
   "execution_count": 11,
   "metadata": {},
   "outputs": [
    {
     "data": {
      "text/html": [
       "<div>\n",
       "<style scoped>\n",
       "    .dataframe tbody tr th:only-of-type {\n",
       "        vertical-align: middle;\n",
       "    }\n",
       "\n",
       "    .dataframe tbody tr th {\n",
       "        vertical-align: top;\n",
       "    }\n",
       "\n",
       "    .dataframe thead th {\n",
       "        text-align: right;\n",
       "    }\n",
       "</style>\n",
       "<table border=\"1\" class=\"dataframe\">\n",
       "  <thead>\n",
       "    <tr style=\"text-align: right;\">\n",
       "      <th></th>\n",
       "      <th>gender</th>\n",
       "      <th>age</th>\n",
       "      <th>height</th>\n",
       "      <th>weight</th>\n",
       "      <th>family_history</th>\n",
       "      <th>favc</th>\n",
       "      <th>fcvc</th>\n",
       "      <th>ncp</th>\n",
       "      <th>caec</th>\n",
       "      <th>smoke</th>\n",
       "      <th>ch2o</th>\n",
       "      <th>scc</th>\n",
       "      <th>faf</th>\n",
       "      <th>tue</th>\n",
       "      <th>calc</th>\n",
       "      <th>mtrans</th>\n",
       "    </tr>\n",
       "  </thead>\n",
       "  <tbody>\n",
       "    <tr>\n",
       "      <th>0</th>\n",
       "      <td>Male</td>\n",
       "      <td>1</td>\n",
       "      <td>0.0</td>\n",
       "      <td>0</td>\n",
       "      <td>False</td>\n",
       "      <td>False</td>\n",
       "      <td>1.0</td>\n",
       "      <td>1.0</td>\n",
       "      <td>0</td>\n",
       "      <td>False</td>\n",
       "      <td>1.0</td>\n",
       "      <td>False</td>\n",
       "      <td>1.0</td>\n",
       "      <td>1.0</td>\n",
       "      <td>0</td>\n",
       "      <td>Public_Transportation</td>\n",
       "    </tr>\n",
       "  </tbody>\n",
       "</table>\n",
       "</div>"
      ],
      "text/plain": [
       "  gender  age  height  weight  family_history   favc  fcvc  ncp  caec  smoke  \\\n",
       "0   Male    1     0.0       0           False  False   1.0  1.0     0  False   \n",
       "\n",
       "   ch2o    scc  faf  tue  calc                 mtrans  \n",
       "0   1.0  False  1.0  1.0     0  Public_Transportation  "
      ]
     },
     "execution_count": 11,
     "metadata": {},
     "output_type": "execute_result"
    }
   ],
   "source": [
    "dict_example = [{'gender': 'Male', 'age': 1, 'height': 0.0, 'weight': 0, 'family_history': False, 'favc': False, 'fcvc': 1.0, 'ncp': 1.0, 'caec': 0, 'smoke': False, 'ch2o': 1.0, 'scc': False, 'faf': 1.0, 'tue': 1.0, 'calc': 0, 'mtrans': 'Public_Transportation'}]\n",
    "\n",
    "\n",
    "pd.DataFrame.from_records(dict_example)"
   ]
  }
 ],
 "metadata": {
  "kernelspec": {
   "display_name": "venv",
   "language": "python",
   "name": "python3"
  },
  "language_info": {
   "codemirror_mode": {
    "name": "ipython",
    "version": 3
   },
   "file_extension": ".py",
   "mimetype": "text/x-python",
   "name": "python",
   "nbconvert_exporter": "python",
   "pygments_lexer": "ipython3",
   "version": "3.12.3"
  }
 },
 "nbformat": 4,
 "nbformat_minor": 2
}
