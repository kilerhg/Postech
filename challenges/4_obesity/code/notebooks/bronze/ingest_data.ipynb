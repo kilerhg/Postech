{
 "cells": [
  {
   "cell_type": "markdown",
   "metadata": {},
   "source": [
    "# Ingest dos dados"
   ]
  },
  {
   "cell_type": "markdown",
   "metadata": {},
   "source": [
    "## Setup"
   ]
  },
  {
   "cell_type": "markdown",
   "metadata": {},
   "source": [
    "### Imports"
   ]
  },
  {
   "cell_type": "code",
   "execution_count": 10,
   "metadata": {},
   "outputs": [],
   "source": [
    "import os\n",
    "import shutil\n",
    "from glob import glob\n",
    "\n",
    "import pandas as pd\n",
    "import numpy as np"
   ]
  },
  {
   "cell_type": "markdown",
   "metadata": {},
   "source": [
    "### Mount Drive"
   ]
  },
  {
   "cell_type": "code",
   "execution_count": null,
   "metadata": {},
   "outputs": [],
   "source": [
    "# from google.colab import drive\n",
    "# drive.mount('/content/drive')"
   ]
  },
  {
   "cell_type": "markdown",
   "metadata": {},
   "source": [
    "### Contants"
   ]
  },
  {
   "cell_type": "code",
   "execution_count": 12,
   "metadata": {},
   "outputs": [],
   "source": [
    "BASE_PATH = '/home/lucas-nunes/workspace/Postech/challenges/4_obesity/data/'\n",
    "INGEST_PATH = os.path.join(BASE_PATH, 'ingest')\n",
    "BRONZE_PATH = os.path.join(BASE_PATH, 'bronze')\n",
    "PATTERN = '**/*.csv'"
   ]
  },
  {
   "cell_type": "markdown",
   "metadata": {},
   "source": [
    "## Handle File"
   ]
  },
  {
   "cell_type": "code",
   "execution_count": null,
   "metadata": {},
   "outputs": [],
   "source": [
    "def find_files(path : str = INGEST_PATH, pattern: str = PATTERN):\n",
    "    path_pattern = os.path.join(path, pattern)\n",
    "    list_files = glob(path_pattern, recursive=True)\n",
    "    return list_files\n",
    "\n",
    "\n",
    "def copy_file(input_path, output_path):\n",
    "    shutil.copy(input_path, output_path)\n",
    "\n",
    "\n",
    "def ingest_obesity_file(ingest_path, bronze_path):\n",
    "    \n",
    "    list_files = find_files(ingest_path, PATTERN)\n",
    "\n",
    "    if not list_files or len(list_files) > 1:\n",
    "        print('nenhum arquivo encontrado, ou quantidade invalida')\n",
    "    else:\n",
    "        ingest_file = list_files[0]\n",
    "\n",
    "    copy_file(ingest_file, bronze_path)\n",
    "\n"
   ]
  },
  {
   "cell_type": "markdown",
   "metadata": {},
   "source": [
    "## Execute"
   ]
  },
  {
   "cell_type": "code",
   "execution_count": 18,
   "metadata": {},
   "outputs": [],
   "source": [
    "ingest_path = INGEST_PATH\n",
    "bronze_path = BRONZE_PATH\n",
    "\n",
    "\n",
    "ingest_obesity_file(ingest_path, bronze_path)\n"
   ]
  }
 ],
 "metadata": {
  "kernelspec": {
   "display_name": "venv",
   "language": "python",
   "name": "python3"
  },
  "language_info": {
   "codemirror_mode": {
    "name": "ipython",
    "version": 3
   },
   "file_extension": ".py",
   "mimetype": "text/x-python",
   "name": "python",
   "nbconvert_exporter": "python",
   "pygments_lexer": "ipython3",
   "version": "3.12.3"
  }
 },
 "nbformat": 4,
 "nbformat_minor": 2
}
