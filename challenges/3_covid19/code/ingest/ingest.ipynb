{
 "cells": [
  {
   "cell_type": "markdown",
   "metadata": {
    "application/vnd.databricks.v1+cell": {
     "cellMetadata": {},
     "inputWidgets": {},
     "nuid": "4bc96647-5e16-48a8-8f5b-5fd81a2dff96",
     "showTitle": false,
     "tableResultSettingsMap": {},
     "title": ""
    }
   },
   "source": [
    "## Setup\n",
    "\n",
    "Configuração do ambiente de desenvolvimento para realização do ETL (Extract Transform Load)"
   ]
  },
  {
   "cell_type": "markdown",
   "metadata": {
    "application/vnd.databricks.v1+cell": {
     "cellMetadata": {},
     "inputWidgets": {},
     "nuid": "32646a05-a77c-405e-91fe-af2a780e5427",
     "showTitle": false,
     "tableResultSettingsMap": {},
     "title": ""
    }
   },
   "source": [
    "### Instalando bibliotecas\n",
    "\n",
    "Instalando todas as bibliotecas necessárias e criação do ambiente spark"
   ]
  },
  {
   "cell_type": "code",
   "execution_count": 0,
   "metadata": {
    "application/vnd.databricks.v1+cell": {
     "cellMetadata": {
      "byteLimit": 2048000,
      "rowLimit": 10000
     },
     "inputWidgets": {},
     "nuid": "3bd5205e-7804-4885-81cd-dc2af3c98144",
     "showTitle": false,
     "tableResultSettingsMap": {},
     "title": ""
    }
   },
   "outputs": [
    {
     "output_type": "stream",
     "name": "stdout",
     "output_type": "stream",
     "text": [
      "Requirement already satisfied: pandas==2.2.2 in /databricks/python3/lib/python3.11/site-packages (2.2.2)\nRequirement already satisfied: numpy>=1.23.2 in /databricks/python3/lib/python3.11/site-packages (from pandas==2.2.2) (1.26.4)\nRequirement already satisfied: python-dateutil>=2.8.2 in /databricks/python3/lib/python3.11/site-packages (from pandas==2.2.2) (2.8.2)\nRequirement already satisfied: pytz>=2020.1 in /databricks/python3/lib/python3.11/site-packages (from pandas==2.2.2) (2022.7)\nRequirement already satisfied: tzdata>=2022.7 in /databricks/python3/lib/python3.11/site-packages (from pandas==2.2.2) (2025.2)\nRequirement already satisfied: six>=1.5 in /usr/lib/python3/dist-packages (from python-dateutil>=2.8.2->pandas==2.2.2) (1.16.0)\n"
     ]
    },
    {
     "output_type": "stream",
     "name": "stderr",
     "output_type": "stream",
     "text": [
      "\n\u001B[1m[\u001B[0m\u001B[34;49mnotice\u001B[0m\u001B[1;39;49m]\u001B[0m\u001B[39;49m A new release of pip is available: \u001B[0m\u001B[31;49m23.2.1\u001B[0m\u001B[39;49m -> \u001B[0m\u001B[32;49m25.1.1\u001B[0m\n\u001B[1m[\u001B[0m\u001B[34;49mnotice\u001B[0m\u001B[1;39;49m]\u001B[0m\u001B[39;49m To update, run: \u001B[0m\u001B[32;49mpython -m pip install --upgrade pip\u001B[0m\n"
     ]
    },
    {
     "output_type": "stream",
     "name": "stdout",
     "output_type": "stream",
     "text": [
      "Requirement already satisfied: numpy==1.26.4 in /databricks/python3/lib/python3.11/site-packages (1.26.4)\n"
     ]
    },
    {
     "output_type": "stream",
     "name": "stderr",
     "output_type": "stream",
     "text": [
      "\n\u001B[1m[\u001B[0m\u001B[34;49mnotice\u001B[0m\u001B[1;39;49m]\u001B[0m\u001B[39;49m A new release of pip is available: \u001B[0m\u001B[31;49m23.2.1\u001B[0m\u001B[39;49m -> \u001B[0m\u001B[32;49m25.1.1\u001B[0m\n\u001B[1m[\u001B[0m\u001B[34;49mnotice\u001B[0m\u001B[1;39;49m]\u001B[0m\u001B[39;49m To update, run: \u001B[0m\u001B[32;49mpython -m pip install --upgrade pip\u001B[0m\n"
     ]
    },
    {
     "output_type": "stream",
     "name": "stdout",
     "output_type": "stream",
     "text": [
      "Collecting pyarrow==7.0.0\n  Using cached pyarrow-7.0.0.tar.gz (816 kB)\n  Installing build dependencies: started\n  Installing build dependencies: finished with status 'done'\n  Getting requirements to build wheel: started\n  Getting requirements to build wheel: finished with status 'done'\n  Preparing metadata (pyproject.toml): started\n  Preparing metadata (pyproject.toml): finished with status 'done'\nRequirement already satisfied: numpy>=1.16.6 in /databricks/python3/lib/python3.11/site-packages (from pyarrow==7.0.0) (1.26.4)\nBuilding wheels for collected packages: pyarrow\n  Building wheel for pyarrow (pyproject.toml): started\n  Building wheel for pyarrow (pyproject.toml): finished with status 'error'\n"
     ]
    },
    {
     "output_type": "stream",
     "name": "stderr",
     "output_type": "stream",
     "text": [
      "  \u001B[1;31merror\u001B[0m: \u001B[1msubprocess-exited-with-error\u001B[0m\n  \n  \u001B[31m×\u001B[0m \u001B[32mBuilding wheel for pyarrow \u001B[0m\u001B[1;32m(\u001B[0m\u001B[32mpyproject.toml\u001B[0m\u001B[1;32m)\u001B[0m did not run successfully.\n  \u001B[31m│\u001B[0m exit code: \u001B[1;36m1\u001B[0m\n  \u001B[31m╰─>\u001B[0m \u001B[31m[614 lines of output]\u001B[0m\n  \u001B[31m   \u001B[0m <string>:36: DeprecationWarning: pkg_resources is deprecated as an API. See https://setuptools.pypa.io/en/latest/pkg_resources.html\n  \u001B[31m   \u001B[0m /tmp/pip-build-env-v_3bowkd/overlay/lib/python3.11/site-packages/setuptools/_distutils/dist.py:289: UserWarning: Unknown distribution option: 'tests_require'\n  \u001B[31m   \u001B[0m   warnings.warn(msg)\n  \u001B[31m   \u001B[0m /tmp/pip-build-env-v_3bowkd/overlay/lib/python3.11/site-packages/setuptools/_distutils/dist.py:289: UserWarning: Unknown distribution option: 'test_suite'\n  \u001B[31m   \u001B[0m   warnings.warn(msg)\n  \u001B[31m   \u001B[0m WARNING setuptools_scm.pyproject_reading toml section missing 'pyproject.toml does not contain a tool.setuptools_scm section'\n  \u001B[31m   \u001B[0m Traceback (most recent call last):\n  \u001B[31m   \u001B[0m   File \"/tmp/pip-build-env-v_3bowkd/overlay/lib/python3.11/site-packages/setuptools_scm/_integration/pyproject_reading.py\", line 36, in read_pyproject\n  \u001B[31m   \u001B[0m     section = defn.get(\"tool\", {})[tool_name]\n  \u001B[31m   \u001B[0m               ~~~~~~~~~~~~~~~~~~~~^^^^^^^^^^^\n  \u001B[31m   \u001B[0m KeyError: 'setuptools_scm'\n  \u001B[31m   \u001B[0m /tmp/pip-build-env-v_3bowkd/overlay/lib/python3.11/site-packages/setuptools/dist.py:759: SetuptoolsDeprecationWarning: License classifiers are deprecated.\n  \u001B[31m   \u001B[0m !!\n  \u001B[31m   \u001B[0m \n  \u001B[31m   \u001B[0m         ********************************************************************************\n  \u001B[31m   \u001B[0m         Please consider removing the following classifiers in favor of a SPDX license expression:\n  \u001B[31m   \u001B[0m \n  \u001B[31m   \u001B[0m         License :: OSI Approved :: Apache Software License\n  \u001B[31m   \u001B[0m \n  \u001B[31m   \u001B[0m         See https://packaging.python.org/en/latest/guides/writing-pyproject-toml/#license for details.\n  \u001B[31m   \u001B[0m         ********************************************************************************\n  \u001B[31m   \u001B[0m \n  \u001B[31m   \u001B[0m !!\n  \u001B[31m   \u001B[0m   self._finalize_license_expression()\n  \u001B[31m   \u001B[0m /tmp/pip-build-env-v_3bowkd/overlay/lib/python3.11/site-packages/setuptools/dist.py:483: SetuptoolsDeprecationWarning: Pattern '../LICENSE.txt' cannot contain '..'\n  \u001B[31m   \u001B[0m !!\n  \u001B[31m   \u001B[0m \n  \u001B[31m   \u001B[0m         ********************************************************************************\n  \u001B[31m   \u001B[0m         Please ensure the files specified are contained by the root\n  \u001B[31m   \u001B[0m         of the Python package (normally marked by `pyproject.toml`).\n  \u001B[31m   \u001B[0m \n  \u001B[31m   \u001B[0m         By 2026-Mar-20, you need to update your project and remove deprecated calls\n  \u001B[31m   \u001B[0m         or your builds will no longer be supported.\n  \u001B[31m   \u001B[0m \n  \u001B[31m   \u001B[0m         See https://packaging.python.org/en/latest/specifications/glob-patterns/ for details.\n  \u001B[31m   \u001B[0m         ********************************************************************************\n  \u001B[31m   \u001B[0m \n  \u001B[31m   \u001B[0m !!\n  \u001B[31m   \u001B[0m   for path in sorted(cls._find_pattern(pattern, enforce_match))\n  \u001B[31m   \u001B[0m /tmp/pip-build-env-v_3bowkd/overlay/lib/python3.11/site-packages/setuptools/dist.py:483: SetuptoolsDeprecationWarning: Cannot find any files for the given pattern.\n  \u001B[31m   \u001B[0m !!\n  \u001B[31m   \u001B[0m \n  \u001B[31m   \u001B[0m         ********************************************************************************\n  \u001B[31m   \u001B[0m         Pattern '../LICENSE.txt' did not match any files.\n  \u001B[31m   \u001B[0m \n  \u001B[31m   \u001B[0m         By 2026-Mar-20, you need to update your project and remove deprecated calls\n  \u001B[31m   \u001B[0m         or your builds will no longer be supported.\n  \u001B[31m   \u001B[0m         ********************************************************************************\n  \u001B[31m   \u001B[0m \n  \u001B[31m   \u001B[0m !!\n  \u001B[31m   \u001B[0m   for path in sorted(cls._find_pattern(pattern, enforce_match))\n  \u001B[31m   \u001B[0m /tmp/pip-build-env-v_3bowkd/overlay/lib/python3.11/site-packages/setuptools/dist.py:483: SetuptoolsDeprecationWarning: Pattern '../NOTICE.txt' cannot contain '..'\n  \u001B[31m   \u001B[0m !!\n  \u001B[31m   \u001B[0m \n  \u001B[31m   \u001B[0m         ********************************************************************************\n  \u001B[31m   \u001B[0m         Please ensure the files specified are contained by the root\n  \u001B[31m   \u001B[0m         of the Python package (normally marked by `pyproject.toml`).\n  \u001B[31m   \u001B[0m \n  \u001B[31m   \u001B[0m         By 2026-Mar-20, you need to update your project and remove deprecated calls\n  \u001B[31m   \u001B[0m         or your builds will no longer be supported.\n  \u001B[31m   \u001B[0m \n  \u001B[31m   \u001B[0m         See https://packaging.python.org/en/latest/specifications/glob-patterns/ for details.\n  \u001B[31m   \u001B[0m         ********************************************************************************\n  \u001B[31m   \u001B[0m \n  \u001B[31m   \u001B[0m !!\n  \u001B[31m   \u001B[0m   for path in sorted(cls._find_pattern(pattern, enforce_match))\n  \u001B[31m   \u001B[0m /tmp/pip-build-env-v_3bowkd/overlay/lib/python3.11/site-packages/setuptools/dist.py:483: SetuptoolsDeprecationWarning: Cannot find any files for the given pattern.\n  \u001B[31m   \u001B[0m !!\n  \u001B[31m   \u001B[0m \n  \u001B[31m   \u001B[0m         ********************************************************************************\n  \u001B[31m   \u001B[0m         Pattern '../NOTICE.txt' did not match any files.\n  \u001B[31m   \u001B[0m \n  \u001B[31m   \u001B[0m         By 2026-Mar-20, you need to update your project and remove deprecated calls\n  \u001B[31m   \u001B[0m         or your builds will no longer be supported.\n  \u001B[31m   \u001B[0m         ********************************************************************************\n  \u001B[31m   \u001B[0m \n  \u001B[31m   \u001B[0m !!\n  \u001B[31m   \u001B[0m   for path in sorted(cls._find_pattern(pattern, enforce_match))\n  \u001B[31m   \u001B[0m running bdist_wheel\n  \u001B[31m   \u001B[0m running build\n  \u001B[31m   \u001B[0m running build_py\n  \u001B[31m   \u001B[0m creating build/lib.linux-x86_64-cpython-311/pyarrow\n  \u001B[31m   \u001B[0m copying pyarrow/_generated_version.py -> build/lib.linux-x86_64-cpython-311/pyarrow\n  \u001B[31m   \u001B[0m copying pyarrow/serialization.py -> build/lib.linux-x86_64-cpython-311/pyarrow\n  \u001B[31m   \u001B[0m copying pyarrow/benchmark.py -> build/lib.linux-x86_64-cpython-311/pyarrow\n  \u001B[31m   \u001B[0m copying pyarrow/_compute_docstrings.py -> build/lib.linux-x86_64-cpython-311/pyarrow\n  \u001B[31m   \u001B[0m copying pyarrow/cffi.py -> build/lib.linux-x86_64-cpython-311/pyarrow\n  \u001B[31m   \u001B[0m copying pyarrow/compute.py -> build/lib.linux-x86_64-cpython-311/pyarrow\n  \u001B[31m   \u001B[0m copying pyarrow/plasma.py -> build/lib.linux-x86_64-cpython-311/pyarrow\n  \u001B[31m   \u001B[0m copying pyarrow/util.py -> build/lib.linux-x86_64-cpython-311/pyarrow\n  \u001B[31m   \u001B[0m copying pyarrow/fs.py -> build/lib.linux-x86_64-cpython-311/pyarrow\n  \u001B[31m   \u001B[0m copying pyarrow/feather.py -> build/lib.linux-x86_64-cpython-311/pyarrow\n  \u001B[31m   \u001B[0m copying pyarrow/dataset.py -> build/lib.linux-x86_64-cpython-311/pyarrow\n  \u001B[31m   \u001B[0m copying pyarrow/cuda.py -> build/lib.linux-x86_64-cpython-311/pyarrow\n  \u001B[31m   \u001B[0m copying pyarrow/pandas_compat.py -> build/lib.linux-x86_64-cpython-311/pyarrow\n  \u001B[31m   \u001B[0m copying pyarrow/csv.py -> build/lib.linux-x86_64-cpython-311/pyarrow\n  \u001B[31m   \u001B[0m copying pyarrow/hdfs.py -> build/lib.linux-x86_64-cpython-311/pyarrow\n  \u001B[31m   \u001B[0m copying pyarrow/jvm.py -> build/lib.linux-x86_64-cpython-311/pyarrow\n  \u001B[31m   \u001B[0m copying pyarrow/orc.py -> build/lib.linux-x86_64-cpython-311/pyarrow\n  \u001B[31m   \u001B[0m copying pyarrow/flight.py -> build/lib.linux-x86_64-cpython-311/pyarrow\n  \u001B[31m   \u001B[0m copying pyarrow/filesystem.py -> build/lib.linux-x86_64-cpython-311/pyarrow\n  \u001B[31m   \u001B[0m copying pyarrow/ipc.py -> build/lib.linux-x86_64-cpython-311/pyarrow\n  \u001B[31m   \u001B[0m copying pyarrow/__init__.py -> build/lib.linux-x86_64-cpython-311/pyarrow\n  \u001B[31m   \u001B[0m copying pyarrow/json.py -> build/lib.linux-x86_64-cpython-311/pyarrow\n  \u001B[31m   \u001B[0m copying pyarrow/parquet.py -> build/lib.linux-x86_64-cpython-311/pyarrow\n  \u001B[31m   \u001B[0m copying pyarrow/compat.py -> build/lib.linux-x86_64-cpython-311/pyarrow\n  \u001B[31m   \u001B[0m copying pyarrow/types.py -> build/lib.linux-x86_64-cpython-311/pyarrow\n  \u001B[31m   \u001B[0m creating build/lib.linux-x86_64-cpython-311/pyarrow/tests\n  \u001B[31m   \u001B[0m copying pyarrow/tests/pandas_threaded_import.py -> build/lib.linux-x86_64-cpython-311/pyarrow/tests\n  \u001B[31m   \u001B[0m copying pyarrow/tests/conftest.py -> build/lib.linux-x86_64-cpython-311/pyarrow/tests\n  \u001B[31m   \u001B[0m copying pyarrow/tests/test_convert_builtin.py -> build/lib.linux-x86_64-cpython-311/pyarrow/tests\n  \u001B[31m   \u001B[0m copying pyarrow/tests/test_misc.py -> build/lib.linux-x86_64-cpython-311/pyarrow/tests\n  \u001B[31m   \u001B[0m copying pyarrow/tests/test_types.py -> build/lib.linux-x86_64-cpython-311/pyarrow/tests\n  \u001B[31m   \u001B[0m copying pyarrow/tests/test_serialization_deprecated.py -> build/lib.linux-x86_64-cpython-311/pyarrow/tests\n  \u001B[31m   \u001B[0m copying pyarrow/tests/test_plasma_tf_op.py -> build/lib.linux-x86_64-cpython-311/pyarrow/tests\n  \u001B[31m   \u001B[0m copying pyarrow/tests/test_fs.py -> build/lib.linux-x86_64-cpython-311/pyarrow/tests\n  \u001B[31m   \u001B[0m copying pyarrow/tests/test_plasma.py -> build/lib.linux-x86_64-cpython-311/pyarrow/tests\n  \u001B[31m   \u001B[0m copying pyarrow/tests/test_orc.py -> build/lib.linux-x86_64-cpython-311/pyarrow/tests\n  \u001B[31m   \u001B[0m copying pyarrow/tests/test_dataset.py -> build/lib.linux-x86_64-cpython-311/pyarrow/tests\n  \u001B[31m   \u001B[0m copying pyarrow/tests/test_adhoc_memory_leak.py -> build/lib.linux-x86_64-cpython-311/pyarrow/tests\n  \u001B[31m   \u001B[0m copying pyarrow/tests/test_memory.py -> build/lib.linux-x86_64-cpython-311/pyarrow/tests\n  \u001B[31m   \u001B[0m copying pyarrow/tests/test_compute.py -> build/lib.linux-x86_64-cpython-311/pyarrow/tests\n  \u001B[31m   \u001B[0m copying pyarrow/tests/test_flight.py -> build/lib.linux-x86_64-cpython-311/pyarrow/tests\n  \u001B[31m   \u001B[0m copying pyarrow/tests/test_gandiva.py -> build/lib.linux-x86_64-cpython-311/pyarrow/tests\n  \u001B[31m   \u001B[0m copying pyarrow/tests/test_cuda_numba_interop.py -> build/lib.linux-x86_64-cpython-311/pyarrow/tests\n  \u001B[31m   \u001B[0m copying pyarrow/tests/test_feather.py -> build/lib.linux-x86_64-cpython-311/pyarrow/tests\n  \u001B[31m   \u001B[0m copying pyarrow/tests/test_strategies.py -> build/lib.linux-x86_64-cpython-311/pyarrow/tests\n  \u001B[31m   \u001B[0m copying pyarrow/tests/test_cuda.py -> build/lib.linux-x86_64-cpython-311/pyarrow/tests\n  \u001B[31m   \u001B[0m copying pyarrow/tests/util.py -> build/lib.linux-x86_64-cpython-311/pyarrow/tests\n  \u001B[31m   \u001B[0m copying pyarrow/tests/test_io.py -> build/lib.linux-x86_64-cpython-311/pyarrow/tests\n  \u001B[31m   \u001B[0m copying pyarrow/tests/test_cython.py -> build/lib.linux-x86_64-cpython-311/pyarrow/tests\n  \u001B[31m   \u001B[0m copying pyarrow/tests/test_serialization.py -> build/lib.linux-x86_64-cpython-311/pyarrow/tests\n  \u001B[31m   \u001B[0m copying pyarrow/tests/arrow_7980.py -> build/lib.linux-x86_64-cpython-311/pyarrow/tests\n  \u001B[31m   \u001B[0m copying pyarrow/tests/strategies.py -> build/lib.linux-x86_64-cpython-311/pyarrow/tests\n  \u001B[31m   \u001B[0m copying pyarrow/tests/test_util.py -> build/lib.linux-x86_64-cpython-311/pyarrow/tests\n  \u001B[31m   \u001B[0m copying pyarrow/tests/test_json.py -> build/lib.linux-x86_64-cpython-311/pyarrow/tests\n  \u001B[31m   \u001B[0m copying pyarrow/tests/test_pandas.py -> build/lib.linux-x86_64-cpython-311/pyarrow/tests\n  \u001B[31m   \u001B[0m copying pyarrow/tests/test_csv.py -> build/lib.linux-x86_64-cpython-311/pyarrow/tests\n  \u001B[31m   \u001B[0m copying pyarrow/tests/test_cffi.py -> build/lib.linux-x86_64-cpython-311/pyarrow/tests\n  \u001B[31m   \u001B[0m copying pyarrow/tests/test_array.py -> build/lib.linux-x86_64-cpython-311/pyarrow/tests\n  \u001B[31m   \u001B[0m copying pyarrow/tests/test_builder.py -> build/lib.linux-x86_64-cpython-311/pyarrow/tests\n  \u001B[31m   \u001B[0m copying pyarrow/tests/test_sparse_tensor.py -> build/lib.linux-x86_64-cpython-311/pyarrow/tests\n  \u001B[31m   \u001B[0m copying pyarrow/tests/test_table.py -> build/lib.linux-x86_64-cpython-311/pyarrow/tests\n  \u001B[31m   \u001B[0m copying pyarrow/tests/test_schema.py -> build/lib.linux-x86_64-cpython-311/pyarrow/tests\n  \u001B[31m   \u001B[0m copying pyarrow/tests/test_tensor.py -> build/lib.linux-x86_64-cpython-311/pyarrow/tests\n  \u001B[31m   \u001B[0m copying pyarrow/tests/__init__.py -> build/lib.linux-x86_64-cpython-311/pyarrow/tests\n  \u001B[31m   \u001B[0m copying pyarrow/tests/test_scalars.py -> build/lib.linux-x86_64-cpython-311/pyarrow/tests\n  \u001B[31m   \u001B[0m copying pyarrow/tests/test_deprecations.py -> build/lib.linux-x86_64-cpython-311/pyarrow/tests\n  \u001B[31m   \u001B[0m copying pyarrow/tests/test_filesystem.py -> build/lib.linux-x86_64-cpython-311/pyarrow/tests\n  \u001B[31m   \u001B[0m copying pyarrow/tests/test_hdfs.py -> build/lib.linux-x86_64-cpython-311/pyarrow/tests\n  \u001B[31m   \u001B[0m copying pyarrow/tests/test_gdb.py -> build/lib.linux-x86_64-cpython-311/pyarrow/tests\n  \u001B[31m   \u001B[0m copying pyarrow/tests/test_ipc.py -> build/lib.linux-x86_64-cpython-311/pyarrow/tests\n  \u001B[31m   \u001B[0m copying pyarrow/tests/test_jvm.py -> build/lib.linux-x86_64-cpython-311/pyarrow/tests\n  \u001B[31m   \u001B[0m copying pyarrow/tests/deserialize_buffer.py -> build/lib.linux-x86_64-cpython-311/pyarrow/tests\n  \u001B[31m   \u001B[0m copying pyarrow/tests/test_extension_type.py -> build/lib.linux-x86_64-cpython-311/pyarrow/tests\n  \u001B[31m   \u001B[0m copying pyarrow/tests/pandas_examples.py -> build/lib.linux-x86_64-cpython-311/pyarrow/tests\n  \u001B[31m   \u001B[0m running egg_info\n  \u001B[31m   \u001B[0m writing pyarrow.egg-info/PKG-INFO\n  \u001B[31m   \u001B[0m writing dependency_links to pyarrow.egg-info/dependency_links.txt\n  \u001B[31m   \u001B[0m writing entry points to pyarrow.egg-info/entry_points.txt\n  \u001B[31m   \u001B[0m writing requirements to pyarrow.egg-info/requires.txt\n  \u001B[31m   \u001B[0m writing top-level names to pyarrow.egg-info/top_level.txt\n  \u001B[31m   \u001B[0m ERROR setuptools_scm._file_finders.git listing git files failed - pretending there aren't any\n  \u001B[31m   \u001B[0m reading manifest file 'pyarrow.egg-info/SOURCES.txt'\n  \u001B[31m   \u001B[0m reading manifest template 'MANIFEST.in'\n  \u001B[31m   \u001B[0m warning: no files found matching '../LICENSE.txt'\n  \u001B[31m   \u001B[0m warning: no files found matching '../NOTICE.txt'\n  \u001B[31m   \u001B[0m warning: no previously-included files matching '*.so' found anywhere in distribution\n  \u001B[31m   \u001B[0m warning: no previously-included files matching '*.pyc' found anywhere in distribution\n  \u001B[31m   \u001B[0m warning: no previously-included files matching '*~' found anywhere in distribution\n  \u001B[31m   \u001B[0m warning: no previously-included files matching '#*' found anywhere in distribution\n  \u001B[31m   \u001B[0m warning: no previously-included files matching '.git*' found anywhere in distribution\n  \u001B[31m   \u001B[0m warning: no previously-included files matching '.DS_Store' found anywhere in distribution\n  \u001B[31m   \u001B[0m no previously-included directories found matching '.asv'\n  \u001B[31m   \u001B[0m writing manifest file 'pyarrow.egg-info/SOURCES.txt'\n  \u001B[31m   \u001B[0m /tmp/pip-build-env-v_3bowkd/overlay/lib/python3.11/site-packages/setuptools/command/build_py.py:212: _Warning: Package 'pyarrow.includes' is absent from the `packages` configuration.\n  \u001B[31m   \u001B[0m !!\n  \u001B[31m   \u001B[0m \n  \u001B[31m   \u001B[0m         ********************************************************************************\n  \u001B[31m   \u001B[0m         ############################\n  \u001B[31m   \u001B[0m         # Package would be ignored #\n  \u001B[31m   \u001B[0m         ############################\n  \u001B[31m   \u001B[0m         Python recognizes 'pyarrow.includes' as an importable package[^1],\n  \u001B[31m   \u001B[0m         but it is absent from setuptools' `packages` configuration.\n  \u001B[31m   \u001B[0m \n  \u001B[31m   \u001B[0m         This leads to an ambiguous overall configuration. If you want to distribute this\n  \u001B[31m   \u001B[0m         package, please make sure that 'pyarrow.includes' is explicitly added\n  \u001B[31m   \u001B[0m         to the `packages` configuration field.\n  \u001B[31m   \u001B[0m \n  \u001B[31m   \u001B[0m         Alternatively, you can also rely on setuptools' discovery methods\n  \u001B[31m   \u001B[0m         (for example by using `find_namespace_packages(...)`/`find_namespace:`\n  \u001B[31m   \u001B[0m         instead of `find_packages(...)`/`find:`).\n  \u001B[31m   \u001B[0m \n  \u001B[31m   \u001B[0m         You can read more about \"package discovery\" on setuptools documentation page:\n  \u001B[31m   \u001B[0m \n  \u001B[31m   \u001B[0m         - https://setuptools.pypa.io/en/latest/userguide/package_discovery.html\n  \u001B[31m   \u001B[0m \n  \u001B[31m   \u001B[0m         If you don't want 'pyarrow.includes' to be distributed and are\n  \u001B[31m   \u001B[0m         already explicitly excluding 'pyarrow.includes' via\n  \u001B[31m   \u001B[0m         `find_namespace_packages(...)/find_namespace` or `find_packages(...)/find`,\n  \u001B[31m   \u001B[0m         you can try to use `exclude_package_data`, or `include-package-data=False` in\n  \u001B[31m   \u001B[0m         combination with a more fine grained `package-data` configuration.\n  \u001B[31m   \u001B[0m \n  \u001B[31m   \u001B[0m         You can read more about \"package data files\" on setuptools documentation page:\n  \u001B[31m   \u001B[0m \n  \u001B[31m   \u001B[0m         - https://setuptools.pypa.io/en/latest/userguide/datafiles.html\n  \u001B[31m   \u001B[0m \n  \u001B[31m   \u001B[0m \n  \u001B[31m   \u001B[0m         [^1]: For Python, any directory (with suitable naming) can be imported,\n  \u001B[31m   \u001B[0m               even if it does not contain any `.py` files.\n  \u001B[31m   \u001B[0m               On the other hand, currently there is no concept of package data\n  \u001B[31m   \u001B[0m               directory, all directories are treated like packages.\n  \u001B[31m   \u001B[0m         ********************************************************************************\n  \u001B[31m   \u001B[0m \n  \u001B[31m   \u001B[0m !!\n  \u001B[31m   \u001B[0m   check.warn(importable)\n  \u001B[31m   \u001B[0m /tmp/pip-build-env-v_3bowkd/overlay/lib/python3.11/site-packages/setuptools/command/build_py.py:212: _Warning: Package 'pyarrow.tensorflow' is absent from the `packages` configuration.\n  \u001B[31m   \u001B[0m !!\n  \u001B[31m   \u001B[0m \n  \u001B[31m   \u001B[0m         ********************************************************************************\n  \u001B[31m   \u001B[0m         ############################\n  \u001B[31m   \u001B[0m         # Package would be ignored #\n  \u001B[31m   \u001B[0m         ############################\n  \u001B[31m   \u001B[0m         Python recognizes 'pyarrow.tensorflow' as an importable package[^1],\n  \u001B[31m   \u001B[0m         but it is absent from setuptools' `packages` configuration.\n  \u001B[31m   \u001B[0m \n  \u001B[31m   \u001B[0m         This leads to an ambiguous overall configuration. If you want to distribute this\n  \u001B[31m   \u001B[0m         package, please make sure that 'pyarrow.tensorflow' is explicitly added\n  \u001B[31m   \u001B[0m         to the `packages` configuration field.\n  \u001B[31m   \u001B[0m \n  \u001B[31m   \u001B[0m         Alternatively, you can also rely on setuptools' discovery methods\n  \u001B[31m   \u001B[0m         (for example by using `find_namespace_packages(...)`/`find_namespace:`\n  \u001B[31m   \u001B[0m         instead of `find_packages(...)`/`find:`).\n  \u001B[31m   \u001B[0m \n  \u001B[31m   \u001B[0m         You can read more about \"package discovery\" on setuptools documentation page:\n  \u001B[31m   \u001B[0m \n  \u001B[31m   \u001B[0m         - https://setuptools.pypa.io/en/latest/userguide/package_discovery.html\n  \u001B[31m   \u001B[0m \n  \u001B[31m   \u001B[0m         If you don't want 'pyarrow.tensorflow' to be distributed and are\n  \u001B[31m   \u001B[0m         already explicitly excluding 'pyarrow.tensorflow' via\n  \u001B[31m   \u001B[0m         `find_namespace_packages(...)/find_namespace` or `find_packages(...)/find`,\n  \u001B[31m   \u001B[0m         you can try to use `exclude_package_data`, or `include-package-data=False` in\n  \u001B[31m   \u001B[0m         combination with a more fine grained `package-data` configuration.\n  \u001B[31m   \u001B[0m \n  \u001B[31m   \u001B[0m         You can read more about \"package data files\" on setuptools documentation page:\n  \u001B[31m   \u001B[0m \n  \u001B[31m   \u001B[0m         - https://setuptools.pypa.io/en/latest/userguide/datafiles.html\n  \u001B[31m   \u001B[0m \n  \u001B[31m   \u001B[0m \n  \u001B[31m   \u001B[0m         [^1]: For Python, any directory (with suitable naming) can be imported,\n  \u001B[31m   \u001B[0m               even if it does not contain any `.py` files.\n  \u001B[31m   \u001B[0m               On the other hand, currently there is no concept of package data\n  \u001B[31m   \u001B[0m               directory, all directories are treated like packages.\n  \u001B[31m   \u001B[0m         ********************************************************************************\n  \u001B[31m   \u001B[0m \n  \u001B[31m   \u001B[0m !!\n  \u001B[31m   \u001B[0m   check.warn(importable)\n  \u001B[31m   \u001B[0m /tmp/pip-build-env-v_3bowkd/overlay/lib/python3.11/site-packages/setuptools/command/build_py.py:212: _Warning: Package 'pyarrow.tests.data.feather' is absent from the `packages` configuration.\n  \u001B[31m   \u001B[0m !!\n  \u001B[31m   \u001B[0m \n  \u001B[31m   \u001B[0m         ********************************************************************************\n  \u001B[31m   \u001B[0m         ############################\n  \u001B[31m   \u001B[0m         # Package would be ignored #\n  \u001B[31m   \u001B[0m         ############################\n  \u001B[31m   \u001B[0m         Python recognizes 'pyarrow.tests.data.feather' as an importable package[^1],\n  \u001B[31m   \u001B[0m         but it is absent from setuptools' `packages` configuration.\n  \u001B[31m   \u001B[0m \n  \u001B[31m   \u001B[0m         This leads to an ambiguous overall configuration. If you want to distribute this\n  \u001B[31m   \u001B[0m         package, please make sure that 'pyarrow.tests.data.feather' is explicitly added\n  \u001B[31m   \u001B[0m         to the `packages` configuration field.\n  \u001B[31m   \u001B[0m \n  \u001B[31m   \u001B[0m         Alternatively, you can also rely on setuptools' discovery methods\n  \u001B[31m   \u001B[0m         (for example by using `find_namespace_packages(...)`/`find_namespace:`\n  \u001B[31m   \u001B[0m         instead of `find_packages(...)`/`find:`).\n  \u001B[31m   \u001B[0m \n  \u001B[31m   \u001B[0m         You can read more about \"package discovery\" on setuptools documentation page:\n  \u001B[31m   \u001B[0m \n  \u001B[31m   \u001B[0m         - https://setuptools.pypa.io/en/latest/userguide/package_discovery.html\n  \u001B[31m   \u001B[0m \n  \u001B[31m   \u001B[0m         If you don't want 'pyarrow.tests.data.feather' to be distributed and are\n  \u001B[31m   \u001B[0m         already explicitly excluding 'pyarrow.tests.data.feather' via\n  \u001B[31m   \u001B[0m         `find_namespace_packages(...)/find_namespace` or `find_packages(...)/find`,\n  \u001B[31m   \u001B[0m         you can try to use `exclude_package_data`, or `include-package-data=False` in\n  \u001B[31m   \u001B[0m         combination with a more fine grained `package-data` configuration.\n  \u001B[31m   \u001B[0m \n  \u001B[31m   \u001B[0m         You can read more about \"package data files\" on setuptools documentation page:\n  \u001B[31m   \u001B[0m \n  \u001B[31m   \u001B[0m         - https://setuptools.pypa.io/en/latest/userguide/datafiles.html\n  \u001B[31m   \u001B[0m \n  \u001B[31m   \u001B[0m \n  \u001B[31m   \u001B[0m         [^1]: For Python, any directory (with suitable naming) can be imported,\n  \u001B[31m   \u001B[0m               even if it does not contain any `.py` files.\n  \u001B[31m   \u001B[0m               On the other hand, currently there is no concept of package data\n  \u001B[31m   \u001B[0m               directory, all directories are treated like packages.\n  \u001B[31m   \u001B[0m         ********************************************************************************\n  \u001B[31m   \u001B[0m \n  \u001B[31m   \u001B[0m !!\n  \u001B[31m   \u001B[0m   check.warn(importable)\n  \u001B[31m   \u001B[0m /tmp/pip-build-env-v_3bowkd/overlay/lib/python3.11/site-packages/setuptools/command/build_py.py:212: _Warning: Package 'pyarrow.tests.data.orc' is absent from the `packages` configuration.\n  \u001B[31m   \u001B[0m !!\n  \u001B[31m   \u001B[0m \n  \u001B[31m   \u001B[0m         ********************************************************************************\n  \u001B[31m   \u001B[0m         ############################\n  \u001B[31m   \u001B[0m         # Package would be ignored #\n  \u001B[31m   \u001B[0m         ############################\n  \u001B[31m   \u001B[0m         Python recognizes 'pyarrow.tests.data.orc' as an importable package[^1],\n  \u001B[31m   \u001B[0m         but it is absent from setuptools' `packages` configuration.\n  \u001B[31m   \u001B[0m \n  \u001B[31m   \u001B[0m         This leads to an ambiguous overall configuration. If you want to distribute this\n  \u001B[31m   \u001B[0m         package, please make sure that 'pyarrow.tests.data.orc' is explicitly added\n  \u001B[31m   \u001B[0m         to the `packages` configuration field.\n  \u001B[31m   \u001B[0m \n  \u001B[31m   \u001B[0m         Alternatively, you can also rely on setuptools' discovery methods\n  \u001B[31m   \u001B[0m         (for example by using `find_namespace_packages(...)`/`find_namespace:`\n  \u001B[31m   \u001B[0m         instead of `find_packages(...)`/`find:`).\n  \u001B[31m   \u001B[0m \n  \u001B[31m   \u001B[0m         You can read more about \"package discovery\" on setuptools documentation page:\n  \u001B[31m   \u001B[0m \n  \u001B[31m   \u001B[0m         - https://setuptools.pypa.io/en/latest/userguide/package_discovery.html\n  \u001B[31m   \u001B[0m \n  \u001B[31m   \u001B[0m         If you don't want 'pyarrow.tests.data.orc' to be distributed and are\n  \u001B[31m   \u001B[0m         already explicitly excluding 'pyarrow.tests.data.orc' via\n  \u001B[31m   \u001B[0m         `find_namespace_packages(...)/find_namespace` or `find_packages(...)/find`,\n  \u001B[31m   \u001B[0m         you can try to use `exclude_package_data`, or `include-package-data=False` in\n  \u001B[31m   \u001B[0m         combination with a more fine grained `package-data` configuration.\n  \u001B[31m   \u001B[0m \n  \u001B[31m   \u001B[0m         You can read more about \"package data files\" on setuptools documentation page:\n  \u001B[31m   \u001B[0m \n  \u001B[31m   \u001B[0m         - https://setuptools.pypa.io/en/latest/userguide/datafiles.html\n  \u001B[31m   \u001B[0m \n  \u001B[31m   \u001B[0m \n  \u001B[31m   \u001B[0m         [^1]: For Python, any directory (with suitable naming) can be imported,\n  \u001B[31m   \u001B[0m               even if it does not contain any `.py` files.\n  \u001B[31m   \u001B[0m               On the other hand, currently there is no concept of package data\n  \u001B[31m   \u001B[0m               directory, all directories are treated like packages.\n  \u001B[31m   \u001B[0m         ********************************************************************************\n  \u001B[31m   \u001B[0m \n  \u001B[31m   \u001B[0m !!\n  \u001B[31m   \u001B[0m   check.warn(importable)\n  \u001B[31m   \u001B[0m /tmp/pip-build-env-v_3bowkd/overlay/lib/python3.11/site-packages/setuptools/command/build_py.py:212: _Warning: Package 'pyarrow.tests.data.parquet' is absent from the `packages` configuration.\n  \u001B[31m   \u001B[0m !!\n  \u001B[31m   \u001B[0m \n  \u001B[31m   \u001B[0m         ********************************************************************************\n  \u001B[31m   \u001B[0m         ############################\n  \u001B[31m   \u001B[0m         # Package would be ignored #\n  \u001B[31m   \u001B[0m         ############################\n  \u001B[31m   \u001B[0m         Python recognizes 'pyarrow.tests.data.parquet' as an importable package[^1],\n  \u001B[31m   \u001B[0m         but it is absent from setuptools' `packages` configuration.\n  \u001B[31m   \u001B[0m \n  \u001B[31m   \u001B[0m         This leads to an ambiguous overall configuration. If you want to distribute this\n  \u001B[31m   \u001B[0m         package, please make sure that 'pyarrow.tests.data.parquet' is explicitly added\n  \u001B[31m   \u001B[0m         to the `packages` configuration field.\n  \u001B[31m   \u001B[0m \n  \u001B[31m   \u001B[0m         Alternatively, you can also rely on setuptools' discovery methods\n  \u001B[31m   \u001B[0m         (for example by using `find_namespace_packages(...)`/`find_namespace:`\n  \u001B[31m   \u001B[0m         instead of `find_packages(...)`/`find:`).\n  \u001B[31m   \u001B[0m \n  \u001B[31m   \u001B[0m         You can read more about \"package discovery\" on setuptools documentation page:\n  \u001B[31m   \u001B[0m \n  \u001B[31m   \u001B[0m         - https://setuptools.pypa.io/en/latest/userguide/package_discovery.html\n  \u001B[31m   \u001B[0m \n  \u001B[31m   \u001B[0m         If you don't want 'pyarrow.tests.data.parquet' to be distributed and are\n  \u001B[31m   \u001B[0m         already explicitly excluding 'pyarrow.tests.data.parquet' via\n  \u001B[31m   \u001B[0m         `find_namespace_packages(...)/find_namespace` or `find_packages(...)/find`,\n  \u001B[31m   \u001B[0m         you can try to use `exclude_package_data`, or `include-package-data=False` in\n  \u001B[31m   \u001B[0m         combination with a more fine grained `package-data` configuration.\n  \u001B[31m   \u001B[0m \n  \u001B[31m   \u001B[0m         You can read more about \"package data files\" on setuptools documentation page:\n  \u001B[31m   \u001B[0m \n  \u001B[31m   \u001B[0m         - https://setuptools.pypa.io/en/latest/userguide/datafiles.html\n  \u001B[31m   \u001B[0m \n  \u001B[31m   \u001B[0m \n  \u001B[31m   \u001B[0m         [^1]: For Python, any directory (with suitable naming) can be imported,\n  \u001B[31m   \u001B[0m               even if it does not contain any `.py` files.\n  \u001B[31m   \u001B[0m               On the other hand, currently there is no concept of package data\n  \u001B[31m   \u001B[0m               directory, all directories are treated like packages.\n  \u001B[31m   \u001B[0m         ********************************************************************************\n  \u001B[31m   \u001B[0m \n  \u001B[31m   \u001B[0m !!\n  \u001B[31m   \u001B[0m   check.warn(importable)\n  \u001B[31m   \u001B[0m /tmp/pip-build-env-v_3bowkd/overlay/lib/python3.11/site-packages/setuptools/command/build_py.py:212: _Warning: Package 'pyarrow.tests.parquet' is absent from the `packages` configuration.\n  \u001B[31m   \u001B[0m !!\n  \u001B[31m   \u001B[0m \n  \u001B[31m   \u001B[0m         ********************************************************************************\n  \u001B[31m   \u001B[0m         ############################\n  \u001B[31m   \u001B[0m         # Package would be ignored #\n  \u001B[31m   \u001B[0m         ############################\n  \u001B[31m   \u001B[0m         Python recognizes 'pyarrow.tests.parquet' as an importable package[^1],\n  \u001B[31m   \u001B[0m         but it is absent from setuptools' `packages` configuration.\n  \u001B[31m   \u001B[0m \n  \u001B[31m   \u001B[0m         This leads to an ambiguous overall configuration. If you want to distribute this\n  \u001B[31m   \u001B[0m         package, please make sure that 'pyarrow.tests.parquet' is explicitly added\n  \u001B[31m   \u001B[0m         to the `packages` configuration field.\n  \u001B[31m   \u001B[0m \n  \u001B[31m   \u001B[0m         Alternatively, you can also rely on setuptools' discovery methods\n  \u001B[31m   \u001B[0m         (for example by using `find_namespace_packages(...)`/`find_namespace:`\n  \u001B[31m   \u001B[0m         instead of `find_packages(...)`/`find:`).\n  \u001B[31m   \u001B[0m \n  \u001B[31m   \u001B[0m         You can read more about \"package discovery\" on setuptools documentation page:\n  \u001B[31m   \u001B[0m \n  \u001B[31m   \u001B[0m         - https://setuptools.pypa.io/en/latest/userguide/package_discovery.html\n  \u001B[31m   \u001B[0m \n  \u001B[31m   \u001B[0m         If you don't want 'pyarrow.tests.parquet' to be distributed and are\n  \u001B[31m   \u001B[0m         already explicitly excluding 'pyarrow.tests.parquet' via\n  \u001B[31m   \u001B[0m         `find_namespace_packages(...)/find_namespace` or `find_packages(...)/find`,\n  \u001B[31m   \u001B[0m         you can try to use `exclude_package_data`, or `include-package-data=False` in\n  \u001B[31m   \u001B[0m         combination with a more fine grained `package-data` configuration.\n  \u001B[31m   \u001B[0m \n  \u001B[31m   \u001B[0m         You can read more about \"package data files\" on setuptools documentation page:\n  \u001B[31m   \u001B[0m \n  \u001B[31m   \u001B[0m         - https://setuptools.pypa.io/en/latest/userguide/datafiles.html\n  \u001B[31m   \u001B[0m \n  \u001B[31m   \u001B[0m \n  \u001B[31m   \u001B[0m         [^1]: For Python, any directory (with suitable naming) can be imported,\n  \u001B[31m   \u001B[0m               even if it does not contain any `.py` files.\n  \u001B[31m   \u001B[0m               On the other hand, currently there is no concept of package data\n  \u001B[31m   \u001B[0m               directory, all directories are treated like packages.\n  \u001B[31m   \u001B[0m         ********************************************************************************\n  \u001B[31m   \u001B[0m \n  \u001B[31m   \u001B[0m !!\n  \u001B[31m   \u001B[0m   check.warn(importable)\n  \u001B[31m   \u001B[0m /tmp/pip-build-env-v_3bowkd/overlay/lib/python3.11/site-packages/setuptools/command/build_py.py:212: _Warning: Package 'pyarrow.vendored' is absent from the `packages` configuration.\n  \u001B[31m   \u001B[0m !!\n  \u001B[31m   \u001B[0m \n  \u001B[31m   \u001B[0m         ********************************************************************************\n  \u001B[31m   \u001B[0m         ############################\n  \u001B[31m   \u001B[0m         # Package would be ignored #\n  \u001B[31m   \u001B[0m         ############################\n  \u001B[31m   \u001B[0m         Python recognizes 'pyarrow.vendored' as an importable package[^1],\n  \u001B[31m   \u001B[0m         but it is absent from setuptools' `packages` configuration.\n  \u001B[31m   \u001B[0m \n  \u001B[31m   \u001B[0m         This leads to an ambiguous overall configuration. If you want to distribute this\n  \u001B[31m   \u001B[0m         package, please make sure that 'pyarrow.vendored' is explicitly added\n  \u001B[31m   \u001B[0m         to the `packages` configuration field.\n  \u001B[31m   \u001B[0m \n  \u001B[31m   \u001B[0m         Alternatively, you can also rely on setuptools' discovery methods\n  \u001B[31m   \u001B[0m         (for example by using `find_namespace_packages(...)`/`find_namespace:`\n  \u001B[31m   \u001B[0m         instead of `find_packages(...)`/`find:`).\n  \u001B[31m   \u001B[0m \n  \u001B[31m   \u001B[0m         You can read more about \"package discovery\" on setuptools documentation page:\n  \u001B[31m   \u001B[0m \n  \u001B[31m   \u001B[0m         - https://setuptools.pypa.io/en/latest/userguide/package_discovery.html\n  \u001B[31m   \u001B[0m \n  \u001B[31m   \u001B[0m         If you don't want 'pyarrow.vendored' to be distributed and are\n  \u001B[31m   \u001B[0m         already explicitly excluding 'pyarrow.vendored' via\n  \u001B[31m   \u001B[0m         `find_namespace_packages(...)/find_namespace` or `find_packages(...)/find`,\n  \u001B[31m   \u001B[0m         you can try to use `exclude_package_data`, or `include-package-data=False` in\n  \u001B[31m   \u001B[0m         combination with a more fine grained `package-data` configuration.\n  \u001B[31m   \u001B[0m \n  \u001B[31m   \u001B[0m         You can read more about \"package data files\" on setuptools documentation page:\n  \u001B[31m   \u001B[0m \n  \u001B[31m   \u001B[0m         - https://setuptools.pypa.io/en/latest/userguide/datafiles.html\n  \u001B[31m   \u001B[0m \n  \u001B[31m   \u001B[0m \n  \u001B[31m   \u001B[0m         [^1]: For Python, any directory (with suitable naming) can be imported,\n  \u001B[31m   \u001B[0m               even if it does not contain any `.py` files.\n  \u001B[31m   \u001B[0m               On the other hand, currently there is no concept of package data\n  \u001B[31m   \u001B[0m               directory, all directories are treated like packages.\n  \u001B[31m   \u001B[0m         ********************************************************************************\n  \u001B[31m   \u001B[0m \n  \u001B[31m   \u001B[0m !!\n  \u001B[31m   \u001B[0m   check.warn(importable)\n  \u001B[31m   \u001B[0m copying pyarrow/__init__.pxd -> build/lib.linux-x86_64-cpython-311/pyarrow\n  \u001B[31m   \u001B[0m copying pyarrow/_compute.pxd -> build/lib.linux-x86_64-cpython-311/pyarrow\n  \u001B[31m   \u001B[0m copying pyarrow/_compute.pyx -> build/lib.linux-x86_64-cpython-311/pyarrow\n  \u001B[31m   \u001B[0m copying pyarrow/_csv.pxd -> build/lib.linux-x86_64-cpython-311/pyarrow\n  \u001B[31m   \u001B[0m copying pyarrow/_csv.pyx -> build/lib.linux-x86_64-cpython-311/pyarrow\n  \u001B[31m   \u001B[0m copying pyarrow/_cuda.pxd -> build/lib.linux-x86_64-cpython-311/pyarrow\n  \u001B[31m   \u001B[0m copying pyarrow/_cuda.pyx -> build/lib.linux-x86_64-cpython-311/pyarrow\n  \u001B[31m   \u001B[0m copying pyarrow/_dataset.pxd -> build/lib.linux-x86_64-cpython-311/pyarrow\n  \u001B[31m   \u001B[0m copying pyarrow/_dataset.pyx -> build/lib.linux-x86_64-cpython-311/pyarrow\n  \u001B[31m   \u001B[0m copying pyarrow/_dataset_orc.pyx -> build/lib.linux-x86_64-cpython-311/pyarrow\n  \u001B[31m   \u001B[0m copying pyarrow/_dataset_parquet.pyx -> build/lib.linux-x86_64-cpython-311/pyarrow\n  \u001B[31m   \u001B[0m copying pyarrow/_feather.pyx -> build/lib.linux-x86_64-cpython-311/pyarrow\n  \u001B[31m   \u001B[0m copying pyarrow/_flight.pyx -> build/lib.linux-x86_64-cpython-311/pyarrow\n  \u001B[31m   \u001B[0m copying pyarrow/_fs.pxd -> build/lib.linux-x86_64-cpython-311/pyarrow\n  \u001B[31m   \u001B[0m copying pyarrow/_fs.pyx -> build/lib.linux-x86_64-cpython-311/pyarrow\n  \u001B[31m   \u001B[0m copying pyarrow/_hdfs.pyx -> build/lib.linux-x86_64-cpython-311/pyarrow\n  \u001B[31m   \u001B[0m copying pyarrow/_hdfsio.pyx -> build/lib.linux-x86_64-cpython-311/pyarrow\n  \u001B[31m   \u001B[0m copying pyarrow/_json.pyx -> build/lib.linux-x86_64-cpython-311/pyarrow\n  \u001B[31m   \u001B[0m copying pyarrow/_orc.pxd -> build/lib.linux-x86_64-cpython-311/pyarrow\n  \u001B[31m   \u001B[0m copying pyarrow/_orc.pyx -> build/lib.linux-x86_64-cpython-311/pyarrow\n  \u001B[31m   \u001B[0m copying pyarrow/_parquet.pxd -> build/lib.linux-x86_64-cpython-311/pyarrow\n  \u001B[31m   \u001B[0m copying pyarrow/_parquet.pyx -> build/lib.linux-x86_64-cpython-311/pyarrow\n  \u001B[31m   \u001B[0m copying pyarrow/_plasma.pyx -> build/lib.linux-x86_64-cpython-311/pyarrow\n  \u001B[31m   \u001B[0m copying pyarrow/_s3fs.pyx -> build/lib.linux-x86_64-cpython-311/pyarrow\n  \u001B[31m   \u001B[0m copying pyarrow/array.pxi -> build/lib.linux-x86_64-cpython-311/pyarrow\n  \u001B[31m   \u001B[0m copying pyarrow/benchmark.pxi -> build/lib.linux-x86_64-cpython-311/pyarrow\n  \u001B[31m   \u001B[0m copying pyarrow/builder.pxi -> build/lib.linux-x86_64-cpython-311/pyarrow\n  \u001B[31m   \u001B[0m copying pyarrow/compat.pxi -> build/lib.linux-x86_64-cpython-311/pyarrow\n  \u001B[31m   \u001B[0m copying pyarrow/config.pxi -> build/lib.linux-x86_64-cpython-311/pyarrow\n  \u001B[31m   \u001B[0m copying pyarrow/error.pxi -> build/lib.linux-x86_64-cpython-311/pyarrow\n  \u001B[31m   \u001B[0m copying pyarrow/gandiva.pyx -> build/lib.linux-x86_64-cpython-311/pyarrow\n  \u001B[31m   \u001B[0m copying pyarrow/io.pxi -> build/lib.linux-x86_64-cpython-311/pyarrow\n  \u001B[31m   \u001B[0m copying pyarrow/ipc.pxi -> build/lib.linux-x86_64-cpython-311/pyarrow\n  \u001B[31m   \u001B[0m copying pyarrow/lib.pxd -> build/lib.linux-x86_64-cpython-311/pyarrow\n  \u001B[31m   \u001B[0m copying pyarrow/lib.pyx -> build/lib.linux-x86_64-cpython-311/pyarrow\n  \u001B[31m   \u001B[0m copying pyarrow/memory.pxi -> build/lib.linux-x86_64-cpython-311/pyarrow\n  \u001B[31m   \u001B[0m copying pyarrow/pandas-shim.pxi -> build/lib.linux-x86_64-cpython-311/pyarrow\n  \u001B[31m   \u001B[0m copying pyarrow/public-api.pxi -> build/lib.linux-x86_64-cpython-311/pyarrow\n  \u001B[31m   \u001B[0m copying pyarrow/scalar.pxi -> build/lib.linux-x86_64-cpython-311/pyarrow\n  \u001B[31m   \u001B[0m copying pyarrow/serialization.pxi -> build/lib.linux-x86_64-cpython-311/pyarrow\n  \u001B[31m   \u001B[0m copying pyarrow/table.pxi -> build/lib.linux-x86_64-cpython-311/pyarrow\n  \u001B[31m   \u001B[0m copying pyarrow/tensor.pxi -> build/lib.linux-x86_64-cpython-311/pyarrow\n  \u001B[31m   \u001B[0m copying pyarrow/types.pxi -> build/lib.linux-x86_64-cpython-311/pyarrow\n  \u001B[31m   \u001B[0m creating build/lib.linux-x86_64-cpython-311/pyarrow/includes\n  \u001B[31m   \u001B[0m copying pyarrow/includes/__init__.pxd -> build/lib.linux-x86_64-cpython-311/pyarrow/includes\n  \u001B[31m   \u001B[0m copying pyarrow/includes/common.pxd -> build/lib.linux-x86_64-cpython-311/pyarrow/includes\n  \u001B[31m   \u001B[0m copying pyarrow/includes/libarrow.pxd -> build/lib.linux-x86_64-cpython-311/pyarrow/includes\n  \u001B[31m   \u001B[0m copying pyarrow/includes/libarrow_cuda.pxd -> build/lib.linux-x86_64-cpython-311/pyarrow/includes\n  \u001B[31m   \u001B[0m copying pyarrow/includes/libarrow_dataset.pxd -> build/lib.linux-x86_64-cpython-311/pyarrow/includes\n  \u001B[31m   \u001B[0m copying pyarrow/includes/libarrow_dataset_parquet.pxd -> build/lib.linux-x86_64-cpython-311/pyarrow/includes\n  \u001B[31m   \u001B[0m copying pyarrow/includes/libarrow_feather.pxd -> build/lib.linux-x86_64-cpython-311/pyarrow/includes\n  \u001B[31m   \u001B[0m copying pyarrow/includes/libarrow_flight.pxd -> build/lib.linux-x86_64-cpython-311/pyarrow/includes\n  \u001B[31m   \u001B[0m copying pyarrow/includes/libarrow_fs.pxd -> build/lib.linux-x86_64-cpython-311/pyarrow/includes\n  \u001B[31m   \u001B[0m copying pyarrow/includes/libgandiva.pxd -> build/lib.linux-x86_64-cpython-311/pyarrow/includes\n  \u001B[31m   \u001B[0m copying pyarrow/includes/libplasma.pxd -> build/lib.linux-x86_64-cpython-311/pyarrow/includes\n  \u001B[31m   \u001B[0m creating build/lib.linux-x86_64-cpython-311/pyarrow/tensorflow\n  \u001B[31m   \u001B[0m copying pyarrow/tensorflow/plasma_op.cc -> build/lib.linux-x86_64-cpython-311/pyarrow/tensorflow\n  \u001B[31m   \u001B[0m creating build/lib.linux-x86_64-cpython-311/pyarrow/vendored\n  \u001B[31m   \u001B[0m copying pyarrow/vendored/__init__.py -> build/lib.linux-x86_64-cpython-311/pyarrow/vendored\n  \u001B[31m   \u001B[0m copying pyarrow/vendored/docscrape.py -> build/lib.linux-x86_64-cpython-311/pyarrow/vendored\n  \u001B[31m   \u001B[0m copying pyarrow/vendored/version.py -> build/lib.linux-x86_64-cpython-311/pyarrow/vendored\n  \u001B[31m   \u001B[0m copying pyarrow/tests/bound_function_visit_strings.pyx -> build/lib.linux-x86_64-cpython-311/pyarrow/tests\n  \u001B[31m   \u001B[0m copying pyarrow/tests/pyarrow_cython_example.pyx -> build/lib.linux-x86_64-cpython-311/pyarrow/tests\n  \u001B[31m   \u001B[0m creating build/lib.linux-x86_64-cpython-311/pyarrow/tests/data/feather\n  \u001B[31m   \u001B[0m copying pyarrow/tests/data/feather/v0.17.0.version=2-compression=lz4.feather -> build/lib.linux-x86_64-cpython-311/pyarrow/tests/data/feather\n  \u001B[31m   \u001B[0m creating build/lib.linux-x86_64-cpython-311/pyarrow/tests/data/orc\n  \u001B[31m   \u001B[0m copying pyarrow/tests/data/orc/README.md -> build/lib.linux-x86_64-cpython-311/pyarrow/tests/data/orc\n  \u001B[31m   \u001B[0m copying pyarrow/tests/data/orc/TestOrcFile.emptyFile.jsn.gz -> build/lib.linux-x86_64-cpython-311/pyarrow/tests/data/orc\n  \u001B[31m   \u001B[0m copying pyarrow/tests/data/orc/TestOrcFile.emptyFile.orc -> build/lib.linux-x86_64-cpython-311/pyarrow/tests/data/orc\n  \u001B[31m   \u001B[0m copying pyarrow/tests/data/orc/TestOrcFile.test1.jsn.gz -> build/lib.linux-x86_64-cpython-311/pyarrow/tests/data/orc\n  \u001B[31m   \u001B[0m copying pyarrow/tests/data/orc/TestOrcFile.test1.orc -> build/lib.linux-x86_64-cpython-311/pyarrow/tests/data/orc\n  \u001B[31m   \u001B[0m copying pyarrow/tests/data/orc/TestOrcFile.testDate1900.jsn.gz -> build/lib.linux-x86_64-cpython-311/pyarrow/tests/data/orc\n  \u001B[31m   \u001B[0m copying pyarrow/tests/data/orc/TestOrcFile.testDate1900.orc -> build/lib.linux-x86_64-cpython-311/pyarrow/tests/data/orc\n  \u001B[31m   \u001B[0m copying pyarrow/tests/data/orc/decimal.jsn.gz -> build/lib.linux-x86_64-cpython-311/pyarrow/tests/data/orc\n  \u001B[31m   \u001B[0m copying pyarrow/tests/data/orc/decimal.orc -> build/lib.linux-x86_64-cpython-311/pyarrow/tests/data/orc\n  \u001B[31m   \u001B[0m creating build/lib.linux-x86_64-cpython-311/pyarrow/tests/data/parquet\n  \u001B[31m   \u001B[0m copying pyarrow/tests/data/parquet/v0.7.1.all-named-index.parquet -> build/lib.linux-x86_64-cpython-311/pyarrow/tests/data/parquet\n  \u001B[31m   \u001B[0m copying pyarrow/tests/data/parquet/v0.7.1.column-metadata-handling.parquet -> build/lib.linux-x86_64-cpython-311/pyarrow/tests/data/parquet\n  \u001B[31m   \u001B[0m copying pyarrow/tests/data/parquet/v0.7.1.parquet -> build/lib.linux-x86_64-cpython-311/pyarrow/tests/data/parquet\n  \u001B[31m   \u001B[0m copying pyarrow/tests/data/parquet/v0.7.1.some-named-index.parquet -> build/lib.linux-x86_64-cpython-311/pyarrow/tests/data/parquet\n  \u001B[31m   \u001B[0m creating build/lib.linux-x86_64-cpython-311/pyarrow/tests/parquet\n  \u001B[31m   \u001B[0m copying pyarrow/tests/parquet/common.py -> build/lib.linux-x86_64-cpython-311/pyarrow/tests/parquet\n  \u001B[31m   \u001B[0m copying pyarrow/tests/parquet/conftest.py -> build/lib.linux-x86_64-cpython-311/pyarrow/tests/parquet\n  \u001B[31m   \u001B[0m copying pyarrow/tests/parquet/test_basic.py -> build/lib.linux-x86_64-cpython-311/pyarrow/tests/parquet\n  \u001B[31m   \u001B[0m copying pyarrow/tests/parquet/test_compliant_nested_type.py -> build/lib.linux-x86_64-cpython-311/pyarrow/tests/parquet\n  \u001B[31m   \u001B[0m copying pyarrow/tests/parquet/test_data_types.py -> build/lib.linux-x86_64-cpython-311/pyarrow/tests/parquet\n  \u001B[31m   \u001B[0m copying pyarrow/tests/parquet/test_dataset.py -> build/lib.linux-x86_64-cpython-311/pyarrow/tests/parquet\n  \u001B[31m   \u001B[0m copying pyarrow/tests/parquet/test_datetime.py -> build/lib.linux-x86_64-cpython-311/pyarrow/tests/parquet\n  \u001B[31m   \u001B[0m copying pyarrow/tests/parquet/test_metadata.py -> build/lib.linux-x86_64-cpython-311/pyarrow/tests/parquet\n  \u001B[31m   \u001B[0m copying pyarrow/tests/parquet/test_pandas.py -> build/lib.linux-x86_64-cpython-311/pyarrow/tests/parquet\n  \u001B[31m   \u001B[0m copying pyarrow/tests/parquet/test_parquet_file.py -> build/lib.linux-x86_64-cpython-311/pyarrow/tests/parquet\n  \u001B[31m   \u001B[0m copying pyarrow/tests/parquet/test_parquet_writer.py -> build/lib.linux-x86_64-cpython-311/pyarrow/tests/parquet\n  \u001B[31m   \u001B[0m running build_ext\n  \u001B[31m   \u001B[0m creating /tmp/pip-install-xx6ck6uk/pyarrow_ddaf5df8d0064750af033adcae42bc67/build/temp.linux-x86_64-cpython-311\n  \u001B[31m   \u001B[0m -- Running cmake for pyarrow\n  \u001B[31m   \u001B[0m cmake -DPYTHON_EXECUTABLE=/databricks/python3/bin/python -DPython3_EXECUTABLE=/databricks/python3/bin/python \"\" -DPYARROW_BUILD_CUDA=off -DPYARROW_BUILD_FLIGHT=off -DPYARROW_BUILD_GANDIVA=off -DPYARROW_BUILD_DATASET=off -DPYARROW_BUILD_ORC=off -DPYARROW_BUILD_PARQUET=off -DPYARROW_BUILD_PLASMA=off -DPYARROW_BUILD_S3=off -DPYARROW_BUILD_HDFS=off -DPYARROW_USE_TENSORFLOW=off -DPYARROW_BUNDLE_ARROW_CPP=off -DPYARROW_BUNDLE_BOOST=off -DPYARROW_GENERATE_COVERAGE=off -DPYARROW_BOOST_USE_SHARED=on -DPYARROW_PARQUET_USE_SHARED=on -DCMAKE_BUILD_TYPE=release /tmp/pip-install-xx6ck6uk/pyarrow_ddaf5df8d0064750af033adcae42bc67\n  \u001B[31m   \u001B[0m -- The C compiler identification is GNU 11.4.0\n  \u001B[31m   \u001B[0m -- The CXX compiler identification is GNU 11.4.0\n  \u001B[31m   \u001B[0m -- Detecting C compiler ABI info\n  \u001B[31m   \u001B[0m -- Detecting C compiler ABI info - done\n  \u001B[31m   \u001B[0m -- Check for working C compiler: /usr/bin/cc - skipped\n  \u001B[31m   \u001B[0m -- Detecting C compile features\n  \u001B[31m   \u001B[0m -- Detecting C compile features - done\n  \u001B[31m   \u001B[0m -- Detecting CXX compiler ABI info\n  \u001B[31m   \u001B[0m -- Detecting CXX compiler ABI info - done\n  \u001B[31m   \u001B[0m -- Check for working CXX compiler: /usr/bin/c++ - skipped\n  \u001B[31m   \u001B[0m -- Detecting CXX compile features\n  \u001B[31m   \u001B[0m -- Detecting CXX compile features - done\n  \u001B[31m   \u001B[0m -- System processor: x86_64\n  \u001B[31m   \u001B[0m -- Performing Test CXX_SUPPORTS_SSE4_2\n  \u001B[31m   \u001B[0m -- Performing Test CXX_SUPPORTS_SSE4_2 - Success\n  \u001B[31m   \u001B[0m -- Performing Test CXX_SUPPORTS_AVX2\n  \u001B[31m   \u001B[0m -- Performing Test CXX_SUPPORTS_AVX2 - Success\n  \u001B[31m   \u001B[0m -- Performing Test CXX_SUPPORTS_AVX512\n  \u001B[31m   \u001B[0m -- Performing Test CXX_SUPPORTS_AVX512 - Success\n  \u001B[31m   \u001B[0m -- Arrow build warning level: PRODUCTION\n  \u001B[31m   \u001B[0m \u001B[0mUsing ld linker\u001B[0m\n  \u001B[31m   \u001B[0m \u001B[0mConfigured for RELEASE build (set with cmake -DCMAKE_BUILD_TYPE={release,debug,...})\u001B[0m\n  \u001B[31m   \u001B[0m -- Build Type: RELEASE\n  \u001B[31m   \u001B[0m -- Generator: Unix Makefiles\n  \u001B[31m   \u001B[0m -- Build output directory: /tmp/pip-install-xx6ck6uk/pyarrow_ddaf5df8d0064750af033adcae42bc67/build/temp.linux-x86_64-cpython-311/release\n  \u001B[31m   \u001B[0m -- Found Python3: /databricks/python3/bin/python (found version \"3.11.11\") found components: Interpreter Development.Module NumPy\n  \u001B[31m   \u001B[0m -- Found Python3Alt: /databricks/python3/bin/python\n  \u001B[31m   \u001B[0m \u001B[33mCMake Warning (dev) at /usr/share/cmake-3.22/Modules/FindPackageHandleStandardArgs.cmake:438 (message):\n  \u001B[31m   \u001B[0m   The package name passed to `find_package_handle_standard_args` (PkgConfig)\n  \u001B[31m   \u001B[0m   does not match the name of the calling package (Arrow).  This can lead to\n  \u001B[31m   \u001B[0m   problems in calling code that expects `find_package` result variables\n  \u001B[31m   \u001B[0m   (e.g., `_FOUND`) to follow a certain pattern.\n  \u001B[31m   \u001B[0m Call Stack (most recent call first):\n  \u001B[31m   \u001B[0m   /usr/share/cmake-3.22/Modules/FindPkgConfig.cmake:99 (find_package_handle_standard_args)\n  \u001B[31m   \u001B[0m   cmake_modules/FindArrow.cmake:39 (include)\n  \u001B[31m   \u001B[0m   cmake_modules/FindArrowPython.cmake:46 (find_package)\n  \u001B[31m   \u001B[0m   CMakeLists.txt:229 (find_package)\n  \u001B[31m   \u001B[0m This warning is for project developers.  Use -Wno-dev to suppress it.\n  \u001B[31m   \u001B[0m \u001B[0m\n  \u001B[31m   \u001B[0m -- Found PkgConfig: /usr/bin/pkg-config (found version \"0.29.2\")\n  \u001B[31m   \u001B[0m -- Could NOT find Arrow (missing: Arrow_DIR)\n  \u001B[31m   \u001B[0m -- Checking for module 'arrow'\n  \u001B[31m   \u001B[0m --   No package 'arrow' found\n  \u001B[31m   \u001B[0m \u001B[31mCMake Error at /usr/share/cmake-3.22/Modules/FindPackageHandleStandardArgs.cmake:230 (message):\n  \u001B[31m   \u001B[0m   Could NOT find Arrow (missing: ARROW_INCLUDE_DIR ARROW_LIB_DIR\n  \u001B[31m   \u001B[0m   ARROW_FULL_SO_VERSION ARROW_SO_VERSION)\n  \u001B[31m   \u001B[0m Call Stack (most recent call first):\n  \u001B[31m   \u001B[0m   /usr/share/cmake-3.22/Modules/FindPackageHandleStandardArgs.cmake:594 (_FPHSA_FAILURE_MESSAGE)\n  \u001B[31m   \u001B[0m   cmake_modules/FindArrow.cmake:450 (find_package_handle_standard_args)\n  \u001B[31m   \u001B[0m   cmake_modules/FindArrowPython.cmake:46 (find_package)\n  \u001B[31m   \u001B[0m   CMakeLists.txt:229 (find_package)\n  \u001B[31m   \u001B[0m \n  \u001B[31m   \u001B[0m \u001B[0m\n  \u001B[31m   \u001B[0m -- Configuring incomplete, errors occurred!\n  \u001B[31m   \u001B[0m See also \"/tmp/pip-install-xx6ck6uk/pyarrow_ddaf5df8d0064750af033adcae42bc67/build/temp.linux-x86_64-cpython-311/CMakeFiles/CMakeOutput.log\".\n  \u001B[31m   \u001B[0m error: command '/usr/bin/cmake' failed with exit code 1\n  \u001B[31m   \u001B[0m \u001B[31m[end of output]\u001B[0m\n  \n  \u001B[1;35mnote\u001B[0m: This error originates from a subprocess, and is likely not a problem with pip.\n\u001B[31m  ERROR: Failed building wheel for pyarrow\u001B[0m\u001B[31m\n\u001B[0m\u001B[31mERROR: Could not build wheels for pyarrow, which is required to install pyproject.toml-based projects\u001B[0m\u001B[31m\n\u001B[0m\n\u001B[1m[\u001B[0m\u001B[34;49mnotice\u001B[0m\u001B[1;39;49m]\u001B[0m\u001B[39;49m A new release of pip is available: \u001B[0m\u001B[31;49m23.2.1\u001B[0m\u001B[39;49m -> \u001B[0m\u001B[32;49m25.1.1\u001B[0m\n\u001B[1m[\u001B[0m\u001B[34;49mnotice\u001B[0m\u001B[1;39;49m]\u001B[0m\u001B[39;49m To update, run: \u001B[0m\u001B[32;49mpython -m pip install --upgrade pip\u001B[0m\n"
     ]
    },
    {
     "output_type": "stream",
     "name": "stdout",
     "output_type": "stream",
     "text": [
      "Failed to build pyarrow\nCollecting openpyxl==3.1.5\n  Obtaining dependency information for openpyxl==3.1.5 from https://files.pythonhosted.org/packages/c0/da/977ded879c29cbd04de313843e76868e6e13408a94ed6b987245dc7c8506/openpyxl-3.1.5-py2.py3-none-any.whl.metadata\n  Downloading openpyxl-3.1.5-py2.py3-none-any.whl.metadata (2.5 kB)\nCollecting et-xmlfile (from openpyxl==3.1.5)\n  Obtaining dependency information for et-xmlfile from https://files.pythonhosted.org/packages/c1/8b/5fe2cc11fee489817272089c4203e679c63b570a5aaeb18d852ae3cbba6a/et_xmlfile-2.0.0-py3-none-any.whl.metadata\n  Downloading et_xmlfile-2.0.0-py3-none-any.whl.metadata (2.7 kB)\nDownloading openpyxl-3.1.5-py2.py3-none-any.whl (250 kB)\n\u001B[?25l   \u001B[90m━━━━━━━━━━━━━━━━━━━━━━━━━━━━━━━━━━━━━━━━\u001B[0m \u001B[32m0.0/250.9 kB\u001B[0m \u001B[31m?\u001B[0m eta \u001B[36m-:--:--\u001B[0m\r\u001B[2K   \u001B[91m━━━━━━━━━━━━━━━━━\u001B[0m\u001B[91m╸\u001B[0m\u001B[90m━━━━━━━━━━━━━━━━━━━━━━\u001B[0m \u001B[32m112.6/250.9 kB\u001B[0m \u001B[31m3.5 MB/s\u001B[0m eta \u001B[36m0:00:01\u001B[0m\r\u001B[2K   \u001B[90m━━━━━━━━━━━━━━━━━━━━━━━━━━━━━━━━━━━━━━━━\u001B[0m \u001B[32m250.9/250.9 kB\u001B[0m \u001B[31m4.5 MB/s\u001B[0m eta \u001B[36m0:00:00\u001B[0m\n\u001B[?25hDownloading et_xmlfile-2.0.0-py3-none-any.whl (18 kB)\nInstalling collected packages: et-xmlfile, openpyxl\nSuccessfully installed et-xmlfile-2.0.0 openpyxl-3.1.5\n"
     ]
    },
    {
     "output_type": "stream",
     "name": "stderr",
     "output_type": "stream",
     "text": [
      "\n\u001B[1m[\u001B[0m\u001B[34;49mnotice\u001B[0m\u001B[1;39;49m]\u001B[0m\u001B[39;49m A new release of pip is available: \u001B[0m\u001B[31;49m23.2.1\u001B[0m\u001B[39;49m -> \u001B[0m\u001B[32;49m25.1.1\u001B[0m\n\u001B[1m[\u001B[0m\u001B[34;49mnotice\u001B[0m\u001B[1;39;49m]\u001B[0m\u001B[39;49m To update, run: \u001B[0m\u001B[32;49mpython -m pip install --upgrade pip\u001B[0m\n"
     ]
    },
    {
     "output_type": "stream",
     "name": "stdout",
     "output_type": "stream",
     "text": [
      "Collecting requests==2.32.3\n  Obtaining dependency information for requests==2.32.3 from https://files.pythonhosted.org/packages/f9/9b/335f9764261e915ed497fcdeb11df5dfd6f7bf257d4a6a2a686d80da4d54/requests-2.32.3-py3-none-any.whl.metadata\n  Using cached requests-2.32.3-py3-none-any.whl.metadata (4.6 kB)\nRequirement already satisfied: charset-normalizer<4,>=2 in /databricks/python3/lib/python3.11/site-packages (from requests==2.32.3) (2.0.4)\nRequirement already satisfied: idna<4,>=2.5 in /databricks/python3/lib/python3.11/site-packages (from requests==2.32.3) (3.4)\nRequirement already satisfied: urllib3<3,>=1.21.1 in /databricks/python3/lib/python3.11/site-packages (from requests==2.32.3) (1.26.16)\nRequirement already satisfied: certifi>=2017.4.17 in /databricks/python3/lib/python3.11/site-packages (from requests==2.32.3) (2023.7.22)\nUsing cached requests-2.32.3-py3-none-any.whl (64 kB)\nInstalling collected packages: requests\n  Attempting uninstall: requests\n    Found existing installation: requests 2.31.0\n    Uninstalling requests-2.31.0:\n      Successfully uninstalled requests-2.31.0\nSuccessfully installed requests-2.32.3\n"
     ]
    },
    {
     "output_type": "stream",
     "name": "stderr",
     "output_type": "stream",
     "text": [
      "\n\u001B[1m[\u001B[0m\u001B[34;49mnotice\u001B[0m\u001B[1;39;49m]\u001B[0m\u001B[39;49m A new release of pip is available: \u001B[0m\u001B[31;49m23.2.1\u001B[0m\u001B[39;49m -> \u001B[0m\u001B[32;49m25.1.1\u001B[0m\n\u001B[1m[\u001B[0m\u001B[34;49mnotice\u001B[0m\u001B[1;39;49m]\u001B[0m\u001B[39;49m To update, run: \u001B[0m\u001B[32;49mpython -m pip install --upgrade pip\u001B[0m\n"
     ]
    }
   ],
   "source": [
    "%sh\n",
    "/databricks/python/bin/pip install pandas==2.2.2\n",
    "/databricks/python/bin/pip install numpy==1.26.4\n",
    "/databricks/python/bin/pip install pyarrow==7.0.0\n",
    "\n",
    "# /databricks/python/bin/pip install pandas==2.2.3\n",
    "/databricks/python/bin/pip install openpyxl==3.1.5\n",
    "# /databricks/python/bin/pip install numpy==2.1.3\n",
    "/databricks/python/bin/pip install requests==2.32.3\n",
    "# /databricks/python/bin/pip install pyarrow==19.0.0\n"
   ]
  },
  {
   "cell_type": "code",
   "execution_count": 0,
   "metadata": {
    "application/vnd.databricks.v1+cell": {
     "cellMetadata": {
      "byteLimit": 2048000,
      "rowLimit": 10000
     },
     "inputWidgets": {},
     "nuid": "341d1f49-4e24-40f1-8b6d-5179efc39da3",
     "showTitle": false,
     "tableResultSettingsMap": {},
     "title": ""
    }
   },
   "outputs": [],
   "source": [
    "import os\n",
    "import requests\n",
    "import shutil\n",
    "from zipfile import ZipFile\n",
    "\n",
    "# from pyspark.sql import SparkSession\n",
    "from pyspark.sql.types import *\n",
    "from pyspark.sql.functions import *\n",
    "import pandas as pd\n",
    "import numpy as np\n",
    "\n",
    "# Create a Spark session\n",
    "# spark = SparkSession.builder.master(\"local\").config(\"spark.executor.memory\", \"6g\") \\\n",
    "#     .config(\"spark.driver.memory\", \"6g\") \\\n",
    "#     .config(\"spark.driver.maxResultSize\", \"6g\") \\\n",
    "#     .appName(\"PySpark Tutorial\").getOrCreate()\n",
    "\n",
    "# Verify Spark version\n",
    "# print(\"Spark version: \", spark.version)\n",
    "\n",
    "BASE_DOWNLOAD_URL_MICRO_DATA = 'https://ftp.ibge.gov.br/Trabalho_e_Rendimento/Pesquisa_Nacional_por_Amostra_de_Domicilios_PNAD_COVID19/Microdados/Dados/PNAD_COVID_{month}{year}.zip'\n",
    "BASE_DOWNLOAD_URL_GLOSSARY = 'https://ftp.ibge.gov.br/Trabalho_e_Rendimento/Pesquisa_Nacional_por_Amostra_de_Domicilios_PNAD_COVID19/Microdados/Documentacao/Dicionario_PNAD_COVID_{month}{year}_20220621.xls'\n",
    "\n",
    "BASE_PATH = '/Volumes/fiap_postech_covid19_pnad'\n",
    "\n",
    "INPUT_PATH = f'{BASE_PATH}/ingest/ingest_raw/micro_data'\n",
    "SILVER_PATH = f'{BASE_PATH}/silver/silver_volume'\n",
    "BRONZE_PATH = f'{BASE_PATH}/bronze/bronze_raw'\n",
    "BASE_DOWNLOAD_PATH = f'{BASE_PATH}/ingest/ingest_raw'\n",
    "\n",
    "LIST_AVAILABLE_MONTHS = ['05', '06', '07', '08', '09', '10', '11']\n",
    "LIST_AVAILABLE_YEARS = ['2020']"
   ]
  },
  {
   "cell_type": "markdown",
   "metadata": {
    "application/vnd.databricks.v1+cell": {
     "cellMetadata": {
      "byteLimit": 2048000,
      "rowLimit": 10000
     },
     "inputWidgets": {},
     "nuid": "d9c76962-d112-4ae9-ad68-9ddb3ed1587d",
     "showTitle": false,
     "tableResultSettingsMap": {},
     "title": ""
    }
   },
   "source": [
    "## Download\n",
    "\n",
    "Download e organização das pastas em formato que possam ser utilizadas como partições spark\n"
   ]
  },
  {
   "cell_type": "code",
   "execution_count": 0,
   "metadata": {
    "application/vnd.databricks.v1+cell": {
     "cellMetadata": {
      "byteLimit": 2048000,
      "rowLimit": 10000
     },
     "inputWidgets": {},
     "nuid": "b4e66a5f-c1c6-4728-ada3-c6aa7466afdb",
     "showTitle": false,
     "tableResultSettingsMap": {},
     "title": ""
    }
   },
   "outputs": [
    {
     "output_type": "stream",
     "name": "stdout",
     "output_type": "stream",
     "text": [
      "/Volumes/fiap_postech_covid19_pnad/bronze/bronze_raw/micro_data/ano_part=2020/mes=05:\ntotal 84M\n4.0K drwxrwxrwx 2 nobody nogroup 4.0K May 22 04:11 .\n4.0K drwxrwxrwx 2 nobody nogroup 4.0K May 22 04:12 ..\n 84M -rwxrwxrwx 1 nobody nogroup  84M May 22 04:11 PNAD_COVID_052020.csv\n\n/Volumes/fiap_postech_covid19_pnad/bronze/bronze_raw/micro_data/ano_part=2020/mes=06:\ntotal 92M\n4.0K drwxrwxrwx 2 nobody nogroup 4.0K May 22 04:11 .\n4.0K drwxrwxrwx 2 nobody nogroup 4.0K May 22 04:12 ..\n 92M -rwxrwxrwx 1 nobody nogroup  92M May 22 04:11 PNAD_COVID_062020.csv\n\n/Volumes/fiap_postech_covid19_pnad/bronze/bronze_raw/micro_data/ano_part=2020/mes=07:\ntotal 110M\n4.0K drwxrwxrwx 2 nobody nogroup 4.0K May 22 04:11 .\n4.0K drwxrwxrwx 2 nobody nogroup 4.0K May 22 04:12 ..\n110M -rwxrwxrwx 1 nobody nogroup 110M May 22 04:11 PNAD_COVID_072020.csv\n\n/Volumes/fiap_postech_covid19_pnad/bronze/bronze_raw/micro_data/ano_part=2020/mes=08:\ntotal 110M\n4.0K drwxrwxrwx 2 nobody nogroup 4.0K May 22 04:11 .\n4.0K drwxrwxrwx 2 nobody nogroup 4.0K May 22 04:12 ..\n110M -rwxrwxrwx 1 nobody nogroup 110M May 22 04:11 PNAD_COVID_082020.csv\n\n/Volumes/fiap_postech_covid19_pnad/bronze/bronze_raw/micro_data/ano_part=2020/mes=09:\ntotal 111M\n4.0K drwxrwxrwx 2 nobody nogroup 4.0K May 22 04:11 .\n4.0K drwxrwxrwx 2 nobody nogroup 4.0K May 22 04:12 ..\n111M -rwxrwxrwx 1 nobody nogroup 111M May 22 04:11 PNAD_COVID_092020.csv\n\n/Volumes/fiap_postech_covid19_pnad/bronze/bronze_raw/micro_data/ano_part=2020/mes=10:\ntotal 109M\n4.0K drwxrwxrwx 2 nobody nogroup 4.0K May 22 04:11 .\n4.0K drwxrwxrwx 2 nobody nogroup 4.0K May 22 04:12 ..\n109M -rwxrwxrwx 1 nobody nogroup 109M May 22 04:11 PNAD_COVID_102020.csv\n\n/Volumes/fiap_postech_covid19_pnad/bronze/bronze_raw/micro_data/ano_part=2020/mes=11:\ntotal 110M\n4.0K drwxrwxrwx 2 nobody nogroup 4.0K May 22 04:12 .\n4.0K drwxrwxrwx 2 nobody nogroup 4.0K May 22 04:12 ..\n110M -rwxrwxrwx 1 nobody nogroup 110M May 22 04:12 PNAD_COVID_112020.csv\n"
     ]
    }
   ],
   "source": [
    "%sh\n",
    "\n",
    "ls -lsah /Volumes/fiap_postech_covid19_pnad/bronze/bronze_raw/*/*/*"
   ]
  },
  {
   "cell_type": "code",
   "execution_count": 0,
   "metadata": {
    "application/vnd.databricks.v1+cell": {
     "cellMetadata": {
      "byteLimit": 2048000,
      "rowLimit": 10000
     },
     "inputWidgets": {},
     "nuid": "a76bb8a7-f76d-44ac-a531-fb565de8c5d9",
     "showTitle": false,
     "tableResultSettingsMap": {},
     "title": ""
    }
   },
   "outputs": [],
   "source": [
    "def download_file(url, path):\n",
    "    local_filename = path\n",
    "    with requests.get(url, stream=True) as r:\n",
    "        r.raise_for_status()\n",
    "        with open(local_filename, 'wb') as f:\n",
    "            for chunk in r.iter_content(chunk_size=8192): \n",
    "                f.write(chunk)\n",
    "    return local_filename\n",
    "\n",
    "\n",
    "def extract_file(zip_path, path_extract):\n",
    "    ZipFile(zip_path).extractall(path_extract)\n",
    "\n",
    "def process_micro_data(prefix_year, prefix_month, extract_path_name):\n",
    "\n",
    "    base_download_path_zip = os.path.join(BASE_DOWNLOAD_PATH, 'zip')\n",
    "\n",
    "    for year in LIST_AVAILABLE_YEARS:\n",
    "        for month in LIST_AVAILABLE_MONTHS:\n",
    "            url_download = BASE_DOWNLOAD_URL_MICRO_DATA.format(year=year, month=month)\n",
    "            path_download = os.path.join(base_download_path_zip, f'{prefix_year}={year}', f'{prefix_month}={month}')\n",
    "            path_extract = os.path.join(BRONZE_PATH, extract_path_name, f'{prefix_year}={year}', f'{prefix_month}={month}')\n",
    "            file_path_download = os.path.join(path_download, f'{month}-{year}.zip')\n",
    "            if not os.path.isdir(path_download): os.makedirs(path_download)\n",
    "            if not os.path.isdir(path_extract): os.makedirs(path_extract)\n",
    "            download_file(url_download, file_path_download)\n",
    "            extract_file(file_path_download, path_extract)\n",
    "\n",
    "    shutil.rmtree(base_download_path_zip)\n",
    "\n",
    "def process_glossary_data():\n",
    "    path_extract = os.path.join(BASE_DOWNLOAD_PATH, 'dicionario_pnad_covid_raw.xlsx')\n",
    "    url_download = BASE_DOWNLOAD_URL_GLOSSARY.format(year='2020', month='11') # Usando ultimo mes, uma vez que é o dicionario mais completo\n",
    "    download_file(url_download, path_extract)\n",
    "\n",
    "prefix_year = 'ano_part'\n",
    "prefix_month = 'mes'\n",
    "extract_path_name = 'micro_data'\n",
    "\n",
    "process_micro_data(prefix_year, prefix_month, extract_path_name)\n",
    "process_glossary_data()"
   ]
  },
  {
   "cell_type": "markdown",
   "metadata": {
    "application/vnd.databricks.v1+cell": {
     "cellMetadata": {
      "byteLimit": 2048000,
      "rowLimit": 10000
     },
     "inputWidgets": {},
     "nuid": "6330e251-5c7e-42ef-ab40-a4781053b246",
     "showTitle": false,
     "tableResultSettingsMap": {},
     "title": ""
    }
   },
   "source": [
    "## Pre Processamento\n",
    "\n",
    "Uma vez que os arquivos bases são grandes, para evitar esforço computacional e consumo de disco desnecessário, Estamos reescrevendo os dados Bronze para parquet, com somente os meses necessários (Necessário rodar somente uma vez, para gerar `bronze.parquet`)"
   ]
  },
  {
   "cell_type": "code",
   "execution_count": 0,
   "metadata": {
    "application/vnd.databricks.v1+cell": {
     "cellMetadata": {
      "byteLimit": 2048000,
      "rowLimit": 10000
     },
     "inputWidgets": {},
     "nuid": "ac77d2c7-f0eb-42fe-9c05-0cf062d1f83b",
     "showTitle": false,
     "tableResultSettingsMap": {},
     "title": ""
    }
   },
   "outputs": [
    {
     "output_type": "display_data",
     "data": {
      "text/plain": [
       "\u001B[0;31m---------------------------------------------------------------------------\u001B[0m\n",
       "\u001B[0;31mPermissionError\u001B[0m                           Traceback (most recent call last)\n",
       "File \u001B[0;32m<command-1905483557337270>, line 40\u001B[0m\n",
       "\u001B[1;32m     37\u001B[0m prefix_month \u001B[38;5;241m=\u001B[39m \u001B[38;5;124m'\u001B[39m\u001B[38;5;124mmes\u001B[39m\u001B[38;5;124m'\u001B[39m\n",
       "\u001B[1;32m     38\u001B[0m extract_path_name \u001B[38;5;241m=\u001B[39m \u001B[38;5;124m'\u001B[39m\u001B[38;5;124mmicro_data\u001B[39m\u001B[38;5;124m'\u001B[39m\n",
       "\u001B[0;32m---> 40\u001B[0m process_micro_data(prefix_year, prefix_month, extract_path_name)\n",
       "\u001B[1;32m     41\u001B[0m process_glossary_data()\n",
       "\n",
       "File \u001B[0;32m<command-1905483557337270>, line 24\u001B[0m, in \u001B[0;36mprocess_micro_data\u001B[0;34m(prefix_year, prefix_month, extract_path_name)\u001B[0m\n",
       "\u001B[1;32m     22\u001B[0m path_extract \u001B[38;5;241m=\u001B[39m os\u001B[38;5;241m.\u001B[39mpath\u001B[38;5;241m.\u001B[39mjoin(BRONZE_PATH, extract_path_name, \u001B[38;5;124mf\u001B[39m\u001B[38;5;124m'\u001B[39m\u001B[38;5;132;01m{\u001B[39;00mprefix_year\u001B[38;5;132;01m}\u001B[39;00m\u001B[38;5;124m=\u001B[39m\u001B[38;5;132;01m{\u001B[39;00myear\u001B[38;5;132;01m}\u001B[39;00m\u001B[38;5;124m'\u001B[39m, \u001B[38;5;124mf\u001B[39m\u001B[38;5;124m'\u001B[39m\u001B[38;5;132;01m{\u001B[39;00mprefix_month\u001B[38;5;132;01m}\u001B[39;00m\u001B[38;5;124m=\u001B[39m\u001B[38;5;132;01m{\u001B[39;00mmonth\u001B[38;5;132;01m}\u001B[39;00m\u001B[38;5;124m'\u001B[39m)\n",
       "\u001B[1;32m     23\u001B[0m file_path_download \u001B[38;5;241m=\u001B[39m os\u001B[38;5;241m.\u001B[39mpath\u001B[38;5;241m.\u001B[39mjoin(path_download, \u001B[38;5;124mf\u001B[39m\u001B[38;5;124m'\u001B[39m\u001B[38;5;132;01m{\u001B[39;00mmonth\u001B[38;5;132;01m}\u001B[39;00m\u001B[38;5;124m-\u001B[39m\u001B[38;5;132;01m{\u001B[39;00myear\u001B[38;5;132;01m}\u001B[39;00m\u001B[38;5;124m.zip\u001B[39m\u001B[38;5;124m'\u001B[39m)\n",
       "\u001B[0;32m---> 24\u001B[0m \u001B[38;5;28;01mif\u001B[39;00m \u001B[38;5;129;01mnot\u001B[39;00m os\u001B[38;5;241m.\u001B[39mpath\u001B[38;5;241m.\u001B[39misdir(path_download): os\u001B[38;5;241m.\u001B[39mmakedirs(path_download)\n",
       "\u001B[1;32m     25\u001B[0m \u001B[38;5;28;01mif\u001B[39;00m \u001B[38;5;129;01mnot\u001B[39;00m os\u001B[38;5;241m.\u001B[39mpath\u001B[38;5;241m.\u001B[39misdir(path_extract): os\u001B[38;5;241m.\u001B[39mmakedirs(path_extract)\n",
       "\u001B[1;32m     26\u001B[0m download_file(url_download, file_path_download)\n",
       "\n",
       "File \u001B[0;32m<frozen os>:215\u001B[0m, in \u001B[0;36mmakedirs\u001B[0;34m(name, mode, exist_ok)\u001B[0m\n",
       "\n",
       "File \u001B[0;32m<frozen os>:215\u001B[0m, in \u001B[0;36mmakedirs\u001B[0;34m(name, mode, exist_ok)\u001B[0m\n",
       "\n",
       "File \u001B[0;32m<frozen os>:225\u001B[0m, in \u001B[0;36mmakedirs\u001B[0;34m(name, mode, exist_ok)\u001B[0m\n",
       "\n",
       "\u001B[0;31mPermissionError\u001B[0m: [Errno 13] Permission denied: '/Volumes/covid_pnad19/ingest/ingest_raw/zip'"
      ]
     },
     "metadata": {
      "application/vnd.databricks.v1+output": {
       "addedWidgets": {},
       "arguments": {},
       "datasetInfos": [],
       "jupyterProps": {
        "ename": "PermissionError",
        "evalue": "[Errno 13] Permission denied: '/Volumes/covid_pnad19/ingest/ingest_raw/zip'"
       },
       "metadata": {
        "errorSummary": "Command skipped"
       },
       "removedWidgets": [],
       "sqlProps": null,
       "stackFrames": [
        "\u001B[0;31m---------------------------------------------------------------------------\u001B[0m",
        "\u001B[0;31mPermissionError\u001B[0m                           Traceback (most recent call last)",
        "File \u001B[0;32m<command-1905483557337270>, line 40\u001B[0m\n\u001B[1;32m     37\u001B[0m prefix_month \u001B[38;5;241m=\u001B[39m \u001B[38;5;124m'\u001B[39m\u001B[38;5;124mmes\u001B[39m\u001B[38;5;124m'\u001B[39m\n\u001B[1;32m     38\u001B[0m extract_path_name \u001B[38;5;241m=\u001B[39m \u001B[38;5;124m'\u001B[39m\u001B[38;5;124mmicro_data\u001B[39m\u001B[38;5;124m'\u001B[39m\n\u001B[0;32m---> 40\u001B[0m process_micro_data(prefix_year, prefix_month, extract_path_name)\n\u001B[1;32m     41\u001B[0m process_glossary_data()\n",
        "File \u001B[0;32m<command-1905483557337270>, line 24\u001B[0m, in \u001B[0;36mprocess_micro_data\u001B[0;34m(prefix_year, prefix_month, extract_path_name)\u001B[0m\n\u001B[1;32m     22\u001B[0m path_extract \u001B[38;5;241m=\u001B[39m os\u001B[38;5;241m.\u001B[39mpath\u001B[38;5;241m.\u001B[39mjoin(BRONZE_PATH, extract_path_name, \u001B[38;5;124mf\u001B[39m\u001B[38;5;124m'\u001B[39m\u001B[38;5;132;01m{\u001B[39;00mprefix_year\u001B[38;5;132;01m}\u001B[39;00m\u001B[38;5;124m=\u001B[39m\u001B[38;5;132;01m{\u001B[39;00myear\u001B[38;5;132;01m}\u001B[39;00m\u001B[38;5;124m'\u001B[39m, \u001B[38;5;124mf\u001B[39m\u001B[38;5;124m'\u001B[39m\u001B[38;5;132;01m{\u001B[39;00mprefix_month\u001B[38;5;132;01m}\u001B[39;00m\u001B[38;5;124m=\u001B[39m\u001B[38;5;132;01m{\u001B[39;00mmonth\u001B[38;5;132;01m}\u001B[39;00m\u001B[38;5;124m'\u001B[39m)\n\u001B[1;32m     23\u001B[0m file_path_download \u001B[38;5;241m=\u001B[39m os\u001B[38;5;241m.\u001B[39mpath\u001B[38;5;241m.\u001B[39mjoin(path_download, \u001B[38;5;124mf\u001B[39m\u001B[38;5;124m'\u001B[39m\u001B[38;5;132;01m{\u001B[39;00mmonth\u001B[38;5;132;01m}\u001B[39;00m\u001B[38;5;124m-\u001B[39m\u001B[38;5;132;01m{\u001B[39;00myear\u001B[38;5;132;01m}\u001B[39;00m\u001B[38;5;124m.zip\u001B[39m\u001B[38;5;124m'\u001B[39m)\n\u001B[0;32m---> 24\u001B[0m \u001B[38;5;28;01mif\u001B[39;00m \u001B[38;5;129;01mnot\u001B[39;00m os\u001B[38;5;241m.\u001B[39mpath\u001B[38;5;241m.\u001B[39misdir(path_download): os\u001B[38;5;241m.\u001B[39mmakedirs(path_download)\n\u001B[1;32m     25\u001B[0m \u001B[38;5;28;01mif\u001B[39;00m \u001B[38;5;129;01mnot\u001B[39;00m os\u001B[38;5;241m.\u001B[39mpath\u001B[38;5;241m.\u001B[39misdir(path_extract): os\u001B[38;5;241m.\u001B[39mmakedirs(path_extract)\n\u001B[1;32m     26\u001B[0m download_file(url_download, file_path_download)\n",
        "File \u001B[0;32m<frozen os>:215\u001B[0m, in \u001B[0;36mmakedirs\u001B[0;34m(name, mode, exist_ok)\u001B[0m\n",
        "File \u001B[0;32m<frozen os>:215\u001B[0m, in \u001B[0;36mmakedirs\u001B[0;34m(name, mode, exist_ok)\u001B[0m\n",
        "File \u001B[0;32m<frozen os>:225\u001B[0m, in \u001B[0;36mmakedirs\u001B[0;34m(name, mode, exist_ok)\u001B[0m\n",
        "\u001B[0;31mPermissionError\u001B[0m: [Errno 13] Permission denied: '/Volumes/covid_pnad19/ingest/ingest_raw/zip'"
       ],
       "type": "baseError"
      }
     },
     "output_type": "display_data"
    }
   ],
   "source": [
    "# df = spark.read.csv(INPUT_PATH, header=True)\n",
    "\n",
    "# df.write.format('parquet').mode(\"overwrite\").partitionBy(['ano_part', 'mes']).save(BRONZE_PATH)\n",
    "\n",
    "\n",
    "# df = spark.read.parquet(BRONZE_PATH, header=True)\n",
    "# df.where(col('mes') >= 9).count()"
   ]
  },
  {
   "cell_type": "code",
   "execution_count": 0,
   "metadata": {
    "application/vnd.databricks.v1+cell": {
     "cellMetadata": {
      "byteLimit": 2048000,
      "rowLimit": 10000
     },
     "inputWidgets": {},
     "nuid": "6a480984-180b-41d5-bfcb-2d5930726477",
     "showTitle": false,
     "tableResultSettingsMap": {},
     "title": ""
    }
   },
   "outputs": [
    {
     "output_type": "display_data",
     "data": {
      "text/plain": [
       "\u001B[0;31m---------------------------------------------------------------------------\u001B[0m\n",
       "\u001B[0;31mPermissionError\u001B[0m                           Traceback (most recent call last)\n",
       "File \u001B[0;32m<command-1905483557337270>, line 40\u001B[0m\n",
       "\u001B[1;32m     37\u001B[0m prefix_month \u001B[38;5;241m=\u001B[39m \u001B[38;5;124m'\u001B[39m\u001B[38;5;124mmes\u001B[39m\u001B[38;5;124m'\u001B[39m\n",
       "\u001B[1;32m     38\u001B[0m extract_path_name \u001B[38;5;241m=\u001B[39m \u001B[38;5;124m'\u001B[39m\u001B[38;5;124mmicro_data\u001B[39m\u001B[38;5;124m'\u001B[39m\n",
       "\u001B[0;32m---> 40\u001B[0m process_micro_data(prefix_year, prefix_month, extract_path_name)\n",
       "\u001B[1;32m     41\u001B[0m process_glossary_data()\n",
       "\n",
       "File \u001B[0;32m<command-1905483557337270>, line 24\u001B[0m, in \u001B[0;36mprocess_micro_data\u001B[0;34m(prefix_year, prefix_month, extract_path_name)\u001B[0m\n",
       "\u001B[1;32m     22\u001B[0m path_extract \u001B[38;5;241m=\u001B[39m os\u001B[38;5;241m.\u001B[39mpath\u001B[38;5;241m.\u001B[39mjoin(BRONZE_PATH, extract_path_name, \u001B[38;5;124mf\u001B[39m\u001B[38;5;124m'\u001B[39m\u001B[38;5;132;01m{\u001B[39;00mprefix_year\u001B[38;5;132;01m}\u001B[39;00m\u001B[38;5;124m=\u001B[39m\u001B[38;5;132;01m{\u001B[39;00myear\u001B[38;5;132;01m}\u001B[39;00m\u001B[38;5;124m'\u001B[39m, \u001B[38;5;124mf\u001B[39m\u001B[38;5;124m'\u001B[39m\u001B[38;5;132;01m{\u001B[39;00mprefix_month\u001B[38;5;132;01m}\u001B[39;00m\u001B[38;5;124m=\u001B[39m\u001B[38;5;132;01m{\u001B[39;00mmonth\u001B[38;5;132;01m}\u001B[39;00m\u001B[38;5;124m'\u001B[39m)\n",
       "\u001B[1;32m     23\u001B[0m file_path_download \u001B[38;5;241m=\u001B[39m os\u001B[38;5;241m.\u001B[39mpath\u001B[38;5;241m.\u001B[39mjoin(path_download, \u001B[38;5;124mf\u001B[39m\u001B[38;5;124m'\u001B[39m\u001B[38;5;132;01m{\u001B[39;00mmonth\u001B[38;5;132;01m}\u001B[39;00m\u001B[38;5;124m-\u001B[39m\u001B[38;5;132;01m{\u001B[39;00myear\u001B[38;5;132;01m}\u001B[39;00m\u001B[38;5;124m.zip\u001B[39m\u001B[38;5;124m'\u001B[39m)\n",
       "\u001B[0;32m---> 24\u001B[0m \u001B[38;5;28;01mif\u001B[39;00m \u001B[38;5;129;01mnot\u001B[39;00m os\u001B[38;5;241m.\u001B[39mpath\u001B[38;5;241m.\u001B[39misdir(path_download): os\u001B[38;5;241m.\u001B[39mmakedirs(path_download)\n",
       "\u001B[1;32m     25\u001B[0m \u001B[38;5;28;01mif\u001B[39;00m \u001B[38;5;129;01mnot\u001B[39;00m os\u001B[38;5;241m.\u001B[39mpath\u001B[38;5;241m.\u001B[39misdir(path_extract): os\u001B[38;5;241m.\u001B[39mmakedirs(path_extract)\n",
       "\u001B[1;32m     26\u001B[0m download_file(url_download, file_path_download)\n",
       "\n",
       "File \u001B[0;32m<frozen os>:215\u001B[0m, in \u001B[0;36mmakedirs\u001B[0;34m(name, mode, exist_ok)\u001B[0m\n",
       "\n",
       "File \u001B[0;32m<frozen os>:215\u001B[0m, in \u001B[0;36mmakedirs\u001B[0;34m(name, mode, exist_ok)\u001B[0m\n",
       "\n",
       "File \u001B[0;32m<frozen os>:225\u001B[0m, in \u001B[0;36mmakedirs\u001B[0;34m(name, mode, exist_ok)\u001B[0m\n",
       "\n",
       "\u001B[0;31mPermissionError\u001B[0m: [Errno 13] Permission denied: '/Volumes/covid_pnad19/ingest/ingest_raw/zip'"
      ]
     },
     "metadata": {
      "application/vnd.databricks.v1+output": {
       "addedWidgets": {},
       "arguments": {},
       "datasetInfos": [],
       "jupyterProps": {
        "ename": "PermissionError",
        "evalue": "[Errno 13] Permission denied: '/Volumes/covid_pnad19/ingest/ingest_raw/zip'"
       },
       "metadata": {
        "errorSummary": "Command skipped"
       },
       "removedWidgets": [],
       "sqlProps": null,
       "stackFrames": [
        "\u001B[0;31m---------------------------------------------------------------------------\u001B[0m",
        "\u001B[0;31mPermissionError\u001B[0m                           Traceback (most recent call last)",
        "File \u001B[0;32m<command-1905483557337270>, line 40\u001B[0m\n\u001B[1;32m     37\u001B[0m prefix_month \u001B[38;5;241m=\u001B[39m \u001B[38;5;124m'\u001B[39m\u001B[38;5;124mmes\u001B[39m\u001B[38;5;124m'\u001B[39m\n\u001B[1;32m     38\u001B[0m extract_path_name \u001B[38;5;241m=\u001B[39m \u001B[38;5;124m'\u001B[39m\u001B[38;5;124mmicro_data\u001B[39m\u001B[38;5;124m'\u001B[39m\n\u001B[0;32m---> 40\u001B[0m process_micro_data(prefix_year, prefix_month, extract_path_name)\n\u001B[1;32m     41\u001B[0m process_glossary_data()\n",
        "File \u001B[0;32m<command-1905483557337270>, line 24\u001B[0m, in \u001B[0;36mprocess_micro_data\u001B[0;34m(prefix_year, prefix_month, extract_path_name)\u001B[0m\n\u001B[1;32m     22\u001B[0m path_extract \u001B[38;5;241m=\u001B[39m os\u001B[38;5;241m.\u001B[39mpath\u001B[38;5;241m.\u001B[39mjoin(BRONZE_PATH, extract_path_name, \u001B[38;5;124mf\u001B[39m\u001B[38;5;124m'\u001B[39m\u001B[38;5;132;01m{\u001B[39;00mprefix_year\u001B[38;5;132;01m}\u001B[39;00m\u001B[38;5;124m=\u001B[39m\u001B[38;5;132;01m{\u001B[39;00myear\u001B[38;5;132;01m}\u001B[39;00m\u001B[38;5;124m'\u001B[39m, \u001B[38;5;124mf\u001B[39m\u001B[38;5;124m'\u001B[39m\u001B[38;5;132;01m{\u001B[39;00mprefix_month\u001B[38;5;132;01m}\u001B[39;00m\u001B[38;5;124m=\u001B[39m\u001B[38;5;132;01m{\u001B[39;00mmonth\u001B[38;5;132;01m}\u001B[39;00m\u001B[38;5;124m'\u001B[39m)\n\u001B[1;32m     23\u001B[0m file_path_download \u001B[38;5;241m=\u001B[39m os\u001B[38;5;241m.\u001B[39mpath\u001B[38;5;241m.\u001B[39mjoin(path_download, \u001B[38;5;124mf\u001B[39m\u001B[38;5;124m'\u001B[39m\u001B[38;5;132;01m{\u001B[39;00mmonth\u001B[38;5;132;01m}\u001B[39;00m\u001B[38;5;124m-\u001B[39m\u001B[38;5;132;01m{\u001B[39;00myear\u001B[38;5;132;01m}\u001B[39;00m\u001B[38;5;124m.zip\u001B[39m\u001B[38;5;124m'\u001B[39m)\n\u001B[0;32m---> 24\u001B[0m \u001B[38;5;28;01mif\u001B[39;00m \u001B[38;5;129;01mnot\u001B[39;00m os\u001B[38;5;241m.\u001B[39mpath\u001B[38;5;241m.\u001B[39misdir(path_download): os\u001B[38;5;241m.\u001B[39mmakedirs(path_download)\n\u001B[1;32m     25\u001B[0m \u001B[38;5;28;01mif\u001B[39;00m \u001B[38;5;129;01mnot\u001B[39;00m os\u001B[38;5;241m.\u001B[39mpath\u001B[38;5;241m.\u001B[39misdir(path_extract): os\u001B[38;5;241m.\u001B[39mmakedirs(path_extract)\n\u001B[1;32m     26\u001B[0m download_file(url_download, file_path_download)\n",
        "File \u001B[0;32m<frozen os>:215\u001B[0m, in \u001B[0;36mmakedirs\u001B[0;34m(name, mode, exist_ok)\u001B[0m\n",
        "File \u001B[0;32m<frozen os>:215\u001B[0m, in \u001B[0;36mmakedirs\u001B[0;34m(name, mode, exist_ok)\u001B[0m\n",
        "File \u001B[0;32m<frozen os>:225\u001B[0m, in \u001B[0;36mmakedirs\u001B[0;34m(name, mode, exist_ok)\u001B[0m\n",
        "\u001B[0;31mPermissionError\u001B[0m: [Errno 13] Permission denied: '/Volumes/covid_pnad19/ingest/ingest_raw/zip'"
       ],
       "type": "baseError"
      }
     },
     "output_type": "display_data"
    }
   ],
   "source": [
    "# df = spark.read.parquet(BRONZE_PATH, header=True)\n",
    "# df.count()\n",
    "\n",
    "\n",
    "# df.where(col('mes') >= 9).count()"
   ]
  }
 ],
 "metadata": {
  "application/vnd.databricks.v1+notebook": {
   "computePreferences": null,
   "dashboards": [],
   "environmentMetadata": null,
   "inputWidgetPreferences": null,
   "language": "python",
   "notebookMetadata": {
    "mostRecentlyExecutedCommandWithImplicitDF": {
     "commandId": 5661880754479219,
     "dataframes": [
      "_sqldf"
     ]
    },
    "pythonIndentUnit": 4
   },
   "notebookName": "ingest",
   "widgets": {}
  },
  "kernelspec": {
   "display_name": "venv",
   "language": "python",
   "name": "python3"
  },
  "language_info": {
   "name": "python"
  }
 },
 "nbformat": 4,
 "nbformat_minor": 0
}