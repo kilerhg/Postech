{
 "cells": [
  {
   "cell_type": "markdown",
   "metadata": {},
   "source": [
    "## Setup\n",
    "\n",
    "Configuração do ambiente de desenvolvimento para realização do ETL (Extract Transform Load)"
   ]
  },
  {
   "cell_type": "markdown",
   "metadata": {},
   "source": [
    "### Instalando bibliotecas\n",
    "\n",
    "Instalando todas as bibliotecas necessárias e criação do ambiente spark"
   ]
  },
  {
   "cell_type": "code",
   "execution_count": 2,
   "metadata": {},
   "outputs": [
    {
     "name": "stdout",
     "output_type": "stream",
     "text": [
      "Spark version:  3.5.4\n"
     ]
    }
   ],
   "source": [
    "import os\n",
    "import requests\n",
    "import shutil\n",
    "from zipfile import ZipFile\n",
    "\n",
    "from pyspark.sql import SparkSession\n",
    "from pyspark.sql.types import *\n",
    "from pyspark.sql.functions import *\n",
    "import pandas as pd\n",
    "import numpy as np\n",
    "\n",
    "# Create a Spark session\n",
    "spark = SparkSession.builder.master(\"local\").config(\"spark.executor.memory\", \"6g\") \\\n",
    "    .config(\"spark.driver.memory\", \"6g\") \\\n",
    "    .config(\"spark.driver.maxResultSize\", \"6g\") \\\n",
    "    .appName(\"PySpark Tutorial\").getOrCreate()\n",
    "\n",
    "# Verify Spark version\n",
    "print(\"Spark version: \", spark.version)\n",
    "\n",
    "BASE_DOWNLOAD_URL_MICRO_DATA = 'https://ftp.ibge.gov.br/Trabalho_e_Rendimento/Pesquisa_Nacional_por_Amostra_de_Domicilios_PNAD_COVID19/Microdados/Dados/PNAD_COVID_{month}{year}.zip'\n",
    "BASE_DOWNLOAD_URL_GLOSSARY = 'https://ftp.ibge.gov.br/Trabalho_e_Rendimento/Pesquisa_Nacional_por_Amostra_de_Domicilios_PNAD_COVID19/Microdados/Dados/PNAD_COVID_{month}{year}.zip'\n",
    "\n",
    "INPUT_PATH = '/home/lucas-nunes/workspace/Postech/challenges/3_covid19/data/input/micro_data'\n",
    "\n",
    "SILVER_PATH = '/home/lucas-nunes/workspace/Postech/challenges/3_covid19/data/silver'\n",
    "BRONZE_PATH = '/home/lucas-nunes/workspace/Postech/challenges/3_covid19/data/bronze/data'\n",
    "\n",
    "BASE_DOWNLOAD_PATH = '/home/lucas-nunes/workspace/Postech/challenges/3_covid19/data/input'\n",
    "\n",
    "LIST_AVAILABLE_MONTHS = ['05', '06', '07', '08', '09', '10', '11']\n",
    "LIST_AVAILABLE_YEARS = ['2020']"
   ]
  },
  {
   "cell_type": "markdown",
   "metadata": {},
   "source": [
    "## Download\n",
    "\n",
    "Download e organização das pastas em formato que possam ser utilizadas como partições spark\n"
   ]
  },
  {
   "cell_type": "code",
   "execution_count": 3,
   "metadata": {},
   "outputs": [
    {
     "name": "stderr",
     "output_type": "stream",
     "text": [
      "25/05/17 23:41:50 WARN GarbageCollectionMetrics: To enable non-built-in garbage collector(s) List(G1 Concurrent GC), users should configure it(them) to spark.eventLog.gcMetrics.youngGenerationGarbageCollectors or spark.eventLog.gcMetrics.oldGenerationGarbageCollectors\n"
     ]
    }
   ],
   "source": [
    "def download_file(url, path):\n",
    "    local_filename = path\n",
    "    with requests.get(url, stream=True) as r:\n",
    "        r.raise_for_status()\n",
    "        with open(local_filename, 'wb') as f:\n",
    "            for chunk in r.iter_content(chunk_size=8192): \n",
    "                f.write(chunk)\n",
    "    return local_filename\n",
    "\n",
    "\n",
    "def extract_file(zip_path, path_extract):\n",
    "    ZipFile(zip_path).extractall(path_extract)\n",
    "\n",
    "def process_micro_data(prefix_year, prefix_month, extract_path_name):\n",
    "\n",
    "    base_download_path_zip = os.path.join(BASE_DOWNLOAD_PATH, 'zip')\n",
    "\n",
    "    for year in LIST_AVAILABLE_YEARS:\n",
    "        for month in LIST_AVAILABLE_MONTHS:\n",
    "            url_download = BASE_DOWNLOAD_URL_MICRO_DATA.format(year=year, month=month)\n",
    "            path_download = os.path.join(base_download_path_zip, f'{prefix_year}={year}', f'{prefix_month}={month}')\n",
    "            path_extract = os.path.join(BASE_DOWNLOAD_PATH, extract_path_name, f'{prefix_year}={year}', f'{prefix_month}={month}')\n",
    "            file_path_download = os.path.join(path_download, f'{month}-{year}.zip')\n",
    "            if not os.path.isdir(path_download): os.makedirs(path_download)\n",
    "            if not os.path.isdir(path_extract): os.makedirs(path_extract)\n",
    "            download_file(url_download, file_path_download)\n",
    "            extract_file(file_path_download, path_extract)\n",
    "\n",
    "    shutil.rmtree(base_download_path_zip)\n",
    "\n",
    "def process_glossary_data():\n",
    "    path_extract = os.path.join(BASE_DOWNLOAD_PATH, 'glossary.xlsx')\n",
    "    url_download = BASE_DOWNLOAD_URL_MICRO_DATA.format(year='2020', month='11') # Usando ultimo mes, uma vez que é o dicionario mais completo\n",
    "    download_file(url_download, path_extract)\n",
    "\n",
    "prefix_year = 'ano_part'\n",
    "prefix_month = 'mes'\n",
    "extract_path_name = 'micro_data'\n",
    "\n",
    "process_micro_data(prefix_year, prefix_month, extract_path_name)\n",
    "process_glossary_data() # Site instável, aguardando retorno para pegar url correta"
   ]
  },
  {
   "cell_type": "markdown",
   "metadata": {},
   "source": [
    "## Pre Processamento\n",
    "\n",
    "Uma vez que os arquivos bases são grandes, para evitar esforço computacional e consumo de disco desnecessário, Estamos reescrevendo os dados Bronze para parquet, com somente os meses necessários (Necessário rodar somente uma vez, para gerar `bronze.parquet`)"
   ]
  },
  {
   "cell_type": "code",
   "execution_count": 4,
   "metadata": {},
   "outputs": [
    {
     "name": "stderr",
     "output_type": "stream",
     "text": [
      "25/05/17 23:42:02 WARN SparkStringUtils: Truncated the string representation of a plan since it was too large. This behavior can be adjusted by setting 'spark.sql.debug.maxToStringFields'.\n",
      "25/05/17 23:42:20 WARN CSVHeaderChecker: Number of column in CSV header is not equal to number of fields in the schema:\n",
      " Header length: 148, schema size: 145\n",
      "CSV file: file:///home/lucas-nunes/workspace/Postech/challenges/3_covid19/data/input/micro_data/ano_part=2020/mes=11/PNAD_COVID_112020.csv\n",
      "25/05/17 23:42:44 WARN CSVHeaderChecker: Number of column in CSV header is not equal to number of fields in the schema:\n",
      " Header length: 114, schema size: 145\n",
      "CSV file: file:///home/lucas-nunes/workspace/Postech/challenges/3_covid19/data/input/micro_data/ano_part=2020/mes=06/PNAD_COVID_062020.csv\n",
      "25/05/17 23:43:05 WARN CSVHeaderChecker: Number of column in CSV header is not equal to number of fields in the schema:\n",
      " Header length: 114, schema size: 145\n",
      "CSV file: file:///home/lucas-nunes/workspace/Postech/challenges/3_covid19/data/input/micro_data/ano_part=2020/mes=05/PNAD_COVID_052020.csv\n",
      "                                                                                \r"
     ]
    }
   ],
   "source": [
    "\n",
    "\n",
    "df = spark.read.csv(INPUT_PATH, header=True)\n",
    "\n",
    "df.write.format('parquet').mode(\"overwrite\").partitionBy(['ano_part', 'mes']).save(BRONZE_PATH)\n",
    "\n",
    "\n",
    "# df = spark.read.parquet(BRONZE_PATH, header=True)\n",
    "# df.where(col('mes') >= 9).count()"
   ]
  }
 ],
 "metadata": {
  "kernelspec": {
   "display_name": "venv",
   "language": "python",
   "name": "python3"
  },
  "language_info": {
   "codemirror_mode": {
    "name": "ipython",
    "version": 3
   },
   "file_extension": ".py",
   "mimetype": "text/x-python",
   "name": "python",
   "nbconvert_exporter": "python",
   "pygments_lexer": "ipython3",
   "version": "3.12.3"
  }
 },
 "nbformat": 4,
 "nbformat_minor": 2
}
