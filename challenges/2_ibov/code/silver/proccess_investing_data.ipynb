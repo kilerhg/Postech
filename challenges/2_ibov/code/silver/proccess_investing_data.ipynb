{
 "cells": [
  {
   "cell_type": "markdown",
   "metadata": {},
   "source": [
    "## Setup"
   ]
  },
  {
   "cell_type": "code",
   "execution_count": 102,
   "metadata": {},
   "outputs": [],
   "source": [
    "import pandas as pd\n",
    "import numpy as np\n",
    "import datetime\n",
    "\n",
    "SILVER_PATH = '/home/lucas-nunes/workspace/Postech/challenges/2_ibov/data/silver'\n",
    "GOLD_PATH = '/home/lucas-nunes/workspace/Postech/challenges/2_ibov/data/gold'\n",
    "\n",
    "LIST_COLUMNS_DF_FILTER = ['data', 'ultimo']\n",
    "\n"
   ]
  },
  {
   "cell_type": "code",
   "execution_count": 103,
   "metadata": {},
   "outputs": [],
   "source": [
    "df = pd.read_parquet(f'{SILVER_PATH}/silver.parquet')"
   ]
  },
  {
   "cell_type": "code",
   "execution_count": 104,
   "metadata": {},
   "outputs": [
    {
     "data": {
      "text/plain": [
       "['prata',\n",
       " 'us30',\n",
       " 'ouro',\n",
       " 'spx',\n",
       " 'ibov',\n",
       " 'ndx',\n",
       " 'petroleo',\n",
       " 'vix',\n",
       " 'ibov_futuro',\n",
       " 'eur_brl',\n",
       " 'usd_brl',\n",
       " 'ibrx100',\n",
       " 'BBSA3',\n",
       " 'CPLE6',\n",
       " 'ITUB4',\n",
       " 'VALE3',\n",
       " 'PETR3',\n",
       " 'ELET3',\n",
       " 'ibrx50',\n",
       " 'FTXIN9',\n",
       " 'RENT3',\n",
       " 'us500',\n",
       " 'SLCE3',\n",
       " 'cobre',\n",
       " 'FLRY3',\n",
       " 'bitcoin',\n",
       " 'ferro',\n",
       " 'MGLU3',\n",
       " 'STOXX50E',\n",
       " 'ethereum',\n",
       " 'CRFB3']"
      ]
     },
     "execution_count": 104,
     "metadata": {},
     "output_type": "execute_result"
    }
   ],
   "source": [
    "list_all_index = df['item'].drop_duplicates().to_list()\n",
    "\n",
    "list_all_index_label = list_all_index[:]\n",
    "list_all_index_label.remove('ibov')\n",
    "\n",
    "list_all_index"
   ]
  },
  {
   "cell_type": "code",
   "execution_count": 105,
   "metadata": {},
   "outputs": [],
   "source": [
    "df_all_index = pd.DataFrame()"
   ]
  },
  {
   "cell_type": "code",
   "execution_count": 106,
   "metadata": {},
   "outputs": [],
   "source": [
    "dict_all_index = {}\n",
    "for item in list_all_index:\n",
    "    df_item = df.where(df['item'] == item).dropna(how='all')\n",
    "    dict_all_index[item] = {\n",
    "        'value': df_item[LIST_COLUMNS_DF_FILTER],\n",
    "        'start_date': min(df_item['data'])\n",
    "    }\n",
    "    "
   ]
  },
  {
   "cell_type": "code",
   "execution_count": 107,
   "metadata": {},
   "outputs": [],
   "source": [
    "# df_all_index['data'] = dict_index['ibov'].where(df['ultimo'] > 0).sort_values(by='data').dropna(how='all')['data']\n",
    "# df_all_index['data'] = dict_index['ouro']['value'].where(df['data'] > datetime.date(1994, 1, 1)).dropna(how='all').sort_values(by='data')['data']\n",
    "\n",
    "list_all_available_days = []\n",
    "current_date = datetime.date(1994, 1, 1) #  dict_all_index['ibov']['start_date']\n",
    "last_day = max(dict_all_index['ibov']['value']['data']) # datetime.datetime.now().date()\n",
    "\n",
    "while current_date != last_day + datetime.timedelta(days=1):\n",
    "    list_all_available_days.append(current_date)\n",
    "    current_date += datetime.timedelta(days=1)\n"
   ]
  },
  {
   "cell_type": "code",
   "execution_count": 108,
   "metadata": {},
   "outputs": [],
   "source": [
    "df_all_index['data'] = list_all_available_days\n",
    "\n",
    "for index, df_index in dict_all_index.items():\n",
    "    df_all_index = df_all_index.merge(how='left', right=dict_all_index[index]['value']).rename(columns={'ultimo': index})"
   ]
  },
  {
   "cell_type": "code",
   "execution_count": 109,
   "metadata": {},
   "outputs": [
    {
     "data": {
      "text/plain": [
       "{'value':               data    ultimo\n",
       " 2010    1982-01-07       0.0\n",
       " 2015    1982-01-08       0.0\n",
       " 2020    1982-01-11       0.0\n",
       " 2025    1982-01-12       0.0\n",
       " 2030    1982-01-13       0.0\n",
       " ...            ...       ...\n",
       " 204974  2025-02-10  125572.0\n",
       " 205004  2025-02-11  126522.0\n",
       " 205034  2025-02-12  124380.0\n",
       " 205064  2025-02-13  124850.0\n",
       " 205093  2025-02-14  128219.0\n",
       " \n",
       " [10641 rows x 2 columns],\n",
       " 'start_date': datetime.date(1982, 1, 7)}"
      ]
     },
     "execution_count": 109,
     "metadata": {},
     "output_type": "execute_result"
    }
   ],
   "source": [
    "index = 'ibov'\n",
    "dict_all_index[index]"
   ]
  },
  {
   "cell_type": "code",
   "execution_count": 110,
   "metadata": {},
   "outputs": [],
   "source": [
    "def handle_missing_data(row, index, dict_last_value):\n",
    "    current_value = row[index]\n",
    "    if row.isnull().any():\n",
    "        return dict_last_value['value']\n",
    "    else:\n",
    "        dict_last_value['value'] = current_value\n",
    "        return current_value\n",
    "    \n",
    "\n",
    "index = 'ibov'\n",
    "\n",
    "dict_index_processed = {}\n",
    "\n",
    "for index in list_all_index:\n",
    "\n",
    "    df_current_index = df_all_index[['data', index]]\n",
    "\n",
    "    dict_last_value = {'value': 0}\n",
    "\n",
    "    df_current_index = df_current_index.where(df_current_index['data'] > dict_all_index[index]['start_date']).dropna(how='all')\n",
    "    df_current_index = df_current_index.where(df_current_index['data'] < datetime.date(2025, 2, 16)).dropna(how='all')\n",
    "    df_current_index = df_current_index.sort_values(by='data', ascending=True)\n",
    "\n",
    "    df_current_index[index] = df_current_index.T.apply(lambda x: handle_missing_data(x, index, dict_last_value))\n",
    "\n",
    "    dict_index_processed[index] = df_current_index\n"
   ]
  },
  {
   "cell_type": "code",
   "execution_count": 111,
   "metadata": {},
   "outputs": [],
   "source": [
    "df_all_index_processed = pd.DataFrame()\n",
    "\n",
    "df_all_index_processed['data'] = list_all_available_days\n",
    "\n",
    "for index, df_index in dict_index_processed.items():\n",
    "    df_all_index_processed = df_all_index_processed.merge(how='left', right=df_index)"
   ]
  },
  {
   "cell_type": "markdown",
   "metadata": {},
   "source": [
    "## Write"
   ]
  },
  {
   "cell_type": "code",
   "execution_count": 113,
   "metadata": {},
   "outputs": [],
   "source": [
    "df_all_index_processed.to_parquet(f'{GOLD_PATH}/gold.parquet')"
   ]
  }
 ],
 "metadata": {
  "kernelspec": {
   "display_name": "venv",
   "language": "python",
   "name": "python3"
  },
  "language_info": {
   "codemirror_mode": {
    "name": "ipython",
    "version": 3
   },
   "file_extension": ".py",
   "mimetype": "text/x-python",
   "name": "python",
   "nbconvert_exporter": "python",
   "pygments_lexer": "ipython3",
   "version": "3.12.3"
  }
 },
 "nbformat": 4,
 "nbformat_minor": 2
}
