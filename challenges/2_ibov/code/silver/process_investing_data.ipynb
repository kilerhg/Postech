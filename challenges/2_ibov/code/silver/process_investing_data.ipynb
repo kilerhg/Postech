{
 "cells": [
  {
   "cell_type": "markdown",
   "metadata": {},
   "source": [
    "## Setup\n",
    "\n",
    "Configuração do ambiente de desenvolvimento para realização do ETL (Extract Transform Load) de todos os indices que nós preparamos"
   ]
  },
  {
   "cell_type": "markdown",
   "metadata": {},
   "source": [
    "### Instalando bibliotecas\n",
    "\n",
    "Instalando todas as bibliotecas necessárias e criação do ambiente spark"
   ]
  },
  {
   "cell_type": "code",
   "execution_count": 12,
   "metadata": {},
   "outputs": [],
   "source": [
    "import pandas as pd\n",
    "import numpy as np\n",
    "import datetime\n",
    "\n",
    "SILVER_PATH = '/home/lucas-nunes/workspace/Postech/challenges/2_ibov/data/silver'\n",
    "GOLD_PATH = '/home/lucas-nunes/workspace/Postech/challenges/2_ibov/data/gold'\n",
    "\n",
    "LIST_COLUMNS_DF_FILTER = ['data', 'ultimo']\n",
    "\n"
   ]
  },
  {
   "cell_type": "markdown",
   "metadata": {},
   "source": [
    "## Lendo Dados\n",
    "\n",
    "Leitura dos arquivos do Tier bronze para iniciar trativas do Silver"
   ]
  },
  {
   "cell_type": "code",
   "execution_count": 13,
   "metadata": {},
   "outputs": [],
   "source": [
    "df = pd.read_parquet(f'{SILVER_PATH}/silver.parquet')"
   ]
  },
  {
   "cell_type": "markdown",
   "metadata": {},
   "source": [
    "## Tratamento Silver\n",
    "\n",
    "Tratamento dos dados silver com os seguintes passos:\n",
    "\n",
    "* Criação de índice de datas consecutivas sem dependência de indicies\n",
    "* Agrupamento de todos os valores separados por colunas com índice de data\n",
    "* Preenchimento do gap de valores Progressivos (Ultimo valor disponível) em casos do pregão fechado (Fim de semana e feriado)"
   ]
  },
  {
   "cell_type": "markdown",
   "metadata": {},
   "source": [
    "### Dicionario separado por Índice\n",
    "\n",
    "Geração do Dicionario que contém a informação de todos os indicies mapeados"
   ]
  },
  {
   "cell_type": "code",
   "execution_count": 14,
   "metadata": {},
   "outputs": [
    {
     "data": {
      "text/plain": [
       "['prata',\n",
       " 'us30',\n",
       " 'ouro',\n",
       " 'spx',\n",
       " 'ibov',\n",
       " 'ndx',\n",
       " 'petroleo',\n",
       " 'vix',\n",
       " 'ibov_futuro',\n",
       " 'eur_brl',\n",
       " 'usd_brl',\n",
       " 'ibrx100',\n",
       " 'BBSA3',\n",
       " 'CPLE6',\n",
       " 'ITUB4',\n",
       " 'VALE3',\n",
       " 'PETR3',\n",
       " 'ELET3',\n",
       " 'ibrx50',\n",
       " 'FTXIN9',\n",
       " 'RENT3',\n",
       " 'us500',\n",
       " 'SLCE3',\n",
       " 'cobre',\n",
       " 'FLRY3',\n",
       " 'bitcoin',\n",
       " 'ferro',\n",
       " 'MGLU3',\n",
       " 'STOXX50E',\n",
       " 'ethereum',\n",
       " 'CRFB3']"
      ]
     },
     "execution_count": 14,
     "metadata": {},
     "output_type": "execute_result"
    }
   ],
   "source": [
    "list_all_index = df['item'].drop_duplicates().to_list()\n",
    "\n",
    "list_all_index_label = list_all_index[:]\n",
    "list_all_index_label.remove('ibov')\n",
    "\n",
    "list_all_index"
   ]
  },
  {
   "cell_type": "code",
   "execution_count": 15,
   "metadata": {},
   "outputs": [],
   "source": [
    "df_all_index = pd.DataFrame()"
   ]
  },
  {
   "cell_type": "code",
   "execution_count": 16,
   "metadata": {},
   "outputs": [],
   "source": [
    "dict_all_index = {}\n",
    "for item in list_all_index:\n",
    "    df_item = df.where(df['item'] == item).dropna(how='all')\n",
    "    dict_all_index[item] = {\n",
    "        'value': df_item[LIST_COLUMNS_DF_FILTER],\n",
    "        'start_date': min(df_item['data'])\n",
    "    }\n",
    "    "
   ]
  },
  {
   "cell_type": "markdown",
   "metadata": {},
   "source": [
    "### Lista de datas sem dependências\n",
    "\n",
    "\n",
    "Geração da lista de datas com base em um campo preenchido manualmente até o dia atual\n",
    "\n"
   ]
  },
  {
   "cell_type": "code",
   "execution_count": 17,
   "metadata": {},
   "outputs": [],
   "source": [
    "# df_all_index['data'] = dict_index['ibov'].where(df['ultimo'] > 0).sort_values(by='data').dropna(how='all')['data']\n",
    "# df_all_index['data'] = dict_index['ouro']['value'].where(df['data'] > datetime.date(1994, 1, 1)).dropna(how='all').sort_values(by='data')['data']\n",
    "\n",
    "list_all_available_days = []\n",
    "current_date = datetime.date(1994, 1, 1) #  dict_all_index['ibov']['start_date']\n",
    "last_day = max(dict_all_index['ibov']['value']['data']) # datetime.datetime.now().date()\n",
    "\n",
    "while current_date != last_day + datetime.timedelta(days=1):\n",
    "    list_all_available_days.append(current_date)\n",
    "    current_date += datetime.timedelta(days=1)\n"
   ]
  },
  {
   "cell_type": "markdown",
   "metadata": {},
   "source": [
    "### Dataframe geral\n",
    "\n",
    "Geração do Dataframe consolidado com todos os indicies, cada um em uma coluna, utilizando o valor de fechamento com separação diária"
   ]
  },
  {
   "cell_type": "code",
   "execution_count": 18,
   "metadata": {},
   "outputs": [],
   "source": [
    "df_all_index['data'] = list_all_available_days\n",
    "\n",
    "for index, df_index in dict_all_index.items():\n",
    "    df_all_index = df_all_index.merge(how='left', right=dict_all_index[index]['value']).rename(columns={'ultimo': index})"
   ]
  },
  {
   "cell_type": "code",
   "execution_count": 19,
   "metadata": {},
   "outputs": [
    {
     "data": {
      "text/plain": [
       "{'value':               data    ultimo\n",
       " 2010    1982-01-07       0.0\n",
       " 2015    1982-01-08       0.0\n",
       " 2020    1982-01-11       0.0\n",
       " 2025    1982-01-12       0.0\n",
       " 2030    1982-01-13       0.0\n",
       " ...            ...       ...\n",
       " 205266  2025-03-17  130834.0\n",
       " 205267  2025-03-18  131475.0\n",
       " 205268  2025-03-19  132508.0\n",
       " 205269  2025-03-20  131955.0\n",
       " 205270  2025-03-21  132345.0\n",
       " \n",
       " [10664 rows x 2 columns],\n",
       " 'start_date': datetime.date(1982, 1, 7)}"
      ]
     },
     "execution_count": 19,
     "metadata": {},
     "output_type": "execute_result"
    }
   ],
   "source": [
    "index = 'ibov'\n",
    "dict_all_index[index]"
   ]
  },
  {
   "cell_type": "markdown",
   "metadata": {},
   "source": [
    "### Tratamento gaps de dados\n",
    "\n",
    "Tratamento dos dias que não tem dados disponíveis após o inicio da disponibilidade do índice com a metodologia progressiva, pegando o ultimo dia com dado antes do gap e replicando o valor."
   ]
  },
  {
   "cell_type": "code",
   "execution_count": 20,
   "metadata": {},
   "outputs": [],
   "source": [
    "def handle_missing_data(row, index, dict_last_value):\n",
    "    current_value = row[index]\n",
    "    if row.isnull().any():\n",
    "        return dict_last_value['value']\n",
    "    else:\n",
    "        dict_last_value['value'] = current_value\n",
    "        return current_value\n",
    "    \n",
    "\n",
    "index = 'ibov'\n",
    "\n",
    "dict_index_processed = {}\n",
    "\n",
    "for index in list_all_index:\n",
    "\n",
    "    df_current_index = df_all_index[['data', index]]\n",
    "\n",
    "    dict_last_value = {'value': 0}\n",
    "\n",
    "    df_current_index = df_current_index.where(df_current_index['data'] > dict_all_index[index]['start_date']).dropna(how='all')\n",
    "    df_current_index = df_current_index.where(df_current_index['data'] < datetime.datetime.now().date()).dropna(how='all')\n",
    "    df_current_index = df_current_index.sort_values(by='data', ascending=True)\n",
    "\n",
    "    df_current_index[index] = df_current_index.T.apply(lambda x: handle_missing_data(x, index, dict_last_value))\n",
    "\n",
    "    dict_index_processed[index] = df_current_index\n"
   ]
  },
  {
   "cell_type": "markdown",
   "metadata": {},
   "source": [
    "### Dataframe Geral tratado\n",
    "\n",
    "Recreamento do Dataframe Geral que contém todos os indices com gaps preenchidos"
   ]
  },
  {
   "cell_type": "code",
   "execution_count": 21,
   "metadata": {},
   "outputs": [],
   "source": [
    "df_all_index_processed = pd.DataFrame()\n",
    "\n",
    "df_all_index_processed['data'] = list_all_available_days\n",
    "\n",
    "for index, df_index in dict_index_processed.items():\n",
    "    df_all_index_processed = df_all_index_processed.merge(how='left', right=df_index)"
   ]
  },
  {
   "cell_type": "markdown",
   "metadata": {},
   "source": [
    "## Escrevendo Tier Gold\n",
    "\n",
    "Escrevendo o dataset que será utilizado no tier gold para construção do modulo de predição de time series"
   ]
  },
  {
   "cell_type": "code",
   "execution_count": 22,
   "metadata": {},
   "outputs": [],
   "source": [
    "df_all_index_processed.to_parquet(f'{GOLD_PATH}/gold.parquet')"
   ]
  }
 ],
 "metadata": {
  "kernelspec": {
   "display_name": "venv",
   "language": "python",
   "name": "python3"
  },
  "language_info": {
   "codemirror_mode": {
    "name": "ipython",
    "version": 3
   },
   "file_extension": ".py",
   "mimetype": "text/x-python",
   "name": "python",
   "nbconvert_exporter": "python",
   "pygments_lexer": "ipython3",
   "version": "3.12.3"
  }
 },
 "nbformat": 4,
 "nbformat_minor": 2
}
