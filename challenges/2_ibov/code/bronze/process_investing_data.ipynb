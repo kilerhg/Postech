{
 "cells": [
  {
   "cell_type": "markdown",
   "metadata": {},
   "source": [
    "## Setup\n",
    "\n",
    "Configuração do ambiente de desenvolvimento para realização do ETL (Extract Transform Load) de todos os indices que nós preparamos"
   ]
  },
  {
   "cell_type": "markdown",
   "metadata": {},
   "source": [
    "### Instalando bibliotecas\n",
    "\n",
    "Instalando todas as bibliotecas necessárias e criação do ambiente spark"
   ]
  },
  {
   "cell_type": "code",
   "execution_count": 1,
   "metadata": {},
   "outputs": [
    {
     "name": "stderr",
     "output_type": "stream",
     "text": [
      "Setting default log level to \"WARN\".\n",
      "To adjust logging level use sc.setLogLevel(newLevel). For SparkR, use setLogLevel(newLevel).\n",
      "25/03/23 19:11:46 WARN NativeCodeLoader: Unable to load native-hadoop library for your platform... using builtin-java classes where applicable\n"
     ]
    },
    {
     "name": "stdout",
     "output_type": "stream",
     "text": [
      "Spark version:  3.5.4\n"
     ]
    }
   ],
   "source": [
    "from pyspark.sql import SparkSession\n",
    "from pyspark.sql.types import *\n",
    "from pyspark.sql.functions import *\n",
    "import pandas as pd\n",
    "import numpy as np\n",
    "\n",
    "# Create a Spark session\n",
    "spark = SparkSession.builder.master(\"local\").appName(\"PySpark Tutorial\").getOrCreate()\n",
    "\n",
    "# Verify Spark version\n",
    "print(\"Spark version: \", spark.version)"
   ]
  },
  {
   "cell_type": "markdown",
   "metadata": {},
   "source": [
    "### Criação da estrutura dos valores\n",
    "\n",
    "Mapeamento dos campos que serão recebidos e atribuição do tipo primitivo de cada um, Normalização de todos as colunas, retirando acentuação e caracteres especiais, e definição dos campos de particionamento."
   ]
  },
  {
   "cell_type": "code",
   "execution_count": 2,
   "metadata": {},
   "outputs": [],
   "source": [
    "\n",
    "schema_investing_fields = StructType([\n",
    "    StructField(\"Data\", DateType(), True),\n",
    "    StructField(\"Último\", FloatType(), True),\n",
    "    StructField(\"Abertura\", FloatType(), True),\n",
    "    StructField(\"Máxima\", FloatType(), True),\n",
    "    StructField(\"Mínima\", FloatType(), True),\n",
    "    StructField(\"Vol.\", StringType(), True),\n",
    "    StructField(\"Var%\", StringType(), True),\n",
    "])\n",
    "\n",
    "columns_to_float = ['ultimo', 'abertura', 'maxima', 'minima']\n",
    "\n",
    "\n",
    "rename_fields = {\n",
    "    \"Data\": \"data\",\n",
    "    \"Último\": \"ultimo\",\n",
    "    \"Abertura\": \"abertura\",\n",
    "    \"Máxima\": \"maxima\",\n",
    "    \"Mínima\": \"minima\",\n",
    "    \"Vol.\": \"volume\",\n",
    "    \"Var%\": \"variacao\"\n",
    "}\n",
    "\n",
    "partitions = ['category', 'item']"
   ]
  },
  {
   "cell_type": "markdown",
   "metadata": {},
   "source": [
    "## Read"
   ]
  },
  {
   "cell_type": "markdown",
   "metadata": {},
   "source": [
    "Mapeamento dos paths que irão ser utilizados para o tratamento dos dados e leitura dos arquivos utilizando particionamento spark"
   ]
  },
  {
   "cell_type": "code",
   "execution_count": 3,
   "metadata": {},
   "outputs": [
    {
     "name": "stderr",
     "output_type": "stream",
     "text": [
      "                                                                                \r"
     ]
    }
   ],
   "source": [
    "INPUT_PATH = '/home/lucas-nunes/workspace/Postech/challenges/2_ibov/data/bronze/source_investing/'\n",
    "INPUT_PATH_SAMPLE = '/home/lucas-nunes/workspace/Postech/challenges/2_ibov/input/data/source_investing/category=commodities/item=cobre/Dados Históricos - Cobre Futuros.csv'\n",
    "\n",
    "SILVER_PATH = '/home/lucas-nunes/workspace/Postech/challenges/2_ibov/data/silver'\n",
    "BRONZE_PATH = '/home/lucas-nunes/workspace/Postech/challenges/2_ibov/data/bronze'\n",
    "\n",
    "df = spark.read.csv(INPUT_PATH, header=True)\n",
    "\n",
    "df = df.withColumnsRenamed(rename_fields)"
   ]
  },
  {
   "cell_type": "markdown",
   "metadata": {},
   "source": [
    "## Process"
   ]
  },
  {
   "cell_type": "markdown",
   "metadata": {},
   "source": [
    "Tratamento dos valores e colunas, remoção de caracteres especiais e abreviações de milhar \"K\" ou milhão \"M\""
   ]
  },
  {
   "cell_type": "code",
   "execution_count": 4,
   "metadata": {},
   "outputs": [],
   "source": [
    "for column in columns_to_float:\n",
    "\n",
    "    df = df.withColumn(column, regexp_replace(regexp_replace(column, r'\\.', ''), ',', r'\\.').astype('float'))\n",
    "\n",
    "\n",
    "df = df.withColumn('variacao', regexp_replace(regexp_replace('variacao', r'%', ''), ',', r'\\.').astype('float'))\n",
    "df = df.withColumn('volume', regexp_replace(regexp_replace('volume', r'K', ''), ',', r'\\.').astype('float'))\n",
    "df = df.withColumn('data', to_date(col('data'), 'dd.MM.yyyy'))\n",
    "df = df.drop_duplicates(subset=['data', 'item'])\n"
   ]
  },
  {
   "cell_type": "markdown",
   "metadata": {},
   "source": [
    "## Write"
   ]
  },
  {
   "cell_type": "markdown",
   "metadata": {},
   "source": [
    "### Escrevendo arquivo tratado pelo tier bronze, com todos os dados concatenados e tratados"
   ]
  },
  {
   "cell_type": "code",
   "execution_count": 5,
   "metadata": {},
   "outputs": [
    {
     "name": "stderr",
     "output_type": "stream",
     "text": [
      "25/03/23 19:11:59 WARN GarbageCollectionMetrics: To enable non-built-in garbage collector(s) List(G1 Concurrent GC), users should configure it(them) to spark.eventLog.gcMetrics.youngGenerationGarbageCollectors or spark.eventLog.gcMetrics.oldGenerationGarbageCollectors\n"
     ]
    }
   ],
   "source": [
    "# df.toPandas().to_csv(f'{SILVER_PATH}/silver.csv')\n",
    "df.toPandas().to_parquet(f'{SILVER_PATH}/silver.parquet')\n"
   ]
  },
  {
   "cell_type": "code",
   "execution_count": 6,
   "metadata": {},
   "outputs": [],
   "source": [
    "df = pd.read_parquet(f'{SILVER_PATH}/silver.parquet')"
   ]
  },
  {
   "cell_type": "code",
   "execution_count": 7,
   "metadata": {},
   "outputs": [
    {
     "data": {
      "text/html": [
       "<div>\n",
       "<style scoped>\n",
       "    .dataframe tbody tr th:only-of-type {\n",
       "        vertical-align: middle;\n",
       "    }\n",
       "\n",
       "    .dataframe tbody tr th {\n",
       "        vertical-align: top;\n",
       "    }\n",
       "\n",
       "    .dataframe thead th {\n",
       "        text-align: right;\n",
       "    }\n",
       "</style>\n",
       "<table border=\"1\" class=\"dataframe\">\n",
       "  <thead>\n",
       "    <tr style=\"text-align: right;\">\n",
       "      <th></th>\n",
       "      <th>data</th>\n",
       "      <th>ultimo</th>\n",
       "      <th>abertura</th>\n",
       "      <th>maxima</th>\n",
       "      <th>minima</th>\n",
       "      <th>volume</th>\n",
       "      <th>variacao</th>\n",
       "      <th>category</th>\n",
       "      <th>item</th>\n",
       "    </tr>\n",
       "  </thead>\n",
       "  <tbody>\n",
       "    <tr>\n",
       "      <th>0</th>\n",
       "      <td>1980-01-02</td>\n",
       "      <td>30.049999</td>\n",
       "      <td>30.049999</td>\n",
       "      <td>30.049999</td>\n",
       "      <td>30.049999</td>\n",
       "      <td>NaN</td>\n",
       "      <td>3.44</td>\n",
       "      <td>commodities</td>\n",
       "      <td>prata</td>\n",
       "    </tr>\n",
       "    <tr>\n",
       "      <th>1</th>\n",
       "      <td>1980-01-03</td>\n",
       "      <td>31.049999</td>\n",
       "      <td>31.049999</td>\n",
       "      <td>31.049999</td>\n",
       "      <td>31.049999</td>\n",
       "      <td>NaN</td>\n",
       "      <td>3.33</td>\n",
       "      <td>commodities</td>\n",
       "      <td>prata</td>\n",
       "    </tr>\n",
       "    <tr>\n",
       "      <th>2</th>\n",
       "      <td>1980-01-04</td>\n",
       "      <td>32.049999</td>\n",
       "      <td>32.049999</td>\n",
       "      <td>32.049999</td>\n",
       "      <td>32.049999</td>\n",
       "      <td>NaN</td>\n",
       "      <td>3.22</td>\n",
       "      <td>commodities</td>\n",
       "      <td>prata</td>\n",
       "    </tr>\n",
       "    <tr>\n",
       "      <th>3</th>\n",
       "      <td>1980-01-07</td>\n",
       "      <td>33.049999</td>\n",
       "      <td>33.049999</td>\n",
       "      <td>33.049999</td>\n",
       "      <td>33.049999</td>\n",
       "      <td>NaN</td>\n",
       "      <td>3.12</td>\n",
       "      <td>commodities</td>\n",
       "      <td>prata</td>\n",
       "    </tr>\n",
       "    <tr>\n",
       "      <th>4</th>\n",
       "      <td>1980-01-08</td>\n",
       "      <td>32.750000</td>\n",
       "      <td>33.974998</td>\n",
       "      <td>34.049999</td>\n",
       "      <td>32.500000</td>\n",
       "      <td>NaN</td>\n",
       "      <td>-0.91</td>\n",
       "      <td>commodities</td>\n",
       "      <td>prata</td>\n",
       "    </tr>\n",
       "    <tr>\n",
       "      <th>...</th>\n",
       "      <td>...</td>\n",
       "      <td>...</td>\n",
       "      <td>...</td>\n",
       "      <td>...</td>\n",
       "      <td>...</td>\n",
       "      <td>...</td>\n",
       "      <td>...</td>\n",
       "      <td>...</td>\n",
       "      <td>...</td>\n",
       "    </tr>\n",
       "    <tr>\n",
       "      <th>205266</th>\n",
       "      <td>2025-03-17</td>\n",
       "      <td>130834.000000</td>\n",
       "      <td>128959.000000</td>\n",
       "      <td>131313.000000</td>\n",
       "      <td>128957.000000</td>\n",
       "      <td>NaN</td>\n",
       "      <td>1.46</td>\n",
       "      <td>index</td>\n",
       "      <td>ibov</td>\n",
       "    </tr>\n",
       "    <tr>\n",
       "      <th>205267</th>\n",
       "      <td>2025-03-18</td>\n",
       "      <td>131475.000000</td>\n",
       "      <td>130832.000000</td>\n",
       "      <td>131834.000000</td>\n",
       "      <td>130722.000000</td>\n",
       "      <td>NaN</td>\n",
       "      <td>0.49</td>\n",
       "      <td>index</td>\n",
       "      <td>ibov</td>\n",
       "    </tr>\n",
       "    <tr>\n",
       "      <th>205268</th>\n",
       "      <td>2025-03-19</td>\n",
       "      <td>132508.000000</td>\n",
       "      <td>131476.000000</td>\n",
       "      <td>132984.000000</td>\n",
       "      <td>131451.000000</td>\n",
       "      <td>NaN</td>\n",
       "      <td>0.79</td>\n",
       "      <td>index</td>\n",
       "      <td>ibov</td>\n",
       "    </tr>\n",
       "    <tr>\n",
       "      <th>205269</th>\n",
       "      <td>2025-03-20</td>\n",
       "      <td>131955.000000</td>\n",
       "      <td>132505.000000</td>\n",
       "      <td>132713.000000</td>\n",
       "      <td>131813.000000</td>\n",
       "      <td>NaN</td>\n",
       "      <td>-0.42</td>\n",
       "      <td>index</td>\n",
       "      <td>ibov</td>\n",
       "    </tr>\n",
       "    <tr>\n",
       "      <th>205270</th>\n",
       "      <td>2025-03-21</td>\n",
       "      <td>132345.000000</td>\n",
       "      <td>132005.000000</td>\n",
       "      <td>132588.000000</td>\n",
       "      <td>131776.000000</td>\n",
       "      <td>NaN</td>\n",
       "      <td>0.30</td>\n",
       "      <td>index</td>\n",
       "      <td>ibov</td>\n",
       "    </tr>\n",
       "  </tbody>\n",
       "</table>\n",
       "<p>205271 rows × 9 columns</p>\n",
       "</div>"
      ],
      "text/plain": [
       "              data         ultimo       abertura         maxima  \\\n",
       "0       1980-01-02      30.049999      30.049999      30.049999   \n",
       "1       1980-01-03      31.049999      31.049999      31.049999   \n",
       "2       1980-01-04      32.049999      32.049999      32.049999   \n",
       "3       1980-01-07      33.049999      33.049999      33.049999   \n",
       "4       1980-01-08      32.750000      33.974998      34.049999   \n",
       "...            ...            ...            ...            ...   \n",
       "205266  2025-03-17  130834.000000  128959.000000  131313.000000   \n",
       "205267  2025-03-18  131475.000000  130832.000000  131834.000000   \n",
       "205268  2025-03-19  132508.000000  131476.000000  132984.000000   \n",
       "205269  2025-03-20  131955.000000  132505.000000  132713.000000   \n",
       "205270  2025-03-21  132345.000000  132005.000000  132588.000000   \n",
       "\n",
       "               minima  volume  variacao     category   item  \n",
       "0           30.049999     NaN      3.44  commodities  prata  \n",
       "1           31.049999     NaN      3.33  commodities  prata  \n",
       "2           32.049999     NaN      3.22  commodities  prata  \n",
       "3           33.049999     NaN      3.12  commodities  prata  \n",
       "4           32.500000     NaN     -0.91  commodities  prata  \n",
       "...               ...     ...       ...          ...    ...  \n",
       "205266  128957.000000     NaN      1.46        index   ibov  \n",
       "205267  130722.000000     NaN      0.49        index   ibov  \n",
       "205268  131451.000000     NaN      0.79        index   ibov  \n",
       "205269  131813.000000     NaN     -0.42        index   ibov  \n",
       "205270  131776.000000     NaN      0.30        index   ibov  \n",
       "\n",
       "[205271 rows x 9 columns]"
      ]
     },
     "execution_count": 7,
     "metadata": {},
     "output_type": "execute_result"
    }
   ],
   "source": [
    "df"
   ]
  }
 ],
 "metadata": {
  "kernelspec": {
   "display_name": "venv",
   "language": "python",
   "name": "python3"
  },
  "language_info": {
   "codemirror_mode": {
    "name": "ipython",
    "version": 3
   },
   "file_extension": ".py",
   "mimetype": "text/x-python",
   "name": "python",
   "nbconvert_exporter": "python",
   "pygments_lexer": "ipython3",
   "version": "3.12.3"
  }
 },
 "nbformat": 4,
 "nbformat_minor": 2
}
