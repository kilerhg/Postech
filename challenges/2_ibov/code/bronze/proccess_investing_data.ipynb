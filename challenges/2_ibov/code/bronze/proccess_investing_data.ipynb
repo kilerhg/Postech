{
 "cells": [
  {
   "cell_type": "markdown",
   "metadata": {},
   "source": [
    "## Setup"
   ]
  },
  {
   "cell_type": "code",
   "execution_count": 1,
   "metadata": {},
   "outputs": [
    {
     "name": "stderr",
     "output_type": "stream",
     "text": [
      "Setting default log level to \"WARN\".\n",
      "To adjust logging level use sc.setLogLevel(newLevel). For SparkR, use setLogLevel(newLevel).\n",
      "25/02/18 00:20:01 WARN NativeCodeLoader: Unable to load native-hadoop library for your platform... using builtin-java classes where applicable\n"
     ]
    },
    {
     "name": "stdout",
     "output_type": "stream",
     "text": [
      "Spark version:  3.5.4\n"
     ]
    }
   ],
   "source": [
    "from pyspark.sql import SparkSession\n",
    "from pyspark.sql.types import *\n",
    "from pyspark.sql.functions import *\n",
    "import pandas as pd\n",
    "import numpy as np\n",
    "\n",
    "# Create a Spark session\n",
    "spark = SparkSession.builder.master(\"local\").appName(\"PySpark Tutorial\").getOrCreate()\n",
    "\n",
    "# Verify Spark version\n",
    "print(\"Spark version: \", spark.version)"
   ]
  },
  {
   "cell_type": "code",
   "execution_count": 2,
   "metadata": {},
   "outputs": [],
   "source": [
    "\n",
    "schema_investing_fields = StructType([\n",
    "    StructField(\"Data\", DateType(), True),\n",
    "    StructField(\"Último\", FloatType(), True),\n",
    "    StructField(\"Abertura\", FloatType(), True),\n",
    "    StructField(\"Máxima\", FloatType(), True),\n",
    "    StructField(\"Mínima\", FloatType(), True),\n",
    "    StructField(\"Vol.\", StringType(), True),\n",
    "    StructField(\"Var%\", StringType(), True),\n",
    "])\n",
    "\n",
    "columns_to_float = ['ultimo', 'abertura', 'maxima', 'minima']\n",
    "\n",
    "\n",
    "rename_fields = {\n",
    "    \"Data\": \"data\",\n",
    "    \"Último\": \"ultimo\",\n",
    "    \"Abertura\": \"abertura\",\n",
    "    \"Máxima\": \"maxima\",\n",
    "    \"Mínima\": \"minima\",\n",
    "    \"Vol.\": \"volume\",\n",
    "    \"Var%\": \"variacao\"\n",
    "}\n",
    "\n",
    "partitions = ['category', 'item']"
   ]
  },
  {
   "cell_type": "markdown",
   "metadata": {},
   "source": [
    "## Read"
   ]
  },
  {
   "cell_type": "code",
   "execution_count": null,
   "metadata": {},
   "outputs": [
    {
     "name": "stderr",
     "output_type": "stream",
     "text": [
      "                                                                                \r"
     ]
    }
   ],
   "source": [
    "INPUT_PATH = '/home/lucas-nunes/workspace/Postech/challenges/2_ibov/input/data/source_investing/'\n",
    "INPUT_PATH_SAMPLE = '/home/lucas-nunes/workspace/Postech/challenges/2_ibov/input/data/source_investing/category=commodities/item=cobre/Dados Históricos - Cobre Futuros.csv'\n",
    "\n",
    "SILVER_PATH = '/home/lucas-nunes/workspace/Postech/challenges/2_ibov/data/silver'\n",
    "\n",
    "df = spark.read.csv(f'{INPUT_PATH}', header=True)\n",
    "\n",
    "df = df.withColumnsRenamed(rename_fields)"
   ]
  },
  {
   "cell_type": "markdown",
   "metadata": {},
   "source": [
    "## Process"
   ]
  },
  {
   "cell_type": "code",
   "execution_count": 4,
   "metadata": {},
   "outputs": [],
   "source": [
    "for column in columns_to_float:\n",
    "\n",
    "    df = df.withColumn(column, regexp_replace(regexp_replace(column, r'\\.', ''), ',', r'\\.').astype('float'))\n",
    "\n",
    "\n",
    "df = df.withColumn('variacao', regexp_replace(regexp_replace('variacao', r'%', ''), ',', r'\\.').astype('float'))\n",
    "df = df.withColumn('volume', regexp_replace(regexp_replace('volume', r'K', ''), ',', r'\\.').astype('float'))\n",
    "df = df.withColumn('data', to_date(col('data'), 'dd.MM.yyyy'))"
   ]
  },
  {
   "cell_type": "markdown",
   "metadata": {},
   "source": [
    "## Write"
   ]
  },
  {
   "cell_type": "code",
   "execution_count": 7,
   "metadata": {},
   "outputs": [
    {
     "name": "stderr",
     "output_type": "stream",
     "text": [
      "                                                                                \r"
     ]
    }
   ],
   "source": [
    "# df.toPandas().to_csv(f'{SILVER_PATH}/silver.csv')\n",
    "df.toPandas().to_parquet(f'{SILVER_PATH}/silver.parquet')\n"
   ]
  },
  {
   "cell_type": "code",
   "execution_count": 8,
   "metadata": {},
   "outputs": [],
   "source": [
    "df = pd.read_parquet(f'{SILVER_PATH}/silver.parquet')"
   ]
  },
  {
   "cell_type": "code",
   "execution_count": 12,
   "metadata": {},
   "outputs": [
    {
     "data": {
      "text/html": [
       "<div>\n",
       "<style scoped>\n",
       "    .dataframe tbody tr th:only-of-type {\n",
       "        vertical-align: middle;\n",
       "    }\n",
       "\n",
       "    .dataframe tbody tr th {\n",
       "        vertical-align: top;\n",
       "    }\n",
       "\n",
       "    .dataframe thead th {\n",
       "        text-align: right;\n",
       "    }\n",
       "</style>\n",
       "<table border=\"1\" class=\"dataframe\">\n",
       "  <thead>\n",
       "    <tr style=\"text-align: right;\">\n",
       "      <th></th>\n",
       "      <th>data</th>\n",
       "      <th>ultimo</th>\n",
       "      <th>abertura</th>\n",
       "      <th>maxima</th>\n",
       "      <th>minima</th>\n",
       "      <th>volume</th>\n",
       "      <th>variacao</th>\n",
       "      <th>category</th>\n",
       "      <th>item</th>\n",
       "    </tr>\n",
       "  </thead>\n",
       "  <tbody>\n",
       "    <tr>\n",
       "      <th>0</th>\n",
       "      <td>2025-02-14</td>\n",
       "      <td>22114.689453</td>\n",
       "      <td>22038.609375</td>\n",
       "      <td>22139.429688</td>\n",
       "      <td>22010.349609</td>\n",
       "      <td>NaN</td>\n",
       "      <td>0.38</td>\n",
       "      <td>index</td>\n",
       "      <td>ndx</td>\n",
       "    </tr>\n",
       "    <tr>\n",
       "      <th>1</th>\n",
       "      <td>2025-02-13</td>\n",
       "      <td>22030.710938</td>\n",
       "      <td>21786.160156</td>\n",
       "      <td>22038.150391</td>\n",
       "      <td>21758.039062</td>\n",
       "      <td>NaN</td>\n",
       "      <td>1.43</td>\n",
       "      <td>index</td>\n",
       "      <td>ndx</td>\n",
       "    </tr>\n",
       "    <tr>\n",
       "      <th>2</th>\n",
       "      <td>2025-02-12</td>\n",
       "      <td>21719.259766</td>\n",
       "      <td>21475.410156</td>\n",
       "      <td>21745.660156</td>\n",
       "      <td>21454.189453</td>\n",
       "      <td>NaN</td>\n",
       "      <td>0.12</td>\n",
       "      <td>index</td>\n",
       "      <td>ndx</td>\n",
       "    </tr>\n",
       "    <tr>\n",
       "      <th>3</th>\n",
       "      <td>2025-02-11</td>\n",
       "      <td>21693.519531</td>\n",
       "      <td>21629.109375</td>\n",
       "      <td>21776.250000</td>\n",
       "      <td>21625.509766</td>\n",
       "      <td>NaN</td>\n",
       "      <td>-0.29</td>\n",
       "      <td>index</td>\n",
       "      <td>ndx</td>\n",
       "    </tr>\n",
       "    <tr>\n",
       "      <th>4</th>\n",
       "      <td>2025-02-10</td>\n",
       "      <td>21756.730469</td>\n",
       "      <td>21670.060547</td>\n",
       "      <td>21793.130859</td>\n",
       "      <td>21645.169922</td>\n",
       "      <td>NaN</td>\n",
       "      <td>1.24</td>\n",
       "      <td>index</td>\n",
       "      <td>ndx</td>\n",
       "    </tr>\n",
       "    <tr>\n",
       "      <th>...</th>\n",
       "      <td>...</td>\n",
       "      <td>...</td>\n",
       "      <td>...</td>\n",
       "      <td>...</td>\n",
       "      <td>...</td>\n",
       "      <td>...</td>\n",
       "      <td>...</td>\n",
       "      <td>...</td>\n",
       "      <td>...</td>\n",
       "    </tr>\n",
       "    <tr>\n",
       "      <th>153358</th>\n",
       "      <td>2024-09-30</td>\n",
       "      <td>5753.500000</td>\n",
       "      <td>5744.200195</td>\n",
       "      <td>5765.100098</td>\n",
       "      <td>5702.399902</td>\n",
       "      <td>NaN</td>\n",
       "      <td>0.18</td>\n",
       "      <td>index</td>\n",
       "      <td>us500</td>\n",
       "    </tr>\n",
       "    <tr>\n",
       "      <th>153359</th>\n",
       "      <td>2024-09-29</td>\n",
       "      <td>5743.399902</td>\n",
       "      <td>5727.399902</td>\n",
       "      <td>5744.899902</td>\n",
       "      <td>5722.399902</td>\n",
       "      <td>NaN</td>\n",
       "      <td>0.25</td>\n",
       "      <td>index</td>\n",
       "      <td>us500</td>\n",
       "    </tr>\n",
       "    <tr>\n",
       "      <th>153360</th>\n",
       "      <td>2024-09-27</td>\n",
       "      <td>5729.200195</td>\n",
       "      <td>5749.200195</td>\n",
       "      <td>5763.600098</td>\n",
       "      <td>5726.500000</td>\n",
       "      <td>NaN</td>\n",
       "      <td>-0.35</td>\n",
       "      <td>index</td>\n",
       "      <td>us500</td>\n",
       "    </tr>\n",
       "    <tr>\n",
       "      <th>153361</th>\n",
       "      <td>2024-09-26</td>\n",
       "      <td>5749.299805</td>\n",
       "      <td>5732.200195</td>\n",
       "      <td>5772.799805</td>\n",
       "      <td>5721.500000</td>\n",
       "      <td>NaN</td>\n",
       "      <td>0.31</td>\n",
       "      <td>index</td>\n",
       "      <td>us500</td>\n",
       "    </tr>\n",
       "    <tr>\n",
       "      <th>153362</th>\n",
       "      <td>2024-09-25</td>\n",
       "      <td>5731.799805</td>\n",
       "      <td>5735.200195</td>\n",
       "      <td>5741.299805</td>\n",
       "      <td>5712.299805</td>\n",
       "      <td>NaN</td>\n",
       "      <td>-0.06</td>\n",
       "      <td>index</td>\n",
       "      <td>us500</td>\n",
       "    </tr>\n",
       "  </tbody>\n",
       "</table>\n",
       "<p>153363 rows × 9 columns</p>\n",
       "</div>"
      ],
      "text/plain": [
       "              data        ultimo      abertura        maxima        minima  \\\n",
       "0       2025-02-14  22114.689453  22038.609375  22139.429688  22010.349609   \n",
       "1       2025-02-13  22030.710938  21786.160156  22038.150391  21758.039062   \n",
       "2       2025-02-12  21719.259766  21475.410156  21745.660156  21454.189453   \n",
       "3       2025-02-11  21693.519531  21629.109375  21776.250000  21625.509766   \n",
       "4       2025-02-10  21756.730469  21670.060547  21793.130859  21645.169922   \n",
       "...            ...           ...           ...           ...           ...   \n",
       "153358  2024-09-30   5753.500000   5744.200195   5765.100098   5702.399902   \n",
       "153359  2024-09-29   5743.399902   5727.399902   5744.899902   5722.399902   \n",
       "153360  2024-09-27   5729.200195   5749.200195   5763.600098   5726.500000   \n",
       "153361  2024-09-26   5749.299805   5732.200195   5772.799805   5721.500000   \n",
       "153362  2024-09-25   5731.799805   5735.200195   5741.299805   5712.299805   \n",
       "\n",
       "        volume  variacao category   item  \n",
       "0          NaN      0.38    index    ndx  \n",
       "1          NaN      1.43    index    ndx  \n",
       "2          NaN      0.12    index    ndx  \n",
       "3          NaN     -0.29    index    ndx  \n",
       "4          NaN      1.24    index    ndx  \n",
       "...        ...       ...      ...    ...  \n",
       "153358     NaN      0.18    index  us500  \n",
       "153359     NaN      0.25    index  us500  \n",
       "153360     NaN     -0.35    index  us500  \n",
       "153361     NaN      0.31    index  us500  \n",
       "153362     NaN     -0.06    index  us500  \n",
       "\n",
       "[153363 rows x 9 columns]"
      ]
     },
     "execution_count": 12,
     "metadata": {},
     "output_type": "execute_result"
    }
   ],
   "source": [
    "df"
   ]
  },
  {
   "cell_type": "code",
   "execution_count": null,
   "metadata": {},
   "outputs": [
    {
     "name": "stdout",
     "output_type": "stream",
     "text": [
      "+----------+------+--------+------+------+------+--------+-----------+-----+\n",
      "|      data|ultimo|abertura|maxima|minima|volume|variacao|   category| item|\n",
      "+----------+------+--------+------+------+------+--------+-----------+-----+\n",
      "|1980-01-02| 30.05|   30.05| 30.05| 30.05|  NULL|    3.44|commodities|prata|\n",
      "|1980-01-03| 31.05|   31.05| 31.05| 31.05|  NULL|    3.33|commodities|prata|\n",
      "|1980-01-04| 32.05|   32.05| 32.05| 32.05|  NULL|    3.22|commodities|prata|\n",
      "|1980-01-07| 33.05|   33.05| 33.05| 33.05|  NULL|    3.12|commodities|prata|\n",
      "|1980-01-08| 32.75|  33.975| 34.05|  32.5|  NULL|   -0.91|commodities|prata|\n",
      "|1980-01-09|  33.5|    33.5|  33.5|  33.5|  NULL|    2.29|commodities|prata|\n",
      "|1980-01-10|  34.5|    34.5|  34.5|  34.5|  NULL|    2.99|commodities|prata|\n",
      "|1980-01-11|  35.5|    35.5|  35.5|  35.5|  NULL|     2.9|commodities|prata|\n",
      "|1980-01-14| 863.6|   858.5| 870.7| 855.0|  NULL|    0.59|      index| us30|\n",
      "|1980-01-14|  36.5|    36.5|  36.5|  36.5|  NULL|    2.82|commodities|prata|\n",
      "|1980-01-15| 690.5|   690.5| 690.5| 680.0|  NULL|    5.74|commodities| ouro|\n",
      "|1980-01-15|  37.5|    37.5|  37.5|  37.5|  NULL|    2.74|commodities|prata|\n",
      "|1980-01-15| 868.6|   863.6| 873.8| 855.9|  NULL|    0.58|      index| us30|\n",
      "|1980-01-15| 111.1|   111.1| 111.9| 109.4|  NULL|    0.63|      index|  spx|\n",
      "|1980-01-16| 111.1|   111.1| 112.9| 110.4|  NULL|     0.0|      index|  spx|\n",
      "|1980-01-16| 740.5|   740.5| 740.5| 740.5|  NULL|    7.24|commodities| ouro|\n",
      "|1980-01-16|  38.5|    38.5|  38.5|  38.5|  NULL|    2.67|commodities|prata|\n",
      "|1980-01-16| 865.2|   868.6| 881.1| 862.1|  NULL|   -0.39|      index| us30|\n",
      "|1980-01-17|  39.5|    39.5|  39.5|  39.5|  NULL|     2.6|commodities|prata|\n",
      "|1980-01-17| 863.6|   865.2| 873.0| 857.0|  NULL|   -0.18|      index| us30|\n",
      "+----------+------+--------+------+------+------+--------+-----------+-----+\n",
      "only showing top 20 rows\n",
      "\n"
     ]
    }
   ],
   "source": [
    "df_test.select('*').orderBy('data').show"
   ]
  }
 ],
 "metadata": {
  "kernelspec": {
   "display_name": "venv",
   "language": "python",
   "name": "python3"
  },
  "language_info": {
   "codemirror_mode": {
    "name": "ipython",
    "version": 3
   },
   "file_extension": ".py",
   "mimetype": "text/x-python",
   "name": "python",
   "nbconvert_exporter": "python",
   "pygments_lexer": "ipython3",
   "version": "3.12.3"
  }
 },
 "nbformat": 4,
 "nbformat_minor": 2
}
