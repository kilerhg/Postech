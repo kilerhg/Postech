{
 "cells": [
  {
   "cell_type": "markdown",
   "metadata": {},
   "source": [
    "## Setup"
   ]
  },
  {
   "cell_type": "code",
   "execution_count": 81,
   "metadata": {},
   "outputs": [
    {
     "name": "stdout",
     "output_type": "stream",
     "text": [
      "Spark version:  3.5.4\n"
     ]
    }
   ],
   "source": [
    "from pyspark.sql import SparkSession\n",
    "from pyspark.sql.types import *\n",
    "from pyspark.sql.functions import *\n",
    "import pandas as pd\n",
    "import numpy as np\n",
    "\n",
    "# Create a Spark session\n",
    "spark = SparkSession.builder.master(\"local\").appName(\"PySpark Tutorial\").getOrCreate()\n",
    "\n",
    "# Verify Spark version\n",
    "print(\"Spark version: \", spark.version)"
   ]
  },
  {
   "cell_type": "code",
   "execution_count": 82,
   "metadata": {},
   "outputs": [],
   "source": [
    "\n",
    "schema_investing_fields = StructType([\n",
    "    StructField(\"Data\", DateType(), True),\n",
    "    StructField(\"Último\", FloatType(), True),\n",
    "    StructField(\"Abertura\", FloatType(), True),\n",
    "    StructField(\"Máxima\", FloatType(), True),\n",
    "    StructField(\"Mínima\", FloatType(), True),\n",
    "    StructField(\"Vol.\", StringType(), True),\n",
    "    StructField(\"Var%\", StringType(), True),\n",
    "])\n",
    "\n",
    "columns_to_float = ['ultimo', 'abertura', 'maxima', 'minima']\n",
    "\n",
    "\n",
    "rename_fields = {\n",
    "    \"Data\": \"data\",\n",
    "    \"Último\": \"ultimo\",\n",
    "    \"Abertura\": \"abertura\",\n",
    "    \"Máxima\": \"maxima\",\n",
    "    \"Mínima\": \"minima\",\n",
    "    \"Vol.\": \"volume\",\n",
    "    \"Var%\": \"variacao\"\n",
    "}\n",
    "\n",
    "partitions = ['category', 'item']"
   ]
  },
  {
   "cell_type": "markdown",
   "metadata": {},
   "source": [
    "## Read"
   ]
  },
  {
   "cell_type": "code",
   "execution_count": 83,
   "metadata": {},
   "outputs": [],
   "source": [
    "INPUT_PATH = '/home/lucas-nunes/workspace/Postech/challenges/2_ibov/data/bronze/source_investing/'\n",
    "INPUT_PATH_SAMPLE = '/home/lucas-nunes/workspace/Postech/challenges/2_ibov/input/data/source_investing/category=commodities/item=cobre/Dados Históricos - Cobre Futuros.csv'\n",
    "\n",
    "SILVER_PATH = '/home/lucas-nunes/workspace/Postech/challenges/2_ibov/data/silver'\n",
    "BRONZE_PATH = '/home/lucas-nunes/workspace/Postech/challenges/2_ibov/data/bronze'\n",
    "\n",
    "df = spark.read.csv(INPUT_PATH, header=True)\n",
    "\n",
    "df = df.withColumnsRenamed(rename_fields)"
   ]
  },
  {
   "cell_type": "markdown",
   "metadata": {},
   "source": [
    "## Process"
   ]
  },
  {
   "cell_type": "code",
   "execution_count": 84,
   "metadata": {},
   "outputs": [],
   "source": [
    "for column in columns_to_float:\n",
    "\n",
    "    df = df.withColumn(column, regexp_replace(regexp_replace(column, r'\\.', ''), ',', r'\\.').astype('float'))\n",
    "\n",
    "\n",
    "df = df.withColumn('variacao', regexp_replace(regexp_replace('variacao', r'%', ''), ',', r'\\.').astype('float'))\n",
    "df = df.withColumn('volume', regexp_replace(regexp_replace('volume', r'K', ''), ',', r'\\.').astype('float'))\n",
    "df = df.withColumn('data', to_date(col('data'), 'dd.MM.yyyy'))\n",
    "df = df.drop_duplicates(subset=['data', 'item'])\n"
   ]
  },
  {
   "cell_type": "markdown",
   "metadata": {},
   "source": [
    "## Write"
   ]
  },
  {
   "cell_type": "code",
   "execution_count": 85,
   "metadata": {},
   "outputs": [
    {
     "name": "stderr",
     "output_type": "stream",
     "text": [
      "                                                                                \r"
     ]
    }
   ],
   "source": [
    "# df.toPandas().to_csv(f'{SILVER_PATH}/silver.csv')\n",
    "df.toPandas().to_parquet(f'{SILVER_PATH}/silver.parquet')\n"
   ]
  },
  {
   "cell_type": "code",
   "execution_count": 86,
   "metadata": {},
   "outputs": [],
   "source": [
    "df = pd.read_parquet(f'{SILVER_PATH}/silver.parquet')"
   ]
  },
  {
   "cell_type": "code",
   "execution_count": 87,
   "metadata": {},
   "outputs": [
    {
     "data": {
      "text/html": [
       "<div>\n",
       "<style scoped>\n",
       "    .dataframe tbody tr th:only-of-type {\n",
       "        vertical-align: middle;\n",
       "    }\n",
       "\n",
       "    .dataframe tbody tr th {\n",
       "        vertical-align: top;\n",
       "    }\n",
       "\n",
       "    .dataframe thead th {\n",
       "        text-align: right;\n",
       "    }\n",
       "</style>\n",
       "<table border=\"1\" class=\"dataframe\">\n",
       "  <thead>\n",
       "    <tr style=\"text-align: right;\">\n",
       "      <th></th>\n",
       "      <th>data</th>\n",
       "      <th>ultimo</th>\n",
       "      <th>abertura</th>\n",
       "      <th>maxima</th>\n",
       "      <th>minima</th>\n",
       "      <th>volume</th>\n",
       "      <th>variacao</th>\n",
       "      <th>category</th>\n",
       "      <th>item</th>\n",
       "    </tr>\n",
       "  </thead>\n",
       "  <tbody>\n",
       "    <tr>\n",
       "      <th>0</th>\n",
       "      <td>1980-01-02</td>\n",
       "      <td>30.049999</td>\n",
       "      <td>30.049999</td>\n",
       "      <td>30.049999</td>\n",
       "      <td>30.049999</td>\n",
       "      <td>NaN</td>\n",
       "      <td>3.44</td>\n",
       "      <td>commodities</td>\n",
       "      <td>prata</td>\n",
       "    </tr>\n",
       "    <tr>\n",
       "      <th>1</th>\n",
       "      <td>1980-01-03</td>\n",
       "      <td>31.049999</td>\n",
       "      <td>31.049999</td>\n",
       "      <td>31.049999</td>\n",
       "      <td>31.049999</td>\n",
       "      <td>NaN</td>\n",
       "      <td>3.33</td>\n",
       "      <td>commodities</td>\n",
       "      <td>prata</td>\n",
       "    </tr>\n",
       "    <tr>\n",
       "      <th>2</th>\n",
       "      <td>1980-01-04</td>\n",
       "      <td>32.049999</td>\n",
       "      <td>32.049999</td>\n",
       "      <td>32.049999</td>\n",
       "      <td>32.049999</td>\n",
       "      <td>NaN</td>\n",
       "      <td>3.22</td>\n",
       "      <td>commodities</td>\n",
       "      <td>prata</td>\n",
       "    </tr>\n",
       "    <tr>\n",
       "      <th>3</th>\n",
       "      <td>1980-01-07</td>\n",
       "      <td>33.049999</td>\n",
       "      <td>33.049999</td>\n",
       "      <td>33.049999</td>\n",
       "      <td>33.049999</td>\n",
       "      <td>NaN</td>\n",
       "      <td>3.12</td>\n",
       "      <td>commodities</td>\n",
       "      <td>prata</td>\n",
       "    </tr>\n",
       "    <tr>\n",
       "      <th>4</th>\n",
       "      <td>1980-01-08</td>\n",
       "      <td>32.750000</td>\n",
       "      <td>33.974998</td>\n",
       "      <td>34.049999</td>\n",
       "      <td>32.500000</td>\n",
       "      <td>NaN</td>\n",
       "      <td>-0.91</td>\n",
       "      <td>commodities</td>\n",
       "      <td>prata</td>\n",
       "    </tr>\n",
       "    <tr>\n",
       "      <th>...</th>\n",
       "      <td>...</td>\n",
       "      <td>...</td>\n",
       "      <td>...</td>\n",
       "      <td>...</td>\n",
       "      <td>...</td>\n",
       "      <td>...</td>\n",
       "      <td>...</td>\n",
       "      <td>...</td>\n",
       "      <td>...</td>\n",
       "    </tr>\n",
       "    <tr>\n",
       "      <th>205243</th>\n",
       "      <td>2025-03-07</td>\n",
       "      <td>126677.000000</td>\n",
       "      <td>125130.000000</td>\n",
       "      <td>127455.000000</td>\n",
       "      <td>123810.000000</td>\n",
       "      <td>72.050003</td>\n",
       "      <td>1.39</td>\n",
       "      <td>index</td>\n",
       "      <td>ibov_futuro</td>\n",
       "    </tr>\n",
       "    <tr>\n",
       "      <th>205244</th>\n",
       "      <td>2025-03-10</td>\n",
       "      <td>13224.190430</td>\n",
       "      <td>13295.089844</td>\n",
       "      <td>13300.889648</td>\n",
       "      <td>13150.919922</td>\n",
       "      <td>NaN</td>\n",
       "      <td>-0.53</td>\n",
       "      <td>index</td>\n",
       "      <td>FTXIN9</td>\n",
       "    </tr>\n",
       "    <tr>\n",
       "      <th>205245</th>\n",
       "      <td>2025-03-10</td>\n",
       "      <td>125935.000000</td>\n",
       "      <td>126230.000000</td>\n",
       "      <td>126350.000000</td>\n",
       "      <td>124905.000000</td>\n",
       "      <td>52.130001</td>\n",
       "      <td>-0.59</td>\n",
       "      <td>index</td>\n",
       "      <td>ibov_futuro</td>\n",
       "    </tr>\n",
       "    <tr>\n",
       "      <th>205246</th>\n",
       "      <td>2025-03-11</td>\n",
       "      <td>13286.150391</td>\n",
       "      <td>13224.190430</td>\n",
       "      <td>13286.150391</td>\n",
       "      <td>13123.559570</td>\n",
       "      <td>NaN</td>\n",
       "      <td>0.47</td>\n",
       "      <td>index</td>\n",
       "      <td>FTXIN9</td>\n",
       "    </tr>\n",
       "    <tr>\n",
       "      <th>205247</th>\n",
       "      <td>2025-03-11</td>\n",
       "      <td>124879.000000</td>\n",
       "      <td>126110.000000</td>\n",
       "      <td>126120.000000</td>\n",
       "      <td>123975.000000</td>\n",
       "      <td>54.110001</td>\n",
       "      <td>-0.84</td>\n",
       "      <td>index</td>\n",
       "      <td>ibov_futuro</td>\n",
       "    </tr>\n",
       "  </tbody>\n",
       "</table>\n",
       "<p>205248 rows × 9 columns</p>\n",
       "</div>"
      ],
      "text/plain": [
       "              data         ultimo       abertura         maxima  \\\n",
       "0       1980-01-02      30.049999      30.049999      30.049999   \n",
       "1       1980-01-03      31.049999      31.049999      31.049999   \n",
       "2       1980-01-04      32.049999      32.049999      32.049999   \n",
       "3       1980-01-07      33.049999      33.049999      33.049999   \n",
       "4       1980-01-08      32.750000      33.974998      34.049999   \n",
       "...            ...            ...            ...            ...   \n",
       "205243  2025-03-07  126677.000000  125130.000000  127455.000000   \n",
       "205244  2025-03-10   13224.190430   13295.089844   13300.889648   \n",
       "205245  2025-03-10  125935.000000  126230.000000  126350.000000   \n",
       "205246  2025-03-11   13286.150391   13224.190430   13286.150391   \n",
       "205247  2025-03-11  124879.000000  126110.000000  126120.000000   \n",
       "\n",
       "               minima     volume  variacao     category         item  \n",
       "0           30.049999        NaN      3.44  commodities        prata  \n",
       "1           31.049999        NaN      3.33  commodities        prata  \n",
       "2           32.049999        NaN      3.22  commodities        prata  \n",
       "3           33.049999        NaN      3.12  commodities        prata  \n",
       "4           32.500000        NaN     -0.91  commodities        prata  \n",
       "...               ...        ...       ...          ...          ...  \n",
       "205243  123810.000000  72.050003      1.39        index  ibov_futuro  \n",
       "205244   13150.919922        NaN     -0.53        index       FTXIN9  \n",
       "205245  124905.000000  52.130001     -0.59        index  ibov_futuro  \n",
       "205246   13123.559570        NaN      0.47        index       FTXIN9  \n",
       "205247  123975.000000  54.110001     -0.84        index  ibov_futuro  \n",
       "\n",
       "[205248 rows x 9 columns]"
      ]
     },
     "execution_count": 87,
     "metadata": {},
     "output_type": "execute_result"
    }
   ],
   "source": [
    "df"
   ]
  }
 ],
 "metadata": {
  "kernelspec": {
   "display_name": "venv",
   "language": "python",
   "name": "python3"
  },
  "language_info": {
   "codemirror_mode": {
    "name": "ipython",
    "version": 3
   },
   "file_extension": ".py",
   "mimetype": "text/x-python",
   "name": "python",
   "nbconvert_exporter": "python",
   "pygments_lexer": "ipython3",
   "version": "3.12.3"
  }
 },
 "nbformat": 4,
 "nbformat_minor": 2
}
