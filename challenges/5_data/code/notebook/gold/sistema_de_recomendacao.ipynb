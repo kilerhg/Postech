{
 "cells": [
  {
   "cell_type": "code",
   "execution_count": 10,
   "metadata": {
    "colab": {
     "base_uri": "https://localhost:8080/"
    },
    "executionInfo": {
     "elapsed": 11,
     "status": "ok",
     "timestamp": 1758754623835,
     "user": {
      "displayName": "Lucas Ramos",
      "userId": "09216526235417022731"
     },
     "user_tz": 180
    },
    "id": "RiqvGiFzF8sY",
    "outputId": "3c6fb7bf-dbe8-4dd3-8145-90b89a910287"
   },
   "outputs": [
    {
     "name": "stderr",
     "output_type": "stream",
     "text": [
      "[nltk_data] Downloading package stopwords to /home/lucas-\n",
      "[nltk_data]     nunes/nltk_data...\n",
      "[nltk_data]   Package stopwords is already up-to-date!\n"
     ]
    }
   ],
   "source": [
    "import numpy as np\n",
    "import pandas as pd\n",
    "import re\n",
    "import nltk\n",
    "nltk.download(\"stopwords\")\n",
    "from nltk.tokenize import word_tokenize\n",
    "from nltk.corpus import stopwords\n",
    "import random\n",
    "import time\n",
    "import string\n",
    "import unicodedata\n",
    "from sklearn.utils import shuffle\n",
    "from sklearn.model_selection import train_test_split\n",
    "from sklearn import svm\n",
    "from sklearn import metrics\n",
    "import multiprocessing\n",
    "from sklearn.feature_extraction.text import TfidfVectorizer\n",
    "from sklearn.metrics.pairwise import linear_kernel\n",
    "import glob"
   ]
  },
  {
   "cell_type": "markdown",
   "metadata": {
    "id": "-zjvi5nDq2tn"
   },
   "source": [
    "# 1. Carrega base de application"
   ]
  },
  {
   "cell_type": "code",
   "execution_count": 26,
   "metadata": {
    "colab": {
     "base_uri": "https://localhost:8080/"
    },
    "executionInfo": {
     "elapsed": 6991,
     "status": "ok",
     "timestamp": 1758754630838,
     "user": {
      "displayName": "Lucas Ramos",
      "userId": "09216526235417022731"
     },
     "user_tz": 180
    },
    "id": "FQRb3J0Vz-U0",
    "outputId": "19a6d3bb-bf6a-4a54-efb2-5c8e69802675"
   },
   "outputs": [
    {
     "data": {
      "text/plain": [
       "Index(['job_id', 'objetivo_profissional', 'data_criacao', 'local',\n",
       "       'sabendo_de_nos_por', 'data_atualizacao', 'codigo_profissional',\n",
       "       'data_aceite', 'fonte_indicacao', 'telefone_celular', 'sexo',\n",
       "       'estado_civil', 'pcd', 'endereco', 'titulo_profissional',\n",
       "       'area_atuacao', 'conhecimentos_tecnicos', 'certificacoes',\n",
       "       'outras_certificacoes', 'remuneracao', 'nivel_profissional',\n",
       "       'nivel_academico', 'nivel_ingles', 'nivel_espanhol', 'outro_idioma',\n",
       "       'cv_pt', 'instituicao_ensino_superior', 'cursos', 'ano_conclusao',\n",
       "       'data_admissao', 'data_ultima_promocao', 'conhecimentos_tecnicos_list',\n",
       "       'certificacoes_list', 'outras_certificacoes_list',\n",
       "       'remuneracao_numeric', 'cv_pt_cleaned', 'telefone_celular_normalized'],\n",
       "      dtype='object')"
      ]
     },
     "execution_count": 26,
     "metadata": {},
     "output_type": "execute_result"
    }
   ],
   "source": [
    "# df_application = pd.read_csv('/content/drive/MyDrive/Pós Tech/Tech Challenges/Tech Challenge 5/Dados/silver/dados_processed/application_processed.csv')\n",
    "df_application = pd.read_csv('/home/lucas-nunes/workspace/Postech/challenges/5_data/data/silver/processed/application_processed.csv')\n",
    "df_application.columns"
   ]
  },
  {
   "cell_type": "code",
   "execution_count": 27,
   "metadata": {
    "colab": {
     "base_uri": "https://localhost:8080/"
    },
    "executionInfo": {
     "elapsed": 9,
     "status": "ok",
     "timestamp": 1758754630839,
     "user": {
      "displayName": "Lucas Ramos",
      "userId": "09216526235417022731"
     },
     "user_tz": 180
    },
    "id": "DnQsJj5_QrRc",
    "outputId": "c7c5a7f6-1730-47a9-f41b-480f1ae15c9f"
   },
   "outputs": [
    {
     "data": {
      "text/plain": [
       "(42482, 37)"
      ]
     },
     "execution_count": 27,
     "metadata": {},
     "output_type": "execute_result"
    }
   ],
   "source": [
    "df_application.shape"
   ]
  },
  {
   "cell_type": "markdown",
   "metadata": {
    "id": "sueeoejUq-EH"
   },
   "source": [
    "# 2. Seleciona coluna do currículo"
   ]
  },
  {
   "cell_type": "code",
   "execution_count": 28,
   "metadata": {
    "colab": {
     "base_uri": "https://localhost:8080/",
     "height": 458
    },
    "executionInfo": {
     "elapsed": 9,
     "status": "ok",
     "timestamp": 1758754630846,
     "user": {
      "displayName": "Lucas Ramos",
      "userId": "09216526235417022731"
     },
     "user_tz": 180
    },
    "id": "-J__wkcW-7H3",
    "outputId": "7b403fa8-17d6-4551-afa0-ef5fd69d18e4"
   },
   "outputs": [
    {
     "data": {
      "application/vnd.microsoft.datawrangler.viewer.v0+json": {
       "columns": [
        {
         "name": "index",
         "rawType": "int64",
         "type": "integer"
        },
        {
         "name": "cv_pt_cleaned",
         "rawType": "object",
         "type": "unknown"
        }
       ],
       "ref": "a7a970e0-0f3c-423d-9656-bef1de80ea07",
       "rows": [
        [
         "0",
         "assistente administrativo santosbatista itapecerica da serra/sp 29 anos ▪ brasileiro ▪ casado formação acadêmica  bacharel - ciências contábeis centro universitário ítalo brasileiro jul/2015 - dez/2018  graduação - gestão financeira centro universitário anhanguera jan/2013 - dez/2014 habilidades  contas a pagar e receber  excel avançado  indicadores kpi’s  notas fiscais, cfop’s  fechamento contábil  emissão de boletos  guias  impostos  budget  controladoria  sistemas integrados: totvs; folha matic; navision resumo profissional profissional com experiência nos departamentos financeiro, contábil, fiscal e controladoria jurídica. elaboração e análise de indicadores kpi’s de resultado, relatórios, guias, gestão de pagamentos, notas fiscais, boletos, fechamento financeiro e contábil fiscal. softwares erp protheus, folha matic, navision, elaw e sapiens, excel avançado, (kpi's, painéis de dashboard e automatização). histórico profissional  01/2021 – 07/2021 fcn contabilidade freight forwarder assistente contábil conciliações contábeis, financeira, folha de pagamento, fiscal, lançamentos contábeis, exportações txt, análise e elaboração de relatórios, fechamento contábil, análise fiscal e contabilização de folha de pagamento, sistema folha matic.  10/2020 – 01/2021 almeida advogados assistente financeiro gestão de pagamentos, baixa de boletos, relatórios gerenciais.  04/2019 – 06/2019 fedex brasil logistica e transporte ltda assistente juridico responsável pelo fechamento mensal através das apurações de provisões e reclassificações contábeis, elaboração de indicadores financeiros e desempenho, automatização de planilhas, análise de budget e real vs orçado.  07/2017 – 11/2018 atonanni construções e serviços ltda assistente contábil / fiscal lançamento de notas fiscais, apurações dos impostos (iss, pis, cofins, cprb, ir, csll). guias de pagamentos, sped fiscais, relatórios, xml, cfop, ncm.  06/2014 – 07/2017 iss servisytem do brasil ltda assistente de controladoria contas a pagar e a receber, análises contábeis e financeiras, reembolsos, p.o’s. gestão de custos, budget, real vs orçado, indicadores, kpi’s e mapeamento de melhorias.  04/2013 – 06/2014 n & n comércio de alimentos ltda assistente financeiro contas a pagar e a receber, boletos, relatórios gerenciais. baixa de notas fiscais, concilação financeira, negociações de pagamentos"
        ],
        [
         "1",
         "formação acadêmica ensino médio (2º grau) em ensino médio (2º grau), beatriz lopes em sp jan. 2010 até dez. 2012 ensino superior em administração de empresas, unip em sp jun. 2016 - trancado experiência profissional analista administrativo de operações, liq em são paulo - sp mai. 2018 até o momento administração - administração geral (analista) auxiliar na área de bi (business intelligence). extração de informação e análise de relatórios gerenciais, acompanhamento dos processos para as áreas financeiras,rh,operacional. suporte a toda área de backoffice, suporte a todos os supervisores. criação de indicadores (dashboard) pelo excel. analista de operações em trade com todo suporte a equipe de supervisores e gerentes. estagiaria, ballmash modas e confecções ltda eireli epp em sp jan. 2017 até nov. 2017 administração - administração geral (estagiário) atividades: administração geral. auxilio na conferencia do caixa e controle de vendas no cartão, lançamentos de dados em planilha, contas a pagar, emissão e lançamento de notas fiscal. auxiliar no arquivo de documentos, atendimento telefônico e anotações, atendimento ao público. operador de caixa, parque da mônica em sp out. 2015 até jul. 2016 comercial, vendas - atendimento (operacional) operação de pdv atendimento ao publico . operadora de teleatendimento, rede bem estar em sp fev. 2015 até jul. 2015 telemarketing - telemarketing / call center ativo (operacional) agendamentos e vendas . vendas atendente, cinemark brasil em sp jan. 2012 até fev. 2014 cultura, lazer, entretenimento - entretenimento (operacional) atendimento e recepção ao cliente em todos os setores .matemática comercial transição de cartão seja ele de débito ou crédito até mesmo título de crédito dentre outras atribuições. promover vendas de produtos e serviços em comunicação direta ao cliente. informática: banco de dados: caché programação: html aplicações de escritório: microsoft access, microsoft excel, microsoft outlook, microsoft powerpoint, microsoft word, open office sistemas operacionais: windows, linux outros programas: edição de som, edição de video"
        ],
        [
         "2",
         "objetivo: área administrativa | financeira resumo profissional graduada em administração de empresas e cursando tecnologia em gestão da cadeia de suprimentos e logística. profissional com mais de 11 anos de experiência nas áreas administrativa e financeira. atuei em empresas de diversos tamanhos e seguimentos, inclusive multinacionais no ramo de cosméticos, alimentício, e-commerce e operações/facilities. possuo experiência em análise, lançamento e controle de despesas de cartão corporativo; emissão de nota fiscal de serviço e confecção de boleto bancário; lançamento de fatura e contabilização de nfe pelo software gerencial sap (módulo financeiro mm/fi); conciliação bancária, fluxo de caixa; follow-up de contas a pagar e a receber, formulação de planilhas gerenciais diversas; negociação e cobrança de clientes inadimplentes; controle de processo de requisição de compra de equipamentos de segurança. conhecimento de danfe, arquivo xml, cfop, emissão e apuração de guia de imposto federal, municipal e estadual. capacitada a utilizar os sistemas de gestão sap, gosoft, legal manager, foconet e conhecimentos em sistemas bancários. inglês intermediário (interrompido). formação acadêmica tecnologia em gestão da cadeia de suprimentos e logística - cursando faculdade de tecnologia do estado de são paulo - fatec graduação em administração de empresas - concluído universidade paulista - unip idioma inglês intermediário - interrompido cna - cultural norte americano experiência profissional 07/2020 a 08/2021 cushman & wakefield consultoria imobiliária analista administrativo de operações - responsável pelo controle e gestão de contas a receber; - cálculo de rateio de despesa e elaboração de comunicados; - cobrança de inadimplentes; - input de certidão correlacionada a fornecedor (crf, cnd e tributos mobiliários); - elaboração de carta de depósito e planilhas gerenciais; - lançamento de nota fiscal de serviço e de consumo; - análise e acompanhamento de documentação (devec, iptu e outros); - suporte ao gerente, dirigente e equipe de operações. 12/2017 a 06/2020 higitec desentupimento e dedetização financeiro - emissão de nota fiscal de serviço; - emissão de boleto bancário pelos sistemas ecobrança caixa, itaú banking e yespay; - geração de relatórios para o gerenciamento de contas a receber; - negociação e cobrança de cliente, referente cheque devolvido e boleto em aberto; - controle de processos jurídicos relacionados a fornecedores; - suporte ao diretor, gerente, departamento financeiro e áreas correlatas. 06/2014 a 05/2015 yoki alimentos analista administrativo de vendas - recebimento, análise, lançamento e controle das despesas de cartão corporativo empresarial; - formulação de planilhas gerenciais e controle dos gastos gerais da matriz e regionais do brasil; - suporte ao diretor e a equipe de vendas; - input no sistema smk de notas fiscais de serviços e de consumo (danfe), faturas e reembolsos; - responsável pelo processo de requisição de compra de equipamentos de segurança, suprindo as necessidades do key account, regionais de todo brasil e do evento foco da companhia; - levantamento e análise dos gastos com hotéis e passagens aéreas dos colaboradores; - criação e manutenção de manuais, tendo como intuito facilitar a compreensão dos processos; - responsável por dar treinamento aos novos funcionários da companhia. 08/2013 a 06/2014 meta bpo (cliente: nivea) assistente contábil assistente administrativo - lançamento de processo de folha de pagamento no sistema sap (rescisão, férias, empréstimo para funcionário, salário e pensão alimentícia); - lançamento do formulário de reembolso de despesa de vendas, nota de débito, fatura, boleto, nota de honorário e invoice; - contabilização de notas fiscais no sistema sap (módulo financeiro mm/fi); - recebimento, análise, verificação e input no sistema de nota fiscal de serviço e consumo; - análise de imposto federal, estadual e municipal (pis / cofins / csll / inss / iss / icms); - lançamento de danfe, conferência de arquivo xml e cfop; - formulação de planilha de controle gerencial referente as despesas com convenção internacional e despesas mensais do cartão corporativo. 03/2008 a 10/2012 condomínio residencial ouro preto assistente administrativo estagiário administrativo - controle de contas a pagar e a receber; - conciliação bancária, follow-up e gestão do fluxo de caixa; - elaboração de balancete e boleto bancário; - cobrança e negociação com condôminos; formação complementar técnico em gestão administrativo empresarial - concluído escola profissional nossa senhora de fátima informática pacote office (sos computadores) - concluído sistemas de gestão sap, gosolft, legal manager, foconet e conhecimentos em sistemas bancários."
        ],
        [
         "3",
         "formação ensino médio completo informática intermediaria (excel, word, internet, outlook) administração financeira – senac experiência 07/02/2021 á atual – teleperformance crm s/a. principais atividades: ativo em vendas para a philip morris cigarros marlboro. 09/01/2020 á 10/02/2021 – foxtime recursos humanos principais atividades: prestação de serviços para o banco aymoré financiamentos de veículos. 21/12/2015 á 05/07/2019 – kpmg assurance services ltda. principais atividades: análise de processos judiciais pessoa física e jurídica, a fim de evitar riscos para empresa com a contratação de novos clientes. consiste em uma pesquisa a respeito da reputação e integridade da entidade e proprietários/administradores. gerenciamento das solicitações recebidas pelo cliente. 01/09/2015 á 19/12/2015 – royal academia ltda principais atividades: recepção de alunos e funcionários, funções administrativas. 01/02/2013 á14/01/2015 – malta assessoria de cobranças ltda principais atividades: realizar análise nos documentos pessoais e jurídicos, contato com cliente verificando se a indícios de fraude (utilizando os sistemas crivo/receita federal/mdb/aciona registro das analise dos clientes/sistemas tim). 03/10/2011 à 18/05/2012- vetdantas produtos para animais ltda- me bancário, emissão e liberação de pedidos, contas a pagar e receber. qualificações profissional com excelente comunicação e experiência em atendimento, pleno domínio da rotina administrativa, boa digitação, bom raciocínio lógico, dedicada, adaptável a mudanças e de fácil relacionamento"
        ],
        [
         "4",
         "última atualização em 09/11/2021 ­ sp ensino superior em administração de empresas, anhanguera educacional em sp de 01/2016 até 06/2020 objetivos profissionais administração ­ administração geral logística ­ transporte contábil, finanças, economia ­ contas a pagar e receber r$ 4000,00 ­ 5000,00 (bruto mensal) período integral efetivo – clt assistente ­ analista experiência profissional analista administrativo pleno, yamaha motor do brasil corretora de seguros ltda em guarulhos ­ sp ago. 2013 até o momento administração ­ administração geral (analista) faturamento de seguro proteção financeira do banco yamaha, acompanhamento e suporte para sinistros de seguro proteção financeira, abertura e acompanhamento de sinistros de vida para funcionários da empresa. receber e enviar correspondências e documentos.controlar contas a pagar e receitas.elaborar relatório financeiro. realizar faturamentos e última atualização em 09/11/2021 ­ sp analista administrativo pleno, yamaha motor do brasil corretora de seguros ltda em sp de 08/2013 até o momento administração ­ administração geral (analista) faturamento de seguro proteção financeira do banco yamaha, acompanhamento e suporte para sinistros de seguro proteção financeira, abertura e acompanhamento de sinistros de vida para funcionários da e... +info ensino superior em administração de empresas, anhanguera educacional em sp de 01/2016 até 06/2020 redes sociais averbações do departamento logistico. manter arquivos e cadastros de informações atualizados. assessorar gerentes e líderes com questões práticas da rotina de trabalho, como preparar documentos, prestar informações ao público, responder e­mails.funcionalidades de monitoramento em averbações no sistema at&m. funcionalidades sistema oracle, operações varejo autbank, teleport e dados para power bi. averbações do departamento logistico. manter arquivos e cadastros de informações atualizados. assessorar gerentes e líderes com questões práticas da rotina de trabalho, como preparar documentos, prestar informações ao público, responder e­mails.funcionalidades de monitoramento em averbações no sistema at&m. funcionalidades sistema oracle, operações varejo autbank, teleport e dados para power bi. auxiliar coordenação, escola superior paulista de administração em sp set. 2011 até ago. 2013 educação, ensino, idiomas ­ ensino superior (assistente) atendimento ao professor, funções sistêmicas, conhecimento em totvs, agendamento de reuniões, elaboração de documentos (atas, pautas, certificados, declarações, planilhas no excel), atendimento ao aluno, elaboração de horário semestral por curso, elaboração de ponto e envio de e­mails. auxiliar administrativo, vanderlei navilli peças me em sp fev. 2006 até ago. 2010 administração ­ administração geral (auxiliar) conhecimento prático em world, excel e corel draw. serviços de escritório, controle financeiro, atendimento ao cliente e atendimento pabx, agendamento de reuniões e serviços gerais.prospecção, venda, abertura, fechamento e resoluções de caixa, controle de emissões de notas fiscais de entrada e saídas. informática: banco de dados: oracle gráficos/web: coreldraw aplicações de escritório: microsoft access, microsoft excel, microsoft word, microsoft outlook, microsoft powerpoint sistemas operacionais: windows, unix outros programas: erp, crm idiomas português, nativo japonês, intermediário dados complementares disponibilidade para viajar disponibilidade para mudar de residência carteira de habilitação dados pessoais sim sim a, b nasceu em 8 de fevereiro de 1992, 29 anos. feminino, casado"
        ],
        [
         "5",
         "brasileira 41 anos, casada objetivo: administrativa/ logística e comercial formação acadêmica  logística - uninove (concluído em 2011).  turismo - unip (incompleto - 2003).  técnico em publicidade e propaganda - colégio radial (concluído em 1998). síntese de qualificações  experiência e vivência operacional de e-commerce/ marketplace.  negociação comercial/ hunter/ prospecção e tratamento de leads de clientes, atendimento aos fornecedores e suporte às lojas.  acompanhamento e ajustes de parâmetros de estoques dos principais itens de venda, cadastro de produtos e de tabela de novos custos.  análise de dados e acompanhamento de indicadores de desempenho, performances, entrega de estratégias de vendas.  contribuição para o alcance e superação das metas de faturamento, volume e market share. experiência profissional - 05/2019 – 09/2020 sociedade da mesa comércio de vinhos ltda. atendente e-commerce - 11/2017 – 04/2019 panorama embalagens analista de operações – e-commerce analista de operações comerciais - 05/2013 – 10/2013 grupo ambipar – unidade de negócios tnl analista comercial - 09/2012 – 04/2013 rodoviário goyaz executiva de contas atividades desempenhadas  responsável pela prospecção de novos clientes, abertura de clientes em segmentos faturamento.  operacionalização de e-commerce, compreendendo mídias sociais, controle as redes sociais, chats, dentre outras.  elaboração e apresentação das propostas comerciais, bem como, condução de reuniões comerciais e administrativas.  atendimento e-commerce, cobrança, atualização de cadastro, vendas online, toda função pertinente a área de atendimento online.  acompanhamento de projetos junto aos clientes, realizando a interface com a operação – participação ativa na etapa de implantação e coordenação de operações  participação na definição dos planos estratégicos junto com a equipe de inteligência de mercado e membros da diretoria – escopo de atuação, definição dos setores, estratégia de manutenção dos clientes, interface com as áreas operacionais.  realização e acompanhamento pós-vendas, sendo responsável pelo levantamento de problemas, definição de planos de ação e acompanhamento das resoluções junto as áreas operacionais, financeiras e administrativas. principais prospectos e desenvolvimento de projetos de melhoria contínua nos clientes ativos.  mapeamento da ação e serviços dos concorrentes e participação em eventos do segmento.  monitoramento dos contratos, reuniões de mensais de acompanhamento, elaboração dos indicadores, controle de registros e informações no crm – controle de estoque e níveis de serviço operacionais. informática  informática – word, excel, powerpoint e internet explorer.  sistemas erp’s: totvs cursos extracurriculares  inglês e espanhol básico.  controle de qualidade ao cliente (iso9001) – banco santander.  análise de planejamento financeiro – sebrae.  empreendedor individual – sebrae.  técnica de vendas – catho"
        ],
        [
         "6",
         "objetivo área financeira / controladoria / faturamento / central de serviços compartilhados / administrativo formação acadêmica uninove - gestão financeira – concluído 2011 ✓ experiência profissional ✓ coca cola - femsa análise de documentos referente a reembolsos de despesas (quilometragem, pedágio, estacionamento) de todas as unidades do brasil, validação via portal, lançamento contábil e programação de pagamento, envio de comprovantes, atualização semanal de estrutura referente a rota de vendedores e utilização dos programas sap ecc e perceptive content,triangulus, suporte ao comercial referente ao report sobre reembolsos dos colaboradores processos lançados e analisados pelo sistema sap. pr05, fbl1n, zaftmgl00, analise e conciliação via sap, validação de cte e preparação para pagamentos , verificação de transporte na vtn03, ie36, contato com fornecedores. período: março/2019 à nov/2021 ✓ joy model responsável pelo faturamento, emissão de notas fiscais de serviços de 5 empresas do grupo pelo certisgn, emissão de boletos via itaubank, atendimento/dúvidas/orientações aos modelos, compras de matérias de escritório, orçamentos, atualização de extrato dos modelos, atualização e lançamentos no sistema manager fashion. contato com clientes, baixa de títulos no sistema, intermédio entre clientes e modelos, atualização de extrato modelos, atualização e lançamentos no sistema manager fashion, cobrança, consulta serasa. período: abril/2018 à nov/2018 ✓ grupo rio quente responsável pelos clientes b2c e b2b, controle e recebimento de pagamentos via ted/doc/pos, fazer as baixas dos títulos, emitir boletos, verificar extratos bancários, efetivar financiamento com o banco, análise/consulta de credito junto ao serasa, calcular e liberar comissões de revendas/agencias/freelances, calcular multa e juros, solicitar estorno junto as operadoras de cartão de credito, controle de reembolsos, lançamento de notas no sistema, emitir carta de credito, verificar anormalidades juntos as reservas, valores/alterações/descontos, emitir voucher e confirmar reservas. período: jan/2016 à abril/2017. ✓ vitronglass (grupo tbr) emissão de notas fiscais de serviços/ industrialização/remessa de transporte, controle de faturamento, natureza de operação, cfop, carta de correção, pagamento e controle de gnre, cadastro de clientes/fornecedores, gerar ordem de expedição e ordem de faturamento no sistema systemglass, emissão de notas no dn4, baixa de títulos a receber, classificação de notas e envio de documentos junto a contabilidade, conciliar extratos/contas a receber, monitoramento de e-mails e de solicitações de clientes externos/internos, emissão de boletos e relatórios no uau, conciliação de 3 empresas do grupo. período: set/2014 à dez/2015 ✓ via varejo (e-commerce) follow-up de pagamentos, conferência nf/boletos, digitalizar, lançamento de nota fiscal no sistema (protheus), classificar por centro de custo, preparação de borderô, enviar remessa para o banco, acompanhar remessa, gerar relatórios diários, elaboração e controle de planilhas em geral, contato com fornecedores. abrir chamado para tratamento de anormalidades relativas á liberação dos pagamentos, atuando de forma a minimizar problemas no fluxo. período: set/2012 à fev./2014 ✓ panalpina world transport (vera lana) assistência nos processos de pagamento, follow-up e conferência de títulos a pagar, analisar nota fiscal, digitalização, indexar no sistema, envio de arquivo cnab, sispag, controle de malotes, elaboração de planilhas para controles diários, controle de e-mails, emissão de notas fiscais e boletos, lançamentos no sistema sade, cadastro de fornecedor no sap, contato com fornecedores. período: ago./2011 à jul./2012 cursos ✓ impacta excel intermediário ✓ escola senai suíço brasileiro web designer: macromedia flash, fireworks e dreamweaver. ✓ em andamento excel avançado, power bi, e vb"
        ],
        [
         "7",
         "belo horizonte/mg – cep: 30.626-710 habilitação: categoria b objetivo desejo fazer parte do time da empresa oferecendo o melhor; sou uma pessoa muito dedicada e comprometida com as atribuições que são dadas a mim e gostaria de desempenhar atividades na área da logística, financeira, comercial ou administrativa, independente do resumo de qualificações  profissional com excelentes conhecimentos na área administrativa financeira, atuando no controle de contas a pagar, recebimentos da empresa, emissão e envio de notas fiscais eletrônicas, emissão de boletos, análise de créditos de clientes e envio de documentos para contabilidade;  conhecimento na área administrativa e comercial, atuando no atendimento telefônico e de documentos, compras, vendas e captação de novos clientes;  confecção de relatórios mensais para acompanhamento da diretoria;  habilidades de comunicação interpessoal, percepção crítica e analítica para análise de melhoria em processos administrativos; experiências agosto/2020 a junho/2021 – sigma consultoria localidade: belo horizonte/mg  faturamento de pedidos;  envio notas e boletos via e-mail;  relatórios para diretoria;  contas a pagar, incluindo pagamentos de salários e benefícios de funcionários;  planejamento de entradas e saídas de recursos;  baixa sistêmica e bancária;  conciliação bancária;  experiência com sistema sankhya; janeiro/2018 a janeiro/2020 - agv brasil proteção veicular localidade: belo horizonte/mg  emissão e envio de contratos e boletos para clientes via sistema e e-mail;  emissão de boletos via banco e via sistema;  responsável por atender as demandas do setor junto as demais funcionárias;  envio de e-mail para associados, consultores e diretores;  atualização de contratos via sistema;  sistema sav; maio/2013 a setembro/2017 - transportadora água viva mrl ltda localidade: belo horizonte/mg  responsável pelas rotinas de rh, tais como: treinamentos, orientação, benefícios, pagamento de salários, cálculo de horas extras, férias e rescisões;  responsável por fazer o controle via planilha de notas fiscais a vencer e vencidas, controle de contas a pagar, recebimentos da empresa;  emissão e envio de notas fiscais eletrônicas, emissão de boletos, análise de créditos de clientes e envio de documentos para contabilidade;  cobrança de notas fiscais em aberto, inclusão e exclusão no spc/serasa;  distribuição e roteirização de viagens para motoristas;  confecção de relatórios mensais para a diretoria;  compras e orçamentos de materiais de escritório, peças, serviços e pesquisa de novos fornecedores;  abertura e fechamento de caixa de pagamentos em dinheiro, cheques ou cartões; novembro/2011 a março/2013 - domingos costa indústrias alimentícias s/a localidade: contagem/mg  digitação de documentos;  cadastro de materiais;  requisição de compras;  controle de estoque;  entrega e armazenamento de notas fiscais;  agendamento de cursos em diversas áreas executivas;  experiência com software sap – gestão financeira e comercial; formação conclusão: dezembro de 2012. ensino superior completo: faculdade novos horizontes - graduação em tecnólogo de logística. conclusão: julho de 2015. cursos e aperfeiçoamento  curso de aprendizagem em administração geral de empresa (rh, dp, financeiro, gestão de documentos, faturamento, estoque) – escola: rede cidadã  curso de informática profissionalizante avançado – escola: people soft conclusão 2015  curso de mercado financeiro i – escola: ieb cursos conclusão: 10/2019 belo horizonte – 202"
        ],
        [
         "8",
         "última atualização em 04/11/2021 resumo experiência em rotinas de atendimento, faturamento, administrativo, liderança de equipe e apoio a gerência nos processos; atividades com melhorias de processos, projetos, gerenciamento de dados, indicadores, elaboração de relatórios gerenciais, dashboard, apresentação de resultados e apoio ao setor de inteligência de negócios. experiência com atividades relacionados aos projetos, controle e acompanhamento de contrato e pagamento de prestadores de serviços, elaboração de relatórios de prestação de contas, orçamentos de fornecedores e controle de materiais. formação em pedagogia; mba em gestão de projetos; curso complementares de power bi e metologias lean. formação acadêmica ensino superior em pedagogia, universidade cruzeiro do sul ­ unicsul em sp fev. 2011 até dez. 2013 pós­graduação ­ especialização/mba em gestão em projetos, universidade estácio de sá em sp experiência profissional última atualização em 04/11/2021 analista administrativo pleno, associação do sanatório sírio ­ hospital do coração ­ hcor em sp de 11/2008 até o momento administração ­ administração geral (analista) rotinas com atividades administrativas, faturamento, processos de melhorias, projetos, financeiro, liderança de equipe e apoio a gestão da área; gerenciamento de dados, indicadores, elaboração de rel... +info pós­graduação ­ especialização/mba em gestão em projetos, universidade estácio de sá em sp de 10/2018 até 04/2020 analista administrativo pleno, associação do sanatório sírio ­ hospital do coração ­ hcor em são paulo ­ sp nov. 2008 até o momento administração ­ administração geral (analista) rotinas com atividades administrativas, faturamento, processos de melhorias, projetos, financeiro, liderança de equipe e apoio a gestão da área; gerenciamento de dados, indicadores, elaboração de relatórios gerenciais, dashboard e apresentação de resultados, além de apoio ao setor de inteligência de negócios; experiência como assistente de projetos realizando atividades relacionados a projetos do (proadi­sus) com controle e acompanhamento dos processos administrativos, orçamentos, contratos, cotação de prestação de serviços, pagamentos a fornecedores, elaboração de relatório e logística dos materiais. apoio aos consultores dos projetos e gerenciamento da plataforma de ensino ead. escriturário hospitalar, hospital focus vila mariana em são paulo ­ sp jul. 2008 até out. 2008 administração ­ administração geral (operacional) atendimento no andar e pronto socorro (leitos), solicitação de medicação, agendamento de exames, solicitação de escriturária, ­ bp ­hospital beneficência portuguesa de são paulo. em sp out. 2002 até jul. 2007 saúde ­ cardiologia (assistente) • rotinas de atendimento, faturamento na unidade do pronto socorro; solicitação de autorização para exames, arquivamento de prontuários;• realização de atividades na farmácia satélite do pronto socorro com entrega de medicamentos, reposição, digitação, separação de materiais e medicamentos específicos para procedimentos de informática: aplicações de escritório: microsoft word, microsoft powerpoint, microsoft excel, microsoft access sistemas operacionais: windows outros programas: servidores de e­mail idiomas inglês, básico dados complementares disponibilidade para viajar disponibilidade para mudar de residência"
        ],
        [
         "9",
         "nasceu em 28 de maio de 1990, 31 anos. feminino, solteiro resumo possuo boa dicção, alta responsabilidade com prazos e horários, facilidade de aprendizado, boa concentração, boa relacionamento em equipe ensino superior em administração de empresas, all net em sp nov. 2019 até o momento (finalização prevista ­ jan. 2022) experiência profissional analista administrativo pleno, comercial fegaro importacao e exportação eireli em sp mar. 2019 até jul. 2021 administração ­ administração geral (analista) planilhas, compras, sistema nexus, faturamento, frete, financeiro, comercial, vendas, gerenciar equipes, plataformas ! gerente geral, bubblekill em sp ago. 2017 até fev. 2019 última atualização em 02/11/2021 analista administrativo pleno, comercial fegaro importacao e exportação eireli em sp de 03/2019 até 07/2021 administração ­ administração geral (analista) planilhas, compras, sistema nexus, faturamento, frete, financeiro, comercial, vendas, gerenciar equipes, plataformas ! ensino superior em administração de empresas, all net em sp de 11/2019 até o momento administração ­ administração geral (gerente) auxiliar de faturamento, clínica médica vila alpina em sp mai. 2016 até jul. 2017 contábil, finanças, economia ­ finanças (auxiliar) faturamento de todos os convênios, planilhas com datas de entregas e pagamentos, capas de lotes, atendimento aos convênios e laboratórios, parcerias com laboratórios, negociações de pagamentos, sistema doctor´s, etc. auxiliar administrativo, manserv montagem e manutenção ltda em sp jan. 2015 até jun. 2016 administração ­ administração geral (auxiliar) gerente geral, bufet cometa em sp ago. 2015 até mai. 2016 comercial, vendas ­ venda interna (gerente) recepcionista, masa clínica médica em sp mar. 2011 até ago. 2014 administração ­ recepção (auxiliar) informática: aplicações de escritório: microsoft access, microsoft excel, microsoft outlook, microsoft powerpoint, microsoft word, open office, staroffice sistemas operacionais: windows idiomas português, nativo inglês, básico dados complementares disponibilidade para viajar disponibilidade para mudar de residência carteira de habilitação tipo de veículo"
        ],
        [
         "10",
         "analista programador | cobol | mainframe analista programador com extensa experiência em ambiente mainframe utilizando linguagem cobol, easytreave e natural(online/batch). ao longo de 33 anos apliquei meus conhecimentos de análise e desenvolvimento de sistemas contábeis, financeiros, pagamentos eletrônicos, corporativos, etc. qualificações ª experiência em desenvolvimento de sistemas administrativos (e.r.p.), corporativos e operacionais (c.r.m.). ª reengenharia, implementação de sistemas, desenvolvimento de projeto físico e lógico, modelagem e levantamento de dados. modelagem e mapeamento funcional, definição e mapeamento de instâncias (teste unitário/teste integrado/simulação e homologação). leitura e definição do escopo do projeto/sistema. definição, desenho e desenvolvimento de sistemas multiplataforma (sistemas integrados, mainframe/web servisse, java). participação ativa em definições de (método e política de promoção de módulos, sla de atendimento às ocorrencias, rp’s e abends de produção (malha de processamento batch). ª ª experiência com fábricas de programas e softwares, disponibilização de definições, massas de testes e revisão criteriosa do trabalho elaborado, através de testes unitários e integrados. ª decifrar a real necessidade do usuário, através de conversa informal ou reuniões de trabalho (captação de necessidades operacionais/funcionais). ª produzir material escrito sobre o projeto de maneira clara, precisa e caprichosa. ª rastrear erros de programas e rotinas de forma eficiente e rápida(sustentação). ª facilidade em aprender novas técnicas e para entender o ambiente operacional da empresa. ª experiência em equipe de suporte ao desenvolvimento, ensinando outras pessoas da equipe. ª ibm 3090 – mvs/esa ª jcl – cobol – db2 – vsam - sql - cics. ª inglês nível intermediário (leitura, escrita e conversação) outras ferramentas, como: o db2, o cics, o qmf o tso, o roscoe, o control-m, o endevor, o file-aid, o idcams, o vsam, o jcl, o proc´s, o utilitários-ibm. o natural/adabas, o natural/db2, o natural/vsam, o natural/sam, o natural/batch, o natural/onln,db2 - sq o pl 1, o easytreave, o dfsort, o icegener, o icetools. o vasta experiencia em sustentação de malha de processamento batch. histórico profissional: everis ª analista programador (jul 2020) responsabilidades: atuação no sistema de robô de pagamentos, que consiste em geração de massas de testes para pagamentos de boletos no banco itaú. atuei no levantamento da integração de diversos sistemas no banco para a criação de boletos válidos para geração do código de barras para posterior pagamento nos diversos canais. banco sudameris brasil ª analista de sistemas sênior (lider de sistemas contábeis) mar/ – mar/2003 responsabilidades: líder do sistema de cadastro único de clientes do banco. propiciar boas integrações com todos os sistemas do banco. garantir qualidade da informação, através de consistências cruzadas com outras fontes de referência e relatórios de controle para as agências. garantir a fusão completa e confiável com o cadastro de clientes do banco américa do sul. reengenharia do cadastro de clientes para plataforma mais moderna e amigável com o usuário final. principais resultados: conclusão do processo de fusão cadastro de clientes com o banco américa do sul com seis meses de antecedência, propiciando ambiente tranquilo para as migrações de todas os demais produtos. colaboração em definições de sistemas corporativos e de infraestrutura da empresa. participação ativa em projetos de sistemas estratégicos que visavam maior lucratividade do banco com entrada na área de varejo. execução do projeto ano 2000 para o cadastro de clientes, desde o levantamento de datas impactantes até os testes integrados com os principais sistemas relacionados. com a compra do banco sudameris pelo banco real, participei ativamente da fusão dos sistemas de cadastro de clientes dos bancos. procwork consultoria + analista programador lider de sistemas (mar/2000-mar/2003) responsável pelos sistemas contábeis do banco suldameris: · sistema contabilizador (gl-consist) desenvolvido em natural/adabas/db2/vsam. · atuação no pool de análise e programação. apoio ao desenvolvimento de sistemas do banco sistemas sudameris. · definicção, desenho e desenvolvimento do sistemaque exerceu a função de driver contábil/financeiro (gic, gerenciamento de informações contábeis). também desenvolvido em natural/adabas /db2/vsam/cobol · procwork com consultoria, analista funcional/coordenador de projetos (via varejo nov/2014 – out/2016. cdc) e para a mesa de operações (parâmetros do mercado financeiro e gerenciamento de negociações). participação durante um ano da equipe de suporte ao desenvolvimento para criação de banco de dados. desenvolvimento do sistema truncagem de cheques (análise de cheques devolvidos) em apoio ao sistema de contas correntes, envolvendo o levantamento de dados de diversas áreas do banco. prodesp ª programador sênior: set 1988 – jul 1994 programação em cobol cics, batch e documentação de programas. folha de pagamento do estado de são paulo. sistema de cooperativa de crédito. sistema de administração hospitalar para o hospital das clínicas. amaro agropecuária ª programador pleno (mai 1988 – set 1988) desenvolvimento de sistemas para criação de banco holandês. indra company ª analista coordenador de projetos ( mar/2014 _ nov/2017) coordenei a implantação do sistema sat(cartões) na caixa econômica. coordenei a migração de base de clientes orbital x cef. dei total suporte e sustentação na malha de processamento batch para a cef (todas as instancias). desenvolvi todas as funcionalidades de troca de arquivos cef x indra: manutenção rotina 4. manutenção rotina 5. manutenção rotina 6. via varejo ªanalista funcional/coordenador de projetos (dez/2017 _ set/2019) fui líder da frente de vendas atendendo toda a rede de vendas da casas bahia, grupo g.p.a. e extra). defini a integração web service x mainframe utilizando a ferramenta de conexão (xml). serasa (jan/2012 – fev./2014) desenvolvimento e sustentação no sistema de cadastro de pessoa física /jurídica e fontes – funcionalidade baton (conexão batch/oonline). desenvolvimento de funcionalidade suporte ao cliente (telas de cics simulando comportamento do cliente no fronted – web servise). suporte e sustentação a funcionalidade baton(batch/online). coordenei o projeto cadastro pessoa jurídica: 1. embossing. 2. faturas. 3. autorizador. 4. política de abandono (suspenção de cartão por desuso). 5. política e enquadramento(inadimplência). 6. reabilitação de conta/cartão. 7. mobile phone (pagamento por cartão através do celular). 8. política de anuidade. 9. cobrança contenciosa. 10. cobrança litigiosa. 11. reabilitação dinâmica de conta/cartão (estímulos internos). 12. cancelamento de conta/cartão. wmt informática ª programador júnior (mai 1986 – set 1986) desenvolvimento de sistemas de administração escolar e de custos industriais na indústria farmacêutica. formação acadêmica ª bacharelado em administração de empresas – universidade são judas tadeu - 1990 ª técnico em processamento de dados – colégio brasil - 1985 desenvolvimento profissional ª programação cobol cics/vsam/db2 – ivee (2020) ª programação mainframe tso/ispf, sds, vsam e sort – ivee (2020) ª cobol utilizando o ide visual cobol for eclipse – ivee (2020) ª lógica de programação com javascript – caelum (2019) ª idef modelagem de processos – choose (2002) ª uml levantamento de requisitos – sudameris (2002) ª gerenciamento de projetos e certificação pmp – dinsmore (2002) ª seminário sql para db2 – ibm (2001) ª uml – procwork (2001) ª técnica de análise essencial de sistemas – cpm (2001) ª técnica de análise estrutura de sistemas – cpm (2000) ª família db2 – fundamentos – ibm (2000) ª análise de dump/xa – prodesp (1988) ª cics command level – prodesp (1988) ª natural – prodesp (1988) ª adabas – prodesp (1988) ª fdl - xerox 9790 – prodesp (1988) ª pdl - xerox 9790 – prodesp (1988) ª vs cobol ii informações adicionais – prodesp (1988) brasileira, passaporte e visto eua válidos para viagem imediata certificação project management profissional (pmp) de 2002 a 2005"
        ],
        [
         "11",
         "formação escolar ensino superior concluído em 2007 – tecnologia em análise e desenvolvimento de sistemas qualificações profissionais  atendimento público e telefônico, rotinas de escritório (departamento fiscal, financeiro e pessoal)  captação de recursos e eventos experiência profissional sobre folha de pagamento, férias, rescisão de contrato. principais atividades: lançamentos e apuração de impostos sobre notas fiscais. lançamentos e envio de declarações fiscais. principais atividades: lançamentos e envio de declarações fiscais, atendimento, arquivamento e elaboração de planilhas para controle financeiro. principais atividades: fechamento de ponto eletrônico, emissão de notas fiscais, pagamentos, agendamentos e lançamentos fiscais."
        ],
        [
         "12",
         "perfil do currículo: profissional data de nascimento: 23/12/1987 bairro: madalena cidade: recife - pe pretensão salarial a combinar resumo do currículo analista de redes. graduado em gestão da tecnologia da informação. tenho domínio em plataforma microsoft windows server 2008/12/xp/vista, com sólidos conhecimentos de tecnologias de hardware, software; experiência em redes lan e wan, wireless, smartphones; inglês técnico; experiência em outlook, exchange, web mail, active directory; uso de ferramentas de atendimento remoto logmein,wts; habilidade para prestar suporte e orientação aos usuários; conhecimento na linguagem sql; bom relacionamento interpessoal e boa comunicação. disponível para viagens. analista de redes informações adicionais dahua dhsa iss - certificação técnica nível 1 e 2 mikrotik (certificado mtcre) curso mcsa cabeamento estruturado da nexans preparatório ccna mikrotik (certificado mtcna) wisenet samsung - certificação olt zte switch allied idiomas inglês: básico espanhol: básico experiência profissional radium telecomunicações ltda. - epp - 02/2017 até o momento - 4 anos e 9 meses responsável pela toda infraestrutura de rede e as configurações de seus serviços (dhcp, dns, nat), roteamento e vpn. responsável pelas instalações e configurações dos servidores (zabbix, ad, file server). responsável pelas configurações dos routerboard mikrotiks e dos switchs. experiência em rádios outdoor (canopy e ubiquiti), em cftv com câmeras ip's (samsung, darhua) e seus softwares de gerenciamentos (smartpss, iss, dss, smartviewer). responsável pelo serviço que a empresa vendo de provedor de internet. conhecimento em olt e onu zte. suporte a toda infraestrutura de rede da sede e filiais; suporte ao usuário; compra instalação, expansão, manutenção e atualização dos servidores; gerenciamento do antivírus corporativo; gestão de todos os planos de telecom da empresa, incluindo negociação com as operadoras, controle das contas dos créditos e dos aparelhos; gestão da rede de cftv de todas as unidades administrativas, com compras, instalação e manutenção das câmeras e sua central; gestão da central telefônica, com compra, manutenção e instalação dos ativos; cotação dos equipamentos de ti para aquisição da empresa e licitações; gerencia do e-mail corporativo; gestor de obras, quando nelas este relacionado à infraestrutura de rede lógica. cmtech comércio e serviços de informática ltda - 04/2012 a 07/2014 - 2 anos e 3 meses suporte ao usuário; responsável pela manutenção de computadores; instalar, configurar e atualizar programas de antivírus e antispywares; criação e manutenção de rotinas de cópias de segurança (instalar e manter diversos sistemas operacionais); configurar as contas de correio eletrônico; administração de servidores microsoft active directory, antivírus corporativo; configuração de ativos de rede; relacionamento com fornecedores e gerenciamento de contratos de prestadores de serviços de ti; ajuda na implantação do service desk com a conscientização do usuário e mostrando as suas vantagens. eccoprime bilingual school - 07/2011 a 02/2012 - 7 meses toda a infraestrutura de rede; suporte a usuário; responsável pela manutenção dos computadores; manutenção e configuração de rede; configuração de servidores virtuais do windows; manutenção da sala de áudio visual e manuseio dos projetores. foi feito um projeto para desenvolver um sistema web em php para cadastrar os livros da biblioteca. agencia estadual de tecnologia da informação - 10/2007 a 06/2010 - 2 anos e 8 meses manutenção de computadores; suporte ao usuário; instalação de softwares, sistemas operacionais e configuração de redes ethernet, além da configuração de roteadores e access point. formação graduação #1 instituição: estácio grau de formação: graduação nome do curso: gestão da tecnologia da informação graduação #2 instituição: mauricio de nassau grau de formação: graduação nome do curso: sistemas de informação graduação #3 instituição: faculdade metropolitana grau de formação: pós-graduação nome do curso: ciência de dados e big data analytics"
        ],
        [
         "13",
         "_______________________________________________________________________________________________________________________ cep: 13024 - 045 - cambuí - campinas - sp _______________________________________________________________________________________________________________________ analista de testes / qa / programadora / analista de negócios _______________________________________________________________________________________________________________________ principais atribuições ● experiência profissional de 25 anos na área de tecnologia da informação com efetiva participação no desenho de solução e desenvolvimento de sistemas do segmento financeiro. ● facilidade de comunicação favorecendo o contato interpessoal com clientes, parceiros e equipe de trabalho. ● atuação como scrum master em metodologia ágil, definição das métricas, sendo facilitador do dailyscrum, mantendo kanban atualizado com as estórias e fases (to do, in progress, done), refinando os itens para próxima sprint junto product owner e no jira agile e atuando principalmente em atividades para remover impedimentos e dificuldades do time. ● levantamento de requisitos, análise, implementação e implantação de soluções de acordo com as normas e padrões de trabalho vigentes de sistemas na área bancária e administração pública. ● implementação e implantação de projetos da área bancária em ambiente mainframe utilizando metodologia estruturada e metodologia ágil e na plataforma client-server utilizando metodología orientada a objeto. ● montagem de especificação funcional com as regras e requisitos de negócios e desenho de solução ● definição do escopo de projeto, através de levantamento junto ao cliente e controle no desenvolvimento dos processos. ● disponibilidade para trabalhar em alphaville, são paulo, campinas e região. formação acadêmica superior: formação em sistemas de informações com ênfase em análise de negócio pucc - pontifícia universidade católica de campinas técnico: processamento de dados etec - escola salesiana são josé cursos de aperfeiçoamento ● sm – scrum master (certificação safe 4 scrum master) ● jira agile – gestão do projeto ágil ● integração entre plataformas mainframe e open ● alm – testes ● mercado financeiro nacional e internacional – curso ministrado na anbima ● apf – analise de pontos de função ● gestão de projetos ● ms-project ● soa – arquitetura orientada ao objeto ● banco de dados db2, sql/ds, vsam, dbvsam ● modelagem de dados ● linguagem de programação cobol, cics, ims, csp, telon, mantis, easytrieve, generol, aes e visual basic. ● analise estruturada de sistemas e análise funcional ● ferramenta case – multicase ● engenharia da informação ● ferramentas: workbench, qmf, xedit, erwin, tso, roscoe, changeman, cms experiência profissional iventis tecnologia, alocado em cliente: dez/2020 até set/2021 – atuação com scrum master na gestão dos projetos das squad´s: - marketplace de numerários para comercialização através da plataforma desenvolvida; - offering digital, projeto em parceria com o itaú para desenvolvimento do saque por api; - instalação de pacote para controle de auditoria, controle, riscos e compliance. metodologia ágil, planner, project, sap para gestão financeira do projeto, clarity para acompanhamento do projeto banco santander, alocada por consultoria de abril/2017 a dez/2020, atuação como analista de negócios e scrum master nos times: - rh para construção de rpa´s para automação de processos na ferramenta workday. - construção do sistema de cadastro de clientes do sistema financeiro nacional (ccs) para comunicação com o bacen. envio da posição do cliente dos produtos elegíveis para o bacen. - squad de fundos de investimentos, definição de funcional para extração de dados para envio ao sistema ccs/bacen. - squad de cartões, desenvolvimento do front nas funcionalidades de fluxo completo de aquisição de cartão para clientes correntistas; cancelamento de cartão e aquisição do seguro cartão protegido. análise, programação e testes até a validação com gestores. metodologia ágil, jira, integração de baixa plataforma oracle, javascript, jscript, phyton, alm. ibm: julho de 2016 a dezembro de 2016, atuando com cliente at&t com análise e especificações de testes visando entender os requisitos do cliente, gerando massa de dados e execução dos testes para o desenvolvimento do projeto. ferramentas: alm banco bradesco: dezembro de 2010 a maio de 2016, clt, atuando como analista/lider responsável em projetos de desenvolvimento e sustentação, na área de investimentos como: cdb, lca, lci e fundos de renda fixa e variável, na administração troca de moeda financeira através do swap, aplicação em grupos de rendimentos administrados através do coe (certificado de operações estruturadas). atuando em projetos desde a sua contratação até a implantação. realizando levantamento das necessidades, definição de requisitos e regras de negócios junto aos gestores do produto, acionando empresas parceiras para desenvolvimento, acompanhando gerencial das etapas de desenvolvimento, e implantação dos projetos. responsável pela comunicação entre ti, gestão de negócio e empresas parceiras. validação dos sistemas junto aos requisitos dos gestores, elaboração dos testes no ambientes de homologação. participação do desenvolvimento do projeto de condições particulares de aplicação em cdb utilizando metodologia ágil. atuando em projetos de baixa plataforma (java e vb) e mainframe. consultorias de sistemas atendendo ao banco bradesco: janeiro de 1996 a dezembro de 2010, participação nos projetos: - desenho lógico e desenvolvimento físico do sistema de convivência e migração de campanhas de marketing e de fidelização, com base de dados em teradata. participando do desenvolvimento do sistema de ações força de vendas. - sistemas de riscos – levantamento das necessidades para definição de índices que definam o perfil do tomador do credito, bem como, os riscos interno e externo inerentes à concessão. - cartão de crédito – manutenção na emissão de correspondências ao cliente, emissão de fatura, aviso de senha, emissão de novo cartão de crédito, criação de código de barras para acompanhamento da correspondência; manutenção de cálculos de cobrança de juros aplicados a cartão internacional e compras no exterior, inclusão de módulo de migração da bandeira mastercard/visa. - licenciamentos - licenciamento de veículos, implementação da confirmação de pagamento na agência; arrecadação de ipva, dpvat. criação e incorporação do cidadetran no bradesco. - comprovantes de pagamento – desenvolvimento da emissão de comprovante de pagamento (hollerith) no terminal de autoatendimento. - gestão de tarifas – desenvolvimento do sistema unificado para cobrança de tarifas bancária. desenvolvimento do sistema de consórcio entre bancos para compor carteira de empréstimos - leasing - participação na definição do projeto lógico e criação dos documentos (contexto, dfd, der e mer). - crédito rural – desenvolvimento de sistema para controle de fiscalização de crédito rural. - gestão de desempenho a apoio a decisão – desenvolvimento para compor a base de dados com os sistemas de arrecadação e empréstimos. - pagamento de benefícios - manutenção na rotina de pagamentos de benefícios inss e flexibilização do horário de fechamento de envio de ted´s. - previdência privada – desenvolvimento da base única de cadastro dos contribuintes. conversão do ano 2000. banco bcn: novembro de 1994 a janeiro de 1996, manutenção no sistema de risco, integrado com todos os produtos do banco e conversão ano 2000 (on-line e batch) - sistemas de mutuário, financiadora, conta corrente e reformulação do sistema de leasing, reestruturação banco de dados (db2). início da carreira, estagio em programação formação colégio técnico, início em março de 1990. estagio em análise de sistemas formação graduação"
        ],
        [
         "14",
         "analista de sistemas quality s/a. | agosto de 2019 - presente - suporte aos colaboradores nas unidades offshore e onshore. - suporte aos seguintes sistema (maximo, drake, mercado eletrônico) técnico de informática fgb serviços informática ltda.| setembro de 2017 - junho de 2019 - manutenção em notebooks, desktops - helpdesk aos colaboradores. - resolução de problemas referentes a configuração de celulares. - resolução de problemas referentes a wi-fi e redes cabeadas."
        ],
        [
         "15",
         "job objective: to obtain a position, where i can to contribute whit my knowledge to the development of the company and improve my abilities. education: sao judas tadeu university, sao paulo brazil 2009 – 2010 postgraduate engineering computer networking and telecommunications services eniac college, sao paulo brazil 2005 – 2007 graduation in computer networks etec – technical school, são paulo brasil 2020 – 2021 systems development technician certifications: ccnp - 300 135 - troubleshooting and maintaining cisco ip networks dec 2019 ccnp - 300 115 - implementing cisco ip switched feb 2018 ccnp - 300-101 - implementing cisco ip routing may 2015 ccna - implementing cisco ios network security may 2013 ccna - cisco network academy certification sep 2008 knowledge in computer: windows 2010, office package, linux basic, windows server 2003, outlook express, visio, citrix, nagios, cacti, solar winds, scan networks. complementary courses: itil foundation entity: telefonica ipv6 entity: nic.br english: advanced entity: sslc - sprott shaw language college - toronto/vancouver – canada (may-jul 2019) entity: poliglota university of são paulo (usp) - brazil portuguese: native language professional experience: network specialist, latam 2019 - actual lumen technology support and activation of l2 switches, for new latam customers. data center infrastructure support. senior network analyst 2016 - 2018 bank rendimento performance in support, improvement and monitoring of networks implementation of projects. clean up asa firewall, ise deployment at the branch office and branch offices updates and manages devices at solarwinds. senior network analyst 2013 - 2016 embratel acting in activation of data networks and telephony at national and latin american level for all clients of the embratel portfolio, support level 3 for the other analysts of the team. telecom analyst ii 2008 - 2013 telefonica – vivo expertise in level 2 support for resolving incidents telecom, remote activation of routers and switches to branches of banco real, santander and mapfre. expertise in incident management team of mobile monitoring and management incident mobiles. network analyst trainee 2008 verizon business implementation of networks for agencies of banco real and troubleshooting to fix small problems. trainee 2006 -2007 ntt brazil communications checking and monitoring circuits of computer networks, opening and monitoring of operators called in to survey the circuits, basic configurations of routers, basic support to user networks, configuration email accounts. knowledge acquired: data: configuration of routers and switches and networking technologies and protocols: bgp, ospf, eigrp, rip, hsrp, vrrp. manufacturers cisco, 3com and hp. voice: activation of voice services with r2 signaling and isdn cards e1, fxs and fxo with manufacturers cisco, hp, digistar. security: rules and permissions on f5, cisco firewall – asa, appliance cisco ise. hardware: nexus 5k, nexus2k, router 1900. participation in projects: bank rendimento: clean up asa firewall, ise deployment at the branch office and branch offices updates and manages devices at solarwinds customer caixa economica federal bank: activation of telephony in all units of brazil. customer itau bank: activation and migration of data and voice circuits in all units in brazil. customer ministry of justice and americans store: activation of data and voice circuits in all centers in brazil. customer santander bank: participation and performance in the migration project operators of all links of the units in brazil. customer santander bank: participation and performance in project up grid links all the units in brazil. customer santander bank: participation and performance in project roll out in addressing lan all agencies. customer pdg construction: development of the assessment of all units in brazil, total of 30 units. relying on a future interview where i can show more details about my skills and experiences."
        ],
        [
         "16",
         "revelo igor josé fernandes pereira apresentação atuei na área de tecnologia por 10 anos com foco em infraestrutura, telecomunicações e suporte técnico. me formei em análise e desenvolvimento de sistemas em 2019. atualmente venho estudando front-end e virtualização. revelo objetivo ingressar na área de desenvolvimento atuando com testes, devops ou frontend. experiência prefeitura de caraguatatuba - estagiário outubro de 2011 - novembro 2012 ● manutenção em equipamentos de informática, instalação de sistemas e virtualização por vitualbox/vmware. revelo ● configuração de switches, atendimento remoto via teamviewer. niponet ltda., - técnico telecom maio 2013 -julho 2014 ● instalação de equipamentos de wireless microtik/ubiquiti ● configuração de rede ip - pppoe ● definir itinerário e atendimento ao cliente . poupatempo caraguatatuba - técnico de informática março 2016 - outubro 2020 ● acompanhar e reportar falhas de sistemas .gov e detran sp via icms. ● criar usuários no domínio active directory, política de segurança gpos. revelo ● instalar e atualizar sistemas. ● criar e atualizar regras de acesso via switches utilizando acls. ● manutenção e criação de pontos de rede e ramais telefônicos/ voips. graduação e.e alcides galvão de castro - ensino médio dezembro 2010 centro universitário módulo - ccna cisco fundamentals networks dezembro 2011 centro universitário módulo - análise e desenvolvimento de sistemas revelo agosto 2019 conhecimentos técnicos html, php, java, js, react, angular, rest api, mysql, mongodb, windows, linux, metodologia scrum, cisco switches, aws, azure e google cloud."
        ],
        [
         "17",
         "j ú l i o d e a l m e i d a l o p e s c a n d i d o jabaquara - são paulo/sp - brasil e-mail: julio.al.candido@protonmail.com através do sistema de chamados cervello, faço atendimento a usuários, windows. os atendimentos vão de problemas com software até hardware, nos quais são, aplicações com erro de conexão, configuração de máquina e formatação. experiências profissionais analista de suporte n2/pj - latam airlines outubro/2021 - atualmente através do sistema de chamados jira, faço atendimento a usuários macos e windows. os atendimentos vão de problemas com software até hardware, nos quais são, aplicações com erro de conexão, configuração e também faço manutenção em imacs .e gerencio o servidor ad (active directory). analista de suporte/pj - editora moderna maio/2021 - outubro/2021 através de sistema de chamados otrs atendia solicitações de manutenção de equipamentos (notebooks dell e macbooks ) os serviços de manutenção eram erros de conexão, periféricos e problemas com o equipamento. resolvia problemas na telefonia vmware esxi. responsável pela rede de computadores da empresa, cuidando do hack de servidores e do hack de rede. analista de infraestrutura jr - wba software corporativo sa janeiro de 2020 - setembro de 2020 analista de infraestrutura objetivo tecnologo em gestão de tecnologia da informação centro universitário das américas - fam janeiro/2018 - junho/2020 formação acadêmica bacharelado sistemas de informação universidade nove de julho - uninove janeiro/2021 - dezembro/2025 - redes; - sistemas operacionais (windows, linux e macos) - servidores (windows server e linux); - aws; - itil; - cobit; - scrum; - telecom: ipbx e pabx; areas de experiencia - ms- office; - power bi; - user experience (ux); - customer experience (cx); - python; -html/css3 -ms-project -ms-visio modelagem de negócios - digital innovation one introdução a criação de websites com html5 e css3 - digital innovation one fundamentos de arquitetura de sistemas - digital innovation one arquitetura de sistemas avançado - digital innovation one lógica de programação essencial - digital innovation one linux: a introdução ao sistema operacional - digital innovation one shell script - manipulando arquivos - digital innovation one estratégia de negócios com okr - digital innovation one conceitos e melhores práticas com banco de dados postgresql - digital innovation one projetos ágeis com scrum - digital innovation one fundamentos do intraempreendedorismo - digital innovation one"
        ],
        [
         "18",
         "stefanini arquiteto / engenheiro de dados | abr/2021 - atual projeto com alocação direta no cliente. construção de pipeline de dados, sustentação de ambientes. metodologia: scrum, kanban. principais ferramentas: tableau, python, sql, grafana, nifi, hadoop, spark. total express analista de bi | set/2020 - abr/2021 analista de power bi para o cliente (total express), construção e manutenção de dashboards, elaboração de storytelling. reuniões com diversas áreas para levantamento de requisitos, acompanhamento de encomendas durante todo o processo, monitoramento de caminhões. metodologia: scrum principais ferramentas: power bi, sql server, reporting builder,azure, data factory, synapse. promo attitude analista de bi | mar/2020 - ago/2020 analista de power bi no varejo. construção e manutenção de dashboards, levantamento de requisitos e funcionalidades com os clientes principais ferramentas: power bi, excel, postgresql. spiti - xp investimentos assistente bi | dez/2019 - fev/2020 desenvolvimento de dashboards usando mode analytics, manutenção de querys, e auxílio das demais áreas no quesito de dados. criação de relatórios específicos para cada área. principais ferramentas: mode analytics, google cloud platform, big query, postgresql, dbeaver. fiap - mba big data (data science) - jul/2021 fatec-sp - faculdade de tecnologia de são paulo análise e desenvolvimento de sistemas - jul/2017 cursos fiap - nano courses python, blockchain | em andamento d i g i tal a n al y t ics ( f iap ) b i g d ata sci e n ce ( f iap ) i n t r o d u çã o a o b i g d ata ( f ia) g o o d d ata ( f l u i g ) b i g d ata f o u n d at i o n ( i tce r t s ) c e r t i f i c a d o s fiap - shift big data science machine learning & data mining | ago/2019 fiap - nano courses inteligência e contrainteligência | em andamento fiap - shift digital analytics: aplicações, métricas e resultados | fev/2020 coursera - fia introdução ao big data | jun/2019 certificados d i g i tal a n al y t ics ( f iap ) b i g d ata sci e n ce ( f iap ) i n t r o d u çã o a o b i g d ata ( f ia) g o o d d ata ( f l u i g ) b i g d ata f o u n d at i o n ( i tce r t s )"
        ],
        [
         "19",
         "campinas - sp desenvolvedor sap abap consultor sap abap jr nome da empresastefanini brasil período do empregojul. de 2019 – o momento duração2 anos 5 meses localidadesão paulo e região, brasil • suporte a módulos como: mm, sd, fi, pm, pp, qm, srm, hr, entre outros. • projeto de melhorias sap ecc. • projeto de integração de inteligência artificial com sap utilizando serviço odata/sap gateway. • projeto aplicações de notas técnicas"
        ],
        [
         "20",
         "são paulo sap abap programmer analista de sistemas sênior (abap / workflow / ecc) nome da empresac&a período do empregoago. de 2009 – o momento duração12 anos 4 meses hp consultor abap - gm america latina nome da empresahp período do empregofev. de 2007 – jul. de 2009 duração2 anos 6 meses sonda procwork consultor abap nome da empresasonda procwork período do empregoset. de 2003 – fev. de 2007 duração3 anos 6 meses"
        ],
        [
         "21",
         "senior abap certified | hana certified sap ewm certified, hana certified, abap coordintator and senior sap abap cerified consultant having more than 10 years of experience in abap with strong knowledge in sap-wm/ewm. technical expertise includes: dialog programming, alv report, and classical report, interfaces, exit's, bapi, badi, rfc, enhancement, smartforms, sapscript, adobe forms, idoc, workflow, bol, webdynpro for abap and formula (pricing). currently working on implementation / improvement projects. sap modules: retail, ewm, wm, mm, sd, co, fi, qm, fs-cd, srm, mim e pi/xi. workshops: abap, webdynpro for abap, crm/srm, pi/xi, ewm100 and bi. senior abap consultant nome da empresastefanini portugal período do empregomai. de 2019 – o momento duração2 anos 7 meses localidadelisboa e região, portugal - client: heineken - improvement project and support. - developments / support in modules: wm, mm, sd, fi, crm, bw. - dialog programming, alv report, and classical report, interfaces, exit's, bapi, badi, rfc, enhancement, smartforms, sapscript, adobe forms and idoc. - understand and create functional specifications, design, develop, and integrate system changes without close supervision. elliott moss consulting senior abap consultant/ewm nome da empresaelliott moss consulting freelance período do empregoago. de 2019 – dez. de 2019 duração5 meses localidaderepública dominicana - client: grupo ramos - developments and support in ewm implementation project. - interfaces, exit's, badi, enhancement and smartforms. - understand functional specifications, recognize the critical elements of complex application problems, develop and evaluate data, determine solutions, and make logical recommendations. … ver mais geo system senior sap abap consultant nome da empresageo system período do empregojun. de 2017 – mai. de 2019 duração2 anos localidaderio de janeiro, rio de janeiro - clients: l’oréal, leader - implementation and improvement projects, and nf-e projects. - developments / support in modules: wm, retail, mim, fi, co, mm and sd. - dialog programming, alv report, and classical report, interfaces, exit's, bapi, badi, rfc, enhancement, smartforms, sapscript, idoc, webdynpro for abap and formula (pricing). - understand functional specifications, preparing technical specifications, develop solution, prepare unit test plans based on test cases provided by the client. … ver mais elliott moss consulting senior abap consultant/ewm nome da empresaelliott moss consulting período do empregodez. de 2018 – fev. de 2019 duração3 meses localidaderemote - client: césar iglesias s.a - developments and support in ewm implementation project. - interfaces, exit's, badi, enhancement and smartforms. - understand functional specifications, preparing technical specifications and develop solution as per space specified. … ver mais ibm senior abap consultant nome da empresaibm período do empregoabr. de 2014 – mar. de 2017 duração3 anos localidaderio de janeiro area, brazil - clients: leader, heineken, walmart, marisa, latam and porto seguros - implementation and improvement projects, and nf-e project. - developments / support in modules: wm, retail, mim, fi, co, mm, sd, qm, fs-cd, crm and pi/xi."
        ],
        [
         "22",
         "campinas, são paulo consultor sap abap sr sap abap consultant - cast group nome da empresacast group tempo integral período do empregoago. de 2019 – o momento duração2 anos 4 meses - programar, desenvolver e implantar sistemas em linguagem abap - realizar correções em sistemas para atender às necessidades de usuários. - suporte técnico clientes conceito ams. - projetos nas empresas: cmpc, ictsi, berneck, arauco, bracell - análise, manutenção e melhorias utilizando report, alv, alv oo, module pool, smart forms, rfc, bapi, badi, exit (user, field e screen) e enhancement point para os módulos de: fi, sd, mm, co, pp em outros"
        ],
        [
         "23",
         "consultor sap abap sobre • report, sapscript, smartforms, module pool, interfaces inbound/outbound, proxy, query, batch input, bapi, badi, user exit, field exit, enhancements, idoc, alv oo; • integração de sistemas legados e/ou middleware; • soluções para os módulos de mm, sd, sd-tra, fi, co, pp, qm, wm, cfm-lp, ps, trm, fm, bpc; • criação de soluções para grc e mii; • workflow; • realização de trabalhos de performance; • sap hana (eclipse e hana studio) - tdf; • abap 7.4 e 7.5; • abap para bpc - implementações ( analytics ) experiência sap abap consultant nome da empresaessence autônomo período do empregomai. de 2020 – o momento duração1 ano 7 meses localidadesanta catarina, brasil consultor sap abap nome da empresawezen group freelance período do empregoabr. de 2020 – o momento duração1 ano 8 meses its group consultor sap abap nome da empresaits group autônomo período do empregoago. de 2019 – mar. de 2020 duração8 meses localidadesão paulo e região, brasil cast group consultor sap abap nome da empresacast group autônomo período do empregomai. de 2018 – jul. de 2019 duração1 ano 3 meses localidadesão paulo e região, brasil its group consultor sap abap nome da empresaits group autônomo período do empregodez. de 2016 – abr. de 2018 duração1 ano 5 meses localidadeporto alegre e região, brasil tech mahindra arquiteto de soluções / consultor sap abap expert nome da empresatech mahindra período do empregojun. de 2001 – nov. de 2016 duração15 anos 6 meses localidadesão paulo area, brazil"
        ],
        [
         "24",
         "campinas, são paulo, sap abap/workflow consultant sobre • desenvolvedor sap desde 2006. • experiência com abap, workflow, enhancements, proxy, idoc, badi, bapi, fieldexit, userexit, module pool, lsmw, batch input, reports, oo, interfaces, módulos de função, rfc, proxy, aplicação de notas, tabelas, sapscript, smartforms • documentação técnica, de testes, dentre outras, focando em reutilização de código, comentários e performance. • conhecimentos em hcp, gateway, fiori, sapui5, eclipse, screen personas, sap hana para abap, asp, php, java. • aplicação de melhores práticas em processos e projetos. • inglês intermediário / espanhol básico experiencia sap abap consultant nome da empresaessence tempo integral período do empregomai. de 2020 – o momento duração1 ano 7 meses localidadesanta catarina, brasil blend it consultoria sap abap consultant nome da empresablend it consultoria período do empregonov. de 2017 – mai. de 2020 duração2 anos 7 meses localidadepiracicaba e região, brasil msys consultoria sap abap consultant nome da empresamsys consultoria período do empregomar. de 2015 – nov. de 2017 duração2 anos 9 meses localidadecampinas e região, brasil já com grande conhecimento na área, atuo como desenvolvedor sênior, buscando sempre a solução mais eficaz a ser aplicada, além de me integrar com novas áreas e aprender novas tecnologias. tech mahindra complex sap abap/workflow consultant nome da empresatech mahindra complex período do empregoset. de 2007 – mar. de 2015 duração7 anos 7 meses localidadesão paulo/sp, brasil inicialmente na fábrica de software fui evoluindo e então atuando principalmente em projetos. sempre conquistando meu espaço com responsabilidade. participei de conquistas de selo de qualidade e gerenciei projetos por um curto período. no período em que fiquei na fábrica de software, pude atender uma infinidade de clie"
        ],
        [
         "25",
         "ribeirão preto, são paulo sobre consultor especialista em sap abap, com atuação direta em desenvolvimento por mais de seis anos em empresas de diversos ramos como agronegócio, indústria, telefonia, automobilístico, construção civil, alimentícia, serviços, cooperativa, entre outros. experiência em toda rotina de implementação, rollout, melhorias e suporte dentro dos projetos sap. atuação também como líder de equipe técnica de desenvolvimento abap, quando necessário. experiência em desenvolvimentos nos módulos pp, mm, sd, fi, co, pm, ps, qm e les. - academia oficial sap abap (netweaver 7.0) de 160 horas em 2012. - graduado em tecnologia da informação em 1998. - pós-graduado em logística integrada em 2007. - pós-graduado em gerenciamento de projetos em 2009. - graduando em engenharia da computação, conclusão em 2022. senior sap abap consultant nome da empresainetum tempo integral período do empregoabr. de 2021 – o momento duração8 meses localidadeportugal senior sap abap consultant. avannt consultoria senior sap abap consultant nome da empresaavannt consultoria tempo integral período do empregojul. de 2017 – abr. de 2021 duração3 anos 10 meses localidaderibeirão preto e região, brasil implantação de 3 projetos s/4hana e 1 projeto ecc. desenvolvimento de gaps identificados pelos funcionais nos projetos. realização de testes unitários e integrados. avaliação de estimativas de desenvolvimentos. aplicação de notas sap. criação de documentações técnicas. atendimento a chamados no ams, utilizando solman. desenvolvimento de pequenos projetos e melhorias no tdf (localização brasil, sped fiscal, contribuições, reinf, ecd, ecf e ciap) e banco de dados hana. atuações pontuais com pi e workflow. análises de melhoria de performance (tunning) de programas. atuação presencial e remoto. ver menos melitta do brasil senior sap abap consultant nome da empresamelitta do brasil tempo integral período do empregomar. de 2016 – jul. de 2017 duração1 ano 5 meses localidadesão paulo area, brazil sr sap abap consultant. levantamento, avaliação, estimativa e desenvolvimento de tarefas de melhorias e estabilização do ambiente sap. desenvolvimento de interfaces com sistemas legados, utilizando pi/po via webservice, jdbc e abap proxy. orientação aos funcionais sobre recursos técnicos sap. coordenação e quality assurance de desenvolvimentos realizados por desenvolvedores abap presenciais e em fábrica de software de consultorias parceiras. realização de testes unitários e integrados. criação de documentações técnicas. ver menos agile solutions sap abap team leader nome da empresaagile solutions tempo integral período do empregonov. de 2013 – jan. de 2016 duração2 anos 3 meses localidadesão paulo area, brazil coordenação de equipe de desenvolvimento com 8 recursos abap (presenciais e remotos). entrevistas de novos recursos abap. entendimento e avaliação de gaps. estimativa de tempo e recursos. criação de documento único para especificação funcional e técnica. mapeamento e controle de atividades de desenvolvimento. controle de tempos e recursos. reuniões de feedback com o cliente e com a consultoria. avaliação técnica e de padronização do código abap. orientações técnicas aos recursos da equipe. instrutor em treinamento para equipe interna de desenvolvedores abap do cliente. atendimento e controle de chamados e issues no solman. atuação também como desenvolvedor abap. testes unitários e integrados. criação de especificações técnicas. ver menos apice consultoria sap abap consultant nome da empresaapice consultoria tempo integral período do empregoabr. de 2013 – nov. de 2013 duração8 meses localidadesão paulo area, brazil consultor sap abap (consultor pj) - alocado diretamente no cliente hochtief do brasil em são paulo/sp para projeto de upgrade da versão do sap de 4.6c para ecc 6.0 ehp6. - atividades: bbp (business blueprint, as-is e to-be), criação de objetos, elementos de dados, domínios, tabelas, estruturas, views, transações, funções, module-pool, alv, rfc, reports, programas, batch-input, shdb, bapi, badi, smartforms, sapscript, enhancements, exits, lsmw, orientação à objeto (classes, métodos), aplicação de notas sap, transporte de requests e elaboração de documentação técnica. - desenvolvimentos para os módulos: mm, sd, fi, ps e hr."
        ],
        [
         "26",
         "contact ray saraiva são paulo summary top skills focused in delivering high quality products. i bring different test automation backgrounds to help bringing the best results. agile methodologies python (programming language) my work experience includes: tech/team leader, product owner, software developer, test automation developer, test architect, and languages business analyst. portuguese (native or bilingual) english (full professional) i already worked in a few areas: agriculture, government, education, spanish (limited working) insurance, telecommunications, data analysis, finance, digital transformation. certifications agile with atlassian jira scrum fundamentals certified (sfc) experience certified scrum product owner (cspo) bayer qa leader honors-awards may 2021 - present (6 months) 1st place at uab - ieeextreme são paulo, brazil programming competition 7.0 lead an agile team of ~10 qa engineers from multiple locations to release several applications into production with high quality(web, android, ios), prioritizing deliveries and generating more business value. acceptance tests and automated tests to validate systems and applications. motivate and provide the tools engineers need to work with confidence to create simple strategies to complex problems; designing test automation architecture along with qa and development team. work closely with other engineering leaders who are delivering multiple components in each production release. serasa experian 1 year 5 months product owner january 2021 - may 2021 (5 months) são paulo, brazil page 1 of 4 responsible for the backlog of digital identity products, ensuring that the deliveries of the development teams have quality and follow the needs of internal and external customers, bringing value to the delivery. on the daily basis, i'm always involved with the dev team, helping to clarify doubts and think about the best logical solutions. business analyst september 2020 - december 2020 (4 months) sao paulo, brazil meeting with business units to design and plan the products to be migrated to our new product catalog. planing solutions/strategies for digital transformation team. following up with the teams to deliver solutions with higher quality. helping the company to validate and migrate from old solution to the new one. projects: serasa experian product access test architect january 2020 - december 2020 (1 year) são paulo, brazil the testing team. select best testing techniques and tools. provide technical know-how, documentation and training to test and other business functions. stay up to speed on process, practice and technology developments to ensure they are brought in-house and enhance the solutions applied to the testing problems. technologies : java, javascript, cucumber, selenium, protractor, mocha, cypress, postman, docker, jira projects: serasa experian client access amdocs 3 years 1 month senior software engineer may 2019 - december 2019 (8 months) sao carlos, sp, brazil facilitating/unblocking the work of other developers, fixing uat/prod issues, automating regression tests using cucumber/junit, selenium, creating new tools to increase productivity. worked with international cross function teams from brazil and israel. page 2 of 4 technologies : java, selenium, cucumber, junit, amdocs mec, oracle db, weblogic, perforce, unix areas: telecom, oss som, mec projects: telefonica vivo wireless activation software engineer december 2016 - april 2019 (2 years 5 months) são carlos area, brazil design, develop, modify, debug and/or maintain software code according to functional, non-functional and technical design specifications. follow amdocs software engineering standards, applicable software development methodology and release processes, to ensure code is maintainable, scalable, supportable and demo the software products to stakeholders. worked with international cross function teams from brazil, england, india and israel. technologies : java, amdocs mec, oracle db, weblogic, perforce, unix areas: telecom, aua, oss som, mec projects: telefonica vivo wireless activation and wireline fulfillment knowledge also in crm and oms infinity insurance application developer may 2014 - august 2014 (4 months) united states design, development, and maintenance of customized software applications for the construction of infinity's enterprise service oriented architecture. worked with one specific unit's software team to learn tools, methods, processes and applications. technologies : java, html, css, javascript, jsp, jboss, jenkins, subversion universidade federal do vale do são francisco web developer march 2012 - april 2013 (1 year 2 months) petrolina area, brazil page 3 of 4 design, development and maintenance of institutional website for one department in the university. very independent and working directly with the managers. technologies : html, css, javascript, php, laravel, mysql, nodejs, nosql prefeitura municipal de exu ( city hall ) project leader march 2008 - december 2010 (2 years 10 months) exu-pe brazil coordinated digital inclusion projects from the ministry of communications and the bank of brazil together with the city hall. lead a team of 10 associates, managed and developed projects for the creation of community telecentros in the federal program telecentros.br. telecentros are public spaces that have as objective bringing free access to computers and internet to all the inhabitants, especially in risk zones. education universidade de são paulo master of science - ms, data science · (2018 - 2021) universidade federal do vale do são francisco bachelor's degree, computer engineering · (2010 - 2016) university of alabama at birmingham bachelor's degree, electrical and computer engineering · (2013 - 2014) page 4 of 4"
        ],
        [
         "27",
         "campinas/sp consultant sap - abap/wf sobre - gerente de projeto de ti: atuando com projetos de implantação, melhorias e demandas regulatórias. executando a preparação e planejamento do projeto, gestão de escopo, controle de execução, prazos, custo, recursos e equipe. - líder de equipe: controle de cronograma, da qualidade na entrega de projetos, controle financeiro de projetos e de recursos. - funcional wm ccs: desenvolvimento de demandas de serviço de campo e suporte aos usuários em problemas no ambiente produtivo. - sap workflow ccs/ecc: desenvolvimento, manutenção, administração e suporte. - abap: desenvolvimentos complexos, utilização de bapis, shdb, user exist, badis, enhancement-point, reports, lsmw. experiência amcom sistemas de informação sap consultant - abap/wf nome da empresaamcom sistemas de informação período do empregonov. de 2020 – o momento duração1 ano 1 mês csc gerente de projetos: ccs / wm / workflow / abap nome da empresacsc período do emprego2010 – set. de 2018 duração8 anos localidadecampinas area, brazil ultracon consultora sap: wf/abap nome da empresaultracon período do emprego2009 – 2010 duração1 ano tech mahindra / complex consultora sap: wf/abap nome da empresatech mahindra / complex período do empregojun. de 2004 – 2009 duração5 anos"
        ],
        [
         "28",
         "são josé dos campos, são paulo tech lead sap-abap sobre com pouco mais 15 anos de experiência em sap-abap e 4 deles com workflow, pretendo visitar todas as áreas de sap-abap na sua diversidade e dominá-las. quero também conhecer processos de outros módulos novos e aprimorar um pouco mais os que já conheço um pouco, como fi/co/sd/mm. experiência numen consultor sap abap nome da empresanumen período do empregoabr. de 2018 – o momento duração3 anos 8 meses localidadesão josé dos campos e região, brasil k2 partnering solutions consultor de sap workflow nome da empresak2 partnering solutions período do empregojul. de 2017 – abr. de 2018 duração10 meses localidadesão paulo e região, brasil responsável pelo desenvolvimento do workflow's de mm (pedido e requisição de compras) e o workflow que substituirá o crm, voltado para o módulo de cs, por conta da padronização do novo ambiente sap-ecc. o projeto é o bts (back-to-standard), por isso sou responsável pela padronização dos workflows, utilizando e adaptando os processos atuais para adequar o máximo possível ao standard. ver menos panasonic do brasil consultor sap abap workflow nome da empresapanasonic do brasil período do empregomai. de 2017 – jul. de 2017 duração3 meses localidadesão paulo/sp, extrema/mg e são josé dos campos/sp alocado pela consultoria csral informática, desenvolvi cockpit com acesso a pedidos de aprovação de projeto e suplementação de verbas de projeto no módulo de ps essence. sap-abap workflow consultant nome da empresaessence. período do empregojun. de 2016 – mar. de 2017 duração10 meses localidadesão josé dos campos e região, brasil atuando em projetos dentro do cliente embraer, desenvolvi programas de otimização de processos financeiros, melhoria de relatórios de auditoria, cálculo de juros e multa e cobrança via boleto. ytecnologia da informação consultor sap-abap nome da empresaytecnologia da informação período do empregojan. de 2015 – jun. de 2016 duração1 ano 6 meses localidadesão paulo"
        ],
        [
         "29",
         "jonatas henrique silva dos santos nascido em 1988 links dev perfil profissional programador full-stack, tendo atuado como freelancer nos últimos anos, desenvolvendo aplicativos móbile. criador do canal dippingcode e instrutor de programação e desenvolvimento de aplicativos com flutter e dart. objetivos atuar como programador flutter. formação especializado em design e computação gráfica pelo iesam em 2012; graduado em bacharel em sistemas de informação pela feapa em 2012; cursos e atividades extra design de aplicativos; desenvolvimento de aplicativos com flutter; deploy no heroku e aws; backend com firebase (cloud firestore); experiências profissionais diferencial sou capaz de atuar no desenvolvimento de uma aplicação desde o levantamento de requisitos ao produto final de sua interface, aplicando as melhores práticas de ui/ux design. desenvolvedor fullstack na ieadi entre 2018 - 2021; tenho desenvolvido aplicações de cunho backend e frontend, utilizando principalmente reactjs, react native e flutter e mais recentemente publicamos o aplicativo ieadi-app, na play store, sendo o responsável por 100% do desenvolvimento do projeto; desenvolvedor python entre 2015 - 2017; trabalhei com o desenvolvimento de um aplicativo para processamento de linguagens naturais em python, durante o período em que eu cursava mestrado em ciência da computação. desenvolvedor backend entre 2010 - 2014; nesse período trabalhei desenvolvendo sistemas backend e games, utilizando as linguagens java, c# e php, criando sistemas junto com banco de dados relacionais como mysql. tive uma oportunidade para desenvolver um sistema no legado delphi, que me levou a pensar no desenvolvimento frontend."
        ],
        [
         "30",
         "são paulo, brasil sobre development consultant in implementations of processes of customer using sap abap, tools hana for abap and sapui5. specialties: expertise in tdf - tax declaration framework brasil, bloco k, sped, ecf, ecd, sap-isu/ccs fi-ca (financial contract account). experiência autônomo sap abap consultant nome da empresaautônomo período do empregojan. de 2004 – o momento duração17 anos 11 meses localidadesão paulo e região, brasil seidor brasil senior sap advanced business application programming consultant nome da empresaseidor brasil tempo integral período do empregojan. de 2018 – out. de 2019 duração1 ano 10 meses localidadesão paulo area, brazil oki do brasil / atotech sap erp update for electronic invoice version 4.10, ecc adaptation to meet sefaz technical note articles. realization of: understanding of the technical grade, technique, development and testing of modifications. amcor bemis sapiens project - maintenance and creation of online programs, user exits, smartforms and reports in mm and sd modules. medquimica together project- analysis and solution related to tax treatment at the time of creation of sales order from external interface. midea customer extract project. creating smartform which displays all relevant sales and finance information (customer data, billing history, sales history, open and future credit data). understanding of the need, data collection, reverse engineering of existing programs, specification, solution drawings, development and testing. sodimac/dicico school cuts project. creation of a cockpit to meet the demand of the mdf \"cuts\" sector. the objective of this project was to move materials in the mm module and wm module in the same stock / shelf transforming unit of measure to square meters. jun/18 - aug /18 - midea sap interface design with engeman maintenance system. in this project i participated from the gathering of information, data analysis, specifications, development and testing programs of customers, suppliers, materials, contracts, creation of requests and billing. nf-e 4.0 sap erp update for electronic invoice version 4.0, ecc adaptation to meet sefaz technical note articles. realization of: understanding of the technical grade, grade application, functional specification, technique, development and testing of modifications. bombril. pricing project and commercial policy. working with the consultants of sd, mm and fi modules in the adequacy of the system to contemplate the new commercial policy. ver menos entrust it - consultoria em ti sap abap consultant nome da empresaentrust it - consultoria em ti período do empregoout. de 2015 – dez. de 2017 duração2 anos 3 meses localidadesão paulo area, brazil out/15 – dez/17 consultor sap erp – abap – b&d. levantamento de informações, arquitetura e desenvolvimento de programa para exibição, edição e preenchimento do bloco k, bloco g (inventário) e respectivos registros que compõem o arquivo de escrituração contábil digital (ecd), sped e ecf no sap r/3. infosys sap abap consultant senior nome da empresainfosys período do empregomai. de 2015 – set. de 2015 duração5 meses localidadesão paulo area, brazil levantamento de informações, arquitetura e desenvolvimento de programa para exibição, edição e preenchimento dos blocos e respectivos registros que compõem o arquivo de escrituração contábil e fiscal (ecf) no sap tdf - tax declaration framework for brasil (solução da sap para planejamento fiscal e pagamento de impostos). nesse projeto tive a oportunidade de atuar com abap for hana, modelagem de dados no hana modeler e ferramentas de desenvolvimento sapui5."
        ],
        [
         "31",
         "ribeirão preto, são paulo consultoria e coordenação abap (sap) experiência comlink comunicações integradas analista de sistemas sap (abap) nome da empresacomlink comunicações integradas período do empregojun. de 2011 – o momento duração10 anos 6 meses localidaderibeirão preto e região, brasil prestação de serviço de consultoria/coordenação técnica para a área de abap. responsável técnico e funcional pelas integrações do portal comlink com o sap dos clientes. responsável abap pela certificação sap (add-on 4.9.0.74) dos produtos comlink (cadastro de materiais, b2b, módulo de contratos e módulo de serviços). pearson brasil analista de sistemas de sap nome da empresapearson brasil período do empregoabr. de 2009 – jul. de 2011 duração2 anos 4 meses localidaderibeirão preto e região, brasil usina batatais s/a - açúcar e álcool analista de sistemas de sap nome da empresausina batatais s/a - açúcar e álcool período do empregojan. de 2002 – jun. de 2009 duração7 anos 6 meses localidaderibeirão preto e região, brasil"
        ],
        [
         "32",
         "são josé dos campos, são paulo, sap abap sobre • support to functional analysts sap • experience in the technical specification of programs for software factories • development and maintenance of computer programs at the client and in the software factory • experience in the execution of unit testing and integration • working with external software suppliers • technical knowledge of abap: • reports, alv, alv oo, enhancements (badi, user-exit, enhancement points); bapi, data dictionary, smartforms, tuning and performance • maintenance in sapscript and online programs • zpl language (printer zebra) and generation of barcodes • experience in solman, service now and magic to control incidents • interest in sap hana, fiori and lumira technologies • experience in cobol, vsam, db2, delphi and pl/sql experiência tata consultancy services sap abap consultant nome da empresatata consultancy services tempo integral período do empregoout. de 2018 – o momento duração3 anos 2 meses localidadesão josé dos campos e região, brasil client : embraer - aerospace industry . abap developer for the project team (mm, fi aa, ps). sonda sap abap consultant nome da empresasonda período do empregojul. de 2017 – nov. de 2018 duração1 ano 5 meses localidadesão josé dos campos, são paulo client : embraer - aerospace industry ams sap gsw software sap abap consultant nome da empresagsw software período do empregofev. de 2017 – jun. de 2017 duração5 meses localidadesão josé dos campos area, brazil • client : embraer - aerospace industry • participation in the project of upgrade version of sap (4.7 to ecc 6.0 with hana database) mars sap abap consultant nome da empresamars período do empregojul. de 2008 – nov. de 2016 duração8 anos 5 meses localidadeguararema • client : mars - american multinational in the food industry • support to sap functional analysts - modules mm, sd, fi and pp • development and maintenance of abap programs according to the functional specifications • participation in unit and integrated tests • technical documentation in english • participation in the project of upgrade version of sap (4.7 to ecc 6.0) ver menos chevron sap abap consultant nome da empresachevron período do empregomar. de 2008 – jun. de 2008 duração4 meses localidademauá, são paulo"
        ],
        [
         "33",
         "ribeirão preto, são paulo sap consultant specialist | abap | pi grc-nfe | fiscal sobre consultor sap/abap/pi/po com mais de 11 anos experiência em projetos sap, com especialização nas áreas fiscais e tributária, grc/nfe, arquitetura de soluções e desenvolvimento de produtos. experiência comprovada como gerente de projetos sap utilizando metodologias asap, scrum e kanban, atuação e implantação de projetos fiscais, como sped fiscal, sped contábil, fcont, sped contribuições, sped ecf, elalur, sped bloco k, gia, isimp e demais obrigações acessórias. como consultor sap possuo conhecimento nos módulos funcionais sd, mm, fi, co, les-tra, hr, pp, pm, crm, solman e bw. desenvolvimentos na linguagem sap/abap de: • programas on-line e module pool • alv o.o, write, report´s avançados • forms print: sapscript e smartforms. • rfc, bapi, badi, exit's, btes. • native sql,performance, web service e interfaces netweaver/pi • análise e customização para upgrade de versão da 4.6c para ecc 6.0, 7.x • experiência em projetos de implantação e roll-out. • sap abap fiori e ui5. desenvolvimento e manutenção de soluções customizadas baseadas em interface com o sap e sistemas legados utilizando o sap pi, rfc, idocs, webservices, gateway, json e xml. desenvolvimento, treinamento, capacitação e coordenação de desenvolvedores, recursos técnicos e equipe de desenvolvimento. conhecimentos de basis em aplicação de notas, transporte de request´s, análise de performance, aplicação de patches, ajustes de parâmetros, análise e manutenção de perfis, administração de ambientes e administração de databases. arquitetura, implementação e monitoramento e administração de ambientes de nota fiscal eletrônica, sap grc nfe e legados. conhecimentos em programação auxiliar em html5, css, javascript, angularjs, php. experiência como professor em instituições como senac/go e universidade santa rita de cássia (unifasc) - itumbiara-go. experiência basisone consultoria ltda diretor soluções nome da empresabasisone consultoria ltda período do empregonov. de 2015 – dez. de 2016 duração1 ano 2 meses localidaderibeirão preto area, brazil basisone consultoria ltda sap netweaver pi/abap/grc-nfe/fiscal nome da empresabasisone consultoria ltda período do empregojan. de 2013 – set. de 2015 duração2 anos 9 meses localidaderibeirão preto area, brazil avannt consultoria consultor abap/xi/pi sênior nome da empresaavannt consultoria período do empregofev. de 2012 – dez. de 2012 duração11 meses localidaderibeirão preto area, brazil ciafal s/a analista de sistemas sr. pi/abap nome da empresaciafal s/a período do empregoabr. de 2011 – ago. de 2012 duração1 ano 5 meses localidadedivinópolis area, brazil caramuru alimentos s.a. nome da empresacaramuru alimentos s.a. duração total8 anos 6 meses período do empregoout. de 2010 – ago. de 2011 duração11 meses sap xi/pi : working with adapters interfaces soap, file, rfc, proxy, idoc, webservice, grc,with knowledge in bpm and java mapping scenarios. responsible for developing interface between legacy systems and the sap plataform systems. período do empregojul. de 2009 – mar. de 2011 duração1 ano 9 meses support team member internal bw knowledge of extractors, queues delta aggregates. monitoring process chains, ods, psa and cubes. knowledge modeling queries in query designer 3.x."
        ],
        [
         "34",
         "consultor sap abap | pi/po certified experiência sap technical analyst abap | pi/po período do empregoago. de 2021 – o momento duração4 meses wa fenix consultor sap abap | pi/po nome da empresawa fenix período do empregomar. de 2021 – o momento duração9 meses t-systems do brasil sap abap/pi/po consultant nome da empresat-systems do brasil período do empregofev. de 2015 – fev. de 2021 duração6 anos 1 mês infosys lodestone sap portal consultant nome da empresainfosys lodestone período do empregoago. de 2014 – fev. de 2015 duração7 meses stefanini sap abap/pi consultant nome da empresastefanini período do empregomar. de 2014 – jul. de 2014 duração5 meses"
        ],
        [
         "35",
         "pompéia, são paulo consultor técnico sap | abap | fiori | sapui5 | pi po | hana sobre líder técnico e de negócios, com anos de experiência em processos e sistemas corporativos, focado nas áreas fiscal (speds, nf–e, cf–e, entre outros), manufatura, logística e pós venda. focado no processo de engenharia e desenvolvimento de software, com ênfase na evolução dos processos corporativos e tradução em sistemas informatizados, fazendo uso das boas práticas e apoiado em gestão ágil de projetos. experiência bracell consultor técnico sap nome da empresabracell tempo integral período do empregomar. de 2021 – o momento duração9 meses localidadelençóis paulista, são paulo, brasil consultoria sap abap / pi e apoio aos funcionais e usuários chave nas atividades de elaboração e avaliação dos documentos das necessidades. tecno llab consultor sap abap/hana/fiori-ui5 nome da empresatecno llab período do empregoago. de 2017 – o momento duração4 anos 4 meses localidademarília e região, brasil consultoria técnica sap • consultoria sap abap / fiori / pi / hana. • líder técnico abap. • gestor de usuários chave nas atividades de elaboração e avaliação de requerimentos. vistex consultor técnico core nome da empresavistex tempo integral período do empregojan. de 2020 – fev. de 2021 duração1 ano 2 meses localidademarília e região, brasil consultoria técnica core • arquitetura e implantação de soluções aderentes e portáveis as soluções vistex com foco em performance. • documentação técnica do projeto. • apoio técnico para especificações e configuração do dmp. • apoio técnico para especificações e configuração do ia. • apoio técnico para as integrações vistex x outros módulos. ver menos afl sistemas ltda. nome da empresaafl sistemas ltda. duração total9 anos 7 meses período do empregojul. de 2016 – ago. de 2017 duração1 ano 2 meses localidademarília e região, brasil • líder técnico de migração de dados • gestor de keyusers nas atividades de extração/construção, saneamento e enriquecimento dos dados para o sap s/4 hana • especialista nos dados de parceiros de negócio (business partners - bps) para o s/4 hana • experiência nos dados transacionais de finanças, contabilidade e controladoria ver menos período do empregofev. de 2008 – ago. de 2017 duração9 anos 7 meses localidademarília e região, brasil • apoio a decisões táticas e estratégicas da empresa. • gestão da equipe de desenvolvedores, com base em metodologia ágil customizada para a empresa. • analista e engenheiro de software das principais soluções corporativas, tais como fiscal (nf–e, cf–e, speds), portal de vendas, manufatura, logística e pós-vendas, entre outros. • responsável pela analise e implantação de processos pertinentes a área de desenvolvimento de sistemas, focado na redução de custos e aumento da produtividade."
        ],
        [
         "36",
         "vinhedo, são paulo, sap fiori/abap lead expert sobre sap consultant and developer since 1999. certified as sap fiori application developer, sap abap7.40 and sap hana. currently working with full-stack development: fiori/ui5 + sap gateway. experience developing fiori/ui5 solutions in sap ppm (project and portfolio management). experience developing products for brazilian fiscal/legal field in abap, fiori and tdf/hana. skills and knowledge: -development of fiori full-stack apps for sap ppm (project and portfolio management) -development of fiori and abap applications for tdf/hana(sap brazilian legal tool) -products development for brazilian legal reporting: sped reinf, sped ecf, sped efd, sped ecd, sped pis/cofins, gia's, nf-e, nfs-e -fiori/ui5: javascript, xml and json coding; sap gateway (odata) development -abap: object oriented programming; clean coding, well documented, aiming performance and maintainability -webservice (soap): service configuration via soamanager, proxy creation and use of transformations -workflow: design and implementation of standard and customizable flows -technical and processes knowledge of sap modules (mm, wm, sd, pp, hr, fi, co, etc.) -experience with tdd (test driven development) -development of full-stack web applications: javascript, node.js api’s, vue.js, react.js, mongodb database -participation in implementation (full cycle), rollout and changes projects -participation in product development projects with agile/scrum methodology -leadership of technical team, resources management and coordination of technical activities -instructor in technical trainings experiência delaware brasil fiori-abap lead expert nome da empresadelaware brasil tempo integral período do empregoout. de 2021 – o momento duração2 meses localidadebrazil phoron do brasil - go live and beyond nome da empresaphoron do brasil - go live and beyond duração total7 anos 10 meses tempo integral período do empregojun. de 2019 – out. de 2021 duração2 anos 5 meses localidadevienna, vienna, austria fiori/abap development for ppm período do empregojun. de 2017 – jun. de 2019 duração2 anos 1 mês localidadevinhedo, sp - development of products in hana and abap - development in tdf período do empregojan. de 2014 – jun. de 2017 duração3 anos 6 meses localidadevinhedo, sp - brazil - technology team coordination; - resources planning (technology team); - resources administration (technology team); - project management (product development); - technology resources management in projects; - abap (object oriented) / hana development."
        ],
        [
         "37",
         "formação acadêmica: tecnologia em análise e desen. de sistemas - cotemig (conclusão:2015) área de conhecimento : - web: html5, css3,sass, javascript, jquery banco de dados: oracle, mysql, postgres - ling. de programação: java (android), c, c#, redes: windows server 2003,2008 - ferramentas: eclipse, netbeans, android studio , microsoft visual studio 2013/2015 - edit. de documento: microsoft word, excel - framework: hibernate, primefaces, bootstrap - sistemas operacionais: windows 7, 8, 10, ubuntu ling. de modelagem: uml - padrão de arq. de software: mvc experiência profissional : md2 informática - 11/2020 a atual principais atividades: analise e correção de bugs em aplicação web, utilizando sonarqueb, jenkins, banco de dados postgres e java 1.8(8)e realização de testes unitários utilizando junit. manutenção no código do programa da md2, utilizando java 8, e banco de dados postgres com pgadmin. sofex - 07/2018 a 11/2020 principais atividades: desenvolvimento , manutenção , concepção de arte , modelagem de banco de dados , documentação de software , design ui de sites utilizando java ee , jquery , javascript , folha de estilo css3 , linguagem de folha de estilo sass , framework bootstrap , primefaces , jpa , jsf , repositório maven , banco de dados postgres , servidor payara . desenvolvimento, manutenção, concepção de arte, modelagem de banco de dados, documentação de software de aplicativos mobile nativos como java e swift , banco de dados sqlite , firebase , ide de desenvolvimento android studio e xcode.desenvolvimento, manutenção, concepção de arte, modelagem de banco de dados, documentação de software, design ui de aplicativos android com java 1.7(7) , kotlin(inicialmente) , banco de dados sqllite, biblioteca de persistência room, arquitetura mvvm , animações simples, utilização de threads com classes assíncronas. prefeitura de belo horizonte - 07/2014 a 05/2015 principais atividades: auxílio no desenvolvimento de sistemas junto aos programadores utilizando java xhtml,css framework primefaces e hibernate .consulta em banco de dados postgres, geração de relatórios. departamento nacional de produção mineral - 04/2011 a 11/2011 principais atividades: manutenção e configuração de computadores, notebooks, impressoras e rede interna do dnpm. banco de dados: oracle, postgresql, firebird programação: c, c++, html, java, javascript, jquery, php gráficos/web: macromedia dreamweaver aplicações de escritório: microsoft outlook, microsoft powerpoint, microsoft word, microsoft excel sistemas operacionais: linux, windows, mac os outros programas: servidores web inglês intermediário."
        ],
        [
         "38",
         "jundiaí - sp sap abap sobre consultora abap sr com 10 anos de experiência em desenvolvimentos abap, tais como bapi, badi, enhancement point, smartforms, sapscript, module pool, report, funções, etc residente em jundiaí, aceito propostas para sp, campinas, jundiaí e regiao experiência ben fatto consultora sap abap nome da empresaben fatto período do empregoago. de 2019 – mai. de 2020 duração10 meses agape it sap abap freelancer nome da empresaagape it período do empregomar. de 2018 – ago. de 2019 duração1 ano 6 meses localidadejundiaí, são paulo consultora abap ccr s.a. sap ps nome da empresaccr s.a. período do empregoout. de 2015 – mar. de 2018 duração2 anos 6 meses localidadejundiaí, são paulo addvisor consulting consultora sap abap sr nome da empresaaddvisor consulting período do empregoset. de 2012 – mar. de 2016 duração3 anos 7 meses localidadejundiaí projeto: grupo ccr - companhia de concessões rodoviárias grupo ccr - companhia de concessões rodoviárias consultora sap abap nome da empresagrupo ccr - companhia de concessões rodoviárias período do emprego2012 – 2013 duração1 ano foxconn electronics analista sap nome da empresafoxconn electronics período do empregofev. de 2012 – set. de 2012 duração8 meses localidadejundiaí, sp embasa abap r3 consultant nome da empresaembasa período do empregoabr. de 2011 – dez. de 2011 duração9 meses abap - isu-ccs consultant período do emprego2008 – fev. de 2011 duração3 anos ultracon abap sr consultant nome da empresaultracon período do empregoset. de 2007 – jan. de 2011 duração3 anos 5 meses abap consultant período do emprego2008 duraçãomenos de um ano"
        ],
        [
         "39",
         "sertãozinho, são paulo sobre coordenador de projetos sap participação efetiva na implantação do s/4 hana na copercana (em andamento). o projeto contempla também as aplicações: - fiori - grc inbound e outbound - hcm / success factors - hybris - retail - sac - tdf - tms consultor participação em vários projetos, atuando principalmente no módulo mm. outras atividades: - atualização da nf-e 4.0 - configurações na j1btax - criação de documentos técnicos - customizing - debug - desenvolvimentos abap - desenvolvimento de solução para reinf - elaboração de estratégias de aprovação - gestão de equipe e serviços - suporte em grc inbound/outbound coordenador sap experiência copercana gerente de projetos nome da empresacopercana tempo integral período do empregojan. de 2019 – o momento duração2 anos 11 meses localidadesertãozinho, são paulo h2 consult sap analista de sistemas sap nome da empresah2 consult sap período do empregofev. de 2018 – dez. de 2018 duração11 meses localidaderibeirão preto, são paulo"
        ],
        [
         "40",
         "indaiatuba, são paulo experiência lmti consultoria desenvolvedor abap nome da empresalmti consultoria período do empregomai. de 2014 – jun. de 2018 duração4 anos 2 meses localidadesão paulo e região, brasil"
        ],
        [
         "41",
         "barueri, são paulo sobre qualificações – sap • report, alv, interface; • batch input, call transaction, • funções, rfc, bapi; • screen-exit, user-exit, badi, enhancement-points; • sapscript, smartforms (inclusive código de barras e conversão impressora zebra) • métodos, variantes; • on-lines (module-pool); • idoc; • fórmulas • solution manager; • aplicação de notas (snote); • levantamento de métricas de desenvolvimentos. especializações: programador sap abap experiência focus it consultoria consultor sap abap nome da empresafocus it consultoria período do empregoago. de 2017 – o momento duração4 anos 4 meses localidadebarueri, são paulo projeto cliente privalia consignação - criação de monitor de consignação, entendimento das necessidades do cliente juntamente com funcional de mm. - criação de cockpit envolvendo todo processo de notas de entrada, desde baixar o xml na mensageiria, mapear os campos e inserir em tabelas z para dar continuidade no processo. - validação se xml condiz com pedido de compras, bapi para efetuar migo e miro. projeto cliente privalia nf 3.10 - aplicação de notas sap - criação de report z para comunicação sap x mensageiria - mapeamentos das estruturas e ajustes na badi de acordo com cliente projeto cliente são domingos nf 4.00 - aplicação de notas sap - criação de report z para comunicação sap x mensageiria - mapeamentos das estruturas e ajustes na badi de acordo com cliente projeto cliente caramuru dms e workflow - criação de transações/views para substituição de transações cu60/cl02 e ct04 - ajustes nas transações de dms para buscar funções e valores das tabelas z - manutenção nos workflows de dms e qm existentes para envios de e-mail para os responsáveis atividades ams - atendimento de chamados dos módulos abap, fiori e conjunto com funcionais mm, sd, qm, pp, fi, co, sempre respeitando o sla - treinamento a novos consultores abaps, para desenvolver os mesmos - coordenação de setor ams instruindo consultores a melhores praticas - idéias para desenvolvimentos de novos produtos internos - padronizações de alguns processos conforme itil ver menos fh_ abap nome da empresafh_ período do empregojun. de 2013 – ago. de 2017 duração4 anos 3 meses"
        ],
        [
         "42",
         "28 anos, solteiro - são paulo, sp - zona sul - vila mariana engenheiro de dados há 9 meses na engenheiro de dados autônomo analista de produção por 1 ano e 11 meses na grupo petrópolis graduação em engenharia de produção - anhembi morumbi mba em analytics em big data - fia business school inglês fluente e espanhol básico foto do candidato: atualizado há: 9 dias objetivos e resumo do currículo power bi, power automate, powerapps, powerquery, excel, vba, modelo de dados, bigquery, oracle, sqlserver, crm. supply chain – extensão universitária. green belt em lean six sigma. experiência profissional engenheiro de dados autônomo - 02/2021 até o momento - 9 meses atuando na área de tecnologia da informação, atende empresas de diversos segmentos como:havaianas (varejo), simpresshp (outsourcing), sitel (call-center). • experiência em estruturação de dados.(sistemas sgbd) • design de arquitetura para dados estruturados e não estruturados. • implementação de melhorias em procedures de atualização e consultas sql, em sistemas sgbds oracle e sqlserver. • automatização e monitoramento dos processos de etl em bigdata • gestão do ciclo de vida das informações e suas etapas de ingestão, tratamento, bem como suas integrações e processamentos por sistemas do negócio. • elaboração e implementação de projetos de mensuração em plataformas web e app - (dashboard iterativo power bi, powerapps, powerautomate.) • forte aderência a metodologias ágeis e trabalho em equipe. grupo petrópolis - 12/2018 a 11/2020 - 1 ano e 11 meses • extração e consolidação de informações de consumo e produtividade sap. • aferimento oee (overall equipment effectiveness) • contato direto com sistemas sgbds e suas ferramentas de modelagem (sql). • desenvolvimento de apresentações executivas para tomada de decisão. • capacidade de análise e síntese das informações de negócio. alliance association - 05/2017 a 12/2018 - 1 ano e 7 meses • desenvolvimento de indicadores de redes sociais e suas rotinas de atualização. • avaliação de campanhas realizadas em mídias sociais e apontamento de oportunidades/insigths para novas campanhas. • apresentação de resultados em formato de métricas direcionadas à ações gerenciais. • gestão de campanhas e funil de vendas por meio da plataforma rdstation. • desenvolvimento e manutenção do banco de dados sqlserver.(seguindo as normas lgpd) • responsável pela implementação e treinamento da plataforma evo.(sucesso do cliente) cielo - 08/2015 a 05/2017 - 1 ano e 9 meses • modelagem e importação de dados por meio de linguagem sql (structured query language). • padronização de relatórios e método de análise das campanhas comerciais. • criação de dashboard com foco processo de cancelamento de clientes.(churn) • teste e aplicação de modelos estatísticos de propensão. ericsson - 06/2014 a 08/2015 - 1 ano e 2 meses • desenvolvimento e automatizações de relatórios, para equipes inseridas no projeto mercosul. • participação ativa no projeto de rankeamento de equipes.(integraçaõ em sharepoint) • mapeamento de processos internos da área buscando oportunidades de melhoria.(bizagi) • projeto de melhoria de qualidade com redução de custos na área (bonificação por implementação de projeto-estagio, carta reward + 200 dólares - certificação green belt) world post - 02/2013 a 05/2014 - 1 ano e 3 meses • desenvolvimento de apresentações de resultados para área de planejamento de produção (pcp). • responsável pelas rotinas de atualização, de métricas de desempenho e produção, avaliando a eficiência produtiva versus retorno produtivo. • padronização de documentos técnicos referente ao processo produtivo.(e-book) • participação ativa em projeto de design fabril aplicando conceitos 5s. formação graduação em engenharia de produção - 01/2014 a 12/2018 anhembi morumbi mba em analytics em big data - iniciado em 01/2021 fia business school livre docência em inglês - 01/2009 a 12/2012 fisk cursos / especializações analyzing and visualizing data with power bi - microsoft curta (até 40 horas) - ano de conclusão: 2019 inbound marketing - rd university média (de 41 a 360 horas) - ano de conclusão: 2018 sql oracle - universidade cielo curta (até 40 horas) - ano de conclusão: 2016 microsoft excel avançado - impacta média (de 41 a 360 horas) - ano de conclusão: 2015 green belt em lean six sigma - senai média (de 41 a 360 horas) - ano de conclusão: 2014 supply chain - senac média (de 41 a 360 horas) - ano de conclusão: 2014 informações adicionais inglês avançado e espanhol básico. idiomas inglês: fluenteespanhol: básico dados pessoais sexo: masculino estado civil: solteiro idade: 28 anos data de nascimento: 19/01/1993 cidade: são paulo - sp bairro: zona sul / vila mariana país: brasil dados de contato"
        ],
        [
         "43",
         "americana, são paulo abap/pp certified experiência hyundai autoever brasil funcional pp certificado nome da empresahyundai autoever brasil período do empregoout. de 2014 – o momento duração7 anos 2 meses localidadepiracicaba sonda procwork nome da empresasonda procwork duração total10 anos 1 mês período do empregoout. de 2004 – out. de 2014 duração10 anos 1 mês período do empregoout. de 2004 – out. de 2014 duração10 anos 1 mês"
        ],
        [
         "44",
         "cidade/uf: diadema/sp brasileiro, casado, 1 filho, 38 anos. objetivo: atuar como desenvolvedor php sênior atuando desde 2004 com programação, especialmente com php, mas conhecendo frontend. tive contato com devops, área que gostaria de me aprofundar. experiência principalmente em empresas do ramo educacional, pude desenvolver projetos que alcançaram alunos, pais, professores, funcionários de escolas e de universidades. resumo das qualificações ● 16 anos de experiência com php 5.6 e 4 anos com php 7.4; ● 4 anos de experiência com framework laravel; ● 12 anos de experiência no uso do zend framework 1; ● 3 anos de experiência no uso do zend expressive, laminas e mezzio; ● 16 anos de experiência com banco de dados mysql e 4 anos com oracle; ● 16 anos de uso de biblioteca jquery e 8 anos de uso de bootstrap; ● 4 anos de experiência com versionamento de sistemas com git e gitflow; ● uso de princípios solid, clean code e psrs; ● uso básico de jenkins e scripts de automação em powershell. principais experiências profissionais: desenvolvedor de software na math/tech - 07/2021 a 10/2021 (4 meses) trabalho em squad, utilizando scrum, onde iniciamos o desenvolvimento de um crm para um cliente, utilizando php 7.4 e 8, framework laravel 8, css, bootstrap, jquery, mysql 8, algumas práticas como solid, clean code, design patterns. versionamento com git e testes para automatização de deploy usando o azure devops, pipelines e docker. desenvolvedor php sênior na sisalu - 08/2016 a 07/2021 (5 anos) trabalho solo em diversos módulos de portal (muitos destes desde o início) utilizado por alunos, pais, professores e funcionários de escolas, utilizando php 5.6 e 7.4, frameworks zend expressive, laminas, mezzio, laravel, slim, banco de dados mysql 5.6 (com verificação de performance), micro serviços para interface web e para aplicativo mobile, configuração de servidor iis, integração com serviços como safe2pay, iugu, amazon sqs, rollbar, sentry e slack, versionamento com git e bitbucket. início de uso de continuous integration/continuous delivery (ci/cd) utilizando jenkins e scripts em powershell. analista de sistemas sênior na universidade anhembi morumbi - 06/2011 a 05/2016 (5 anos) trabalho em equipe de programadores, dba’s e analistas funcionais, para manutenção, desenvolvimento e remodelagem de sistemas utilizados pelos alunos, funcionários e professores, com backend em php5 (com zend framework 1), css, jquery, bootstrap, banco de dados oracle (com pl-sql). versionamento dos sistemas em php e também de rotinas no oracle através de svn. analista de sistemas web no instituto mauá de tecnologia - 01/2005 a 06/2011 (6 anos e 6 meses) trabalho solo na programação (com mais um dba) no desenvolvimento desde o início de sistemas para funcionários, professores e alunos, com backend em php5 (com zend framework 1), css, jquery, bancos de dados sql server, mysql (com stored procedures) e oracle (com pl/sql). formação acadêmica: graduação em web design - universidade paulista (2005) idioma: inglês (intermediário)"
        ],
        [
         "45",
         "indaiatuba, são paulo, consultor abap senior | sap | s/4hana | fiori | ui5 sobre trabalho como desenvolvedor desde 1999. me formei em processamento de dados em 2001. pós-graduado em desenvolvimento web em 2002. minha entrada no mercado sap se deu em 2005 como abap. passei por poucas consultorias - assurance, flino, group it e phoron do brasil (onde estou atualmente). experiência phoron do brasil consultor sap abap nome da empresaphoron do brasil tempo integral período do empregojun. de 2013 – o momento duração8 anos 6 meses localidadeindaiatuba, são paulo, brasil voestalpine consultor sap abap nome da empresavoestalpine tempo integral período do empregofev. de 2009 – jun. de 2013 duração4 anos 5 meses localidadesumaré, são paulo, brasil"
        ],
        [
         "46",
         "23 anos avenida raimundo paradera, 184 - são miguel paulista - são paulo, sp. objetivo quality assurance (qa) e tencologias correlacionadas a ti competências conhecimento nas linguagens de programação: java, c# e python. (apis e serviços web) desenvolvimento web com html, css e javascript. sos: windows, linux e mac. quality assurance (qa) – junit 5, seleniume, hp alm, metologia ágil, bdd e jira. formação acadêmica cursando - superior em análise e desenvolvimento de sistemas – 2º semestre unip - universidade paulista em sp. - (conclusão: dezembro/2022) cursos extracurriculares • everis new talents #2 .net - digital innovation one (2021). • everis new talents #2 java - digital innovation one (2021). • everis site reliability engineer essentials - digital innovation one (2021). • everis quality assurance beginner #2 – digital innovation one (2021). • introdução ao teste de software – usp (2021). • inglês básico – microcamp (2014). • informática oficina maquete 3d sketchup – microcamp (2013). • informática oficina de linux ubunto – microcamp (2013). • informática design para web – microcamp (2013). • informática complementar - microcamp (2013). • informática desenvolvimentos de games com o game maker – microcamp (2012). • mega avançado (web design, visual basic, redes e hardware) – mega byte (2012). • mega múltiplo professional (windows, word, excel, power point, access, internet, corel draw, photoshop, hardware) – mega byte (2011). • introdução a informática – telecentro cren vila jacuí (2009) experiência profissional 2020 – 2021 - facta intermediações de negocios. apoio ao uso de tecnologia da informação nos departamentos e equipamentos informáticos da empresa. realização de rotinas de quality assurance (qa) das novas funcionalidades do erp interno. manutenção do website da empresa, gerenciamento de redes interna e focal de ti no escritório. administrador técnico do sistema interno para cadastro e geração de contratos e propostas sistêmicas para submissão a instituição financeira cedente. em testes manuais e funcionais exercendo as atividades: escrita de testes e execução, negociação da estratégia de testes, defeitos e geração de relatórios. usando o hp alm. 2019 – 2020 - sijesus serviços informatica litda. estágio em suporte de sistemas em software varejista (pdv) desenvolvido em java com atendimento de chamados de primeiro nível (n1) e registros das ocorrências no software jira do cliente. prestava suporte a usuários da aplicação erp via chat e e-mail, atendimento de chamados e tickets. manutenções da aplicação em primeiro nível utilizando scripts em banco de dados sql-server e oracle. ferramentas de acesso remoto, execução de testes nas apis e serviços do sistema desenvolvido em java utilizando o aplicativo de testes de serviços web soupui. 2017 – 2019 – powerxl importação e exportação - vendedor 2017 – chevrolet carreira - auxiliar de estoque 2016 – 2017 – azul seguros - analista de sinistros 2014 – 2015 – são paulo previência - estagiário concursado fundap."
        ],
        [
         "47",
         "santos engenheiro eletricista mba em engenharia de software resumo principais competências pessoal controle de demandas, estoque, criação de novos profissional graduado em processos engenharia elétrica e consultorias para empresas cursando mba em engenheira de de rastreamento veicular software, com quatro anos de coordenação de equipes experiência em ti, com o foco operacionais em programação de implementação de gestão equipamentos de rastreamento operacional veicular, gestão de criação de processos contato de veículos. silva, 1030 - caiçaras belo horizonte - mg, 30775- histórico de trabalho 390 oliveira-866b4a1a3 criando processos autônomo - idade: 22 anos - atualmente métodos, cronogramas efetivos para operacional das empresas implementações de novos conquista programas de gestão team leader manutenção de computadores (software e hardware) programado configuração de equipamentos da programação de equipamento r de maxtrack, suntech, karitec, de rastreamento veicular continental, crx equipamentos (maxtrack, suntech, karitec, controle de demandas continental, crx, rst) satplus ltda | julho de 2019 - controle de estoque consultor em gestão de líder de equipe fevereiro de 2021 operações para empresas de realizando novos projetos rastreamento veicular, suporte técnico criando processos cronogramas efetivos estagiário configuração de equipamento de curso de instalação de rastreamento veicular de acordo com bysat automação e rastreadores veiculares e controle estagiário a demanda veículos automotivos. de engenharia | manutenção de periféricos como implementação de sensores de agosto de 2018 - teclado e leitor rfid fadiga, câmeras para julho de 2019 curso de gestão de qualidade da iso exigências da vale 9001 estagiário service desk, sap habilidades e atendimento ao cliente prodabel estagiário competências de ti | fevereiro de 2015 - março de manutenção de computadores (hardware, software) proativo 2016 raciocínio rápido líder de equipe boa comunicação mente aberta histórico acadêmico software gestão de programas html : básico faculdade • engenharia de software · php : intermediário metropolita (08/2021 - 04/2022) java : básico na pacote office: avançado mba em engenharia de controle de estoque autocad: básico centro • engenharia elétrica e eletrônica power bi: intermediário rastreadores veiculares universitário · (02/2017 - 12/2021) (equipamentos, software de de belo monitoramento) horizonte inglês : intermediário na bacherelado em engenharia tfla - inglês elétrica e eletrônica curso nbr 5410 escola • técnico em informática (2014 - técnica vital 2016) brasil • ensino fundamental (2010 - 2013) ensino médio e técnico cursos danki code • front end ( em andamento ) • back end ( em andamento ) full stack master • banco de dados ( em andamento )"
        ],
        [
         "48",
         "consultora sap mm | s/4 hana | fiori sobre profissional da área de sistemas sap r/3 com 21 anos de experiência. atuando como abap por 2 anos e 19 como mm, sendo 16 dedicados a área de consultoria, desenvolvendo e aplicando soluções para empresas de médio e grande porte. conhecimentos em: • implantação, migração e roll out atuando como funcional mm • sólida experiência em levantamento, definição e melhorias de processos • vivência em processos de negócios voltados para área de suprimentos, estoques e fiscal • elaboração de especificações funcionais e técnicas • integração com outros sistemas • habilidades no treinamento a usuários com forte capacidade na coordenação motivacional e integração entre departamentos • localização brasil taxbra • nf-e e grc inbound • suporte • bom conhecimento em linguagem abap • atuação nas versões 3.0f, 4.6c, ecc, s/4 hana e fiori • migração ecc para s/4 hana experiência runtalent consultora sap mm nome da empresaruntalent período do empregodez. de 2020 – o momento duração1 ano prevent senior (ey) - implementação sap s/4 hana e fiori essence sap mm consultant nome da empresaessence período do empregojul. de 2017 – dez. de 2020 duração3 anos 6 meses localidadesão paulo e região, brasil consultora sap mm - cliente gpa membro da equipe de projetos do grupo gpa, participando de pequenos, medios e grandes projetos dentro da companhia. participação no projeto vo2 - migração sap ecc para s/4 hana sonda sap mm consultant nome da empresasonda período do empregoabr. de 2014 – fev. de 2017 duração2 anos 11 meses gol linhas aéreas implementação ecc ehp7 • responsável pela implementação do módulo mm para bases internacionais – (américa latina e eua) • responsável pela implementação da solução grc inbound (automação migo x miro) • apoio localização brasil e suprimentos sonda it brasil fusão entre empresas sonda it e ctis - ecc ehp8 • líder módulo mm • business blueprint realizado nos processos atuais de ambas empresas, realizando a unificação e padronização dos processos, incluindo as interfaces com outros legados • responsável pela localização brasil, suprimentos e estoques • suporte pós go live ver menos decision group consultants sap mm consultant nome da empresadecision group consultants período do empregomai. de 2013 – mar. de 2014 duração11 meses localidadebrasília area, brazil br pharma implementação sap retail (ibm) responsável pela localização brasil meta it sap mm consultant nome da empresameta it período do empregomai. de 2012 – abr. de 2013 duração1 ano localidadesalvador area, brazil bamin bahia mineração - implementação ecc 6.0 • líder módulo de mm • responsável pela localização brasil, suprimentos e estoques • suporte pós go live"
        ],
        [
         "49",
         "ictor luiz simas resumo: profissional com 17 anos de experiência em tecnologia da informação, sendo 15 anos com desenvolvimento em java e suas tecnologias adjacentes bem como plataforma .net/c#, tendo atuado como líder técnico, gestor de desenvolvimento, gestor de projetos, scrum master, arquitetura e engenharia de softwares críticos para empresas de grande porte e multinacionais – vivência com sistemas bancários (hsbc). profundo conhecimento em bancos de dados, padrões de projetos, arquitetura soa, microsserviços, cloud computing, webservices e integração de plataformas. formação: 1. especialização em big data (conclusão em 2021) – católica de santa catarina – jaraguá do sul/sc 2. especialização em gestão do desenvolvimento de produtos inovadores (conclusão em fevereiro de 2018) – unidombosco – curitiba/pr 3. graduação em análise e desenvolvimento de sistemas (conclusão em março de 2017) – unicesumar – maringá/pr 4. graduação em sistemas de telecomunicações – utfpr – curitiba/pr qualificações: gestor de equipes de desenvolvimento e de projetos de software, arquiteto de sistemas resilientes, engenheiro de softwares com atuação em projetos críticos. desenvolvimento java, spring framework, spring boot, hibernate, jdbc, jdbi, bancos de dados relacionais (conhecimento avançado em sql), servidores de aplicação. desenvolvimento em linguagens como c#, c++, c, python, shell script e sql. conhecimento em plataformas cloud computing. conhecimentos técnicos: gestão de projetos: scrum, agile, kanban, waterfall, itil, devops, documentação, bpms. linguagens e plataformas: java, c#, .net core, .net framework, c++, c, sql, python, shell script bash, javascript, typescript. bancos de dados: postgresql, mysql, firebird, firebase, dbii, ms-sql, mongodb e similares. revelo revelo revelo revelo revelo orm: hibernate, nhibernate, entity framework containerização e entregas: docker, rancher, kubernetes, ci/cd mensageria: kafka, mqtt, websphere mq experiências profissionais mais relevantes: [consultor] ndbim (vila nova de famalicão/portugal) – jan 2021/atual arquiteto de sistemas sênior, líder técnico, desenvolvimento de software trabalhando como arquiteto de sistemas em planejamento, definição de arquitetura, tecnologias e metodologias, bem como desenvolvimento de algoritmos complexos e troubleshooting, minha equipe e eu estamos trazendo um sistema de gerenciamento de construção civil, partindo do protótipo até o mercado. conquistas: partindo de um protótipo (mais na ideia do que nas funcionalidades), trazendo um sistema em fase de pré-lançamento do mercado com suas funcionalidades desenvolvidas com princípios de qualidade e reconhecimento científico. [temporário] upflux (jaraguá do sul/sc) – de out/2020 a dez/2020 arquiteto de software e agile coach implementação de metodologias ágeis (agile básico e scrum); introdução de ciclos de descobrimento e desenvolvimento de necessidades dos clientes; desenvolvimento de metodologia interna para acompanhamento e de demandas de desenvolvimento de software; criação de plano de melhoria de arquitetura da ferramenta conquistas: redução no índice de retrabalho em até 80% de acordo com as métricas implementadas. definição clara de processos de comunicação entre setores. [consultor] inlap (jaraguá do sul/sc) – de jun/2015 - atual consultor projetos na área da saúde, healthcare, internet das coisas, smart cities, varejo e outros sistemas. principais tecnologias utilizadas: java, spring, quarkus, kafka, mqtt, protobuf, c#, dotnetcore, python, aws, azure devops, jira, confluence, postgres, mysql, mongodb, redis, dynamodb, docker, rancher, kubernetes principais projetos: lyncas – jaraguá do sul (2020): revelo revelo revelo revelo revelo desenvolvimento de projetos em parceria com a empresa v2com na área de smartgrids. proporcionei a comunicação entre classes de medidores e o sistema central das companhias de distribuição de eletricidade desenvolvendo protocolos de comunicação eficientes e confiáveis baseados em abnt 14522. criação do programa de desenvolvimento de talentos da empresa. simplus - joinville (2020): migração de plataforma monolítica para microserviços e tecnologia aws serverless. análise, planejamento e desenvolvimento de novas funcionalidades para clientes estratégicos. icolabora – são paulo (2019): gestão técnica de equipes e projetos críticos para clientes estratégicos. integração das principais operadoras de telecomunicações com o novo portal anatel consumidor. desenvolvimento de portal de compliance. desenvolvimento de plataforma de telerradiologia, recebendo em mãos um protótipo e desenvolvendo o produto até a entrega para o mercado. acompanhamento do produto junto aos clientes. levantamento de melhorias e aperfeiçoamento. desenvolvimento de plano de negócios e técnicos para integração entre os diversos produtos oferecidos pela empresa para os clientes que utilizam telerradiologia. responsável técnico pelo programa de estágios internacionais em parceria com universidade da bélgica. centro universitário católica de santa catarina – de fevereiro/2019, atual professor de ensino superior – engenharia de software lecionando disciplinas como banco de dados, java, programação orientada a objetos, sistemas operacionais. senai/sc (jaraguá do sul) - de abril/2017, atual professor de ensino superior – engenharia de software lecionando disciplinas como banco de dados, java, programação orientada a objetos, sistemas operacionais e programação para dispositivos de hardware (microcontroladores) desenvolver pesquisas na área de iot, indústria 4.0 e smart cities. revelo revelo revelo revelo revelo hsbc global tecnology (curitiba/pr) – 2008/2009 analista de software responsável por desenvolvimento java e python. responsável também pelo desenvolvimento de ferramentas de automação de processos de gerenciamento dos servidores de aplicação java. idiomas: português – nativo inglês – proficiência (c1) em comunicação oral e escrita francês – básico (estudos em andamento, compreensão de textos em leitura, comunicação oral básica) experiência internacional: vivência na irlanda em 2010 e 2011 onde pude aprender sobre novas culturas, aprimorar o nível de inglês e trabalhar na área de tecnologia da informação no segmento de small offices."
        ]
       ],
       "shape": {
        "columns": 1,
        "rows": 42482
       }
      },
      "text/plain": [
       "0        assistente administrativo santosbatista itapec...\n",
       "1        formação acadêmica ensino médio (2º grau) em e...\n",
       "2        objetivo: área administrativa | financeira res...\n",
       "3        formação ensino médio completo informática int...\n",
       "4        última atualização em 09/11/2021 ­ sp ensino s...\n",
       "                               ...                        \n",
       "42477                                                  NaN\n",
       "42478                                                  NaN\n",
       "42479                                                  NaN\n",
       "42480                                                  NaN\n",
       "42481                                                  NaN\n",
       "Name: cv_pt_cleaned, Length: 42482, dtype: object"
      ]
     },
     "execution_count": 28,
     "metadata": {},
     "output_type": "execute_result"
    }
   ],
   "source": [
    "# Count words for each line\n",
    "df_application['cv_pt_cleaned']\n"
   ]
  },
  {
   "cell_type": "markdown",
   "metadata": {
    "id": "bAoQicT0rqU-"
   },
   "source": [
    "# 3. Limpeza do texto"
   ]
  },
  {
   "cell_type": "code",
   "execution_count": 29,
   "metadata": {
    "executionInfo": {
     "elapsed": 26,
     "status": "ok",
     "timestamp": 1758754630875,
     "user": {
      "displayName": "Lucas Ramos",
      "userId": "09216526235417022731"
     },
     "user_tz": 180
    },
    "id": "35Rurw57ualL"
   },
   "outputs": [],
   "source": [
    "# Create df only with the first 5 lines preserving the column name cv_pt_cleaned\n",
    "# df_application_teste = df_application[:100]\n",
    "df_application_teste = df_application"
   ]
  },
  {
   "cell_type": "code",
   "execution_count": 6,
   "metadata": {
    "colab": {
     "base_uri": "https://localhost:8080/"
    },
    "executionInfo": {
     "elapsed": 4122,
     "status": "ok",
     "timestamp": 1758754634999,
     "user": {
      "displayName": "Lucas Ramos",
      "userId": "09216526235417022731"
     },
     "user_tz": 180
    },
    "id": "IdCxnlThY5c2",
    "outputId": "c1160754-a8a7-4ed6-c9ff-ffed38146324"
   },
   "outputs": [
    {
     "name": "stdout",
     "output_type": "stream",
     "text": [
      "Collecting pt-core-news-sm==3.8.0\n",
      "  Downloading https://github.com/explosion/spacy-models/releases/download/pt_core_news_sm-3.8.0/pt_core_news_sm-3.8.0-py3-none-any.whl (13.0 MB)\n",
      "\u001b[2K     \u001b[38;2;114;156;31m━━━━━━━━━━━━━━━━━━━━━━━━━━━━━━━━━━━━━━━━\u001b[0m \u001b[32m13.0/13.0 MB\u001b[0m \u001b[31m43.3 MB/s\u001b[0m  \u001b[33m0:00:00\u001b[0m\u001b[31m40.7 MB/s\u001b[0m eta \u001b[36m0:00:01\u001b[0m\n",
      "\u001b[?25h\u001b[38;5;2m✔ Download and installation successful\u001b[0m\n",
      "You can now load the package via spacy.load('pt_core_news_sm')\n",
      "\u001b[38;5;3m⚠ Restart to reload dependencies\u001b[0m\n",
      "If you are in a Jupyter or Colab notebook, you may need to restart Python in\n",
      "order to load all the package's dependencies. You can do this by selecting the\n",
      "'Restart kernel' or 'Restart runtime' option.\n"
     ]
    }
   ],
   "source": [
    "import spacy.cli\n",
    "spacy.cli.download(\"pt_core_news_sm\")\n",
    "import spacy\n",
    "\n",
    "# carregar modelo para português\n",
    "nlp = spacy.load(\"pt_core_news_sm\")\n",
    "\n",
    "def remove_person_names(text: str) -> str:\n",
    "    doc = nlp(text)\n",
    "    return \" \".join([token.text for token in doc if token.ent_type_ != \"PER\"])"
   ]
  },
  {
   "cell_type": "code",
   "execution_count": 7,
   "metadata": {
    "colab": {
     "base_uri": "https://localhost:8080/"
    },
    "executionInfo": {
     "elapsed": 4,
     "status": "ok",
     "timestamp": 1758754635021,
     "user": {
      "displayName": "Lucas Ramos",
      "userId": "09216526235417022731"
     },
     "user_tz": 180
    },
    "id": "PTxj_M1S20BL",
    "outputId": "503dae56-5412-4d33-9086-2130cd3f8158"
   },
   "outputs": [
    {
     "name": "stderr",
     "output_type": "stream",
     "text": [
      "[nltk_data] Downloading package punkt to /home/lucas-\n",
      "[nltk_data]     nunes/nltk_data...\n",
      "[nltk_data]   Package punkt is already up-to-date!\n",
      "[nltk_data] Downloading package punkt_tab to /home/lucas-\n",
      "[nltk_data]     nunes/nltk_data...\n",
      "[nltk_data]   Package punkt_tab is already up-to-date!\n",
      "[nltk_data] Downloading package rslp to /home/lucas-nunes/nltk_data...\n",
      "[nltk_data]   Package rslp is already up-to-date!\n"
     ]
    }
   ],
   "source": [
    "nltk.download(\"punkt\")\n",
    "nltk.download(\"punkt_tab\")\n",
    "nltk.download('rslp')\n",
    "\n",
    "from nltk.tokenize import word_tokenize\n",
    "from nltk.stem import RSLPStemmer\n",
    "\n",
    "# inicializa stemmer\n",
    "stemmer = RSLPStemmer()\n",
    "\n",
    "def normalize_accents(text: str) -> str:\n",
    "    return unicodedata.normalize(\"NFKD\", text).encode(\"ASCII\", \"ignore\").decode(\"utf-8\")\n",
    "\n",
    "def remove_punctuation(text: str) -> str:\n",
    "    table = str.maketrans({key: \" \" for key in string.punctuation})\n",
    "    return text.translate(table)\n",
    "\n",
    "def normalize_str(text: str) -> str:\n",
    "    text = text.lower()\n",
    "    text = re.sub(r\"\\d+\", \" \", text)           # remove números\n",
    "    text = remove_punctuation(text)            # remove pontuação\n",
    "    text = normalize_accents(text)             # remove acentos\n",
    "    text = re.sub(r\"\\s+\", \" \", text).strip()   # normaliza espaços\n",
    "    return text\n",
    "\n",
    "def tokenizer(text: str):\n",
    "    stop_words_br = set(nltk.corpus.stopwords.words(\"portuguese\"))\n",
    "    #stop_words_en = set(nltk.corpus.stopwords.words(\"english\"))\n",
    "    if isinstance(text, str):\n",
    "        text = normalize_str(text)                                              # normaliza string\n",
    "        text = remove_person_names(text)                                        # remove nomes\n",
    "        tokens = word_tokenize(text, language=\"portuguese\")                     # tokeniza para a lingua portuguesa\n",
    "        tokens = [t for t in tokens if t not in stop_words_br and len(t) > 2]\n",
    "        #tokens = [t for t in tokens if t not in stop_words_en and len(t) > 2]\n",
    "        tokens = [stemmer.stem(t) for t in tokens]                              # stemiza tokens\n",
    "        return tokens\n",
    "    return None"
   ]
  },
  {
   "cell_type": "code",
   "execution_count": 32,
   "metadata": {
    "colab": {
     "base_uri": "https://localhost:8080/"
    },
    "executionInfo": {
     "elapsed": 23907,
     "status": "ok",
     "timestamp": 1758754658930,
     "user": {
      "displayName": "Lucas Ramos",
      "userId": "09216526235417022731"
     },
     "user_tz": 180
    },
    "id": "dDD7gdNw24Pc",
    "outputId": "3192d2c8-a43d-4a23-a08d-05809ea5b1f2"
   },
   "outputs": [],
   "source": [
    "df_application_teste['cv_tokenizado'] = df_application_teste['cv_pt_cleaned'].apply(tokenizer)"
   ]
  },
  {
   "cell_type": "code",
   "execution_count": 36,
   "metadata": {
    "colab": {
     "base_uri": "https://localhost:8080/",
     "height": 424
    },
    "executionInfo": {
     "elapsed": 31,
     "status": "ok",
     "timestamp": 1758754658958,
     "user": {
      "displayName": "Lucas Ramos",
      "userId": "09216526235417022731"
     },
     "user_tz": 180
    },
    "id": "c_NQpYvb28gc",
    "outputId": "c2557718-8c5c-45cd-bdb7-fe820f9d888b"
   },
   "outputs": [],
   "source": [
    "df_application_teste = df_application_teste[['cv_pt_cleaned', 'cv_tokenizado']]"
   ]
  },
  {
   "cell_type": "code",
   "execution_count": 38,
   "metadata": {},
   "outputs": [],
   "source": [
    "df_application_teste.to_parquet('/home/lucas-nunes/workspace/Postech/challenges/5_data/data/gold/talent_pool_token_2.parquet')"
   ]
  },
  {
   "cell_type": "code",
   "execution_count": 3,
   "metadata": {},
   "outputs": [],
   "source": [
    "df_application_teste = pd.read_parquet('/home/lucas-nunes/workspace/Postech/challenges/5_data/data/gold/talent_pool_token_2.parquet')"
   ]
  },
  {
   "cell_type": "code",
   "execution_count": 4,
   "metadata": {},
   "outputs": [
    {
     "data": {
      "application/vnd.microsoft.datawrangler.viewer.v0+json": {
       "columns": [
        {
         "name": "index",
         "rawType": "int64",
         "type": "integer"
        },
        {
         "name": "cv_pt_cleaned",
         "rawType": "object",
         "type": "unknown"
        },
        {
         "name": "cv_tokenizado",
         "rawType": "object",
         "type": "unknown"
        }
       ],
       "ref": "9625be73-5cd2-49d7-be63-e39c79f73c9c",
       "rows": [
        [
         "0",
         "assistente administrativo santosbatista itapecerica da serra/sp 29 anos ▪ brasileiro ▪ casado formação acadêmica  bacharel - ciências contábeis centro universitário ítalo brasileiro jul/2015 - dez/2018  graduação - gestão financeira centro universitário anhanguera jan/2013 - dez/2014 habilidades  contas a pagar e receber  excel avançado  indicadores kpi’s  notas fiscais, cfop’s  fechamento contábil  emissão de boletos  guias  impostos  budget  controladoria  sistemas integrados: totvs; folha matic; navision resumo profissional profissional com experiência nos departamentos financeiro, contábil, fiscal e controladoria jurídica. elaboração e análise de indicadores kpi’s de resultado, relatórios, guias, gestão de pagamentos, notas fiscais, boletos, fechamento financeiro e contábil fiscal. softwares erp protheus, folha matic, navision, elaw e sapiens, excel avançado, (kpi's, painéis de dashboard e automatização). histórico profissional  01/2021 – 07/2021 fcn contabilidade freight forwarder assistente contábil conciliações contábeis, financeira, folha de pagamento, fiscal, lançamentos contábeis, exportações txt, análise e elaboração de relatórios, fechamento contábil, análise fiscal e contabilização de folha de pagamento, sistema folha matic.  10/2020 – 01/2021 almeida advogados assistente financeiro gestão de pagamentos, baixa de boletos, relatórios gerenciais.  04/2019 – 06/2019 fedex brasil logistica e transporte ltda assistente juridico responsável pelo fechamento mensal através das apurações de provisões e reclassificações contábeis, elaboração de indicadores financeiros e desempenho, automatização de planilhas, análise de budget e real vs orçado.  07/2017 – 11/2018 atonanni construções e serviços ltda assistente contábil / fiscal lançamento de notas fiscais, apurações dos impostos (iss, pis, cofins, cprb, ir, csll). guias de pagamentos, sped fiscais, relatórios, xml, cfop, ncm.  06/2014 – 07/2017 iss servisytem do brasil ltda assistente de controladoria contas a pagar e a receber, análises contábeis e financeiras, reembolsos, p.o’s. gestão de custos, budget, real vs orçado, indicadores, kpi’s e mapeamento de melhorias.  04/2013 – 06/2014 n & n comércio de alimentos ltda assistente financeiro contas a pagar e a receber, boletos, relatórios gerenciais. baixa de notas fiscais, concilação financeira, negociações de pagamentos",
         "['assist' 'administr' 'santosbat' 'itapecer' 'serr' 'ano' 'brasil' 'cas'\n 'formaca' 'academ' 'bacharel' 'cienc' 'contabel' 'centr' 'universitari'\n 'ital' 'brasil' 'jul' 'dez' 'graduaca' 'gesta' 'financ' 'centr'\n 'universitari' 'anhangu' 'jan' 'dez' 'habil' 'cont' 'pag' 'receb' 'excel'\n 'avanc' 'indic' 'kpil' 'not' 'fiscal' 'cfop' 'fech' 'contavel' 'emissa'\n 'bolet' 'gui' 'impost' 'budget' 'controlad' 'sistem' 'integr' 'totv'\n 'folh' 'matic' 'navision' 'resum' 'profiss' 'profiss' 'experienc'\n 'departament' 'financ' 'contavel' 'fiscal' 'controlad' 'jurid'\n 'elaboraca' 'analis' 'indic' 'kpil' 'result' 'relatori' 'gui' 'gesta'\n 'pag' 'not' 'fiscal' 'bolet' 'fech' 'financ' 'contavel' 'fiscal' 'softw'\n 'erp' 'proth' 'folh' 'matic' 'navision' 'elaw' 'sapi' 'excel' 'avanc'\n 'kpi' 'painel' 'automatizaca' 'histor' 'profiss' 'fcn' 'contabil'\n 'freight' 'forward' 'assist' 'contavel' 'conciliaco' 'contabel' 'financ'\n 'folh' 'pag' 'fiscal' 'lanc' 'contabel' 'exportaco' 'txt' 'analis'\n 'elaboraca' 'relatori' 'fech' 'contavel' 'analis' 'fiscal'\n 'contabilizaca' 'folh' 'pag' 'sistem' 'folh' 'alme' 'advog' 'assist'\n 'financ' 'gesta' 'pag' 'baix' 'bolet' 'relatori' 'gerenc' 'fedex'\n 'brasil' 'logis' 'transport' 'ltd' 'assist' 'jurid' 'responsa' 'fech'\n 'mens' 'atrav' 'apuraco' 'proviso' 'reclassificaco' 'contabel'\n 'elaboraca' 'indic' 'financ' 'desempenh' 'automatizaca' 'planilh'\n 'analis' 'budget' 'real' 'orc' 'atonann' 'construco' 'serv' 'ltd'\n 'assist' 'contavel' 'fiscal' 'lanc' 'not' 'fiscal' 'apuraco' 'impost'\n 'is' 'pi' 'cofim' 'cprb' 'csll' 'gui' 'pag' 'sped' 'fiscal' 'relatori'\n 'xml' 'cfop' 'ncm' 'is' 'servisyt' 'brasil' 'ltd' 'assist' 'controlad'\n 'cont' 'pag' 'receb' 'analis' 'contabel' 'financ' 'reembols' 'gesta'\n 'cust' 'budget' 'real' 'orc' 'indic' 'kpil' 'mape' 'melh' 'comerci'\n 'aliment' 'ltd' 'assist' 'financ' 'cont' 'pag' 'receb' 'bolet' 'relatori'\n 'gerenc' 'baix' 'not' 'fiscal' 'concilaca' 'financ' 'negociaco' 'pag']"
        ],
        [
         "1",
         "formação acadêmica ensino médio (2º grau) em ensino médio (2º grau), beatriz lopes em sp jan. 2010 até dez. 2012 ensino superior em administração de empresas, unip em sp jun. 2016 - trancado experiência profissional analista administrativo de operações, liq em são paulo - sp mai. 2018 até o momento administração - administração geral (analista) auxiliar na área de bi (business intelligence). extração de informação e análise de relatórios gerenciais, acompanhamento dos processos para as áreas financeiras,rh,operacional. suporte a toda área de backoffice, suporte a todos os supervisores. criação de indicadores (dashboard) pelo excel. analista de operações em trade com todo suporte a equipe de supervisores e gerentes. estagiaria, ballmash modas e confecções ltda eireli epp em sp jan. 2017 até nov. 2017 administração - administração geral (estagiário) atividades: administração geral. auxilio na conferencia do caixa e controle de vendas no cartão, lançamentos de dados em planilha, contas a pagar, emissão e lançamento de notas fiscal. auxiliar no arquivo de documentos, atendimento telefônico e anotações, atendimento ao público. operador de caixa, parque da mônica em sp out. 2015 até jul. 2016 comercial, vendas - atendimento (operacional) operação de pdv atendimento ao publico . operadora de teleatendimento, rede bem estar em sp fev. 2015 até jul. 2015 telemarketing - telemarketing / call center ativo (operacional) agendamentos e vendas . vendas atendente, cinemark brasil em sp jan. 2012 até fev. 2014 cultura, lazer, entretenimento - entretenimento (operacional) atendimento e recepção ao cliente em todos os setores .matemática comercial transição de cartão seja ele de débito ou crédito até mesmo título de crédito dentre outras atribuições. promover vendas de produtos e serviços em comunicação direta ao cliente. informática: banco de dados: caché programação: html aplicações de escritório: microsoft access, microsoft excel, microsoft outlook, microsoft powerpoint, microsoft word, open office sistemas operacionais: windows, linux outros programas: edição de som, edição de video",
         "['formaca' 'academ' 'ensin' 'medi' 'grau' 'ensin' 'medi' 'grau' 'jan'\n 'ate' 'dez' 'ensin' 'superi' 'administraca' 'empr' 'unip' 'jun' 'tranc'\n 'experienc' 'profiss' 'anal' 'administr' 'operaco' 'liq' 'sao' 'paul'\n 'ate' 'moment' 'administraca' 'administraca' 'geral' 'anal' 'auxili'\n 'are' 'busines' 'intelligenc' 'extraca' 'informaca' 'analis' 'relatori'\n 'gerenc' 'acompanh' 'process' 'are' 'financ' 'operac' 'suport' 'tod'\n 'are' 'backoff' 'suport' 'tod' 'supervi' 'criaca' 'indic' 'dashboard'\n 'excel' 'anal' 'operaco' 'trad' 'tod' 'suport' 'equip' 'supervi' 'gerent'\n 'estagi' 'ballmash' 'mod' 'confecco' 'ltd' 'eirel' 'epp' 'jan' 'ate'\n 'nov' 'administraca' 'administraca' 'geral' 'estagiari' 'ativ'\n 'administraca' 'geral' 'auxili' 'conferenc' 'caix' 'control' 'vend'\n 'carta' 'lanc' 'dad' 'planilh' 'cont' 'pag' 'emissa' 'lanc' 'not'\n 'fiscal' 'auxili' 'arqu' 'document' 'atend' 'telefon' 'anotaco' 'atend'\n 'publ' 'oper' 'caix' 'parqu' 'monic' 'out' 'ate' 'jul' 'comerc' 'vend'\n 'atend' 'operac' 'operaca' 'pdv' 'atend' 'publ' 'oper' 'teleatend' 'red'\n 'bem' 'fev' 'ate' 'cent' 'ativ' 'operac' 'agend' 'vend' 'vend' 'atend'\n 'cinemark' 'brasil' 'jan' 'ate' 'fev' 'cult' 'laz' 'entreten' 'entreten'\n 'operac' 'atend' 'recepca' 'client' 'tod' 'set' 'matema' 'comerc'\n 'transica' 'carta' 'debit' 'credit' 'ate' 'titul' 'credit' 'dentr' 'outr'\n 'atribuico' 'promov' 'vend' 'produt' 'serv' 'comunicaca' 'diret' 'client'\n 'informa' 'banc' 'dad' 'cach' 'programaca' 'html' 'aplicaco' 'escritori'\n 'microsoft' 'acces' 'microsoft' 'excel' 'microsoft' 'outlook' 'microsoft'\n 'powerpoint' 'microsoft' 'word' 'open' 'offic' 'sistem' 'operac' 'window'\n 'linux' 'outr' 'program' 'edica' 'som' 'edica' 'vide']"
        ],
        [
         "2",
         "objetivo: área administrativa | financeira resumo profissional graduada em administração de empresas e cursando tecnologia em gestão da cadeia de suprimentos e logística. profissional com mais de 11 anos de experiência nas áreas administrativa e financeira. atuei em empresas de diversos tamanhos e seguimentos, inclusive multinacionais no ramo de cosméticos, alimentício, e-commerce e operações/facilities. possuo experiência em análise, lançamento e controle de despesas de cartão corporativo; emissão de nota fiscal de serviço e confecção de boleto bancário; lançamento de fatura e contabilização de nfe pelo software gerencial sap (módulo financeiro mm/fi); conciliação bancária, fluxo de caixa; follow-up de contas a pagar e a receber, formulação de planilhas gerenciais diversas; negociação e cobrança de clientes inadimplentes; controle de processo de requisição de compra de equipamentos de segurança. conhecimento de danfe, arquivo xml, cfop, emissão e apuração de guia de imposto federal, municipal e estadual. capacitada a utilizar os sistemas de gestão sap, gosoft, legal manager, foconet e conhecimentos em sistemas bancários. inglês intermediário (interrompido). formação acadêmica tecnologia em gestão da cadeia de suprimentos e logística - cursando faculdade de tecnologia do estado de são paulo - fatec graduação em administração de empresas - concluído universidade paulista - unip idioma inglês intermediário - interrompido cna - cultural norte americano experiência profissional 07/2020 a 08/2021 cushman & wakefield consultoria imobiliária analista administrativo de operações - responsável pelo controle e gestão de contas a receber; - cálculo de rateio de despesa e elaboração de comunicados; - cobrança de inadimplentes; - input de certidão correlacionada a fornecedor (crf, cnd e tributos mobiliários); - elaboração de carta de depósito e planilhas gerenciais; - lançamento de nota fiscal de serviço e de consumo; - análise e acompanhamento de documentação (devec, iptu e outros); - suporte ao gerente, dirigente e equipe de operações. 12/2017 a 06/2020 higitec desentupimento e dedetização financeiro - emissão de nota fiscal de serviço; - emissão de boleto bancário pelos sistemas ecobrança caixa, itaú banking e yespay; - geração de relatórios para o gerenciamento de contas a receber; - negociação e cobrança de cliente, referente cheque devolvido e boleto em aberto; - controle de processos jurídicos relacionados a fornecedores; - suporte ao diretor, gerente, departamento financeiro e áreas correlatas. 06/2014 a 05/2015 yoki alimentos analista administrativo de vendas - recebimento, análise, lançamento e controle das despesas de cartão corporativo empresarial; - formulação de planilhas gerenciais e controle dos gastos gerais da matriz e regionais do brasil; - suporte ao diretor e a equipe de vendas; - input no sistema smk de notas fiscais de serviços e de consumo (danfe), faturas e reembolsos; - responsável pelo processo de requisição de compra de equipamentos de segurança, suprindo as necessidades do key account, regionais de todo brasil e do evento foco da companhia; - levantamento e análise dos gastos com hotéis e passagens aéreas dos colaboradores; - criação e manutenção de manuais, tendo como intuito facilitar a compreensão dos processos; - responsável por dar treinamento aos novos funcionários da companhia. 08/2013 a 06/2014 meta bpo (cliente: nivea) assistente contábil assistente administrativo - lançamento de processo de folha de pagamento no sistema sap (rescisão, férias, empréstimo para funcionário, salário e pensão alimentícia); - lançamento do formulário de reembolso de despesa de vendas, nota de débito, fatura, boleto, nota de honorário e invoice; - contabilização de notas fiscais no sistema sap (módulo financeiro mm/fi); - recebimento, análise, verificação e input no sistema de nota fiscal de serviço e consumo; - análise de imposto federal, estadual e municipal (pis / cofins / csll / inss / iss / icms); - lançamento de danfe, conferência de arquivo xml e cfop; - formulação de planilha de controle gerencial referente as despesas com convenção internacional e despesas mensais do cartão corporativo. 03/2008 a 10/2012 condomínio residencial ouro preto assistente administrativo estagiário administrativo - controle de contas a pagar e a receber; - conciliação bancária, follow-up e gestão do fluxo de caixa; - elaboração de balancete e boleto bancário; - cobrança e negociação com condôminos; formação complementar técnico em gestão administrativo empresarial - concluído escola profissional nossa senhora de fátima informática pacote office (sos computadores) - concluído sistemas de gestão sap, gosolft, legal manager, foconet e conhecimentos em sistemas bancários.",
         "['obje' 'are' 'administr' 'financ' 'resum' 'profiss' 'gradu'\n 'administraca' 'empr' 'curs' 'tecnolog' 'gesta' 'cade' 'supr' 'logis'\n 'profiss' 'ano' 'experienc' 'are' 'administr' 'financ' 'atu' 'empr'\n 'divers' 'tamanh' 'segu' 'inclusiv' 'multinac' 'ram' 'cosme' 'alimentici'\n 'commerc' 'operaco' 'faciliti' 'possu' 'experienc' 'analis' 'lanc'\n 'control' 'desp' 'carta' 'corpor' 'emissa' 'not' 'fiscal' 'serv'\n 'confecca' 'bolet' 'bancari' 'lanc' 'fatur' 'contabilizaca' 'nfe' 'softw'\n 'gerenc' 'sap' 'modul' 'financ' 'conciliaca' 'banc' 'flux' 'caix'\n 'follow' 'cont' 'pag' 'receb' 'formulaca' 'planilh' 'gerenc' 'divers'\n 'negociaca' 'cobranc' 'client' 'inadimpl' 'control' 'process' 'requisica'\n 'compr' 'equip' 'seguranc' 'conhec' 'danf' 'arqu' 'xml' 'cfop' 'emissa'\n 'apuraca' 'gui' 'impost' 'feder' 'municip' 'estad' 'capacit' 'utiliz'\n 'sistem' 'gesta' 'sap' 'gosoft' 'legal' 'manag' 'foconet' 'conhec'\n 'sistem' 'bancari' 'ingl' 'intermediari' 'interromp' 'formaca' 'academ'\n 'tecnolog' 'gesta' 'cade' 'supr' 'logis' 'curs' 'faculdad' 'tecnolog'\n 'est' 'sao' 'paul' 'fatec' 'graduaca' 'administraca' 'empr' 'conclu'\n 'univers' 'paul' 'unip' 'idiom' 'ingl' 'intermediari' 'interromp' 'cna'\n 'cult' 'nort' 'americ' 'experienc' 'profiss' 'cushman' 'wakefield'\n 'consult' 'imobili' 'anal' 'administr' 'operaco' 'responsa' 'control'\n 'gesta' 'cont' 'receb' 'calcul' 'ratei' 'desp' 'elaboraca' 'comunic'\n 'cobranc' 'inadimpl' 'input' 'certida' 'correlacion' 'fornec' 'crf' 'cnd'\n 'tribut' 'mobiliari' 'elaboraca' 'cart' 'deposit' 'planilh' 'gerenc'\n 'lanc' 'not' 'fiscal' 'serv' 'consum' 'analis' 'acompanh' 'documentaca'\n 'devec' 'iptu' 'outr' 'suport' 'gerent' 'dirig' 'equip' 'operaco'\n 'higitec' 'desentup' 'dedetizaca' 'financ' 'emissa' 'not' 'fiscal' 'serv'\n 'emissa' 'bolet' 'bancari' 'sistem' 'ecobranc' 'caix' 'itau' 'banking'\n 'yespay' 'geraca' 'relatori' 'gerenc' 'cont' 'receb' 'negociaca'\n 'cobranc' 'client' 'refer' 'chequ' 'devolv' 'bolet' 'abert' 'control'\n 'process' 'jurid' 'relacion' 'fornec' 'suport' 'dire' 'gerent'\n 'departament' 'financ' 'are' 'correlat' 'yok' 'aliment' 'anal'\n 'administr' 'vend' 'receb' 'analis' 'lanc' 'control' 'desp' 'carta'\n 'corpor' 'empresar' 'formulaca' 'planilh' 'gerenc' 'control' 'gast'\n 'geral' 'matriz' 'region' 'brasil' 'suport' 'dire' 'equip' 'vend' 'input'\n 'sistem' 'smk' 'not' 'fiscal' 'serv' 'consum' 'danf' 'fatur' 'reembols'\n 'responsa' 'process' 'requisica' 'compr' 'equip' 'seguranc' 'supr'\n 'necess' 'key' 'account' 'region' 'tod' 'brasil' 'event' 'foc' 'companh'\n 'levant' 'analis' 'gast' 'hotel' 'pass' 'aere' 'colabor' 'criaca'\n 'manutenca' 'man' 'tend' 'intuit' 'facil' 'compreensa' 'process'\n 'responsa' 'dar' 'trein' 'nov' 'funcionari' 'companh' 'met' 'bpo'\n 'client' 'nive' 'assist' 'contavel' 'assist' 'administr' 'lanc' 'process'\n 'folh' 'pag' 'sistem' 'sap' 'rescisa' 'fer' 'emprest' 'funcionari'\n 'salari' 'pensa' 'alimentic' 'lanc' 'formulari' 'reembols' 'desp' 'vend'\n 'not' 'debit' 'fatur' 'bolet' 'not' 'honorari' 'invo' 'contabilizaca'\n 'not' 'fiscal' 'sistem' 'sap' 'modul' 'financ' 'receb' 'analis'\n 'verificaca' 'input' 'sistem' 'not' 'fiscal' 'serv' 'consum' 'analis'\n 'impost' 'feder' 'estad' 'municip' 'pi' 'cofim' 'csll' 'ins' 'is' 'icm'\n 'lanc' 'danf' 'conferenc' 'arqu' 'xml' 'cfop' 'formulaca' 'planilh'\n 'control' 'gerenc' 'refer' 'desp' 'convenca' 'internac' 'desp' 'mens'\n 'carta' 'corpor' 'condomini' 'resid' 'our' 'pret' 'assist' 'administr'\n 'estagiari' 'administr' 'control' 'cont' 'pag' 'receb' 'conciliaca'\n 'banc' 'follow' 'gesta' 'flux' 'caix' 'elaboraca' 'balancet' 'bolet'\n 'bancari' 'cobranc' 'negociaca' 'condomin' 'formaca' 'complement' 'tecn'\n 'gesta' 'administr' 'empresar' 'conclu' 'escol' 'profiss' 'senh' 'fat'\n 'informa' 'pacot' 'offic' 'so' 'comput' 'conclu' 'sistem' 'gesta' 'sap'\n 'gosolft' 'legal' 'conhec' 'sistem' 'bancari']"
        ],
        [
         "3",
         "formação ensino médio completo informática intermediaria (excel, word, internet, outlook) administração financeira – senac experiência 07/02/2021 á atual – teleperformance crm s/a. principais atividades: ativo em vendas para a philip morris cigarros marlboro. 09/01/2020 á 10/02/2021 – foxtime recursos humanos principais atividades: prestação de serviços para o banco aymoré financiamentos de veículos. 21/12/2015 á 05/07/2019 – kpmg assurance services ltda. principais atividades: análise de processos judiciais pessoa física e jurídica, a fim de evitar riscos para empresa com a contratação de novos clientes. consiste em uma pesquisa a respeito da reputação e integridade da entidade e proprietários/administradores. gerenciamento das solicitações recebidas pelo cliente. 01/09/2015 á 19/12/2015 – royal academia ltda principais atividades: recepção de alunos e funcionários, funções administrativas. 01/02/2013 á14/01/2015 – malta assessoria de cobranças ltda principais atividades: realizar análise nos documentos pessoais e jurídicos, contato com cliente verificando se a indícios de fraude (utilizando os sistemas crivo/receita federal/mdb/aciona registro das analise dos clientes/sistemas tim). 03/10/2011 à 18/05/2012- vetdantas produtos para animais ltda- me bancário, emissão e liberação de pedidos, contas a pagar e receber. qualificações profissional com excelente comunicação e experiência em atendimento, pleno domínio da rotina administrativa, boa digitação, bom raciocínio lógico, dedicada, adaptável a mudanças e de fácil relacionamento",
         "['formaca' 'ensin' 'medi' 'complet' 'informa' 'intermedi' 'excel' 'word'\n 'internet' 'outlook' 'administraca' 'financ' 'experienc' 'atual'\n 'teleperformanc' 'crm' 'princip' 'ativ' 'ativ' 'vend' 'marlbor' 'foxtim'\n 'recurs' 'human' 'princip' 'ativ' 'prestaca' 'serv' 'banc' 'aymor'\n 'financ' 'veicul' 'kpmg' 'assuranc' 'serv' 'ltd' 'princip' 'ativ'\n 'analis' 'process' 'judic' 'pesso' 'fisic' 'jurid' 'fim' 'evit' 'risc'\n 'empr' 'contrataca' 'nov' 'client' 'cons' 'pesquis' 'respeit' 'reputaca'\n 'integr' 'entidad' 'proprietari' 'administr' 'gerenc' 'solicitaco'\n 'receb' 'client' 'royal' 'academ' 'ltd' 'princip' 'ativ' 'recepca' 'alun'\n 'funcionari' 'funco' 'administr' 'malt' 'assess' 'cobranc' 'ltd'\n 'princip' 'ativ' 'realiz' 'analis' 'document' 'pessoal' 'jurid' 'contat'\n 'client' 'verific' 'indici' 'fraud' 'utiliz' 'sistem' 'criv' 'receit'\n 'feder' 'mdb' 'aci' 'registr' 'analis' 'client' 'sistem' 'tim' 'vetdant'\n 'produt' 'animal' 'ltd' 'bancari' 'emissa' 'liberaca' 'ped' 'cont' 'pag'\n 'receb' 'qualificaco' 'profiss' 'excel' 'comunicaca' 'experienc' 'atend'\n 'plen' 'domini' 'rotin' 'administr' 'boa' 'digitaca' 'bom' 'raciocini'\n 'logic' 'dedic' 'adapta' 'mudanc' 'facil' 'relacion']"
        ],
        [
         "4",
         "última atualização em 09/11/2021 ­ sp ensino superior em administração de empresas, anhanguera educacional em sp de 01/2016 até 06/2020 objetivos profissionais administração ­ administração geral logística ­ transporte contábil, finanças, economia ­ contas a pagar e receber r$ 4000,00 ­ 5000,00 (bruto mensal) período integral efetivo – clt assistente ­ analista experiência profissional analista administrativo pleno, yamaha motor do brasil corretora de seguros ltda em guarulhos ­ sp ago. 2013 até o momento administração ­ administração geral (analista) faturamento de seguro proteção financeira do banco yamaha, acompanhamento e suporte para sinistros de seguro proteção financeira, abertura e acompanhamento de sinistros de vida para funcionários da empresa. receber e enviar correspondências e documentos.controlar contas a pagar e receitas.elaborar relatório financeiro. realizar faturamentos e última atualização em 09/11/2021 ­ sp analista administrativo pleno, yamaha motor do brasil corretora de seguros ltda em sp de 08/2013 até o momento administração ­ administração geral (analista) faturamento de seguro proteção financeira do banco yamaha, acompanhamento e suporte para sinistros de seguro proteção financeira, abertura e acompanhamento de sinistros de vida para funcionários da e... +info ensino superior em administração de empresas, anhanguera educacional em sp de 01/2016 até 06/2020 redes sociais averbações do departamento logistico. manter arquivos e cadastros de informações atualizados. assessorar gerentes e líderes com questões práticas da rotina de trabalho, como preparar documentos, prestar informações ao público, responder e­mails.funcionalidades de monitoramento em averbações no sistema at&m. funcionalidades sistema oracle, operações varejo autbank, teleport e dados para power bi. averbações do departamento logistico. manter arquivos e cadastros de informações atualizados. assessorar gerentes e líderes com questões práticas da rotina de trabalho, como preparar documentos, prestar informações ao público, responder e­mails.funcionalidades de monitoramento em averbações no sistema at&m. funcionalidades sistema oracle, operações varejo autbank, teleport e dados para power bi. auxiliar coordenação, escola superior paulista de administração em sp set. 2011 até ago. 2013 educação, ensino, idiomas ­ ensino superior (assistente) atendimento ao professor, funções sistêmicas, conhecimento em totvs, agendamento de reuniões, elaboração de documentos (atas, pautas, certificados, declarações, planilhas no excel), atendimento ao aluno, elaboração de horário semestral por curso, elaboração de ponto e envio de e­mails. auxiliar administrativo, vanderlei navilli peças me em sp fev. 2006 até ago. 2010 administração ­ administração geral (auxiliar) conhecimento prático em world, excel e corel draw. serviços de escritório, controle financeiro, atendimento ao cliente e atendimento pabx, agendamento de reuniões e serviços gerais.prospecção, venda, abertura, fechamento e resoluções de caixa, controle de emissões de notas fiscais de entrada e saídas. informática: banco de dados: oracle gráficos/web: coreldraw aplicações de escritório: microsoft access, microsoft excel, microsoft word, microsoft outlook, microsoft powerpoint sistemas operacionais: windows, unix outros programas: erp, crm idiomas português, nativo japonês, intermediário dados complementares disponibilidade para viajar disponibilidade para mudar de residência carteira de habilitação dados pessoais sim sim a, b nasceu em 8 de fevereiro de 1992, 29 anos. feminino, casado",
         "['ult' 'atualizaca' 'ensin' 'superi' 'administraca' 'empr' 'anhangu'\n 'educac' 'ate' 'obje' 'profiss' 'administraca' 'administraca' 'geral'\n 'logis' 'transport' 'contavel' 'financ' 'econom' 'cont' 'pag' 'receb'\n 'brut' 'mens' 'period' 'integr' 'efet' 'clt' 'assist' 'anal' 'experienc'\n 'profiss' 'anal' 'administr' 'plen' 'yamah' 'motor' 'brasil' 'corre'\n 'segur' 'ltd' 'guarulh' 'ago' 'ate' 'moment' 'administraca'\n 'administraca' 'geral' 'anal' 'fatur' 'segur' 'proteca' 'financ' 'banc'\n 'yamah' 'acompanh' 'suport' 'sinistr' 'segur' 'proteca' 'financ' 'abert'\n 'acompanh' 'sinistr' 'vid' 'funcionari' 'empr' 'receb' 'envi'\n 'correspondenc' 'document' 'control' 'cont' 'pag' 'receit' 'elabor'\n 'relatori' 'financ' 'realiz' 'fatur' 'ult' 'atualizaca' 'anal'\n 'administr' 'plen' 'yamah' 'motor' 'brasil' 'corre' 'segur' 'ltd' 'ate'\n 'moment' 'administraca' 'administraca' 'geral' 'anal' 'fatur' 'segur'\n 'proteca' 'financ' 'banc' 'yamah' 'acompanh' 'suport' 'sinistr' 'segur'\n 'proteca' 'financ' 'abert' 'acompanh' 'sinistr' 'vid' 'funcionari' 'inf'\n 'ensin' 'superi' 'administraca' 'empr' 'anhangu' 'educac' 'ate' 'red'\n 'soc' 'averbaco' 'departament' 'logis' 'mant' 'arqu' 'cadastr'\n 'informaco' 'atual' 'assessor' 'gerent' 'lid' 'questo' 'pra' 'rotin'\n 'trabalh' 'prepar' 'document' 'prest' 'informaco' 'publ' 'respond'\n 'email' 'funcional' 'monitor' 'averbaco' 'sistem' 'funcional' 'sistem'\n 'oracl' 'operaco' 'varej' 'autbank' 'teleport' 'dad' 'pow' 'averbaco'\n 'departament' 'logis' 'mant' 'arqu' 'cadastr' 'informaco' 'atual'\n 'assessor' 'gerent' 'lid' 'questo' 'pra' 'rotin' 'trabalh' 'prepar'\n 'document' 'prest' 'informaco' 'publ' 'respond' 'email' 'funcional'\n 'monitor' 'averbaco' 'sistem' 'funcional' 'sistem' 'oracl' 'operaco'\n 'varej' 'autbank' 'teleport' 'dad' 'pow' 'auxili' 'coordenaca' 'escol'\n 'superi' 'paul' 'administraca' 'set' 'ate' 'ago' 'educaca' 'ensin'\n 'idiom' 'ensin' 'superi' 'assist' 'atend' 'profes' 'funco' 'sistem'\n 'conhec' 'totv' 'agend' 'reunio' 'elaboraca' 'document' 'ata' 'paut'\n 'certific' 'declaraco' 'planilh' 'excel' 'atend' 'alun' 'elaboraca'\n 'horari' 'semestr' 'curs' 'elaboraca' 'pont' 'envi' 'email' 'auxili'\n 'administr' 'vanderl' 'navill' 'pec' 'fev' 'ate' 'ago' 'administraca'\n 'administraca' 'geral' 'auxili' 'conhec' 'pra' 'world' 'excel' 'corel'\n 'draw' 'serv' 'escritori' 'control' 'financ' 'atend' 'client' 'atend'\n 'pabx' 'agend' 'reunio' 'serv' 'geral' 'prospecca' 'vend' 'abert' 'fech'\n 'resoluco' 'caix' 'control' 'emisso' 'not' 'fiscal' 'entr' 'said'\n 'informa' 'banc' 'dad' 'oracl' 'graf' 'web' 'coreldraw' 'aplicaco'\n 'escritori' 'microsoft' 'acces' 'microsoft' 'excel' 'microsoft' 'word'\n 'microsoft' 'outlook' 'microsoft' 'powerpoint' 'sistem' 'operac' 'window'\n 'unix' 'outr' 'program' 'erp' 'crm' 'idiom' 'portug' 'nativ' 'japon'\n 'intermediari' 'dad' 'complement' 'disponibil' 'viaj' 'disponibil' 'mud'\n 'residenc' 'cart' 'habilitaca' 'dad' 'pessoal' 'sim' 'sim' 'nasc' 'fever'\n 'ano' 'feminin' 'cas']"
        ],
        [
         "5",
         "brasileira 41 anos, casada objetivo: administrativa/ logística e comercial formação acadêmica  logística - uninove (concluído em 2011).  turismo - unip (incompleto - 2003).  técnico em publicidade e propaganda - colégio radial (concluído em 1998). síntese de qualificações  experiência e vivência operacional de e-commerce/ marketplace.  negociação comercial/ hunter/ prospecção e tratamento de leads de clientes, atendimento aos fornecedores e suporte às lojas.  acompanhamento e ajustes de parâmetros de estoques dos principais itens de venda, cadastro de produtos e de tabela de novos custos.  análise de dados e acompanhamento de indicadores de desempenho, performances, entrega de estratégias de vendas.  contribuição para o alcance e superação das metas de faturamento, volume e market share. experiência profissional - 05/2019 – 09/2020 sociedade da mesa comércio de vinhos ltda. atendente e-commerce - 11/2017 – 04/2019 panorama embalagens analista de operações – e-commerce analista de operações comerciais - 05/2013 – 10/2013 grupo ambipar – unidade de negócios tnl analista comercial - 09/2012 – 04/2013 rodoviário goyaz executiva de contas atividades desempenhadas  responsável pela prospecção de novos clientes, abertura de clientes em segmentos faturamento.  operacionalização de e-commerce, compreendendo mídias sociais, controle as redes sociais, chats, dentre outras.  elaboração e apresentação das propostas comerciais, bem como, condução de reuniões comerciais e administrativas.  atendimento e-commerce, cobrança, atualização de cadastro, vendas online, toda função pertinente a área de atendimento online.  acompanhamento de projetos junto aos clientes, realizando a interface com a operação – participação ativa na etapa de implantação e coordenação de operações  participação na definição dos planos estratégicos junto com a equipe de inteligência de mercado e membros da diretoria – escopo de atuação, definição dos setores, estratégia de manutenção dos clientes, interface com as áreas operacionais.  realização e acompanhamento pós-vendas, sendo responsável pelo levantamento de problemas, definição de planos de ação e acompanhamento das resoluções junto as áreas operacionais, financeiras e administrativas. principais prospectos e desenvolvimento de projetos de melhoria contínua nos clientes ativos.  mapeamento da ação e serviços dos concorrentes e participação em eventos do segmento.  monitoramento dos contratos, reuniões de mensais de acompanhamento, elaboração dos indicadores, controle de registros e informações no crm – controle de estoque e níveis de serviço operacionais. informática  informática – word, excel, powerpoint e internet explorer.  sistemas erp’s: totvs cursos extracurriculares  inglês e espanhol básico.  controle de qualidade ao cliente (iso9001) – banco santander.  análise de planejamento financeiro – sebrae.  empreendedor individual – sebrae.  técnica de vendas – catho",
         "['brasil' 'ano' 'cas' 'obje' 'administr' 'logis' 'comerc' 'formaca'\n 'academ' 'logis' 'uninov' 'conclu' 'tur' 'unip' 'incomplet' 'tecn'\n 'public' 'propagand' 'colegi' 'rad' 'conclu' 'sintes' 'qualificaco'\n 'experienc' 'vivenc' 'operac' 'commerc' 'marketplac' 'negociaca' 'comerc'\n 'hunt' 'prospecca' 'trat' 'lead' 'client' 'atend' 'fornec' 'suport' 'loj'\n 'acompanh' 'ajust' 'parametr' 'estoqu' 'princip' 'it' 'vend' 'cadastr'\n 'produt' 'tabel' 'nov' 'cust' 'analis' 'dad' 'acompanh' 'indic'\n 'desempenh' 'performanc' 'entreg' 'estrateg' 'vend' 'contribuica'\n 'alcanc' 'superaca' 'met' 'fatur' 'volum' 'market' 'sh' 'experienc'\n 'profiss' 'sociedad' 'mes' 'comerci' 'vinh' 'ltd' 'atend' 'commerc'\n 'panoram' 'embal' 'anal' 'operaco' 'commerc' 'anal' 'operaco' 'comerc'\n 'grup' 'ambip' 'unidad' 'negoci' 'tnl' 'anal' 'comerc' 'rodoviari'\n 'goyaz' 'execu' 'cont' 'ativ' 'desempenh' 'responsa' 'prospecca' 'nov'\n 'client' 'abert' 'client' 'segment' 'fatur' 'operacionalizaca' 'commerc'\n 'compreend' 'mid' 'soc' 'control' 'red' 'soc' 'dentr' 'outr' 'elaboraca'\n 'apresentaca' 'propost' 'comerc' 'bem' 'conduca' 'reunio' 'comerc'\n 'administr' 'atend' 'commerc' 'cobranc' 'atualizaca' 'cadastr' 'vend'\n 'onlin' 'tod' 'funca' 'pertin' 'are' 'atend' 'onlin' 'acompanh' 'projet'\n 'junt' 'client' 'realiz' 'interfac' 'operaca' 'participaca' 'ativ' 'etap'\n 'implantaca' 'coordenaca' 'operaco' 'participaca' 'definica' 'plan'\n 'estrateg' 'junt' 'equip' 'inteligenc' 'merc' 'membr' 'diret' 'escop'\n 'atuaca' 'definica' 'set' 'estrateg' 'manutenca' 'client' 'interfac'\n 'are' 'operac' 'realizaca' 'acompanh' 'po' 'vend' 'send' 'responsa'\n 'levant' 'problem' 'definica' 'plan' 'aca' 'acompanh' 'resoluco' 'junt'\n 'are' 'operac' 'financ' 'administr' 'princip' 'prospect' 'desenvolv'\n 'projet' 'melh' 'continu' 'client' 'ativ' 'mape' 'aca' 'serv' 'concorr'\n 'participaca' 'event' 'segment' 'monitor' 'contrat' 'reunio' 'mens'\n 'acompanh' 'elaboraca' 'indic' 'control' 'registr' 'informaco' 'crm'\n 'control' 'estoqu' 'nivel' 'serv' 'operac' 'informa' 'informa' 'word'\n 'excel' 'powerpoint' 'internet' 'explor' 'sistem' 'erp' 'totv' 'curs'\n 'extracurricul' 'ingl' 'espanhol' 'basic' 'control' 'qual' 'client' 'iso'\n 'banc' 'santand' 'analis' 'planej' 'financ' 'sebra' 'empreend' 'individ'\n 'sebra' 'tecn' 'vend' 'cath']"
        ],
        [
         "6",
         "objetivo área financeira / controladoria / faturamento / central de serviços compartilhados / administrativo formação acadêmica uninove - gestão financeira – concluído 2011 ✓ experiência profissional ✓ coca cola - femsa análise de documentos referente a reembolsos de despesas (quilometragem, pedágio, estacionamento) de todas as unidades do brasil, validação via portal, lançamento contábil e programação de pagamento, envio de comprovantes, atualização semanal de estrutura referente a rota de vendedores e utilização dos programas sap ecc e perceptive content,triangulus, suporte ao comercial referente ao report sobre reembolsos dos colaboradores processos lançados e analisados pelo sistema sap. pr05, fbl1n, zaftmgl00, analise e conciliação via sap, validação de cte e preparação para pagamentos , verificação de transporte na vtn03, ie36, contato com fornecedores. período: março/2019 à nov/2021 ✓ joy model responsável pelo faturamento, emissão de notas fiscais de serviços de 5 empresas do grupo pelo certisgn, emissão de boletos via itaubank, atendimento/dúvidas/orientações aos modelos, compras de matérias de escritório, orçamentos, atualização de extrato dos modelos, atualização e lançamentos no sistema manager fashion. contato com clientes, baixa de títulos no sistema, intermédio entre clientes e modelos, atualização de extrato modelos, atualização e lançamentos no sistema manager fashion, cobrança, consulta serasa. período: abril/2018 à nov/2018 ✓ grupo rio quente responsável pelos clientes b2c e b2b, controle e recebimento de pagamentos via ted/doc/pos, fazer as baixas dos títulos, emitir boletos, verificar extratos bancários, efetivar financiamento com o banco, análise/consulta de credito junto ao serasa, calcular e liberar comissões de revendas/agencias/freelances, calcular multa e juros, solicitar estorno junto as operadoras de cartão de credito, controle de reembolsos, lançamento de notas no sistema, emitir carta de credito, verificar anormalidades juntos as reservas, valores/alterações/descontos, emitir voucher e confirmar reservas. período: jan/2016 à abril/2017. ✓ vitronglass (grupo tbr) emissão de notas fiscais de serviços/ industrialização/remessa de transporte, controle de faturamento, natureza de operação, cfop, carta de correção, pagamento e controle de gnre, cadastro de clientes/fornecedores, gerar ordem de expedição e ordem de faturamento no sistema systemglass, emissão de notas no dn4, baixa de títulos a receber, classificação de notas e envio de documentos junto a contabilidade, conciliar extratos/contas a receber, monitoramento de e-mails e de solicitações de clientes externos/internos, emissão de boletos e relatórios no uau, conciliação de 3 empresas do grupo. período: set/2014 à dez/2015 ✓ via varejo (e-commerce) follow-up de pagamentos, conferência nf/boletos, digitalizar, lançamento de nota fiscal no sistema (protheus), classificar por centro de custo, preparação de borderô, enviar remessa para o banco, acompanhar remessa, gerar relatórios diários, elaboração e controle de planilhas em geral, contato com fornecedores. abrir chamado para tratamento de anormalidades relativas á liberação dos pagamentos, atuando de forma a minimizar problemas no fluxo. período: set/2012 à fev./2014 ✓ panalpina world transport (vera lana) assistência nos processos de pagamento, follow-up e conferência de títulos a pagar, analisar nota fiscal, digitalização, indexar no sistema, envio de arquivo cnab, sispag, controle de malotes, elaboração de planilhas para controles diários, controle de e-mails, emissão de notas fiscais e boletos, lançamentos no sistema sade, cadastro de fornecedor no sap, contato com fornecedores. período: ago./2011 à jul./2012 cursos ✓ impacta excel intermediário ✓ escola senai suíço brasileiro web designer: macromedia flash, fireworks e dreamweaver. ✓ em andamento excel avançado, power bi, e vb",
         "['obje' 'are' 'financ' 'controlad' 'fatur' 'centr' 'serv' 'compartilh'\n 'administr' 'formaca' 'academ' 'gesta' 'financ' 'conclu' 'experienc'\n 'profiss' 'coc' 'col' 'fems' 'analis' 'document' 'refer' 'reembols'\n 'desp' 'quilometr' 'pedagi' 'estacion' 'tod' 'unidad' 'brasil' 'validaca'\n 'via' 'port' 'lanc' 'contavel' 'programaca' 'pag' 'envi' 'comprov'\n 'atualizaca' 'seman' 'estrut' 'refer' 'rot' 'vend' 'utilizaca' 'program'\n 'sap' 'ecc' 'perceptiv' 'content' 'triangulu' 'suport' 'comerc' 'refer'\n 'report' 'sobr' 'reembols' 'colabor' 'process' 'lanc' 'analis' 'sistem'\n 'sap' 'fbl' 'zaftmgl' 'analis' 'conciliaca' 'via' 'sap' 'validaca' 'cte'\n 'preparaca' 'pag' 'verificaca' 'transport' 'vtn' 'contat' 'fornec'\n 'period' 'marc' 'nov' 'responsa' 'fatur' 'emissa' 'not' 'fiscal' 'serv'\n 'empr' 'grup' 'certisgn' 'emissa' 'bolet' 'via' 'itaubank' 'atend'\n 'duvid' 'orientaco' 'model' 'compr' 'mat' 'escritori' 'orc' 'atualizaca'\n 'extrat' 'model' 'atualizaca' 'lanc' 'sistem' 'manag' 'fashion' 'contat'\n 'client' 'baix' 'titul' 'sistem' 'intermedi' 'client' 'model'\n 'atualizaca' 'extrat' 'model' 'atualizaca' 'lanc' 'sistem' 'manag'\n 'fashion' 'cobranc' 'consult' 'nov' 'grup' 'rio' 'quent' 'responsa'\n 'client' 'control' 'receb' 'pag' 'via' 'ted' 'doc' 'po' 'faz' 'baix'\n 'titul' 'emit' 'bolet' 'verific' 'extrat' 'bancari' 'efetiv' 'financ'\n 'banc' 'analis' 'consult' 'credit' 'junt' 'seras' 'calcul' 'liber'\n 'comisso' 'revend' 'agenc' 'freelanc' 'calcul' 'mult' 'jur' 'solic'\n 'estorn' 'junt' 'oper' 'carta' 'credit' 'control' 'reembols' 'lanc' 'not'\n 'sistem' 'emit' 'cart' 'credit' 'verific' 'anormal' 'junt' 'reserv' 'val'\n 'alteraco' 'descont' 'emit' 'vouch' 'confirm' 'reserv' 'period' 'jan'\n 'abril' 'vitronglas' 'grup' 'tbr' 'emissa' 'not' 'fiscal' 'serv'\n 'industrializaca' 'remess' 'transport' 'control' 'fatur' 'natur'\n 'operaca' 'cfop' 'cart' 'correca' 'pag' 'control' 'gnr' 'cadastr'\n 'client' 'fornec' 'ger' 'ord' 'expedica' 'ord' 'fatur' 'sistem'\n 'systemglas' 'emissa' 'not' 'baix' 'titul' 'receb' 'classificaca' 'not'\n 'envi' 'document' 'junt' 'contabil' 'concili' 'extrat' 'cont' 'receb'\n 'monitor' 'mail' 'solicitaco' 'client' 'extern' 'intern' 'emissa' 'bolet'\n 'relatori' 'uau' 'conciliaca' 'empr' 'grup' 'period' 'set' 'dez' 'via'\n 'varej' 'commerc' 'follow' 'pag' 'conferenc' 'bolet' 'digital' 'lanc'\n 'not' 'fiscal' 'sistem' 'proth' 'classific' 'centr' 'cust' 'preparaca'\n 'border' 'envi' 'remess' 'banc' 'acompanh' 'remess' 'ger' 'relatori'\n 'diari' 'elaboraca' 'control' 'planilh' 'geral' 'contat' 'fornec' 'abr'\n 'cham' 'trat' 'anormal' 'relat' 'liberaca' 'pag' 'atu' 'form' 'minim'\n 'problem' 'flux' 'period' 'set' 'fev' 'panalpin' 'world' 'transport'\n 'ver' 'lan' 'assistenc' 'process' 'pag' 'follow' 'conferenc' 'titul'\n 'pag' 'analis' 'not' 'fiscal' 'digitalizaca' 'index' 'sistem' 'envi'\n 'arqu' 'cnab' 'sispag' 'control' 'malot' 'elaboraca' 'planilh' 'control'\n 'diari' 'control' 'mail' 'emissa' 'not' 'fiscal' 'bolet' 'lanc' 'sistem'\n 'sad' 'cadastr' 'fornec' 'sap' 'contat' 'fornec' 'period' 'ago' 'jul'\n 'curs' 'impact' 'excel' 'intermediari' 'escol' 'sen' 'suic' 'brasil'\n 'web' 'design' 'macromed' 'flash' 'firework' 'dreamweav' 'and' 'excel'\n 'avanc' 'pow']"
        ],
        [
         "7",
         "belo horizonte/mg – cep: 30.626-710 habilitação: categoria b objetivo desejo fazer parte do time da empresa oferecendo o melhor; sou uma pessoa muito dedicada e comprometida com as atribuições que são dadas a mim e gostaria de desempenhar atividades na área da logística, financeira, comercial ou administrativa, independente do resumo de qualificações  profissional com excelentes conhecimentos na área administrativa financeira, atuando no controle de contas a pagar, recebimentos da empresa, emissão e envio de notas fiscais eletrônicas, emissão de boletos, análise de créditos de clientes e envio de documentos para contabilidade;  conhecimento na área administrativa e comercial, atuando no atendimento telefônico e de documentos, compras, vendas e captação de novos clientes;  confecção de relatórios mensais para acompanhamento da diretoria;  habilidades de comunicação interpessoal, percepção crítica e analítica para análise de melhoria em processos administrativos; experiências agosto/2020 a junho/2021 – sigma consultoria localidade: belo horizonte/mg  faturamento de pedidos;  envio notas e boletos via e-mail;  relatórios para diretoria;  contas a pagar, incluindo pagamentos de salários e benefícios de funcionários;  planejamento de entradas e saídas de recursos;  baixa sistêmica e bancária;  conciliação bancária;  experiência com sistema sankhya; janeiro/2018 a janeiro/2020 - agv brasil proteção veicular localidade: belo horizonte/mg  emissão e envio de contratos e boletos para clientes via sistema e e-mail;  emissão de boletos via banco e via sistema;  responsável por atender as demandas do setor junto as demais funcionárias;  envio de e-mail para associados, consultores e diretores;  atualização de contratos via sistema;  sistema sav; maio/2013 a setembro/2017 - transportadora água viva mrl ltda localidade: belo horizonte/mg  responsável pelas rotinas de rh, tais como: treinamentos, orientação, benefícios, pagamento de salários, cálculo de horas extras, férias e rescisões;  responsável por fazer o controle via planilha de notas fiscais a vencer e vencidas, controle de contas a pagar, recebimentos da empresa;  emissão e envio de notas fiscais eletrônicas, emissão de boletos, análise de créditos de clientes e envio de documentos para contabilidade;  cobrança de notas fiscais em aberto, inclusão e exclusão no spc/serasa;  distribuição e roteirização de viagens para motoristas;  confecção de relatórios mensais para a diretoria;  compras e orçamentos de materiais de escritório, peças, serviços e pesquisa de novos fornecedores;  abertura e fechamento de caixa de pagamentos em dinheiro, cheques ou cartões; novembro/2011 a março/2013 - domingos costa indústrias alimentícias s/a localidade: contagem/mg  digitação de documentos;  cadastro de materiais;  requisição de compras;  controle de estoque;  entrega e armazenamento de notas fiscais;  agendamento de cursos em diversas áreas executivas;  experiência com software sap – gestão financeira e comercial; formação conclusão: dezembro de 2012. ensino superior completo: faculdade novos horizontes - graduação em tecnólogo de logística. conclusão: julho de 2015. cursos e aperfeiçoamento  curso de aprendizagem em administração geral de empresa (rh, dp, financeiro, gestão de documentos, faturamento, estoque) – escola: rede cidadã  curso de informática profissionalizante avançado – escola: people soft conclusão 2015  curso de mercado financeiro i – escola: ieb cursos conclusão: 10/2019 belo horizonte – 202",
         "['bel' 'horizont' 'cep' 'habilitaca' 'categor' 'obje' 'desej' 'faz' 'part'\n 'tim' 'empr' 'oferec' 'melhor' 'pesso' 'dedic' 'compromet' 'atribuico'\n 'sao' 'dad' 'mim' 'gost' 'desempenh' 'ativ' 'are' 'logis' 'financ'\n 'comerc' 'administr' 'independ' 'resum' 'qualificaco' 'profiss' 'excel'\n 'conhec' 'are' 'administr' 'financ' 'atu' 'control' 'cont' 'pag' 'receb'\n 'empr' 'emissa' 'envi' 'not' 'fiscal' 'eletron' 'emissa' 'bolet' 'analis'\n 'credit' 'client' 'envi' 'document' 'contabil' 'conhec' 'are' 'administr'\n 'comerc' 'atu' 'atend' 'telefon' 'document' 'compr' 'vend' 'captaca'\n 'nov' 'client' 'confecca' 'relatori' 'mens' 'acompanh' 'diret' 'habil'\n 'comunicaca' 'interpesso' 'percepca' 'crit' 'anali' 'analis' 'melh'\n 'process' 'administr' 'experienc' 'agost' 'junh' 'sigm' 'consult' 'local'\n 'bel' 'horizont' 'fatur' 'ped' 'envi' 'not' 'bolet' 'via' 'mail'\n 'relatori' 'diret' 'cont' 'pag' 'inclu' 'pag' 'salari' 'benefici'\n 'funcionari' 'planej' 'entr' 'said' 'recurs' 'baix' 'sistem' 'banc'\n 'conciliaca' 'banc' 'experienc' 'sistem' 'sankhy' 'jan' 'jan' 'agv'\n 'brasil' 'proteca' 'veicul' 'local' 'bel' 'horizont' 'emissa' 'envi'\n 'contrat' 'bolet' 'client' 'via' 'sistem' 'emissa' 'bolet' 'via' 'banc'\n 'via' 'sistem' 'responsa' 'atend' 'demand' 'set' 'junt' 'demal' 'funcion'\n 'envi' 'mail' 'associ' 'consult' 'dire' 'atualizaca' 'contrat' 'via'\n 'sistem' 'sistem' 'sav' 'mai' 'setembr' 'transport' 'agu' 'viv' 'mrl'\n 'ltd' 'local' 'bel' 'horizont' 'responsa' 'rotin' 'tal' 'trein'\n 'orientaca' 'benefici' 'pag' 'salari' 'calcul' 'hor' 'extr' 'fer'\n 'resciso' 'responsa' 'faz' 'control' 'via' 'planilh' 'not' 'fiscal'\n 'venc' 'venc' 'control' 'cont' 'pag' 'receb' 'empr' 'emissa' 'envi' 'not'\n 'fiscal' 'eletron' 'emissa' 'bolet' 'analis' 'credit' 'client' 'envi'\n 'document' 'contabil' 'cobranc' 'not' 'fiscal' 'abert' 'inclusa'\n 'exclusa' 'spc' 'seras' 'distribuica' 'roteirizaca' 'viag' 'motor'\n 'confecca' 'relatori' 'mens' 'diret' 'compr' 'orc' 'mater' 'escritori'\n 'pec' 'serv' 'pesquis' 'nov' 'fornec' 'abert' 'fech' 'caix' 'pag' 'dinh'\n 'chequ' 'carto' 'novembr' 'marc' 'doming' 'cost' 'industr' 'alimentic'\n 'local' 'cont' 'digitaca' 'document' 'cadastr' 'mater' 'requisica'\n 'compr' 'control' 'estoqu' 'entreg' 'armazen' 'not' 'fiscal' 'agend'\n 'curs' 'divers' 'are' 'execu' 'experienc' 'softw' 'sap' 'gesta' 'financ'\n 'comerc' 'formaca' 'conclusa' 'dezembr' 'ensin' 'superi' 'complet'\n 'faculdad' 'nov' 'horizont' 'graduaca' 'tecnolog' 'logis' 'conclusa'\n 'julh' 'curs' 'aperfeico' 'curs' 'aprendiz' 'administraca' 'geral' 'empr'\n 'financ' 'gesta' 'document' 'fatur' 'estoqu' 'escol' 'red' 'cid' 'curs'\n 'informa' 'profissionaliz' 'avanc' 'conclusa' 'curs' 'merc' 'financ'\n 'escol' 'ieb' 'curs' 'conclusa' 'bel' 'horizont']"
        ],
        [
         "8",
         "última atualização em 04/11/2021 resumo experiência em rotinas de atendimento, faturamento, administrativo, liderança de equipe e apoio a gerência nos processos; atividades com melhorias de processos, projetos, gerenciamento de dados, indicadores, elaboração de relatórios gerenciais, dashboard, apresentação de resultados e apoio ao setor de inteligência de negócios. experiência com atividades relacionados aos projetos, controle e acompanhamento de contrato e pagamento de prestadores de serviços, elaboração de relatórios de prestação de contas, orçamentos de fornecedores e controle de materiais. formação em pedagogia; mba em gestão de projetos; curso complementares de power bi e metologias lean. formação acadêmica ensino superior em pedagogia, universidade cruzeiro do sul ­ unicsul em sp fev. 2011 até dez. 2013 pós­graduação ­ especialização/mba em gestão em projetos, universidade estácio de sá em sp experiência profissional última atualização em 04/11/2021 analista administrativo pleno, associação do sanatório sírio ­ hospital do coração ­ hcor em sp de 11/2008 até o momento administração ­ administração geral (analista) rotinas com atividades administrativas, faturamento, processos de melhorias, projetos, financeiro, liderança de equipe e apoio a gestão da área; gerenciamento de dados, indicadores, elaboração de rel... +info pós­graduação ­ especialização/mba em gestão em projetos, universidade estácio de sá em sp de 10/2018 até 04/2020 analista administrativo pleno, associação do sanatório sírio ­ hospital do coração ­ hcor em são paulo ­ sp nov. 2008 até o momento administração ­ administração geral (analista) rotinas com atividades administrativas, faturamento, processos de melhorias, projetos, financeiro, liderança de equipe e apoio a gestão da área; gerenciamento de dados, indicadores, elaboração de relatórios gerenciais, dashboard e apresentação de resultados, além de apoio ao setor de inteligência de negócios; experiência como assistente de projetos realizando atividades relacionados a projetos do (proadi­sus) com controle e acompanhamento dos processos administrativos, orçamentos, contratos, cotação de prestação de serviços, pagamentos a fornecedores, elaboração de relatório e logística dos materiais. apoio aos consultores dos projetos e gerenciamento da plataforma de ensino ead. escriturário hospitalar, hospital focus vila mariana em são paulo ­ sp jul. 2008 até out. 2008 administração ­ administração geral (operacional) atendimento no andar e pronto socorro (leitos), solicitação de medicação, agendamento de exames, solicitação de escriturária, ­ bp ­hospital beneficência portuguesa de são paulo. em sp out. 2002 até jul. 2007 saúde ­ cardiologia (assistente) • rotinas de atendimento, faturamento na unidade do pronto socorro; solicitação de autorização para exames, arquivamento de prontuários;• realização de atividades na farmácia satélite do pronto socorro com entrega de medicamentos, reposição, digitação, separação de materiais e medicamentos específicos para procedimentos de informática: aplicações de escritório: microsoft word, microsoft powerpoint, microsoft excel, microsoft access sistemas operacionais: windows outros programas: servidores de e­mail idiomas inglês, básico dados complementares disponibilidade para viajar disponibilidade para mudar de residência",
         "['ult' 'atualizaca' 'resum' 'experienc' 'rotin' 'atend' 'fatur'\n 'administr' 'lideranc' 'equip' 'apoi' 'gerenc' 'process' 'ativ' 'melh'\n 'process' 'projet' 'gerenc' 'dad' 'indic' 'elaboraca' 'relatori' 'gerenc'\n 'dashboard' 'apresentaca' 'result' 'apoi' 'set' 'inteligenc' 'negoci'\n 'experienc' 'ativ' 'relacion' 'projet' 'control' 'acompanh' 'contrat'\n 'pag' 'prest' 'serv' 'elaboraca' 'relatori' 'prestaca' 'cont' 'orc'\n 'fornec' 'control' 'mater' 'formaca' 'pedagog' 'mba' 'gesta' 'projet'\n 'curs' 'complement' 'pow' 'metolog' 'lean' 'formaca' 'academ' 'ensin'\n 'superi' 'pedagog' 'univers' 'cruz' 'sul' 'unicsul' 'fev' 'ate' 'dez'\n 'posgraduaca' 'especializaca' 'mba' 'gesta' 'projet' 'univers' 'estaci'\n 'experienc' 'profiss' 'ult' 'atualizaca' 'anal' 'administr' 'plen'\n 'associaca' 'sanatori' 'siri' 'hospit' 'coraca' 'hc' 'ate' 'moment'\n 'administraca' 'administraca' 'geral' 'anal' 'rotin' 'ativ' 'administr'\n 'fatur' 'process' 'melh' 'projet' 'financ' 'lideranc' 'equip' 'apoi'\n 'gesta' 'are' 'gerenc' 'dad' 'indic' 'elaboraca' 'posgraduaca'\n 'especializaca' 'mba' 'gesta' 'projet' 'univers' 'estaci' 'ate' 'anal'\n 'administr' 'plen' 'associaca' 'sanatori' 'siri' 'hospit' 'coraca' 'hc'\n 'sao' 'paul' 'nov' 'ate' 'moment' 'administraca' 'administraca' 'geral'\n 'anal' 'rotin' 'ativ' 'administr' 'fatur' 'process' 'melh' 'projet'\n 'financ' 'lideranc' 'equip' 'apoi' 'gesta' 'are' 'gerenc' 'dad' 'indic'\n 'elaboraca' 'relatori' 'gerenc' 'dashboard' 'apresentaca' 'result' 'alem'\n 'apoi' 'set' 'inteligenc' 'negoci' 'experienc' 'assist' 'projet' 'realiz'\n 'ativ' 'relacion' 'projet' 'proadisu' 'control' 'acompanh' 'process'\n 'administr' 'orc' 'contrat' 'cotaca' 'prestaca' 'serv' 'pag' 'fornec'\n 'elaboraca' 'relatori' 'logis' 'mater' 'apoi' 'consult' 'projet' 'gerenc'\n 'plataform' 'ensin' 'ead' 'escriturari' 'hospital' 'hospit' 'focu' 'vil'\n 'mari' 'sao' 'paul' 'jul' 'ate' 'out' 'administraca' 'administraca'\n 'geral' 'operac' 'atend' 'and' 'pront' 'socorr' 'leit' 'solicitaca'\n 'medicaca' 'agend' 'exam' 'solicitaca' 'escritur' 'hospit' 'beneficenc'\n 'portugu' 'sao' 'paul' 'out' 'ate' 'jul' 'saud' 'cardiolog' 'assist'\n 'rotin' 'atend' 'fatur' 'unidad' 'pront' 'socorr' 'solicitaca'\n 'autorizaca' 'exam' 'arquiv' 'prontuari' 'realizaca' 'ativ' 'farmac'\n 'satelit' 'pront' 'socorr' 'entreg' 'medic' 'reposica' 'digitaca'\n 'separaca' 'mater' 'medic' 'especif' 'proced' 'informa' 'aplicaco'\n 'escritori' 'microsoft' 'word' 'microsoft' 'powerpoint' 'microsoft'\n 'excel' 'microsoft' 'acces' 'sistem' 'operac' 'window' 'outr' 'program'\n 'serv' 'email' 'idiom' 'ingl' 'basic' 'dad' 'complement' 'disponibil'\n 'viaj' 'disponibil' 'mud' 'residenc']"
        ],
        [
         "9",
         "nasceu em 28 de maio de 1990, 31 anos. feminino, solteiro resumo possuo boa dicção, alta responsabilidade com prazos e horários, facilidade de aprendizado, boa concentração, boa relacionamento em equipe ensino superior em administração de empresas, all net em sp nov. 2019 até o momento (finalização prevista ­ jan. 2022) experiência profissional analista administrativo pleno, comercial fegaro importacao e exportação eireli em sp mar. 2019 até jul. 2021 administração ­ administração geral (analista) planilhas, compras, sistema nexus, faturamento, frete, financeiro, comercial, vendas, gerenciar equipes, plataformas ! gerente geral, bubblekill em sp ago. 2017 até fev. 2019 última atualização em 02/11/2021 analista administrativo pleno, comercial fegaro importacao e exportação eireli em sp de 03/2019 até 07/2021 administração ­ administração geral (analista) planilhas, compras, sistema nexus, faturamento, frete, financeiro, comercial, vendas, gerenciar equipes, plataformas ! ensino superior em administração de empresas, all net em sp de 11/2019 até o momento administração ­ administração geral (gerente) auxiliar de faturamento, clínica médica vila alpina em sp mai. 2016 até jul. 2017 contábil, finanças, economia ­ finanças (auxiliar) faturamento de todos os convênios, planilhas com datas de entregas e pagamentos, capas de lotes, atendimento aos convênios e laboratórios, parcerias com laboratórios, negociações de pagamentos, sistema doctor´s, etc. auxiliar administrativo, manserv montagem e manutenção ltda em sp jan. 2015 até jun. 2016 administração ­ administração geral (auxiliar) gerente geral, bufet cometa em sp ago. 2015 até mai. 2016 comercial, vendas ­ venda interna (gerente) recepcionista, masa clínica médica em sp mar. 2011 até ago. 2014 administração ­ recepção (auxiliar) informática: aplicações de escritório: microsoft access, microsoft excel, microsoft outlook, microsoft powerpoint, microsoft word, open office, staroffice sistemas operacionais: windows idiomas português, nativo inglês, básico dados complementares disponibilidade para viajar disponibilidade para mudar de residência carteira de habilitação tipo de veículo",
         "['nasc' 'mai' 'ano' 'feminin' 'solt' 'resum' 'possu' 'boa' 'dicca' 'alt'\n 'respons' 'praz' 'horari' 'facil' 'aprend' 'boa' 'concentraca' 'boa'\n 'relacion' 'equip' 'ensin' 'superi' 'administraca' 'empr' 'all' 'net'\n 'nov' 'ate' 'moment' 'finalizaca' 'prev' 'jan' 'experienc' 'profiss'\n 'anal' 'administr' 'plen' 'comerc' 'fegar' 'importaca' 'exportaca'\n 'eirel' 'mar' 'ate' 'jul' 'administraca' 'administraca' 'geral' 'anal'\n 'planilh' 'compr' 'sistem' 'nexu' 'fatur' 'fret' 'financ' 'comerc' 'vend'\n 'gerenci' 'equip' 'plataform' 'gerent' 'geral' 'bubblekill' 'ago' 'ate'\n 'fev' 'ult' 'atualizaca' 'anal' 'administr' 'plen' 'comerc' 'fegar'\n 'importaca' 'exportaca' 'eirel' 'ate' 'administraca' 'administraca'\n 'geral' 'anal' 'planilh' 'compr' 'sistem' 'nexu' 'fatur' 'fret' 'financ'\n 'comerc' 'vend' 'gerenci' 'equip' 'plataform' 'ensin' 'superi'\n 'administraca' 'empr' 'all' 'net' 'ate' 'moment' 'administraca'\n 'administraca' 'geral' 'gerent' 'auxili' 'fatur' 'clin' 'medic' 'vil'\n 'alpin' 'mai' 'ate' 'jul' 'contavel' 'financ' 'econom' 'financ' 'auxili'\n 'fatur' 'tod' 'conveni' 'planilh' 'dat' 'entreg' 'pag' 'cap' 'lot'\n 'atend' 'conveni' 'laboratori' 'parc' 'laboratori' 'negociaco' 'pag'\n 'sistem' 'doc' 'etc' 'auxili' 'administr' 'manserv' 'mont' 'manutenca'\n 'ltd' 'jan' 'ate' 'jun' 'administraca' 'administraca' 'geral' 'auxili'\n 'gerent' 'geral' 'bufet' 'comet' 'ago' 'ate' 'comerc' 'vend' 'vend'\n 'intern' 'gerent' 'recep' 'mas' 'clin' 'medic' 'mar' 'ate' 'ago'\n 'administraca' 'recepca' 'auxili' 'informa' 'aplicaco' 'escritori'\n 'microsoft' 'acces' 'microsoft' 'excel' 'microsoft' 'outlook' 'microsoft'\n 'powerpoint' 'microsoft' 'word' 'open' 'offic' 'staroff' 'sistem'\n 'operac' 'window' 'idiom' 'portug' 'nativ' 'ingl' 'basic' 'dad'\n 'complement' 'disponibil' 'viaj' 'disponibil' 'mud' 'residenc' 'cart'\n 'habilitaca' 'tip' 'veicul']"
        ],
        [
         "10",
         "analista programador | cobol | mainframe analista programador com extensa experiência em ambiente mainframe utilizando linguagem cobol, easytreave e natural(online/batch). ao longo de 33 anos apliquei meus conhecimentos de análise e desenvolvimento de sistemas contábeis, financeiros, pagamentos eletrônicos, corporativos, etc. qualificações ª experiência em desenvolvimento de sistemas administrativos (e.r.p.), corporativos e operacionais (c.r.m.). ª reengenharia, implementação de sistemas, desenvolvimento de projeto físico e lógico, modelagem e levantamento de dados. modelagem e mapeamento funcional, definição e mapeamento de instâncias (teste unitário/teste integrado/simulação e homologação). leitura e definição do escopo do projeto/sistema. definição, desenho e desenvolvimento de sistemas multiplataforma (sistemas integrados, mainframe/web servisse, java). participação ativa em definições de (método e política de promoção de módulos, sla de atendimento às ocorrencias, rp’s e abends de produção (malha de processamento batch). ª ª experiência com fábricas de programas e softwares, disponibilização de definições, massas de testes e revisão criteriosa do trabalho elaborado, através de testes unitários e integrados. ª decifrar a real necessidade do usuário, através de conversa informal ou reuniões de trabalho (captação de necessidades operacionais/funcionais). ª produzir material escrito sobre o projeto de maneira clara, precisa e caprichosa. ª rastrear erros de programas e rotinas de forma eficiente e rápida(sustentação). ª facilidade em aprender novas técnicas e para entender o ambiente operacional da empresa. ª experiência em equipe de suporte ao desenvolvimento, ensinando outras pessoas da equipe. ª ibm 3090 – mvs/esa ª jcl – cobol – db2 – vsam - sql - cics. ª inglês nível intermediário (leitura, escrita e conversação) outras ferramentas, como: o db2, o cics, o qmf o tso, o roscoe, o control-m, o endevor, o file-aid, o idcams, o vsam, o jcl, o proc´s, o utilitários-ibm. o natural/adabas, o natural/db2, o natural/vsam, o natural/sam, o natural/batch, o natural/onln,db2 - sq o pl 1, o easytreave, o dfsort, o icegener, o icetools. o vasta experiencia em sustentação de malha de processamento batch. histórico profissional: everis ª analista programador (jul 2020) responsabilidades: atuação no sistema de robô de pagamentos, que consiste em geração de massas de testes para pagamentos de boletos no banco itaú. atuei no levantamento da integração de diversos sistemas no banco para a criação de boletos válidos para geração do código de barras para posterior pagamento nos diversos canais. banco sudameris brasil ª analista de sistemas sênior (lider de sistemas contábeis) mar/ – mar/2003 responsabilidades: líder do sistema de cadastro único de clientes do banco. propiciar boas integrações com todos os sistemas do banco. garantir qualidade da informação, através de consistências cruzadas com outras fontes de referência e relatórios de controle para as agências. garantir a fusão completa e confiável com o cadastro de clientes do banco américa do sul. reengenharia do cadastro de clientes para plataforma mais moderna e amigável com o usuário final. principais resultados: conclusão do processo de fusão cadastro de clientes com o banco américa do sul com seis meses de antecedência, propiciando ambiente tranquilo para as migrações de todas os demais produtos. colaboração em definições de sistemas corporativos e de infraestrutura da empresa. participação ativa em projetos de sistemas estratégicos que visavam maior lucratividade do banco com entrada na área de varejo. execução do projeto ano 2000 para o cadastro de clientes, desde o levantamento de datas impactantes até os testes integrados com os principais sistemas relacionados. com a compra do banco sudameris pelo banco real, participei ativamente da fusão dos sistemas de cadastro de clientes dos bancos. procwork consultoria + analista programador lider de sistemas (mar/2000-mar/2003) responsável pelos sistemas contábeis do banco suldameris: · sistema contabilizador (gl-consist) desenvolvido em natural/adabas/db2/vsam. · atuação no pool de análise e programação. apoio ao desenvolvimento de sistemas do banco sistemas sudameris. · definicção, desenho e desenvolvimento do sistemaque exerceu a função de driver contábil/financeiro (gic, gerenciamento de informações contábeis). também desenvolvido em natural/adabas /db2/vsam/cobol · procwork com consultoria, analista funcional/coordenador de projetos (via varejo nov/2014 – out/2016. cdc) e para a mesa de operações (parâmetros do mercado financeiro e gerenciamento de negociações). participação durante um ano da equipe de suporte ao desenvolvimento para criação de banco de dados. desenvolvimento do sistema truncagem de cheques (análise de cheques devolvidos) em apoio ao sistema de contas correntes, envolvendo o levantamento de dados de diversas áreas do banco. prodesp ª programador sênior: set 1988 – jul 1994 programação em cobol cics, batch e documentação de programas. folha de pagamento do estado de são paulo. sistema de cooperativa de crédito. sistema de administração hospitalar para o hospital das clínicas. amaro agropecuária ª programador pleno (mai 1988 – set 1988) desenvolvimento de sistemas para criação de banco holandês. indra company ª analista coordenador de projetos ( mar/2014 _ nov/2017) coordenei a implantação do sistema sat(cartões) na caixa econômica. coordenei a migração de base de clientes orbital x cef. dei total suporte e sustentação na malha de processamento batch para a cef (todas as instancias). desenvolvi todas as funcionalidades de troca de arquivos cef x indra: manutenção rotina 4. manutenção rotina 5. manutenção rotina 6. via varejo ªanalista funcional/coordenador de projetos (dez/2017 _ set/2019) fui líder da frente de vendas atendendo toda a rede de vendas da casas bahia, grupo g.p.a. e extra). defini a integração web service x mainframe utilizando a ferramenta de conexão (xml). serasa (jan/2012 – fev./2014) desenvolvimento e sustentação no sistema de cadastro de pessoa física /jurídica e fontes – funcionalidade baton (conexão batch/oonline). desenvolvimento de funcionalidade suporte ao cliente (telas de cics simulando comportamento do cliente no fronted – web servise). suporte e sustentação a funcionalidade baton(batch/online). coordenei o projeto cadastro pessoa jurídica: 1. embossing. 2. faturas. 3. autorizador. 4. política de abandono (suspenção de cartão por desuso). 5. política e enquadramento(inadimplência). 6. reabilitação de conta/cartão. 7. mobile phone (pagamento por cartão através do celular). 8. política de anuidade. 9. cobrança contenciosa. 10. cobrança litigiosa. 11. reabilitação dinâmica de conta/cartão (estímulos internos). 12. cancelamento de conta/cartão. wmt informática ª programador júnior (mai 1986 – set 1986) desenvolvimento de sistemas de administração escolar e de custos industriais na indústria farmacêutica. formação acadêmica ª bacharelado em administração de empresas – universidade são judas tadeu - 1990 ª técnico em processamento de dados – colégio brasil - 1985 desenvolvimento profissional ª programação cobol cics/vsam/db2 – ivee (2020) ª programação mainframe tso/ispf, sds, vsam e sort – ivee (2020) ª cobol utilizando o ide visual cobol for eclipse – ivee (2020) ª lógica de programação com javascript – caelum (2019) ª idef modelagem de processos – choose (2002) ª uml levantamento de requisitos – sudameris (2002) ª gerenciamento de projetos e certificação pmp – dinsmore (2002) ª seminário sql para db2 – ibm (2001) ª uml – procwork (2001) ª técnica de análise essencial de sistemas – cpm (2001) ª técnica de análise estrutura de sistemas – cpm (2000) ª família db2 – fundamentos – ibm (2000) ª análise de dump/xa – prodesp (1988) ª cics command level – prodesp (1988) ª natural – prodesp (1988) ª adabas – prodesp (1988) ª fdl - xerox 9790 – prodesp (1988) ª pdl - xerox 9790 – prodesp (1988) ª vs cobol ii informações adicionais – prodesp (1988) brasileira, passaporte e visto eua válidos para viagem imediata certificação project management profissional (pmp) de 2002 a 2005",
         "['anal' 'program' 'cobol' 'mainfram' 'anal' 'program' 'extens' 'experienc'\n 'ambi' 'mainfram' 'utiliz' 'lingu' 'cobol' 'easytreav' 'natur' 'onlin'\n 'batch' 'long' 'ano' 'apliq' 'conhec' 'analis' 'desenvolv' 'sistem'\n 'contabel' 'financ' 'pag' 'eletron' 'corpor' 'etc' 'qualificaco'\n 'experienc' 'desenvolv' 'sistem' 'administr' 'corpor' 'operac' 'reengenh'\n 'implementaca' 'sistem' 'desenvolv' 'projet' 'fisic' 'logic' 'model'\n 'levant' 'dad' 'model' 'mape' 'func' 'definica' 'mape' 'instanc' 'test'\n 'unitari' 'test' 'integr' 'simulaca' 'homologaca' 'leit' 'definica'\n 'escop' 'projet' 'sistem' 'definica' 'desenh' 'desenvolv' 'sistem'\n 'multiplataform' 'sistem' 'integr' 'mainfram' 'web' 'serv' 'jav'\n 'participaca' 'ativ' 'definico' 'metod' 'poli' 'promoca' 'modul' 'sla'\n 'atend' 'ocorrenc' 'rp' 'abend' 'produca' 'malh' 'process' 'batch'\n 'experienc' 'fabr' 'program' 'softw' 'disponibilizaca' 'definico' 'mass'\n 'test' 'revisa' 'criteri' 'trabalh' 'elabor' 'atrav' 'test' 'unitari'\n 'integr' 'decifr' 'real' 'necess' 'usuari' 'atrav' 'convers' 'inform'\n 'reunio' 'trabalh' 'captaca' 'necess' 'operac' 'func' 'produz' 'mater'\n 'escrit' 'sobr' 'projet' 'man' 'cl' 'precis' 'caprich' 'rastr' 'err'\n 'program' 'rotin' 'form' 'efici' 'rap' 'sustentaca' 'facil' 'aprend'\n 'nov' 'tecn' 'entend' 'ambi' 'operac' 'empr' 'experienc' 'equip' 'suport'\n 'desenvolv' 'ensin' 'outr' 'pesso' 'equip' 'ibm' 'mv' 'esa' 'jcl' 'cobol'\n 'vs' 'sql' 'cic' 'ingl' 'nivel' 'intermediari' 'leit' 'escrit'\n 'conversaca' 'outr' 'ferrament' 'cic' 'qmf' 'tso' 'rosco' 'control'\n 'endev' 'fil' 'aid' 'idc' 'vs' 'jcl' 'proc' 'utilitari' 'ibm' 'natur'\n 'adab' 'natur' 'natur' 'vs' 'natur' 'sam' 'natur' 'batch' 'natur' 'onln'\n 'easytreav' 'dfsort' 'icegen' 'icetool' 'vast' 'experienc' 'sustentaca'\n 'malh' 'process' 'batch' 'histor' 'profiss' 'everil' 'anal' 'program'\n 'jul' 'respons' 'atuaca' 'sistem' 'rob' 'pag' 'cons' 'geraca' 'mass'\n 'test' 'pag' 'bolet' 'banc' 'itau' 'atu' 'levant' 'integraca' 'divers'\n 'sistem' 'banc' 'criaca' 'bolet' 'val' 'geraca' 'codig' 'barr' 'posteri'\n 'pag' 'divers' 'canal' 'banc' 'sudameril' 'brasil' 'anal' 'sistem' 'seni'\n 'lid' 'sistem' 'contabel' 'mar' 'mar' 'respons' 'lid' 'sistem' 'cadastr'\n 'unic' 'client' 'banc' 'propici' 'boa' 'integraco' 'tod' 'sistem' 'banc'\n 'garant' 'qual' 'informaca' 'atrav' 'consistenc' 'cruz' 'outr' 'font'\n 'referenc' 'relatori' 'control' 'agenc' 'garant' 'fusa' 'complet'\n 'confia' 'cadastr' 'client' 'banc' 'amer' 'sul' 'reengenh' 'cadastr'\n 'client' 'plataform' 'modern' 'amiga' 'usuari' 'final' 'princip' 'result'\n 'conclusa' 'process' 'fusa' 'cadastr' 'client' 'banc' 'amer' 'sul' 'seil'\n 'mes' 'antecedenc' 'propici' 'ambi' 'tranquil' 'migraco' 'tod' 'demal'\n 'produt' 'colaboraca' 'definico' 'sistem' 'corpor' 'infraestrut' 'empr'\n 'participaca' 'ativ' 'projet' 'sistem' 'estrateg' 'vis' 'mai' 'lucrat'\n 'banc' 'entr' 'are' 'varej' 'execuca' 'projet' 'ano' 'cadastr' 'client'\n 'desd' 'levant' 'dat' 'impact' 'ate' 'test' 'integr' 'princip' 'sistem'\n 'relacion' 'compr' 'banc' 'sudameril' 'banc' 'real' 'particip' 'ativ'\n 'fusa' 'sistem' 'cadastr' 'client' 'banc' 'procwork' 'consult' 'anal'\n 'program' 'lid' 'sistem' 'mar' 'mar' 'responsa' 'sistem' 'contabel'\n 'banc' 'suldameril' 'sistem' 'contabiliz' 'consist' 'desenvolv' 'natur'\n 'adab' 'vs' 'atuaca' 'pool' 'analis' 'programaca' 'apoi' 'desenvolv'\n 'sistem' 'banc' 'sistem' 'sudameril' 'definicca' 'desenh' 'desenvolv'\n 'sistemaqu' 'exerc' 'funca' 'driv' 'contavel' 'financ' 'informaco'\n 'contabel' 'tamb' 'desenvolv' 'natur' 'adab' 'vs' 'cobol' 'procwork'\n 'consult' 'anal' 'func' 'coorden' 'projet' 'via' 'varej' 'nov' 'out'\n 'cdc' 'mes' 'operaco' 'parametr' 'merc' 'financ' 'gerenc' 'participaca'\n 'dur' 'ano' 'equip' 'suport' 'desenvolv' 'criaca' 'banc' 'dad'\n 'desenvolv' 'sistem' 'trunc' 'chequ' 'analis' 'chequ' 'devolv' 'apoi'\n 'sistem' 'cont' 'corr' 'envolv' 'levant' 'dad' 'divers' 'are' 'banc'\n 'prodesp' 'program' 'seni' 'set' 'jul' 'programaca' 'cobol' 'cic' 'batch'\n 'documentaca' 'program' 'folh' 'pag' 'est' 'sao' 'paul' 'sistem' 'cooper'\n 'credit' 'sistem' 'administraca' 'hospital' 'hospit' 'clin' 'amar'\n 'agropecu' 'program' 'plen' 'mai' 'set' 'desenvolv' 'sistem' 'criaca'\n 'banc' 'holand' 'indr' 'company' 'anal' 'coorden' 'projet' 'mar' 'nov'\n 'coorden' 'implantaca' 'sistem' 'sat' 'carto' 'caix' 'econom' 'coorden'\n 'migraca' 'bas' 'client' 'orbit' 'cef' 'dei' 'total' 'suport'\n 'sustentaca' 'malh' 'process' 'batch' 'cef' 'tod' 'instanc' 'desenvolv'\n 'tod' 'funcional' 'troc' 'arqu' 'cef' 'indr' 'manutenca' 'rotin'\n 'manutenca' 'rotin' 'manutenca' 'rotin' 'via' 'varej' 'aanal' 'func'\n 'coorden' 'projet' 'dez' 'set' 'lid' 'frent' 'vend' 'atend' 'tod' 'red'\n 'vend' 'cas' 'bah' 'grup' 'extr' 'defin' 'integraca' 'web' 'serv'\n 'mainfram' 'utiliz' 'ferrament' 'conexa' 'xml' 'seras' 'jan' 'fev'\n 'desenvolv' 'sustentaca' 'sistem' 'cadastr' 'pesso' 'fisic' 'jurid'\n 'font' 'funcional' 'baton' 'conexa' 'batch' 'oonlin' 'desenvolv'\n 'funcional' 'suport' 'client' 'tel' 'cic' 'simul' 'comport' 'client'\n 'fronted' 'web' 'servis' 'suport' 'sustentaca' 'funcional' 'onlin'\n 'coorden' 'projet' 'cadastr' 'pesso' 'jurid' 'embossing' 'fatur'\n 'autoriz' 'poli' 'abandon' 'suspenca' 'carta' 'desus' 'poli' 'enquadr'\n 'inadimplenc' 'reabilitaca' 'cont' 'carta' 'mobil' 'phon' 'pag' 'carta'\n 'atrav' 'celul' 'poli' 'anuidad' 'cobranc' 'contenci' 'cobranc' 'litigi'\n 'reabilitaca' 'dinam' 'cont' 'carta' 'estimul' 'intern' 'cancel' 'cont'\n 'carta' 'wmt' 'informa' 'program' 'juni' 'set' 'desenvolv' 'sistem'\n 'administraca' 'escol' 'cust' 'industr' 'industr' 'farmaceu' 'formaca'\n 'academ' 'bacharel' 'administraca' 'empr' 'univers' 'sao' 'jud' 'tad'\n 'tecn' 'process' 'dad' 'colegi' 'brasil' 'desenvolv' 'profiss'\n 'programaca' 'cobol' 'cic' 'vs' 'ive' 'programaca' 'mainfram' 'tso'\n 'ispf' 'sd' 'vs' 'sort' 'ive' 'cobol' 'utiliz' 'ide' 'visual' 'cobol'\n 'eclips' 'ive' 'logic' 'programaca' 'idef' 'model' 'process' 'choos'\n 'uml' 'levant' 'requisit' 'sudameril' 'gerenc' 'projet' 'certificaca'\n 'pmp' 'dinsmor' 'seminari' 'sql' 'ibm' 'uml' 'procwork' 'tecn' 'analis'\n 'essenc' 'sistem' 'cpm' 'tecn' 'analis' 'estrut' 'sistem' 'cpm' 'famil'\n 'fundament' 'ibm' 'analis' 'dump' 'prodesp' 'cic' 'command' 'level'\n 'prodesp' 'natur' 'prodesp' 'adab' 'prodesp' 'fdl' 'xerox' 'prodesp'\n 'pdl' 'xerox' 'prodesp' 'cobol' 'informaco' 'adic' 'prodesp' 'brasil'\n 'passaport' 'vist' 'eua' 'val' 'viag' 'imediat' 'certificaca' 'project'\n 'management' 'profiss' 'pmp']"
        ],
        [
         "11",
         "formação escolar ensino superior concluído em 2007 – tecnologia em análise e desenvolvimento de sistemas qualificações profissionais  atendimento público e telefônico, rotinas de escritório (departamento fiscal, financeiro e pessoal)  captação de recursos e eventos experiência profissional sobre folha de pagamento, férias, rescisão de contrato. principais atividades: lançamentos e apuração de impostos sobre notas fiscais. lançamentos e envio de declarações fiscais. principais atividades: lançamentos e envio de declarações fiscais, atendimento, arquivamento e elaboração de planilhas para controle financeiro. principais atividades: fechamento de ponto eletrônico, emissão de notas fiscais, pagamentos, agendamentos e lançamentos fiscais.",
         "['formaca' 'escol' 'ensin' 'superi' 'conclu' 'tecnolog' 'analis'\n 'desenvolv' 'sistem' 'qualificaco' 'profiss' 'atend' 'publ' 'telefon'\n 'rotin' 'escritori' 'departament' 'fiscal' 'financ' 'pessoal' 'captaca'\n 'recurs' 'event' 'experienc' 'profiss' 'sobr' 'folh' 'pag' 'fer'\n 'rescisa' 'contrat' 'princip' 'ativ' 'lanc' 'apuraca' 'impost' 'sobr'\n 'not' 'fiscal' 'lanc' 'envi' 'declaraco' 'fiscal' 'princip' 'ativ' 'lanc'\n 'envi' 'declaraco' 'fiscal' 'atend' 'arquiv' 'elaboraca' 'planilh'\n 'control' 'financ' 'princip' 'ativ' 'fech' 'pont' 'eletron' 'emissa'\n 'not' 'fiscal' 'pag' 'agend' 'lanc' 'fiscal']"
        ],
        [
         "12",
         "perfil do currículo: profissional data de nascimento: 23/12/1987 bairro: madalena cidade: recife - pe pretensão salarial a combinar resumo do currículo analista de redes. graduado em gestão da tecnologia da informação. tenho domínio em plataforma microsoft windows server 2008/12/xp/vista, com sólidos conhecimentos de tecnologias de hardware, software; experiência em redes lan e wan, wireless, smartphones; inglês técnico; experiência em outlook, exchange, web mail, active directory; uso de ferramentas de atendimento remoto logmein,wts; habilidade para prestar suporte e orientação aos usuários; conhecimento na linguagem sql; bom relacionamento interpessoal e boa comunicação. disponível para viagens. analista de redes informações adicionais dahua dhsa iss - certificação técnica nível 1 e 2 mikrotik (certificado mtcre) curso mcsa cabeamento estruturado da nexans preparatório ccna mikrotik (certificado mtcna) wisenet samsung - certificação olt zte switch allied idiomas inglês: básico espanhol: básico experiência profissional radium telecomunicações ltda. - epp - 02/2017 até o momento - 4 anos e 9 meses responsável pela toda infraestrutura de rede e as configurações de seus serviços (dhcp, dns, nat), roteamento e vpn. responsável pelas instalações e configurações dos servidores (zabbix, ad, file server). responsável pelas configurações dos routerboard mikrotiks e dos switchs. experiência em rádios outdoor (canopy e ubiquiti), em cftv com câmeras ip's (samsung, darhua) e seus softwares de gerenciamentos (smartpss, iss, dss, smartviewer). responsável pelo serviço que a empresa vendo de provedor de internet. conhecimento em olt e onu zte. suporte a toda infraestrutura de rede da sede e filiais; suporte ao usuário; compra instalação, expansão, manutenção e atualização dos servidores; gerenciamento do antivírus corporativo; gestão de todos os planos de telecom da empresa, incluindo negociação com as operadoras, controle das contas dos créditos e dos aparelhos; gestão da rede de cftv de todas as unidades administrativas, com compras, instalação e manutenção das câmeras e sua central; gestão da central telefônica, com compra, manutenção e instalação dos ativos; cotação dos equipamentos de ti para aquisição da empresa e licitações; gerencia do e-mail corporativo; gestor de obras, quando nelas este relacionado à infraestrutura de rede lógica. cmtech comércio e serviços de informática ltda - 04/2012 a 07/2014 - 2 anos e 3 meses suporte ao usuário; responsável pela manutenção de computadores; instalar, configurar e atualizar programas de antivírus e antispywares; criação e manutenção de rotinas de cópias de segurança (instalar e manter diversos sistemas operacionais); configurar as contas de correio eletrônico; administração de servidores microsoft active directory, antivírus corporativo; configuração de ativos de rede; relacionamento com fornecedores e gerenciamento de contratos de prestadores de serviços de ti; ajuda na implantação do service desk com a conscientização do usuário e mostrando as suas vantagens. eccoprime bilingual school - 07/2011 a 02/2012 - 7 meses toda a infraestrutura de rede; suporte a usuário; responsável pela manutenção dos computadores; manutenção e configuração de rede; configuração de servidores virtuais do windows; manutenção da sala de áudio visual e manuseio dos projetores. foi feito um projeto para desenvolver um sistema web em php para cadastrar os livros da biblioteca. agencia estadual de tecnologia da informação - 10/2007 a 06/2010 - 2 anos e 8 meses manutenção de computadores; suporte ao usuário; instalação de softwares, sistemas operacionais e configuração de redes ethernet, além da configuração de roteadores e access point. formação graduação #1 instituição: estácio grau de formação: graduação nome do curso: gestão da tecnologia da informação graduação #2 instituição: mauricio de nassau grau de formação: graduação nome do curso: sistemas de informação graduação #3 instituição: faculdade metropolitana grau de formação: pós-graduação nome do curso: ciência de dados e big data analytics",
         "['perfil' 'curricul' 'profiss' 'dat' 'nasc' 'bairr' 'madalen' 'cidad'\n 'recif' 'pretensa' 'salar' 'combin' 'resum' 'curricul' 'anal' 'red'\n 'gradu' 'gesta' 'tecnolog' 'informaca' 'domini' 'plataform' 'microsoft'\n 'window' 'serv' 'vist' 'sol' 'conhec' 'tecnolog' 'hardw' 'softw'\n 'experienc' 'red' 'lan' 'smartphon' 'ingl' 'tecn' 'experienc' 'outlook'\n 'exchang' 'web' 'mail' 'activ' 'directory' 'uso' 'ferrament' 'atend'\n 'remot' 'logmein' 'wt' 'habil' 'prest' 'suport' 'orientaca' 'usuari'\n 'conhec' 'lingu' 'sql' 'bom' 'relacion' 'interpesso' 'boa' 'comunicaca'\n 'disponi' 'viag' 'anal' 'red' 'informaco' 'adic' 'dahu' 'is'\n 'certificaca' 'tecn' 'nivel' 'mikrotik' 'certific' 'mtcr' 'curs' 'mcs'\n 'cabe' 'estrutur' 'nex' 'preparatori' 'ccn' 'mikrotik' 'certific' 'mtcn'\n 'wisenet' 'samsung' 'certificaca' 'olt' 'zte' 'switch' 'allied' 'idiom'\n 'ingl' 'basic' 'espanhol' 'basic' 'experienc' 'profiss' 'radium'\n 'telecomunicaco' 'ltd' 'epp' 'ate' 'moment' 'ano' 'mes' 'responsa' 'tod'\n 'infraestrut' 'red' 'configuraco' 'serv' 'dhcp' 'dm' 'nat' 'rote' 'vpn'\n 'responsa' 'instalaco' 'configuraco' 'serv' 'zabbix' 'fil' 'serv'\n 'responsa' 'configuraco' 'routerboard' 'mikrotik' 'switch' 'experienc'\n 'radi' 'outdo' 'canopy' 'ubiquit' 'cftv' 'cam' 'samsung' 'darhu' 'softw'\n 'gerenc' 'smartps' 'is' 'ds' 'smartview' 'responsa' 'serv' 'empr' 'vend'\n 'prov' 'internet' 'conhec' 'olt' 'onu' 'zte' 'suport' 'tod' 'infraestrut'\n 'red' 'sed' 'fil' 'suport' 'usuari' 'compr' 'instalaca' 'expansa'\n 'manutenca' 'atualizaca' 'serv' 'gerenc' 'antiviru' 'corpor' 'gesta'\n 'tod' 'plan' 'telecom' 'empr' 'inclu' 'negociaca' 'oper' 'control' 'cont'\n 'credit' 'aparelh' 'gesta' 'red' 'cftv' 'tod' 'unidad' 'administr'\n 'compr' 'instalaca' 'manutenca' 'cam' 'centr' 'gesta' 'centr' 'telefon'\n 'compr' 'manutenca' 'instalaca' 'ativ' 'cotaca' 'equip' 'aquisica' 'empr'\n 'licitaco' 'gerenc' 'mail' 'corpor' 'ges' 'obr' 'nel' 'relacion'\n 'infraestrut' 'red' 'logic' 'cmtech' 'comerci' 'serv' 'informa' 'ltd'\n 'ano' 'mes' 'suport' 'usuari' 'responsa' 'manutenca' 'comput' 'instal'\n 'configur' 'atual' 'program' 'antiviru' 'antispyw' 'criaca' 'manutenca'\n 'rotin' 'cop' 'seguranc' 'instal' 'mant' 'divers' 'sistem' 'operac'\n 'configur' 'cont' 'correi' 'eletron' 'administraca' 'serv' 'microsoft'\n 'activ' 'directory' 'antiviru' 'corpor' 'configuraca' 'ativ' 'red'\n 'relacion' 'fornec' 'gerenc' 'contrat' 'prest' 'serv' 'ajud' 'implantaca'\n 'serv' 'desk' 'conscientizaca' 'usuari' 'mostr' 'vantag' 'eccoprim'\n 'biling' 'school' 'mes' 'tod' 'infraestrut' 'red' 'suport' 'usuari'\n 'responsa' 'manutenca' 'comput' 'manutenca' 'configuraca' 'red'\n 'configuraca' 'serv' 'virtual' 'window' 'manutenca' 'sal' 'audi' 'visual'\n 'manusei' 'proje' 'feit' 'projet' 'desenvolv' 'sistem' 'web' 'php'\n 'cadastr' 'livr' 'bibliotec' 'agenc' 'estad' 'tecnolog' 'informaca' 'ano'\n 'mes' 'manutenca' 'comput' 'suport' 'usuari' 'instalaca' 'softw' 'sistem'\n 'operac' 'configuraca' 'red' 'ethernet' 'alem' 'configuraca' 'rote'\n 'acces' 'point' 'formaca' 'graduaca' 'instituica' 'estaci' 'grau'\n 'formaca' 'graduaca' 'nom' 'curs' 'gesta' 'tecnolog' 'informaca'\n 'graduaca' 'grau' 'formaca' 'graduaca' 'nom' 'curs' 'sistem' 'informaca'\n 'graduaca' 'instituica' 'faculdad' 'metropolit' 'grau' 'formaca' 'po'\n 'graduaca' 'nom' 'curs' 'cienc' 'dad' 'big' 'dat' 'analytic']"
        ],
        [
         "13",
         "_______________________________________________________________________________________________________________________ cep: 13024 - 045 - cambuí - campinas - sp _______________________________________________________________________________________________________________________ analista de testes / qa / programadora / analista de negócios _______________________________________________________________________________________________________________________ principais atribuições ● experiência profissional de 25 anos na área de tecnologia da informação com efetiva participação no desenho de solução e desenvolvimento de sistemas do segmento financeiro. ● facilidade de comunicação favorecendo o contato interpessoal com clientes, parceiros e equipe de trabalho. ● atuação como scrum master em metodologia ágil, definição das métricas, sendo facilitador do dailyscrum, mantendo kanban atualizado com as estórias e fases (to do, in progress, done), refinando os itens para próxima sprint junto product owner e no jira agile e atuando principalmente em atividades para remover impedimentos e dificuldades do time. ● levantamento de requisitos, análise, implementação e implantação de soluções de acordo com as normas e padrões de trabalho vigentes de sistemas na área bancária e administração pública. ● implementação e implantação de projetos da área bancária em ambiente mainframe utilizando metodologia estruturada e metodologia ágil e na plataforma client-server utilizando metodología orientada a objeto. ● montagem de especificação funcional com as regras e requisitos de negócios e desenho de solução ● definição do escopo de projeto, através de levantamento junto ao cliente e controle no desenvolvimento dos processos. ● disponibilidade para trabalhar em alphaville, são paulo, campinas e região. formação acadêmica superior: formação em sistemas de informações com ênfase em análise de negócio pucc - pontifícia universidade católica de campinas técnico: processamento de dados etec - escola salesiana são josé cursos de aperfeiçoamento ● sm – scrum master (certificação safe 4 scrum master) ● jira agile – gestão do projeto ágil ● integração entre plataformas mainframe e open ● alm – testes ● mercado financeiro nacional e internacional – curso ministrado na anbima ● apf – analise de pontos de função ● gestão de projetos ● ms-project ● soa – arquitetura orientada ao objeto ● banco de dados db2, sql/ds, vsam, dbvsam ● modelagem de dados ● linguagem de programação cobol, cics, ims, csp, telon, mantis, easytrieve, generol, aes e visual basic. ● analise estruturada de sistemas e análise funcional ● ferramenta case – multicase ● engenharia da informação ● ferramentas: workbench, qmf, xedit, erwin, tso, roscoe, changeman, cms experiência profissional iventis tecnologia, alocado em cliente: dez/2020 até set/2021 – atuação com scrum master na gestão dos projetos das squad´s: - marketplace de numerários para comercialização através da plataforma desenvolvida; - offering digital, projeto em parceria com o itaú para desenvolvimento do saque por api; - instalação de pacote para controle de auditoria, controle, riscos e compliance. metodologia ágil, planner, project, sap para gestão financeira do projeto, clarity para acompanhamento do projeto banco santander, alocada por consultoria de abril/2017 a dez/2020, atuação como analista de negócios e scrum master nos times: - rh para construção de rpa´s para automação de processos na ferramenta workday. - construção do sistema de cadastro de clientes do sistema financeiro nacional (ccs) para comunicação com o bacen. envio da posição do cliente dos produtos elegíveis para o bacen. - squad de fundos de investimentos, definição de funcional para extração de dados para envio ao sistema ccs/bacen. - squad de cartões, desenvolvimento do front nas funcionalidades de fluxo completo de aquisição de cartão para clientes correntistas; cancelamento de cartão e aquisição do seguro cartão protegido. análise, programação e testes até a validação com gestores. metodologia ágil, jira, integração de baixa plataforma oracle, javascript, jscript, phyton, alm. ibm: julho de 2016 a dezembro de 2016, atuando com cliente at&t com análise e especificações de testes visando entender os requisitos do cliente, gerando massa de dados e execução dos testes para o desenvolvimento do projeto. ferramentas: alm banco bradesco: dezembro de 2010 a maio de 2016, clt, atuando como analista/lider responsável em projetos de desenvolvimento e sustentação, na área de investimentos como: cdb, lca, lci e fundos de renda fixa e variável, na administração troca de moeda financeira através do swap, aplicação em grupos de rendimentos administrados através do coe (certificado de operações estruturadas). atuando em projetos desde a sua contratação até a implantação. realizando levantamento das necessidades, definição de requisitos e regras de negócios junto aos gestores do produto, acionando empresas parceiras para desenvolvimento, acompanhando gerencial das etapas de desenvolvimento, e implantação dos projetos. responsável pela comunicação entre ti, gestão de negócio e empresas parceiras. validação dos sistemas junto aos requisitos dos gestores, elaboração dos testes no ambientes de homologação. participação do desenvolvimento do projeto de condições particulares de aplicação em cdb utilizando metodologia ágil. atuando em projetos de baixa plataforma (java e vb) e mainframe. consultorias de sistemas atendendo ao banco bradesco: janeiro de 1996 a dezembro de 2010, participação nos projetos: - desenho lógico e desenvolvimento físico do sistema de convivência e migração de campanhas de marketing e de fidelização, com base de dados em teradata. participando do desenvolvimento do sistema de ações força de vendas. - sistemas de riscos – levantamento das necessidades para definição de índices que definam o perfil do tomador do credito, bem como, os riscos interno e externo inerentes à concessão. - cartão de crédito – manutenção na emissão de correspondências ao cliente, emissão de fatura, aviso de senha, emissão de novo cartão de crédito, criação de código de barras para acompanhamento da correspondência; manutenção de cálculos de cobrança de juros aplicados a cartão internacional e compras no exterior, inclusão de módulo de migração da bandeira mastercard/visa. - licenciamentos - licenciamento de veículos, implementação da confirmação de pagamento na agência; arrecadação de ipva, dpvat. criação e incorporação do cidadetran no bradesco. - comprovantes de pagamento – desenvolvimento da emissão de comprovante de pagamento (hollerith) no terminal de autoatendimento. - gestão de tarifas – desenvolvimento do sistema unificado para cobrança de tarifas bancária. desenvolvimento do sistema de consórcio entre bancos para compor carteira de empréstimos - leasing - participação na definição do projeto lógico e criação dos documentos (contexto, dfd, der e mer). - crédito rural – desenvolvimento de sistema para controle de fiscalização de crédito rural. - gestão de desempenho a apoio a decisão – desenvolvimento para compor a base de dados com os sistemas de arrecadação e empréstimos. - pagamento de benefícios - manutenção na rotina de pagamentos de benefícios inss e flexibilização do horário de fechamento de envio de ted´s. - previdência privada – desenvolvimento da base única de cadastro dos contribuintes. conversão do ano 2000. banco bcn: novembro de 1994 a janeiro de 1996, manutenção no sistema de risco, integrado com todos os produtos do banco e conversão ano 2000 (on-line e batch) - sistemas de mutuário, financiadora, conta corrente e reformulação do sistema de leasing, reestruturação banco de dados (db2). início da carreira, estagio em programação formação colégio técnico, início em março de 1990. estagio em análise de sistemas formação graduação",
         "['cep' 'cambu' 'campin' 'anal' 'test' 'program' 'anal' 'negoci' 'princip'\n 'atribuico' 'experienc' 'profiss' 'ano' 'are' 'tecnolog' 'informaca'\n 'efet' 'participaca' 'desenh' 'soluca' 'desenvolv' 'sistem' 'segment'\n 'financ' 'facil' 'comunicaca' 'favorec' 'contat' 'interpesso' 'client'\n 'parc' 'equip' 'trabalh' 'atuaca' 'scrum' 'mast' 'metodolog' 'agil'\n 'definica' 'metr' 'send' 'facilit' 'dailyscrum' 'mant' 'atual' 'estor'\n 'fas' 'progres' 'don' 'refin' 'it' 'prox' 'sprint' 'junt' 'product' 'own'\n 'jir' 'agil' 'atu' 'princip' 'ativ' 'remov' 'imped' 'dificuldad' 'tim'\n 'levant' 'requisit' 'analis' 'implementaca' 'implantaca' 'soluco' 'acord'\n 'norm' 'padro' 'trabalh' 'vigent' 'sistem' 'are' 'banc' 'administraca'\n 'publ' 'implementaca' 'implantaca' 'projet' 'are' 'banc' 'ambi'\n 'mainfram' 'utiliz' 'metodolog' 'estrutur' 'metodolog' 'agil' 'plataform'\n 'client' 'serv' 'utiliz' 'metodolog' 'orient' 'objet' 'mont'\n 'especificaca' 'func' 'regr' 'requisit' 'negoci' 'desenh' 'soluca'\n 'definica' 'escop' 'projet' 'atrav' 'levant' 'junt' 'client' 'control'\n 'desenvolv' 'process' 'disponibil' 'trabalh' 'alphavill' 'sao' 'paul'\n 'campin' 'regia' 'formaca' 'academ' 'superi' 'formaca' 'sistem'\n 'informaco' 'enfas' 'analis' 'negoci' 'pucc' 'pontific' 'univers' 'catol'\n 'campin' 'tecn' 'process' 'dad' 'etec' 'escol' 'salesi' 'sao' 'jos'\n 'curs' 'aperfeico' 'scrum' 'mast' 'certificaca' 'saf' 'scrum' 'mast'\n 'jir' 'agil' 'gesta' 'projet' 'agil' 'integraca' 'plataform' 'mainfram'\n 'open' 'alm' 'test' 'merc' 'financ' 'nacion' 'internac' 'curs' 'ministr'\n 'anb' 'apf' 'analis' 'pont' 'funca' 'gesta' 'projet' 'project' 'soa'\n 'arquitet' 'orient' 'objet' 'banc' 'dad' 'sql' 'vs' 'dbvs' 'model' 'dad'\n 'lingu' 'programaca' 'cobol' 'cic' 'im' 'csp' 'telon' 'mantil'\n 'easytriev' 'visual' 'basic' 'analis' 'estrutur' 'sistem' 'analis' 'func'\n 'ferrament' 'cas' 'multicas' 'engenh' 'informaca' 'ferrament' 'workbench'\n 'qmf' 'xedit' 'experienc' 'profiss' 'iventil' 'tecnolog' 'aloc' 'client'\n 'dez' 'ate' 'set' 'atuaca' 'scrum' 'mast' 'gesta' 'projet' 'squad'\n 'marketplac' 'numerari' 'comercializaca' 'atrav' 'plataform' 'desenvolv'\n 'offering' 'digit' 'projet' 'parc' 'itau' 'desenvolv' 'saqu' 'api'\n 'instalaca' 'pacot' 'control' 'audit' 'control' 'risc' 'complianc'\n 'metodolog' 'project' 'sap' 'gesta' 'financ' 'projet' 'clarity'\n 'acompanh' 'projet' 'banc' 'santand' 'aloc' 'consult' 'abril' 'dez'\n 'atuaca' 'anal' 'negoci' 'scrum' 'mast' 'tim' 'construca' 'rpa'\n 'automaca' 'process' 'ferrament' 'workday' 'construca' 'sistem' 'cadastr'\n 'client' 'sistem' 'financ' 'nacion' 'cc' 'comunicaca' 'bacen' 'envi'\n 'posica' 'client' 'produt' 'elegi' 'bacen' 'squad' 'fund' 'invest'\n 'definica' 'func' 'extraca' 'dad' 'envi' 'sistem' 'cc' 'squad' 'carto'\n 'desenvolv' 'front' 'funcional' 'flux' 'complet' 'aquisica' 'carta'\n 'client' 'corrent' 'cancel' 'carta' 'aquisica' 'segur' 'carta' 'proteg'\n 'analis' 'programaca' 'test' 'ate' 'validaca' 'ges' 'metodolog' 'agil'\n 'jir' 'integraca' 'baix' 'plataform' 'oracl' 'javascript' 'jscript'\n 'phyton' 'alm' 'ibm' 'julh' 'dezembr' 'atu' 'client' 'analis'\n 'especificaco' 'test' 'vis' 'entend' 'requisit' 'client' 'ger' 'mass'\n 'dad' 'execuca' 'test' 'desenvolv' 'projet' 'ferrament' 'alm' 'banc'\n 'brad' 'dezembr' 'mai' 'clt' 'atu' 'anal' 'lid' 'responsa' 'projet'\n 'desenvolv' 'sustentaca' 'are' 'invest' 'fund' 'rend' 'fix' 'varia'\n 'administraca' 'troc' 'moed' 'financ' 'atrav' 'swap' 'aplicaca' 'grup'\n 'rend' 'administr' 'atrav' 'coe' 'certific' 'operaco' 'estrutur' 'atu'\n 'projet' 'desd' 'contrataca' 'ate' 'implantaca' 'realiz' 'levant'\n 'necess' 'definica' 'requisit' 'regr' 'negoci' 'junt' 'ges' 'produt'\n 'acion' 'empr' 'parc' 'desenvolv' 'acompanh' 'gerenc' 'etap' 'desenvolv'\n 'implantaca' 'projet' 'responsa' 'comunicaca' 'gesta' 'negoci' 'empr'\n 'parc' 'validaca' 'sistem' 'junt' 'requisit' 'ges' 'elaboraca' 'test'\n 'ambi' 'homologaca' 'participaca' 'desenvolv' 'projet' 'condico'\n 'particul' 'cdb' 'utiliz' 'metodolog' 'agil' 'atu' 'projet' 'baix'\n 'plataform' 'jav' 'mainfram' 'consult' 'sistem' 'atend' 'banc' 'brad'\n 'jan' 'dezembr' 'participaca' 'projet' 'desenh' 'logic' 'desenvolv'\n 'fisic' 'sistem' 'convivenc' 'migraca' 'campanh' 'marketing' 'fidelizaca'\n 'bas' 'dad' 'teradat' 'particip' 'desenvolv' 'sistem' 'aco' 'forc' 'vend'\n 'sistem' 'risc' 'levant' 'necess' 'definica' 'indic' 'defin' 'perfil'\n 'tom' 'credit' 'bem' 'risc' 'intern' 'extern' 'iner' 'concessa' 'carta'\n 'credit' 'manutenca' 'emissa' 'correspondenc' 'client' 'emissa' 'fatur'\n 'avis' 'senh' 'emissa' 'nov' 'carta' 'credit' 'criaca' 'codig' 'barr'\n 'acompanh' 'correspondenc' 'manutenca' 'calcul' 'cobranc' 'jur' 'aplic'\n 'carta' 'internac' 'compr' 'exteri' 'inclusa' 'modul' 'migraca' 'bande'\n 'mastercard' 'vis' 'licenc' 'licenc' 'veicul' 'implementaca' 'confirmaca'\n 'pag' 'agenc' 'arrecadaca' 'ipv' 'dpvat' 'criaca' 'incorporaca'\n 'cidadetran' 'brad' 'comprov' 'pag' 'desenvolv' 'emissa' 'comprov' 'pag'\n 'hollerith' 'term' 'autoatend' 'gesta' 'tarif' 'desenvolv' 'sistem'\n 'unific' 'cobranc' 'tarif' 'banc' 'desenvolv' 'sistem' 'banc' 'comp'\n 'cart' 'emprest' 'leasing' 'participaca' 'definica' 'projet' 'logic'\n 'criaca' 'document' 'context' 'dfd' 'der' 'mer' 'credit' 'rural'\n 'desenvolv' 'sistem' 'control' 'fiscalizaca' 'credit' 'rural' 'gesta'\n 'desempenh' 'apoi' 'decisa' 'desenvolv' 'comp' 'bas' 'dad' 'sistem'\n 'arrecadaca' 'emprest' 'pag' 'benefici' 'manutenca' 'rotin' 'pag'\n 'benefici' 'ins' 'flexibilizaca' 'horari' 'fech' 'envi' 'ted' 'previdenc'\n 'priv' 'desenvolv' 'bas' 'unic' 'cadastr' 'contribuint' 'conversa' 'ano'\n 'banc' 'bcn' 'novembr' 'jan' 'manutenca' 'sistem' 'risc' 'integr' 'tod'\n 'produt' 'banc' 'conversa' 'ano' 'lin' 'batch' 'sistem' 'mutuari'\n 'financi' 'cont' 'corr' 'reformulaca' 'sistem' 'leasing' 'reestruturaca'\n 'banc' 'dad' 'inici' 'carr' 'estagi' 'programaca' 'formaca' 'colegi'\n 'tecn' 'inici' 'marc' 'estagi' 'analis' 'sistem' 'formaca' 'graduaca']"
        ],
        [
         "14",
         "analista de sistemas quality s/a. | agosto de 2019 - presente - suporte aos colaboradores nas unidades offshore e onshore. - suporte aos seguintes sistema (maximo, drake, mercado eletrônico) técnico de informática fgb serviços informática ltda.| setembro de 2017 - junho de 2019 - manutenção em notebooks, desktops - helpdesk aos colaboradores. - resolução de problemas referentes a configuração de celulares. - resolução de problemas referentes a wi-fi e redes cabeadas.",
         "['anal' 'sistem' 'quality' 'agost' 'pres' 'suport' 'colabor' 'unidad'\n 'offshor' 'onshor' 'suport' 'seguint' 'sistem' 'max' 'drak' 'merc'\n 'eletron' 'tecn' 'informa' 'fgb' 'serv' 'informa' 'ltd' 'setembr' 'junh'\n 'manutenca' 'notebook' 'desktop' 'helpdesk' 'colabor' 'resoluca'\n 'problem' 'refer' 'configuraca' 'celul' 'resoluca' 'problem' 'refer'\n 'red' 'cabe']"
        ],
        [
         "15",
         "job objective: to obtain a position, where i can to contribute whit my knowledge to the development of the company and improve my abilities. education: sao judas tadeu university, sao paulo brazil 2009 – 2010 postgraduate engineering computer networking and telecommunications services eniac college, sao paulo brazil 2005 – 2007 graduation in computer networks etec – technical school, são paulo brasil 2020 – 2021 systems development technician certifications: ccnp - 300 135 - troubleshooting and maintaining cisco ip networks dec 2019 ccnp - 300 115 - implementing cisco ip switched feb 2018 ccnp - 300-101 - implementing cisco ip routing may 2015 ccna - implementing cisco ios network security may 2013 ccna - cisco network academy certification sep 2008 knowledge in computer: windows 2010, office package, linux basic, windows server 2003, outlook express, visio, citrix, nagios, cacti, solar winds, scan networks. complementary courses: itil foundation entity: telefonica ipv6 entity: nic.br english: advanced entity: sslc - sprott shaw language college - toronto/vancouver – canada (may-jul 2019) entity: poliglota university of são paulo (usp) - brazil portuguese: native language professional experience: network specialist, latam 2019 - actual lumen technology support and activation of l2 switches, for new latam customers. data center infrastructure support. senior network analyst 2016 - 2018 bank rendimento performance in support, improvement and monitoring of networks implementation of projects. clean up asa firewall, ise deployment at the branch office and branch offices updates and manages devices at solarwinds. senior network analyst 2013 - 2016 embratel acting in activation of data networks and telephony at national and latin american level for all clients of the embratel portfolio, support level 3 for the other analysts of the team. telecom analyst ii 2008 - 2013 telefonica – vivo expertise in level 2 support for resolving incidents telecom, remote activation of routers and switches to branches of banco real, santander and mapfre. expertise in incident management team of mobile monitoring and management incident mobiles. network analyst trainee 2008 verizon business implementation of networks for agencies of banco real and troubleshooting to fix small problems. trainee 2006 -2007 ntt brazil communications checking and monitoring circuits of computer networks, opening and monitoring of operators called in to survey the circuits, basic configurations of routers, basic support to user networks, configuration email accounts. knowledge acquired: data: configuration of routers and switches and networking technologies and protocols: bgp, ospf, eigrp, rip, hsrp, vrrp. manufacturers cisco, 3com and hp. voice: activation of voice services with r2 signaling and isdn cards e1, fxs and fxo with manufacturers cisco, hp, digistar. security: rules and permissions on f5, cisco firewall – asa, appliance cisco ise. hardware: nexus 5k, nexus2k, router 1900. participation in projects: bank rendimento: clean up asa firewall, ise deployment at the branch office and branch offices updates and manages devices at solarwinds customer caixa economica federal bank: activation of telephony in all units of brazil. customer itau bank: activation and migration of data and voice circuits in all units in brazil. customer ministry of justice and americans store: activation of data and voice circuits in all centers in brazil. customer santander bank: participation and performance in the migration project operators of all links of the units in brazil. customer santander bank: participation and performance in project up grid links all the units in brazil. customer santander bank: participation and performance in project roll out in addressing lan all agencies. customer pdg construction: development of the assessment of all units in brazil, total of 30 units. relying on a future interview where i can show more details about my skills and experiences.",
         "['position' 'wher' 'can' 'contribut' 'whit' 'knowledg' 'the' 'development'\n 'the' 'company' 'and' 'improv' 'abiliti' 'education' 'sao' 'jud' 'tad'\n 'university' 'sao' 'postgraduat' 'engineering' 'comput' 'networking'\n 'and' 'telecommunicatiom' 'serv' 'eniac' 'colleg' 'sao' 'paul' 'brazil'\n 'graduation' 'comput' 'network' 'etec' 'technic' 'school' 'sao' 'paul'\n 'brasil' 'syst' 'development' 'technician' 'certificatiom' 'ccnp'\n 'troubleshooting' 'and' 'maintaining' 'cisc' 'network' 'dec' 'ccnp'\n 'implementing' 'cisc' 'switched' 'feb' 'ccnp' 'implementing' 'cisc'\n 'routing' 'may' 'ccn' 'implementing' 'cisc' 'io' 'network' 'security'\n 'may' 'ccn' 'cisc' 'network' 'academy' 'certification' 'sep' 'knowledg'\n 'comput' 'window' 'offic' 'packag' 'linux' 'basic' 'window' 'serv'\n 'outlook' 'expres' 'nagi' 'cact' 'sol' 'wind' 'scan' 'network'\n 'complementary' 'cours' 'itil' 'foundation' 'entity' 'telefon' 'ipv'\n 'entity' 'nic' 'english' 'advanced' 'entity' 'sslc' 'sprott' 'shaw'\n 'languag' 'colleg' 'toront' 'vancouv' 'can' 'may' 'jul' 'entity'\n 'poliglot' 'university' 'sao' 'paul' 'usp' 'brazil' 'portugues' 'nativ'\n 'languag' 'profess' 'experienc' 'network' 'specialist' 'lat' 'act'\n 'lumen' 'technology' 'support' 'and' 'activation' 'switch' 'new' 'lat'\n 'custom' 'dat' 'cent' 'infrastructur' 'rend' 'performanc' 'support'\n 'improvement' 'and' 'monitoring' 'network' 'implementation' 'project'\n 'clean' 'asa' 'firewall' 'ise' 'deployment' 'the' 'branch' 'offic' 'and'\n 'branch' 'offic' 'updat' 'and' 'manag' 'devic' 'solarwind' 'seni'\n 'network' 'analyst' 'embratel' 'acting' 'activation' 'dat' 'network'\n 'and' 'telephony' 'nation' 'and' 'latin' 'american' 'level' 'all'\n 'client' 'the' 'embratel' 'portfoli' 'support' 'level' 'the' 'oth'\n 'analyst' 'the' 'te' 'telecom' 'analyst' 'telefon' 'viv' 'expertis'\n 'level' 'support' 'resolving' 'incident' 'telecom' 'remot' 'activation'\n 'rout' 'and' 'switch' 'branch' 'banc' 'real' 'santand' 'and' 'mapfr'\n 'expertis' 'incident' 'management' 'te' 'mobil' 'monitoring' 'and'\n 'management' 'incident' 'movel' 'network' 'analyst' 'traine' 'verizon'\n 'busines' 'implementation' 'network' 'agenci' 'banc' 'real' 'and'\n 'troubleshooting' 'fix' 'small' 'probl' 'traine' 'ntt' 'brazil'\n 'communicatiom' 'checking' 'and' 'monitoring' 'circuit' 'comput'\n 'network' 'opening' 'and' 'monitoring' 'opera' 'called' 'survey' 'the'\n 'circuit' 'basic' 'configuratiom' 'rout' 'basic' 'support' 'us' 'network'\n 'configuration' 'email' 'account' 'dat' 'configuration' 'rout' 'and'\n 'switch' 'and' 'networking' 'technologi' 'and' 'protocol' 'eigrp' 'cisc'\n 'and' 'voic' 'activation' 'voic' 'serv' 'with' 'signaling' 'and' 'isdn'\n 'card' 'fx' 'and' 'fxo' 'with' 'manufactur' 'cisc' 'digist' 'security'\n 'rul' 'and' 'permissiom' 'cisc' 'firewall' 'asa' 'applianc' 'cisc' 'ise'\n 'hardw' 'nexu' 'rout' 'participation' 'project' 'bank' 'rend' 'clean'\n 'asa' 'firewall' 'ise' 'deployment' 'the' 'branch' 'offic' 'and' 'branch'\n 'offic' 'updat' 'and' 'manag' 'devic' 'solarwind' 'custom' 'caix'\n 'econom' 'feder' 'bank' 'activation' 'telephony' 'all' 'unit' 'brazil'\n 'custom' 'itau' 'bank' 'activation' 'and' 'migration' 'dat' 'and' 'voic'\n 'circuit' 'all' 'unit' 'brazil' 'custom' 'ministry' 'just' 'and' 'americ'\n 'stor' 'activation' 'dat' 'and' 'voic' 'circuit' 'all' 'cent' 'brazil'\n 'custom' 'santand' 'bank' 'participation' 'and' 'performanc' 'the'\n 'migration' 'project' 'opera' 'all' 'link' 'the' 'unit' 'brazil' 'custom'\n 'santand' 'bank' 'participation' 'and' 'performanc' 'project' 'grid'\n 'link' 'all' 'the' 'unit' 'brazil' 'custom' 'santand' 'bank'\n 'participation' 'and' 'performanc' 'project' 'roll' 'out' 'addressing'\n 'lan' 'all' 'agenci' 'custom' 'pdg' 'construction' 'development' 'the'\n 'assessment' 'all' 'unit' 'brazil' 'total' 'unit' 'relying' 'futur'\n 'interview' 'wher' 'can' 'show' 'mor' 'detail' 'about' 'skill' 'and'\n 'experienc']"
        ],
        [
         "16",
         "revelo igor josé fernandes pereira apresentação atuei na área de tecnologia por 10 anos com foco em infraestrutura, telecomunicações e suporte técnico. me formei em análise e desenvolvimento de sistemas em 2019. atualmente venho estudando front-end e virtualização. revelo objetivo ingressar na área de desenvolvimento atuando com testes, devops ou frontend. experiência prefeitura de caraguatatuba - estagiário outubro de 2011 - novembro 2012 ● manutenção em equipamentos de informática, instalação de sistemas e virtualização por vitualbox/vmware. revelo ● configuração de switches, atendimento remoto via teamviewer. niponet ltda., - técnico telecom maio 2013 -julho 2014 ● instalação de equipamentos de wireless microtik/ubiquiti ● configuração de rede ip - pppoe ● definir itinerário e atendimento ao cliente . poupatempo caraguatatuba - técnico de informática março 2016 - outubro 2020 ● acompanhar e reportar falhas de sistemas .gov e detran sp via icms. ● criar usuários no domínio active directory, política de segurança gpos. revelo ● instalar e atualizar sistemas. ● criar e atualizar regras de acesso via switches utilizando acls. ● manutenção e criação de pontos de rede e ramais telefônicos/ voips. graduação e.e alcides galvão de castro - ensino médio dezembro 2010 centro universitário módulo - ccna cisco fundamentals networks dezembro 2011 centro universitário módulo - análise e desenvolvimento de sistemas revelo agosto 2019 conhecimentos técnicos html, php, java, js, react, angular, rest api, mysql, mongodb, windows, linux, metodologia scrum, cisco switches, aws, azure e google cloud.",
         "['apresentaca' 'atu' 'are' 'tecnolog' 'ano' 'foc' 'infraestrut'\n 'telecomunicaco' 'suport' 'tecn' 'form' 'analis' 'desenvolv' 'sistem'\n 'atual' 'venh' 'estud' 'front' 'end' 'virtualizaca' 'revel' 'obje'\n 'ingress' 'are' 'desenvolv' 'atu' 'test' 'devop' 'frontend' 'experienc'\n 'prefeit' 'caraguatatub' 'estagiari' 'outubr' 'novembr' 'manutenca'\n 'equip' 'informa' 'instalaca' 'sistem' 'virtualizaca' 'vitualbox' 'vmw'\n 'revel' 'configuraca' 'switch' 'atend' 'remot' 'via' 'teamview' 'niponet'\n 'ltd' 'tecn' 'telecom' 'mai' 'julh' 'instalaca' 'equip' 'wireles'\n 'microtik' 'ubiquit' 'configuraca' 'red' 'pppo' 'defin' 'itinerari'\n 'atend' 'client' 'poupatemp' 'caraguatatub' 'tecn' 'informa' 'marc'\n 'outubr' 'acompanh' 'report' 'falh' 'sistem' 'gov' 'detran' 'via' 'icm'\n 'cri' 'usuari' 'domini' 'activ' 'directory' 'poli' 'seguranc' 'gpo'\n 'revel' 'instal' 'atual' 'sistem' 'cri' 'atual' 'regr' 'acess' 'via'\n 'switch' 'utiliz' 'acl' 'manutenca' 'criaca' 'pont' 'red' 'ramal'\n 'telefon' 'voip' 'graduaca' 'alcid' 'galva' 'ensin' 'medi' 'dezembr'\n 'centr' 'universitari' 'modul' 'ccn' 'cisc' 'fundament' 'network'\n 'dezembr' 'centr' 'universitari' 'modul' 'analis' 'desenvolv' 'sistem'\n 'revel' 'agost' 'conhec' 'tecn' 'jav' 'api' 'mysql' 'mongodb' 'window'\n 'linux' 'metodolog' 'scrum' 'switch' 'aw' 'azur' 'googl' 'cloud']"
        ],
        [
         "17",
         "j ú l i o d e a l m e i d a l o p e s c a n d i d o jabaquara - são paulo/sp - brasil e-mail: julio.al.candido@protonmail.com através do sistema de chamados cervello, faço atendimento a usuários, windows. os atendimentos vão de problemas com software até hardware, nos quais são, aplicações com erro de conexão, configuração de máquina e formatação. experiências profissionais analista de suporte n2/pj - latam airlines outubro/2021 - atualmente através do sistema de chamados jira, faço atendimento a usuários macos e windows. os atendimentos vão de problemas com software até hardware, nos quais são, aplicações com erro de conexão, configuração e também faço manutenção em imacs .e gerencio o servidor ad (active directory). analista de suporte/pj - editora moderna maio/2021 - outubro/2021 através de sistema de chamados otrs atendia solicitações de manutenção de equipamentos (notebooks dell e macbooks ) os serviços de manutenção eram erros de conexão, periféricos e problemas com o equipamento. resolvia problemas na telefonia vmware esxi. responsável pela rede de computadores da empresa, cuidando do hack de servidores e do hack de rede. analista de infraestrutura jr - wba software corporativo sa janeiro de 2020 - setembro de 2020 analista de infraestrutura objetivo tecnologo em gestão de tecnologia da informação centro universitário das américas - fam janeiro/2018 - junho/2020 formação acadêmica bacharelado sistemas de informação universidade nove de julho - uninove janeiro/2021 - dezembro/2025 - redes; - sistemas operacionais (windows, linux e macos) - servidores (windows server e linux); - aws; - itil; - cobit; - scrum; - telecom: ipbx e pabx; areas de experiencia - ms- office; - power bi; - user experience (ux); - customer experience (cx); - python; -html/css3 -ms-project -ms-visio modelagem de negócios - digital innovation one introdução a criação de websites com html5 e css3 - digital innovation one fundamentos de arquitetura de sistemas - digital innovation one arquitetura de sistemas avançado - digital innovation one lógica de programação essencial - digital innovation one linux: a introdução ao sistema operacional - digital innovation one shell script - manipulando arquivos - digital innovation one estratégia de negócios com okr - digital innovation one conceitos e melhores práticas com banco de dados postgresql - digital innovation one projetos ágeis com scrum - digital innovation one fundamentos do intraempreendedorismo - digital innovation one",
         "['jabaqu' 'sao' 'paul' 'brasil' 'atrav' 'sistem' 'cham' 'cervell' 'fac'\n 'atend' 'usuari' 'window' 'atend' 'vao' 'problem' 'softw' 'ate' 'hardw'\n 'qual' 'sao' 'aplicaco' 'err' 'conexa' 'configuraca' 'maquin' 'formataca'\n 'experienc' 'profiss' 'anal' 'suport' 'lat' 'airlin' 'outubr' 'atual'\n 'atrav' 'sistem' 'cham' 'jir' 'fac' 'atend' 'usuari' 'mac' 'window'\n 'atend' 'vao' 'problem' 'softw' 'ate' 'hardw' 'qual' 'sao' 'aplicaco'\n 'err' 'conexa' 'configuraca' 'tamb' 'fac' 'manutenca' 'imac' 'anal'\n 'suport' 'edit' 'modern' 'mai' 'outubr' 'atrav' 'sistem' 'cham' 'otr'\n 'atend' 'solicitaco' 'manutenca' 'equip' 'notebook' 'dell' 'macbook'\n 'serv' 'manutenca' 'err' 'conexa' 'perifer' 'problem' 'equip' 'resolv'\n 'problem' 'telefon' 'vmw' 'esx' 'responsa' 'red' 'comput' 'empr' 'cuid'\n 'hack' 'serv' 'hack' 'red' 'anal' 'infraestrut' 'wba' 'softw' 'corpor'\n 'jan' 'setembr' 'anal' 'infraestrut' 'obje' 'tecnolog' 'gesta' 'tecnolog'\n 'informaca' 'centr' 'universitari' 'amer' 'junh' 'formaca' 'academ'\n 'bacharel' 'sistem' 'informaca' 'univers' 'nov' 'julh' 'jan' 'dezembr'\n 'red' 'sistem' 'operac' 'window' 'linux' 'mac' 'serv' 'window' 'serv'\n 'linux' 'aw' 'itil' 'cobit' 'scrum' 'telecom' 'ipbx' 'pabx' 'are'\n 'experienc' 'offic' 'pow' 'us' 'experienc' 'custom' 'experienc' 'python'\n 'html' 'cs' 'project' 'visi' 'model' 'negoci' 'digit' 'innovation' 'one'\n 'introduca' 'criaca' 'websit' 'html' 'cs' 'digit' 'innovation' 'one'\n 'fundament' 'arquitet' 'sistem' 'digit' 'innovation' 'one' 'arquitet'\n 'sistem' 'avanc' 'digit' 'innovation' 'one' 'logic' 'programaca' 'essenc'\n 'digit' 'innovation' 'one' 'linux' 'introduca' 'sistem' 'operac' 'digit'\n 'innovation' 'one' 'shell' 'script' 'manipul' 'arqu' 'digit' 'innovation'\n 'one' 'estrateg' 'negoci' 'okr' 'digit' 'innovation' 'one' 'conceit'\n 'melhor' 'pra' 'banc' 'dad' 'postgresql' 'digit' 'innovation' 'one'\n 'projet' 'agel' 'scrum' 'digit' 'innovation' 'one' 'fundament'\n 'intraempreendedor' 'digit' 'innovation' 'one']"
        ],
        [
         "18",
         "stefanini arquiteto / engenheiro de dados | abr/2021 - atual projeto com alocação direta no cliente. construção de pipeline de dados, sustentação de ambientes. metodologia: scrum, kanban. principais ferramentas: tableau, python, sql, grafana, nifi, hadoop, spark. total express analista de bi | set/2020 - abr/2021 analista de power bi para o cliente (total express), construção e manutenção de dashboards, elaboração de storytelling. reuniões com diversas áreas para levantamento de requisitos, acompanhamento de encomendas durante todo o processo, monitoramento de caminhões. metodologia: scrum principais ferramentas: power bi, sql server, reporting builder,azure, data factory, synapse. promo attitude analista de bi | mar/2020 - ago/2020 analista de power bi no varejo. construção e manutenção de dashboards, levantamento de requisitos e funcionalidades com os clientes principais ferramentas: power bi, excel, postgresql. spiti - xp investimentos assistente bi | dez/2019 - fev/2020 desenvolvimento de dashboards usando mode analytics, manutenção de querys, e auxílio das demais áreas no quesito de dados. criação de relatórios específicos para cada área. principais ferramentas: mode analytics, google cloud platform, big query, postgresql, dbeaver. fiap - mba big data (data science) - jul/2021 fatec-sp - faculdade de tecnologia de são paulo análise e desenvolvimento de sistemas - jul/2017 cursos fiap - nano courses python, blockchain | em andamento d i g i tal a n al y t ics ( f iap ) b i g d ata sci e n ce ( f iap ) i n t r o d u çã o a o b i g d ata ( f ia) g o o d d ata ( f l u i g ) b i g d ata f o u n d at i o n ( i tce r t s ) c e r t i f i c a d o s fiap - shift big data science machine learning & data mining | ago/2019 fiap - nano courses inteligência e contrainteligência | em andamento fiap - shift digital analytics: aplicações, métricas e resultados | fev/2020 coursera - fia introdução ao big data | jun/2019 certificados d i g i tal a n al y t ics ( f iap ) b i g d ata sci e n ce ( f iap ) i n t r o d u çã o a o b i g d ata ( f ia) g o o d d ata ( f l u i g ) b i g d ata f o u n d at i o n ( i tce r t s )",
         "['arquitet' 'engenh' 'dad' 'abr' 'atual' 'projet' 'alocaca' 'diret'\n 'client' 'construca' 'dad' 'sustentaca' 'ambi' 'metodolog' 'scrum'\n 'kanban' 'princip' 'ferrament' 'tableau' 'python' 'sql' 'total' 'expres'\n 'anal' 'set' 'abr' 'anal' 'pow' 'client' 'total' 'expres' 'construca'\n 'manutenca' 'dashboard' 'elaboraca' 'storytelling' 'reunio' 'divers'\n 'are' 'levant' 'requisit' 'acompanh' 'encomend' 'dur' 'tod' 'process'\n 'monitor' 'caminho' 'metodolog' 'scrum' 'princip' 'ferrament' 'pow' 'sql'\n 'serv' 'reporting' 'build' 'azur' 'dat' 'factory' 'synaps' 'prom'\n 'attitud' 'anal' 'mar' 'ago' 'anal' 'pow' 'varej' 'construca' 'manutenca'\n 'dashboard' 'levant' 'requisit' 'funcional' 'client' 'princip'\n 'ferrament' 'pow' 'excel' 'postgresql' 'spit' 'invest' 'assist' 'dez'\n 'fev' 'desenvolv' 'dashboard' 'us' 'mod' 'analytic' 'manutenca' 'query'\n 'auxili' 'demal' 'are' 'quesit' 'dad' 'criaca' 'relatori' 'especif' 'cad'\n 'are' 'princip' 'ferrament' 'mod' 'analytic' 'googl' 'cloud' 'platform'\n 'big' 'query' 'postgresql' 'dbeav' 'fiap' 'mba' 'big' 'dat' 'dat'\n 'scienc' 'jul' 'fatec' 'faculdad' 'tecnolog' 'sao' 'paul' 'analis'\n 'desenvolv' 'sistem' 'jul' 'curs' 'fiap' 'nan' 'cours' 'python'\n 'blockchain' 'and' 'tal' 'ic' 'iap' 'ata' 'ata' 'ata' 'tce' 'fiap'\n 'shift' 'big' 'dat' 'scienc' 'machin' 'learning' 'dat' 'mining' 'ago'\n 'fiap' 'nan' 'cours' 'inteligenc' 'contrainteligenc' 'and' 'fiap' 'shift'\n 'digit' 'analytic' 'aplicaco' 'metr' 'result' 'fev' 'cours' 'fia'\n 'introduca' 'big' 'dat' 'jun' 'certific' 'tal' 'ic' 'ata' 'sci' 'iap'\n 'ata' 'ata' 'ata' 'tce']"
        ],
        [
         "19",
         "campinas - sp desenvolvedor sap abap consultor sap abap jr nome da empresastefanini brasil período do empregojul. de 2019 – o momento duração2 anos 5 meses localidadesão paulo e região, brasil • suporte a módulos como: mm, sd, fi, pm, pp, qm, srm, hr, entre outros. • projeto de melhorias sap ecc. • projeto de integração de inteligência artificial com sap utilizando serviço odata/sap gateway. • projeto aplicações de notas técnicas",
         "['campin' 'desenvolv' 'sap' 'abap' 'consult' 'empresastefanin' 'brasil'\n 'period' 'empregojul' 'moment' 'duraca' 'ano' 'mes' 'localidadesa' 'paul'\n 'regia' 'brasil' 'suport' 'modul' 'srm' 'outr' 'projet' 'melh' 'sap'\n 'ecc' 'projet' 'integraca' 'inteligenc' 'artific' 'sap' 'utiliz' 'serv'\n 'odat' 'sap' 'gateway' 'projet' 'aplicaco' 'not' 'tecn']"
        ],
        [
         "20",
         "são paulo sap abap programmer analista de sistemas sênior (abap / workflow / ecc) nome da empresac&a período do empregoago. de 2009 – o momento duração12 anos 4 meses hp consultor abap - gm america latina nome da empresahp período do empregofev. de 2007 – jul. de 2009 duração2 anos 6 meses sonda procwork consultor abap nome da empresasonda procwork período do empregoset. de 2003 – fev. de 2007 duração3 anos 6 meses",
         "['sao' 'paul' 'sap' 'abap' 'programm' 'anal' 'sistem' 'seni' 'abap'\n 'workflow' 'ecc' 'nom' 'empresac' 'period' 'empregoag' 'moment' 'duraca'\n 'ano' 'mes' 'consult' 'abap' 'amer' 'latin' 'nom' 'empresahp' 'period'\n 'empregofev' 'jul' 'duraca' 'ano' 'mes' 'sond' 'procwork' 'consult'\n 'abap' 'nom' 'empresasond' 'procwork' 'period' 'empregoset' 'fev'\n 'duraca' 'ano' 'mes']"
        ],
        [
         "21",
         "senior abap certified | hana certified sap ewm certified, hana certified, abap coordintator and senior sap abap cerified consultant having more than 10 years of experience in abap with strong knowledge in sap-wm/ewm. technical expertise includes: dialog programming, alv report, and classical report, interfaces, exit's, bapi, badi, rfc, enhancement, smartforms, sapscript, adobe forms, idoc, workflow, bol, webdynpro for abap and formula (pricing). currently working on implementation / improvement projects. sap modules: retail, ewm, wm, mm, sd, co, fi, qm, fs-cd, srm, mim e pi/xi. workshops: abap, webdynpro for abap, crm/srm, pi/xi, ewm100 and bi. senior abap consultant nome da empresastefanini portugal período do empregomai. de 2019 – o momento duração2 anos 7 meses localidadelisboa e região, portugal - client: heineken - improvement project and support. - developments / support in modules: wm, mm, sd, fi, crm, bw. - dialog programming, alv report, and classical report, interfaces, exit's, bapi, badi, rfc, enhancement, smartforms, sapscript, adobe forms and idoc. - understand and create functional specifications, design, develop, and integrate system changes without close supervision. elliott moss consulting senior abap consultant/ewm nome da empresaelliott moss consulting freelance período do empregoago. de 2019 – dez. de 2019 duração5 meses localidaderepública dominicana - client: grupo ramos - developments and support in ewm implementation project. - interfaces, exit's, badi, enhancement and smartforms. - understand functional specifications, recognize the critical elements of complex application problems, develop and evaluate data, determine solutions, and make logical recommendations. … ver mais geo system senior sap abap consultant nome da empresageo system período do empregojun. de 2017 – mai. de 2019 duração2 anos localidaderio de janeiro, rio de janeiro - clients: l’oréal, leader - implementation and improvement projects, and nf-e projects. - developments / support in modules: wm, retail, mim, fi, co, mm and sd. - dialog programming, alv report, and classical report, interfaces, exit's, bapi, badi, rfc, enhancement, smartforms, sapscript, idoc, webdynpro for abap and formula (pricing). - understand functional specifications, preparing technical specifications, develop solution, prepare unit test plans based on test cases provided by the client. … ver mais elliott moss consulting senior abap consultant/ewm nome da empresaelliott moss consulting período do empregodez. de 2018 – fev. de 2019 duração3 meses localidaderemote - client: césar iglesias s.a - developments and support in ewm implementation project. - interfaces, exit's, badi, enhancement and smartforms. - understand functional specifications, preparing technical specifications and develop solution as per space specified. … ver mais ibm senior abap consultant nome da empresaibm período do empregoabr. de 2014 – mar. de 2017 duração3 anos localidaderio de janeiro area, brazil - clients: leader, heineken, walmart, marisa, latam and porto seguros - implementation and improvement projects, and nf-e project. - developments / support in modules: wm, retail, mim, fi, co, mm, sd, qm, fs-cd, crm and pi/xi.",
         "['certified' 'sap' 'ewm' 'certified' 'han' 'certified' 'abap' 'coordinta'\n 'and' 'seni' 'sap' 'abap' 'cerified' 'mor' 'than' 'ye' 'experienc' 'abap'\n 'with' 'strong' 'knowledg' 'sap' 'ewm' 'technic' 'expertis' 'includ'\n 'dialog' 'programming' 'alv' 'report' 'and' 'classic' 'report' 'interfac'\n 'exit' 'bap' 'bad' 'rfc' 'enhancement' 'smartform' 'sapscript' 'adob'\n 'form' 'idoc' 'workflow' 'bol' 'webdynpr' 'abap' 'and' 'formul' 'pricing'\n 'currently' 'working' 'implementation' 'improvement' 'project' 'srm'\n 'mim' 'workshop' 'abap' 'webdynpr' 'abap' 'crm' 'srm' 'ewm' 'and' 'seni'\n 'abap' 'consultant' 'nom' 'empresastefanin' 'portug' 'period' 'empregom'\n 'moment' 'duraca' 'ano' 'mes' 'localidadelisbo' 'regia' 'portug' 'client'\n 'heineken' 'improvement' 'project' 'and' 'support' 'development'\n 'support' 'modul' 'crm' 'dialog' 'programming' 'alv' 'report' 'and'\n 'classic' 'report' 'interfac' 'exit' 'bap' 'bad' 'rfc' 'enhancement'\n 'smartform' 'sapscript' 'adob' 'form' 'and' 'idoc' 'understand' 'and'\n 'creat' 'funct' 'specificatiom' 'design' 'develop' 'and' 'integrat'\n 'syst' 'chang' 'without' 'clos' 'supervision' 'elliott' 'mos'\n 'consulting' 'seni' 'abap' 'consultant' 'ewm' 'nom' 'empresaelliott'\n 'mos' 'consulting' 'freelanc' 'period' 'empregoag' 'dez' 'duraca' 'mes'\n 'localidaderepubl' 'dominic' 'client' 'grup' 'ram' 'development' 'and'\n 'support' 'ewm' 'implementation' 'project' 'interfac' 'exit' 'bad'\n 'enhancement' 'and' 'smartform' 'understand' 'funct' 'specificatiom'\n 'recogniz' 'the' 'critic' 'element' 'complex' 'application' 'probl'\n 'develop' 'and' 'evaluat' 'dat' 'determin' 'solutiom' 'and' 'mak' 'logic'\n 'recommendatiom' '...' 'ver' 'geo' 'syst' 'seni' 'sap' 'abap'\n 'consultant' 'nom' 'empresage' 'syst' 'period' 'empregojun' 'duraca'\n 'ano' 'localidaderi' 'jan' 'rio' 'jan' 'project' 'development' 'support'\n 'modul' 'retail' 'mim' 'and' 'dialog' 'programming' 'alv' 'report' 'and'\n 'classic' 'report' 'interfac' 'exit' 'bap' 'bad' 'rfc' 'enhancement'\n 'smartform' 'sapscript' 'idoc' 'webdynpr' 'abap' 'and' 'formul' 'pricing'\n 'understand' 'funct' 'specificatiom' 'preparing' 'technic'\n 'specificatiom' 'develop' 'solution' 'prepar' 'unit' 'test' 'pl' 'based'\n 'test' 'cas' 'provided' 'the' 'client' '...' 'ver' 'ewm' 'nom'\n 'empresaelliott' 'mos' 'consulting' 'period' 'empregod' 'fev' 'duraca'\n 'mes' 'localidaderemot' 'client' 'ces' 'igles' 'development' 'and'\n 'support' 'ewm' 'implementation' 'project' 'interfac' 'exit' 'bad'\n 'enhancement' 'and' 'smartform' 'understand' 'funct' 'specificatiom'\n 'preparing' 'technic' 'specificatiom' 'and' 'develop' 'solution' 'per'\n 'spac' 'specified' '...' 'ver' 'ibm' 'seni' 'abap' 'consultant' 'nom'\n 'empresaibm' 'period' 'empregoabr' 'mar' 'duraca' 'ano' 'localidaderi'\n 'jan' 'lat' 'and' 'port' 'segur' 'implementation' 'and' 'improvement'\n 'project' 'and' 'project' 'development' 'support' 'modul' 'retail' 'mim'\n 'crm' 'and']"
        ],
        [
         "22",
         "campinas, são paulo consultor sap abap sr sap abap consultant - cast group nome da empresacast group tempo integral período do empregoago. de 2019 – o momento duração2 anos 4 meses - programar, desenvolver e implantar sistemas em linguagem abap - realizar correções em sistemas para atender às necessidades de usuários. - suporte técnico clientes conceito ams. - projetos nas empresas: cmpc, ictsi, berneck, arauco, bracell - análise, manutenção e melhorias utilizando report, alv, alv oo, module pool, smart forms, rfc, bapi, badi, exit (user, field e screen) e enhancement point para os módulos de: fi, sd, mm, co, pp em outros",
         "['campin' 'sao' 'paul' 'consult' 'group' 'nom' 'empresacast' 'group'\n 'temp' 'integr' 'period' 'empregoag' 'moment' 'duraca' 'ano' 'mes'\n 'program' 'desenvolv' 'implant' 'sistem' 'lingu' 'abap' 'realiz'\n 'correco' 'sistem' 'atend' 'necess' 'usuari' 'suport' 'tecn' 'client'\n 'conceit' 'am' 'projet' 'empr' 'cmpc' 'icts' 'berneck' 'arauc' 'bracell'\n 'analis' 'manutenca' 'melh' 'utiliz' 'report' 'alv' 'alv' 'modul' 'pool'\n 'smart' 'form' 'screen' 'enhancement' 'point' 'modul' 'outr']"
        ],
        [
         "23",
         "consultor sap abap sobre • report, sapscript, smartforms, module pool, interfaces inbound/outbound, proxy, query, batch input, bapi, badi, user exit, field exit, enhancements, idoc, alv oo; • integração de sistemas legados e/ou middleware; • soluções para os módulos de mm, sd, sd-tra, fi, co, pp, qm, wm, cfm-lp, ps, trm, fm, bpc; • criação de soluções para grc e mii; • workflow; • realização de trabalhos de performance; • sap hana (eclipse e hana studio) - tdf; • abap 7.4 e 7.5; • abap para bpc - implementações ( analytics ) experiência sap abap consultant nome da empresaessence autônomo período do empregomai. de 2020 – o momento duração1 ano 7 meses localidadesanta catarina, brasil consultor sap abap nome da empresawezen group freelance período do empregoabr. de 2020 – o momento duração1 ano 8 meses its group consultor sap abap nome da empresaits group autônomo período do empregoago. de 2019 – mar. de 2020 duração8 meses localidadesão paulo e região, brasil cast group consultor sap abap nome da empresacast group autônomo período do empregomai. de 2018 – jul. de 2019 duração1 ano 3 meses localidadesão paulo e região, brasil its group consultor sap abap nome da empresaits group autônomo período do empregodez. de 2016 – abr. de 2018 duração1 ano 5 meses localidadeporto alegre e região, brasil tech mahindra arquiteto de soluções / consultor sap abap expert nome da empresatech mahindra período do empregojun. de 2001 – nov. de 2016 duração15 anos 6 meses localidadesão paulo area, brazil",
         "['consult' 'interfac' 'inbound' 'outbound' 'proxy' 'query' 'batch' 'input'\n 'bap' 'bad' 'us' 'exit' 'field' 'alv' 'integraca' 'sistem' 'leg'\n 'middlew' 'soluco' 'modul' 'tra' 'cfm' 'trm' 'bpc' 'criaca' 'soluco'\n 'grc' 'mii' 'workflow' 'realizaca' 'trabalh' 'performanc' 'sap' 'han'\n 'eclips' 'han' 'studi' 'tdf' 'abap' 'abap' 'bpc' 'implementaco'\n 'analytic' 'experienc' 'sap' 'abap' 'consultant' 'nom' 'empresaessenc'\n 'auton' 'period' 'empregom' 'moment' 'duraca' 'ano' 'mes'\n 'localidadesant' 'consult' 'abap' 'nom' 'empresawezen' 'group' 'freelanc'\n 'period' 'empregoabr' 'moment' 'duraca' 'ano' 'mes' 'consult' 'sap'\n 'abap' 'nom' 'empresait' 'group' 'auton' 'period' 'empregoag' 'mar'\n 'duraca' 'mes' 'localidadesa' 'regia' 'brasil' 'cast' 'group' 'consult'\n 'sap' 'abap' 'nom' 'empresacast' 'group' 'auton' 'period' 'empregom'\n 'jul' 'duraca' 'ano' 'mes' 'localidadesa' 'paul' 'regia' 'brasil' 'it'\n 'group' 'consult' 'sap' 'abap' 'nom' 'empresait' 'group' 'auton' 'period'\n 'empregod' 'abr' 'duraca' 'ano' 'mes' 'localidadeport' 'alegr' 'regia'\n 'brasil' 'tech' 'mahindr' 'arquitet' 'consult' 'expert' 'nom'\n 'empresatech' 'mahindr' 'period' 'empregojun' 'nov' 'duraca' 'ano' 'mes'\n 'localidadesa']"
        ],
        [
         "24",
         "campinas, são paulo, sap abap/workflow consultant sobre • desenvolvedor sap desde 2006. • experiência com abap, workflow, enhancements, proxy, idoc, badi, bapi, fieldexit, userexit, module pool, lsmw, batch input, reports, oo, interfaces, módulos de função, rfc, proxy, aplicação de notas, tabelas, sapscript, smartforms • documentação técnica, de testes, dentre outras, focando em reutilização de código, comentários e performance. • conhecimentos em hcp, gateway, fiori, sapui5, eclipse, screen personas, sap hana para abap, asp, php, java. • aplicação de melhores práticas em processos e projetos. • inglês intermediário / espanhol básico experiencia sap abap consultant nome da empresaessence tempo integral período do empregomai. de 2020 – o momento duração1 ano 7 meses localidadesanta catarina, brasil blend it consultoria sap abap consultant nome da empresablend it consultoria período do empregonov. de 2017 – mai. de 2020 duração2 anos 7 meses localidadepiracicaba e região, brasil msys consultoria sap abap consultant nome da empresamsys consultoria período do empregomar. de 2015 – nov. de 2017 duração2 anos 9 meses localidadecampinas e região, brasil já com grande conhecimento na área, atuo como desenvolvedor sênior, buscando sempre a solução mais eficaz a ser aplicada, além de me integrar com novas áreas e aprender novas tecnologias. tech mahindra complex sap abap/workflow consultant nome da empresatech mahindra complex período do empregoset. de 2007 – mar. de 2015 duração7 anos 7 meses localidadesão paulo/sp, brasil inicialmente na fábrica de software fui evoluindo e então atuando principalmente em projetos. sempre conquistando meu espaço com responsabilidade. participei de conquistas de selo de qualidade e gerenciei projetos por um curto período. no período em que fiquei na fábrica de software, pude atender uma infinidade de clie",
         "['campin' 'sao' 'paul' 'sap' 'abap' 'workflow' 'consultant' 'sobr'\n 'desenvolv' 'sap' 'desd' 'experienc' 'idoc' 'bad' 'bap' 'input' 'report'\n 'interfac' 'modul' 'funca' 'rfc' 'proxy' 'aplicaca' 'not' 'tabel'\n 'sapscript' 'smartform' 'documentaca' 'tecn' 'test' 'dentr' 'outr' 'foc'\n 'reutilizaca' 'codig' 'comentari' 'performanc' 'conhec' 'hcp' 'gateway'\n 'fior' 'sapu' 'screen' 'pers' 'sap' 'han' 'abap' 'asp' 'php' 'jav'\n 'aplicaca' 'melhor' 'pra' 'process' 'projet' 'ingl' 'intermediari'\n 'espanhol' 'basic' 'experienc' 'sap' 'abap' 'consultant' 'nom'\n 'empresaessenc' 'temp' 'integr' 'period' 'empregom' 'moment' 'duraca'\n 'ano' 'mes' 'localidadesant' 'consult' 'sap' 'abap' 'consultant' 'nom'\n 'empresablend' 'consult' 'period' 'empregonov' 'duraca' 'ano' 'mes'\n 'localidadepiracicab' 'regia' 'brasil' 'msy' 'consult' 'sap' 'abap'\n 'consultant' 'nom' 'empresamsy' 'consult' 'period' 'empregom' 'nov'\n 'duraca' 'ano' 'mes' 'localidadecampin' 'regia' 'brasil' 'grand' 'conhec'\n 'are' 'atu' 'desenvolv' 'seni' 'busc' 'sempr' 'soluca' 'eficaz' 'aplic'\n 'alem' 'integr' 'nov' 'are' 'aprend' 'nov' 'tecnolog' 'tech' 'consultant'\n 'nom' 'empresatech' 'mahindr' 'complex' 'period' 'empregoset' 'mar'\n 'duraca' 'ano' 'mes' 'localidadesa' 'paul' 'brasil' 'inic' 'fabr' 'softw'\n 'evolu' 'enta' 'atu' 'princip' 'projet' 'sempr' 'conquist' 'espac'\n 'respons' 'particip' 'conqu' 'sel' 'qual' 'gerenci' 'projet' 'curt'\n 'period' 'period' 'fiq' 'fabr' 'softw' 'pud' 'atend' 'infin' 'cli']"
        ],
        [
         "25",
         "ribeirão preto, são paulo sobre consultor especialista em sap abap, com atuação direta em desenvolvimento por mais de seis anos em empresas de diversos ramos como agronegócio, indústria, telefonia, automobilístico, construção civil, alimentícia, serviços, cooperativa, entre outros. experiência em toda rotina de implementação, rollout, melhorias e suporte dentro dos projetos sap. atuação também como líder de equipe técnica de desenvolvimento abap, quando necessário. experiência em desenvolvimentos nos módulos pp, mm, sd, fi, co, pm, ps, qm e les. - academia oficial sap abap (netweaver 7.0) de 160 horas em 2012. - graduado em tecnologia da informação em 1998. - pós-graduado em logística integrada em 2007. - pós-graduado em gerenciamento de projetos em 2009. - graduando em engenharia da computação, conclusão em 2022. senior sap abap consultant nome da empresainetum tempo integral período do empregoabr. de 2021 – o momento duração8 meses localidadeportugal senior sap abap consultant. avannt consultoria senior sap abap consultant nome da empresaavannt consultoria tempo integral período do empregojul. de 2017 – abr. de 2021 duração3 anos 10 meses localidaderibeirão preto e região, brasil implantação de 3 projetos s/4hana e 1 projeto ecc. desenvolvimento de gaps identificados pelos funcionais nos projetos. realização de testes unitários e integrados. avaliação de estimativas de desenvolvimentos. aplicação de notas sap. criação de documentações técnicas. atendimento a chamados no ams, utilizando solman. desenvolvimento de pequenos projetos e melhorias no tdf (localização brasil, sped fiscal, contribuições, reinf, ecd, ecf e ciap) e banco de dados hana. atuações pontuais com pi e workflow. análises de melhoria de performance (tunning) de programas. atuação presencial e remoto. ver menos melitta do brasil senior sap abap consultant nome da empresamelitta do brasil tempo integral período do empregomar. de 2016 – jul. de 2017 duração1 ano 5 meses localidadesão paulo area, brazil sr sap abap consultant. levantamento, avaliação, estimativa e desenvolvimento de tarefas de melhorias e estabilização do ambiente sap. desenvolvimento de interfaces com sistemas legados, utilizando pi/po via webservice, jdbc e abap proxy. orientação aos funcionais sobre recursos técnicos sap. coordenação e quality assurance de desenvolvimentos realizados por desenvolvedores abap presenciais e em fábrica de software de consultorias parceiras. realização de testes unitários e integrados. criação de documentações técnicas. ver menos agile solutions sap abap team leader nome da empresaagile solutions tempo integral período do empregonov. de 2013 – jan. de 2016 duração2 anos 3 meses localidadesão paulo area, brazil coordenação de equipe de desenvolvimento com 8 recursos abap (presenciais e remotos). entrevistas de novos recursos abap. entendimento e avaliação de gaps. estimativa de tempo e recursos. criação de documento único para especificação funcional e técnica. mapeamento e controle de atividades de desenvolvimento. controle de tempos e recursos. reuniões de feedback com o cliente e com a consultoria. avaliação técnica e de padronização do código abap. orientações técnicas aos recursos da equipe. instrutor em treinamento para equipe interna de desenvolvedores abap do cliente. atendimento e controle de chamados e issues no solman. atuação também como desenvolvedor abap. testes unitários e integrados. criação de especificações técnicas. ver menos apice consultoria sap abap consultant nome da empresaapice consultoria tempo integral período do empregoabr. de 2013 – nov. de 2013 duração8 meses localidadesão paulo area, brazil consultor sap abap (consultor pj) - alocado diretamente no cliente hochtief do brasil em são paulo/sp para projeto de upgrade da versão do sap de 4.6c para ecc 6.0 ehp6. - atividades: bbp (business blueprint, as-is e to-be), criação de objetos, elementos de dados, domínios, tabelas, estruturas, views, transações, funções, module-pool, alv, rfc, reports, programas, batch-input, shdb, bapi, badi, smartforms, sapscript, enhancements, exits, lsmw, orientação à objeto (classes, métodos), aplicação de notas sap, transporte de requests e elaboração de documentação técnica. - desenvolvimentos para os módulos: mm, sd, fi, ps e hr.",
         "['sobr' 'consult' 'especi' 'sap' 'abap' 'atuaca' 'diret' 'desenvolv'\n 'seil' 'ano' 'empr' 'divers' 'ram' 'agronegoci' 'industr' 'telefon'\n 'automobilis' 'construca' 'civil' 'alimentic' 'serv' 'cooper' 'outr'\n 'experienc' 'tod' 'rotin' 'implementaca' 'rollout' 'melh' 'suport'\n 'dentr' 'projet' 'sap' 'atuaca' 'tamb' 'lid' 'equip' 'tecn' 'desenvolv'\n 'abap' 'necessari' 'experienc' 'desenvolv' 'modul' 'le' 'academ' 'ofic'\n 'sap' 'abap' 'netweav' 'hor' 'gradu' 'tecnolog' 'informaca' 'po' 'gradu'\n 'logis' 'integr' 'po' 'gradu' 'gerenc' 'projet' 'gradu' 'engenh'\n 'computaca' 'conclusa' 'seni' 'sap' 'abap' 'consultant' 'nom'\n 'empresainetum' 'temp' 'integr' 'period' 'empregoabr' 'moment' 'duraca'\n 'mes' 'localidadeportug' 'seni' 'sap' 'abap' 'consultant' 'avannt'\n 'consult' 'seni' 'sap' 'abap' 'consultant' 'nom' 'empresaavannt'\n 'consult' 'temp' 'integr' 'period' 'empregojul' 'abr' 'duraca' 'ano'\n 'mes' 'localidaderibeira' 'pret' 'regia' 'brasil' 'implantaca' 'projet'\n 'han' 'projet' 'ecc' 'desenvolv' 'gap' 'identific' 'func' 'projet'\n 'realizaca' 'test' 'unitari' 'integr' 'avaliaca' 'estim' 'desenvolv'\n 'aplicaca' 'not' 'sap' 'criaca' 'documentaco' 'tecn' 'atend' 'cham' 'am'\n 'utiliz' 'solman' 'desenvolv' 'pequen' 'projet' 'melh' 'tdf' 'localizaca'\n 'brasil' 'sped' 'fiscal' 'contribuico' 'reinf' 'ecd' 'ecf' 'ciap' 'banc'\n 'dad' 'han' 'atuaco' 'pontual' 'workflow' 'analis' 'melh' 'performanc'\n 'tunning' 'program' 'atuaca' 'presenc' 'remot' 'ver' 'menos' 'melitt'\n 'brasil' 'seni' 'sap' 'abap' 'consultant' 'nom' 'empresamelitt' 'brasil'\n 'temp' 'integr' 'period' 'empregom' 'jul' 'duraca' 'ano' 'mes'\n 'localidadesa' 'levant' 'avaliaca' 'estim' 'desenvolv' 'taref' 'melh'\n 'estabilizaca' 'ambi' 'sap' 'desenvolv' 'interfac' 'sistem' 'leg'\n 'utiliz' 'via' 'webserv' 'jdbc' 'abap' 'proxy' 'orientaca' 'func' 'sobr'\n 'recurs' 'tecn' 'sap' 'coordenaca' 'quality' 'assuranc' 'desenvolv'\n 'realiz' 'desenvolv' 'abap' 'presenc' 'fabr' 'softw' 'consult' 'parc'\n 'realizaca' 'test' 'unitari' 'integr' 'criaca' 'documentaco' 'tecn' 'ver'\n 'menos' 'agil' 'solutiom' 'sap' 'abap' 'te' 'lead' 'nom' 'empresaagil'\n 'solutiom' 'temp' 'integr' 'period' 'empregonov' 'jan' 'duraca' 'ano'\n 'mes' 'localidadesa' 'coordenaca' 'equip' 'desenvolv' 'recurs' 'abap'\n 'presenc' 'remot' 'entrev' 'nov' 'recurs' 'abap' 'entend' 'avaliaca'\n 'gap' 'estim' 'temp' 'recurs' 'criaca' 'document' 'unic' 'especificaca'\n 'func' 'tecn' 'mape' 'control' 'ativ' 'desenvolv' 'control' 'temp'\n 'recurs' 'reunio' 'feedback' 'client' 'consult' 'avaliaca' 'tecn'\n 'padronizaca' 'codig' 'abap' 'orientaco' 'tecn' 'recurs' 'equip' 'instru'\n 'trein' 'equip' 'intern' 'desenvolv' 'abap' 'client' 'atend' 'control'\n 'cham' 'issu' 'solman' 'atuaca' 'tamb' 'desenvolv' 'abap' 'test'\n 'unitari' 'integr' 'criaca' 'especificaco' 'tecn' 'ver' 'menos' 'apic'\n 'consult' 'sap' 'abap' 'consultant' 'nom' 'empresaap' 'consult' 'temp'\n 'integr' 'period' 'empregoabr' 'nov' 'consult' 'abap' 'consult' 'aloc'\n 'diret' 'client' 'hochtief' 'brasil' 'sao' 'paul' 'projet' 'upgrad'\n 'versa' 'sap' 'ecc' 'ehp' 'ativ' 'bbp' 'busines' 'blueprint' 'criaca'\n 'objet' 'element' 'dad' 'domini' 'tabel' 'estrut' 'view' 'transaco'\n 'funco' 'modul' 'pool' 'alv' 'rfc' 'report' 'program' 'batch' 'input'\n 'shdb' 'bap' 'bad' 'smartform' 'sapscript' 'exit' 'lsmw' 'orientaca'\n 'objet' 'cl' 'metod' 'aplicaca' 'not' 'sap' 'transport' 'request'\n 'elaboraca' 'documentaca' 'tecn' 'desenvolv' 'modul']"
        ],
        [
         "26",
         "contact ray saraiva são paulo summary top skills focused in delivering high quality products. i bring different test automation backgrounds to help bringing the best results. agile methodologies python (programming language) my work experience includes: tech/team leader, product owner, software developer, test automation developer, test architect, and languages business analyst. portuguese (native or bilingual) english (full professional) i already worked in a few areas: agriculture, government, education, spanish (limited working) insurance, telecommunications, data analysis, finance, digital transformation. certifications agile with atlassian jira scrum fundamentals certified (sfc) experience certified scrum product owner (cspo) bayer qa leader honors-awards may 2021 - present (6 months) 1st place at uab - ieeextreme são paulo, brazil programming competition 7.0 lead an agile team of ~10 qa engineers from multiple locations to release several applications into production with high quality(web, android, ios), prioritizing deliveries and generating more business value. acceptance tests and automated tests to validate systems and applications. motivate and provide the tools engineers need to work with confidence to create simple strategies to complex problems; designing test automation architecture along with qa and development team. work closely with other engineering leaders who are delivering multiple components in each production release. serasa experian 1 year 5 months product owner january 2021 - may 2021 (5 months) são paulo, brazil page 1 of 4 responsible for the backlog of digital identity products, ensuring that the deliveries of the development teams have quality and follow the needs of internal and external customers, bringing value to the delivery. on the daily basis, i'm always involved with the dev team, helping to clarify doubts and think about the best logical solutions. business analyst september 2020 - december 2020 (4 months) sao paulo, brazil meeting with business units to design and plan the products to be migrated to our new product catalog. planing solutions/strategies for digital transformation team. following up with the teams to deliver solutions with higher quality. helping the company to validate and migrate from old solution to the new one. projects: serasa experian product access test architect january 2020 - december 2020 (1 year) são paulo, brazil the testing team. select best testing techniques and tools. provide technical know-how, documentation and training to test and other business functions. stay up to speed on process, practice and technology developments to ensure they are brought in-house and enhance the solutions applied to the testing problems. technologies : java, javascript, cucumber, selenium, protractor, mocha, cypress, postman, docker, jira projects: serasa experian client access amdocs 3 years 1 month senior software engineer may 2019 - december 2019 (8 months) sao carlos, sp, brazil facilitating/unblocking the work of other developers, fixing uat/prod issues, automating regression tests using cucumber/junit, selenium, creating new tools to increase productivity. worked with international cross function teams from brazil and israel. page 2 of 4 technologies : java, selenium, cucumber, junit, amdocs mec, oracle db, weblogic, perforce, unix areas: telecom, oss som, mec projects: telefonica vivo wireless activation software engineer december 2016 - april 2019 (2 years 5 months) são carlos area, brazil design, develop, modify, debug and/or maintain software code according to functional, non-functional and technical design specifications. follow amdocs software engineering standards, applicable software development methodology and release processes, to ensure code is maintainable, scalable, supportable and demo the software products to stakeholders. worked with international cross function teams from brazil, england, india and israel. technologies : java, amdocs mec, oracle db, weblogic, perforce, unix areas: telecom, aua, oss som, mec projects: telefonica vivo wireless activation and wireline fulfillment knowledge also in crm and oms infinity insurance application developer may 2014 - august 2014 (4 months) united states design, development, and maintenance of customized software applications for the construction of infinity's enterprise service oriented architecture. worked with one specific unit's software team to learn tools, methods, processes and applications. technologies : java, html, css, javascript, jsp, jboss, jenkins, subversion universidade federal do vale do são francisco web developer march 2012 - april 2013 (1 year 2 months) petrolina area, brazil page 3 of 4 design, development and maintenance of institutional website for one department in the university. very independent and working directly with the managers. technologies : html, css, javascript, php, laravel, mysql, nodejs, nosql prefeitura municipal de exu ( city hall ) project leader march 2008 - december 2010 (2 years 10 months) exu-pe brazil coordinated digital inclusion projects from the ministry of communications and the bank of brazil together with the city hall. lead a team of 10 associates, managed and developed projects for the creation of community telecentros in the federal program telecentros.br. telecentros are public spaces that have as objective bringing free access to computers and internet to all the inhabitants, especially in risk zones. education universidade de são paulo master of science - ms, data science · (2018 - 2021) universidade federal do vale do são francisco bachelor's degree, computer engineering · (2010 - 2016) university of alabama at birmingham bachelor's degree, electrical and computer engineering · (2013 - 2014) page 4 of 4",
         "['focused' 'delivering' 'high' 'quality' 'product' 'bring' 'different'\n 'test' 'automation' 'background' 'help' 'bringing' 'the' 'best' 'result'\n 'agil' 'methodologi' 'python' 'programming' 'languag' 'work' 'experienc'\n 'includ' 'tech' 'product' 'own' 'softw' 'develop' 'test' 'automation'\n 'develop' 'test' 'architect' 'and' 'languag' 'busines' 'analyst'\n 'portugues' 'nativ' 'biling' 'english' 'full' 'profess' 'already'\n 'worked' 'few' 'are' 'agricultur' 'government' 'insuranc'\n 'telecommunicatiom' 'dat' 'analysil' 'financ' 'digit' 'transformation'\n 'certificatiom' 'agil' 'fundament' 'certified' 'sfc' 'experienc'\n 'certified' 'scrum' 'product' 'own' 'csp' 'bay' 'may' 'present' 'month'\n 'plac' 'uab' 'ieeextrem' 'sao' 'programming' 'competition' 'lead' 'agil'\n 'te' 'engine' 'from' 'multipl' 'locatiom' 'releas' 'sever' 'applicatiom'\n 'int' 'production' 'with' 'high' 'quality' 'web' 'android' 'io'\n 'prioritizing' 'deliveri' 'and' 'generating' 'mor' 'busines' 'valu'\n 'acceptanc' 'test' 'and' 'automated' 'test' 'validat' 'syst' 'and'\n 'applicatiom' 'motivat' 'and' 'provid' 'the' 'tool' 'engine' 'need'\n 'work' 'with' 'confidenc' 'creat' 'simpl' 'strategi' 'complex' 'probl'\n 'designing' 'test' 'automation' 'architectur' 'along' 'with' 'and'\n 'development' 'te' 'work' 'closely' 'with' 'oth' 'engineering' 'lead'\n 'who' 'are' 'delivering' 'multipl' 'component' 'each' 'production'\n 'releas' 'seras' 'experian' 'ye' 'month' 'product' 'own' 'january' 'may'\n 'month' 'sao' 'paul' 'brazil' 'pag' 'responsibl' 'the' 'backlog' 'digit'\n 'identity' 'product' 'ensuring' 'that' 'the' 'deliveri' 'the'\n 'development' 'te' 'hav' 'quality' 'and' 'follow' 'the' 'need' 'intern'\n 'and' 'extern' 'custom' 'bringing' 'valu' 'the' 'delivery' 'the' 'daily'\n 'basil' 'alway' 'involved' 'with' 'the' 'dev' 'te' 'helping' 'clarify'\n 'doubt' 'and' 'think' 'about' 'the' 'best' 'logic' 'solutiom' 'busines'\n 'analyst' 'septemb' 'decemb' 'month' 'sao' 'the' 'product' 'migrated'\n 'our' 'new' 'product' 'catalog' 'planing' 'solutiom' 'strategi' 'digit'\n 'transformation' 'te' 'following' 'with' 'the' 'te' 'deliv' 'solutiom'\n 'with' 'high' 'quality' 'helping' 'the' 'company' 'validat' 'and'\n 'migrat' 'from' 'old' 'solution' 'the' 'new' 'one' 'project' 'seras'\n 'experian' 'product' 'acces' 'test' 'architect' 'january' 'decemb' 'ye'\n 'sao' 'the' 'testing' 'te' 'select' 'best' 'testing' 'techniqu' 'and'\n 'tool' 'provid' 'technic' 'know' 'how' 'documentation' 'and' 'training'\n 'test' 'and' 'oth' 'busines' 'functiom' 'stay' 'speed' 'proces' 'pract'\n 'and' 'technology' 'development' 'ensur' 'they' 'are' 'brought' 'hous'\n 'and' 'enhanc' 'the' 'solutiom' 'applied' 'the' 'testing' 'probl'\n 'technologi' 'jav' 'javascript' 'cucumb' 'selenium' 'protrac' 'moch'\n 'jir' 'project' 'seras' 'experian' 'client' 'acces' 'amdoc' 'ye' 'month'\n 'seni' 'softw' 'engine' 'may' 'decemb' 'month' 'sao' 'develop' 'fixing'\n 'uat' 'prod' 'issu' 'automating' 'regression' 'test' 'using' 'cucumb'\n 'junit' 'selenium' 'creating' 'new' 'tool' 'increas' 'productivity'\n 'brazil' 'and' 'israel' 'pag' 'technologi' 'jav' 'selenium' 'cucumb'\n 'junit' 'amdoc' 'mec' 'oracl' 'weblogic' 'perforc' 'unix' 'are' 'telecom'\n 'os' 'som' 'mec' 'project' 'telefon' 'viv' 'wireles' 'activation' 'softw'\n 'april' 'ye' 'month' 'sao' 'design' 'develop' 'modify' 'debug' 'and'\n 'maintain' 'softw' 'cod' 'according' 'funct' 'non' 'funct' 'and'\n 'technic' 'design' 'specificatiom' 'follow' 'amdoc' 'softw' 'standard'\n 'proc' 'ensur' 'cod' 'maintainabl' 'scalabl' 'supportabl' 'and' 'dem'\n 'the' 'softw' 'product' 'stakehold' 'worked' 'with' 'internat' 'cros'\n 'function' 'te' 'from' 'brazil' 'england' 'ind' 'and' 'israel'\n 'technologi' 'jav' 'amdoc' 'mec' 'oracl' 'weblogic' 'perforc' 'unix'\n 'are' 'telecom' 'aua' 'os' 'som' 'mec' 'project' 'telefon' 'viv'\n 'wireles' 'activation' 'and' 'wirelin' 'fulfillment' 'knowledg' 'als'\n 'crm' 'and' 'om' 'infinity' 'insuranc' 'application' 'develop' 'may'\n 'august' 'month' 'united' 'stat' 'design' 'development' 'and'\n 'maintenanc' 'customized' 'softw' 'applicatiom' 'the' 'construction'\n 'infinity' 'enterpris' 'serv' 'oriented' 'architectur' 'one' 'specific'\n 'unit' 'softw' 'te' 'learn' 'tool' 'method' 'proc' 'and' 'applicatiom'\n 'technologi' 'jav' 'html' 'cs' 'javascript' 'jsp' 'jbos' 'april' 'ye'\n 'month' 'petrolin' 'are' 'brazil' 'pag' 'design' 'development' 'and'\n 'maintenanc' 'institut' 'websit' 'one' 'department' 'the' 'university'\n 'very' 'independent' 'and' 'working' 'directly' 'with' 'the' 'manag'\n 'technologi' 'html' 'cs' 'javascript' 'php' 'laravel' 'mysql' 'nodej'\n 'nosql' 'prefeit' 'municip' 'exu' 'city' 'hall' 'project' 'decemb' 'ye'\n 'month' 'exu' 'brazil' 'coordinated' 'digit' 'inclusion' 'project' 'from'\n 'the' 'ministry' 'communicatiom' 'and' 'the' 'bank' 'brazil' 'togeth'\n 'with' 'the' 'city' 'hall' 'lead' 'te' 'associat' 'managed' 'and'\n 'developed' 'project' 'the' 'creation' 'community' 'telecentr' 'the'\n 'feder' 'progr' 'telecentr' 'telecentr' 'are' 'public' 'spac' 'that'\n 'hav' 'objectiv' 'bringing' 'fre' 'acces' 'comput' 'and' 'internet' 'all'\n 'the' 'inhabitant' 'especially' 'risk' 'zon' 'education' 'univers' 'sao'\n 'paul' 'mast' 'scienc' 'dat' 'scienc' 'univers' 'feder' 'val' 'sao'\n 'francisc' 'bachel' 'degre' 'comput' 'engineering' 'university' 'alabam'\n 'birmingh' 'bachel' 'degre' 'electric' 'and' 'comput' 'engineering' 'pag']"
        ],
        [
         "27",
         "campinas/sp consultant sap - abap/wf sobre - gerente de projeto de ti: atuando com projetos de implantação, melhorias e demandas regulatórias. executando a preparação e planejamento do projeto, gestão de escopo, controle de execução, prazos, custo, recursos e equipe. - líder de equipe: controle de cronograma, da qualidade na entrega de projetos, controle financeiro de projetos e de recursos. - funcional wm ccs: desenvolvimento de demandas de serviço de campo e suporte aos usuários em problemas no ambiente produtivo. - sap workflow ccs/ecc: desenvolvimento, manutenção, administração e suporte. - abap: desenvolvimentos complexos, utilização de bapis, shdb, user exist, badis, enhancement-point, reports, lsmw. experiência amcom sistemas de informação sap consultant - abap/wf nome da empresaamcom sistemas de informação período do empregonov. de 2020 – o momento duração1 ano 1 mês csc gerente de projetos: ccs / wm / workflow / abap nome da empresacsc período do emprego2010 – set. de 2018 duração8 anos localidadecampinas area, brazil ultracon consultora sap: wf/abap nome da empresaultracon período do emprego2009 – 2010 duração1 ano tech mahindra / complex consultora sap: wf/abap nome da empresatech mahindra / complex período do empregojun. de 2004 – 2009 duração5 anos",
         "['campin' 'consultant' 'sap' 'abap' 'sobr' 'gerent' 'projet' 'atu'\n 'projet' 'implantaca' 'melh' 'demand' 'regul' 'execut' 'preparaca'\n 'planej' 'projet' 'gesta' 'escop' 'control' 'execuca' 'praz' 'cust'\n 'recurs' 'equip' 'lid' 'equip' 'control' 'cronogram' 'qual' 'entreg'\n 'projet' 'control' 'financ' 'projet' 'recurs' 'func' 'cc' 'desenvolv'\n 'demand' 'serv' 'camp' 'suport' 'usuari' 'problem' 'ambi' 'produ' 'sap'\n 'workflow' 'cc' 'ecc' 'desenvolv' 'manutenca' 'administraca' 'suport'\n 'abap' 'desenvolv' 'complex' 'utilizaca' 'experienc' 'amcom' 'sistem'\n 'informaca' 'sap' 'consultant' 'abap' 'nom' 'empresaamcom' 'sistem'\n 'informaca' 'period' 'empregonov' 'moment' 'duraca' 'ano' 'me' 'csc'\n 'gerent' 'projet' 'cc' 'workflow' 'abap' 'nom' 'empresacsc' 'period'\n 'empreg' 'set' 'duraca' 'ano' 'localidadecampin' 'are' 'brazil'\n 'ultracon' 'consult' 'sap' 'abap' 'nom' 'empresaultracon' 'period'\n 'empreg' 'duraca' 'ano' 'tech' 'mahindr' 'complex' 'consult' 'sap' 'abap'\n 'nom' 'empresatech' 'mahindr' 'complex' 'period' 'empregojun' 'duraca'\n 'ano']"
        ],
        [
         "28",
         "são josé dos campos, são paulo tech lead sap-abap sobre com pouco mais 15 anos de experiência em sap-abap e 4 deles com workflow, pretendo visitar todas as áreas de sap-abap na sua diversidade e dominá-las. quero também conhecer processos de outros módulos novos e aprimorar um pouco mais os que já conheço um pouco, como fi/co/sd/mm. experiência numen consultor sap abap nome da empresanumen período do empregoabr. de 2018 – o momento duração3 anos 8 meses localidadesão josé dos campos e região, brasil k2 partnering solutions consultor de sap workflow nome da empresak2 partnering solutions período do empregojul. de 2017 – abr. de 2018 duração10 meses localidadesão paulo e região, brasil responsável pelo desenvolvimento do workflow's de mm (pedido e requisição de compras) e o workflow que substituirá o crm, voltado para o módulo de cs, por conta da padronização do novo ambiente sap-ecc. o projeto é o bts (back-to-standard), por isso sou responsável pela padronização dos workflows, utilizando e adaptando os processos atuais para adequar o máximo possível ao standard. ver menos panasonic do brasil consultor sap abap workflow nome da empresapanasonic do brasil período do empregomai. de 2017 – jul. de 2017 duração3 meses localidadesão paulo/sp, extrema/mg e são josé dos campos/sp alocado pela consultoria csral informática, desenvolvi cockpit com acesso a pedidos de aprovação de projeto e suplementação de verbas de projeto no módulo de ps essence. sap-abap workflow consultant nome da empresaessence. período do empregojun. de 2016 – mar. de 2017 duração10 meses localidadesão josé dos campos e região, brasil atuando em projetos dentro do cliente embraer, desenvolvi programas de otimização de processos financeiros, melhoria de relatórios de auditoria, cálculo de juros e multa e cobrança via boleto. ytecnologia da informação consultor sap-abap nome da empresaytecnologia da informação período do empregojan. de 2015 – jun. de 2016 duração1 ano 6 meses localidadesão paulo",
         "['sao' 'jos' 'camp' 'sao' 'paul' 'tech' 'lead' 'sap' 'abap' 'sobr' 'pouc'\n 'ano' 'experienc' 'sap' 'abap' 'workflow' 'pret' 'visit' 'tod' 'are'\n 'sap' 'abap' 'divers' 'domin' 'la' 'quer' 'tamb' 'conhec' 'process'\n 'outr' 'modul' 'nov' 'aprimor' 'pouc' 'conhec' 'pouc' 'experienc' 'numen'\n 'consult' 'sap' 'abap' 'nom' 'empresanumen' 'period' 'empregoabr'\n 'moment' 'duraca' 'ano' 'mes' 'localidadesa' 'jos' 'camp' 'regia'\n 'brasil' 'consult' 'nom' 'empresak' 'partnering' 'solutiom' 'period'\n 'empregojul' 'abr' 'regia' 'brasil' 'responsa' 'desenvolv' 'workflow'\n 'ped' 'requisica' 'compr' 'workflow' 'substitu' 'crm' 'volt' 'modul'\n 'cont' 'padronizaca' 'nov' 'ambi' 'sap' 'ecc' 'projet' 'bt' 'back'\n 'standard' 'responsa' 'padronizaca' 'workflow' 'utiliz' 'adapt' 'process'\n 'atual' 'adequ' 'max' 'possi' 'standard' 'ver' 'menos' 'panasonic'\n 'brasil' 'consult' 'workflow' 'nom' 'empresapanasonic' 'brasil' 'period'\n 'empregom' 'jul' 'duraca' 'mes' 'localidadesa' 'paul' 'extrem' 'aloc'\n 'consult' 'csral' 'informa' 'desenvolv' 'cockpit' 'acess' 'ped'\n 'aprovaca' 'projet' 'suplementaca' 'verb' 'projet' 'modul' 'essenc' 'sap'\n 'abap' 'workflow' 'consultant' 'nom' 'empresaessenc' 'period'\n 'empregojun' 'mar' 'duraca' 'mes' 'localidadesa' 'jos' 'camp' 'regia'\n 'brasil' 'atu' 'projet' 'dentr' 'client' 'embra' 'desenvolv' 'program'\n 'otimizaca' 'process' 'financ' 'melh' 'relatori' 'audit' 'calcul' 'jur'\n 'mult' 'cobranc' 'via' 'bolet' 'ytecnolog' 'informaca' 'consult' 'abap'\n 'nom' 'empresaytecnolog' 'informaca' 'period' 'empregojan' 'jun' 'duraca'\n 'ano' 'mes' 'localidadesa' 'paul']"
        ],
        [
         "29",
         "jonatas henrique silva dos santos nascido em 1988 links dev perfil profissional programador full-stack, tendo atuado como freelancer nos últimos anos, desenvolvendo aplicativos móbile. criador do canal dippingcode e instrutor de programação e desenvolvimento de aplicativos com flutter e dart. objetivos atuar como programador flutter. formação especializado em design e computação gráfica pelo iesam em 2012; graduado em bacharel em sistemas de informação pela feapa em 2012; cursos e atividades extra design de aplicativos; desenvolvimento de aplicativos com flutter; deploy no heroku e aws; backend com firebase (cloud firestore); experiências profissionais diferencial sou capaz de atuar no desenvolvimento de uma aplicação desde o levantamento de requisitos ao produto final de sua interface, aplicando as melhores práticas de ui/ux design. desenvolvedor fullstack na ieadi entre 2018 - 2021; tenho desenvolvido aplicações de cunho backend e frontend, utilizando principalmente reactjs, react native e flutter e mais recentemente publicamos o aplicativo ieadi-app, na play store, sendo o responsável por 100% do desenvolvimento do projeto; desenvolvedor python entre 2015 - 2017; trabalhei com o desenvolvimento de um aplicativo para processamento de linguagens naturais em python, durante o período em que eu cursava mestrado em ciência da computação. desenvolvedor backend entre 2010 - 2014; nesse período trabalhei desenvolvendo sistemas backend e games, utilizando as linguagens java, c# e php, criando sistemas junto com banco de dados relacionais como mysql. tive uma oportunidade para desenvolver um sistema no legado delphi, que me levou a pensar no desenvolvimento frontend.",
         "['jonat' 'nasc' 'link' 'dev' 'perfil' 'profiss' 'program' 'full' 'stack'\n 'tend' 'atu' 'freelanc' 'ult' 'ano' 'desenvolv' 'aplic' 'mobil' 'cri'\n 'canal' 'dippingcod' 'instru' 'programaca' 'desenvolv' 'aplic' 'flutt'\n 'obje' 'atu' 'program' 'flutt' 'formaca' 'especi' 'design' 'computaca'\n 'graf' 'ies' 'gradu' 'bacharel' 'sistem' 'informaca' 'feap' 'curs' 'ativ'\n 'extr' 'design' 'aplic' 'desenvolv' 'aplic' 'flutt' 'deploy' 'heroku'\n 'aw' 'backend' 'firebas' 'cloud' 'firestor' 'experienc' 'profiss' 'difer'\n 'capaz' 'atu' 'desenvolv' 'aplicaca' 'desd' 'levant' 'requisit' 'produt'\n 'final' 'interfac' 'aplic' 'melhor' 'pra' 'design' 'desenvolv'\n 'fullstack' 'iead' 'desenvolv' 'aplicaco' 'frontend' 'utiliz' 'princip'\n 'reactj' 'react' 'nativ' 'flutt' 'recent' 'public' 'aplic' 'iead' 'app'\n 'play' 'stor' 'send' 'responsa' 'desenvolv' 'projet' 'desenvolv' 'python'\n 'trabalh' 'desenvolv' 'aplic' 'process' 'lingu' 'natur' 'python' 'dur'\n 'period' 'curs' 'mestr' 'cienc' 'computaca' 'desenvolv' 'backend' 'ness'\n 'period' 'trabalh' 'desenvolv' 'sistem' 'backend' 'gam' 'utiliz' 'lingu'\n 'jav' 'php' 'cri' 'sistem' 'junt' 'banc' 'dad' 'relac' 'mysql' 'oportun'\n 'desenvolv' 'sistem' 'leg' 'delph' 'lev' 'pens' 'desenvolv' 'frontend']"
        ],
        [
         "30",
         "são paulo, brasil sobre development consultant in implementations of processes of customer using sap abap, tools hana for abap and sapui5. specialties: expertise in tdf - tax declaration framework brasil, bloco k, sped, ecf, ecd, sap-isu/ccs fi-ca (financial contract account). experiência autônomo sap abap consultant nome da empresaautônomo período do empregojan. de 2004 – o momento duração17 anos 11 meses localidadesão paulo e região, brasil seidor brasil senior sap advanced business application programming consultant nome da empresaseidor brasil tempo integral período do empregojan. de 2018 – out. de 2019 duração1 ano 10 meses localidadesão paulo area, brazil oki do brasil / atotech sap erp update for electronic invoice version 4.10, ecc adaptation to meet sefaz technical note articles. realization of: understanding of the technical grade, technique, development and testing of modifications. amcor bemis sapiens project - maintenance and creation of online programs, user exits, smartforms and reports in mm and sd modules. medquimica together project- analysis and solution related to tax treatment at the time of creation of sales order from external interface. midea customer extract project. creating smartform which displays all relevant sales and finance information (customer data, billing history, sales history, open and future credit data). understanding of the need, data collection, reverse engineering of existing programs, specification, solution drawings, development and testing. sodimac/dicico school cuts project. creation of a cockpit to meet the demand of the mdf \"cuts\" sector. the objective of this project was to move materials in the mm module and wm module in the same stock / shelf transforming unit of measure to square meters. jun/18 - aug /18 - midea sap interface design with engeman maintenance system. in this project i participated from the gathering of information, data analysis, specifications, development and testing programs of customers, suppliers, materials, contracts, creation of requests and billing. nf-e 4.0 sap erp update for electronic invoice version 4.0, ecc adaptation to meet sefaz technical note articles. realization of: understanding of the technical grade, grade application, functional specification, technique, development and testing of modifications. bombril. pricing project and commercial policy. working with the consultants of sd, mm and fi modules in the adequacy of the system to contemplate the new commercial policy. ver menos entrust it - consultoria em ti sap abap consultant nome da empresaentrust it - consultoria em ti período do empregoout. de 2015 – dez. de 2017 duração2 anos 3 meses localidadesão paulo area, brazil out/15 – dez/17 consultor sap erp – abap – b&d. levantamento de informações, arquitetura e desenvolvimento de programa para exibição, edição e preenchimento do bloco k, bloco g (inventário) e respectivos registros que compõem o arquivo de escrituração contábil digital (ecd), sped e ecf no sap r/3. infosys sap abap consultant senior nome da empresainfosys período do empregomai. de 2015 – set. de 2015 duração5 meses localidadesão paulo area, brazil levantamento de informações, arquitetura e desenvolvimento de programa para exibição, edição e preenchimento dos blocos e respectivos registros que compõem o arquivo de escrituração contábil e fiscal (ecf) no sap tdf - tax declaration framework for brasil (solução da sap para planejamento fiscal e pagamento de impostos). nesse projeto tive a oportunidade de atuar com abap for hana, modelagem de dados no hana modeler e ferramentas de desenvolvimento sapui5.",
         "['sao' 'paul' 'brasil' 'sobr' 'development' 'consultant' 'implementatiom'\n 'proc' 'custom' 'using' 'sap' 'abap' 'tool' 'han' 'abap' 'and' 'sapu'\n 'specialti' 'expertis' 'tdf' 'tax' 'declaration' 'framework' 'brasil'\n 'bloc' 'sped' 'ecf' 'ecd' 'financ' 'experienc' 'auton' 'sap' 'abap'\n 'consultant' 'nom' 'empresaauton' 'period' 'empregojan' 'moment' 'duraca'\n 'ano' 'mes' 'localidadesa' 'paul' 'regia' 'brasil' 'seid' 'brasil' 'seni'\n 'sap' 'advanced' 'busines' 'application' 'programming' 'consultant' 'nom'\n 'empresase' 'brasil' 'temp' 'integr' 'period' 'empregojan' 'out' 'duraca'\n 'ano' 'mes' 'localidadesa' 'atotech' 'sap' 'erp' 'updat' 'electronic'\n 'invo' 'version' 'ecc' 'adaptation' 'meet' 'sefaz' 'technic' 'not'\n 'articl' 'realization' 'understanding' 'the' 'technic' 'grad' 'techniqu'\n 'development' 'and' 'testing' 'modificatiom' 'amc' 'bemil' 'sapi'\n 'project' 'maintenanc' 'and' 'creation' 'onlin' 'progr' 'us' 'exit'\n 'smartform' 'and' 'report' 'and' 'modul' 'medquim' 'togeth' 'project'\n 'analysil' 'and' 'solution' 'related' 'tax' 'treatment' 'the' 'tim'\n 'creation' 'sal' 'ord' 'from' 'extern' 'interfac' 'mide' 'custom'\n 'extract' 'project' 'creating' 'all' 'custom' 'dat' 'billing' 'history'\n 'sal' 'history' 'open' 'and' 'futur' 'credit' 'dat' 'understanding' 'the'\n 'need' 'dat' 'collection' 'revers' 'engineering' 'existing' 'progr'\n 'specification' 'solution' 'drawing' 'development' 'and' 'testing'\n 'sodimac' 'dicic' 'school' 'cut' 'project' 'creation' 'cockpit' 'meet'\n 'the' 'demand' 'the' 'mdf' 'cut' 'sec' 'the' 'objectiv' 'thil' 'project'\n 'wa' 'mov' 'mater' 'the' 'modul' 'and' 'modul' 'the' 'sam' 'stock'\n 'shelf' 'transforming' 'unit' 'measur' 'squ' 'met' 'sap' 'interfac'\n 'design' 'maintenanc' 'syst' 'thil' 'project' 'participated' 'from' 'the'\n 'gathering' 'information' 'dat' 'analysil' 'specificatiom' 'development'\n 'and' 'testing' 'progr' 'custom' 'suppli' 'mater' 'contract' 'creation'\n 'request' 'and' 'billing' 'sap' 'erp' 'updat' 'electronic' 'invo'\n 'version' 'ecc' 'adaptation' 'meet' 'sefaz' 'technic' 'not' 'articl'\n 'realization' 'understanding' 'the' 'technic' 'grad' 'grad' 'application'\n 'funct' 'specification' 'techniqu' 'development' 'and' 'testing'\n 'modificatiom' 'bombril' 'pricing' 'project' 'and' 'commerc' 'policy'\n 'working' 'with' 'the' 'consultant' 'and' 'modul' 'the' 'adequacy' 'the'\n 'syst' 'contemplat' 'the' 'new' 'commerc' 'policy' 'ver' 'menos'\n 'entrust' 'consult' 'sap' 'abap' 'consultant' 'nom' 'empresaentrust'\n 'consult' 'period' 'empregoout' 'dez' 'duraca' 'ano' 'mes' 'localidadesa'\n 'out' 'dez' 'consult' 'abap' 'levant' 'informaco' 'arquitet' 'desenvolv'\n 'program' 'exibica' 'edica' 'preench' 'bloc' 'bloc' 'inventari' 'respec'\n 'registr' 'compo' 'arqu' 'escrituraca' 'contavel' 'digit' 'ecd' 'sped'\n 'ecf' 'sap' 'infosy' 'sap' 'abap' 'consultant' 'seni' 'nom'\n 'empresainfosy' 'period' 'empregom' 'set' 'duraca' 'mes' 'localidadesa'\n 'levant' 'informaco' 'arquitet' 'desenvolv' 'program' 'exibica' 'edica'\n 'preench' 'bloc' 'respec' 'registr' 'compo' 'arqu' 'escrituraca'\n 'contavel' 'fiscal' 'ecf' 'sap' 'tdf' 'tax' 'declaration' 'framework'\n 'brasil' 'soluca' 'sap' 'planej' 'fiscal' 'pag' 'impost' 'ness' 'projet'\n 'oportun' 'atu' 'abap' 'han' 'model' 'dad' 'han' 'model' 'ferrament'\n 'desenvolv' 'sapu']"
        ],
        [
         "31",
         "ribeirão preto, são paulo consultoria e coordenação abap (sap) experiência comlink comunicações integradas analista de sistemas sap (abap) nome da empresacomlink comunicações integradas período do empregojun. de 2011 – o momento duração10 anos 6 meses localidaderibeirão preto e região, brasil prestação de serviço de consultoria/coordenação técnica para a área de abap. responsável técnico e funcional pelas integrações do portal comlink com o sap dos clientes. responsável abap pela certificação sap (add-on 4.9.0.74) dos produtos comlink (cadastro de materiais, b2b, módulo de contratos e módulo de serviços). pearson brasil analista de sistemas de sap nome da empresapearson brasil período do empregoabr. de 2009 – jul. de 2011 duração2 anos 4 meses localidaderibeirão preto e região, brasil usina batatais s/a - açúcar e álcool analista de sistemas de sap nome da empresausina batatais s/a - açúcar e álcool período do empregojan. de 2002 – jun. de 2009 duração7 anos 6 meses localidaderibeirão preto e região, brasil",
         "['consult' 'coordenaca' 'abap' 'sap' 'experienc' 'comlink' 'comunicaco'\n 'integr' 'anal' 'sistem' 'sap' 'abap' 'nom' 'empresacomlink' 'comunicaco'\n 'integr' 'period' 'empregojun' 'moment' 'duraca' 'ano' 'mes'\n 'localidaderibeira' 'pret' 'regia' 'brasil' 'prestaca' 'serv' 'consult'\n 'coordenaca' 'tecn' 'are' 'abap' 'responsa' 'tecn' 'func' 'integraco'\n 'port' 'comlink' 'sap' 'client' 'responsa' 'abap' 'certificaca' 'sap'\n 'add' 'produt' 'comlink' 'cadastr' 'mater' 'modul' 'contrat' 'modul'\n 'serv' 'pearson' 'brasil' 'anal' 'sistem' 'sap' 'nom' 'empresapearson'\n 'brasil' 'period' 'empregoabr' 'jul' 'duraca' 'ano' 'mes'\n 'localidaderibeira' 'pret' 'regia' 'brasil' 'usin' 'batat' 'acuc'\n 'alcool' 'anal' 'sistem' 'sap' 'nom' 'empresausin' 'batat' 'acuc'\n 'alcool' 'period' 'empregojan' 'jun' 'duraca' 'ano' 'mes'\n 'localidaderibeira' 'pret' 'regia' 'brasil']"
        ],
        [
         "32",
         "são josé dos campos, são paulo, sap abap sobre • support to functional analysts sap • experience in the technical specification of programs for software factories • development and maintenance of computer programs at the client and in the software factory • experience in the execution of unit testing and integration • working with external software suppliers • technical knowledge of abap: • reports, alv, alv oo, enhancements (badi, user-exit, enhancement points); bapi, data dictionary, smartforms, tuning and performance • maintenance in sapscript and online programs • zpl language (printer zebra) and generation of barcodes • experience in solman, service now and magic to control incidents • interest in sap hana, fiori and lumira technologies • experience in cobol, vsam, db2, delphi and pl/sql experiência tata consultancy services sap abap consultant nome da empresatata consultancy services tempo integral período do empregoout. de 2018 – o momento duração3 anos 2 meses localidadesão josé dos campos e região, brasil client : embraer - aerospace industry . abap developer for the project team (mm, fi aa, ps). sonda sap abap consultant nome da empresasonda período do empregojul. de 2017 – nov. de 2018 duração1 ano 5 meses localidadesão josé dos campos, são paulo client : embraer - aerospace industry ams sap gsw software sap abap consultant nome da empresagsw software período do empregofev. de 2017 – jun. de 2017 duração5 meses localidadesão josé dos campos area, brazil • client : embraer - aerospace industry • participation in the project of upgrade version of sap (4.7 to ecc 6.0 with hana database) mars sap abap consultant nome da empresamars período do empregojul. de 2008 – nov. de 2016 duração8 anos 5 meses localidadeguararema • client : mars - american multinational in the food industry • support to sap functional analysts - modules mm, sd, fi and pp • development and maintenance of abap programs according to the functional specifications • participation in unit and integrated tests • technical documentation in english • participation in the project of upgrade version of sap (4.7 to ecc 6.0) ver menos chevron sap abap consultant nome da empresachevron período do empregomar. de 2008 – jun. de 2008 duração4 meses localidademauá, são paulo",
         "['sao' 'jos' 'camp' 'sao' 'paul' 'sap' 'abap' 'sobr' 'support' 'funct'\n 'analyst' 'sap' 'experienc' 'the' 'technic' 'specification' 'progr'\n 'softw' 'factori' 'development' 'and' 'maintenanc' 'comput' 'progr' 'the'\n 'client' 'and' 'the' 'softw' 'factory' 'experienc' 'the' 'execution'\n 'unit' 'testing' 'and' 'integration' 'working' 'with' 'extern' 'softw'\n 'suppli' 'technic' 'knowledg' 'abap' 'report' 'alv' 'alv' 'enhancement'\n 'bad' 'us' 'exit' 'enhancement' 'point' 'bap' 'dat' 'dictionary'\n 'smartform' 'tuning' 'and' 'performanc' 'maintenanc' 'sapscript' 'and'\n 'onlin' 'progr' 'zpl' 'languag' 'print' 'zebr' 'and' 'generation'\n 'barcod' 'experienc' 'solman' 'serv' 'now' 'and' 'magic' 'control'\n 'incident' 'interest' 'sap' 'han' 'fior' 'and' 'lum' 'technologi'\n 'experienc' 'cobol' 'vs' 'delph' 'and' 'sql' 'experienc' 'tat'\n 'consultancy' 'serv' 'sap' 'abap' 'consultant' 'nom' 'empresatat'\n 'consultancy' 'serv' 'temp' 'integr' 'period' 'empregoout' 'moment'\n 'duraca' 'ano' 'mes' 'localidadesa' 'jos' 'camp' 'regia' 'brasil'\n 'client' 'embra' 'abap' 'develop' 'the' 'project' 'te' 'sond' 'sap'\n 'abap' 'consultant' 'nom' 'empresasond' 'period' 'empregojul' 'nov'\n 'duraca' 'ano' 'mes' 'localidadesa' 'jos' 'camp' 'sao' 'embra' 'aerospac'\n 'industry' 'am' 'sap' 'gsw' 'softw' 'sap' 'abap' 'consultant' 'nom'\n 'empresagsw' 'softw' 'period' 'empregofev' 'jun' 'duraca' 'mes'\n 'localidadesa' 'embra' 'aerospac' 'industry' 'participation' 'the'\n 'project' 'upgrad' 'version' 'sap' 'ecc' 'with' 'han' 'databas' 'mar'\n 'sap' 'abap' 'consultant' 'nom' 'empresam' 'period' 'empregojul' 'nov'\n 'duraca' 'ano' 'mes' 'localidadeguararem' 'client' 'mar' 'american'\n 'multinat' 'the' 'food' 'industry' 'support' 'sap' 'funct' 'analyst'\n 'modul' 'and' 'development' 'and' 'maintenanc' 'abap' 'progr' 'according'\n 'the' 'funct' 'specificatiom' 'participation' 'unit' 'and' 'integrated'\n 'test' 'technic' 'documentation' 'english' 'participation' 'the'\n 'project' 'upgrad' 'version' 'sap' 'ecc' 'ver' 'menos' 'chevron' 'sap'\n 'abap' 'consultant' 'nom' 'empresachevron' 'period' 'empregom' 'jun'\n 'duraca' 'mes' 'localidademau' 'sao' 'paul']"
        ],
        [
         "33",
         "ribeirão preto, são paulo sap consultant specialist | abap | pi grc-nfe | fiscal sobre consultor sap/abap/pi/po com mais de 11 anos experiência em projetos sap, com especialização nas áreas fiscais e tributária, grc/nfe, arquitetura de soluções e desenvolvimento de produtos. experiência comprovada como gerente de projetos sap utilizando metodologias asap, scrum e kanban, atuação e implantação de projetos fiscais, como sped fiscal, sped contábil, fcont, sped contribuições, sped ecf, elalur, sped bloco k, gia, isimp e demais obrigações acessórias. como consultor sap possuo conhecimento nos módulos funcionais sd, mm, fi, co, les-tra, hr, pp, pm, crm, solman e bw. desenvolvimentos na linguagem sap/abap de: • programas on-line e module pool • alv o.o, write, report´s avançados • forms print: sapscript e smartforms. • rfc, bapi, badi, exit's, btes. • native sql,performance, web service e interfaces netweaver/pi • análise e customização para upgrade de versão da 4.6c para ecc 6.0, 7.x • experiência em projetos de implantação e roll-out. • sap abap fiori e ui5. desenvolvimento e manutenção de soluções customizadas baseadas em interface com o sap e sistemas legados utilizando o sap pi, rfc, idocs, webservices, gateway, json e xml. desenvolvimento, treinamento, capacitação e coordenação de desenvolvedores, recursos técnicos e equipe de desenvolvimento. conhecimentos de basis em aplicação de notas, transporte de request´s, análise de performance, aplicação de patches, ajustes de parâmetros, análise e manutenção de perfis, administração de ambientes e administração de databases. arquitetura, implementação e monitoramento e administração de ambientes de nota fiscal eletrônica, sap grc nfe e legados. conhecimentos em programação auxiliar em html5, css, javascript, angularjs, php. experiência como professor em instituições como senac/go e universidade santa rita de cássia (unifasc) - itumbiara-go. experiência basisone consultoria ltda diretor soluções nome da empresabasisone consultoria ltda período do empregonov. de 2015 – dez. de 2016 duração1 ano 2 meses localidaderibeirão preto area, brazil basisone consultoria ltda sap netweaver pi/abap/grc-nfe/fiscal nome da empresabasisone consultoria ltda período do empregojan. de 2013 – set. de 2015 duração2 anos 9 meses localidaderibeirão preto area, brazil avannt consultoria consultor abap/xi/pi sênior nome da empresaavannt consultoria período do empregofev. de 2012 – dez. de 2012 duração11 meses localidaderibeirão preto area, brazil ciafal s/a analista de sistemas sr. pi/abap nome da empresaciafal s/a período do empregoabr. de 2011 – ago. de 2012 duração1 ano 5 meses localidadedivinópolis area, brazil caramuru alimentos s.a. nome da empresacaramuru alimentos s.a. duração total8 anos 6 meses período do empregoout. de 2010 – ago. de 2011 duração11 meses sap xi/pi : working with adapters interfaces soap, file, rfc, proxy, idoc, webservice, grc,with knowledge in bpm and java mapping scenarios. responsible for developing interface between legacy systems and the sap plataform systems. período do empregojul. de 2009 – mar. de 2011 duração1 ano 9 meses support team member internal bw knowledge of extractors, queues delta aggregates. monitoring process chains, ods, psa and cubes. knowledge modeling queries in query designer 3.x.",
         "['specialist' 'abap' 'grc' 'nfe' 'fiscal' 'sobr' 'consult' 'sap' 'abap'\n 'ano' 'experienc' 'projet' 'sap' 'especializaca' 'are' 'fiscal' 'tribut'\n 'grc' 'nfe' 'arquitet' 'soluco' 'desenvolv' 'produt' 'experienc'\n 'comprov' 'gerent' 'projet' 'sap' 'utiliz' 'metodolog' 'asap' 'scrum'\n 'implantaca' 'projet' 'fiscal' 'sped' 'fiscal' 'sped' 'contavel' 'fcont'\n 'sped' 'contribuico' 'sped' 'ecf' 'elalur' 'sped' 'bloc' 'gia' 'demal'\n 'obrigaco' 'acess' 'consult' 'sap' 'possu' 'conhec' 'modul' 'func' 'le'\n 'tra' 'crm' 'solman' 'desenvolv' 'lingu' 'sap' 'abap' 'program' 'lin'\n 'modul' 'pool' 'alv' 'writ' 'report' 'avanc' 'form' 'print' 'sapscript'\n 'smartform' 'bte' 'nativ' 'sql' 'performanc' 'web' 'serv' 'interfac'\n 'netweav' 'analis' 'customizaca' 'upgrad' 'versa' 'ecc' 'experienc'\n 'projet' 'implantaca' 'roll' 'out' 'sap' 'abap' 'fior' 'desenvolv'\n 'manutenca' 'soluco' 'custom' 'base' 'interfac' 'sap' 'sistem' 'leg'\n 'utiliz' 'sap' 'rfc' 'idoc' 'webserv' 'xml' 'desenvolv' 'trein'\n 'capacitaca' 'coordenaca' 'desenvolv' 'recurs' 'tecn' 'equip' 'desenvolv'\n 'conhec' 'basil' 'aplicaca' 'not' 'transport' 'request' 'analis'\n 'performanc' 'aplicaca' 'patch' 'ajust' 'parametr' 'analis' 'manutenca'\n 'perfil' 'administraca' 'ambi' 'administraca' 'databas' 'arquitet'\n 'implementaca' 'monitor' 'administraca' 'ambi' 'not' 'fiscal' 'eletron'\n 'sap' 'grc' 'nfe' 'leg' 'conhec' 'programaca' 'auxili' 'html' 'cs'\n 'javascript' 'angularj' 'php' 'experienc' 'profes' 'instituico' 'univers'\n 'sant' 'rit' 'cass' 'unifasc' 'itumbi' 'experienc' 'basison' 'consult'\n 'ltd' 'dire' 'soluco' 'nom' 'empresabasison' 'consult' 'ltd' 'period'\n 'empregonov' 'dez' 'duraca' 'ano' 'mes' 'localidaderibeira' 'pret' 'are'\n 'brazil' 'basison' 'consult' 'ltd' 'sap' 'netweav' 'abap' 'grc' 'nfe'\n 'fiscal' 'nom' 'empresabasison' 'consult' 'ltd' 'period' 'empregojan'\n 'set' 'duraca' 'ano' 'mes' 'localidaderibeira' 'pret' 'are' 'brazil'\n 'avannt' 'consult' 'consult' 'seni' 'nom' 'empresaavannt' 'consult'\n 'period' 'empregofev' 'dez' 'duraca' 'mes' 'localidaderibeira' 'pret'\n 'anal' 'sistem' 'abap' 'nom' 'empresaciaf' 'period' 'empregoabr' 'ago'\n 'duraca' 'ano' 'mes' 'localidadedivinopolil' 'are' 'brazil' 'caramuru'\n 'aliment' 'nom' 'empresacaramuru' 'aliment' 'duraca' 'total' 'ano' 'mes'\n 'period' 'empregoout' 'ago' 'duraca' 'mes' 'sap' 'working' 'with' 'adapt'\n 'interfac' 'rfc' 'scenari' 'responsibl' 'developing' 'interfac' 'between'\n 'legacy' 'syst' 'and' 'the' 'sap' 'plataform' 'syst' 'period'\n 'empregojul' 'mar' 'duraca' 'ano' 'mes' 'support' 'te' 'memb' 'intern'\n 'knowledg' 'extrac' 'queu' 'delt' 'aggregat' 'monitoring' 'proces'\n 'chaim' 'od' 'psa' 'and' 'cub' 'knowledg' 'modeling' 'queri' 'query'\n 'design']"
        ],
        [
         "34",
         "consultor sap abap | pi/po certified experiência sap technical analyst abap | pi/po período do empregoago. de 2021 – o momento duração4 meses wa fenix consultor sap abap | pi/po nome da empresawa fenix período do empregomar. de 2021 – o momento duração9 meses t-systems do brasil sap abap/pi/po consultant nome da empresat-systems do brasil período do empregofev. de 2015 – fev. de 2021 duração6 anos 1 mês infosys lodestone sap portal consultant nome da empresainfosys lodestone período do empregoago. de 2014 – fev. de 2015 duração7 meses stefanini sap abap/pi consultant nome da empresastefanini período do empregomar. de 2014 – jul. de 2014 duração5 meses",
         "['consult' 'experienc' 'sap' 'technic' 'analyst' 'abap' 'period'\n 'empregoag' 'moment' 'duraca' 'mes' 'fenix' 'consult' 'sap' 'abap' 'nom'\n 'empresaw' 'fenix' 'period' 'empregom' 'moment' 'duraca' 'mes' 'syst'\n 'brasil' 'sap' 'abap' 'consultant' 'nom' 'empresat' 'syst' 'brasil'\n 'period' 'empregofev' 'fev' 'duraca' 'ano' 'me' 'infosy' 'lodeston' 'sap'\n 'port' 'consultant' 'nom' 'empresainfosy' 'empregoag' 'fev' 'duraca'\n 'mes' 'abap' 'consultant' 'nom' 'empresastefanin' 'period' 'empregom'\n 'jul' 'duraca' 'mes']"
        ],
        [
         "35",
         "pompéia, são paulo consultor técnico sap | abap | fiori | sapui5 | pi po | hana sobre líder técnico e de negócios, com anos de experiência em processos e sistemas corporativos, focado nas áreas fiscal (speds, nf–e, cf–e, entre outros), manufatura, logística e pós venda. focado no processo de engenharia e desenvolvimento de software, com ênfase na evolução dos processos corporativos e tradução em sistemas informatizados, fazendo uso das boas práticas e apoiado em gestão ágil de projetos. experiência bracell consultor técnico sap nome da empresabracell tempo integral período do empregomar. de 2021 – o momento duração9 meses localidadelençóis paulista, são paulo, brasil consultoria sap abap / pi e apoio aos funcionais e usuários chave nas atividades de elaboração e avaliação dos documentos das necessidades. tecno llab consultor sap abap/hana/fiori-ui5 nome da empresatecno llab período do empregoago. de 2017 – o momento duração4 anos 4 meses localidademarília e região, brasil consultoria técnica sap • consultoria sap abap / fiori / pi / hana. • líder técnico abap. • gestor de usuários chave nas atividades de elaboração e avaliação de requerimentos. vistex consultor técnico core nome da empresavistex tempo integral período do empregojan. de 2020 – fev. de 2021 duração1 ano 2 meses localidademarília e região, brasil consultoria técnica core • arquitetura e implantação de soluções aderentes e portáveis as soluções vistex com foco em performance. • documentação técnica do projeto. • apoio técnico para especificações e configuração do dmp. • apoio técnico para especificações e configuração do ia. • apoio técnico para as integrações vistex x outros módulos. ver menos afl sistemas ltda. nome da empresaafl sistemas ltda. duração total9 anos 7 meses período do empregojul. de 2016 – ago. de 2017 duração1 ano 2 meses localidademarília e região, brasil • líder técnico de migração de dados • gestor de keyusers nas atividades de extração/construção, saneamento e enriquecimento dos dados para o sap s/4 hana • especialista nos dados de parceiros de negócio (business partners - bps) para o s/4 hana • experiência nos dados transacionais de finanças, contabilidade e controladoria ver menos período do empregofev. de 2008 – ago. de 2017 duração9 anos 7 meses localidademarília e região, brasil • apoio a decisões táticas e estratégicas da empresa. • gestão da equipe de desenvolvedores, com base em metodologia ágil customizada para a empresa. • analista e engenheiro de software das principais soluções corporativas, tais como fiscal (nf–e, cf–e, speds), portal de vendas, manufatura, logística e pós-vendas, entre outros. • responsável pela analise e implantação de processos pertinentes a área de desenvolvimento de sistemas, focado na redução de custos e aumento da produtividade.",
         "['pompe' 'sao' 'paul' 'consult' 'tecn' 'sap' 'abap' 'fior' 'sapu' 'han'\n 'sobr' 'lid' 'tecn' 'negoci' 'ano' 'experienc' 'process' 'sistem'\n 'corpor' 'foc' 'are' 'fiscal' 'sped' 'nfe' 'cfe' 'outr' 'manufat' 'logis'\n 'po' 'vend' 'foc' 'process' 'engenh' 'desenvolv' 'softw' 'enfas'\n 'evoluca' 'process' 'corpor' 'traduca' 'sistem' 'inform' 'faz' 'uso'\n 'boa' 'pra' 'apoi' 'gesta' 'agil' 'projet' 'experienc' 'bracell'\n 'consult' 'tecn' 'sap' 'nom' 'empresabracell' 'temp' 'integr' 'period'\n 'empregom' 'moment' 'duraca' 'mes' 'localidadelencoil' 'paul' 'sao'\n 'paul' 'brasil' 'consult' 'sap' 'abap' 'apoi' 'func' 'usuari' 'chav'\n 'ativ' 'elaboraca' 'avaliaca' 'document' 'necess' 'tecn' 'consult' 'nom'\n 'empresatecn' 'llab' 'period' 'empregoag' 'moment' 'duraca' 'ano' 'mes'\n 'localidademaril' 'regia' 'brasil' 'consult' 'tecn' 'sap' 'consult' 'sap'\n 'abap' 'fior' 'han' 'lid' 'tecn' 'abap' 'ges' 'usuari' 'chav' 'ativ'\n 'elaboraca' 'avaliaca' 'requer' 'vistex' 'consult' 'tecn' 'cor' 'nom'\n 'empresavistex' 'temp' 'integr' 'period' 'empregojan' 'fev' 'duraca'\n 'ano' 'mes' 'localidademaril' 'regia' 'brasil' 'consult' 'tecn' 'cor'\n 'arquitet' 'implantaca' 'soluco' 'ader' 'porta' 'soluco' 'vistex' 'foc'\n 'performanc' 'documentaca' 'tecn' 'projet' 'apoi' 'tecn' 'especificaco'\n 'configuraca' 'dmp' 'apoi' 'tecn' 'especificaco' 'configuraca' 'apoi'\n 'tecn' 'integraco' 'vistex' 'outr' 'modul' 'ver' 'menos' 'afl' 'sistem'\n 'ltd' 'nom' 'empresaafl' 'sistem' 'ltd' 'duraca' 'total' 'ano' 'mes'\n 'period' 'empregojul' 'ago' 'duraca' 'ano' 'mes' 'localidademaril'\n 'regia' 'brasil' 'lid' 'tecn' 'migraca' 'dad' 'ges' 'keyus' 'ativ'\n 'extraca' 'construca' 'sane' 'enriquec' 'dad' 'sap' 'han' 'especi' 'dad'\n 'parc' 'bp' 'han' 'experienc' 'dad' 'transac' 'financ' 'contabil'\n 'controlad' 'ver' 'menos' 'period' 'empregofev' 'ago' 'duraca' 'ano'\n 'mes' 'localidademaril' 'regia' 'brasil' 'apoi' 'deciso' 'tatic'\n 'estrateg' 'empr' 'gesta' 'equip' 'desenvolv' 'bas' 'metodolog' 'agil'\n 'custom' 'empr' 'anal' 'engenh' 'softw' 'princip' 'soluco' 'corpor' 'tal'\n 'fiscal' 'nfe' 'cfe' 'sped' 'port' 'vend' 'manufat' 'logis' 'po' 'vend'\n 'outr' 'responsa' 'analis' 'implantaca' 'process' 'pertin' 'are'\n 'desenvolv' 'sistem' 'foc' 'reduca' 'cust' 'aument' 'produt']"
        ],
        [
         "36",
         "vinhedo, são paulo, sap fiori/abap lead expert sobre sap consultant and developer since 1999. certified as sap fiori application developer, sap abap7.40 and sap hana. currently working with full-stack development: fiori/ui5 + sap gateway. experience developing fiori/ui5 solutions in sap ppm (project and portfolio management). experience developing products for brazilian fiscal/legal field in abap, fiori and tdf/hana. skills and knowledge: -development of fiori full-stack apps for sap ppm (project and portfolio management) -development of fiori and abap applications for tdf/hana(sap brazilian legal tool) -products development for brazilian legal reporting: sped reinf, sped ecf, sped efd, sped ecd, sped pis/cofins, gia's, nf-e, nfs-e -fiori/ui5: javascript, xml and json coding; sap gateway (odata) development -abap: object oriented programming; clean coding, well documented, aiming performance and maintainability -webservice (soap): service configuration via soamanager, proxy creation and use of transformations -workflow: design and implementation of standard and customizable flows -technical and processes knowledge of sap modules (mm, wm, sd, pp, hr, fi, co, etc.) -experience with tdd (test driven development) -development of full-stack web applications: javascript, node.js api’s, vue.js, react.js, mongodb database -participation in implementation (full cycle), rollout and changes projects -participation in product development projects with agile/scrum methodology -leadership of technical team, resources management and coordination of technical activities -instructor in technical trainings experiência delaware brasil fiori-abap lead expert nome da empresadelaware brasil tempo integral período do empregoout. de 2021 – o momento duração2 meses localidadebrazil phoron do brasil - go live and beyond nome da empresaphoron do brasil - go live and beyond duração total7 anos 10 meses tempo integral período do empregojun. de 2019 – out. de 2021 duração2 anos 5 meses localidadevienna, vienna, austria fiori/abap development for ppm período do empregojun. de 2017 – jun. de 2019 duração2 anos 1 mês localidadevinhedo, sp - development of products in hana and abap - development in tdf período do empregojan. de 2014 – jun. de 2017 duração3 anos 6 meses localidadevinhedo, sp - brazil - technology team coordination; - resources planning (technology team); - resources administration (technology team); - project management (product development); - technology resources management in projects; - abap (object oriented) / hana development.",
         "['expert' 'sobr' 'sap' 'consultant' 'and' 'develop' 'sinc' 'certified'\n 'sap' 'fior' 'application' 'develop' 'sap' 'abap' 'and' 'sap' 'han'\n 'currently' 'working' 'with' 'full' 'stack' 'development' 'fior' 'sap'\n 'gateway' 'experienc' 'developing' 'fior' 'solutiom' 'project' 'and'\n 'portfoli' 'management' 'experienc' 'developing' 'product' 'brazilian'\n 'fiscal' 'legal' 'field' 'abap' 'fior' 'and' 'tdf' 'han' 'skill' 'and'\n 'knowledg' 'development' 'fior' 'full' 'stack' 'app' 'sap' 'ppm'\n 'project' 'and' 'portfoli' 'management' 'development' 'fior' 'and' 'abap'\n 'applicatiom' 'tdf' 'han' 'legal' 'tool' 'product' 'development'\n 'brazilian' 'legal' 'reporting' 'sped' 'reinf' 'sped' 'ecf' 'sped' 'efd'\n 'sped' 'ecd' 'sped' 'pi' 'cofim' 'gia' 'nf' 'fior' 'javascript' 'xml'\n 'and' 'json' 'coding' 'sap' 'gateway' 'odat' 'object' 'oriented'\n 'programming' 'clean' 'coding' 'well' 'documented' 'aiming' 'performanc'\n 'and' 'maintainability' 'webserv' 'soap' 'serv' 'configuration' 'via'\n 'soamanag' 'proxy' 'creation' 'and' 'use' 'transformatiom' 'workflow'\n 'design' 'and' 'implementation' 'standard' 'and' 'customizabl' 'flow'\n 'technic' 'and' 'proc' 'knowledg' 'sap' 'modul' 'etc' 'experienc' 'with'\n 'tdd' 'test' 'driven' 'development' 'development' 'full' 'stack' 'web'\n 'applicatiom' 'javascript' 'nod' 'vue' 'databas' 'participation'\n 'implementation' 'full' 'cycl' 'rollout' 'and' 'chang' 'project'\n 'participation' 'product' 'development' 'project' 'with' 'agil' 'scrum'\n 'methodology' 'leadership' 'technic' 'te' 'resourc' 'management' 'and'\n 'coordination' 'technic' 'activiti' 'instruc' 'technic' 'training'\n 'experienc' 'expert' 'nom' 'empresadelaw' 'brasil' 'temp' 'integr'\n 'period' 'empregoout' 'moment' 'duraca' 'mes' 'localidadebrazil' 'phoron'\n 'brasil' 'liv' 'and' 'beyond' 'nom' 'empresaphoron' 'brasil' 'liv' 'and'\n 'beyond' 'duraca' 'total' 'ano' 'mes' 'temp' 'integr' 'period'\n 'empregojun' 'out' 'duraca' 'ano' 'mes' 'duraca' 'ano' 'me'\n 'localidadevinhed' 'development' 'product' 'han' 'and' 'abap'\n 'development' 'tdf' 'period' 'empregojan' 'jun' 'duraca' 'ano' 'mes'\n 'localidadevinhed' 'brazil' 'technology' 'te' 'coordination' 'resourc'\n 'planning' 'technology' 'te' 'resourc' 'administration' 'technology' 'te'\n 'project' 'management' 'product' 'development' 'technology' 'resourc'\n 'management' 'project' 'abap' 'object' 'oriented' 'han' 'development']"
        ],
        [
         "37",
         "formação acadêmica: tecnologia em análise e desen. de sistemas - cotemig (conclusão:2015) área de conhecimento : - web: html5, css3,sass, javascript, jquery banco de dados: oracle, mysql, postgres - ling. de programação: java (android), c, c#, redes: windows server 2003,2008 - ferramentas: eclipse, netbeans, android studio , microsoft visual studio 2013/2015 - edit. de documento: microsoft word, excel - framework: hibernate, primefaces, bootstrap - sistemas operacionais: windows 7, 8, 10, ubuntu ling. de modelagem: uml - padrão de arq. de software: mvc experiência profissional : md2 informática - 11/2020 a atual principais atividades: analise e correção de bugs em aplicação web, utilizando sonarqueb, jenkins, banco de dados postgres e java 1.8(8)e realização de testes unitários utilizando junit. manutenção no código do programa da md2, utilizando java 8, e banco de dados postgres com pgadmin. sofex - 07/2018 a 11/2020 principais atividades: desenvolvimento , manutenção , concepção de arte , modelagem de banco de dados , documentação de software , design ui de sites utilizando java ee , jquery , javascript , folha de estilo css3 , linguagem de folha de estilo sass , framework bootstrap , primefaces , jpa , jsf , repositório maven , banco de dados postgres , servidor payara . desenvolvimento, manutenção, concepção de arte, modelagem de banco de dados, documentação de software de aplicativos mobile nativos como java e swift , banco de dados sqlite , firebase , ide de desenvolvimento android studio e xcode.desenvolvimento, manutenção, concepção de arte, modelagem de banco de dados, documentação de software, design ui de aplicativos android com java 1.7(7) , kotlin(inicialmente) , banco de dados sqllite, biblioteca de persistência room, arquitetura mvvm , animações simples, utilização de threads com classes assíncronas. prefeitura de belo horizonte - 07/2014 a 05/2015 principais atividades: auxílio no desenvolvimento de sistemas junto aos programadores utilizando java xhtml,css framework primefaces e hibernate .consulta em banco de dados postgres, geração de relatórios. departamento nacional de produção mineral - 04/2011 a 11/2011 principais atividades: manutenção e configuração de computadores, notebooks, impressoras e rede interna do dnpm. banco de dados: oracle, postgresql, firebird programação: c, c++, html, java, javascript, jquery, php gráficos/web: macromedia dreamweaver aplicações de escritório: microsoft outlook, microsoft powerpoint, microsoft word, microsoft excel sistemas operacionais: linux, windows, mac os outros programas: servidores web inglês intermediário.",
         "['formaca' 'academ' 'tecnolog' 'analis' 'desen' 'sistem' 'cotemig'\n 'conclusa' 'are' 'conhec' 'web' 'html' 'cs' 'sas' 'javascript' 'jquery'\n 'banc' 'dad' 'oracl' 'mysql' 'postgr' 'ling' 'programaca' 'jav' 'android'\n 'red' 'window' 'serv' 'ferrament' 'eclips' 'netbe' 'android' 'studi'\n 'microsoft' 'visual' 'studi' 'edit' 'document' 'microsoft' 'word' 'excel'\n 'framework' 'hibernat' 'primefac' 'bootstrap' 'sistem' 'operac' 'window'\n 'ubuntu' 'ling' 'model' 'uml' 'padra' 'arq' 'softw' 'mvc' 'experienc'\n 'profiss' 'informa' 'atual' 'princip' 'ativ' 'analis' 'correca' 'bug'\n 'aplicaca' 'web' 'utiliz' 'sonarqueb' 'jenkim' 'banc' 'dad' 'postgr'\n 'jav' 'realizaca' 'test' 'unitari' 'utiliz' 'junit' 'manutenca' 'codig'\n 'program' 'utiliz' 'jav' 'banc' 'dad' 'postgr' 'pgadmin' 'sofex'\n 'princip' 'ativ' 'desenvolv' 'manutenca' 'concepca' 'art' 'model' 'banc'\n 'dad' 'documentaca' 'softw' 'design' 'sit' 'utiliz' 'jav' 'jquery'\n 'javascript' 'folh' 'estil' 'cs' 'lingu' 'folh' 'estil' 'sas' 'framework'\n 'bootstrap' 'primefac' 'banc' 'dad' 'postgr' 'serv' 'pay' 'desenvolv'\n 'manutenca' 'concepca' 'art' 'model' 'banc' 'dad' 'documentaca' 'softw'\n 'aplic' 'mobil' 'nativ' 'jav' 'swift' 'banc' 'dad' 'sqlit' 'firebas'\n 'ide' 'desenvolv' 'android' 'studi' 'xcod' 'desenvolv' 'manutenca'\n 'concepca' 'art' 'model' 'banc' 'dad' 'documentaca' 'softw' 'design'\n 'aplic' 'android' 'inic' 'banc' 'dad' 'sqllit' 'bibliotec' 'persistenc'\n 'room' 'arquitet' 'simpl' 'utilizaca' 'thread' 'cl' 'assincr' 'prefeit'\n 'bel' 'horizont' 'princip' 'ativ' 'auxili' 'desenvolv' 'sistem' 'junt'\n 'program' 'utiliz' 'jav' 'xhtml' 'cs' 'framework' 'primefac' 'hibernat'\n 'consult' 'banc' 'dad' 'postgr' 'geraca' 'relatori' 'departament'\n 'nacion' 'produca' 'miner' 'princip' 'ativ' 'manutenca' 'configuraca'\n 'comput' 'notebook' 'impres' 'red' 'intern' 'dnpm' 'banc' 'dad' 'oracl'\n 'postgresql' 'firebird' 'programaca' 'html' 'jav' 'javascript' 'jquery'\n 'php' 'graf' 'web' 'macromed' 'dreamweav' 'aplicaco' 'escritori'\n 'microsoft' 'outlook' 'microsoft' 'powerpoint' 'microsoft' 'word'\n 'microsoft' 'excel' 'sistem' 'operac' 'linux' 'window' 'mac' 'outr'\n 'program' 'serv' 'web' 'ingl' 'intermediari']"
        ],
        [
         "38",
         "jundiaí - sp sap abap sobre consultora abap sr com 10 anos de experiência em desenvolvimentos abap, tais como bapi, badi, enhancement point, smartforms, sapscript, module pool, report, funções, etc residente em jundiaí, aceito propostas para sp, campinas, jundiaí e regiao experiência ben fatto consultora sap abap nome da empresaben fatto período do empregoago. de 2019 – mai. de 2020 duração10 meses agape it sap abap freelancer nome da empresaagape it período do empregomar. de 2018 – ago. de 2019 duração1 ano 6 meses localidadejundiaí, são paulo consultora abap ccr s.a. sap ps nome da empresaccr s.a. período do empregoout. de 2015 – mar. de 2018 duração2 anos 6 meses localidadejundiaí, são paulo addvisor consulting consultora sap abap sr nome da empresaaddvisor consulting período do empregoset. de 2012 – mar. de 2016 duração3 anos 7 meses localidadejundiaí projeto: grupo ccr - companhia de concessões rodoviárias grupo ccr - companhia de concessões rodoviárias consultora sap abap nome da empresagrupo ccr - companhia de concessões rodoviárias período do emprego2012 – 2013 duração1 ano foxconn electronics analista sap nome da empresafoxconn electronics período do empregofev. de 2012 – set. de 2012 duração8 meses localidadejundiaí, sp embasa abap r3 consultant nome da empresaembasa período do empregoabr. de 2011 – dez. de 2011 duração9 meses abap - isu-ccs consultant período do emprego2008 – fev. de 2011 duração3 anos ultracon abap sr consultant nome da empresaultracon período do empregoset. de 2007 – jan. de 2011 duração3 anos 5 meses abap consultant período do emprego2008 duraçãomenos de um ano",
         "['jundi' 'sap' 'abap' 'sobr' 'consult' 'abap' 'ano' 'experienc'\n 'desenvolv' 'abap' 'tal' 'bap' 'bad' 'enhancement' 'point' 'smartform'\n 'sapscript' 'modul' 'pool' 'report' 'funco' 'etc' 'resid' 'jundi' 'aceit'\n 'propost' 'campin' 'jundi' 'regia' 'experienc' 'consult' 'abap' 'nom'\n 'empresaben' 'fatt' 'period' 'empregoag' 'duraca' 'mes' 'agap' 'sap'\n 'abap' 'freelanc' 'nom' 'empresaagap' 'period' 'empregom' 'ago' 'duraca'\n 'ano' 'mes' 'consult' 'abap' 'ccr' 'sap' 'nom' 'empresaccr' 'period'\n 'empregoout' 'mar' 'duraca' 'ano' 'mes' 'addvi' 'consulting' 'consult'\n 'sap' 'abap' 'nom' 'empresaaddvi' 'consulting' 'period' 'empregoset'\n 'mar' 'duraca' 'ano' 'mes' 'localidadejundi' 'projet' 'grup' 'ccr'\n 'companh' 'concesso' 'rodovi' 'grup' 'ccr' 'companh' 'concesso' 'rodovi'\n 'consult' 'sap' 'abap' 'nom' 'empresagrup' 'ccr' 'companh' 'concesso'\n 'rodovi' 'period' 'empreg' 'duraca' 'ano' 'foxconn' 'electronic' 'anal'\n 'sap' 'nom' 'empresafoxconn' 'electronic' 'period' 'empregofev' 'set'\n 'duraca' 'mes' 'localidadejundi' 'abap' 'consultant' 'nom' 'empresaembas'\n 'period' 'empregoabr' 'dez' 'duraca' 'mes' 'cc' 'consultant' 'period'\n 'empreg' 'fev' 'duraca' 'ano' 'ultracon' 'abap' 'consultant' 'nom'\n 'empresaultracon' 'period' 'empregoset' 'jan' 'duraca' 'ano' 'mes' 'abap'\n 'consultant' 'period' 'empreg' 'duracaomen' 'ano']"
        ],
        [
         "39",
         "sertãozinho, são paulo sobre coordenador de projetos sap participação efetiva na implantação do s/4 hana na copercana (em andamento). o projeto contempla também as aplicações: - fiori - grc inbound e outbound - hcm / success factors - hybris - retail - sac - tdf - tms consultor participação em vários projetos, atuando principalmente no módulo mm. outras atividades: - atualização da nf-e 4.0 - configurações na j1btax - criação de documentos técnicos - customizing - debug - desenvolvimentos abap - desenvolvimento de solução para reinf - elaboração de estratégias de aprovação - gestão de equipe e serviços - suporte em grc inbound/outbound coordenador sap experiência copercana gerente de projetos nome da empresacopercana tempo integral período do empregojan. de 2019 – o momento duração2 anos 11 meses localidadesertãozinho, são paulo h2 consult sap analista de sistemas sap nome da empresah2 consult sap período do empregofev. de 2018 – dez. de 2018 duração11 meses localidaderibeirão preto, são paulo",
         "['sobr' 'coorden' 'projet' 'sap' 'participaca' 'efet' 'implantaca' 'han'\n 'coperc' 'and' 'projet' 'contempl' 'tamb' 'aplicaco' 'fior' 'grc'\n 'inbound' 'outbound' 'hcm' 'succes' 'fac' 'hybril' 'retail' 'sac' 'tdf'\n 'tm' 'consult' 'participaca' 'vari' 'projet' 'atu' 'princip' 'modul'\n 'outr' 'ativ' 'atualizaca' 'configuraco' 'btax' 'criaca' 'document'\n 'tecn' 'customizing' 'debug' 'desenvolv' 'abap' 'desenvolv' 'soluca'\n 'reinf' 'elaboraca' 'estrateg' 'aprovaca' 'gesta' 'equip' 'serv' 'suport'\n 'grc' 'inbound' 'outbound' 'coorden' 'sap' 'experienc' 'coperc' 'gerent'\n 'projet' 'nom' 'empresacoperc' 'temp' 'integr' 'period' 'empregojan'\n 'moment' 'duraca' 'ano' 'mes' 'consult' 'sap' 'anal' 'sistem' 'sap' 'nom'\n 'empresah' 'consult' 'sap' 'period' 'empregofev' 'dez' 'duraca' 'mes'\n 'localidaderibeira' 'pret' 'sao' 'paul']"
        ],
        [
         "40",
         "indaiatuba, são paulo experiência lmti consultoria desenvolvedor abap nome da empresalmti consultoria período do empregomai. de 2014 – jun. de 2018 duração4 anos 2 meses localidadesão paulo e região, brasil",
         "['indaiatub' 'sao' 'paul' 'experienc' 'lmt' 'consult' 'desenvolv' 'abap'\n 'nom' 'empresalmt' 'consult' 'period' 'empregom' 'jun' 'duraca' 'ano'\n 'mes' 'localidadesa' 'paul' 'regia' 'brasil']"
        ],
        [
         "41",
         "barueri, são paulo sobre qualificações – sap • report, alv, interface; • batch input, call transaction, • funções, rfc, bapi; • screen-exit, user-exit, badi, enhancement-points; • sapscript, smartforms (inclusive código de barras e conversão impressora zebra) • métodos, variantes; • on-lines (module-pool); • idoc; • fórmulas • solution manager; • aplicação de notas (snote); • levantamento de métricas de desenvolvimentos. especializações: programador sap abap experiência focus it consultoria consultor sap abap nome da empresafocus it consultoria período do empregoago. de 2017 – o momento duração4 anos 4 meses localidadebarueri, são paulo projeto cliente privalia consignação - criação de monitor de consignação, entendimento das necessidades do cliente juntamente com funcional de mm. - criação de cockpit envolvendo todo processo de notas de entrada, desde baixar o xml na mensageiria, mapear os campos e inserir em tabelas z para dar continuidade no processo. - validação se xml condiz com pedido de compras, bapi para efetuar migo e miro. projeto cliente privalia nf 3.10 - aplicação de notas sap - criação de report z para comunicação sap x mensageiria - mapeamentos das estruturas e ajustes na badi de acordo com cliente projeto cliente são domingos nf 4.00 - aplicação de notas sap - criação de report z para comunicação sap x mensageiria - mapeamentos das estruturas e ajustes na badi de acordo com cliente projeto cliente caramuru dms e workflow - criação de transações/views para substituição de transações cu60/cl02 e ct04 - ajustes nas transações de dms para buscar funções e valores das tabelas z - manutenção nos workflows de dms e qm existentes para envios de e-mail para os responsáveis atividades ams - atendimento de chamados dos módulos abap, fiori e conjunto com funcionais mm, sd, qm, pp, fi, co, sempre respeitando o sla - treinamento a novos consultores abaps, para desenvolver os mesmos - coordenação de setor ams instruindo consultores a melhores praticas - idéias para desenvolvimentos de novos produtos internos - padronizações de alguns processos conforme itil ver menos fh_ abap nome da empresafh_ período do empregojun. de 2013 – ago. de 2017 duração4 anos 3 meses",
         "['baruer' 'sao' 'paul' 'sobr' 'qualificaco' 'sap' 'report' 'alv'\n 'interfac' 'batch' 'input' 'call' 'transaction' 'funco' 'exit' 'bad'\n 'enhancement' 'point' 'sapscript' 'smartform' 'inclusiv' 'codig' 'barr'\n 'conversa' 'impres' 'zebr' 'metod' 'vari' 'lin' 'idoc' 'formul'\n 'solution' 'manag' 'aplicaca' 'not' 'snot' 'levant' 'metr' 'desenvolv'\n 'especializaco' 'program' 'sap' 'abap' 'experienc' 'focu' 'consult'\n 'consult' 'sap' 'abap' 'nom' 'empresafocu' 'consult' 'period' 'empregoag'\n 'moment' 'duraca' 'ano' 'mes' 'projet' 'client' 'prival' 'consignaca'\n 'criaca' 'moni' 'consignaca' 'entend' 'necess' 'client' 'junt' 'func'\n 'criaca' 'cockpit' 'envolv' 'tod' 'process' 'not' 'entr' 'desd' 'baix'\n 'xml' 'mensage' 'mape' 'camp' 'inser' 'tabel' 'dar' 'continu' 'process'\n 'validaca' 'xml' 'condiz' 'ped' 'compr' 'bap' 'efetu' 'mig' 'mir'\n 'projet' 'client' 'prival' 'aplicaca' 'not' 'sap' 'criaca' 'report'\n 'comunicaca' 'sap' 'mensage' 'mape' 'estrut' 'ajust' 'bad' 'acord'\n 'client' 'projet' 'client' 'sao' 'doming' 'aplicaca' 'not' 'sap' 'criaca'\n 'report' 'comunicaca' 'sap' 'mensage' 'mape' 'estrut' 'ajust' 'bad'\n 'acord' 'client' 'projet' 'client' 'dm' 'workflow' 'criaca' 'transaco'\n 'view' 'substituica' 'transaco' 'ajust' 'transaco' 'dm' 'busc' 'funco'\n 'val' 'tabel' 'manutenca' 'workflow' 'dm' 'exist' 'envi' 'mail'\n 'responsa' 'ativ' 'am' 'atend' 'cham' 'modul' 'abap' 'fior' 'conjunt'\n 'func' 'sempr' 'respeit' 'sla' 'trein' 'nov' 'consult' 'abap' 'desenvolv'\n 'mesm' 'coordenaca' 'set' 'am' 'instru' 'consult' 'melhor' 'pra' 'ide'\n 'desenvolv' 'nov' 'produt' 'intern' 'padronizaco' 'algum' 'process'\n 'conform' 'itil' 'ver' 'menos' 'abap' 'nom' 'empresafh' 'period'\n 'empregojun' 'ago' 'duraca' 'ano' 'mes']"
        ],
        [
         "42",
         "28 anos, solteiro - são paulo, sp - zona sul - vila mariana engenheiro de dados há 9 meses na engenheiro de dados autônomo analista de produção por 1 ano e 11 meses na grupo petrópolis graduação em engenharia de produção - anhembi morumbi mba em analytics em big data - fia business school inglês fluente e espanhol básico foto do candidato: atualizado há: 9 dias objetivos e resumo do currículo power bi, power automate, powerapps, powerquery, excel, vba, modelo de dados, bigquery, oracle, sqlserver, crm. supply chain – extensão universitária. green belt em lean six sigma. experiência profissional engenheiro de dados autônomo - 02/2021 até o momento - 9 meses atuando na área de tecnologia da informação, atende empresas de diversos segmentos como:havaianas (varejo), simpresshp (outsourcing), sitel (call-center). • experiência em estruturação de dados.(sistemas sgbd) • design de arquitetura para dados estruturados e não estruturados. • implementação de melhorias em procedures de atualização e consultas sql, em sistemas sgbds oracle e sqlserver. • automatização e monitoramento dos processos de etl em bigdata • gestão do ciclo de vida das informações e suas etapas de ingestão, tratamento, bem como suas integrações e processamentos por sistemas do negócio. • elaboração e implementação de projetos de mensuração em plataformas web e app - (dashboard iterativo power bi, powerapps, powerautomate.) • forte aderência a metodologias ágeis e trabalho em equipe. grupo petrópolis - 12/2018 a 11/2020 - 1 ano e 11 meses • extração e consolidação de informações de consumo e produtividade sap. • aferimento oee (overall equipment effectiveness) • contato direto com sistemas sgbds e suas ferramentas de modelagem (sql). • desenvolvimento de apresentações executivas para tomada de decisão. • capacidade de análise e síntese das informações de negócio. alliance association - 05/2017 a 12/2018 - 1 ano e 7 meses • desenvolvimento de indicadores de redes sociais e suas rotinas de atualização. • avaliação de campanhas realizadas em mídias sociais e apontamento de oportunidades/insigths para novas campanhas. • apresentação de resultados em formato de métricas direcionadas à ações gerenciais. • gestão de campanhas e funil de vendas por meio da plataforma rdstation. • desenvolvimento e manutenção do banco de dados sqlserver.(seguindo as normas lgpd) • responsável pela implementação e treinamento da plataforma evo.(sucesso do cliente) cielo - 08/2015 a 05/2017 - 1 ano e 9 meses • modelagem e importação de dados por meio de linguagem sql (structured query language). • padronização de relatórios e método de análise das campanhas comerciais. • criação de dashboard com foco processo de cancelamento de clientes.(churn) • teste e aplicação de modelos estatísticos de propensão. ericsson - 06/2014 a 08/2015 - 1 ano e 2 meses • desenvolvimento e automatizações de relatórios, para equipes inseridas no projeto mercosul. • participação ativa no projeto de rankeamento de equipes.(integraçaõ em sharepoint) • mapeamento de processos internos da área buscando oportunidades de melhoria.(bizagi) • projeto de melhoria de qualidade com redução de custos na área (bonificação por implementação de projeto-estagio, carta reward + 200 dólares - certificação green belt) world post - 02/2013 a 05/2014 - 1 ano e 3 meses • desenvolvimento de apresentações de resultados para área de planejamento de produção (pcp). • responsável pelas rotinas de atualização, de métricas de desempenho e produção, avaliando a eficiência produtiva versus retorno produtivo. • padronização de documentos técnicos referente ao processo produtivo.(e-book) • participação ativa em projeto de design fabril aplicando conceitos 5s. formação graduação em engenharia de produção - 01/2014 a 12/2018 anhembi morumbi mba em analytics em big data - iniciado em 01/2021 fia business school livre docência em inglês - 01/2009 a 12/2012 fisk cursos / especializações analyzing and visualizing data with power bi - microsoft curta (até 40 horas) - ano de conclusão: 2019 inbound marketing - rd university média (de 41 a 360 horas) - ano de conclusão: 2018 sql oracle - universidade cielo curta (até 40 horas) - ano de conclusão: 2016 microsoft excel avançado - impacta média (de 41 a 360 horas) - ano de conclusão: 2015 green belt em lean six sigma - senai média (de 41 a 360 horas) - ano de conclusão: 2014 supply chain - senac média (de 41 a 360 horas) - ano de conclusão: 2014 informações adicionais inglês avançado e espanhol básico. idiomas inglês: fluenteespanhol: básico dados pessoais sexo: masculino estado civil: solteiro idade: 28 anos data de nascimento: 19/01/1993 cidade: são paulo - sp bairro: zona sul / vila mariana país: brasil dados de contato",
         "['ano' 'solt' 'sao' 'paul' 'zon' 'sul' 'vil' 'mari' 'engenh' 'dad' 'mes'\n 'engenh' 'dad' 'auton' 'anal' 'produca' 'ano' 'mes' 'grup' 'petropolil'\n 'graduaca' 'engenh' 'produca' 'anhemb' 'analytic' 'big' 'dat' 'fia'\n 'busines' 'school' 'ingl' 'fluent' 'espanhol' 'basic' 'fot' 'candidat'\n 'atual' 'dia' 'obje' 'resum' 'curricul' 'pow' 'pow' 'automat' 'dad'\n 'bigquery' 'oracl' 'sqlserv' 'crm' 'supply' 'chain' 'extensa' 'universit'\n 'green' 'belt' 'lean' 'six' 'sigm' 'experienc' 'profiss' 'engenh' 'dad'\n 'auton' 'ate' 'moment' 'mes' 'atu' 'are' 'tecnolog' 'informaca' 'atend'\n 'empr' 'divers' 'segment' 'havai' 'varej' 'simpresshp' 'outsourcing'\n 'sitel' 'call' 'cent' 'experienc' 'estruturaca' 'dad' 'sistem' 'sgbd'\n 'design' 'arquitet' 'dad' 'estrutur' 'nao' 'estrutur' 'implementaca'\n 'melh' 'procedur' 'atualizaca' 'consult' 'sql' 'sistem' 'sgbd' 'oracl'\n 'sqlserv' 'automatizaca' 'monitor' 'process' 'etl' 'bigdat' 'gesta'\n 'cicl' 'vid' 'informaco' 'etap' 'ingesta' 'trat' 'bem' 'integraco'\n 'process' 'sistem' 'negoci' 'elaboraca' 'implementaca' 'projet'\n 'mensuraca' 'plataform' 'web' 'app' 'dashboard' 'iter' 'pow' 'powerapp'\n 'powerautomat' 'fort' 'aderenc' 'metodolog' 'agel' 'trabalh' 'equip'\n 'grup' 'petropolil' 'ano' 'mes' 'extraca' 'consolidaca' 'informaco'\n 'consum' 'produt' 'sap' 'afer' 'oee' 'overall' 'equipment' 'effectivenes'\n 'contat' 'diret' 'sistem' 'sgbd' 'ferrament' 'model' 'sql' 'desenvolv'\n 'apresentaco' 'execu' 'tom' 'decisa' 'capac' 'analis' 'sintes'\n 'informaco' 'negoci' 'allianc' 'association' 'ano' 'mes' 'desenvolv'\n 'indic' 'red' 'soc' 'rotin' 'atualizaca' 'avaliaca' 'campanh' 'realiz'\n 'mid' 'soc' 'apont' 'oportun' 'insigth' 'nov' 'campanh' 'apresentaca'\n 'result' 'format' 'metr' 'direcion' 'aco' 'gerenc' 'gesta' 'campanh'\n 'funil' 'vend' 'mei' 'plataform' 'rdstation' 'desenvolv' 'manutenca'\n 'banc' 'dad' 'sqlserv' 'segu' 'norm' 'lgpd' 'responsa' 'implementaca'\n 'trein' 'plataform' 'evo' 'sucess' 'client' 'ciel' 'ano' 'mes' 'model'\n 'importaca' 'dad' 'mei' 'lingu' 'sql' 'structured' 'query' 'languag'\n 'padronizaca' 'relatori' 'metod' 'analis' 'campanh' 'comerc' 'criaca'\n 'foc' 'process' 'cancel' 'client' 'churn' 'test' 'aplicaca' 'model'\n 'estatis' 'ano' 'mes' 'desenvolv' 'automatizaco' 'relatori' 'equip'\n 'inser' 'projet' 'mercosul' 'participaca' 'ativ' 'projet' 'ranke' 'equip'\n 'integraca' 'sharepoint' 'mape' 'process' 'intern' 'are' 'busc' 'oportun'\n 'melh' 'bizag' 'projet' 'melh' 'qual' 'reduca' 'cust' 'are' 'bonificaca'\n 'implementaca' 'projet' 'estagi' 'cart' 'reward' 'dol' 'certificaca'\n 'green' 'belt' 'world' 'post' 'ano' 'mes' 'desenvolv' 'apresentaco'\n 'result' 'are' 'planej' 'produca' 'pcp' 'responsa' 'rotin' 'atualizaca'\n 'metr' 'desempenh' 'produca' 'avali' 'eficienc' 'produ' 'versu' 'retorn'\n 'produ' 'padronizaca' 'document' 'tecn' 'refer' 'process' 'produ' 'book'\n 'participaca' 'ativ' 'projet' 'design' 'fabril' 'aplic' 'conceit'\n 'formaca' 'graduaca' 'engenh' 'produca' 'anhemb' 'morumb' 'mba'\n 'analytic' 'big' 'dat' 'inici' 'fia' 'busines' 'school' 'livr' 'docenc'\n 'ingl' 'fisk' 'curs' 'especializaco' 'analyzing' 'and' 'visualizing'\n 'dat' 'microsoft' 'curt' 'ate' 'hor' 'ano' 'conclusa' 'inbound'\n 'marketing' 'university' 'med' 'hor' 'ano' 'conclusa' 'sql' 'oracl'\n 'univers' 'ciel' 'curt' 'ate' 'hor' 'ano' 'conclusa' 'microsoft' 'excel'\n 'avanc' 'impact' 'med' 'hor' 'ano' 'conclusa' 'green' 'belt' 'lean' 'six'\n 'sigm' 'sen' 'med' 'hor' 'ano' 'conclusa' 'supply' 'chain' 'senac' 'med'\n 'hor' 'ano' 'conclusa' 'informaco' 'adic' 'ingl' 'avanc' 'espanhol'\n 'basic' 'idiom' 'ingl' 'fluenteespanhol' 'basic' 'dad' 'pessoal' 'sex'\n 'masculin' 'est' 'civil' 'solt' 'idad' 'ano' 'dat' 'nasc' 'cidad' 'sao'\n 'paul' 'bairr' 'zon' 'sul' 'vil' 'mari' 'pal' 'brasil' 'dad' 'contat']"
        ],
        [
         "43",
         "americana, são paulo abap/pp certified experiência hyundai autoever brasil funcional pp certificado nome da empresahyundai autoever brasil período do empregoout. de 2014 – o momento duração7 anos 2 meses localidadepiracicaba sonda procwork nome da empresasonda procwork duração total10 anos 1 mês período do empregoout. de 2004 – out. de 2014 duração10 anos 1 mês período do empregoout. de 2004 – out. de 2014 duração10 anos 1 mês",
         "['americ' 'sao' 'paul' 'abap' 'certified' 'experienc' 'hyund' 'autoev'\n 'brasil' 'func' 'certific' 'nom' 'empresahyund' 'autoev' 'brasil'\n 'period' 'empregoout' 'moment' 'duraca' 'ano' 'mes' 'localidadepiracicab'\n 'sond' 'procwork' 'nom' 'empresasond' 'procwork' 'duraca' 'total' 'ano'\n 'me' 'period' 'empregoout' 'out' 'duraca' 'ano' 'me' 'period'\n 'empregoout' 'out' 'duraca' 'ano' 'me']"
        ],
        [
         "44",
         "cidade/uf: diadema/sp brasileiro, casado, 1 filho, 38 anos. objetivo: atuar como desenvolvedor php sênior atuando desde 2004 com programação, especialmente com php, mas conhecendo frontend. tive contato com devops, área que gostaria de me aprofundar. experiência principalmente em empresas do ramo educacional, pude desenvolver projetos que alcançaram alunos, pais, professores, funcionários de escolas e de universidades. resumo das qualificações ● 16 anos de experiência com php 5.6 e 4 anos com php 7.4; ● 4 anos de experiência com framework laravel; ● 12 anos de experiência no uso do zend framework 1; ● 3 anos de experiência no uso do zend expressive, laminas e mezzio; ● 16 anos de experiência com banco de dados mysql e 4 anos com oracle; ● 16 anos de uso de biblioteca jquery e 8 anos de uso de bootstrap; ● 4 anos de experiência com versionamento de sistemas com git e gitflow; ● uso de princípios solid, clean code e psrs; ● uso básico de jenkins e scripts de automação em powershell. principais experiências profissionais: desenvolvedor de software na math/tech - 07/2021 a 10/2021 (4 meses) trabalho em squad, utilizando scrum, onde iniciamos o desenvolvimento de um crm para um cliente, utilizando php 7.4 e 8, framework laravel 8, css, bootstrap, jquery, mysql 8, algumas práticas como solid, clean code, design patterns. versionamento com git e testes para automatização de deploy usando o azure devops, pipelines e docker. desenvolvedor php sênior na sisalu - 08/2016 a 07/2021 (5 anos) trabalho solo em diversos módulos de portal (muitos destes desde o início) utilizado por alunos, pais, professores e funcionários de escolas, utilizando php 5.6 e 7.4, frameworks zend expressive, laminas, mezzio, laravel, slim, banco de dados mysql 5.6 (com verificação de performance), micro serviços para interface web e para aplicativo mobile, configuração de servidor iis, integração com serviços como safe2pay, iugu, amazon sqs, rollbar, sentry e slack, versionamento com git e bitbucket. início de uso de continuous integration/continuous delivery (ci/cd) utilizando jenkins e scripts em powershell. analista de sistemas sênior na universidade anhembi morumbi - 06/2011 a 05/2016 (5 anos) trabalho em equipe de programadores, dba’s e analistas funcionais, para manutenção, desenvolvimento e remodelagem de sistemas utilizados pelos alunos, funcionários e professores, com backend em php5 (com zend framework 1), css, jquery, bootstrap, banco de dados oracle (com pl-sql). versionamento dos sistemas em php e também de rotinas no oracle através de svn. analista de sistemas web no instituto mauá de tecnologia - 01/2005 a 06/2011 (6 anos e 6 meses) trabalho solo na programação (com mais um dba) no desenvolvimento desde o início de sistemas para funcionários, professores e alunos, com backend em php5 (com zend framework 1), css, jquery, bancos de dados sql server, mysql (com stored procedures) e oracle (com pl/sql). formação acadêmica: graduação em web design - universidade paulista (2005) idioma: inglês (intermediário)",
         "['cidad' 'diadem' 'brasil' 'cas' 'filh' 'ano' 'obje' 'atu' 'desenvolv'\n 'php' 'seni' 'atu' 'desd' 'programaca' 'espec' 'php' 'conhec' 'frontend'\n 'contat' 'devop' 'are' 'gost' 'aprofund' 'experienc' 'princip' 'empr'\n 'ram' 'educac' 'pud' 'desenvolv' 'projet' 'alcanc' 'alun' 'pal' 'profes'\n 'funcionari' 'escol' 'univers' 'resum' 'qualificaco' 'ano' 'experienc'\n 'php' 'ano' 'php' 'ano' 'experienc' 'framework' 'laravel' 'ano'\n 'experienc' 'uso' 'zend' 'framework' 'ano' 'experienc' 'uso' 'zend'\n 'expressiv' 'lamin' 'mezzi' 'ano' 'experienc' 'banc' 'dad' 'mysql' 'ano'\n 'oracl' 'ano' 'uso' 'bibliotec' 'jquery' 'ano' 'uso' 'bootstrap' 'ano'\n 'experienc' 'version' 'sistem' 'uso' 'principi' 'solid' 'clean' 'cod'\n 'psr' 'uso' 'basic' 'jenkim' 'script' 'automaca' 'powershell' 'princip'\n 'experienc' 'profiss' 'desenvolv' 'softw' 'math' 'tech' 'mes' 'trabalh'\n 'squad' 'utiliz' 'scrum' 'ond' 'inici' 'desenvolv' 'crm' 'client'\n 'utiliz' 'php' 'framework' 'laravel' 'cs' 'algum' 'pra' 'solid' 'clean'\n 'cod' 'design' 'patterm' 'version' 'git' 'test' 'automatizaca' 'deploy'\n 'us' 'azur' 'devop' 'pipelin' 'dock' 'desenvolv' 'php' 'seni' 'sisalu'\n 'ano' 'trabalh' 'sol' 'divers' 'modul' 'port' 'muit' 'dest' 'desd'\n 'inici' 'utiliz' 'alun' 'pal' 'profes' 'funcionari' 'escol' 'utiliz'\n 'php' 'framework' 'zend' 'expressiv' 'lamin' 'mezzi' 'laravel' 'slim'\n 'banc' 'dad' 'mysql' 'verificaca' 'performanc' 'micr' 'serv' 'interfac'\n 'web' 'aplic' 'mobil' 'configuraca' 'serv' 'ii' 'integraca' 'serv' 'sq'\n 'rollb' 'sentry' 'slack' 'version' 'bitbucket' 'inici' 'uso' 'continu'\n 'integration' 'continu' 'delivery' 'utiliz' 'jenkim' 'script'\n 'powershell' 'anal' 'sistem' 'seni' 'univers' 'anhemb' 'morumb' 'ano'\n 'trabalh' 'equip' 'program' 'dba' 'anal' 'func' 'manutenca' 'desenvolv'\n 'remodel' 'sistem' 'utiliz' 'alun' 'funcionari' 'profes' 'backend' 'php'\n 'cs' 'jquery' 'bootstrap' 'banc' 'dad' 'oracl' 'sql' 'version' 'sistem'\n 'php' 'tamb' 'rotin' 'oracl' 'atrav' 'svn' 'anal' 'sistem' 'web'\n 'institut' 'mau' 'tecnolog' 'ano' 'mes' 'trabalh' 'sol' 'programaca'\n 'dba' 'desenvolv' 'desd' 'inici' 'sistem' 'funcionari' 'profes' 'alun'\n 'backend' 'php' 'cs' 'jquery' 'banc' 'dad' 'sql' 'serv' 'mysql' 'oracl'\n 'formaca' 'academ' 'graduaca' 'web' 'design' 'univers' 'paul' 'idiom'\n 'ingl' 'intermediari']"
        ],
        [
         "45",
         "indaiatuba, são paulo, consultor abap senior | sap | s/4hana | fiori | ui5 sobre trabalho como desenvolvedor desde 1999. me formei em processamento de dados em 2001. pós-graduado em desenvolvimento web em 2002. minha entrada no mercado sap se deu em 2005 como abap. passei por poucas consultorias - assurance, flino, group it e phoron do brasil (onde estou atualmente). experiência phoron do brasil consultor sap abap nome da empresaphoron do brasil tempo integral período do empregojun. de 2013 – o momento duração8 anos 6 meses localidadeindaiatuba, são paulo, brasil voestalpine consultor sap abap nome da empresavoestalpine tempo integral período do empregofev. de 2009 – jun. de 2013 duração4 anos 5 meses localidadesumaré, são paulo, brasil",
         "['indaiatub' 'sao' 'paul' 'consult' 'abap' 'seni' 'sap' 'han' 'fior'\n 'sobr' 'trabalh' 'desenvolv' 'desd' 'form' 'process' 'dad' 'po' 'gradu'\n 'desenvolv' 'web' 'entr' 'merc' 'sap' 'deu' 'abap' 'pass' 'pouc'\n 'consult' 'assuranc' 'phoron' 'brasil' 'ond' 'atual' 'experienc' 'phoron'\n 'brasil' 'consult' 'sap' 'abap' 'nom' 'empresaphoron' 'brasil' 'temp'\n 'integr' 'period' 'empregojun' 'moment' 'duraca' 'ano' 'mes'\n 'localidadeindaiatub' 'sao' 'paul' 'brasil' 'voestalpin' 'consult' 'sap'\n 'abap' 'nom' 'empresavoestalpin' 'temp' 'integr' 'period' 'empregofev'\n 'jun' 'duraca' 'ano' 'mes']"
        ],
        [
         "46",
         "23 anos avenida raimundo paradera, 184 - são miguel paulista - são paulo, sp. objetivo quality assurance (qa) e tencologias correlacionadas a ti competências conhecimento nas linguagens de programação: java, c# e python. (apis e serviços web) desenvolvimento web com html, css e javascript. sos: windows, linux e mac. quality assurance (qa) – junit 5, seleniume, hp alm, metologia ágil, bdd e jira. formação acadêmica cursando - superior em análise e desenvolvimento de sistemas – 2º semestre unip - universidade paulista em sp. - (conclusão: dezembro/2022) cursos extracurriculares • everis new talents #2 .net - digital innovation one (2021). • everis new talents #2 java - digital innovation one (2021). • everis site reliability engineer essentials - digital innovation one (2021). • everis quality assurance beginner #2 – digital innovation one (2021). • introdução ao teste de software – usp (2021). • inglês básico – microcamp (2014). • informática oficina maquete 3d sketchup – microcamp (2013). • informática oficina de linux ubunto – microcamp (2013). • informática design para web – microcamp (2013). • informática complementar - microcamp (2013). • informática desenvolvimentos de games com o game maker – microcamp (2012). • mega avançado (web design, visual basic, redes e hardware) – mega byte (2012). • mega múltiplo professional (windows, word, excel, power point, access, internet, corel draw, photoshop, hardware) – mega byte (2011). • introdução a informática – telecentro cren vila jacuí (2009) experiência profissional 2020 – 2021 - facta intermediações de negocios. apoio ao uso de tecnologia da informação nos departamentos e equipamentos informáticos da empresa. realização de rotinas de quality assurance (qa) das novas funcionalidades do erp interno. manutenção do website da empresa, gerenciamento de redes interna e focal de ti no escritório. administrador técnico do sistema interno para cadastro e geração de contratos e propostas sistêmicas para submissão a instituição financeira cedente. em testes manuais e funcionais exercendo as atividades: escrita de testes e execução, negociação da estratégia de testes, defeitos e geração de relatórios. usando o hp alm. 2019 – 2020 - sijesus serviços informatica litda. estágio em suporte de sistemas em software varejista (pdv) desenvolvido em java com atendimento de chamados de primeiro nível (n1) e registros das ocorrências no software jira do cliente. prestava suporte a usuários da aplicação erp via chat e e-mail, atendimento de chamados e tickets. manutenções da aplicação em primeiro nível utilizando scripts em banco de dados sql-server e oracle. ferramentas de acesso remoto, execução de testes nas apis e serviços do sistema desenvolvido em java utilizando o aplicativo de testes de serviços web soupui. 2017 – 2019 – powerxl importação e exportação - vendedor 2017 – chevrolet carreira - auxiliar de estoque 2016 – 2017 – azul seguros - analista de sinistros 2014 – 2015 – são paulo previência - estagiário concursado fundap.",
         "['ano' 'aven' 'raimund' 'parad' 'sao' 'miguel' 'paul' 'sao' 'paul' 'obje'\n 'quality' 'assuranc' 'tencolog' 'correlacion' 'competenc' 'conhec'\n 'lingu' 'programaca' 'jav' 'python' 'apil' 'serv' 'web' 'desenvolv' 'web'\n 'html' 'cs' 'javascript' 'so' 'window' 'linux' 'mac' 'quality' 'assuranc'\n 'junit' 'selenium' 'alm' 'metolog' 'agil' 'bdd' 'jir' 'formaca' 'academ'\n 'curs' 'superi' 'analis' 'desenvolv' 'sistem' 'semestr' 'unip' 'univers'\n 'paul' 'conclusa' 'dezembr' 'curs' 'extracurricul' 'everil' 'new'\n 'talent' 'net' 'digit' 'innovation' 'one' 'everil' 'new' 'talent' 'jav'\n 'digit' 'innovation' 'one' 'everil' 'sit' 'reliability' 'engine' 'essent'\n 'digit' 'innovation' 'one' 'everil' 'quality' 'assuranc' 'beginn' 'digit'\n 'innovation' 'one' 'introduca' 'test' 'softw' 'usp' 'ingl' 'basic'\n 'microcamp' 'informa' 'oficin' 'maquet' 'sketchup' 'microcamp' 'informa'\n 'oficin' 'linux' 'ubunt' 'microcamp' 'informa' 'design' 'web' 'microcamp'\n 'informa' 'complement' 'microcamp' 'informa' 'desenvolv' 'gam' 'gam'\n 'mak' 'microcamp' 'meg' 'avanc' 'web' 'design' 'visual' 'basic' 'red'\n 'hardw' 'meg' 'byt' 'meg' 'multipl' 'profess' 'window' 'word' 'excel'\n 'pow' 'point' 'acces' 'internet' 'corel' 'draw' 'photoshop' 'hardw' 'meg'\n 'byt' 'introduca' 'informa' 'telecentr' 'cren' 'vil' 'jacu' 'experienc'\n 'profiss' 'fact' 'intermediaco' 'negoci' 'apoi' 'uso' 'tecnolog'\n 'informaca' 'departament' 'equip' 'informa' 'empr' 'realizaca' 'rotin'\n 'quality' 'assuranc' 'nov' 'funcional' 'erp' 'intern' 'manutenca'\n 'websit' 'empr' 'gerenc' 'red' 'intern' 'focal' 'escritori' 'administr'\n 'tecn' 'sistem' 'intern' 'cadastr' 'geraca' 'contrat' 'propost' 'sistem'\n 'submissa' 'instituica' 'financ' 'cedent' 'test' 'man' 'func' 'exerc'\n 'ativ' 'escrit' 'test' 'execuca' 'negociaca' 'estrateg' 'test' 'defeit'\n 'geraca' 'relatori' 'us' 'alm' 'sijesu' 'serv' 'informa' 'litd' 'estagi'\n 'suport' 'sistem' 'softw' 'varej' 'pdv' 'desenvolv' 'jav' 'atend' 'cham'\n 'prim' 'nivel' 'registr' 'ocorrenc' 'softw' 'jir' 'client' 'prest'\n 'suport' 'usuari' 'aplicaca' 'erp' 'via' 'chat' 'mail' 'atend' 'cham'\n 'ticket' 'manutenco' 'aplicaca' 'prim' 'nivel' 'utiliz' 'script' 'banc'\n 'dad' 'sql' 'serv' 'oracl' 'ferrament' 'acess' 'remot' 'execuca' 'test'\n 'apil' 'serv' 'sistem' 'desenvolv' 'jav' 'utiliz' 'aplic' 'test' 'serv'\n 'web' 'soupu' 'powerxl' 'importaca' 'exportaca' 'vend' 'chevrolet' 'carr'\n 'auxili' 'estoqu' 'azul' 'segur' 'anal' 'sinistr' 'sao' 'paul' 'previenc'\n 'estagiari' 'concurs' 'fundap']"
        ],
        [
         "47",
         "santos engenheiro eletricista mba em engenharia de software resumo principais competências pessoal controle de demandas, estoque, criação de novos profissional graduado em processos engenharia elétrica e consultorias para empresas cursando mba em engenheira de de rastreamento veicular software, com quatro anos de coordenação de equipes experiência em ti, com o foco operacionais em programação de implementação de gestão equipamentos de rastreamento operacional veicular, gestão de criação de processos contato de veículos. silva, 1030 - caiçaras belo horizonte - mg, 30775- histórico de trabalho 390 oliveira-866b4a1a3 criando processos autônomo - idade: 22 anos - atualmente métodos, cronogramas efetivos para operacional das empresas implementações de novos conquista programas de gestão team leader manutenção de computadores (software e hardware) programado configuração de equipamentos da programação de equipamento r de maxtrack, suntech, karitec, de rastreamento veicular continental, crx equipamentos (maxtrack, suntech, karitec, controle de demandas continental, crx, rst) satplus ltda | julho de 2019 - controle de estoque consultor em gestão de líder de equipe fevereiro de 2021 operações para empresas de realizando novos projetos rastreamento veicular, suporte técnico criando processos cronogramas efetivos estagiário configuração de equipamento de curso de instalação de rastreamento veicular de acordo com bysat automação e rastreadores veiculares e controle estagiário a demanda veículos automotivos. de engenharia | manutenção de periféricos como implementação de sensores de agosto de 2018 - teclado e leitor rfid fadiga, câmeras para julho de 2019 curso de gestão de qualidade da iso exigências da vale 9001 estagiário service desk, sap habilidades e atendimento ao cliente prodabel estagiário competências de ti | fevereiro de 2015 - março de manutenção de computadores (hardware, software) proativo 2016 raciocínio rápido líder de equipe boa comunicação mente aberta histórico acadêmico software gestão de programas html : básico faculdade • engenharia de software · php : intermediário metropolita (08/2021 - 04/2022) java : básico na pacote office: avançado mba em engenharia de controle de estoque autocad: básico centro • engenharia elétrica e eletrônica power bi: intermediário rastreadores veiculares universitário · (02/2017 - 12/2021) (equipamentos, software de de belo monitoramento) horizonte inglês : intermediário na bacherelado em engenharia tfla - inglês elétrica e eletrônica curso nbr 5410 escola • técnico em informática (2014 - técnica vital 2016) brasil • ensino fundamental (2010 - 2013) ensino médio e técnico cursos danki code • front end ( em andamento ) • back end ( em andamento ) full stack master • banco de dados ( em andamento )",
         "['sant' 'engenh' 'eletric' 'mba' 'engenh' 'softw' 'resum' 'princip'\n 'competenc' 'pessoal' 'control' 'demand' 'estoqu' 'criaca' 'nov'\n 'profiss' 'gradu' 'process' 'engenh' 'eletr' 'consult' 'empr' 'curs'\n 'mba' 'engenh' 'rastre' 'veicul' 'softw' 'quatr' 'ano' 'coordenaca'\n 'equip' 'experienc' 'foc' 'operac' 'programaca' 'implementaca' 'gesta'\n 'equip' 'rastre' 'operac' 'veicul' 'gesta' 'criaca' 'process' 'contat'\n 'veicul' 'silv' 'caic' 'bel' 'horizont' 'histor' 'trabalh' 'oliv' 'cri'\n 'process' 'auton' 'idad' 'ano' 'atual' 'metod' 'cronogram' 'efet'\n 'operac' 'empr' 'implementaco' 'nov' 'conqu' 'program' 'gesta' 'te'\n 'lead' 'manutenca' 'comput' 'softw' 'hardw' 'program' 'configuraca'\n 'equip' 'programaca' 'equip' 'maxtrack' 'suntech' 'karitec' 'rastre'\n 'veicul' 'continent' 'crx' 'equip' 'maxtrack' 'suntech' 'karitec'\n 'control' 'demand' 'continent' 'crx' 'ltd' 'julh' 'control' 'estoqu'\n 'consult' 'gesta' 'lid' 'equip' 'fever' 'operaco' 'empr' 'realiz' 'nov'\n 'projet' 'rastre' 'veicul' 'suport' 'tecn' 'cri' 'process' 'cronogram'\n 'efet' 'estagiari' 'configuraca' 'equip' 'curs' 'instalaca' 'rastre'\n 'veicul' 'acord' 'bysat' 'automaca' 'rastre' 'veicul' 'control'\n 'estagiari' 'demand' 'veicul' 'automo' 'engenh' 'manutenca' 'perifer'\n 'implementaca' 'sensor' 'agost' 'tecl' 'leit' 'rfid' 'fadig' 'cam' 'julh'\n 'curs' 'gesta' 'qual' 'iso' 'exigenc' 'val' 'estagiari' 'serv' 'desk'\n 'sap' 'habil' 'atend' 'client' 'prodabel' 'estagiari' 'competenc' 'fever'\n 'marc' 'manutenca' 'comput' 'hardw' 'softw' 'proa' 'raciocini' 'rap'\n 'lid' 'equip' 'boa' 'comunicaca' 'ment' 'abert' 'histor' 'academ' 'softw'\n 'gesta' 'program' 'html' 'basic' 'faculdad' 'engenh' 'softw' 'php'\n 'intermediari' 'metropolit' 'jav' 'basic' 'pacot' 'offic' 'avanc' 'mba'\n 'engenh' 'control' 'estoqu' 'autocad' 'basic' 'centr' 'engenh' 'eletr'\n 'eletron' 'pow' 'intermediari' 'rastre' 'veicul' 'universitari' 'equip'\n 'softw' 'bel' 'monitor' 'horizont' 'ingl' 'intermediari' 'bacherel'\n 'engenh' 'tfl' 'ingl' 'eletr' 'eletron' 'curs' 'nbr' 'escol' 'tecn'\n 'informa' 'tecn' 'vital' 'brasil' 'ensin' 'fundament' 'ensin' 'medi'\n 'tecn' 'curs' 'dank' 'cod' 'front' 'end' 'and' 'back' 'end' 'and' 'full'\n 'stack' 'mast' 'banc' 'dad' 'and']"
        ],
        [
         "48",
         "consultora sap mm | s/4 hana | fiori sobre profissional da área de sistemas sap r/3 com 21 anos de experiência. atuando como abap por 2 anos e 19 como mm, sendo 16 dedicados a área de consultoria, desenvolvendo e aplicando soluções para empresas de médio e grande porte. conhecimentos em: • implantação, migração e roll out atuando como funcional mm • sólida experiência em levantamento, definição e melhorias de processos • vivência em processos de negócios voltados para área de suprimentos, estoques e fiscal • elaboração de especificações funcionais e técnicas • integração com outros sistemas • habilidades no treinamento a usuários com forte capacidade na coordenação motivacional e integração entre departamentos • localização brasil taxbra • nf-e e grc inbound • suporte • bom conhecimento em linguagem abap • atuação nas versões 3.0f, 4.6c, ecc, s/4 hana e fiori • migração ecc para s/4 hana experiência runtalent consultora sap mm nome da empresaruntalent período do empregodez. de 2020 – o momento duração1 ano prevent senior (ey) - implementação sap s/4 hana e fiori essence sap mm consultant nome da empresaessence período do empregojul. de 2017 – dez. de 2020 duração3 anos 6 meses localidadesão paulo e região, brasil consultora sap mm - cliente gpa membro da equipe de projetos do grupo gpa, participando de pequenos, medios e grandes projetos dentro da companhia. participação no projeto vo2 - migração sap ecc para s/4 hana sonda sap mm consultant nome da empresasonda período do empregoabr. de 2014 – fev. de 2017 duração2 anos 11 meses gol linhas aéreas implementação ecc ehp7 • responsável pela implementação do módulo mm para bases internacionais – (américa latina e eua) • responsável pela implementação da solução grc inbound (automação migo x miro) • apoio localização brasil e suprimentos sonda it brasil fusão entre empresas sonda it e ctis - ecc ehp8 • líder módulo mm • business blueprint realizado nos processos atuais de ambas empresas, realizando a unificação e padronização dos processos, incluindo as interfaces com outros legados • responsável pela localização brasil, suprimentos e estoques • suporte pós go live ver menos decision group consultants sap mm consultant nome da empresadecision group consultants período do empregomai. de 2013 – mar. de 2014 duração11 meses localidadebrasília area, brazil br pharma implementação sap retail (ibm) responsável pela localização brasil meta it sap mm consultant nome da empresameta it período do empregomai. de 2012 – abr. de 2013 duração1 ano localidadesalvador area, brazil bamin bahia mineração - implementação ecc 6.0 • líder módulo de mm • responsável pela localização brasil, suprimentos e estoques • suporte pós go live",
         "['consult' 'sap' 'han' 'fior' 'sobr' 'profiss' 'are' 'sistem' 'sap' 'ano'\n 'experienc' 'atu' 'abap' 'ano' 'send' 'dedic' 'are' 'consult' 'desenvolv'\n 'aplic' 'soluco' 'empr' 'medi' 'grand' 'port' 'conhec' 'implantaca'\n 'migraca' 'roll' 'out' 'atu' 'func' 'sol' 'experienc' 'levant' 'definica'\n 'melh' 'process' 'vivenc' 'process' 'negoci' 'volt' 'are' 'supr' 'estoqu'\n 'fiscal' 'elaboraca' 'especificaco' 'func' 'tecn' 'integraca' 'outr'\n 'sistem' 'habil' 'trein' 'usuari' 'fort' 'capac' 'coordenaca' 'motivac'\n 'integraca' 'departament' 'localizaca' 'brasil' 'taxbr' 'grc' 'inbound'\n 'suport' 'bom' 'conhec' 'lingu' 'abap' 'atuaca' 'verso' 'ecc' 'han'\n 'fior' 'migraca' 'ecc' 'han' 'experienc' 'runtalent' 'consult' 'sap'\n 'nom' 'empresaruntalent' 'period' 'empregod' 'moment' 'duraca' 'ano'\n 'prevent' 'seni' 'implementaca' 'sap' 'han' 'fior' 'essenc' 'sap'\n 'consultant' 'nom' 'empresaessenc' 'period' 'empregojul' 'dez' 'duraca'\n 'ano' 'mes' 'localidadesa' 'paul' 'regia' 'brasil' 'consult' 'sap'\n 'client' 'gpa' 'membr' 'equip' 'projet' 'grup' 'gpa' 'particip' 'pequen'\n 'medi' 'grand' 'projet' 'dentr' 'companh' 'participaca' 'projet'\n 'migraca' 'sap' 'ecc' 'han' 'sond' 'sap' 'consultant' 'nom' 'empresasond'\n 'period' 'empregoabr' 'fev' 'duraca' 'ano' 'mes' 'gol' 'linh' 'aere'\n 'implementaca' 'ecc' 'ehp' 'responsa' 'implementaca' 'modul' 'bas'\n 'internac' 'amer' 'latin' 'eua' 'responsa' 'implementaca' 'soluca' 'grc'\n 'inbound' 'automaca' 'mig' 'mir' 'apoi' 'localizaca' 'brasil' 'supr'\n 'sond' 'brasil' 'fusa' 'empr' 'sond' 'ehp' 'lid' 'modul' 'busines'\n 'blueprint' 'realiz' 'process' 'atual' 'ambas' 'empr' 'realiz'\n 'unificaca' 'padronizaca' 'process' 'inclu' 'interfac' 'outr' 'leg'\n 'responsa' 'localizaca' 'brasil' 'supr' 'estoqu' 'suport' 'po' 'liv'\n 'ver' 'menos' 'decision' 'group' 'consultant' 'sap' 'consultant' 'nom'\n 'empresadecision' 'group' 'consultant' 'period' 'empregom' 'mar' 'duraca'\n 'mes' 'pharm' 'implementaca' 'responsa' 'localizaca' 'brasil' 'met' 'sap'\n 'consultant' 'nom' 'empresamet' 'period' 'empregom' 'abr' 'duraca' 'ano'\n 'localidadesalv' 'implementaca' 'ecc' 'lid' 'modul' 'responsa'\n 'localizaca' 'brasil' 'supr' 'estoqu' 'suport' 'po' 'liv']"
        ],
        [
         "49",
         "ictor luiz simas resumo: profissional com 17 anos de experiência em tecnologia da informação, sendo 15 anos com desenvolvimento em java e suas tecnologias adjacentes bem como plataforma .net/c#, tendo atuado como líder técnico, gestor de desenvolvimento, gestor de projetos, scrum master, arquitetura e engenharia de softwares críticos para empresas de grande porte e multinacionais – vivência com sistemas bancários (hsbc). profundo conhecimento em bancos de dados, padrões de projetos, arquitetura soa, microsserviços, cloud computing, webservices e integração de plataformas. formação: 1. especialização em big data (conclusão em 2021) – católica de santa catarina – jaraguá do sul/sc 2. especialização em gestão do desenvolvimento de produtos inovadores (conclusão em fevereiro de 2018) – unidombosco – curitiba/pr 3. graduação em análise e desenvolvimento de sistemas (conclusão em março de 2017) – unicesumar – maringá/pr 4. graduação em sistemas de telecomunicações – utfpr – curitiba/pr qualificações: gestor de equipes de desenvolvimento e de projetos de software, arquiteto de sistemas resilientes, engenheiro de softwares com atuação em projetos críticos. desenvolvimento java, spring framework, spring boot, hibernate, jdbc, jdbi, bancos de dados relacionais (conhecimento avançado em sql), servidores de aplicação. desenvolvimento em linguagens como c#, c++, c, python, shell script e sql. conhecimento em plataformas cloud computing. conhecimentos técnicos: gestão de projetos: scrum, agile, kanban, waterfall, itil, devops, documentação, bpms. linguagens e plataformas: java, c#, .net core, .net framework, c++, c, sql, python, shell script bash, javascript, typescript. bancos de dados: postgresql, mysql, firebird, firebase, dbii, ms-sql, mongodb e similares. revelo revelo revelo revelo revelo orm: hibernate, nhibernate, entity framework containerização e entregas: docker, rancher, kubernetes, ci/cd mensageria: kafka, mqtt, websphere mq experiências profissionais mais relevantes: [consultor] ndbim (vila nova de famalicão/portugal) – jan 2021/atual arquiteto de sistemas sênior, líder técnico, desenvolvimento de software trabalhando como arquiteto de sistemas em planejamento, definição de arquitetura, tecnologias e metodologias, bem como desenvolvimento de algoritmos complexos e troubleshooting, minha equipe e eu estamos trazendo um sistema de gerenciamento de construção civil, partindo do protótipo até o mercado. conquistas: partindo de um protótipo (mais na ideia do que nas funcionalidades), trazendo um sistema em fase de pré-lançamento do mercado com suas funcionalidades desenvolvidas com princípios de qualidade e reconhecimento científico. [temporário] upflux (jaraguá do sul/sc) – de out/2020 a dez/2020 arquiteto de software e agile coach implementação de metodologias ágeis (agile básico e scrum); introdução de ciclos de descobrimento e desenvolvimento de necessidades dos clientes; desenvolvimento de metodologia interna para acompanhamento e de demandas de desenvolvimento de software; criação de plano de melhoria de arquitetura da ferramenta conquistas: redução no índice de retrabalho em até 80% de acordo com as métricas implementadas. definição clara de processos de comunicação entre setores. [consultor] inlap (jaraguá do sul/sc) – de jun/2015 - atual consultor projetos na área da saúde, healthcare, internet das coisas, smart cities, varejo e outros sistemas. principais tecnologias utilizadas: java, spring, quarkus, kafka, mqtt, protobuf, c#, dotnetcore, python, aws, azure devops, jira, confluence, postgres, mysql, mongodb, redis, dynamodb, docker, rancher, kubernetes principais projetos: lyncas – jaraguá do sul (2020): revelo revelo revelo revelo revelo desenvolvimento de projetos em parceria com a empresa v2com na área de smartgrids. proporcionei a comunicação entre classes de medidores e o sistema central das companhias de distribuição de eletricidade desenvolvendo protocolos de comunicação eficientes e confiáveis baseados em abnt 14522. criação do programa de desenvolvimento de talentos da empresa. simplus - joinville (2020): migração de plataforma monolítica para microserviços e tecnologia aws serverless. análise, planejamento e desenvolvimento de novas funcionalidades para clientes estratégicos. icolabora – são paulo (2019): gestão técnica de equipes e projetos críticos para clientes estratégicos. integração das principais operadoras de telecomunicações com o novo portal anatel consumidor. desenvolvimento de portal de compliance. desenvolvimento de plataforma de telerradiologia, recebendo em mãos um protótipo e desenvolvendo o produto até a entrega para o mercado. acompanhamento do produto junto aos clientes. levantamento de melhorias e aperfeiçoamento. desenvolvimento de plano de negócios e técnicos para integração entre os diversos produtos oferecidos pela empresa para os clientes que utilizam telerradiologia. responsável técnico pelo programa de estágios internacionais em parceria com universidade da bélgica. centro universitário católica de santa catarina – de fevereiro/2019, atual professor de ensino superior – engenharia de software lecionando disciplinas como banco de dados, java, programação orientada a objetos, sistemas operacionais. senai/sc (jaraguá do sul) - de abril/2017, atual professor de ensino superior – engenharia de software lecionando disciplinas como banco de dados, java, programação orientada a objetos, sistemas operacionais e programação para dispositivos de hardware (microcontroladores) desenvolver pesquisas na área de iot, indústria 4.0 e smart cities. revelo revelo revelo revelo revelo hsbc global tecnology (curitiba/pr) – 2008/2009 analista de software responsável por desenvolvimento java e python. responsável também pelo desenvolvimento de ferramentas de automação de processos de gerenciamento dos servidores de aplicação java. idiomas: português – nativo inglês – proficiência (c1) em comunicação oral e escrita francês – básico (estudos em andamento, compreensão de textos em leitura, comunicação oral básica) experiência internacional: vivência na irlanda em 2010 e 2011 onde pude aprender sobre novas culturas, aprimorar o nível de inglês e trabalhar na área de tecnologia da informação no segmento de small offices.",
         "['ict' 'profiss' 'ano' 'experienc' 'tecnolog' 'informaca' 'send' 'ano'\n 'desenvolv' 'jav' 'tecnolog' 'adjac' 'bem' 'plataform' 'net' 'tend' 'atu'\n 'lid' 'tecn' 'ges' 'desenvolv' 'ges' 'projet' 'scrum' 'mast' 'arquitet'\n 'engenh' 'softw' 'crit' 'empr' 'grand' 'port' 'multinac' 'vivenc'\n 'sistem' 'bancari' 'hsbc' 'profund' 'conhec' 'banc' 'dad' 'padro'\n 'projet' 'arquitet' 'soa' 'microsserv' 'cloud' 'computing' 'webserv'\n 'integraca' 'plataform' 'formaca' 'especializaca' 'big' 'dat' 'conclusa'\n 'catol' 'sant' 'catarin' 'jaragu' 'sul' 'especializaca' 'gesta'\n 'desenvolv' 'produt' 'inov' 'conclusa' 'fever' 'unidombosc' 'curitib'\n 'graduaca' 'analis' 'desenvolv' 'sistem' 'conclusa' 'marc' 'unicesum'\n 'maring' 'graduaca' 'sistem' 'telecomunicaco' 'utfpr' 'curitib'\n 'qualificaco' 'ges' 'equip' 'desenvolv' 'projet' 'softw' 'arquitet'\n 'sistem' 'resili' 'engenh' 'softw' 'atuaca' 'projet' 'crit' 'desenvolv'\n 'jav' 'spring' 'framework' 'spring' 'boot' 'hibernat' 'jdbc' 'jdb' 'banc'\n 'dad' 'relac' 'conhec' 'avanc' 'sql' 'serv' 'aplicaca' 'desenvolv'\n 'lingu' 'python' 'shell' 'script' 'sql' 'conhec' 'plataform' 'cloud'\n 'computing' 'conhec' 'tecn' 'gesta' 'projet' 'scrum' 'agil' 'itil'\n 'devop' 'documentaca' 'bpm' 'lingu' 'plataform' 'jav' 'net' 'cor' 'net'\n 'framework' 'sql' 'python' 'shell' 'script' 'bash' 'javascript'\n 'typescript' 'banc' 'dad' 'postgresql' 'mysql' 'firebird' 'firebas' 'dbi'\n 'simil' 'orm' 'hibernat' 'nhibernat' 'entity' 'framework'\n 'containerizaca' 'ranch' 'kubernet' 'mensag' 'kafk' 'mqtt' 'websph'\n 'experienc' 'profiss' 'relev' 'consult' 'ndbim' 'vil' 'nov' 'famalica'\n 'portug' 'jan' 'atual' 'arquitet' 'sistem' 'seni' 'lid' 'tecn'\n 'desenvolv' 'softw' 'trabalh' 'arquitet' 'sistem' 'planej' 'definica'\n 'arquitet' 'tecnolog' 'metodolog' 'bem' 'desenvolv' 'algoritm' 'complex'\n 'troubleshooting' 'equip' 'traz' 'sistem' 'gerenc' 'construca' 'civil'\n 'part' 'prototip' 'ate' 'merc' 'conqu' 'part' 'prototip' 'ide'\n 'funcional' 'traz' 'sistem' 'fas' 'pre' 'lanc' 'merc' 'funcional'\n 'desenvolv' 'principi' 'qual' 'reconhec' 'cientif' 'temporari' 'upflux'\n 'jaragu' 'sul' 'out' 'dez' 'arquitet' 'softw' 'agil' 'coach'\n 'implementaca' 'metodolog' 'agel' 'agil' 'basic' 'scrum' 'introduca'\n 'cicl' 'descobr' 'desenvolv' 'necess' 'client' 'desenvolv' 'metodolog'\n 'intern' 'acompanh' 'demand' 'desenvolv' 'softw' 'criaca' 'plan' 'melh'\n 'arquitet' 'ferrament' 'conqu' 'reduca' 'indic' 'retrabalh' 'ate' 'acord'\n 'metr' 'implement' 'definica' 'cl' 'process' 'comunicaca' 'set' 'consult'\n 'atual' 'consult' 'projet' 'are' 'saud' 'healthc' 'internet' 'cois'\n 'smart' 'citi' 'varej' 'outr' 'sistem' 'princip' 'tecnolog' 'utiliz'\n 'jav' 'spring' 'quarku' 'kafk' 'mqtt' 'protobuf' 'dotnetcor' 'python'\n 'aw' 'azur' 'devop' 'jir' 'confluenc' 'postgr' 'mysql' 'dock' 'ranch'\n 'kubernet' 'princip' 'projet' 'lync' 'jaragu' 'sul' 'revel' 'revel'\n 'revel' 'revel' 'revel' 'desenvolv' 'projet' 'parc' 'empr' 'are'\n 'smartgrid' 'proporcion' 'comunicaca' 'cl' 'medi' 'sistem' 'centr'\n 'companh' 'distribuica' 'eletric' 'desenvolv' 'protocol' 'comunicaca'\n 'efici' 'confia' 'base' 'abnt' 'criaca' 'program' 'desenvolv' 'talent'\n 'empr' 'plataform' 'monoli' 'microserv' 'tecnolog' 'aw' 'serverles'\n 'analis' 'planej' 'desenvolv' 'nov' 'funcional' 'client' 'estrateg'\n 'icolab' 'sao' 'paul' 'gesta' 'tecn' 'equip' 'projet' 'crit' 'client'\n 'estrateg' 'integraca' 'princip' 'oper' 'telecomunicaco' 'nov' 'port'\n 'anatel' 'consum' 'desenvolv' 'port' 'complianc' 'desenvolv' 'plataform'\n 'telerradiolog' 'receb' 'mao' 'prototip' 'desenvolv' 'produt' 'ate'\n 'entreg' 'merc' 'acompanh' 'produt' 'junt' 'client' 'levant' 'melh'\n 'aperfeico' 'desenvolv' 'plan' 'negoci' 'tecn' 'integraca' 'divers'\n 'produt' 'oferec' 'empr' 'client' 'utiliz' 'telerradiolog' 'responsa'\n 'tecn' 'program' 'estagi' 'internac' 'parc' 'univers' 'belg' 'centr'\n 'universitari' 'catol' 'sant' 'catarin' 'fever' 'atual' 'profes' 'ensin'\n 'superi' 'engenh' 'softw' 'lecion' 'disciplin' 'banc' 'dad' 'jav'\n 'programaca' 'orient' 'objet' 'sistem' 'operac' 'sen' 'jaragu' 'sul'\n 'abril' 'atual' 'profes' 'ensin' 'superi' 'engenh' 'softw' 'lecion'\n 'disciplin' 'banc' 'dad' 'jav' 'programaca' 'orient' 'objet' 'sistem'\n 'operac' 'programaca' 'disposi' 'hardw' 'microcontrol' 'desenvolv'\n 'pesquis' 'are' 'iot' 'industr' 'curitib' 'anal' 'softw' 'responsa'\n 'desenvolv' 'jav' 'python' 'responsa' 'tamb' 'desenvolv' 'ferrament'\n 'automaca' 'process' 'gerenc' 'serv' 'idiom' 'portug' 'nativ' 'ingl'\n 'proficienc' 'comunicaca' 'oral' 'escrit' 'franc' 'basic' 'estud' 'and'\n 'compreensa' 'text' 'leit' 'comunicaca' 'oral' 'basic' 'experienc'\n 'internac' 'vivenc' 'irland' 'ond' 'pud' 'aprend' 'sobr' 'nov' 'cult'\n 'aprimor' 'nivel' 'ingl' 'trabalh' 'are' 'tecnolog' 'informaca' 'segment'\n 'small' 'offic']"
        ]
       ],
       "shape": {
        "columns": 2,
        "rows": 42482
       }
      },
      "text/html": [
       "<div>\n",
       "<style scoped>\n",
       "    .dataframe tbody tr th:only-of-type {\n",
       "        vertical-align: middle;\n",
       "    }\n",
       "\n",
       "    .dataframe tbody tr th {\n",
       "        vertical-align: top;\n",
       "    }\n",
       "\n",
       "    .dataframe thead th {\n",
       "        text-align: right;\n",
       "    }\n",
       "</style>\n",
       "<table border=\"1\" class=\"dataframe\">\n",
       "  <thead>\n",
       "    <tr style=\"text-align: right;\">\n",
       "      <th></th>\n",
       "      <th>cv_pt_cleaned</th>\n",
       "      <th>cv_tokenizado</th>\n",
       "    </tr>\n",
       "  </thead>\n",
       "  <tbody>\n",
       "    <tr>\n",
       "      <th>0</th>\n",
       "      <td>assistente administrativo santosbatista itapec...</td>\n",
       "      <td>[assist, administr, santosbat, itapecer, serr,...</td>\n",
       "    </tr>\n",
       "    <tr>\n",
       "      <th>1</th>\n",
       "      <td>formação acadêmica ensino médio (2º grau) em e...</td>\n",
       "      <td>[formaca, academ, ensin, medi, grau, ensin, me...</td>\n",
       "    </tr>\n",
       "    <tr>\n",
       "      <th>2</th>\n",
       "      <td>objetivo: área administrativa | financeira res...</td>\n",
       "      <td>[obje, are, administr, financ, resum, profiss,...</td>\n",
       "    </tr>\n",
       "    <tr>\n",
       "      <th>3</th>\n",
       "      <td>formação ensino médio completo informática int...</td>\n",
       "      <td>[formaca, ensin, medi, complet, informa, inter...</td>\n",
       "    </tr>\n",
       "    <tr>\n",
       "      <th>4</th>\n",
       "      <td>última atualização em 09/11/2021 ­ sp ensino s...</td>\n",
       "      <td>[ult, atualizaca, ensin, superi, administraca,...</td>\n",
       "    </tr>\n",
       "    <tr>\n",
       "      <th>...</th>\n",
       "      <td>...</td>\n",
       "      <td>...</td>\n",
       "    </tr>\n",
       "    <tr>\n",
       "      <th>42477</th>\n",
       "      <td>None</td>\n",
       "      <td>None</td>\n",
       "    </tr>\n",
       "    <tr>\n",
       "      <th>42478</th>\n",
       "      <td>None</td>\n",
       "      <td>None</td>\n",
       "    </tr>\n",
       "    <tr>\n",
       "      <th>42479</th>\n",
       "      <td>None</td>\n",
       "      <td>None</td>\n",
       "    </tr>\n",
       "    <tr>\n",
       "      <th>42480</th>\n",
       "      <td>None</td>\n",
       "      <td>None</td>\n",
       "    </tr>\n",
       "    <tr>\n",
       "      <th>42481</th>\n",
       "      <td>None</td>\n",
       "      <td>None</td>\n",
       "    </tr>\n",
       "  </tbody>\n",
       "</table>\n",
       "<p>42482 rows × 2 columns</p>\n",
       "</div>"
      ],
      "text/plain": [
       "                                           cv_pt_cleaned  \\\n",
       "0      assistente administrativo santosbatista itapec...   \n",
       "1      formação acadêmica ensino médio (2º grau) em e...   \n",
       "2      objetivo: área administrativa | financeira res...   \n",
       "3      formação ensino médio completo informática int...   \n",
       "4      última atualização em 09/11/2021 ­ sp ensino s...   \n",
       "...                                                  ...   \n",
       "42477                                               None   \n",
       "42478                                               None   \n",
       "42479                                               None   \n",
       "42480                                               None   \n",
       "42481                                               None   \n",
       "\n",
       "                                           cv_tokenizado  \n",
       "0      [assist, administr, santosbat, itapecer, serr,...  \n",
       "1      [formaca, academ, ensin, medi, grau, ensin, me...  \n",
       "2      [obje, are, administr, financ, resum, profiss,...  \n",
       "3      [formaca, ensin, medi, complet, informa, inter...  \n",
       "4      [ult, atualizaca, ensin, superi, administraca,...  \n",
       "...                                                  ...  \n",
       "42477                                               None  \n",
       "42478                                               None  \n",
       "42479                                               None  \n",
       "42480                                               None  \n",
       "42481                                               None  \n",
       "\n",
       "[42482 rows x 2 columns]"
      ]
     },
     "execution_count": 4,
     "metadata": {},
     "output_type": "execute_result"
    }
   ],
   "source": [
    "df_application_teste"
   ]
  },
  {
   "cell_type": "code",
   "execution_count": 37,
   "metadata": {},
   "outputs": [
    {
     "name": "stderr",
     "output_type": "stream",
     "text": [
      "/home/lucas-nunes/workspace/Postech/.venv/lib/python3.12/site-packages/sklearn/feature_extraction/text.py:517: UserWarning: The parameter 'token_pattern' will not be used since 'tokenizer' is not None'\n",
      "  warnings.warn(\n"
     ]
    }
   ],
   "source": [
    "\n",
    "batch_df_test = df_application_teste.iloc[5:6]\n",
    "test = tokenize_and_vectorize(batch_df_test, tokenizer, '', '')\n"
   ]
  },
  {
   "cell_type": "code",
   "execution_count": 38,
   "metadata": {},
   "outputs": [
    {
     "data": {
      "application/vnd.microsoft.datawrangler.viewer.v0+json": {
       "columns": [
        {
         "name": "index",
         "rawType": "int64",
         "type": "integer"
        },
        {
         "name": "abert",
         "rawType": "float64",
         "type": "float"
        },
        {
         "name": "aca",
         "rawType": "float64",
         "type": "float"
        },
        {
         "name": "academ",
         "rawType": "float64",
         "type": "float"
        },
        {
         "name": "acompanh",
         "rawType": "float64",
         "type": "float"
        },
        {
         "name": "administr",
         "rawType": "float64",
         "type": "float"
        },
        {
         "name": "ajust",
         "rawType": "float64",
         "type": "float"
        },
        {
         "name": "alcanc",
         "rawType": "float64",
         "type": "float"
        },
        {
         "name": "ambip",
         "rawType": "float64",
         "type": "float"
        },
        {
         "name": "anal",
         "rawType": "float64",
         "type": "float"
        },
        {
         "name": "analis",
         "rawType": "float64",
         "type": "float"
        },
        {
         "name": "ano",
         "rawType": "float64",
         "type": "float"
        },
        {
         "name": "apresentaca",
         "rawType": "float64",
         "type": "float"
        },
        {
         "name": "are",
         "rawType": "float64",
         "type": "float"
        },
        {
         "name": "atend",
         "rawType": "float64",
         "type": "float"
        },
        {
         "name": "ativ",
         "rawType": "float64",
         "type": "float"
        },
        {
         "name": "atuaca",
         "rawType": "float64",
         "type": "float"
        },
        {
         "name": "atualizaca",
         "rawType": "float64",
         "type": "float"
        },
        {
         "name": "banc",
         "rawType": "float64",
         "type": "float"
        },
        {
         "name": "basic",
         "rawType": "float64",
         "type": "float"
        },
        {
         "name": "bem",
         "rawType": "float64",
         "type": "float"
        },
        {
         "name": "brasil",
         "rawType": "float64",
         "type": "float"
        },
        {
         "name": "cadastr",
         "rawType": "float64",
         "type": "float"
        },
        {
         "name": "cas",
         "rawType": "float64",
         "type": "float"
        },
        {
         "name": "cath",
         "rawType": "float64",
         "type": "float"
        },
        {
         "name": "client",
         "rawType": "float64",
         "type": "float"
        },
        {
         "name": "cobranc",
         "rawType": "float64",
         "type": "float"
        },
        {
         "name": "colegi",
         "rawType": "float64",
         "type": "float"
        },
        {
         "name": "comerc",
         "rawType": "float64",
         "type": "float"
        },
        {
         "name": "comerci",
         "rawType": "float64",
         "type": "float"
        },
        {
         "name": "commerc",
         "rawType": "float64",
         "type": "float"
        },
        {
         "name": "compreend",
         "rawType": "float64",
         "type": "float"
        },
        {
         "name": "conclu",
         "rawType": "float64",
         "type": "float"
        },
        {
         "name": "concorr",
         "rawType": "float64",
         "type": "float"
        },
        {
         "name": "conduca",
         "rawType": "float64",
         "type": "float"
        },
        {
         "name": "cont",
         "rawType": "float64",
         "type": "float"
        },
        {
         "name": "continu",
         "rawType": "float64",
         "type": "float"
        },
        {
         "name": "contrat",
         "rawType": "float64",
         "type": "float"
        },
        {
         "name": "contribuica",
         "rawType": "float64",
         "type": "float"
        },
        {
         "name": "control",
         "rawType": "float64",
         "type": "float"
        },
        {
         "name": "coordenaca",
         "rawType": "float64",
         "type": "float"
        },
        {
         "name": "crm",
         "rawType": "float64",
         "type": "float"
        },
        {
         "name": "curs",
         "rawType": "float64",
         "type": "float"
        },
        {
         "name": "cust",
         "rawType": "float64",
         "type": "float"
        },
        {
         "name": "dad",
         "rawType": "float64",
         "type": "float"
        },
        {
         "name": "definica",
         "rawType": "float64",
         "type": "float"
        },
        {
         "name": "dentr",
         "rawType": "float64",
         "type": "float"
        },
        {
         "name": "desempenh",
         "rawType": "float64",
         "type": "float"
        },
        {
         "name": "desenvolv",
         "rawType": "float64",
         "type": "float"
        },
        {
         "name": "diret",
         "rawType": "float64",
         "type": "float"
        },
        {
         "name": "elaboraca",
         "rawType": "float64",
         "type": "float"
        },
        {
         "name": "embal",
         "rawType": "float64",
         "type": "float"
        },
        {
         "name": "empreend",
         "rawType": "float64",
         "type": "float"
        },
        {
         "name": "entreg",
         "rawType": "float64",
         "type": "float"
        },
        {
         "name": "equip",
         "rawType": "float64",
         "type": "float"
        },
        {
         "name": "erp",
         "rawType": "float64",
         "type": "float"
        },
        {
         "name": "escop",
         "rawType": "float64",
         "type": "float"
        },
        {
         "name": "espanhol",
         "rawType": "float64",
         "type": "float"
        },
        {
         "name": "estoqu",
         "rawType": "float64",
         "type": "float"
        },
        {
         "name": "estrateg",
         "rawType": "float64",
         "type": "float"
        },
        {
         "name": "etap",
         "rawType": "float64",
         "type": "float"
        },
        {
         "name": "event",
         "rawType": "float64",
         "type": "float"
        },
        {
         "name": "excel",
         "rawType": "float64",
         "type": "float"
        },
        {
         "name": "execu",
         "rawType": "float64",
         "type": "float"
        },
        {
         "name": "experienc",
         "rawType": "float64",
         "type": "float"
        },
        {
         "name": "explor",
         "rawType": "float64",
         "type": "float"
        },
        {
         "name": "extracurricul",
         "rawType": "float64",
         "type": "float"
        },
        {
         "name": "fatur",
         "rawType": "float64",
         "type": "float"
        },
        {
         "name": "financ",
         "rawType": "float64",
         "type": "float"
        },
        {
         "name": "formaca",
         "rawType": "float64",
         "type": "float"
        },
        {
         "name": "fornec",
         "rawType": "float64",
         "type": "float"
        },
        {
         "name": "funca",
         "rawType": "float64",
         "type": "float"
        },
        {
         "name": "goyaz",
         "rawType": "float64",
         "type": "float"
        },
        {
         "name": "grup",
         "rawType": "float64",
         "type": "float"
        },
        {
         "name": "hunt",
         "rawType": "float64",
         "type": "float"
        },
        {
         "name": "implantaca",
         "rawType": "float64",
         "type": "float"
        },
        {
         "name": "incomplet",
         "rawType": "float64",
         "type": "float"
        },
        {
         "name": "indic",
         "rawType": "float64",
         "type": "float"
        },
        {
         "name": "individ",
         "rawType": "float64",
         "type": "float"
        },
        {
         "name": "informa",
         "rawType": "float64",
         "type": "float"
        },
        {
         "name": "informaco",
         "rawType": "float64",
         "type": "float"
        },
        {
         "name": "ingl",
         "rawType": "float64",
         "type": "float"
        },
        {
         "name": "inteligenc",
         "rawType": "float64",
         "type": "float"
        },
        {
         "name": "interfac",
         "rawType": "float64",
         "type": "float"
        },
        {
         "name": "internet",
         "rawType": "float64",
         "type": "float"
        },
        {
         "name": "iso",
         "rawType": "float64",
         "type": "float"
        },
        {
         "name": "it",
         "rawType": "float64",
         "type": "float"
        },
        {
         "name": "junt",
         "rawType": "float64",
         "type": "float"
        },
        {
         "name": "lead",
         "rawType": "float64",
         "type": "float"
        },
        {
         "name": "levant",
         "rawType": "float64",
         "type": "float"
        },
        {
         "name": "logis",
         "rawType": "float64",
         "type": "float"
        },
        {
         "name": "loj",
         "rawType": "float64",
         "type": "float"
        },
        {
         "name": "ltd",
         "rawType": "float64",
         "type": "float"
        },
        {
         "name": "manutenca",
         "rawType": "float64",
         "type": "float"
        },
        {
         "name": "mape",
         "rawType": "float64",
         "type": "float"
        },
        {
         "name": "market",
         "rawType": "float64",
         "type": "float"
        },
        {
         "name": "marketplac",
         "rawType": "float64",
         "type": "float"
        },
        {
         "name": "melh",
         "rawType": "float64",
         "type": "float"
        },
        {
         "name": "membr",
         "rawType": "float64",
         "type": "float"
        },
        {
         "name": "mens",
         "rawType": "float64",
         "type": "float"
        },
        {
         "name": "merc",
         "rawType": "float64",
         "type": "float"
        },
        {
         "name": "mes",
         "rawType": "float64",
         "type": "float"
        },
        {
         "name": "met",
         "rawType": "float64",
         "type": "float"
        },
        {
         "name": "mid",
         "rawType": "float64",
         "type": "float"
        },
        {
         "name": "monitor",
         "rawType": "float64",
         "type": "float"
        },
        {
         "name": "negoci",
         "rawType": "float64",
         "type": "float"
        },
        {
         "name": "negociaca",
         "rawType": "float64",
         "type": "float"
        },
        {
         "name": "nivel",
         "rawType": "float64",
         "type": "float"
        },
        {
         "name": "nov",
         "rawType": "float64",
         "type": "float"
        },
        {
         "name": "obje",
         "rawType": "float64",
         "type": "float"
        },
        {
         "name": "onlin",
         "rawType": "float64",
         "type": "float"
        },
        {
         "name": "operac",
         "rawType": "float64",
         "type": "float"
        },
        {
         "name": "operaca",
         "rawType": "float64",
         "type": "float"
        },
        {
         "name": "operacionalizaca",
         "rawType": "float64",
         "type": "float"
        },
        {
         "name": "operaco",
         "rawType": "float64",
         "type": "float"
        },
        {
         "name": "outr",
         "rawType": "float64",
         "type": "float"
        },
        {
         "name": "panoram",
         "rawType": "float64",
         "type": "float"
        },
        {
         "name": "parametr",
         "rawType": "float64",
         "type": "float"
        },
        {
         "name": "participaca",
         "rawType": "float64",
         "type": "float"
        },
        {
         "name": "performanc",
         "rawType": "float64",
         "type": "float"
        },
        {
         "name": "pertin",
         "rawType": "float64",
         "type": "float"
        },
        {
         "name": "plan",
         "rawType": "float64",
         "type": "float"
        },
        {
         "name": "planej",
         "rawType": "float64",
         "type": "float"
        },
        {
         "name": "po",
         "rawType": "float64",
         "type": "float"
        },
        {
         "name": "powerpoint",
         "rawType": "float64",
         "type": "float"
        },
        {
         "name": "princip",
         "rawType": "float64",
         "type": "float"
        },
        {
         "name": "problem",
         "rawType": "float64",
         "type": "float"
        },
        {
         "name": "produt",
         "rawType": "float64",
         "type": "float"
        },
        {
         "name": "profiss",
         "rawType": "float64",
         "type": "float"
        },
        {
         "name": "projet",
         "rawType": "float64",
         "type": "float"
        },
        {
         "name": "propagand",
         "rawType": "float64",
         "type": "float"
        },
        {
         "name": "propost",
         "rawType": "float64",
         "type": "float"
        },
        {
         "name": "prospecca",
         "rawType": "float64",
         "type": "float"
        },
        {
         "name": "prospect",
         "rawType": "float64",
         "type": "float"
        },
        {
         "name": "public",
         "rawType": "float64",
         "type": "float"
        },
        {
         "name": "qual",
         "rawType": "float64",
         "type": "float"
        },
        {
         "name": "qualificaco",
         "rawType": "float64",
         "type": "float"
        },
        {
         "name": "rad",
         "rawType": "float64",
         "type": "float"
        },
        {
         "name": "realiz",
         "rawType": "float64",
         "type": "float"
        },
        {
         "name": "realizaca",
         "rawType": "float64",
         "type": "float"
        },
        {
         "name": "red",
         "rawType": "float64",
         "type": "float"
        },
        {
         "name": "registr",
         "rawType": "float64",
         "type": "float"
        },
        {
         "name": "resoluco",
         "rawType": "float64",
         "type": "float"
        },
        {
         "name": "responsa",
         "rawType": "float64",
         "type": "float"
        },
        {
         "name": "reunio",
         "rawType": "float64",
         "type": "float"
        },
        {
         "name": "rodoviari",
         "rawType": "float64",
         "type": "float"
        },
        {
         "name": "santand",
         "rawType": "float64",
         "type": "float"
        },
        {
         "name": "sebra",
         "rawType": "float64",
         "type": "float"
        },
        {
         "name": "segment",
         "rawType": "float64",
         "type": "float"
        },
        {
         "name": "send",
         "rawType": "float64",
         "type": "float"
        },
        {
         "name": "serv",
         "rawType": "float64",
         "type": "float"
        },
        {
         "name": "set",
         "rawType": "float64",
         "type": "float"
        },
        {
         "name": "sh",
         "rawType": "float64",
         "type": "float"
        },
        {
         "name": "sintes",
         "rawType": "float64",
         "type": "float"
        },
        {
         "name": "sistem",
         "rawType": "float64",
         "type": "float"
        },
        {
         "name": "soc",
         "rawType": "float64",
         "type": "float"
        },
        {
         "name": "sociedad",
         "rawType": "float64",
         "type": "float"
        },
        {
         "name": "superaca",
         "rawType": "float64",
         "type": "float"
        },
        {
         "name": "suport",
         "rawType": "float64",
         "type": "float"
        },
        {
         "name": "tabel",
         "rawType": "float64",
         "type": "float"
        },
        {
         "name": "tecn",
         "rawType": "float64",
         "type": "float"
        },
        {
         "name": "tnl",
         "rawType": "float64",
         "type": "float"
        },
        {
         "name": "tod",
         "rawType": "float64",
         "type": "float"
        },
        {
         "name": "totv",
         "rawType": "float64",
         "type": "float"
        },
        {
         "name": "trat",
         "rawType": "float64",
         "type": "float"
        },
        {
         "name": "tur",
         "rawType": "float64",
         "type": "float"
        },
        {
         "name": "unidad",
         "rawType": "float64",
         "type": "float"
        },
        {
         "name": "uninov",
         "rawType": "float64",
         "type": "float"
        },
        {
         "name": "unip",
         "rawType": "float64",
         "type": "float"
        },
        {
         "name": "vend",
         "rawType": "float64",
         "type": "float"
        },
        {
         "name": "vinh",
         "rawType": "float64",
         "type": "float"
        },
        {
         "name": "vivenc",
         "rawType": "float64",
         "type": "float"
        },
        {
         "name": "volum",
         "rawType": "float64",
         "type": "float"
        },
        {
         "name": "word",
         "rawType": "float64",
         "type": "float"
        }
       ],
       "ref": "73342cea-a8a9-4dd9-9539-86670172ac75",
       "rows": [
        [
         "0",
         "0.04315318520021031",
         "0.08630637040042062",
         "0.04315318520021031",
         "0.2589191112012619",
         "0.12945955560063094",
         "0.04315318520021031",
         "0.04315318520021031",
         "0.04315318520021031",
         "0.12945955560063094",
         "0.08630637040042062",
         "0.04315318520021031",
         "0.04315318520021031",
         "0.12945955560063094",
         "0.17261274080084124",
         "0.12945955560063094",
         "0.04315318520021031",
         "0.04315318520021031",
         "0.04315318520021031",
         "0.04315318520021031",
         "0.04315318520021031",
         "0.04315318520021031",
         "0.08630637040042062",
         "0.04315318520021031",
         "0.04315318520021031",
         "0.30207229640147215",
         "0.04315318520021031",
         "0.04315318520021031",
         "0.2589191112012619",
         "0.04315318520021031",
         "0.21576592600105154",
         "0.04315318520021031",
         "0.08630637040042062",
         "0.04315318520021031",
         "0.04315318520021031",
         "0.04315318520021031",
         "0.04315318520021031",
         "0.04315318520021031",
         "0.04315318520021031",
         "0.17261274080084124",
         "0.04315318520021031",
         "0.04315318520021031",
         "0.04315318520021031",
         "0.04315318520021031",
         "0.04315318520021031",
         "0.12945955560063094",
         "0.04315318520021031",
         "0.08630637040042062",
         "0.04315318520021031",
         "0.04315318520021031",
         "0.08630637040042062",
         "0.04315318520021031",
         "0.04315318520021031",
         "0.04315318520021031",
         "0.04315318520021031",
         "0.04315318520021031",
         "0.04315318520021031",
         "0.04315318520021031",
         "0.08630637040042062",
         "0.12945955560063094",
         "0.04315318520021031",
         "0.04315318520021031",
         "0.04315318520021031",
         "0.04315318520021031",
         "0.08630637040042062",
         "0.04315318520021031",
         "0.04315318520021031",
         "0.08630637040042062",
         "0.08630637040042062",
         "0.04315318520021031",
         "0.04315318520021031",
         "0.04315318520021031",
         "0.04315318520021031",
         "0.04315318520021031",
         "0.04315318520021031",
         "0.04315318520021031",
         "0.04315318520021031",
         "0.08630637040042062",
         "0.04315318520021031",
         "0.08630637040042062",
         "0.04315318520021031",
         "0.04315318520021031",
         "0.04315318520021031",
         "0.08630637040042062",
         "0.04315318520021031",
         "0.04315318520021031",
         "0.04315318520021031",
         "0.12945955560063094",
         "0.04315318520021031",
         "0.04315318520021031",
         "0.08630637040042062",
         "0.04315318520021031",
         "0.04315318520021031",
         "0.04315318520021031",
         "0.04315318520021031",
         "0.04315318520021031",
         "0.04315318520021031",
         "0.04315318520021031",
         "0.04315318520021031",
         "0.04315318520021031",
         "0.04315318520021031",
         "0.04315318520021031",
         "0.04315318520021031",
         "0.04315318520021031",
         "0.04315318520021031",
         "0.04315318520021031",
         "0.04315318520021031",
         "0.04315318520021031",
         "0.08630637040042062",
         "0.04315318520021031",
         "0.08630637040042062",
         "0.17261274080084124",
         "0.04315318520021031",
         "0.04315318520021031",
         "0.12945955560063094",
         "0.04315318520021031",
         "0.04315318520021031",
         "0.04315318520021031",
         "0.12945955560063094",
         "0.04315318520021031",
         "0.04315318520021031",
         "0.08630637040042062",
         "0.04315318520021031",
         "0.04315318520021031",
         "0.04315318520021031",
         "0.08630637040042062",
         "0.04315318520021031",
         "0.04315318520021031",
         "0.04315318520021031",
         "0.08630637040042062",
         "0.04315318520021031",
         "0.04315318520021031",
         "0.08630637040042062",
         "0.04315318520021031",
         "0.04315318520021031",
         "0.04315318520021031",
         "0.04315318520021031",
         "0.04315318520021031",
         "0.04315318520021031",
         "0.04315318520021031",
         "0.04315318520021031",
         "0.04315318520021031",
         "0.04315318520021031",
         "0.08630637040042062",
         "0.08630637040042062",
         "0.04315318520021031",
         "0.04315318520021031",
         "0.08630637040042062",
         "0.08630637040042062",
         "0.04315318520021031",
         "0.08630637040042062",
         "0.04315318520021031",
         "0.04315318520021031",
         "0.04315318520021031",
         "0.04315318520021031",
         "0.08630637040042062",
         "0.04315318520021031",
         "0.04315318520021031",
         "0.04315318520021031",
         "0.04315318520021031",
         "0.08630637040042062",
         "0.04315318520021031",
         "0.04315318520021031",
         "0.04315318520021031",
         "0.04315318520021031",
         "0.04315318520021031",
         "0.04315318520021031",
         "0.04315318520021031",
         "0.04315318520021031",
         "0.21576592600105154",
         "0.04315318520021031",
         "0.04315318520021031",
         "0.04315318520021031",
         "0.04315318520021031"
        ]
       ],
       "shape": {
        "columns": 173,
        "rows": 1
       }
      },
      "text/html": [
       "<div>\n",
       "<style scoped>\n",
       "    .dataframe tbody tr th:only-of-type {\n",
       "        vertical-align: middle;\n",
       "    }\n",
       "\n",
       "    .dataframe tbody tr th {\n",
       "        vertical-align: top;\n",
       "    }\n",
       "\n",
       "    .dataframe thead th {\n",
       "        text-align: right;\n",
       "    }\n",
       "</style>\n",
       "<table border=\"1\" class=\"dataframe\">\n",
       "  <thead>\n",
       "    <tr style=\"text-align: right;\">\n",
       "      <th></th>\n",
       "      <th>abert</th>\n",
       "      <th>aca</th>\n",
       "      <th>academ</th>\n",
       "      <th>acompanh</th>\n",
       "      <th>administr</th>\n",
       "      <th>ajust</th>\n",
       "      <th>alcanc</th>\n",
       "      <th>ambip</th>\n",
       "      <th>anal</th>\n",
       "      <th>analis</th>\n",
       "      <th>...</th>\n",
       "      <th>trat</th>\n",
       "      <th>tur</th>\n",
       "      <th>unidad</th>\n",
       "      <th>uninov</th>\n",
       "      <th>unip</th>\n",
       "      <th>vend</th>\n",
       "      <th>vinh</th>\n",
       "      <th>vivenc</th>\n",
       "      <th>volum</th>\n",
       "      <th>word</th>\n",
       "    </tr>\n",
       "  </thead>\n",
       "  <tbody>\n",
       "    <tr>\n",
       "      <th>0</th>\n",
       "      <td>0.043153</td>\n",
       "      <td>0.086306</td>\n",
       "      <td>0.043153</td>\n",
       "      <td>0.258919</td>\n",
       "      <td>0.12946</td>\n",
       "      <td>0.043153</td>\n",
       "      <td>0.043153</td>\n",
       "      <td>0.043153</td>\n",
       "      <td>0.12946</td>\n",
       "      <td>0.086306</td>\n",
       "      <td>...</td>\n",
       "      <td>0.043153</td>\n",
       "      <td>0.043153</td>\n",
       "      <td>0.043153</td>\n",
       "      <td>0.043153</td>\n",
       "      <td>0.043153</td>\n",
       "      <td>0.215766</td>\n",
       "      <td>0.043153</td>\n",
       "      <td>0.043153</td>\n",
       "      <td>0.043153</td>\n",
       "      <td>0.043153</td>\n",
       "    </tr>\n",
       "  </tbody>\n",
       "</table>\n",
       "<p>1 rows × 173 columns</p>\n",
       "</div>"
      ],
      "text/plain": [
       "      abert       aca    academ  acompanh  administr     ajust    alcanc  \\\n",
       "0  0.043153  0.086306  0.043153  0.258919    0.12946  0.043153  0.043153   \n",
       "\n",
       "      ambip     anal    analis  ...      trat       tur    unidad    uninov  \\\n",
       "0  0.043153  0.12946  0.086306  ...  0.043153  0.043153  0.043153  0.043153   \n",
       "\n",
       "       unip      vend      vinh    vivenc     volum      word  \n",
       "0  0.043153  0.215766  0.043153  0.043153  0.043153  0.043153  \n",
       "\n",
       "[1 rows x 173 columns]"
      ]
     },
     "execution_count": 38,
     "metadata": {},
     "output_type": "execute_result"
    }
   ],
   "source": [
    "test"
   ]
  },
  {
   "cell_type": "code",
   "execution_count": 39,
   "metadata": {
    "colab": {
     "base_uri": "https://localhost:8080/"
    },
    "executionInfo": {
     "elapsed": 25590,
     "status": "ok",
     "timestamp": 1758754684548,
     "user": {
      "displayName": "Lucas Ramos",
      "userId": "09216526235417022731"
     },
     "user_tz": 180
    },
    "id": "T4T-SRgu7L_n",
    "outputId": "1adc5c57-caa6-4b28-a293-b5260e0a6554"
   },
   "outputs": [
    {
     "name": "stdout",
     "output_type": "stream",
     "text": [
      "Step 1: Creating vocabulary from all data...\n",
      "Fitting vectorizer on full dataset...\n"
     ]
    },
    {
     "name": "stderr",
     "output_type": "stream",
     "text": [
      "/home/lucas-nunes/workspace/Postech/.venv/lib/python3.12/site-packages/sklearn/feature_extraction/text.py:517: UserWarning: The parameter 'token_pattern' will not be used since 'tokenizer' is not None'\n",
      "  warnings.warn(\n"
     ]
    },
    {
     "name": "stdout",
     "output_type": "stream",
     "text": [
      "Vocabulary size: 10000\n",
      "Sample features: ['...', 'aaa', 'ab', 'aba', 'abac', 'abaix', 'abandon', 'abap', 'abastec', 'abat']\n",
      "\n",
      "Step 2: Processing batches with consistent vocabulary...\n",
      "Saved batch 0 with shape (1000, 10000) to /home/lucas-nunes/workspace/Postech/challenges/5_data/data/gold/talent_pool_vector_fixed_batch_0.parquet\n",
      "Completed batch 0 (rows 0 to 1000)\n",
      "Saved batch 0 with shape (1000, 10000) to /home/lucas-nunes/workspace/Postech/challenges/5_data/data/gold/talent_pool_vector_fixed_batch_0.parquet\n",
      "Completed batch 0 (rows 0 to 1000)\n",
      "Saved batch 1 with shape (1000, 10000) to /home/lucas-nunes/workspace/Postech/challenges/5_data/data/gold/talent_pool_vector_fixed_batch_1.parquet\n",
      "Completed batch 1 (rows 1000 to 2000)\n",
      "Saved batch 1 with shape (1000, 10000) to /home/lucas-nunes/workspace/Postech/challenges/5_data/data/gold/talent_pool_vector_fixed_batch_1.parquet\n",
      "Completed batch 1 (rows 1000 to 2000)\n",
      "Saved batch 2 with shape (1000, 10000) to /home/lucas-nunes/workspace/Postech/challenges/5_data/data/gold/talent_pool_vector_fixed_batch_2.parquet\n",
      "Completed batch 2 (rows 2000 to 3000)\n",
      "Saved batch 2 with shape (1000, 10000) to /home/lucas-nunes/workspace/Postech/challenges/5_data/data/gold/talent_pool_vector_fixed_batch_2.parquet\n",
      "Completed batch 2 (rows 2000 to 3000)\n",
      "Saved batch 3 with shape (1000, 10000) to /home/lucas-nunes/workspace/Postech/challenges/5_data/data/gold/talent_pool_vector_fixed_batch_3.parquet\n",
      "Completed batch 3 (rows 3000 to 4000)\n",
      "Saved batch 3 with shape (1000, 10000) to /home/lucas-nunes/workspace/Postech/challenges/5_data/data/gold/talent_pool_vector_fixed_batch_3.parquet\n",
      "Completed batch 3 (rows 3000 to 4000)\n",
      "Saved batch 4 with shape (1000, 10000) to /home/lucas-nunes/workspace/Postech/challenges/5_data/data/gold/talent_pool_vector_fixed_batch_4.parquet\n",
      "Completed batch 4 (rows 4000 to 5000)\n",
      "Saved batch 4 with shape (1000, 10000) to /home/lucas-nunes/workspace/Postech/challenges/5_data/data/gold/talent_pool_vector_fixed_batch_4.parquet\n",
      "Completed batch 4 (rows 4000 to 5000)\n",
      "Saved batch 5 with shape (1000, 10000) to /home/lucas-nunes/workspace/Postech/challenges/5_data/data/gold/talent_pool_vector_fixed_batch_5.parquet\n",
      "Completed batch 5 (rows 5000 to 6000)\n",
      "Saved batch 5 with shape (1000, 10000) to /home/lucas-nunes/workspace/Postech/challenges/5_data/data/gold/talent_pool_vector_fixed_batch_5.parquet\n",
      "Completed batch 5 (rows 5000 to 6000)\n",
      "Saved batch 6 with shape (1000, 10000) to /home/lucas-nunes/workspace/Postech/challenges/5_data/data/gold/talent_pool_vector_fixed_batch_6.parquet\n",
      "Completed batch 6 (rows 6000 to 7000)\n",
      "Saved batch 6 with shape (1000, 10000) to /home/lucas-nunes/workspace/Postech/challenges/5_data/data/gold/talent_pool_vector_fixed_batch_6.parquet\n",
      "Completed batch 6 (rows 6000 to 7000)\n",
      "Saved batch 7 with shape (1000, 10000) to /home/lucas-nunes/workspace/Postech/challenges/5_data/data/gold/talent_pool_vector_fixed_batch_7.parquet\n",
      "Completed batch 7 (rows 7000 to 8000)\n",
      "Saved batch 7 with shape (1000, 10000) to /home/lucas-nunes/workspace/Postech/challenges/5_data/data/gold/talent_pool_vector_fixed_batch_7.parquet\n",
      "Completed batch 7 (rows 7000 to 8000)\n",
      "Saved batch 8 with shape (1000, 10000) to /home/lucas-nunes/workspace/Postech/challenges/5_data/data/gold/talent_pool_vector_fixed_batch_8.parquet\n",
      "Completed batch 8 (rows 8000 to 9000)\n",
      "Saved batch 8 with shape (1000, 10000) to /home/lucas-nunes/workspace/Postech/challenges/5_data/data/gold/talent_pool_vector_fixed_batch_8.parquet\n",
      "Completed batch 8 (rows 8000 to 9000)\n",
      "Saved batch 9 with shape (1000, 10000) to /home/lucas-nunes/workspace/Postech/challenges/5_data/data/gold/talent_pool_vector_fixed_batch_9.parquet\n",
      "Completed batch 9 (rows 9000 to 10000)\n",
      "Saved batch 9 with shape (1000, 10000) to /home/lucas-nunes/workspace/Postech/challenges/5_data/data/gold/talent_pool_vector_fixed_batch_9.parquet\n",
      "Completed batch 9 (rows 9000 to 10000)\n",
      "Saved batch 10 with shape (1000, 10000) to /home/lucas-nunes/workspace/Postech/challenges/5_data/data/gold/talent_pool_vector_fixed_batch_10.parquet\n",
      "Completed batch 10 (rows 10000 to 11000)\n",
      "Saved batch 10 with shape (1000, 10000) to /home/lucas-nunes/workspace/Postech/challenges/5_data/data/gold/talent_pool_vector_fixed_batch_10.parquet\n",
      "Completed batch 10 (rows 10000 to 11000)\n",
      "Saved batch 11 with shape (1000, 10000) to /home/lucas-nunes/workspace/Postech/challenges/5_data/data/gold/talent_pool_vector_fixed_batch_11.parquet\n",
      "Completed batch 11 (rows 11000 to 12000)\n",
      "Saved batch 11 with shape (1000, 10000) to /home/lucas-nunes/workspace/Postech/challenges/5_data/data/gold/talent_pool_vector_fixed_batch_11.parquet\n",
      "Completed batch 11 (rows 11000 to 12000)\n",
      "Saved batch 12 with shape (1000, 10000) to /home/lucas-nunes/workspace/Postech/challenges/5_data/data/gold/talent_pool_vector_fixed_batch_12.parquet\n",
      "Completed batch 12 (rows 12000 to 13000)\n",
      "Saved batch 12 with shape (1000, 10000) to /home/lucas-nunes/workspace/Postech/challenges/5_data/data/gold/talent_pool_vector_fixed_batch_12.parquet\n",
      "Completed batch 12 (rows 12000 to 13000)\n",
      "Saved batch 13 with shape (1000, 10000) to /home/lucas-nunes/workspace/Postech/challenges/5_data/data/gold/talent_pool_vector_fixed_batch_13.parquet\n",
      "Completed batch 13 (rows 13000 to 14000)\n",
      "Saved batch 13 with shape (1000, 10000) to /home/lucas-nunes/workspace/Postech/challenges/5_data/data/gold/talent_pool_vector_fixed_batch_13.parquet\n",
      "Completed batch 13 (rows 13000 to 14000)\n",
      "Saved batch 14 with shape (1000, 10000) to /home/lucas-nunes/workspace/Postech/challenges/5_data/data/gold/talent_pool_vector_fixed_batch_14.parquet\n",
      "Completed batch 14 (rows 14000 to 15000)\n",
      "Saved batch 14 with shape (1000, 10000) to /home/lucas-nunes/workspace/Postech/challenges/5_data/data/gold/talent_pool_vector_fixed_batch_14.parquet\n",
      "Completed batch 14 (rows 14000 to 15000)\n",
      "Saved batch 15 with shape (1000, 10000) to /home/lucas-nunes/workspace/Postech/challenges/5_data/data/gold/talent_pool_vector_fixed_batch_15.parquet\n",
      "Completed batch 15 (rows 15000 to 16000)\n",
      "Saved batch 15 with shape (1000, 10000) to /home/lucas-nunes/workspace/Postech/challenges/5_data/data/gold/talent_pool_vector_fixed_batch_15.parquet\n",
      "Completed batch 15 (rows 15000 to 16000)\n",
      "Saved batch 16 with shape (1000, 10000) to /home/lucas-nunes/workspace/Postech/challenges/5_data/data/gold/talent_pool_vector_fixed_batch_16.parquet\n",
      "Completed batch 16 (rows 16000 to 17000)\n",
      "Saved batch 16 with shape (1000, 10000) to /home/lucas-nunes/workspace/Postech/challenges/5_data/data/gold/talent_pool_vector_fixed_batch_16.parquet\n",
      "Completed batch 16 (rows 16000 to 17000)\n",
      "Saved batch 17 with shape (1000, 10000) to /home/lucas-nunes/workspace/Postech/challenges/5_data/data/gold/talent_pool_vector_fixed_batch_17.parquet\n",
      "Completed batch 17 (rows 17000 to 18000)\n",
      "Saved batch 17 with shape (1000, 10000) to /home/lucas-nunes/workspace/Postech/challenges/5_data/data/gold/talent_pool_vector_fixed_batch_17.parquet\n",
      "Completed batch 17 (rows 17000 to 18000)\n",
      "Saved batch 18 with shape (1000, 10000) to /home/lucas-nunes/workspace/Postech/challenges/5_data/data/gold/talent_pool_vector_fixed_batch_18.parquet\n",
      "Completed batch 18 (rows 18000 to 19000)\n",
      "Saved batch 18 with shape (1000, 10000) to /home/lucas-nunes/workspace/Postech/challenges/5_data/data/gold/talent_pool_vector_fixed_batch_18.parquet\n",
      "Completed batch 18 (rows 18000 to 19000)\n",
      "Saved batch 19 with shape (1000, 10000) to /home/lucas-nunes/workspace/Postech/challenges/5_data/data/gold/talent_pool_vector_fixed_batch_19.parquet\n",
      "Completed batch 19 (rows 19000 to 20000)\n",
      "Saved batch 19 with shape (1000, 10000) to /home/lucas-nunes/workspace/Postech/challenges/5_data/data/gold/talent_pool_vector_fixed_batch_19.parquet\n",
      "Completed batch 19 (rows 19000 to 20000)\n",
      "Saved batch 20 with shape (1000, 10000) to /home/lucas-nunes/workspace/Postech/challenges/5_data/data/gold/talent_pool_vector_fixed_batch_20.parquet\n",
      "Completed batch 20 (rows 20000 to 21000)\n",
      "Saved batch 20 with shape (1000, 10000) to /home/lucas-nunes/workspace/Postech/challenges/5_data/data/gold/talent_pool_vector_fixed_batch_20.parquet\n",
      "Completed batch 20 (rows 20000 to 21000)\n",
      "Saved batch 21 with shape (1000, 10000) to /home/lucas-nunes/workspace/Postech/challenges/5_data/data/gold/talent_pool_vector_fixed_batch_21.parquet\n",
      "Completed batch 21 (rows 21000 to 22000)\n",
      "Saved batch 21 with shape (1000, 10000) to /home/lucas-nunes/workspace/Postech/challenges/5_data/data/gold/talent_pool_vector_fixed_batch_21.parquet\n",
      "Completed batch 21 (rows 21000 to 22000)\n",
      "Saved batch 22 with shape (1000, 10000) to /home/lucas-nunes/workspace/Postech/challenges/5_data/data/gold/talent_pool_vector_fixed_batch_22.parquet\n",
      "Completed batch 22 (rows 22000 to 23000)\n",
      "Saved batch 22 with shape (1000, 10000) to /home/lucas-nunes/workspace/Postech/challenges/5_data/data/gold/talent_pool_vector_fixed_batch_22.parquet\n",
      "Completed batch 22 (rows 22000 to 23000)\n",
      "Saved batch 23 with shape (1000, 10000) to /home/lucas-nunes/workspace/Postech/challenges/5_data/data/gold/talent_pool_vector_fixed_batch_23.parquet\n",
      "Completed batch 23 (rows 23000 to 24000)\n",
      "Saved batch 23 with shape (1000, 10000) to /home/lucas-nunes/workspace/Postech/challenges/5_data/data/gold/talent_pool_vector_fixed_batch_23.parquet\n",
      "Completed batch 23 (rows 23000 to 24000)\n",
      "Saved batch 24 with shape (1000, 10000) to /home/lucas-nunes/workspace/Postech/challenges/5_data/data/gold/talent_pool_vector_fixed_batch_24.parquet\n",
      "Completed batch 24 (rows 24000 to 25000)\n",
      "Saved batch 24 with shape (1000, 10000) to /home/lucas-nunes/workspace/Postech/challenges/5_data/data/gold/talent_pool_vector_fixed_batch_24.parquet\n",
      "Completed batch 24 (rows 24000 to 25000)\n",
      "Saved batch 25 with shape (1000, 10000) to /home/lucas-nunes/workspace/Postech/challenges/5_data/data/gold/talent_pool_vector_fixed_batch_25.parquet\n",
      "Completed batch 25 (rows 25000 to 26000)\n",
      "Saved batch 25 with shape (1000, 10000) to /home/lucas-nunes/workspace/Postech/challenges/5_data/data/gold/talent_pool_vector_fixed_batch_25.parquet\n",
      "Completed batch 25 (rows 25000 to 26000)\n",
      "Saved batch 26 with shape (1000, 10000) to /home/lucas-nunes/workspace/Postech/challenges/5_data/data/gold/talent_pool_vector_fixed_batch_26.parquet\n",
      "Completed batch 26 (rows 26000 to 27000)\n",
      "Saved batch 26 with shape (1000, 10000) to /home/lucas-nunes/workspace/Postech/challenges/5_data/data/gold/talent_pool_vector_fixed_batch_26.parquet\n",
      "Completed batch 26 (rows 26000 to 27000)\n",
      "Saved batch 27 with shape (1000, 10000) to /home/lucas-nunes/workspace/Postech/challenges/5_data/data/gold/talent_pool_vector_fixed_batch_27.parquet\n",
      "Completed batch 27 (rows 27000 to 28000)\n",
      "Saved batch 27 with shape (1000, 10000) to /home/lucas-nunes/workspace/Postech/challenges/5_data/data/gold/talent_pool_vector_fixed_batch_27.parquet\n",
      "Completed batch 27 (rows 27000 to 28000)\n",
      "Saved batch 28 with shape (1000, 10000) to /home/lucas-nunes/workspace/Postech/challenges/5_data/data/gold/talent_pool_vector_fixed_batch_28.parquet\n",
      "Completed batch 28 (rows 28000 to 29000)\n",
      "Saved batch 28 with shape (1000, 10000) to /home/lucas-nunes/workspace/Postech/challenges/5_data/data/gold/talent_pool_vector_fixed_batch_28.parquet\n",
      "Completed batch 28 (rows 28000 to 29000)\n",
      "Saved batch 29 with shape (1000, 10000) to /home/lucas-nunes/workspace/Postech/challenges/5_data/data/gold/talent_pool_vector_fixed_batch_29.parquet\n",
      "Completed batch 29 (rows 29000 to 30000)\n",
      "Saved batch 29 with shape (1000, 10000) to /home/lucas-nunes/workspace/Postech/challenges/5_data/data/gold/talent_pool_vector_fixed_batch_29.parquet\n",
      "Completed batch 29 (rows 29000 to 30000)\n",
      "Saved batch 30 with shape (1000, 10000) to /home/lucas-nunes/workspace/Postech/challenges/5_data/data/gold/talent_pool_vector_fixed_batch_30.parquet\n",
      "Completed batch 30 (rows 30000 to 31000)\n",
      "Saved batch 30 with shape (1000, 10000) to /home/lucas-nunes/workspace/Postech/challenges/5_data/data/gold/talent_pool_vector_fixed_batch_30.parquet\n",
      "Completed batch 30 (rows 30000 to 31000)\n",
      "Saved batch 31 with shape (1000, 10000) to /home/lucas-nunes/workspace/Postech/challenges/5_data/data/gold/talent_pool_vector_fixed_batch_31.parquet\n",
      "Completed batch 31 (rows 31000 to 32000)\n",
      "Saved batch 31 with shape (1000, 10000) to /home/lucas-nunes/workspace/Postech/challenges/5_data/data/gold/talent_pool_vector_fixed_batch_31.parquet\n",
      "Completed batch 31 (rows 31000 to 32000)\n",
      "Saved batch 32 with shape (1000, 10000) to /home/lucas-nunes/workspace/Postech/challenges/5_data/data/gold/talent_pool_vector_fixed_batch_32.parquet\n",
      "Completed batch 32 (rows 32000 to 33000)\n",
      "Saved batch 32 with shape (1000, 10000) to /home/lucas-nunes/workspace/Postech/challenges/5_data/data/gold/talent_pool_vector_fixed_batch_32.parquet\n",
      "Completed batch 32 (rows 32000 to 33000)\n",
      "Saved batch 33 with shape (1000, 10000) to /home/lucas-nunes/workspace/Postech/challenges/5_data/data/gold/talent_pool_vector_fixed_batch_33.parquet\n",
      "Completed batch 33 (rows 33000 to 34000)\n",
      "Saved batch 33 with shape (1000, 10000) to /home/lucas-nunes/workspace/Postech/challenges/5_data/data/gold/talent_pool_vector_fixed_batch_33.parquet\n",
      "Completed batch 33 (rows 33000 to 34000)\n",
      "Saved batch 34 with shape (1000, 10000) to /home/lucas-nunes/workspace/Postech/challenges/5_data/data/gold/talent_pool_vector_fixed_batch_34.parquet\n",
      "Completed batch 34 (rows 34000 to 35000)\n",
      "Saved batch 34 with shape (1000, 10000) to /home/lucas-nunes/workspace/Postech/challenges/5_data/data/gold/talent_pool_vector_fixed_batch_34.parquet\n",
      "Completed batch 34 (rows 34000 to 35000)\n",
      "Saved batch 35 with shape (1000, 10000) to /home/lucas-nunes/workspace/Postech/challenges/5_data/data/gold/talent_pool_vector_fixed_batch_35.parquet\n",
      "Completed batch 35 (rows 35000 to 36000)\n",
      "Saved batch 35 with shape (1000, 10000) to /home/lucas-nunes/workspace/Postech/challenges/5_data/data/gold/talent_pool_vector_fixed_batch_35.parquet\n",
      "Completed batch 35 (rows 35000 to 36000)\n",
      "Saved batch 36 with shape (1000, 10000) to /home/lucas-nunes/workspace/Postech/challenges/5_data/data/gold/talent_pool_vector_fixed_batch_36.parquet\n",
      "Completed batch 36 (rows 36000 to 37000)\n",
      "Saved batch 36 with shape (1000, 10000) to /home/lucas-nunes/workspace/Postech/challenges/5_data/data/gold/talent_pool_vector_fixed_batch_36.parquet\n",
      "Completed batch 36 (rows 36000 to 37000)\n",
      "Saved batch 37 with shape (1000, 10000) to /home/lucas-nunes/workspace/Postech/challenges/5_data/data/gold/talent_pool_vector_fixed_batch_37.parquet\n",
      "Completed batch 37 (rows 37000 to 38000)\n",
      "Saved batch 37 with shape (1000, 10000) to /home/lucas-nunes/workspace/Postech/challenges/5_data/data/gold/talent_pool_vector_fixed_batch_37.parquet\n",
      "Completed batch 37 (rows 37000 to 38000)\n",
      "Saved batch 38 with shape (1000, 10000) to /home/lucas-nunes/workspace/Postech/challenges/5_data/data/gold/talent_pool_vector_fixed_batch_38.parquet\n",
      "Completed batch 38 (rows 38000 to 39000)\n",
      "Saved batch 38 with shape (1000, 10000) to /home/lucas-nunes/workspace/Postech/challenges/5_data/data/gold/talent_pool_vector_fixed_batch_38.parquet\n",
      "Completed batch 38 (rows 38000 to 39000)\n",
      "Saved batch 39 with shape (1000, 10000) to /home/lucas-nunes/workspace/Postech/challenges/5_data/data/gold/talent_pool_vector_fixed_batch_39.parquet\n",
      "Completed batch 39 (rows 39000 to 40000)\n",
      "Saved batch 39 with shape (1000, 10000) to /home/lucas-nunes/workspace/Postech/challenges/5_data/data/gold/talent_pool_vector_fixed_batch_39.parquet\n",
      "Completed batch 39 (rows 39000 to 40000)\n",
      "Saved batch 40 with shape (1000, 10000) to /home/lucas-nunes/workspace/Postech/challenges/5_data/data/gold/talent_pool_vector_fixed_batch_40.parquet\n",
      "Completed batch 40 (rows 40000 to 41000)\n",
      "Saved batch 40 with shape (1000, 10000) to /home/lucas-nunes/workspace/Postech/challenges/5_data/data/gold/talent_pool_vector_fixed_batch_40.parquet\n",
      "Completed batch 40 (rows 40000 to 41000)\n",
      "Saved batch 41 with shape (1000, 10000) to /home/lucas-nunes/workspace/Postech/challenges/5_data/data/gold/talent_pool_vector_fixed_batch_41.parquet\n",
      "Completed batch 41 (rows 41000 to 42000)\n",
      "Saved batch 41 with shape (1000, 10000) to /home/lucas-nunes/workspace/Postech/challenges/5_data/data/gold/talent_pool_vector_fixed_batch_41.parquet\n",
      "Completed batch 41 (rows 41000 to 42000)\n",
      "Saved batch 42 with shape (482, 10000) to /home/lucas-nunes/workspace/Postech/challenges/5_data/data/gold/talent_pool_vector_fixed_batch_42.parquet\n",
      "Completed batch 42 (rows 42000 to 42482)\n",
      "\n",
      "Processed 43 batches successfully!\n",
      "All batches now have the same {len(vectorizer.vocabulary_)} features\n",
      "Saved batch 42 with shape (482, 10000) to /home/lucas-nunes/workspace/Postech/challenges/5_data/data/gold/talent_pool_vector_fixed_batch_42.parquet\n",
      "Completed batch 42 (rows 42000 to 42482)\n",
      "\n",
      "Processed 43 batches successfully!\n",
      "All batches now have the same {len(vectorizer.vocabulary_)} features\n"
     ]
    }
   ],
   "source": [
    "# FIXED APPROACH: Create a single vectorizer on all data first, then process in batches\n",
    "\n",
    "print(\"Step 1: Creating vocabulary from all data...\")\n",
    "# Fit vectorizer on ALL data to create consistent vocabulary\n",
    "vectorizer = TfidfVectorizer(\n",
    "    tokenizer=tokenizer, \n",
    "    max_features=10000,  # Limit vocabulary size to manage memory\n",
    "    min_df=2,           # Ignore terms that appear in less than 2 documents\n",
    "    max_df=0.8          # Ignore terms that appear in more than 80% of documents\n",
    ")\n",
    "\n",
    "# Fit on all data to create the vocabulary\n",
    "print(\"Fitting vectorizer on full dataset...\")\n",
    "vectorizer.fit(df_application_teste[\"cv_pt_cleaned\"].fillna(\"\"))\n",
    "\n",
    "print(f\"Vocabulary size: {len(vectorizer.vocabulary_)}\")\n",
    "print(\"Sample features:\", list(vectorizer.get_feature_names_out())[:10])\n",
    "\n",
    "def tokenize_and_vectorize_fixed(df, fitted_vectorizer, filename_prefix, batch_idx):\n",
    "    \"\"\"Transform batch using the pre-fitted vectorizer\"\"\"\n",
    "    # Transform (not fit_transform) to use existing vocabulary\n",
    "    vector_matrix = fitted_vectorizer.transform(df[\"cv_pt_cleaned\"].fillna(\"\"))\n",
    "    \n",
    "    # Convert to DataFrame with consistent column names\n",
    "    df_tfidf = pd.DataFrame(\n",
    "        vector_matrix.toarray(), \n",
    "        columns=fitted_vectorizer.get_feature_names_out(),\n",
    "        index=df.index  # Preserve original indices\n",
    "    )\n",
    "    \n",
    "    # Save batch\n",
    "    output_file = f\"{filename_prefix}_batch_{batch_idx}.parquet\"\n",
    "    df_tfidf.to_parquet(output_file)\n",
    "    print(f\"Saved batch {batch_idx} with shape {df_tfidf.shape} to {output_file}\")\n",
    "    \n",
    "    return df_tfidf\n",
    "\n",
    "# Process in batches with consistent vocabulary\n",
    "print(\"\\nStep 2: Processing batches with consistent vocabulary...\")\n",
    "batch_size = 1000\n",
    "filename_prefix = '/home/lucas-nunes/workspace/Postech/challenges/5_data/data/gold/talent_pool_vector_fixed'\n",
    "\n",
    "batch_files = []\n",
    "for i in range(0, len(df_application_teste), batch_size):\n",
    "    batch_df = df_application_teste.iloc[i:i+batch_size]\n",
    "    batch_idx = i // batch_size\n",
    "    \n",
    "    # Process batch with consistent vocabulary\n",
    "    tokenize_and_vectorize_fixed(batch_df, vectorizer, filename_prefix, batch_idx)\n",
    "    batch_files.append(f\"{filename_prefix}_batch_{batch_idx}.parquet\")\n",
    "    \n",
    "    print(f'Completed batch {batch_idx} (rows {i} to {min(i+batch_size, len(df_application_teste))})')\n",
    "\n",
    "print(f\"\\nProcessed {len(batch_files)} batches successfully!\")\n",
    "print(\"All batches now have the same {len(vectorizer.vocabulary_)} features\")"
   ]
  },
  {
   "cell_type": "code",
   "execution_count": 40,
   "metadata": {},
   "outputs": [
    {
     "name": "stdout",
     "output_type": "stream",
     "text": [
      "Combining all batches...\n",
      "Loaded batch 0: (1000, 10000)\n",
      "Loaded batch 0: (1000, 10000)\n",
      "Loaded batch 1: (1000, 10000)\n",
      "Loaded batch 1: (1000, 10000)\n",
      "Loaded batch 2: (1000, 10000)\n",
      "Loaded batch 2: (1000, 10000)\n",
      "Loaded batch 3: (1000, 10000)\n",
      "Loaded batch 3: (1000, 10000)\n",
      "Loaded batch 4: (1000, 10000)\n",
      "Loaded batch 4: (1000, 10000)\n",
      "Loaded batch 5: (1000, 10000)\n",
      "Loaded batch 5: (1000, 10000)\n",
      "Loaded batch 6: (1000, 10000)\n",
      "Loaded batch 6: (1000, 10000)\n",
      "Loaded batch 7: (1000, 10000)\n",
      "Loaded batch 7: (1000, 10000)\n",
      "Loaded batch 8: (1000, 10000)\n",
      "Loaded batch 8: (1000, 10000)\n",
      "Loaded batch 9: (1000, 10000)\n",
      "Loaded batch 9: (1000, 10000)\n",
      "Loaded batch 10: (1000, 10000)\n",
      "Loaded batch 10: (1000, 10000)\n",
      "Loaded batch 11: (1000, 10000)\n",
      "Loaded batch 11: (1000, 10000)\n",
      "Loaded batch 12: (1000, 10000)\n",
      "Loaded batch 12: (1000, 10000)\n",
      "Loaded batch 13: (1000, 10000)\n",
      "Loaded batch 13: (1000, 10000)\n",
      "Loaded batch 14: (1000, 10000)\n",
      "Loaded batch 14: (1000, 10000)\n",
      "Loaded batch 15: (1000, 10000)\n",
      "Loaded batch 15: (1000, 10000)\n",
      "Loaded batch 16: (1000, 10000)\n",
      "Loaded batch 16: (1000, 10000)\n",
      "Loaded batch 17: (1000, 10000)\n",
      "Loaded batch 17: (1000, 10000)\n",
      "Loaded batch 18: (1000, 10000)\n",
      "Loaded batch 18: (1000, 10000)\n",
      "Loaded batch 19: (1000, 10000)\n",
      "Loaded batch 19: (1000, 10000)\n",
      "Loaded batch 20: (1000, 10000)\n",
      "Loaded batch 20: (1000, 10000)\n",
      "Loaded batch 21: (1000, 10000)\n",
      "Loaded batch 21: (1000, 10000)\n",
      "Loaded batch 22: (1000, 10000)\n",
      "Loaded batch 22: (1000, 10000)\n",
      "Loaded batch 23: (1000, 10000)\n",
      "Loaded batch 23: (1000, 10000)\n",
      "Loaded batch 24: (1000, 10000)\n",
      "Loaded batch 24: (1000, 10000)\n",
      "Loaded batch 25: (1000, 10000)\n",
      "Loaded batch 25: (1000, 10000)\n",
      "Loaded batch 26: (1000, 10000)\n",
      "Loaded batch 26: (1000, 10000)\n",
      "Loaded batch 27: (1000, 10000)\n",
      "Loaded batch 27: (1000, 10000)\n",
      "Loaded batch 28: (1000, 10000)\n",
      "Loaded batch 28: (1000, 10000)\n",
      "Loaded batch 29: (1000, 10000)\n",
      "Loaded batch 29: (1000, 10000)\n",
      "Loaded batch 30: (1000, 10000)\n",
      "Loaded batch 30: (1000, 10000)\n",
      "Loaded batch 31: (1000, 10000)\n",
      "Loaded batch 31: (1000, 10000)\n",
      "Loaded batch 32: (1000, 10000)\n",
      "Loaded batch 32: (1000, 10000)\n",
      "Loaded batch 33: (1000, 10000)\n",
      "Loaded batch 33: (1000, 10000)\n",
      "Loaded batch 34: (1000, 10000)\n",
      "Loaded batch 34: (1000, 10000)\n",
      "Loaded batch 35: (1000, 10000)\n",
      "Loaded batch 35: (1000, 10000)\n",
      "Loaded batch 36: (1000, 10000)\n",
      "Loaded batch 36: (1000, 10000)\n",
      "Loaded batch 37: (1000, 10000)\n",
      "Loaded batch 37: (1000, 10000)\n",
      "Loaded batch 38: (1000, 10000)\n",
      "Loaded batch 38: (1000, 10000)\n",
      "Loaded batch 39: (1000, 10000)\n",
      "Loaded batch 39: (1000, 10000)\n",
      "Loaded batch 40: (1000, 10000)\n",
      "Loaded batch 40: (1000, 10000)\n",
      "Loaded batch 41: (1000, 10000)\n",
      "Loaded batch 41: (1000, 10000)\n",
      "Loaded batch 42: (482, 10000)\n",
      "Loaded batch 42: (482, 10000)\n",
      "Combined dataset saved: (42482, 10000) -> /home/lucas-nunes/workspace/Postech/challenges/5_data/data/gold/talent_pool_vectors_combined.parquet\n",
      "Final TF-IDF matrix shape: (42482, 10000)\n",
      "\n",
      "Step 4: Computing cosine similarity in batches...\n",
      "Computing similarity for 42482 samples in batches of 500\n",
      "Combined dataset saved: (42482, 10000) -> /home/lucas-nunes/workspace/Postech/challenges/5_data/data/gold/talent_pool_vectors_combined.parquet\n",
      "Final TF-IDF matrix shape: (42482, 10000)\n",
      "\n",
      "Step 4: Computing cosine similarity in batches...\n",
      "Computing similarity for 42482 samples in batches of 500\n",
      "Computed similarity batch 0-500: (500, 42482)\n",
      "Computed similarity batch 0-500: (500, 42482)\n",
      "Computed similarity batch 500-1000: (500, 42482)\n",
      "Computed similarity batch 500-1000: (500, 42482)\n",
      "Computed similarity batch 1000-1500: (500, 42482)\n",
      "Computed similarity batch 1000-1500: (500, 42482)\n",
      "Computed similarity batch 1500-2000: (500, 42482)\n",
      "Computed similarity batch 1500-2000: (500, 42482)\n",
      "Computed similarity batch 2000-2500: (500, 42482)\n",
      "Computed similarity batch 2000-2500: (500, 42482)\n"
     ]
    },
    {
     "ename": "KeyboardInterrupt",
     "evalue": "",
     "output_type": "error",
     "traceback": [
      "\u001b[31m---------------------------------------------------------------------------\u001b[39m",
      "\u001b[31mKeyboardInterrupt\u001b[39m                         Traceback (most recent call last)",
      "\u001b[36mCell\u001b[39m\u001b[36m \u001b[39m\u001b[32mIn[40]\u001b[39m\u001b[32m, line 57\u001b[39m\n\u001b[32m     55\u001b[39m \u001b[38;5;66;03m# Compute similarity in manageable batches\u001b[39;00m\n\u001b[32m     56\u001b[39m \u001b[38;5;28mprint\u001b[39m(\u001b[33m\"\u001b[39m\u001b[38;5;130;01m\\n\u001b[39;00m\u001b[33mStep 4: Computing cosine similarity in batches...\u001b[39m\u001b[33m\"\u001b[39m)\n\u001b[32m---> \u001b[39m\u001b[32m57\u001b[39m similarity_files = \u001b[43mcompute_similarity_batched\u001b[49m\u001b[43m(\u001b[49m\u001b[43mdf_tfidf_combined\u001b[49m\u001b[43m,\u001b[49m\u001b[43m \u001b[49m\u001b[43mbatch_size_sim\u001b[49m\u001b[43m=\u001b[49m\u001b[32;43m500\u001b[39;49m\u001b[43m)\u001b[49m\n",
      "\u001b[36mCell\u001b[39m\u001b[36m \u001b[39m\u001b[32mIn[40]\u001b[39m\u001b[32m, line 44\u001b[39m, in \u001b[36mcompute_similarity_batched\u001b[39m\u001b[34m(df_tfidf, batch_size_sim, output_prefix)\u001b[39m\n\u001b[32m     41\u001b[39m batch_data = df_tfidf.iloc[i:batch_end]\n\u001b[32m     43\u001b[39m \u001b[38;5;66;03m# Compute similarity between this batch and ALL data\u001b[39;00m\n\u001b[32m---> \u001b[39m\u001b[32m44\u001b[39m batch_similarity = \u001b[43mcosine_similarity\u001b[49m\u001b[43m(\u001b[49m\u001b[43mbatch_data\u001b[49m\u001b[43m,\u001b[49m\u001b[43m \u001b[49m\u001b[43mdf_tfidf\u001b[49m\u001b[43m)\u001b[49m\n\u001b[32m     46\u001b[39m \u001b[38;5;66;03m# Save batch similarity\u001b[39;00m\n\u001b[32m     47\u001b[39m batch_file = \u001b[33mf\u001b[39m\u001b[33m'\u001b[39m\u001b[33m/home/lucas-nunes/workspace/Postech/challenges/5_data/data/gold/\u001b[39m\u001b[38;5;132;01m{\u001b[39;00moutput_prefix\u001b[38;5;132;01m}\u001b[39;00m\u001b[33m_\u001b[39m\u001b[38;5;132;01m{\u001b[39;00mi\u001b[38;5;132;01m}\u001b[39;00m\u001b[33m_\u001b[39m\u001b[38;5;132;01m{\u001b[39;00mbatch_end\u001b[38;5;132;01m}\u001b[39;00m\u001b[33m.npy\u001b[39m\u001b[33m'\u001b[39m\n",
      "\u001b[36mFile \u001b[39m\u001b[32m~/workspace/Postech/.venv/lib/python3.12/site-packages/sklearn/utils/_param_validation.py:218\u001b[39m, in \u001b[36mvalidate_params.<locals>.decorator.<locals>.wrapper\u001b[39m\u001b[34m(*args, **kwargs)\u001b[39m\n\u001b[32m    212\u001b[39m \u001b[38;5;28;01mtry\u001b[39;00m:\n\u001b[32m    213\u001b[39m     \u001b[38;5;28;01mwith\u001b[39;00m config_context(\n\u001b[32m    214\u001b[39m         skip_parameter_validation=(\n\u001b[32m    215\u001b[39m             prefer_skip_nested_validation \u001b[38;5;129;01mor\u001b[39;00m global_skip_validation\n\u001b[32m    216\u001b[39m         )\n\u001b[32m    217\u001b[39m     ):\n\u001b[32m--> \u001b[39m\u001b[32m218\u001b[39m         \u001b[38;5;28;01mreturn\u001b[39;00m \u001b[43mfunc\u001b[49m\u001b[43m(\u001b[49m\u001b[43m*\u001b[49m\u001b[43margs\u001b[49m\u001b[43m,\u001b[49m\u001b[43m \u001b[49m\u001b[43m*\u001b[49m\u001b[43m*\u001b[49m\u001b[43mkwargs\u001b[49m\u001b[43m)\u001b[49m\n\u001b[32m    219\u001b[39m \u001b[38;5;28;01mexcept\u001b[39;00m InvalidParameterError \u001b[38;5;28;01mas\u001b[39;00m e:\n\u001b[32m    220\u001b[39m     \u001b[38;5;66;03m# When the function is just a wrapper around an estimator, we allow\u001b[39;00m\n\u001b[32m    221\u001b[39m     \u001b[38;5;66;03m# the function to delegate validation to the estimator, but we replace\u001b[39;00m\n\u001b[32m    222\u001b[39m     \u001b[38;5;66;03m# the name of the estimator by the name of the function in the error\u001b[39;00m\n\u001b[32m    223\u001b[39m     \u001b[38;5;66;03m# message to avoid confusion.\u001b[39;00m\n\u001b[32m    224\u001b[39m     msg = re.sub(\n\u001b[32m    225\u001b[39m         \u001b[33mr\u001b[39m\u001b[33m\"\u001b[39m\u001b[33mparameter of \u001b[39m\u001b[33m\\\u001b[39m\u001b[33mw+ must be\u001b[39m\u001b[33m\"\u001b[39m,\n\u001b[32m    226\u001b[39m         \u001b[33mf\u001b[39m\u001b[33m\"\u001b[39m\u001b[33mparameter of \u001b[39m\u001b[38;5;132;01m{\u001b[39;00mfunc.\u001b[34m__qualname__\u001b[39m\u001b[38;5;132;01m}\u001b[39;00m\u001b[33m must be\u001b[39m\u001b[33m\"\u001b[39m,\n\u001b[32m    227\u001b[39m         \u001b[38;5;28mstr\u001b[39m(e),\n\u001b[32m    228\u001b[39m     )\n",
      "\u001b[36mFile \u001b[39m\u001b[32m~/workspace/Postech/.venv/lib/python3.12/site-packages/sklearn/metrics/pairwise.py:1728\u001b[39m, in \u001b[36mcosine_similarity\u001b[39m\u001b[34m(X, Y, dense_output)\u001b[39m\n\u001b[32m   1675\u001b[39m \u001b[38;5;129m@validate_params\u001b[39m(\n\u001b[32m   1676\u001b[39m     {\n\u001b[32m   1677\u001b[39m         \u001b[33m\"\u001b[39m\u001b[33mX\u001b[39m\u001b[33m\"\u001b[39m: [\u001b[33m\"\u001b[39m\u001b[33marray-like\u001b[39m\u001b[33m\"\u001b[39m, \u001b[33m\"\u001b[39m\u001b[33msparse matrix\u001b[39m\u001b[33m\"\u001b[39m],\n\u001b[32m   (...)\u001b[39m\u001b[32m   1682\u001b[39m )\n\u001b[32m   1683\u001b[39m \u001b[38;5;28;01mdef\u001b[39;00m\u001b[38;5;250m \u001b[39m\u001b[34mcosine_similarity\u001b[39m(X, Y=\u001b[38;5;28;01mNone\u001b[39;00m, dense_output=\u001b[38;5;28;01mTrue\u001b[39;00m):\n\u001b[32m   1684\u001b[39m \u001b[38;5;250m    \u001b[39m\u001b[33;03m\"\"\"Compute cosine similarity between samples in X and Y.\u001b[39;00m\n\u001b[32m   1685\u001b[39m \n\u001b[32m   1686\u001b[39m \u001b[33;03m    Cosine similarity, or the cosine kernel, computes similarity as the\u001b[39;00m\n\u001b[32m   (...)\u001b[39m\u001b[32m   1726\u001b[39m \u001b[33;03m           [0.577, 0.816]])\u001b[39;00m\n\u001b[32m   1727\u001b[39m \u001b[33;03m    \"\"\"\u001b[39;00m\n\u001b[32m-> \u001b[39m\u001b[32m1728\u001b[39m     X, Y = \u001b[43mcheck_pairwise_arrays\u001b[49m\u001b[43m(\u001b[49m\u001b[43mX\u001b[49m\u001b[43m,\u001b[49m\u001b[43m \u001b[49m\u001b[43mY\u001b[49m\u001b[43m)\u001b[49m\n\u001b[32m   1730\u001b[39m     X_normalized = normalize(X, copy=\u001b[38;5;28;01mTrue\u001b[39;00m)\n\u001b[32m   1731\u001b[39m     \u001b[38;5;28;01mif\u001b[39;00m X \u001b[38;5;129;01mis\u001b[39;00m Y:\n",
      "\u001b[36mFile \u001b[39m\u001b[32m~/workspace/Postech/.venv/lib/python3.12/site-packages/sklearn/metrics/pairwise.py:209\u001b[39m, in \u001b[36mcheck_pairwise_arrays\u001b[39m\u001b[34m(X, Y, precomputed, dtype, accept_sparse, force_all_finite, ensure_all_finite, ensure_2d, copy)\u001b[39m\n\u001b[32m    199\u001b[39m \u001b[38;5;28;01melse\u001b[39;00m:\n\u001b[32m    200\u001b[39m     X = check_array(\n\u001b[32m    201\u001b[39m         X,\n\u001b[32m    202\u001b[39m         accept_sparse=accept_sparse,\n\u001b[32m   (...)\u001b[39m\u001b[32m    207\u001b[39m         ensure_2d=ensure_2d,\n\u001b[32m    208\u001b[39m     )\n\u001b[32m--> \u001b[39m\u001b[32m209\u001b[39m     Y = \u001b[43mcheck_array\u001b[49m\u001b[43m(\u001b[49m\n\u001b[32m    210\u001b[39m \u001b[43m        \u001b[49m\u001b[43mY\u001b[49m\u001b[43m,\u001b[49m\n\u001b[32m    211\u001b[39m \u001b[43m        \u001b[49m\u001b[43maccept_sparse\u001b[49m\u001b[43m=\u001b[49m\u001b[43maccept_sparse\u001b[49m\u001b[43m,\u001b[49m\n\u001b[32m    212\u001b[39m \u001b[43m        \u001b[49m\u001b[43mdtype\u001b[49m\u001b[43m=\u001b[49m\u001b[43mdtype\u001b[49m\u001b[43m,\u001b[49m\n\u001b[32m    213\u001b[39m \u001b[43m        \u001b[49m\u001b[43mcopy\u001b[49m\u001b[43m=\u001b[49m\u001b[43mcopy\u001b[49m\u001b[43m,\u001b[49m\n\u001b[32m    214\u001b[39m \u001b[43m        \u001b[49m\u001b[43mensure_all_finite\u001b[49m\u001b[43m=\u001b[49m\u001b[43mensure_all_finite\u001b[49m\u001b[43m,\u001b[49m\n\u001b[32m    215\u001b[39m \u001b[43m        \u001b[49m\u001b[43mestimator\u001b[49m\u001b[43m=\u001b[49m\u001b[43mestimator\u001b[49m\u001b[43m,\u001b[49m\n\u001b[32m    216\u001b[39m \u001b[43m        \u001b[49m\u001b[43mensure_2d\u001b[49m\u001b[43m=\u001b[49m\u001b[43mensure_2d\u001b[49m\u001b[43m,\u001b[49m\n\u001b[32m    217\u001b[39m \u001b[43m    \u001b[49m\u001b[43m)\u001b[49m\n\u001b[32m    219\u001b[39m \u001b[38;5;28;01mif\u001b[39;00m precomputed:\n\u001b[32m    220\u001b[39m     \u001b[38;5;28;01mif\u001b[39;00m X.shape[\u001b[32m1\u001b[39m] != Y.shape[\u001b[32m0\u001b[39m]:\n",
      "\u001b[36mFile \u001b[39m\u001b[32m~/workspace/Postech/.venv/lib/python3.12/site-packages/sklearn/utils/validation.py:1105\u001b[39m, in \u001b[36mcheck_array\u001b[39m\u001b[34m(array, accept_sparse, accept_large_sparse, dtype, order, copy, force_writeable, force_all_finite, ensure_all_finite, ensure_non_negative, ensure_2d, allow_nd, ensure_min_samples, ensure_min_features, estimator, input_name)\u001b[39m\n\u001b[32m   1099\u001b[39m     \u001b[38;5;28;01mraise\u001b[39;00m \u001b[38;5;167;01mValueError\u001b[39;00m(\n\u001b[32m   1100\u001b[39m         \u001b[33mf\u001b[39m\u001b[33m\"\u001b[39m\u001b[33mFound array with dim \u001b[39m\u001b[38;5;132;01m{\u001b[39;00marray.ndim\u001b[38;5;132;01m}\u001b[39;00m\u001b[33m,\u001b[39m\u001b[33m\"\u001b[39m\n\u001b[32m   1101\u001b[39m         \u001b[33mf\u001b[39m\u001b[33m\"\u001b[39m\u001b[33m while dim <= 2 is required\u001b[39m\u001b[38;5;132;01m{\u001b[39;00mcontext\u001b[38;5;132;01m}\u001b[39;00m\u001b[33m.\u001b[39m\u001b[33m\"\u001b[39m\n\u001b[32m   1102\u001b[39m     )\n\u001b[32m   1104\u001b[39m \u001b[38;5;28;01mif\u001b[39;00m ensure_all_finite:\n\u001b[32m-> \u001b[39m\u001b[32m1105\u001b[39m     \u001b[43m_assert_all_finite\u001b[49m\u001b[43m(\u001b[49m\n\u001b[32m   1106\u001b[39m \u001b[43m        \u001b[49m\u001b[43marray\u001b[49m\u001b[43m,\u001b[49m\n\u001b[32m   1107\u001b[39m \u001b[43m        \u001b[49m\u001b[43minput_name\u001b[49m\u001b[43m=\u001b[49m\u001b[43minput_name\u001b[49m\u001b[43m,\u001b[49m\n\u001b[32m   1108\u001b[39m \u001b[43m        \u001b[49m\u001b[43mestimator_name\u001b[49m\u001b[43m=\u001b[49m\u001b[43mestimator_name\u001b[49m\u001b[43m,\u001b[49m\n\u001b[32m   1109\u001b[39m \u001b[43m        \u001b[49m\u001b[43mallow_nan\u001b[49m\u001b[43m=\u001b[49m\u001b[43mensure_all_finite\u001b[49m\u001b[43m \u001b[49m\u001b[43m==\u001b[49m\u001b[43m \u001b[49m\u001b[33;43m\"\u001b[39;49m\u001b[33;43mallow-nan\u001b[39;49m\u001b[33;43m\"\u001b[39;49m\u001b[43m,\u001b[49m\n\u001b[32m   1110\u001b[39m \u001b[43m    \u001b[49m\u001b[43m)\u001b[49m\n\u001b[32m   1112\u001b[39m \u001b[38;5;28;01mif\u001b[39;00m copy:\n\u001b[32m   1113\u001b[39m     \u001b[38;5;28;01mif\u001b[39;00m _is_numpy_namespace(xp):\n\u001b[32m   1114\u001b[39m         \u001b[38;5;66;03m# only make a copy if `array` and `array_orig` may share memory`\u001b[39;00m\n",
      "\u001b[36mFile \u001b[39m\u001b[32m~/workspace/Postech/.venv/lib/python3.12/site-packages/sklearn/utils/validation.py:116\u001b[39m, in \u001b[36m_assert_all_finite\u001b[39m\u001b[34m(X, allow_nan, msg_dtype, estimator_name, input_name)\u001b[39m\n\u001b[32m    111\u001b[39m \u001b[38;5;66;03m# First try an O(n) time, O(1) space solution for the common case that\u001b[39;00m\n\u001b[32m    112\u001b[39m \u001b[38;5;66;03m# everything is finite; fall back to O(n) space `np.isinf/isnan` or custom\u001b[39;00m\n\u001b[32m    113\u001b[39m \u001b[38;5;66;03m# Cython implementation to prevent false positives and provide a detailed\u001b[39;00m\n\u001b[32m    114\u001b[39m \u001b[38;5;66;03m# error message.\u001b[39;00m\n\u001b[32m    115\u001b[39m \u001b[38;5;28;01mwith\u001b[39;00m np.errstate(over=\u001b[33m\"\u001b[39m\u001b[33mignore\u001b[39m\u001b[33m\"\u001b[39m):\n\u001b[32m--> \u001b[39m\u001b[32m116\u001b[39m     first_pass_isfinite = xp.isfinite(\u001b[43mxp\u001b[49m\u001b[43m.\u001b[49m\u001b[43msum\u001b[49m\u001b[43m(\u001b[49m\u001b[43mX\u001b[49m\u001b[43m)\u001b[49m)\n\u001b[32m    117\u001b[39m \u001b[38;5;28;01mif\u001b[39;00m first_pass_isfinite:\n\u001b[32m    118\u001b[39m     \u001b[38;5;28;01mreturn\u001b[39;00m\n",
      "\u001b[36mFile \u001b[39m\u001b[32m~/workspace/Postech/.venv/lib/python3.12/site-packages/numpy/_core/fromnumeric.py:2466\u001b[39m, in \u001b[36msum\u001b[39m\u001b[34m(a, axis, dtype, out, keepdims, initial, where)\u001b[39m\n\u001b[32m   2463\u001b[39m         \u001b[38;5;28;01mreturn\u001b[39;00m out\n\u001b[32m   2464\u001b[39m     \u001b[38;5;28;01mreturn\u001b[39;00m res\n\u001b[32m-> \u001b[39m\u001b[32m2466\u001b[39m \u001b[38;5;28;01mreturn\u001b[39;00m \u001b[43m_wrapreduction\u001b[49m\u001b[43m(\u001b[49m\n\u001b[32m   2467\u001b[39m \u001b[43m    \u001b[49m\u001b[43ma\u001b[49m\u001b[43m,\u001b[49m\u001b[43m \u001b[49m\u001b[43mnp\u001b[49m\u001b[43m.\u001b[49m\u001b[43madd\u001b[49m\u001b[43m,\u001b[49m\u001b[43m \u001b[49m\u001b[33;43m'\u001b[39;49m\u001b[33;43msum\u001b[39;49m\u001b[33;43m'\u001b[39;49m\u001b[43m,\u001b[49m\u001b[43m \u001b[49m\u001b[43maxis\u001b[49m\u001b[43m,\u001b[49m\u001b[43m \u001b[49m\u001b[43mdtype\u001b[49m\u001b[43m,\u001b[49m\u001b[43m \u001b[49m\u001b[43mout\u001b[49m\u001b[43m,\u001b[49m\n\u001b[32m   2468\u001b[39m \u001b[43m    \u001b[49m\u001b[43mkeepdims\u001b[49m\u001b[43m=\u001b[49m\u001b[43mkeepdims\u001b[49m\u001b[43m,\u001b[49m\u001b[43m \u001b[49m\u001b[43minitial\u001b[49m\u001b[43m=\u001b[49m\u001b[43minitial\u001b[49m\u001b[43m,\u001b[49m\u001b[43m \u001b[49m\u001b[43mwhere\u001b[49m\u001b[43m=\u001b[49m\u001b[43mwhere\u001b[49m\n\u001b[32m   2469\u001b[39m \u001b[43m\u001b[49m\u001b[43m)\u001b[49m\n",
      "\u001b[36mFile \u001b[39m\u001b[32m~/workspace/Postech/.venv/lib/python3.12/site-packages/numpy/_core/fromnumeric.py:86\u001b[39m, in \u001b[36m_wrapreduction\u001b[39m\u001b[34m(obj, ufunc, method, axis, dtype, out, **kwargs)\u001b[39m\n\u001b[32m     83\u001b[39m         \u001b[38;5;28;01melse\u001b[39;00m:\n\u001b[32m     84\u001b[39m             \u001b[38;5;28;01mreturn\u001b[39;00m reduction(axis=axis, out=out, **passkwargs)\n\u001b[32m---> \u001b[39m\u001b[32m86\u001b[39m \u001b[38;5;28;01mreturn\u001b[39;00m \u001b[43mufunc\u001b[49m\u001b[43m.\u001b[49m\u001b[43mreduce\u001b[49m\u001b[43m(\u001b[49m\u001b[43mobj\u001b[49m\u001b[43m,\u001b[49m\u001b[43m \u001b[49m\u001b[43maxis\u001b[49m\u001b[43m,\u001b[49m\u001b[43m \u001b[49m\u001b[43mdtype\u001b[49m\u001b[43m,\u001b[49m\u001b[43m \u001b[49m\u001b[43mout\u001b[49m\u001b[43m,\u001b[49m\u001b[43m \u001b[49m\u001b[43m*\u001b[49m\u001b[43m*\u001b[49m\u001b[43mpasskwargs\u001b[49m\u001b[43m)\u001b[49m\n",
      "\u001b[31mKeyboardInterrupt\u001b[39m: "
     ]
    }
   ],
   "source": [
    "# Step 3: Combine all batches efficiently\n",
    "def combine_vector_batches(batch_files, output_file):\n",
    "    \"\"\"Combine all batch files into a single file efficiently\"\"\"\n",
    "    print(\"Combining all batches...\")\n",
    "    \n",
    "    combined_dfs = []\n",
    "    for i, file in enumerate(batch_files):\n",
    "        df_batch = pd.read_parquet(file)\n",
    "        combined_dfs.append(df_batch)\n",
    "        print(f\"Loaded batch {i}: {df_batch.shape}\")\n",
    "    \n",
    "    # Combine all batches\n",
    "    df_combined = pd.concat(combined_dfs, ignore_index=False)  # Keep original indices\n",
    "    \n",
    "    # Save combined result\n",
    "    df_combined.to_parquet(output_file)\n",
    "    print(f\"Combined dataset saved: {df_combined.shape} -> {output_file}\")\n",
    "    \n",
    "    return df_combined\n",
    "\n",
    "# Combine all batches\n",
    "combined_output_file = '/home/lucas-nunes/workspace/Postech/challenges/5_data/data/gold/talent_pool_vectors_combined.parquet'\n",
    "df_tfidf_combined = combine_vector_batches(batch_files, combined_output_file)\n",
    "\n",
    "print(f\"Final TF-IDF matrix shape: {df_tfidf_combined.shape}\")\n",
    "\n",
    "# Step 4: Efficient similarity computation for large datasets\n",
    "def compute_similarity_batched(df_tfidf, batch_size_sim=500, output_prefix='similarity_batch'):\n",
    "    \"\"\"Compute cosine similarity in batches to handle large datasets\"\"\"\n",
    "    from sklearn.metrics.pairwise import cosine_similarity\n",
    "    import numpy as np\n",
    "    \n",
    "    n_samples = len(df_tfidf)\n",
    "    print(f\"Computing similarity for {n_samples} samples in batches of {batch_size_sim}\")\n",
    "    \n",
    "    # Create similarity matrix in batches to manage memory\n",
    "    similarity_files = []\n",
    "    \n",
    "    for i in range(0, n_samples, batch_size_sim):\n",
    "        batch_end = min(i + batch_size_sim, n_samples)\n",
    "        batch_data = df_tfidf.iloc[i:batch_end]\n",
    "        \n",
    "        # Compute similarity between this batch and ALL data\n",
    "        batch_similarity = cosine_similarity(batch_data, df_tfidf)\n",
    "        \n",
    "        # Save batch similarity\n",
    "        batch_file = f'/home/lucas-nunes/workspace/Postech/challenges/5_data/data/gold/{output_prefix}_{i}_{batch_end}.npy'\n",
    "        np.save(batch_file, batch_similarity)\n",
    "        similarity_files.append(batch_file)\n",
    "        \n",
    "        print(f\"Computed similarity batch {i}-{batch_end}: {batch_similarity.shape}\")\n",
    "    \n",
    "    return similarity_files\n",
    "\n",
    "# Compute similarity in manageable batches\n",
    "print(\"\\nStep 4: Computing cosine similarity in batches...\")\n",
    "similarity_files = compute_similarity_batched(df_tfidf_combined, batch_size_sim=500)"
   ]
  },
  {
   "cell_type": "code",
   "execution_count": null,
   "metadata": {},
   "outputs": [],
   "source": [
    "# Step 5: Efficient Recommendation System\n",
    "class TalentRecommendationSystem:\n",
    "    def __init__(self, df_tfidf, df_application_original, vectorizer):\n",
    "        self.df_tfidf = df_tfidf\n",
    "        self.df_application = df_application_original\n",
    "        self.vectorizer = vectorizer\n",
    "        self.similarity_cache = {}\n",
    "        \n",
    "    def get_similar_candidates(self, candidate_idx, top_n=10, similarity_threshold=0.1):\n",
    "        \"\"\"Get most similar candidates for a given candidate\"\"\"\n",
    "        from sklearn.metrics.pairwise import cosine_similarity\n",
    "        \n",
    "        # Get the TF-IDF vector for the candidate\n",
    "        candidate_vector = self.df_tfidf.iloc[candidate_idx:candidate_idx+1]\n",
    "        \n",
    "        # Compute similarity with all candidates\n",
    "        similarities = cosine_similarity(candidate_vector, self.df_tfidf)[0]\n",
    "        \n",
    "        # Get indices of most similar candidates (excluding self)\n",
    "        similar_indices = np.argsort(similarities)[::-1][1:top_n+1]  # Exclude self (index 0)\n",
    "        similar_scores = similarities[similar_indices]\n",
    "        \n",
    "        # Filter by threshold\n",
    "        valid_mask = similar_scores >= similarity_threshold\n",
    "        similar_indices = similar_indices[valid_mask]\n",
    "        similar_scores = similar_scores[valid_mask]\n",
    "        \n",
    "        # Create results\n",
    "        results = []\n",
    "        for idx, score in zip(similar_indices, similar_scores):\n",
    "            candidate_info = {\n",
    "                'index': int(idx),\n",
    "                'similarity_score': float(score),\n",
    "                'nivel_profissional': self.df_application.iloc[idx].get('nivel_profissional', 'N/A'),\n",
    "                'area_atuacao': self.df_application.iloc[idx].get('area_atuacao', 'N/A'),\n",
    "                'nivel_academico': self.df_application.iloc[idx].get('nivel_academico', 'N/A'),\n",
    "                'conhecimentos_preview': str(self.df_application.iloc[idx].get('cv_pt_cleaned', ''))[:200] + '...'\n",
    "            }\n",
    "            results.append(candidate_info)\n",
    "            \n",
    "        return results\n",
    "    \n",
    "    def recommend_for_job_description(self, job_description, top_n=10):\n",
    "        \"\"\"Find candidates similar to a job description\"\"\"\n",
    "        from sklearn.metrics.pairwise import cosine_similarity\n",
    "        \n",
    "        # Vectorize the job description using the same vectorizer\n",
    "        job_vector = self.vectorizer.transform([job_description])\n",
    "        \n",
    "        # Compute similarity with all candidates\n",
    "        similarities = cosine_similarity(job_vector, self.df_tfidf)[0]\n",
    "        \n",
    "        # Get top candidates\n",
    "        top_indices = np.argsort(similarities)[::-1][:top_n]\n",
    "        top_scores = similarities[top_indices]\n",
    "        \n",
    "        # Create results\n",
    "        results = []\n",
    "        for idx, score in zip(top_indices, top_scores):\n",
    "            candidate_info = {\n",
    "                'index': int(idx),\n",
    "                'match_score': float(score),\n",
    "                'nivel_profissional': self.df_application.iloc[idx].get('nivel_profissional', 'N/A'),\n",
    "                'area_atuacao': self.df_application.iloc[idx].get('area_atuacao', 'N/A'),\n",
    "                'nivel_academico': self.df_application.iloc[idx].get('nivel_academico', 'N/A'),\n",
    "                'conhecimentos_preview': str(self.df_application.iloc[idx].get('cv_pt_cleaned', ''))[:200] + '...'\n",
    "            }\n",
    "            results.append(candidate_info)\n",
    "            \n",
    "        return results\n",
    "\n",
    "# Initialize the recommendation system\n",
    "print(\"Initializing Talent Recommendation System...\")\n",
    "talent_recommender = TalentRecommendationSystem(\n",
    "    df_tfidf_combined, \n",
    "    df_application_teste, \n",
    "    vectorizer\n",
    ")\n",
    "\n",
    "print(\"✅ Recommendation system ready!\")\n",
    "print(f\"Loaded {len(df_tfidf_combined)} candidate profiles\")\n",
    "print(f\"Vocabulary size: {len(vectorizer.vocabulary_)} features\")"
   ]
  },
  {
   "cell_type": "code",
   "execution_count": null,
   "metadata": {},
   "outputs": [],
   "source": [
    "# Step 6: Test the Recommendation System\n",
    "\n",
    "print(\"=\"*60)\n",
    "print(\"TESTING TALENT RECOMMENDATION SYSTEM\")\n",
    "print(\"=\"*60)\n",
    "\n",
    "# Test 1: Find similar candidates to a specific candidate\n",
    "print(\"\\n🔍 TEST 1: Find Similar Candidates\")\n",
    "test_candidate_idx = 100  # Example candidate\n",
    "similar_candidates = talent_recommender.get_similar_candidates(\n",
    "    test_candidate_idx, \n",
    "    top_n=5, \n",
    "    similarity_threshold=0.1\n",
    ")\n",
    "\n",
    "print(f\"\\nTop 5 candidates similar to candidate #{test_candidate_idx}:\")\n",
    "for i, candidate in enumerate(similar_candidates, 1):\n",
    "    print(f\"\\n{i}. Similarity: {candidate['similarity_score']:.3f}\")\n",
    "    print(f\"   Level: {candidate['nivel_profissional']}\")\n",
    "    print(f\"   Area: {candidate['area_atuacao']}\")\n",
    "    print(f\"   Education: {candidate['nivel_academico']}\")\n",
    "    print(f\"   Preview: {candidate['conhecimentos_preview'][:100]}...\")\n",
    "\n",
    "# Test 2: Find candidates for a job description\n",
    "print(f\"\\n{'='*60}\")\n",
    "print(\"🎯 TEST 2: Job Matching\")\n",
    "job_description = \"\"\"\n",
    "Procuramos um desenvolvedor Python sênior com experiência em:\n",
    "- Desenvolvimento web com Django ou Flask\n",
    "- Bancos de dados PostgreSQL e MongoDB\n",
    "- APIs REST e microserviços\n",
    "- Docker e Kubernetes\n",
    "- Machine Learning com scikit-learn\n",
    "- Experiência com AWS ou Azure\n",
    "\"\"\"\n",
    "\n",
    "matching_candidates = talent_recommender.recommend_for_job_description(\n",
    "    job_description, \n",
    "    top_n=5\n",
    ")\n",
    "\n",
    "print(f\"\\nTop 5 candidates for the job description:\")\n",
    "for i, candidate in enumerate(matching_candidates, 1):\n",
    "    print(f\"\\n{i}. Match Score: {candidate['match_score']:.3f}\")\n",
    "    print(f\"   Level: {candidate['nivel_profissional']}\")\n",
    "    print(f\"   Area: {candidate['area_atuacao']}\")\n",
    "    print(f\"   Education: {candidate['nivel_academico']}\")\n",
    "    print(f\"   Preview: {candidate['conhecimentos_preview'][:150]}...\")\n",
    "\n",
    "# Performance metrics\n",
    "print(f\"\\n{'='*60}\")\n",
    "print(\"📊 SYSTEM PERFORMANCE METRICS\")\n",
    "print(\"=\"*60)\n",
    "print(f\"Total candidates indexed: {len(df_tfidf_combined):,}\")\n",
    "print(f\"Feature dimensions: {df_tfidf_combined.shape[1]:,}\")\n",
    "print(f\"Memory usage (TF-IDF matrix): ~{df_tfidf_combined.memory_usage(deep=True).sum() / 1024 / 1024:.1f} MB\")\n",
    "print(f\"Vocabulary size: {len(vectorizer.vocabulary_):,} unique terms\")\n",
    "\n",
    "# Save the system for future use\n",
    "print(f\"\\n💾 Saving recommendation system components...\")\n",
    "import joblib\n",
    "\n",
    "# Save vectorizer\n",
    "joblib.dump(vectorizer, '/home/lucas-nunes/workspace/Postech/challenges/5_data/data/gold/talent_vectorizer.pkl')\n",
    "print(\"✅ Vectorizer saved\")\n",
    "\n",
    "# Save candidate mapping\n",
    "candidate_mapping = {\n",
    "    'indices': df_tfidf_combined.index.tolist(),\n",
    "    'total_candidates': len(df_tfidf_combined)\n",
    "}\n",
    "import json\n",
    "with open('/home/lucas-nunes/workspace/Postech/challenges/5_data/data/gold/candidate_mapping.json', 'w') as f:\n",
    "    json.dump(candidate_mapping, f)\n",
    "print(\"✅ Candidate mapping saved\")\n",
    "\n",
    "print(f\"\\n🎉 Talent Recommendation System Successfully Implemented!\")\n",
    "print(\"Key improvements over the original approach:\")\n",
    "print(\"✅ Consistent vocabulary across all batches\")\n",
    "print(\"✅ Memory-efficient batch processing\") \n",
    "print(\"✅ Scalable similarity computation\")\n",
    "print(\"✅ Fast candidate matching and job description matching\")\n",
    "print(\"✅ Reusable system components saved\")"
   ]
  },
  {
   "cell_type": "code",
   "execution_count": null,
   "metadata": {
    "executionInfo": {
     "elapsed": 2,
     "status": "ok",
     "timestamp": 1758754684553,
     "user": {
      "displayName": "Lucas Ramos",
      "userId": "09216526235417022731"
     },
     "user_tz": 180
    },
    "id": "qDK1mMB68b3H"
   },
   "outputs": [],
   "source": [
    "# Calcula a matriz de similaridade do cosseno\n",
    "cosine_sim = linear_kernel(df_tfidf, df_tfidf)"
   ]
  },
  {
   "cell_type": "code",
   "execution_count": null,
   "metadata": {},
   "outputs": [
    {
     "data": {
      "text/plain": [
       "array([[1.        , 0.09650452, 0.32610838, ..., 0.04060293, 0.01643154,\n",
       "        0.03483504],\n",
       "       [0.09650452, 1.        , 0.20202968, ..., 0.07989363, 0.02201943,\n",
       "        0.07469299],\n",
       "       [0.32610838, 0.20202968, 1.        , ..., 0.14084257, 0.01658457,\n",
       "        0.09780909],\n",
       "       ...,\n",
       "       [0.04060293, 0.07989363, 0.14084257, ..., 1.        , 0.01148794,\n",
       "        0.03139983],\n",
       "       [0.01643154, 0.02201943, 0.01658457, ..., 0.01148794, 1.        ,\n",
       "        0.21295057],\n",
       "       [0.03483504, 0.07469299, 0.09780909, ..., 0.03139983, 0.21295057,\n",
       "        1.        ]], shape=(100, 100))"
      ]
     },
     "execution_count": 14,
     "metadata": {},
     "output_type": "execute_result"
    }
   ],
   "source": [
    "cosine_sim"
   ]
  }
 ],
 "metadata": {
  "colab": {
   "authorship_tag": "ABX9TyP1iAxAG+rF3gjjup3/OoGw",
   "mount_file_id": "1IAuuWZ8fn-3qJ5VJUv3jjkZ2VPSx3LbL",
   "provenance": []
  },
  "kernelspec": {
   "display_name": ".venv (3.12.3)",
   "language": "python",
   "name": "python3"
  },
  "language_info": {
   "codemirror_mode": {
    "name": "ipython",
    "version": 3
   },
   "file_extension": ".py",
   "mimetype": "text/x-python",
   "name": "python",
   "nbconvert_exporter": "python",
   "pygments_lexer": "ipython3",
   "version": "3.12.3"
  }
 },
 "nbformat": 4,
 "nbformat_minor": 0
}
